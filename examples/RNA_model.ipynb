{
 "metadata": {
  "name": "",
  "signature": "sha256:abfd29c44a242138ee210dd7e365d2087dc210cd50ca512e301e0a09b851946a"
 },
 "nbformat": 3,
 "nbformat_minor": 0,
 "worksheets": [
  {
   "cells": [
    {
     "cell_type": "code",
     "collapsed": false,
     "input": [
      "def rfam_uri(family_id):\n",
      "    return 'http://rfam.xfam.org/family/%s/alignment?acc=%s&format=fastau&download=0'%(family_id,family_id)\n",
      "\n",
      "def rfam_uri(family_id):\n",
      "    return '%s.fa'%(family_id)"
     ],
     "language": "python",
     "metadata": {},
     "outputs": [],
     "prompt_number": 1
    },
    {
     "cell_type": "code",
     "collapsed": false,
     "input": [
      "rfam_id = 'RF02275' #Hammerhead_HH9\n",
      "rfam_id = 'RF00871' #microRNA mir-689\n",
      "rfam_id = 'RF00005' #tRNA"
     ],
     "language": "python",
     "metadata": {},
     "outputs": [],
     "prompt_number": 2
    },
    {
     "cell_type": "code",
     "collapsed": false,
     "input": [
      "def pre_processor( data, **args):\n",
      "    from eden.converter.rna.rnashapes import rnashapes_to_eden\n",
      "    graphs = rnashapes_to_eden( data, **args )\n",
      "    return graphs"
     ],
     "language": "python",
     "metadata": {},
     "outputs": [],
     "prompt_number": 3
    },
    {
     "cell_type": "code",
     "collapsed": false,
     "input": [
      "from eden.graph import Vectorizer\n",
      "vectorizer = Vectorizer( complexity=0 )"
     ],
     "language": "python",
     "metadata": {},
     "outputs": [],
     "prompt_number": 4
    },
    {
     "cell_type": "code",
     "collapsed": false,
     "input": [
      "from sklearn.linear_model import SGDClassifier, Perceptron, PassiveAggressiveClassifier\n",
      "estimator = PassiveAggressiveClassifier(shuffle=True)\n",
      "estimator = Perceptron(class_weight='auto', shuffle=True)\n",
      "estimator = SGDClassifier(class_weight='auto', shuffle=True)"
     ],
     "language": "python",
     "metadata": {},
     "outputs": [],
     "prompt_number": 5
    },
    {
     "cell_type": "code",
     "collapsed": false,
     "input": [
      "from eden.model import EDeNModel\n",
      "model = EDeNModel( pre_processor, estimator=estimator )"
     ],
     "language": "python",
     "metadata": {},
     "outputs": [],
     "prompt_number": 6
    },
    {
     "cell_type": "code",
     "collapsed": false,
     "input": [
      "%%time\n",
      "#create iterable from files\n",
      "from eden.modifier.fasta import fasta_to_fasta, shuffle_modifier\n",
      "iterable_pos = fasta_to_fasta( rfam_uri( rfam_id ) )\n",
      "iterable_neg = fasta_to_fasta( rfam_uri( rfam_id ) , modifier=shuffle_modifier, times=2, order=2 )\n",
      "\n",
      "#copy for use both in optimization and estimate procedures\n",
      "from itertools import tee\n",
      "iterable_pos,iterable_pos_ = tee(iterable_pos)\n",
      "iterable_neg,iterable_neg_ = tee(iterable_neg)\n",
      "\n",
      "#optimize\n",
      "from numpy.random import randint\n",
      "from numpy.random import uniform\n",
      "n_iter=20\n",
      "pre_processor_parameters={'max_num':[1,2,3], 'shape_type':[5], 'energy_range':randint(5, 50, size=n_iter)}\n",
      "vectorizer_paramters={'complexity':[1]}\n",
      "estimator_parameters={'n_iter':randint(5, 100, size=n_iter),\n",
      "                      'penalty':['l1','l2','elasticnet'],\n",
      "                      'power_t':uniform(0.1, size=n_iter),\n",
      "                      'alpha': uniform(1e-08, 1e-03, size=n_iter),\n",
      "                      'eta0': uniform(1e-03, 10, size=n_iter),\n",
      "                      'learning_rate': [\"invscaling\", \"constant\", \"optimal\"]\n",
      "                      }\n",
      "model.optimize(iterable_pos_, iterable_neg_, n_iter=n_iter, cv=3,\n",
      "               pre_processor_parameters=pre_processor_parameters, \n",
      "               vectorizer_paramters=vectorizer_paramters, \n",
      "               estimator_parameters=estimator_parameters)\n",
      "\n",
      "#save\n",
      "model_fname='eden_model_%s'%rfam_id\n",
      "model.save(model_fname)\n",
      "\n",
      "#estimate\n",
      "model.estimate( iterable_pos, iterable_neg )"
     ],
     "language": "python",
     "metadata": {},
     "outputs": []
    },
    {
     "cell_type": "code",
     "collapsed": false,
     "input": [
      "model2 = EDeNModel()\n",
      "model2.load(model_fname)\n",
      "\n",
      "from eden.modifier.fasta import fasta_to_fasta\n",
      "iterable = fasta_to_fasta( rfam_uri( rfam_id ) )\n",
      "\n",
      "predictions= model2.decision_function( iterable )\n",
      "for n,i in enumerate(sorted(predictions)): print i"
     ],
     "language": "python",
     "metadata": {},
     "outputs": []
    },
    {
     "cell_type": "code",
     "collapsed": false,
     "input": [],
     "language": "python",
     "metadata": {},
     "outputs": []
    }
   ],
   "metadata": {}
  }
 ]
}