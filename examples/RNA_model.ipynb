{
 "metadata": {
  "name": "",
  "signature": "sha256:0f808f5f78bde5eb0f732accbecf0d599fb7f6ae55b82ecd03c764a53c5dde7a"
 },
 "nbformat": 3,
 "nbformat_minor": 0,
 "worksheets": [
  {
   "cells": [
    {
     "cell_type": "code",
     "collapsed": false,
     "input": [
      "def rfam_uri(family_id):\n",
      "    return 'http://rfam.xfam.org/family/%s/alignment?acc=%s&format=fastau&download=0'%(family_id,family_id)\n",
      "\n",
      "def rfam_uri(family_id):\n",
      "    return '%s.fa'%(family_id)"
     ],
     "language": "python",
     "metadata": {},
     "outputs": [],
     "prompt_number": 1
    },
    {
     "cell_type": "code",
     "collapsed": false,
     "input": [
      "rfam_id = 'RF02275' #Hammerhead_HH9\n",
      "rfam_id = 'RF00871' #microRNA mir-689\n",
      "rfam_id = 'RF00005' #tRNA"
     ],
     "language": "python",
     "metadata": {},
     "outputs": [],
     "prompt_number": 2
    },
    {
     "cell_type": "code",
     "collapsed": false,
     "input": [
      "def pre_processor( data, **args):\n",
      "    from eden.converter.rna.rnashapes import rnashapes_to_eden\n",
      "    graphs = rnashapes_to_eden( data, **args )\n",
      "    return graphs"
     ],
     "language": "python",
     "metadata": {},
     "outputs": [],
     "prompt_number": 3
    },
    {
     "cell_type": "code",
     "collapsed": false,
     "input": [
      "from eden.graph import Vectorizer\n",
      "vectorizer = Vectorizer( complexity=2 )"
     ],
     "language": "python",
     "metadata": {},
     "outputs": [],
     "prompt_number": 4
    },
    {
     "cell_type": "code",
     "collapsed": false,
     "input": [
      "from sklearn.linear_model import SGDClassifier, Perceptron, PassiveAggressiveClassifier\n",
      "estimator = PassiveAggressiveClassifier(shuffle=True)\n",
      "estimator = Perceptron(class_weight='auto', shuffle=True)\n",
      "estimator = SGDClassifier(class_weight='auto', shuffle=True)"
     ],
     "language": "python",
     "metadata": {},
     "outputs": [],
     "prompt_number": 5
    },
    {
     "cell_type": "code",
     "collapsed": false,
     "input": [
      "from eden.model import EDeNModel\n",
      "model = EDeNModel( pre_processor, estimator=estimator, vectorizer=vectorizer )"
     ],
     "language": "python",
     "metadata": {},
     "outputs": [],
     "prompt_number": 6
    },
    {
     "cell_type": "code",
     "collapsed": false,
     "input": [
      "%%time\n",
      "#create iterable from files\n",
      "from eden.modifier.fasta import fasta_to_fasta, shuffle_modifier\n",
      "from itertools import islice\n",
      "size=150\n",
      "iterable_pos = islice(fasta_to_fasta( rfam_uri( rfam_id ) ),size)\n",
      "iterable_neg = islice(fasta_to_fasta( rfam_uri( rfam_id ) , modifier=shuffle_modifier, times=2, order=2 ),size)\n",
      "\n",
      "#copy for use both in optimization and estimate procedures\n",
      "from itertools import tee\n",
      "iterable_pos,iterable_pos_ = tee(iterable_pos)\n",
      "iterable_neg,iterable_neg_ = tee(iterable_neg)\n",
      "\n",
      "#optimize\n",
      "from numpy.random import randint\n",
      "from numpy.random import uniform\n",
      "n_iter=50\n",
      "pre_processor_parameters={'max_num':[1,2,3], 'shape_type':[5], 'energy_range':randint(5, 50, size=n_iter)}\n",
      "pre_processor_parameters={'max_num':[3], 'shape_type':[5], 'energy_range':[35]}\n",
      "vectorizer_parameters={'complexity':[1]}\n",
      "estimator_parameters={'n_iter':randint(5, 100, size=n_iter),\n",
      "                      'penalty':['l1','l2','elasticnet'],\n",
      "                      'l1_ratio':uniform(0.1, size=n_iter), \n",
      "                      'loss':['hinge', 'log', 'modified_huber', 'squared_hinge', 'perceptron'],\n",
      "                      'power_t':uniform(0.1, size=n_iter),\n",
      "                      'alpha': uniform(1e-08, 1e-1, size=n_iter),\n",
      "                      'eta0': uniform(1e-03, 10, size=n_iter),\n",
      "                      'learning_rate': [\"invscaling\", \"constant\", \"optimal\"]\n",
      "                      }\n",
      "model.optimize(iterable_pos_, iterable_neg_, n_iter=n_iter, cv=3, n_jobs=1,\n",
      "               pre_processor_parameters=pre_processor_parameters, \n",
      "               vectorizer_parameters=vectorizer_parameters, \n",
      "               estimator_parameters=estimator_parameters)\n",
      "\n",
      "#save\n",
      "model_fname='eden_model_%s'%rfam_id\n",
      "model.save(model_fname)\n",
      "\n",
      "#estimate\n",
      "model.estimate( iterable_pos, iterable_neg )"
     ],
     "language": "python",
     "metadata": {},
     "outputs": [
      {
       "output_type": "stream",
       "stream": "stdout",
       "text": [
        "Iteration: 1/50\n",
        "Best score: 0.500000 (0.500000 +- 0.000000)\n",
        "Pre_processor: {'shape_type': 5, 'max_num': 3, 'energy_range': 35}\n",
        "Vectorizer: {'complexity': 1}\n",
        "Estimator: {'n_iter': 31, 'eta0': 7.9351441852371929, 'loss': 'hinge', 'l1_ratio': 0.46329540665220525, 'learning_rate': 'optimal', 'penalty': 'l1', 'power_t': 0.10427402415780508, 'alpha': 0.082904380243208994}\n",
        "Failed iteration 1"
       ]
      },
      {
       "output_type": "stream",
       "stream": "stdout",
       "text": [
        "\n",
        "Iteration: 2/50\n",
        "Best score: 0.500000 (0.500000 +- 0.000000)\n",
        "Pre_processor: {'shape_type': 5, 'max_num': 3, 'energy_range': 35}\n",
        "Vectorizer: {'complexity': 1}\n",
        "Estimator: {'n_iter': 54, 'eta0': 2.2997496636667623, 'loss': 'squared_hinge', 'l1_ratio': 0.20674413676757383, 'learning_rate': 'constant', 'penalty': 'elasticnet', 'power_t': 0.64001218376666269, 'alpha': 0.029208441347255251}\n",
        "Iteration: 3/50"
       ]
      },
      {
       "output_type": "stream",
       "stream": "stdout",
       "text": [
        "\n",
        "Best score: 0.500000 (0.500000 +- 0.000000)\n",
        "Pre_processor: {'shape_type': 5, 'max_num': 3, 'energy_range': 35}\n",
        "Vectorizer: {'complexity': 1}\n",
        "Estimator: {'n_iter': 25, 'eta0': 1.8802223986487161, 'loss': 'modified_huber', 'l1_ratio': 0.26818551409216718, 'learning_rate': 'constant', 'penalty': 'l1', 'power_t': 0.61710410765570689, 'alpha': 0.092019231106993338}\n",
        "Iteration: 4/50"
       ]
      },
      {
       "output_type": "stream",
       "stream": "stdout",
       "text": [
        "\n",
        "Best score: 0.815327 (0.878400 +- 0.063073)\n",
        "Pre_processor: {'shape_type': 5, 'max_num': 3, 'energy_range': 35}\n",
        "Vectorizer: {'complexity': 1}\n",
        "Estimator: {'n_iter': 62, 'eta0': 9.7716801525402595, 'loss': 'perceptron', 'l1_ratio': 0.84641300594039015, 'learning_rate': 'optimal', 'penalty': 'l2', 'power_t': 0.71568014396000623, 'alpha': 0.010694940636554792}\n",
        "Failed iteration 9"
       ]
      },
      {
       "output_type": "stream",
       "stream": "stdout",
       "text": [
        "\n",
        "Failed iteration 17"
       ]
      },
      {
       "output_type": "stream",
       "stream": "stdout",
       "text": [
        "\n",
        "Failed iteration 39"
       ]
      },
      {
       "output_type": "stream",
       "stream": "stdout",
       "text": [
        "\n",
        "Failed iteration 47"
       ]
      },
      {
       "output_type": "stream",
       "stream": "stdout",
       "text": [
        "\n",
        "Classifier:"
       ]
      },
      {
       "output_type": "stream",
       "stream": "stdout",
       "text": [
        "\n",
        "SGDClassifier(alpha=0.010694940636554792, class_weight='auto', epsilon=0.1,\n",
        "       eta0=9.7716801525402595, fit_intercept=True,\n",
        "       l1_ratio=0.84641300594039015, learning_rate='optimal',\n",
        "       loss='perceptron', n_iter=62, n_jobs=1, penalty='l2',\n",
        "       power_t=0.71568014396000623, random_state=None, shuffle=True,\n",
        "       verbose=0, warm_start=False)\n",
        "--------------------------------------------------------------------------------\n",
        "Predictive performance:\n",
        "            accuracy: 0.826 +- 0.154"
       ]
      },
      {
       "output_type": "stream",
       "stream": "stdout",
       "text": [
        "\n",
        "           precision: 0.923 +- 0.120"
       ]
      },
      {
       "output_type": "stream",
       "stream": "stdout",
       "text": [
        "\n",
        "              recall: 0.750 +- 0.205"
       ]
      },
      {
       "output_type": "stream",
       "stream": "stdout",
       "text": [
        "\n",
        "                  f1: 0.855 +- 0.150"
       ]
      },
      {
       "output_type": "stream",
       "stream": "stdout",
       "text": [
        "\n",
        "   average_precision: 0.953 +- 0.057"
       ]
      },
      {
       "output_type": "stream",
       "stream": "stdout",
       "text": [
        "\n",
        "             roc_auc: 0.919 +- 0.098"
       ]
      },
      {
       "output_type": "stream",
       "stream": "stdout",
       "text": [
        "\n",
        "--------------------------------------------------------------------------------\n",
        "CPU times: user 49.2 s, sys: 2.9 s, total: 52.1 s\n",
        "Wall time: 1min 4s\n"
       ]
      }
     ],
     "prompt_number": 9
    },
    {
     "cell_type": "code",
     "collapsed": false,
     "input": [
      "model2 = EDeNModel()\n",
      "model2.load(model_fname)\n",
      "\n",
      "from eden.modifier.fasta import fasta_to_fasta\n",
      "iterable = islice(fasta_to_fasta( rfam_uri( rfam_id ) ),size)\n",
      "\n",
      "predictions= model2.decision_function( iterable )\n",
      "for n,i in enumerate(sorted(predictions)): print i"
     ],
     "language": "python",
     "metadata": {},
     "outputs": [
      {
       "output_type": "stream",
       "stream": "stdout",
       "text": [
        "0.00622097940502\n",
        "0.00647502867012\n",
        "0.00698285571051\n",
        "0.00702770806213\n",
        "0.0071905015321\n",
        "0.00727273250164\n",
        "0.00737195924819\n",
        "0.00741510149687\n",
        "0.00750247382355\n",
        "0.0075565133551\n",
        "0.00770489388986\n",
        "0.00786563431551\n",
        "0.00793761055489\n",
        "0.00812708339433\n",
        "0.00813083270202\n",
        "0.00828681461002\n",
        "0.00829895624789\n",
        "0.0083148447295\n",
        "0.00841348938449\n",
        "0.00842821906666\n",
        "0.00845618316317\n",
        "0.00851885874688\n",
        "0.00887552352484\n",
        "0.00892988141699\n",
        "0.00894813080499\n",
        "0.00900942220792\n",
        "0.00905119042623\n",
        "0.00912919790922\n",
        "0.00933627182687\n",
        "0.00935072368215\n",
        "0.00938553669248\n",
        "0.009456893059\n",
        "0.00946990388661\n",
        "0.00951281205639\n",
        "0.0095199020565\n",
        "0.00964920308868\n",
        "0.00974737978569\n",
        "0.00975123621395\n",
        "0.00975248514958\n",
        "0.00988121118513\n",
        "0.00993542251391\n",
        "0.00996904348348\n",
        "0.0100018605132\n",
        "0.0100433420739\n",
        "0.0100657176325\n",
        "0.010100953196\n",
        "0.0101561895674\n",
        "0.0102440913399\n",
        "0.0102539678377\n",
        "0.0105015440498\n",
        "0.0105183644613\n",
        "0.0106168263838\n",
        "0.0109870780799\n",
        "0.0110566008098\n",
        "0.0111768117176\n",
        "0.0112595188167\n",
        "0.0112819976415\n",
        "0.0112891167116\n",
        "0.011444678785\n",
        "0.0116762602575\n",
        "0.0118234641417\n",
        "0.0119036778251\n",
        "0.0120601114642\n",
        "0.0120859092709\n",
        "0.0123822648978\n",
        "0.0126027693137\n",
        "0.0129210966688\n",
        "0.0129934282646\n",
        "0.0132283144241\n",
        "0.0135046303098\n",
        "0.0138558151345\n",
        "0.0140554997654\n",
        "0.0141434973876\n",
        "0.0155152016718\n",
        "0.0160018767274\n"
       ]
      }
     ],
     "prompt_number": 10
    }
   ],
   "metadata": {}
  }
 ]
}