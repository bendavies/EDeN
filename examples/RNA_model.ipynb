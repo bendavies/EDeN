{
 "metadata": {
  "name": "",
  "signature": "sha256:f52e81d64dd3679894f275680fc6c099880380e4b4c22f0570986cf3bdb637d3"
 },
 "nbformat": 3,
 "nbformat_minor": 0,
 "worksheets": [
  {
   "cells": [
    {
     "cell_type": "code",
     "collapsed": false,
     "input": [
      "def rfam_uri(family_id):\n",
      "    return 'http://rfam.xfam.org/family/%s/alignment?acc=%s&format=fastau&download=0'%(family_id,family_id)\n",
      "\n",
      "def rfam_uri(family_id):\n",
      "    return '%s.fa'%(family_id)"
     ],
     "language": "python",
     "metadata": {},
     "outputs": [],
     "prompt_number": 1
    },
    {
     "cell_type": "code",
     "collapsed": false,
     "input": [
      "rfam_id = 'RF02275' #Hammerhead_HH9\n",
      "rfam_id = 'RF00871' #microRNA mir-689\n",
      "rfam_id = 'RF00005' #tRNA"
     ],
     "language": "python",
     "metadata": {},
     "outputs": [],
     "prompt_number": 2
    },
    {
     "cell_type": "code",
     "collapsed": false,
     "input": [
      "def pre_processor( data, **args):\n",
      "    from eden.converter.rna.rnashapes import rnashapes_to_eden\n",
      "    graphs = rnashapes_to_eden( data, **args )\n",
      "    return graphs"
     ],
     "language": "python",
     "metadata": {},
     "outputs": [],
     "prompt_number": 3
    },
    {
     "cell_type": "code",
     "collapsed": false,
     "input": [
      "from eden.graph import Vectorizer\n",
      "vectorizer = Vectorizer( complexity=0 )"
     ],
     "language": "python",
     "metadata": {},
     "outputs": [],
     "prompt_number": 4
    },
    {
     "cell_type": "code",
     "collapsed": false,
     "input": [
      "from sklearn.linear_model import SGDClassifier, Perceptron, PassiveAggressiveClassifier\n",
      "estimator = PassiveAggressiveClassifier(shuffle=True)\n",
      "estimator = Perceptron(class_weight='auto', shuffle=True)\n",
      "estimator = SGDClassifier(class_weight='auto', shuffle=True)"
     ],
     "language": "python",
     "metadata": {},
     "outputs": [],
     "prompt_number": 5
    },
    {
     "cell_type": "code",
     "collapsed": false,
     "input": [
      "from eden.model import EDeNModel\n",
      "model = EDeNModel( pre_processor, estimator=estimator )"
     ],
     "language": "python",
     "metadata": {},
     "outputs": [],
     "prompt_number": 6
    },
    {
     "cell_type": "code",
     "collapsed": false,
     "input": [
      "%%time\n",
      "#create iterable from files\n",
      "from eden.modifier.fasta import fasta_to_fasta, shuffle_modifier\n",
      "iterable_pos = fasta_to_fasta( rfam_uri( rfam_id ) )\n",
      "iterable_neg = fasta_to_fasta( rfam_uri( rfam_id ) , modifier=shuffle_modifier, times=2, order=2 )\n",
      "\n",
      "#copy for use both in optimization and estimate procedures\n",
      "from itertools import tee\n",
      "iterable_pos,iterable_pos_ = tee(iterable_pos)\n",
      "iterable_neg,iterable_neg_ = tee(iterable_neg)\n",
      "\n",
      "#optimize\n",
      "from numpy.random import randint\n",
      "from numpy.random import uniform\n",
      "n_iter=20\n",
      "pre_processor_parameters={'max_num':[1,2,3], 'shape_type':[5], 'energy_range':randint(5, 50, size=n_iter)}\n",
      "vectorizer_paramters={'complexity':[1]}\n",
      "estimator_parameters={'n_iter':randint(5, 100, size=n_iter),\n",
      "                      'penalty':['l1','l2','elasticnet'],\n",
      "                      'power_t':uniform(0.1, size=n_iter),\n",
      "                      'alpha': uniform(1e-08, 1e-03, size=n_iter),\n",
      "                      'eta0': uniform(1e-03, 10, size=n_iter),\n",
      "                      'learning_rate': [\"invscaling\", \"constant\", \"optimal\"]\n",
      "                      }\n",
      "model.optimize(iterable_pos_, iterable_neg_, n_iter=n_iter, cv=3,\n",
      "               pre_processor_parameters=pre_processor_parameters, \n",
      "               vectorizer_paramters=vectorizer_paramters, \n",
      "               estimator_parameters=estimator_parameters)\n",
      "\n",
      "#save\n",
      "model_fname='eden_model_%s'%rfam_id\n",
      "model.save(model_fname)\n",
      "\n",
      "#estimate\n",
      "model.estimate( iterable_pos, iterable_neg )"
     ],
     "language": "python",
     "metadata": {},
     "outputs": [
      {
       "output_type": "stream",
       "stream": "stdout",
       "text": [
        "Iteration: 0\n",
        "Best score: 0.954505\n",
        "Pre_processor: {'shape_type': 5, 'max_num': 3, 'energy_range': 48}\n",
        "Vectorizer: {'complexity': 1}\n",
        "Estimator: {'n_iter': 37, 'eta0': 0.56982386763045434, 'learning_rate': 'invscaling', 'penalty': 'elasticnet', 'power_t': 0.47589848934906387, 'alpha': 0.00017801279613148508}\n",
        "Iteration: 1"
       ]
      },
      {
       "output_type": "stream",
       "stream": "stdout",
       "text": [
        "\n",
        "Best score: 0.965181\n",
        "Pre_processor: {'shape_type': 5, 'max_num': 2, 'energy_range': 40}\n",
        "Vectorizer: {'complexity': 1}\n",
        "Estimator: {'n_iter': 90, 'eta0': 3.0929137666556796, 'learning_rate': 'invscaling', 'penalty': 'l1', 'power_t': 0.48257472362880804, 'alpha': 0.00049946520958825554}\n",
        "Iteration: 4"
       ]
      },
      {
       "output_type": "stream",
       "stream": "stdout",
       "text": [
        "\n",
        "Best score: 0.975121\n",
        "Pre_processor: {'shape_type': 5, 'max_num': 3, 'energy_range': 40}\n",
        "Vectorizer: {'complexity': 1}\n",
        "Estimator: {'n_iter': 6, 'eta0': 7.9003485107918543, 'learning_rate': 'optimal', 'penalty': 'l2', 'power_t': 0.74386813797987472, 'alpha': 0.00059288590665230122}\n",
        "Iteration: 14"
       ]
      },
      {
       "output_type": "stream",
       "stream": "stdout",
       "text": [
        "\n",
        "Best score: 0.980543\n",
        "Pre_processor: {'shape_type': 5, 'max_num': 2, 'energy_range': 40}\n",
        "Vectorizer: {'complexity': 1}\n",
        "Estimator: {'n_iter': 67, 'eta0': 4.1657839131000856, 'learning_rate': 'optimal', 'penalty': 'elasticnet', 'power_t': 0.78723998231067926, 'alpha': 0.00020481155176381313}\n",
        "Iteration: 15"
       ]
      },
      {
       "output_type": "stream",
       "stream": "stdout",
       "text": [
        "\n",
        "Best score: 0.983694\n",
        "Pre_processor: {'shape_type': 5, 'max_num': 3, 'energy_range': 38}\n",
        "Vectorizer: {'complexity': 1}\n",
        "Estimator: {'n_iter': 37, 'eta0': 1.1704684643408443, 'learning_rate': 'constant', 'penalty': 'l1', 'power_t': 0.45008751734356534, 'alpha': 4.6040518166719413e-06}\n",
        "Classifier:"
       ]
      },
      {
       "output_type": "stream",
       "stream": "stdout",
       "text": [
        "\n",
        "SGDClassifier(alpha=4.6040518166719413e-06, class_weight='auto', epsilon=0.1,\n",
        "       eta0=1.1704684643408443, fit_intercept=True, l1_ratio=0.15,\n",
        "       learning_rate='constant', loss='hinge', n_iter=37, n_jobs=1,\n",
        "       penalty='l1', power_t=0.45008751734356534, random_state=None,\n",
        "       shuffle=True, verbose=0, warm_start=False)\n",
        "--------------------------------------------------------------------------------\n",
        "Predictive performance:\n",
        "            accuracy: 0.954 +- 0.017"
       ]
      },
      {
       "output_type": "stream",
       "stream": "stdout",
       "text": [
        "\n",
        "           precision: 0.916 +- 0.031"
       ]
      },
      {
       "output_type": "stream",
       "stream": "stdout",
       "text": [
        "\n",
        "              recall: 0.922 +- 0.042"
       ]
      },
      {
       "output_type": "stream",
       "stream": "stdout",
       "text": [
        "\n",
        "                  f1: 0.929 +- 0.028"
       ]
      },
      {
       "output_type": "stream",
       "stream": "stdout",
       "text": [
        "\n",
        "   average_precision: 0.978 +- 0.012"
       ]
      },
      {
       "output_type": "stream",
       "stream": "stdout",
       "text": [
        "\n",
        "             roc_auc: 0.988 +- 0.007"
       ]
      },
      {
       "output_type": "stream",
       "stream": "stdout",
       "text": [
        "\n",
        "--------------------------------------------------------------------------------\n",
        "CPU times: user 30min 53s, sys: 3min 53s, total: 34min 46s\n",
        "Wall time: 1h 2min\n"
       ]
      }
     ],
     "prompt_number": 17
    },
    {
     "cell_type": "code",
     "collapsed": false,
     "input": [
      "model2 = EDeNModel()\n",
      "model2.load(model_fname)\n",
      "\n",
      "from eden.modifier.fasta import fasta_to_fasta\n",
      "iterable = fasta_to_fasta( rfam_uri( rfam_id ) )\n",
      "\n",
      "predictions= model2.decision_function( iterable )\n",
      "for n,i in enumerate(sorted(predictions)): print i"
     ],
     "language": "python",
     "metadata": {},
     "outputs": []
    },
    {
     "cell_type": "code",
     "collapsed": false,
     "input": [],
     "language": "python",
     "metadata": {},
     "outputs": []
    }
   ],
   "metadata": {}
  }
 ]
}