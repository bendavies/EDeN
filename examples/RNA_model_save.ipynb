{
 "metadata": {
  "name": "",
  "signature": "sha256:ee9f45495ffdd2c15735a4f4cb62cefc1e93f098892fb077f09d1b1220273766"
 },
 "nbformat": 3,
 "nbformat_minor": 0,
 "worksheets": [
  {
   "cells": [
    {
     "cell_type": "code",
     "collapsed": false,
     "input": [
      "def rfam_uri(family_id):\n",
      "    return 'http://rfam.xfam.org/family/%s/alignment?acc=%s&format=fastau&download=0'%(family_id,family_id)\n",
      "\n",
      "def rfam_uri(family_id):\n",
      "    return '%s.fa'%(family_id)"
     ],
     "language": "python",
     "metadata": {},
     "outputs": [],
     "prompt_number": 1
    },
    {
     "cell_type": "code",
     "collapsed": false,
     "input": [
      "rfam_id = 'RF02275' #Hammerhead_HH9\n",
      "rfam_id = 'RF00871' #microRNA mir-689\n",
      "rfam_id = 'RF00005' #tRNA"
     ],
     "language": "python",
     "metadata": {},
     "outputs": [],
     "prompt_number": 2
    },
    {
     "cell_type": "code",
     "collapsed": false,
     "input": [
      "def pre_processor( data, **args):\n",
      "    from eden.converter.rna.rnashapes import rnashapes_to_eden\n",
      "    graphs = rnashapes_to_eden( data, **args )\n",
      "    return graphs"
     ],
     "language": "python",
     "metadata": {},
     "outputs": [],
     "prompt_number": 3
    },
    {
     "cell_type": "code",
     "collapsed": false,
     "input": [
      "from eden.graph import Vectorizer\n",
      "vectorizer = Vectorizer( complexity=0 )"
     ],
     "language": "python",
     "metadata": {},
     "outputs": [],
     "prompt_number": 4
    },
    {
     "cell_type": "code",
     "collapsed": false,
     "input": [
      "from sklearn.linear_model import SGDClassifier, Perceptron, PassiveAggressiveClassifier\n",
      "estimator = PassiveAggressiveClassifier(shuffle=True)\n",
      "estimator = Perceptron(class_weight='auto', shuffle=True)\n",
      "estimator = SGDClassifier(class_weight='auto', shuffle=True)"
     ],
     "language": "python",
     "metadata": {},
     "outputs": [],
     "prompt_number": 5
    },
    {
     "cell_type": "code",
     "collapsed": false,
     "input": [
      "from eden.model import EDeNModel\n",
      "model = EDeNModel( pre_processor, estimator=estimator )"
     ],
     "language": "python",
     "metadata": {},
     "outputs": []
    },
    {
     "cell_type": "code",
     "collapsed": false,
     "input": [
      "#%%time\n",
      "#create iterable from files\n",
      "from eden.modifier.fasta import fasta_to_fasta, shuffle_modifier\n",
      "iterable_pos = fasta_to_fasta( rfam_uri( rfam_id ) )\n",
      "iterable_neg = fasta_to_fasta( rfam_uri( rfam_id ) , modifier=shuffle_modifier, times=1, order=2 )\n",
      "\n",
      "#copy for use both in optimization and estimate procedures\n",
      "from itertools import tee\n",
      "iterable_pos,iterable_pos_ = tee(iterable_pos)\n",
      "iterable_neg,iterable_neg_ = tee(iterable_neg)\n",
      "\n",
      "#optimize\n",
      "pre_processor_parameters={'max_num':[1,2,3], 'shape_type':[5], 'energy_range':[15,25,35]}\n",
      "vectorizer_paramters={'complexity':[1,2,3]}\n",
      "estimator_parameters={'n_iter':[5,10,15,20],'penalty':['l1','l2','elasticnet']}\n",
      "model.optimize(iterable_pos_, iterable_neg_, n_iter=20, cv=3,\n",
      "               pre_processor_parameters=pre_processor_parameters, \n",
      "               vectorizer_paramters=vectorizer_paramters, \n",
      "               estimator_parameters=estimator_parameters)\n",
      "\n",
      "#estimate\n",
      "model.estimate( iterable_pos, iterable_neg )\n",
      "\n",
      "#save\n",
      "model_fname='eden_model_%s'%rfam_id\n",
      "model.save(model_fname)"
     ],
     "language": "python",
     "metadata": {},
     "outputs": []
    },
    {
     "cell_type": "code",
     "collapsed": false,
     "input": [
      "model2 = EDeNModel()\n",
      "model2.load(model_fname)\n",
      "\n",
      "from eden.modifier.fasta import fasta_to_fasta\n",
      "iterable = fasta_to_fasta( rfam_uri( rfam_id ) )\n",
      "\n",
      "predictions= model2.decision_function( iterable )\n",
      "for n,i in enumerate(sorted(predictions)): print i"
     ],
     "language": "python",
     "metadata": {},
     "outputs": []
    },
    {
     "cell_type": "code",
     "collapsed": false,
     "input": [],
     "language": "python",
     "metadata": {},
     "outputs": []
    }
   ],
   "metadata": {}
  }
 ]
}