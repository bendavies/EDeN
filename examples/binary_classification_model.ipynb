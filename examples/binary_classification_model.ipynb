{
 "metadata": {
  "name": "",
  "signature": "sha256:59cf1aab24984aff9f59ba95788a7cfddaecca26ff7da7d5cbd1f28db46977d8"
 },
 "nbformat": 3,
 "nbformat_minor": 0,
 "worksheets": [
  {
   "cells": [
    {
     "cell_type": "code",
     "collapsed": false,
     "input": [
      "def rfam_uri(family_id):\n",
      "    return 'http://rfam.xfam.org/family/%s/alignment?acc=%s&format=fastau&download=0'%(family_id,family_id)\n",
      "\n",
      "def rfam_uri(family_id):\n",
      "    return '%s.fa'%(family_id)"
     ],
     "language": "python",
     "metadata": {},
     "outputs": [],
     "prompt_number": 1
    },
    {
     "cell_type": "code",
     "collapsed": false,
     "input": [
      "rfam_id = 'RF02275' #Hammerhead_HH9\n",
      "rfam_id = 'RF00871' #microRNA mir-689\n",
      "rfam_id = 'RF00005' #tRNA"
     ],
     "language": "python",
     "metadata": {},
     "outputs": [],
     "prompt_number": 2
    },
    {
     "cell_type": "code",
     "collapsed": false,
     "input": [
      "def pre_processor( data, **args):\n",
      "    from eden.converter.rna.rnashapes import rnashapes_to_eden\n",
      "    graphs = rnashapes_to_eden( data, **args )\n",
      "    return graphs"
     ],
     "language": "python",
     "metadata": {},
     "outputs": [],
     "prompt_number": 3
    },
    {
     "cell_type": "code",
     "collapsed": false,
     "input": [
      "from eden.graph import Vectorizer\n",
      "vectorizer = Vectorizer( complexity=2 )"
     ],
     "language": "python",
     "metadata": {},
     "outputs": [],
     "prompt_number": 4
    },
    {
     "cell_type": "code",
     "collapsed": false,
     "input": [
      "from sklearn.linear_model import SGDClassifier, Perceptron, PassiveAggressiveClassifier\n",
      "estimator = PassiveAggressiveClassifier(shuffle=True)\n",
      "estimator = Perceptron(class_weight='auto', shuffle=True)\n",
      "estimator = SGDClassifier(class_weight='auto', shuffle=True)"
     ],
     "language": "python",
     "metadata": {},
     "outputs": [],
     "prompt_number": 5
    },
    {
     "cell_type": "code",
     "collapsed": false,
     "input": [
      "%%time\n",
      "#create iterable from files\n",
      "from eden.modifier.fasta import fasta_to_fasta, shuffle_modifier\n",
      "size=150\n",
      "#consier only first 'size' elements\n",
      "from itertools import islice\n",
      "iterable_pos = islice(fasta_to_fasta( rfam_uri( rfam_id ) ),size)\n",
      "iterable_neg = islice(fasta_to_fasta( rfam_uri( rfam_id ) , modifier=shuffle_modifier, times=2, order=2 ),size)\n",
      "\n",
      "#copy for use both in optimization and estimate procedures\n",
      "from itertools import tee\n",
      "iterable_pos,iterable_pos_ = tee(iterable_pos)\n",
      "iterable_neg,iterable_neg_ = tee(iterable_neg)\n",
      "\n",
      "#make predictive model\n",
      "from eden.model import BinaryClassificationModel\n",
      "model = BinaryClassificationModel( pre_processor, estimator=estimator, vectorizer=vectorizer )\n",
      "\n",
      "#optimize hyperparameters and fit model\n",
      "from numpy.random import randint\n",
      "from numpy.random import uniform\n",
      "n_iter=50\n",
      "pre_processor_parameters={'max_num':[1,2,3], 'shape_type':[5], 'energy_range':randint(5, 50, size=n_iter)}\n",
      "pre_processor_parameters={'max_num':[3], 'shape_type':[5], 'energy_range':[35]}\n",
      "vectorizer_parameters={'complexity':[1]}\n",
      "estimator_parameters={'n_iter':randint(5, 100, size=n_iter),\n",
      "                      'penalty':['l1','l2','elasticnet'],\n",
      "                      'l1_ratio':uniform(0.1, size=n_iter), \n",
      "                      'loss':['hinge', 'log', 'modified_huber', 'squared_hinge', 'perceptron'],\n",
      "                      'power_t':uniform(0.1, size=n_iter),\n",
      "                      'alpha': [10**x for x in range(-8,4,1)],\n",
      "                      'eta0': [10**x for x in range(-3,2,1)],\n",
      "                      'learning_rate': [\"invscaling\", \"constant\", \"optimal\"]\n",
      "                      }\n",
      "model.optimize(iterable_pos_, iterable_neg_, n_iter=n_iter, cv=3, n_jobs=1, verbose=True,\n",
      "               pre_processor_parameters=pre_processor_parameters, \n",
      "               vectorizer_parameters=vectorizer_parameters, \n",
      "               estimator_parameters=estimator_parameters)\n",
      "\n",
      "#save model\n",
      "model_fname='eden_model_%s'%rfam_id\n",
      "model.save(model_fname)\n",
      "\n",
      "#estimate predictive performance\n",
      "model.estimate( iterable_pos, iterable_neg )"
     ],
     "language": "python",
     "metadata": {},
     "outputs": [
      {
       "output_type": "stream",
       "stream": "stdout",
       "text": [
        "\n",
        "Iteration: 1/50 (at 10.4 sec)\n",
        "Best score: 0.795384 (0.846400 +- 0.051016)\n",
        "Pre_processor: {'shape_type': 5, 'max_num': 3, 'energy_range': 35}\n",
        "Vectorizer: {'complexity': 1}\n",
        "Estimator: {'n_iter': 15, 'eta0': 1, 'loss': 'hinge', 'l1_ratio': 0.6142166255742243, 'learning_rate': 'constant', 'penalty': 'l2', 'power_t': 0.73178023980598694, 'alpha': 1e-06}\n",
        "\n"
       ]
      },
      {
       "output_type": "stream",
       "stream": "stdout",
       "text": [
        "Iteration: 3/50 (at 11.4 sec)\n",
        "Best score: 0.814748 (0.857067 +- 0.042319)\n",
        "Pre_processor: {'shape_type': 5, 'max_num': 3, 'energy_range': 35}\n",
        "Vectorizer: {'complexity': 1}\n",
        "Estimator: {'n_iter': 88, 'eta0': 1, 'loss': 'log', 'l1_ratio': 0.10692703365774281, 'learning_rate': 'constant', 'penalty': 'l2', 'power_t': 0.35649252182868141, 'alpha': 1e-08}\n",
        "\n"
       ]
      },
      {
       "output_type": "stream",
       "stream": "stdout",
       "text": [
        "Iteration: 8/50 (at 13.7 sec)\n",
        "Best score: 0.836976 (0.855467 +- 0.018491)\n",
        "Pre_processor: {'shape_type': 5, 'max_num': 3, 'energy_range': 35}\n",
        "Vectorizer: {'complexity': 1}\n",
        "Estimator: {'n_iter': 57, 'eta0': 1, 'loss': 'squared_hinge', 'l1_ratio': 0.39569168743916994, 'learning_rate': 'constant', 'penalty': 'l1', 'power_t': 0.46184456945548757, 'alpha': 1e-08}\n",
        "Failed iteration: 27/50 (at 21.4 sec)"
       ]
      },
      {
       "output_type": "stream",
       "stream": "stdout",
       "text": [
        "\n",
        "Failed iteration: 32/50 (at 36.4 sec)"
       ]
      },
      {
       "output_type": "stream",
       "stream": "stdout",
       "text": [
        "\n",
        "Classifier:"
       ]
      },
      {
       "output_type": "stream",
       "stream": "stdout",
       "text": [
        "\n",
        "SGDClassifier(alpha=1e-08, class_weight='auto', epsilon=0.1, eta0=1,\n",
        "       fit_intercept=True, l1_ratio=0.39569168743916994,\n",
        "       learning_rate='constant', loss='squared_hinge', n_iter=57, n_jobs=1,\n",
        "       penalty='l1', power_t=0.46184456945548757, random_state=None,\n",
        "       shuffle=True, verbose=0, warm_start=False)\n",
        "--------------------------------------------------------------------------------\n",
        "Predictive performance:\n",
        "            accuracy: 0.832 +- 0.057"
       ]
      },
      {
       "output_type": "stream",
       "stream": "stdout",
       "text": [
        "\n",
        "           precision: 0.791 +- 0.066"
       ]
      },
      {
       "output_type": "stream",
       "stream": "stdout",
       "text": [
        "\n",
        "              recall: 0.811 +- 0.144"
       ]
      },
      {
       "output_type": "stream",
       "stream": "stdout",
       "text": [
        "\n",
        "                  f1: 0.810 +- 0.076"
       ]
      },
      {
       "output_type": "stream",
       "stream": "stdout",
       "text": [
        "\n",
        "   average_precision: 0.914 +- 0.051"
       ]
      },
      {
       "output_type": "stream",
       "stream": "stdout",
       "text": [
        "\n",
        "             roc_auc: 0.917 +- 0.065"
       ]
      },
      {
       "output_type": "stream",
       "stream": "stdout",
       "text": [
        "\n",
        "--------------------------------------------------------------------------------\n",
        "CPU times: user 1min 6s, sys: 2.86 s, total: 1min 9s\n",
        "Wall time: 1min 21s\n"
       ]
      }
     ],
     "prompt_number": 6
    },
    {
     "cell_type": "code",
     "collapsed": false,
     "input": [
      "from eden.model import BinaryClassificationModel\n",
      "\n",
      "model2 = BinaryClassificationModel()\n",
      "model2.load(model_fname)\n",
      "\n",
      "from eden.modifier.fasta import fasta_to_fasta\n",
      "iterable = islice(fasta_to_fasta( rfam_uri( rfam_id ) ),size)\n",
      "\n",
      "predictions= model2.decision_function( iterable )\n",
      "for n,i in enumerate(sorted(predictions)): print i"
     ],
     "language": "python",
     "metadata": {},
     "outputs": [
      {
       "output_type": "stream",
       "stream": "stdout",
       "text": [
        "1.02788403197\n",
        "1.07993436951\n",
        "1.09534587542\n",
        "1.1115439615\n",
        "1.12025412307\n",
        "1.13604987367\n",
        "1.14760844849\n",
        "1.23747300789\n",
        "1.27998120585\n",
        "1.33002612101\n",
        "1.3438088281\n",
        "1.41884760692\n",
        "1.44382775491\n",
        "1.47414683081\n",
        "1.56253915533\n",
        "1.58226448674\n",
        "1.59934246271\n",
        "1.65264831438\n",
        "1.65418745022\n",
        "1.68616063528\n",
        "1.6984319113\n",
        "1.72696729031\n",
        "1.78459961325\n",
        "1.80363281987\n",
        "1.80902911067\n",
        "1.81936092576\n",
        "1.87362659247\n",
        "1.87553637842\n",
        "1.90176889197\n",
        "1.96451857575\n",
        "2.00854417128\n",
        "2.0232004171\n",
        "2.05271193022\n",
        "2.08304703812\n",
        "2.08648347736\n",
        "2.09827124846\n",
        "2.11188673501\n",
        "2.12738029372\n",
        "2.17593133112\n",
        "2.21575881146\n",
        "2.33819343421\n",
        "2.36558628541\n",
        "2.37250664783\n",
        "2.42791783259\n",
        "2.52204611442\n",
        "2.56963256635\n",
        "2.57062524882\n",
        "2.74484909539\n",
        "2.80896008144\n",
        "2.8159973953\n",
        "2.84183571734\n",
        "2.88433044927\n",
        "2.98595294119\n",
        "3.02221407625\n",
        "3.02882892261\n",
        "3.10036602789\n",
        "3.13398292628\n",
        "3.13662299323\n",
        "3.21014881177\n",
        "3.29437996417\n",
        "3.35297079879\n",
        "3.36094886894\n",
        "3.38035967045\n",
        "3.48103967563\n",
        "3.51365589552\n",
        "3.51713034761\n",
        "3.58913581729\n",
        "3.60719366953\n",
        "3.61341341177\n",
        "3.64193622079\n",
        "3.76923335523\n",
        "3.9888375368\n",
        "4.17935356166\n",
        "4.60096784801\n",
        "4.66289246235\n"
       ]
      }
     ],
     "prompt_number": 7
    }
   ],
   "metadata": {}
  }
 ]
}