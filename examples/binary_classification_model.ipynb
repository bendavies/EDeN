{
 "metadata": {
  "name": "",
  "signature": "sha256:ecb366e655f0302b15c3f5b568739d5ccc1649f59409b47ce447c574f0132bdf"
 },
 "nbformat": 3,
 "nbformat_minor": 0,
 "worksheets": [
  {
   "cells": [
    {
     "cell_type": "code",
     "collapsed": false,
     "input": [
      "def rfam_uri(family_id):\n",
      "    return 'http://rfam.xfam.org/family/%s/alignment?acc=%s&format=fastau&download=0'%(family_id,family_id)\n",
      "\n",
      "def rfam_uri(family_id):\n",
      "    return '%s.fa'%(family_id)"
     ],
     "language": "python",
     "metadata": {},
     "outputs": [],
     "prompt_number": 1
    },
    {
     "cell_type": "code",
     "collapsed": false,
     "input": [
      "rfam_id = 'RF02275' #Hammerhead_HH9\n",
      "rfam_id = 'RF00871' #microRNA mir-689\n",
      "rfam_id = 'RF00005' #tRNA"
     ],
     "language": "python",
     "metadata": {},
     "outputs": [],
     "prompt_number": 2
    },
    {
     "cell_type": "code",
     "collapsed": false,
     "input": [
      "def pre_processor( data, **args):\n",
      "    from eden.converter.rna.rnafold import rnafold_to_eden\n",
      "    graphs = rnafold_to_eden( data, **args )\n",
      "    return graphs"
     ],
     "language": "python",
     "metadata": {},
     "outputs": [],
     "prompt_number": 3
    },
    {
     "cell_type": "code",
     "collapsed": false,
     "input": [
      "def pre_processor( data, **args):\n",
      "    from eden.converter.rna.rnashapes import rnashapes_to_eden\n",
      "    graphs = rnashapes_to_eden( data, data_type='seq', **args )\n",
      "    return graphs"
     ],
     "language": "python",
     "metadata": {},
     "outputs": [],
     "prompt_number": 4
    },
    {
     "cell_type": "code",
     "collapsed": false,
     "input": [
      "from eden.graph import Vectorizer\n",
      "vectorizer = Vectorizer()"
     ],
     "language": "python",
     "metadata": {},
     "outputs": [],
     "prompt_number": 5
    },
    {
     "cell_type": "code",
     "collapsed": false,
     "input": [
      "from sklearn.linear_model import SGDClassifier, Perceptron, PassiveAggressiveClassifier\n",
      "estimator = PassiveAggressiveClassifier(shuffle=True)\n",
      "estimator = Perceptron(class_weight='auto', shuffle=True)\n",
      "estimator = SGDClassifier(class_weight='auto', shuffle=True)"
     ],
     "language": "python",
     "metadata": {},
     "outputs": [],
     "prompt_number": 6
    },
    {
     "cell_type": "markdown",
     "metadata": {},
     "source": [
      "#BinaryClassificationModel"
     ]
    },
    {
     "cell_type": "code",
     "collapsed": false,
     "input": [
      "#create iterable from files\n",
      "from eden.modifier.fasta import fasta_to_fasta, shuffle_modifier\n",
      "iterable_pos = fasta_to_fasta( rfam_uri( rfam_id ) )\n",
      "iterable_neg = fasta_to_fasta( rfam_uri( rfam_id ) , modifier=shuffle_modifier, times=1, order=2 )\n",
      "\n",
      "from eden.converter.fasta import fasta_to_seq\n",
      "iterable_pos = fasta_to_seq(iterable_pos)\n",
      "iterable_neg = fasta_to_seq(iterable_neg)\n",
      "\n",
      "size=100\n",
      "#consier only first 'size' elements\n",
      "from itertools import islice\n",
      "iterable_pos = islice(iterable_pos,size)\n",
      "iterable_neg = islice(iterable_neg,size)\n",
      "\n",
      "train_test_split=0.7\n",
      "#split train/test\n",
      "from eden.util import random_bipartition_iter\n",
      "iterable_pos_train, iterable_pos_test = random_bipartition_iter(iterable_pos, relative_size=train_test_split)\n",
      "iterable_neg_train, iterable_neg_test = random_bipartition_iter(iterable_neg, relative_size=train_test_split)"
     ],
     "language": "python",
     "metadata": {},
     "outputs": [],
     "prompt_number": 10
    },
    {
     "cell_type": "code",
     "collapsed": false,
     "input": [
      "%%time\n",
      "#make predictive model\n",
      "from eden.model import BinaryClassificationModel\n",
      "model = BinaryClassificationModel( pre_processor, estimator=estimator, vectorizer=vectorizer )\n",
      "\n",
      "#optimize hyperparameters and fit model\n",
      "from numpy.random import randint\n",
      "from numpy.random import uniform\n",
      "n_iter=40\n",
      "pre_processor_parameters={'max_num':[1,2,3], \n",
      "                          'shape_type':[4,5], \n",
      "                          'energy_range':randint(10, 40, size=n_iter)}\n",
      "pre_processor_parameters={'max_num':[3], \n",
      "                          'shape_type':[5], \n",
      "                          'energy_range':[10, 35]}\n",
      "\n",
      "vectorizer_parameters={'complexity':[1]}\n",
      "\n",
      "estimator_parameters={'n_iter':randint(5, 100, size=n_iter),\n",
      "                      'penalty':['l1','l2','elasticnet'],\n",
      "                      'l1_ratio':uniform(0.1,0.9, size=n_iter), \n",
      "                      'loss':['hinge', 'log', 'modified_huber', 'squared_hinge', 'perceptron'],\n",
      "                      'power_t':uniform(0.1, size=n_iter),\n",
      "                      'alpha': [10**x for x in range(-8,4)],\n",
      "                      'eta0': [10**x for x in range(-4,-1)],\n",
      "                      'learning_rate': [\"invscaling\", \"constant\", \"optimal\"]}\n",
      "\n",
      "model.optimize(iterable_pos_train, iterable_neg_train, n_iter=n_iter, cv=3, n_jobs=1, verbose=True,\n",
      "               pre_processor_parameters=pre_processor_parameters, \n",
      "               vectorizer_parameters=vectorizer_parameters, \n",
      "               estimator_parameters=estimator_parameters)\n",
      "\n",
      "#save model\n",
      "model_fname='eden_model_%s'%rfam_id\n",
      "model.save(model_fname)"
     ],
     "language": "python",
     "metadata": {},
     "outputs": [
      {
       "output_type": "stream",
       "stream": "stdout",
       "text": [
        "Paramters range\n",
        "Pre_processor:\n",
        "{'energy_range': [10, 35], 'max_num': [3], 'shape_type': [5]}\n",
        "Vectorizer:\n",
        "{'complexity': [1]}\n",
        "Estimator:\n",
        "{'alpha': [1e-08,\n",
        "           1e-07,\n",
        "           1e-06,\n",
        "           1e-05,\n",
        "           0.0001,\n",
        "           0.001,\n",
        "           0.01,\n",
        "           0.1,\n",
        "           1,\n",
        "           10,\n",
        "           100,\n",
        "           1000],\n",
        " 'eta0': [0.001, 0.01, 0.1, 1, 10],\n",
        " 'l1_ratio': array([ 0.29522549,  0.54890426,  0.92474508,  0.16577353,  0.57433782,\n",
        "        0.66180147,  0.32477288,  0.51860554,  0.92546512,  0.67320407,\n",
        "        0.5667596 ,  0.56717833,  0.37541813,  0.62386973,  0.37450324,\n",
        "        0.25727182,  0.77522899,  0.41217972,  0.27096397,  0.77768132,\n",
        "        0.67783619,  0.91158833,  0.74019969,  0.93214209,  0.62528045,\n",
        "        0.13880316,  0.56452605,  0.64909154,  0.98817849,  0.31388971,\n",
        "        0.80358404,  0.48776032,  0.33759943,  0.81417173,  0.46604465,\n",
        "        0.64950559,  0.47398999,  0.36486731,  0.95963466,  0.86965091]),\n",
        " 'learning_rate': ['invscaling', 'constant', 'optimal'],\n",
        " 'loss': ['hinge', 'log', 'modified_huber', 'squared_hinge', 'perceptron'],\n",
        " 'n_iter': array([29, 20, 68, 64, 45, 92, 20, 26, 10, 69, 74, 19, 51,  5, 56, 60, 11,\n",
        "       92, 66, 93,  7, 66, 99, 91, 21, 88, 63, 69, 32, 55, 49, 86, 99,  5,\n",
        "       37, 68, 55, 83, 61, 25]),\n",
        " 'penalty': ['l1', 'l2', 'elasticnet'],\n",
        " 'power_t': array([ 0.73007447,  0.30796672,  0.5221468 ,  0.2280723 ,  0.4705762 ,\n",
        "        0.94914352,  0.48420055,  0.15643433,  0.59597435,  0.38939386,\n",
        "        0.41709365,  0.31037121,  0.80013237,  0.92371096,  0.16402326,\n",
        "        0.16830997,  0.47166316,  0.37125603,  0.49687716,  0.93726983,\n",
        "        0.25448314,  0.92776801,  0.73298916,  0.7227895 ,  0.2345954 ,\n",
        "        0.60521118,  0.62828784,  0.92628432,  0.27597701,  0.98299037,\n",
        "        0.93552493,  0.29243414,  0.43663983,  0.30988763,  0.63839656,\n",
        "        0.46101679,  0.26706321,  0.55983945,  0.16523832,  0.54422491])}\n",
        "\n"
       ]
      },
      {
       "output_type": "stream",
       "stream": "stdout",
       "text": [
        "Iteration: 1/40 (at 6.0 sec)\n",
        "Best score: 0.500000 (0.500000 +- 0.000000)\n",
        "Pre_processor:\n",
        "{'energy_range': 10, 'max_num': 3, 'shape_type': 5}\n",
        "Vectorizer:\n",
        "{'complexity': 1}\n",
        "Estimator:\n",
        "{'alpha': 100,\n",
        " 'eta0': 0.1,\n",
        " 'l1_ratio': 0.56717832995962147,\n",
        " 'learning_rate': 'invscaling',\n",
        " 'loss': 'squared_hinge',\n",
        " 'n_iter': 20,\n",
        " 'penalty': 'l1',\n",
        " 'power_t': 0.16830997200885639}\n",
        "Instances: 140 ; Features: 1048577 with an avg of 151 features per instance\n",
        "class: 1 count:70 (0.50)\tclass: -1 count:70 (0.50)\t\n",
        "\n"
       ]
      },
      {
       "output_type": "stream",
       "stream": "stdout",
       "text": [
        "Iteration: 2/40 (at 16.2 sec)\n",
        "Best score: 0.882312 (0.920295 +- 0.037983)\n",
        "Pre_processor:\n",
        "{'energy_range': 35, 'max_num': 3, 'shape_type': 5}\n",
        "Vectorizer:\n",
        "{'complexity': 1}\n",
        "Estimator:\n",
        "{'alpha': 0.0001,\n",
        " 'eta0': 10,\n",
        " 'l1_ratio': 0.67320406980043712,\n",
        " 'learning_rate': 'invscaling',\n",
        " 'loss': 'log',\n",
        " 'n_iter': 60,\n",
        " 'penalty': 'l2',\n",
        " 'power_t': 0.60521118270975305}\n",
        "Instances: 140 ; Features: 1048577 with an avg of 194 features per instance\n",
        "class: 1 count:70 (0.50)\tclass: -1 count:70 (0.50)\t\n",
        "Failed iteration: 10/40 (at 72.2 sec)"
       ]
      },
      {
       "output_type": "stream",
       "stream": "stdout",
       "text": [
        "\n",
        "Inappropriate argument value (of correct type).\n",
        "Floating-point under-/overflow occurred at epoch #4. Scaling input data with StandardScaler or MinMaxScaler might help.\n",
        "Failed with the following setting:\n",
        "Pre_processor:\n",
        "{'energy_range': 10, 'max_num': 3, 'shape_type': 5}\n",
        "Vectorizer:\n",
        "{'complexity': 1}\n",
        "Estimator:\n",
        "{'alpha': 1e-06,\n",
        " 'eta0': 10,\n",
        " 'l1_ratio': 0.62528044712566622,\n",
        " 'learning_rate': 'optimal',\n",
        " 'loss': 'squared_hinge',\n",
        " 'n_iter': 26,\n",
        " 'penalty': 'elasticnet',\n",
        " 'power_t': 0.93552493043979967}\n",
        "...continuing\n",
        "\n"
       ]
      },
      {
       "output_type": "stream",
       "stream": "stdout",
       "text": [
        "Iteration: 16/40 (at 120.7 sec)\n",
        "Best score: 0.888513 (0.920012 +- 0.031499)\n",
        "Pre_processor:\n",
        "{'energy_range': 35, 'max_num': 3, 'shape_type': 5}\n",
        "Vectorizer:\n",
        "{'complexity': 1}\n",
        "Estimator:\n",
        "{'alpha': 1e-05,\n",
        " 'eta0': 10,\n",
        " 'l1_ratio': 0.33759943256146635,\n",
        " 'learning_rate': 'constant',\n",
        " 'loss': 'log',\n",
        " 'n_iter': 99,\n",
        " 'penalty': 'l2',\n",
        " 'power_t': 0.23459539537348512}\n",
        "Instances: 140 ; Features: 1048577 with an avg of 194 features per instance\n",
        "class: 1 count:70 (0.50)\tclass: -1 count:70 (0.50)\t\n",
        "Failed iteration: 25/40 (at 194.8 sec)"
       ]
      },
      {
       "output_type": "stream",
       "stream": "stdout",
       "text": [
        "\n",
        "Inappropriate argument value (of correct type).\n",
        "Floating-point under-/overflow occurred at epoch #1. Scaling input data with StandardScaler or MinMaxScaler might help.\n",
        "Failed with the following setting:\n",
        "Pre_processor:\n",
        "{'energy_range': 10, 'max_num': 3, 'shape_type': 5}\n",
        "Vectorizer:\n",
        "{'complexity': 1}\n",
        "Estimator:\n",
        "{'alpha': 1000,\n",
        " 'eta0': 10,\n",
        " 'l1_ratio': 0.41217972144132442,\n",
        " 'learning_rate': 'constant',\n",
        " 'loss': 'perceptron',\n",
        " 'n_iter': 88,\n",
        " 'penalty': 'l2',\n",
        " 'power_t': 0.31037121429709369}\n",
        "...continuing\n",
        "Failed iteration: 31/40 (at 241.6 sec)"
       ]
      },
      {
       "output_type": "stream",
       "stream": "stdout",
       "text": [
        "\n",
        "Inappropriate argument value (of correct type).\n",
        "Floating-point under-/overflow occurred at epoch #5. Scaling input data with StandardScaler or MinMaxScaler might help.\n",
        "Failed with the following setting:\n",
        "Pre_processor:\n",
        "{'energy_range': 35, 'max_num': 3, 'shape_type': 5}\n",
        "Vectorizer:\n",
        "{'complexity': 1}\n",
        "Estimator:\n",
        "{'alpha': 1e-06,\n",
        " 'eta0': 0.1,\n",
        " 'l1_ratio': 0.86965091304889242,\n",
        " 'learning_rate': 'optimal',\n",
        " 'loss': 'squared_hinge',\n",
        " 'n_iter': 37,\n",
        " 'penalty': 'elasticnet',\n",
        " 'power_t': 0.93726982964885353}\n",
        "...continuing\n",
        "\n"
       ]
      },
      {
       "output_type": "stream",
       "stream": "stdout",
       "text": [
        "Iteration: 32/40 (at 251.5 sec)\n",
        "Best score: 0.889847 (0.919961 +- 0.030113)\n",
        "Pre_processor:\n",
        "{'energy_range': 35, 'max_num': 3, 'shape_type': 5}\n",
        "Vectorizer:\n",
        "{'complexity': 1}\n",
        "Estimator:\n",
        "{'alpha': 0.001,\n",
        " 'eta0': 0.1,\n",
        " 'l1_ratio': 0.77522898792191364,\n",
        " 'learning_rate': 'optimal',\n",
        " 'loss': 'hinge',\n",
        " 'n_iter': 29,\n",
        " 'penalty': 'l2',\n",
        " 'power_t': 0.60521118270975305}\n",
        "Instances: 140 ; Features: 1048577 with an avg of 194 features per instance\n",
        "class: 1 count:70 (0.50)\tclass: -1 count:70 (0.50)\t\n",
        "Failed iteration: 33/40 (at 257.1 sec)"
       ]
      },
      {
       "output_type": "stream",
       "stream": "stdout",
       "text": [
        "\n",
        "Inappropriate argument value (of correct type).\n",
        "Floating-point under-/overflow occurred at epoch #7. Scaling input data with StandardScaler or MinMaxScaler might help.\n",
        "Failed with the following setting:\n",
        "Pre_processor:\n",
        "{'energy_range': 10, 'max_num': 3, 'shape_type': 5}\n",
        "Vectorizer:\n",
        "{'complexity': 1}\n",
        "Estimator:\n",
        "{'alpha': 1e-06,\n",
        " 'eta0': 10,\n",
        " 'l1_ratio': 0.9881784867079042,\n",
        " 'learning_rate': 'constant',\n",
        " 'loss': 'squared_hinge',\n",
        " 'n_iter': 69,\n",
        " 'penalty': 'elasticnet',\n",
        " 'power_t': 0.30796671952037857}\n",
        "...continuing\n",
        "CPU times: user 2min 57s, sys: 17.8 s, total: 3min 15s"
       ]
      },
      {
       "output_type": "stream",
       "stream": "stdout",
       "text": [
        "\n",
        "Wall time: 5min 17s\n"
       ]
      }
     ],
     "prompt_number": 11
    },
    {
     "cell_type": "code",
     "collapsed": false,
     "input": [
      "%%time\n",
      "#estimate predictive performance\n",
      "model.estimate( iterable_pos_test, iterable_neg_test, cv=5 )"
     ],
     "language": "python",
     "metadata": {},
     "outputs": [
      {
       "output_type": "stream",
       "stream": "stdout",
       "text": [
        "Classifier:\n",
        "SGDClassifier(alpha=0.001, class_weight='auto', epsilon=0.1, eta0=0.1,\n",
        "       fit_intercept=True, l1_ratio=0.77522898792191364,\n",
        "       learning_rate='optimal', loss='hinge', n_iter=29, n_jobs=1,\n",
        "       penalty='l2', power_t=0.60521118270975305, random_state=None,\n",
        "       shuffle=True, verbose=0, warm_start=False)\n",
        "--------------------------------------------------------------------------------\n",
        "Predictive performance:\n",
        "            accuracy: 0.833 +- 0.091"
       ]
      },
      {
       "output_type": "stream",
       "stream": "stdout",
       "text": [
        "\n",
        "           precision: 0.905 +- 0.078"
       ]
      },
      {
       "output_type": "stream",
       "stream": "stdout",
       "text": [
        "\n",
        "              recall: 0.767 +- 0.226"
       ]
      },
      {
       "output_type": "stream",
       "stream": "stdout",
       "text": [
        "\n",
        "                  f1: 0.875 +- 0.049"
       ]
      },
      {
       "output_type": "stream",
       "stream": "stdout",
       "text": [
        "\n",
        "   average_precision: 0.954 +- 0.034"
       ]
      },
      {
       "output_type": "stream",
       "stream": "stdout",
       "text": [
        "\n",
        "             roc_auc: 0.939 +- 0.054"
       ]
      },
      {
       "output_type": "stream",
       "stream": "stdout",
       "text": [
        "\n",
        "--------------------------------------------------------------------------------\n",
        "CPU times: user 4.67 s, sys: 533 ms, total: 5.2 s\n",
        "Wall time: 7 s\n"
       ]
      }
     ],
     "prompt_number": 12
    },
    {
     "cell_type": "markdown",
     "metadata": {},
     "source": [
      "Models can be reloaded from disk"
     ]
    },
    {
     "cell_type": "code",
     "collapsed": false,
     "input": [
      "from eden.model import BinaryClassificationModel\n",
      "\n",
      "model2 = BinaryClassificationModel()\n",
      "model2.load(model_fname)\n",
      "\n",
      "#create iterable from files\n",
      "from eden.modifier.fasta import fasta_to_fasta, shuffle_modifier\n",
      "iterable_pos = fasta_to_fasta( rfam_uri( rfam_id ) )\n",
      "\n",
      "from eden.converter.fasta import fasta_to_seq\n",
      "iterable_pos = fasta_to_seq(iterable_pos)\n",
      "\n",
      "size=100\n",
      "#consier only first 'size' elements\n",
      "from itertools import islice\n",
      "iterable_pos = islice(iterable_pos,size)\n",
      "\n",
      "predictions= model2.decision_function( iterable_pos )\n",
      "for n,i in enumerate(sorted(predictions)): print i"
     ],
     "language": "python",
     "metadata": {},
     "outputs": [
      {
       "output_type": "stream",
       "stream": "stdout",
       "text": [
        "-0.777837087763\n",
        "-0.35992680375\n",
        "-0.321966596403\n",
        "-0.172423928428\n",
        "-0.0992262269239\n",
        "-0.0327331904953\n",
        "0.128178936241\n",
        "0.289571806374\n",
        "0.429952705952\n",
        "0.471769759936\n",
        "0.488588205365\n",
        "0.499629627671\n",
        "0.516724931689\n",
        "0.517729776744\n",
        "0.611880188321\n",
        "0.617584046348\n",
        "0.634475213636\n",
        "0.659235991409\n",
        "0.670676579595\n",
        "0.706916858475\n",
        "0.717041599281\n",
        "0.747105900478\n",
        "0.755577318153\n",
        "0.766296493101\n",
        "0.770407667433\n",
        "0.779959023554\n",
        "0.780477653155\n",
        "0.798254772143\n",
        "0.807764192009\n",
        "0.809328169967\n",
        "0.824708872954\n",
        "0.829424017712\n",
        "0.856832671144\n",
        "0.86287049068\n",
        "0.863721522532\n",
        "0.873147066764\n",
        "0.877779826763\n",
        "0.879067698105\n",
        "0.881407997548\n",
        "0.885869472764\n",
        "0.885883003678\n",
        "0.896310387279\n",
        "0.897116194835\n",
        "0.923638813251\n",
        "0.927999111885\n",
        "0.933255384955\n",
        "0.937352215256\n",
        "0.945055289359\n",
        "0.94980622478\n",
        "0.969869076949\n",
        "0.975577877459\n",
        "0.982744228321\n",
        "0.986567722553\n",
        "0.988592635935\n",
        "0.991057819133\n",
        "0.996277171734\n",
        "0.997713596776\n",
        "1.00322982579\n",
        "1.00448838932\n",
        "1.00776936125\n",
        "1.01921093237\n",
        "1.02927394974\n",
        "1.04331489958\n",
        "1.04689772896\n",
        "1.08854041994\n",
        "1.09402190726\n",
        "1.09917898168\n",
        "1.11152700133\n",
        "1.11279951114\n",
        "1.14426312442\n",
        "1.16750722074\n",
        "1.18990682495\n",
        "1.2178289414\n",
        "1.22662535848\n",
        "1.2369983011\n",
        "1.25686281346\n",
        "1.2611901771\n",
        "1.28741196086\n",
        "1.31449518349\n",
        "1.31713918084\n",
        "1.32084650497\n",
        "1.34935154373\n",
        "1.3533931916\n",
        "1.35475978199\n",
        "1.36153525274\n",
        "1.37602022359\n",
        "1.37806245423\n",
        "1.39739117442\n",
        "1.46222811892\n",
        "1.48726799033\n",
        "1.52083053513\n",
        "1.52208933291\n",
        "1.53411571461\n",
        "1.57336250916\n",
        "1.61045130402\n",
        "1.63650954303\n",
        "1.83718242558\n",
        "1.87847291118\n",
        "1.90581640377\n",
        "2.02146655086\n"
       ]
      }
     ],
     "prompt_number": 13
    },
    {
     "cell_type": "markdown",
     "metadata": {},
     "source": [
      "#SelfTrainingBinaryClassificationModel"
     ]
    },
    {
     "cell_type": "code",
     "collapsed": false,
     "input": [
      "#create iterable from files\n",
      "from eden.modifier.fasta import fasta_to_fasta, shuffle_modifier\n",
      "iterable_pos = fasta_to_fasta( rfam_uri( rfam_id ) )\n",
      "iterable_neg = fasta_to_fasta( rfam_uri( rfam_id ) , modifier=shuffle_modifier, times=1, order=2 )\n",
      "\n",
      "from eden.converter.fasta import fasta_to_seq\n",
      "iterable_pos = fasta_to_seq(iterable_pos)\n",
      "iterable_neg = fasta_to_seq(iterable_neg)\n",
      "\n",
      "size=100\n",
      "#consier only first 'size' elements\n",
      "from itertools import islice\n",
      "iterable_pos = islice(iterable_pos,size)\n",
      "iterable_neg = islice(iterable_neg,size)\n",
      "\n",
      "train_test_split=0.7\n",
      "#split train/test\n",
      "from eden.util import random_bipartition_iter\n",
      "iterable_pos_train, iterable_pos_test = random_bipartition_iter(iterable_pos, relative_size=train_test_split)\n",
      "iterable_neg_train, iterable_neg_test = random_bipartition_iter(iterable_neg, relative_size=train_test_split)"
     ],
     "language": "python",
     "metadata": {},
     "outputs": [],
     "prompt_number": 14
    },
    {
     "cell_type": "code",
     "collapsed": false,
     "input": [
      "%%time\n",
      "#make predictive model\n",
      "from eden.model import SelfTrainingBinaryClassificationModel\n",
      "model = SelfTrainingBinaryClassificationModel( pre_processor, estimator=estimator, vectorizer=vectorizer )\n",
      "\n",
      "#optimize hyperparameters and fit model\n",
      "from numpy.random import randint\n",
      "from numpy.random import uniform\n",
      "n_iter=40\n",
      "pre_processor_parameters={'max_num':[1,2,3], \n",
      "                          'shape_type':[4,5], \n",
      "                          'energy_range':randint(10, 40, size=n_iter)}\n",
      "\n",
      "vectorizer_parameters={'complexity':[1]}\n",
      "\n",
      "estimator_parameters={'n_iter':randint(5, 100, size=n_iter),\n",
      "                      'penalty':['l1','l2','elasticnet'],\n",
      "                      'l1_ratio':uniform(0.1,0.9, size=n_iter), \n",
      "                      'loss':['hinge', 'log', 'modified_huber', 'squared_hinge', 'perceptron'],\n",
      "                      'power_t':uniform(0.1, size=n_iter),\n",
      "                      'alpha': [10**x for x in range(-8,4)],\n",
      "                      'eta0': [10**x for x in range(-4,-1)],\n",
      "                      'learning_rate': [\"invscaling\", \"constant\", \"optimal\"]}\n",
      "\n",
      "model.optimize(iterable_pos_train, iterable_neg_train, \n",
      "               neg_to_pos_ratio=0.2,\n",
      "               num_selftraining_iterations=3,\n",
      "               lower_bound_threshold= -1,\n",
      "               upper_bound_threshold= 1,\n",
      "               n_iter=n_iter, cv=3, n_jobs=1, verbose=True,\n",
      "               pre_processor_parameters=pre_processor_parameters, \n",
      "               vectorizer_parameters=vectorizer_parameters, \n",
      "               estimator_parameters=estimator_parameters)\n",
      "\n",
      "#save model\n",
      "model_fname='eden_model_%s'%rfam_id\n",
      "model.save(model_fname)"
     ],
     "language": "python",
     "metadata": {},
     "outputs": [
      {
       "output_type": "stream",
       "stream": "stdout",
       "text": [
        "Paramters range\n",
        "Pre_processor:\n",
        "{'energy_range': array([10, 11, 34, 39, 29, 36, 28, 36, 22, 29, 35, 21, 23, 21, 15, 18, 17,\n",
        "       34, 21, 18, 29, 14, 12, 39, 23, 22, 26, 30, 28, 10, 24, 11, 23, 26,\n",
        "       33, 37, 13, 22, 23, 25]),\n",
        " 'max_num': [1, 2, 3],\n",
        " 'shape_type': [4, 5]}\n",
        "Vectorizer:\n",
        "{'complexity': [1]}\n",
        "Estimator:\n",
        "{'alpha': [1e-08,\n",
        "           1e-07,\n",
        "           1e-06,\n",
        "           1e-05,\n",
        "           0.0001,\n",
        "           0.001,\n",
        "           0.01,\n",
        "           0.1,\n",
        "           1,\n",
        "           10,\n",
        "           100,\n",
        "           1000],\n",
        " 'eta0': [0.001, 0.01, 0.1, 1, 10],\n",
        " 'l1_ratio': array([ 0.635954  ,  0.12292545,  0.48040831,  0.14383087,  0.10506258,\n",
        "        0.56942467,  0.39173612,  0.97638226,  0.3572977 ,  0.69463132,\n",
        "        0.61376341,  0.40176277,  0.81962989,  0.47705223,  0.44548501,\n",
        "        0.35101176,  0.51034819,  0.20093798,  0.25484924,  0.53503319,\n",
        "        0.74146349,  0.40264763,  0.5618245 ,  0.25695845,  0.50260859,\n",
        "        0.81368387,  0.75121783,  0.77793503,  0.16526076,  0.76947289,\n",
        "        0.8232173 ,  0.21387061,  0.19304742,  0.52385741,  0.3990822 ,\n",
        "        0.59073185,  0.52539051,  0.24072573,  0.35329733,  0.92226575]),\n",
        " 'learning_rate': ['invscaling', 'constant', 'optimal'],\n",
        " 'loss': ['hinge', 'log', 'modified_huber', 'squared_hinge', 'perceptron'],\n",
        " 'n_iter': array([64, 24, 46, 21, 37, 79, 64, 63, 21, 67, 15, 65, 17, 39, 44, 28, 93,\n",
        "       93, 94, 48, 30, 30, 35, 98, 71, 54, 21, 15, 93, 78, 93, 27, 12, 46,\n",
        "       42, 32, 42, 49, 19, 50]),\n",
        " 'penalty': ['l1', 'l2', 'elasticnet'],\n",
        " 'power_t': array([ 0.72549963,  0.14115232,  0.77341725,  0.91177237,  0.53919112,\n",
        "        0.22951311,  0.80182245,  0.79489242,  0.40541352,  0.30829029,\n",
        "        0.22592116,  0.53256615,  0.63331194,  0.29800269,  0.36276296,\n",
        "        0.46264521,  0.81629039,  0.84881002,  0.54713888,  0.70732884,\n",
        "        0.88531022,  0.88108854,  0.31117969,  0.59898197,  0.51309332,\n",
        "        0.1218168 ,  0.3866317 ,  0.99605532,  0.43991371,  0.49231722,\n",
        "        0.44681176,  0.45342656,  0.16219035,  0.41975937,  0.27359619,\n",
        "        0.86623541,  0.22916813,  0.30447692,  0.7316612 ,  0.27374632])}\n",
        "\n"
       ]
      },
      {
       "output_type": "stream",
       "stream": "stdout",
       "text": [
        "Iteration: 1/40 (at 14.2 sec)\n",
        "Best score: 0.500000 (0.500000 +- 0.000000)\n",
        "Pre_processor:\n",
        "{'energy_range': 29, 'max_num': 3, 'shape_type': 5}\n",
        "Vectorizer:\n",
        "{'complexity': 1}\n",
        "Estimator:\n",
        "{'alpha': 1,\n",
        " 'eta0': 1,\n",
        " 'l1_ratio': 0.61376341346229724,\n",
        " 'learning_rate': 'optimal',\n",
        " 'loss': 'modified_huber',\n",
        " 'n_iter': 50,\n",
        " 'penalty': 'elasticnet',\n",
        " 'power_t': 0.81629039349254406}\n",
        "Instances: 84 ; Features: 1048577 with an avg of 187 features per instance\n",
        "class: 1 count:70 (0.83)\tclass: -1 count:14 (0.17)\t\n",
        "\n"
       ]
      },
      {
       "output_type": "stream",
       "stream": "stdout",
       "text": [
        "Iteration: 3/40 (at 41.0 sec)\n",
        "Best score: 0.881046 (0.919324 +- 0.038277)\n",
        "Pre_processor:\n",
        "{'energy_range': 37, 'max_num': 2, 'shape_type': 4}\n",
        "Vectorizer:\n",
        "{'complexity': 1}\n",
        "Estimator:\n",
        "{'alpha': 1e-05,\n",
        " 'eta0': 0.1,\n",
        " 'l1_ratio': 0.40264763220818278,\n",
        " 'learning_rate': 'optimal',\n",
        " 'loss': 'hinge',\n",
        " 'n_iter': 48,\n",
        " 'penalty': 'elasticnet',\n",
        " 'power_t': 0.36276295736939479}\n",
        "Instances: 84 ; Features: 1048577 with an avg of 163 features per instance\n",
        "class: 1 count:70 (0.83)\tclass: -1 count:14 (0.17)\t\n",
        "Failed iteration: 10/40 (at 120.9 sec)"
       ]
      },
      {
       "output_type": "stream",
       "stream": "stdout",
       "text": [
        "\n",
        "Inappropriate argument value (of correct type).\n",
        "Floating-point under-/overflow occurred at epoch #2. Scaling input data with StandardScaler or MinMaxScaler might help.\n",
        "Failed with the following setting:\n",
        "Pre_processor:\n",
        "{'energy_range': 11, 'max_num': 3, 'shape_type': 4}\n",
        "Vectorizer:\n",
        "{'complexity': 1}\n",
        "Estimator:\n",
        "{'alpha': 100,\n",
        " 'eta0': 10,\n",
        " 'l1_ratio': 0.59073184944389445,\n",
        " 'learning_rate': 'constant',\n",
        " 'loss': 'hinge',\n",
        " 'n_iter': 32,\n",
        " 'penalty': 'l2',\n",
        " 'power_t': 0.22951311493111329}\n",
        "...continuing\n",
        "Failed iteration: 18/40 (at 221.6 sec)"
       ]
      },
      {
       "output_type": "stream",
       "stream": "stdout",
       "text": [
        "\n",
        "Common base class for all non-exit exceptions.\n",
        "ERROR: something went wrong, no graphs are present in current iterator.\n",
        "Failed with the following setting:\n",
        "Pre_processor:\n",
        "{'energy_range': 22, 'max_num': 1, 'shape_type': 4}\n",
        "Vectorizer:\n",
        "{'complexity': 1}\n",
        "Estimator:\n",
        "{'alpha': 1e-07,\n",
        " 'eta0': 0.1,\n",
        " 'l1_ratio': 0.21387060789996645,\n",
        " 'learning_rate': 'optimal',\n",
        " 'loss': 'log',\n",
        " 'n_iter': 46,\n",
        " 'penalty': 'elasticnet',\n",
        " 'power_t': 0.16219034902314924}\n",
        "...continuing\n",
        "Failed iteration: 21/40 (at 256.0 sec)"
       ]
      },
      {
       "output_type": "stream",
       "stream": "stdout",
       "text": [
        "\n",
        "Common base class for all non-exit exceptions.\n",
        "No instances found that satisfy constraints\n",
        "Failed with the following setting:\n",
        "Pre_processor:\n",
        "{'energy_range': 30, 'max_num': 3, 'shape_type': 5}\n",
        "Vectorizer:\n",
        "{'complexity': 1}\n",
        "Estimator:\n",
        "{'alpha': 0.001,\n",
        " 'eta0': 0.01,\n",
        " 'l1_ratio': 0.61376341346229724,\n",
        " 'learning_rate': 'optimal',\n",
        " 'loss': 'squared_hinge',\n",
        " 'n_iter': 79,\n",
        " 'penalty': 'elasticnet',\n",
        " 'power_t': 0.80182245155739529}\n",
        "...continuing\n",
        "Failed iteration: 28/40 (at 336.2 sec)"
       ]
      },
      {
       "output_type": "stream",
       "stream": "stdout",
       "text": [
        "\n",
        "Inappropriate argument value (of correct type).\n",
        "Floating-point under-/overflow occurred at epoch #15. Scaling input data with StandardScaler or MinMaxScaler might help.\n",
        "Failed with the following setting:\n",
        "Pre_processor:\n",
        "{'energy_range': 10, 'max_num': 1, 'shape_type': 4}\n",
        "Vectorizer:\n",
        "{'complexity': 1}\n",
        "Estimator:\n",
        "{'alpha': 0.01,\n",
        " 'eta0': 10,\n",
        " 'l1_ratio': 0.2009379806682525,\n",
        " 'learning_rate': 'constant',\n",
        " 'loss': 'squared_hinge',\n",
        " 'n_iter': 71,\n",
        " 'penalty': 'l1',\n",
        " 'power_t': 0.88108853883121607}\n",
        "...continuing\n",
        "Failed iteration: 32/40 (at 377.4 sec)"
       ]
      },
      {
       "output_type": "stream",
       "stream": "stdout",
       "text": [
        "\n",
        "Inappropriate argument value (of correct type).\n",
        "Floating-point under-/overflow occurred at epoch #2. Scaling input data with StandardScaler or MinMaxScaler might help.\n",
        "Failed with the following setting:\n",
        "Pre_processor:\n",
        "{'energy_range': 29, 'max_num': 2, 'shape_type': 4}\n",
        "Vectorizer:\n",
        "{'complexity': 1}\n",
        "Estimator:\n",
        "{'alpha': 1000,\n",
        " 'eta0': 0.1,\n",
        " 'l1_ratio': 0.25695845425742897,\n",
        " 'learning_rate': 'constant',\n",
        " 'loss': 'modified_huber',\n",
        " 'n_iter': 50,\n",
        " 'penalty': 'l2',\n",
        " 'power_t': 0.54713887852184084}\n",
        "...continuing\n",
        "Failed iteration: 34/40 (at 398.0 sec)"
       ]
      },
      {
       "output_type": "stream",
       "stream": "stdout",
       "text": [
        "\n",
        "Common base class for all non-exit exceptions.\n",
        "No instances found that satisfy constraints\n",
        "Failed with the following setting:\n",
        "Pre_processor:\n",
        "{'energy_range': 23, 'max_num': 3, 'shape_type': 5}\n",
        "Vectorizer:\n",
        "{'complexity': 1}\n",
        "Estimator:\n",
        "{'alpha': 1e-08,\n",
        " 'eta0': 0.001,\n",
        " 'l1_ratio': 0.10506258314349229,\n",
        " 'learning_rate': 'optimal',\n",
        " 'loss': 'modified_huber',\n",
        " 'n_iter': 15,\n",
        " 'penalty': 'elasticnet',\n",
        " 'power_t': 0.43991370670199803}\n",
        "...continuing\n",
        "CPU times: user 4min 13s, sys: 43.7 s, total: 4min 57s"
       ]
      },
      {
       "output_type": "stream",
       "stream": "stdout",
       "text": [
        "\n",
        "Wall time: 7min 59s\n"
       ]
      }
     ],
     "prompt_number": 15
    },
    {
     "cell_type": "code",
     "collapsed": false,
     "input": [
      "%%time\n",
      "#estimate predictive performance\n",
      "model.estimate( iterable_pos_test, iterable_neg_test, cv=5 )"
     ],
     "language": "python",
     "metadata": {},
     "outputs": [
      {
       "output_type": "stream",
       "stream": "stdout",
       "text": [
        "Classifier:\n",
        "SGDClassifier(alpha=1e-05, class_weight='auto', epsilon=0.1, eta0=0.1,\n",
        "       fit_intercept=True, l1_ratio=0.40264763220818278,\n",
        "       learning_rate='optimal', loss='hinge', n_iter=48, n_jobs=1,\n",
        "       penalty='elasticnet', power_t=0.36276295736939479,\n",
        "       random_state=None, shuffle=True, verbose=0, warm_start=False)\n",
        "--------------------------------------------------------------------------------\n",
        "Predictive performance:\n",
        "            accuracy: 0.783 +- 0.067"
       ]
      },
      {
       "output_type": "stream",
       "stream": "stdout",
       "text": [
        "\n",
        "           precision: 0.838 +- 0.149"
       ]
      },
      {
       "output_type": "stream",
       "stream": "stdout",
       "text": [
        "\n",
        "              recall: 0.733 +- 0.271"
       ]
      },
      {
       "output_type": "stream",
       "stream": "stdout",
       "text": [
        "\n",
        "                  f1: 0.761 +- 0.075"
       ]
      },
      {
       "output_type": "stream",
       "stream": "stdout",
       "text": [
        "\n",
        "   average_precision: 0.836 +- 0.089"
       ]
      },
      {
       "output_type": "stream",
       "stream": "stdout",
       "text": [
        "\n",
        "             roc_auc: 0.850 +- 0.057"
       ]
      },
      {
       "output_type": "stream",
       "stream": "stdout",
       "text": [
        "\n",
        "--------------------------------------------------------------------------------\n",
        "CPU times: user 5.36 s, sys: 581 ms, total: 5.94 s\n",
        "Wall time: 7.96 s\n"
       ]
      }
     ],
     "prompt_number": 16
    }
   ],
   "metadata": {}
  }
 ]
}