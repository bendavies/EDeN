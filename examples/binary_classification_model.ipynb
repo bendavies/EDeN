{
 "metadata": {
  "name": "",
  "signature": "sha256:3d14d8f84232d88283f3b0ee3b658f5efebca10d6ff10d74b68dc4d4075f3b1d"
 },
 "nbformat": 3,
 "nbformat_minor": 0,
 "worksheets": [
  {
   "cells": [
    {
     "cell_type": "code",
     "collapsed": false,
     "input": [
      "def rfam_uri(family_id):\n",
      "    return 'http://rfam.xfam.org/family/%s/alignment?acc=%s&format=fastau&download=0'%(family_id,family_id)\n",
      "\n",
      "def rfam_uri(family_id):\n",
      "    return '%s.fa'%(family_id)"
     ],
     "language": "python",
     "metadata": {},
     "outputs": [],
     "prompt_number": 1
    },
    {
     "cell_type": "code",
     "collapsed": false,
     "input": [
      "rfam_id = 'RF02275' #Hammerhead_HH9\n",
      "rfam_id = 'RF00871' #microRNA mir-689\n",
      "rfam_id = 'RF00005' #tRNA"
     ],
     "language": "python",
     "metadata": {},
     "outputs": [],
     "prompt_number": 2
    },
    {
     "cell_type": "code",
     "collapsed": false,
     "input": [
      "def pre_processor( data, **args):\n",
      "    from eden.converter.rna.rnashapes import rnashapes_to_eden\n",
      "    graphs = rnashapes_to_eden( data, **args )\n",
      "    return graphs"
     ],
     "language": "python",
     "metadata": {},
     "outputs": [],
     "prompt_number": 3
    },
    {
     "cell_type": "code",
     "collapsed": false,
     "input": [
      "from eden.graph import Vectorizer\n",
      "vectorizer = Vectorizer( complexity=2 )"
     ],
     "language": "python",
     "metadata": {},
     "outputs": [],
     "prompt_number": 4
    },
    {
     "cell_type": "code",
     "collapsed": false,
     "input": [
      "from sklearn.linear_model import SGDClassifier, Perceptron, PassiveAggressiveClassifier\n",
      "estimator = PassiveAggressiveClassifier(shuffle=True)\n",
      "estimator = Perceptron(class_weight='auto', shuffle=True)\n",
      "estimator = SGDClassifier(class_weight='auto', shuffle=True)"
     ],
     "language": "python",
     "metadata": {},
     "outputs": [],
     "prompt_number": 5
    },
    {
     "cell_type": "code",
     "collapsed": false,
     "input": [
      "%%time\n",
      "#create iterable from files\n",
      "from eden.modifier.fasta import fasta_to_fasta, shuffle_modifier\n",
      "size=150\n",
      "#consier only first 'size' elements\n",
      "from itertools import islice\n",
      "iterable_pos = islice(fasta_to_fasta( rfam_uri( rfam_id ) ),size)\n",
      "iterable_neg = islice(fasta_to_fasta( rfam_uri( rfam_id ) , modifier=shuffle_modifier, times=2, order=2 ),size)\n",
      "\n",
      "#copy for use both in optimization and estimate procedures\n",
      "from itertools import tee\n",
      "iterable_pos,iterable_pos_ = tee(iterable_pos)\n",
      "iterable_neg,iterable_neg_ = tee(iterable_neg)\n",
      "\n",
      "#make predictive model\n",
      "from eden.model import BinaryClassificationModel\n",
      "model = BinaryClassificationModel( pre_processor, estimator=estimator, vectorizer=vectorizer )\n",
      "\n",
      "#optimize hyperparameters and fit model\n",
      "from numpy.random import randint\n",
      "from numpy.random import uniform\n",
      "n_iter=50\n",
      "pre_processor_parameters={'max_num':[1,2,3], 'shape_type':[5], 'energy_range':randint(5, 50, size=n_iter)}\n",
      "pre_processor_parameters={'max_num':[3], 'shape_type':[5], 'energy_range':[35]}\n",
      "vectorizer_parameters={'complexity':[1]}\n",
      "estimator_parameters={'n_iter':randint(5, 100, size=n_iter),\n",
      "                      'penalty':['l1','l2','elasticnet'],\n",
      "                      'l1_ratio':uniform(0.1, size=n_iter), \n",
      "                      'loss':['hinge', 'log', 'modified_huber', 'squared_hinge', 'perceptron'],\n",
      "                      'power_t':uniform(0.1, size=n_iter),\n",
      "                      'alpha': [10**x for x in range(-8,4,1)],\n",
      "                      'eta0': [10**x for x in range(-3,2,1)],\n",
      "                      'learning_rate': [\"invscaling\", \"constant\", \"optimal\"]\n",
      "                      }\n",
      "model.optimize(iterable_pos_, iterable_neg_, n_iter=n_iter, cv=3, n_jobs=1, verbose=True,\n",
      "               pre_processor_parameters=pre_processor_parameters, \n",
      "               vectorizer_parameters=vectorizer_parameters, \n",
      "               estimator_parameters=estimator_parameters)\n",
      "\n",
      "#save model\n",
      "model_fname='eden_model_%s'%rfam_id\n",
      "model.save(model_fname)\n",
      "\n",
      "#estimate predictive performance\n",
      "model.estimate( iterable_pos, iterable_neg )"
     ],
     "language": "python",
     "metadata": {},
     "outputs": [
      {
       "output_type": "stream",
       "stream": "stdout",
       "text": [
        "Paramters range\n",
        "Pre_processor:\n",
        "{'energy_range': [35], 'max_num': [3], 'shape_type': [5]}\n",
        "Vectorizer:\n",
        "{'complexity': [1]}\n",
        "Estimator:\n",
        "{'alpha': [1e-08,\n",
        "           1e-07,\n",
        "           1e-06,\n",
        "           1e-05,\n",
        "           0.0001,\n",
        "           0.001,\n",
        "           0.01,\n",
        "           0.1,\n",
        "           1,\n",
        "           10,\n",
        "           100,\n",
        "           1000],\n",
        " 'eta0': [0.001, 0.01, 0.1, 1, 10],\n",
        " 'l1_ratio': array([ 0.21643804,  0.76957424,  0.63747407,  0.45672004,  0.49037798,\n",
        "        0.18049715,  0.69592376,  0.10732141,  0.52224924,  0.87274565,\n",
        "        0.62732476,  0.61379466,  0.99639384,  0.72343254,  0.52663227,\n",
        "        0.30317208,  0.7897134 ,  0.94963418,  0.28135979,  0.8627839 ,\n",
        "        0.48904096,  0.86181286,  0.92188156,  0.8130656 ,  0.10196614,\n",
        "        0.75628778,  0.31978291,  0.57040286,  0.77075276,  0.14204637,\n",
        "        0.99128229,  0.80262935,  0.30734495,  0.64996666,  0.94067359,\n",
        "        0.35679063,  0.1212149 ,  0.58189413,  0.44941209,  0.53008379,\n",
        "        0.998456  ,  0.71114776,  0.11216231,  0.97321969,  0.38753057,\n",
        "        0.95714923,  0.86675502,  0.34334841,  0.41665447,  0.72273649]),\n",
        " 'learning_rate': ['invscaling', 'constant', 'optimal'],\n",
        " 'loss': ['hinge', 'log', 'modified_huber', 'squared_hinge', 'perceptron'],\n",
        " 'n_iter': array([25, 44, 14, 82, 49, 86, 47, 75, 88, 43, 55, 89, 21, 34, 19, 71, 65,\n",
        "       31, 68, 46, 47, 10, 66, 56, 95, 55, 90, 72, 33, 71, 64, 49, 57, 86,\n",
        "       70, 13, 18, 24, 21, 62, 77, 86, 11, 22, 39, 15, 69, 65, 36, 94]),\n",
        " 'penalty': ['l1', 'l2', 'elasticnet'],\n",
        " 'power_t': array([ 0.77047462,  0.36959004,  0.96439481,  0.66288444,  0.32740656,\n",
        "        0.94544096,  0.60244546,  0.45361594,  0.54505284,  0.27702035,\n",
        "        0.45994752,  0.75320476,  0.53255569,  0.26807172,  0.75079946,\n",
        "        0.81774638,  0.9252496 ,  0.39000928,  0.88382755,  0.27123262,\n",
        "        0.22838088,  0.87269694,  0.28024975,  0.34471963,  0.34719057,\n",
        "        0.10389808,  0.83926006,  0.81638152,  0.18509851,  0.78934557,\n",
        "        0.35233927,  0.11862972,  0.54637361,  0.34948306,  0.29055711,\n",
        "        0.92729535,  0.9601948 ,  0.2884091 ,  0.49056165,  0.75032209,\n",
        "        0.13977349,  0.44103977,  0.7195259 ,  0.27436554,  0.57596808,\n",
        "        0.10712097,  0.12161323,  0.63340225,  0.95983421,  0.73629526])}\n",
        "\n"
       ]
      },
      {
       "output_type": "stream",
       "stream": "stdout",
       "text": [
        "Iteration: 1/50 (at 10.7 sec)\n",
        "Best score: 0.500000 (0.500000 +- 0.000000)\n",
        "Pre_processor:\n",
        "{'energy_range': 35, 'max_num': 3, 'shape_type': 5}\n",
        "Vectorizer:\n",
        "{'complexity': 1}\n",
        "Estimator:\n",
        "{'alpha': 100,\n",
        " 'eta0': 0.01,\n",
        " 'l1_ratio': 0.99128229043176297,\n",
        " 'learning_rate': 'invscaling',\n",
        " 'loss': 'modified_huber',\n",
        " 'n_iter': 65,\n",
        " 'penalty': 'l1',\n",
        " 'power_t': 0.63340225226558722}\n",
        "\n"
       ]
      },
      {
       "output_type": "stream",
       "stream": "stdout",
       "text": [
        "Iteration: 2/50 (at 11.0 sec)\n",
        "Best score: 0.733623 (0.820800 +- 0.087177)\n",
        "Pre_processor:\n",
        "{'energy_range': 35, 'max_num': 3, 'shape_type': 5}\n",
        "Vectorizer:\n",
        "{'complexity': 1}\n",
        "Estimator:\n",
        "{'alpha': 0.01,\n",
        " 'eta0': 1,\n",
        " 'l1_ratio': 0.81306559929678113,\n",
        " 'learning_rate': 'invscaling',\n",
        " 'loss': 'modified_huber',\n",
        " 'n_iter': 49,\n",
        " 'penalty': 'l2',\n",
        " 'power_t': 0.26807172053606154}\n",
        "\n"
       ]
      },
      {
       "output_type": "stream",
       "stream": "stdout",
       "text": [
        "Iteration: 4/50 (at 11.8 sec)\n",
        "Best score: 0.755035 (0.822400 +- 0.067365)\n",
        "Pre_processor:\n",
        "{'energy_range': 35, 'max_num': 3, 'shape_type': 5}\n",
        "Vectorizer:\n",
        "{'complexity': 1}\n",
        "Estimator:\n",
        "{'alpha': 1e-06,\n",
        " 'eta0': 10,\n",
        " 'l1_ratio': 0.10196614225796211,\n",
        " 'learning_rate': 'constant',\n",
        " 'loss': 'modified_huber',\n",
        " 'n_iter': 13,\n",
        " 'penalty': 'l1',\n",
        " 'power_t': 0.34719056895418815}\n",
        "Failed iteration: 8/50 (at 13.0 sec)"
       ]
      },
      {
       "output_type": "stream",
       "stream": "stdout",
       "text": [
        "\n",
        "\n"
       ]
      },
      {
       "output_type": "stream",
       "stream": "stdout",
       "text": [
        "Iteration: 10/50 (at 13.8 sec)\n",
        "Best score: 0.770283 (0.837867 +- 0.067584)\n",
        "Pre_processor:\n",
        "{'energy_range': 35, 'max_num': 3, 'shape_type': 5}\n",
        "Vectorizer:\n",
        "{'complexity': 1}\n",
        "Estimator:\n",
        "{'alpha': 0.0001,\n",
        " 'eta0': 0.1,\n",
        " 'l1_ratio': 0.99128229043176297,\n",
        " 'learning_rate': 'constant',\n",
        " 'loss': 'perceptron',\n",
        " 'n_iter': 49,\n",
        " 'penalty': 'elasticnet',\n",
        " 'power_t': 0.34948306436646809}\n",
        "\n"
       ]
      },
      {
       "output_type": "stream",
       "stream": "stdout",
       "text": [
        "Iteration: 13/50 (at 14.9 sec)\n",
        "Best score: 0.811018 (0.868267 +- 0.057248)\n",
        "Pre_processor:\n",
        "{'energy_range': 35, 'max_num': 3, 'shape_type': 5}\n",
        "Vectorizer:\n",
        "{'complexity': 1}\n",
        "Estimator:\n",
        "{'alpha': 0.0001,\n",
        " 'eta0': 10,\n",
        " 'l1_ratio': 0.99128229043176297,\n",
        " 'learning_rate': 'constant',\n",
        " 'loss': 'hinge',\n",
        " 'n_iter': 65,\n",
        " 'penalty': 'l2',\n",
        " 'power_t': 0.44103977470862377}\n",
        "Failed iteration: 22/50 (at 18.7 sec)"
       ]
      },
      {
       "output_type": "stream",
       "stream": "stdout",
       "text": [
        "\n",
        "Failed iteration: 35/50 (at 44.0 sec)"
       ]
      },
      {
       "output_type": "stream",
       "stream": "stdout",
       "text": [
        "\n",
        "Failed iteration: 45/50 (at 48.6 sec)"
       ]
      },
      {
       "output_type": "stream",
       "stream": "stdout",
       "text": [
        "\n",
        "Classifier:"
       ]
      },
      {
       "output_type": "stream",
       "stream": "stdout",
       "text": [
        "\n",
        "SGDClassifier(alpha=0.0001, class_weight='auto', epsilon=0.1, eta0=10,\n",
        "       fit_intercept=True, l1_ratio=0.99128229043176297,\n",
        "       learning_rate='constant', loss='hinge', n_iter=65, n_jobs=1,\n",
        "       penalty='l2', power_t=0.44103977470862377, random_state=None,\n",
        "       shuffle=True, verbose=0, warm_start=False)\n",
        "--------------------------------------------------------------------------------\n",
        "Predictive performance:\n",
        "            accuracy: 0.814 +- 0.135"
       ]
      },
      {
       "output_type": "stream",
       "stream": "stdout",
       "text": [
        "\n",
        "           precision: 0.777 +- 0.183"
       ]
      },
      {
       "output_type": "stream",
       "stream": "stdout",
       "text": [
        "\n",
        "              recall: 0.720 +- 0.248"
       ]
      },
      {
       "output_type": "stream",
       "stream": "stdout",
       "text": [
        "\n",
        "                  f1: 0.765 +- 0.101"
       ]
      },
      {
       "output_type": "stream",
       "stream": "stdout",
       "text": [
        "\n",
        "   average_precision: 0.876 +- 0.105"
       ]
      },
      {
       "output_type": "stream",
       "stream": "stdout",
       "text": [
        "\n",
        "             roc_auc: 0.876 +- 0.108"
       ]
      },
      {
       "output_type": "stream",
       "stream": "stdout",
       "text": [
        "\n",
        "--------------------------------------------------------------------------------\n",
        "CPU times: user 1min 6s, sys: 2.86 s, total: 1min 9s\n",
        "Wall time: 1min 21s\n"
       ]
      }
     ],
     "prompt_number": 6
    },
    {
     "cell_type": "code",
     "collapsed": false,
     "input": [
      "from eden.model import BinaryClassificationModel\n",
      "\n",
      "model2 = BinaryClassificationModel()\n",
      "model2.load(model_fname)\n",
      "\n",
      "from eden.modifier.fasta import fasta_to_fasta\n",
      "iterable = islice(fasta_to_fasta( rfam_uri( rfam_id ) ),size)\n",
      "\n",
      "predictions= model2.decision_function( iterable )\n",
      "for n,i in enumerate(sorted(predictions)): print i"
     ],
     "language": "python",
     "metadata": {},
     "outputs": [
      {
       "output_type": "stream",
       "stream": "stdout",
       "text": [
        "-3.26849248304\n",
        "-2.88290363002\n",
        "-2.62482736022\n",
        "-1.87265488714\n",
        "-1.72253128157\n",
        "-0.881677687418\n",
        "-0.655927857632\n",
        "-0.461591966089\n",
        "-0.382670587642\n",
        "-0.336052090112\n",
        "-0.257262287845\n",
        "-0.118929793609\n",
        "-0.100579458198\n",
        "0.0152430285613\n",
        "0.0797765182147\n",
        "0.338222562747\n",
        "0.397417386241\n",
        "0.609281001545\n",
        "0.727644196249\n",
        "0.782743519188\n",
        "0.825998983878\n",
        "1.16372515183\n",
        "1.38757896726\n",
        "1.48935229036\n",
        "1.53231730521\n",
        "1.61753522582\n",
        "1.6304864124\n",
        "1.76343520732\n",
        "1.76517012105\n",
        "1.79506136862\n",
        "1.80490485718\n",
        "1.81627238042\n",
        "1.82041520727\n",
        "1.88710401533\n",
        "2.06783842487\n",
        "2.07074456547\n",
        "2.23396939916\n",
        "2.47738751962\n",
        "2.51368826885\n",
        "2.60649060279\n",
        "2.62093678942\n",
        "2.68570802084\n",
        "2.81247509885\n",
        "2.81308302324\n",
        "2.83158096586\n",
        "2.86232542904\n",
        "2.90090440957\n",
        "2.94091259277\n",
        "3.03309022002\n",
        "3.04282858343\n",
        "3.27353603871\n",
        "3.41271562675\n",
        "3.59386827644\n",
        "3.60044888914\n",
        "3.98552015649\n",
        "4.17774304611\n",
        "4.19970594429\n",
        "4.23244307141\n",
        "4.27799317653\n",
        "4.29951316935\n",
        "4.30122251363\n",
        "4.34053966145\n",
        "4.57633217825\n",
        "4.87201609184\n",
        "4.87617162734\n",
        "4.96967798084\n",
        "5.08057863286\n",
        "5.20632529968\n",
        "5.31602028794\n",
        "5.33941932693\n",
        "5.37044586949\n",
        "5.68025253604\n",
        "6.14695222438\n",
        "6.68094502781\n",
        "6.95831253417\n"
       ]
      }
     ],
     "prompt_number": 7
    }
   ],
   "metadata": {}
  }
 ]
}