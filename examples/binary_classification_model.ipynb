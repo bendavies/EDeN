{
 "metadata": {
  "name": "",
  "signature": "sha256:61ffeda77f014df023306b58b78edacab9fd70b567cd4e7f26f914e324a1f9ed"
 },
 "nbformat": 3,
 "nbformat_minor": 0,
 "worksheets": [
  {
   "cells": [
    {
     "cell_type": "code",
     "collapsed": false,
     "input": [
      "def rfam_uri(family_id):\n",
      "    return 'http://rfam.xfam.org/family/%s/alignment?acc=%s&format=fastau&download=0'%(family_id,family_id)\n",
      "\n",
      "def rfam_uri(family_id):\n",
      "    return '%s.fa'%(family_id)"
     ],
     "language": "python",
     "metadata": {},
     "outputs": [],
     "prompt_number": 21
    },
    {
     "cell_type": "code",
     "collapsed": false,
     "input": [
      "rfam_id = 'RF02275' #Hammerhead_HH9\n",
      "rfam_id = 'RF00871' #microRNA mir-689\n",
      "rfam_id = 'RF00005' #tRNA"
     ],
     "language": "python",
     "metadata": {},
     "outputs": [],
     "prompt_number": 22
    },
    {
     "cell_type": "code",
     "collapsed": false,
     "input": [
      "def pre_processor( data, **args):\n",
      "    from eden.converter.rna.rnafold import rnafold_to_eden\n",
      "    graphs = rnafold_to_eden( data, **args )\n",
      "    return graphs"
     ],
     "language": "python",
     "metadata": {},
     "outputs": [],
     "prompt_number": 23
    },
    {
     "cell_type": "code",
     "collapsed": false,
     "input": [
      "def pre_processor( data, **args):\n",
      "    from eden.converter.rna.rnashapes import rnashapes_to_eden\n",
      "    graphs = rnashapes_to_eden( data, data_type='seq', **args )\n",
      "    return graphs"
     ],
     "language": "python",
     "metadata": {},
     "outputs": [],
     "prompt_number": 24
    },
    {
     "cell_type": "code",
     "collapsed": false,
     "input": [
      "from eden.graph import Vectorizer\n",
      "vectorizer = Vectorizer()"
     ],
     "language": "python",
     "metadata": {},
     "outputs": [],
     "prompt_number": 25
    },
    {
     "cell_type": "code",
     "collapsed": false,
     "input": [
      "from sklearn.linear_model import SGDClassifier, Perceptron, PassiveAggressiveClassifier\n",
      "estimator = PassiveAggressiveClassifier(shuffle=True)\n",
      "estimator = Perceptron(class_weight='auto', shuffle=True)\n",
      "estimator = SGDClassifier(class_weight='auto', shuffle=True)"
     ],
     "language": "python",
     "metadata": {},
     "outputs": [],
     "prompt_number": 26
    },
    {
     "cell_type": "code",
     "collapsed": false,
     "input": [
      "#create iterable from files\n",
      "from eden.modifier.fasta import fasta_to_fasta, shuffle_modifier\n",
      "iterable_pos = fasta_to_fasta( rfam_uri( rfam_id ) )\n",
      "iterable_neg = fasta_to_fasta( rfam_uri( rfam_id ) , modifier=shuffle_modifier, times=1, order=2 )\n",
      "\n",
      "from eden.converter.fasta import fasta_to_seq\n",
      "iterable_pos = fasta_to_seq(iterable_pos)\n",
      "iterable_neg = fasta_to_seq(iterable_neg)\n",
      "\n",
      "size=100\n",
      "#consier only first 'size' elements\n",
      "from itertools import islice\n",
      "iterable_pos = islice(iterable_pos,size)\n",
      "iterable_neg = islice(iterable_neg,size)\n",
      "\n",
      "train_test_split=0.7\n",
      "#split train/test\n",
      "from eden.util import random_bipartition_iter\n",
      "iterable_pos_train, iterable_pos_test = random_bipartition_iter(iterable_pos, relative_size=train_test_split)\n",
      "iterable_neg_train, iterable_neg_test = random_bipartition_iter(iterable_neg, relative_size=train_test_split)"
     ],
     "language": "python",
     "metadata": {},
     "outputs": [],
     "prompt_number": 27
    },
    {
     "cell_type": "code",
     "collapsed": false,
     "input": [
      "%%time\n",
      "#make predictive model\n",
      "from eden.model import BinaryClassificationModel\n",
      "model = BinaryClassificationModel( pre_processor, estimator=estimator, vectorizer=vectorizer )\n",
      "\n",
      "#optimize hyperparameters and fit model\n",
      "from numpy.random import randint\n",
      "from numpy.random import uniform\n",
      "n_iter=40\n",
      "pre_processor_parameters={'max_num':[1,2,3], \n",
      "                          'shape_type':[4,5], \n",
      "                          'energy_range':randint(10, 40, size=n_iter)}\n",
      "\n",
      "vectorizer_parameters={'complexity':[1,2]}\n",
      "\n",
      "estimator_parameters={'n_iter':randint(5, 100, size=n_iter),\n",
      "                      'penalty':['l1','l2','elasticnet'],\n",
      "                      'l1_ratio':uniform(0.1, size=n_iter), \n",
      "                      'loss':['hinge', 'log', 'modified_huber', 'squared_hinge', 'perceptron'],\n",
      "                      'power_t':uniform(0.1, size=n_iter),\n",
      "                      'alpha': [10**x for x in range(-8,4,1)],\n",
      "                      'eta0': [10**x for x in range(-3,2,1)],\n",
      "                      'learning_rate': [\"invscaling\", \"constant\", \"optimal\"]}\n",
      "\n",
      "model.optimize(iterable_pos_train, iterable_neg_train, n_iter=n_iter, cv=3, n_jobs=1, verbose=True,\n",
      "               pre_processor_parameters=pre_processor_parameters, \n",
      "               vectorizer_parameters=vectorizer_parameters, \n",
      "               estimator_parameters=estimator_parameters)\n",
      "\n",
      "#save model\n",
      "model_fname='eden_model_%s'%rfam_id\n",
      "model.save(model_fname)"
     ],
     "language": "python",
     "metadata": {},
     "outputs": [
      {
       "output_type": "stream",
       "stream": "stdout",
       "text": [
        "Paramters range\n",
        "Pre_processor:\n",
        "{'energy_range': array([35, 33, 24, 18, 35, 24, 38, 15, 34, 33, 27, 32, 26, 27, 26, 13, 29,\n",
        "       24, 38, 22, 26, 18, 17, 20, 22, 26, 37, 10, 20, 28, 10, 23, 39, 16,\n",
        "       30, 12, 25, 17, 18, 21]),\n",
        " 'max_num': [1, 2, 3],\n",
        " 'shape_type': [4, 5]}\n",
        "Vectorizer:\n",
        "{'complexity': [1, 2]}\n",
        "Estimator:\n",
        "{'alpha': [1e-08,\n",
        "           1e-07,\n",
        "           1e-06,\n",
        "           1e-05,\n",
        "           0.0001,\n",
        "           0.001,\n",
        "           0.01,\n",
        "           0.1,\n",
        "           1,\n",
        "           10,\n",
        "           100,\n",
        "           1000],\n",
        " 'eta0': [0.001, 0.01, 0.1, 1, 10],\n",
        " 'l1_ratio': array([ 0.27360309,  0.50600246,  0.94375026,  0.64891801,  0.24130938,\n",
        "        0.51899093,  0.92490842,  0.85121389,  0.11595648,  0.45873368,\n",
        "        0.60199562,  0.64359789,  0.46352113,  0.14685085,  0.22420651,\n",
        "        0.31780086,  0.88358138,  0.3470658 ,  0.18486102,  0.91964226,\n",
        "        0.3700648 ,  0.56864337,  0.37739903,  0.2193187 ,  0.24116104,\n",
        "        0.53595322,  0.21636786,  0.17862978,  0.79507814,  0.50582272,\n",
        "        0.49282377,  0.98885556,  0.40152616,  0.22083664,  0.76428455,\n",
        "        0.36730424,  0.4696818 ,  0.823314  ,  0.6859546 ,  0.82703194]),\n",
        " 'learning_rate': ['invscaling', 'constant', 'optimal'],\n",
        " 'loss': ['hinge', 'log', 'modified_huber', 'squared_hinge', 'perceptron'],\n",
        " 'n_iter': array([57, 73, 21, 27,  9, 63, 67, 50, 43, 92, 28, 21, 37, 69, 29, 12, 75,\n",
        "       11,  9, 37, 74, 50, 78, 39, 29, 90, 16, 65, 34, 33, 12, 63, 17, 34,\n",
        "       71, 70, 45, 77, 42, 11]),\n",
        " 'penalty': ['l1', 'l2', 'elasticnet'],\n",
        " 'power_t': array([ 0.58667482,  0.54974032,  0.42698528,  0.63217321,  0.56074998,\n",
        "        0.16140396,  0.67146062,  0.11799695,  0.54141342,  0.15258587,\n",
        "        0.52612159,  0.38609937,  0.3517851 ,  0.67933393,  0.58513731,\n",
        "        0.78258194,  0.32808316,  0.15761267,  0.37509695,  0.7848539 ,\n",
        "        0.83905145,  0.16813545,  0.776331  ,  0.77434743,  0.39475444,\n",
        "        0.78042339,  0.759757  ,  0.11721609,  0.93591641,  0.90511339,\n",
        "        0.34892163,  0.545449  ,  0.16342071,  0.41388855,  0.75901333,\n",
        "        0.81079882,  0.90270541,  0.53808009,  0.82017554,  0.88154286])}\n",
        "\n"
       ]
      },
      {
       "output_type": "stream",
       "stream": "stdout",
       "text": [
        "Iteration: 1/40 (at 7.7 sec)\n",
        "Best score: 0.906976 (0.926294 +- 0.019318)\n",
        "Pre_processor:\n",
        "{'energy_range': 10, 'max_num': 1, 'shape_type': 4}\n",
        "Vectorizer:\n",
        "{'complexity': 2}\n",
        "Estimator:\n",
        "{'alpha': 1000,\n",
        " 'eta0': 1,\n",
        " 'l1_ratio': 0.46968179536862054,\n",
        " 'learning_rate': 'optimal',\n",
        " 'loss': 'log',\n",
        " 'n_iter': 74,\n",
        " 'penalty': 'l2',\n",
        " 'power_t': 0.88154285895462259}\n",
        "Instances: 140 ; Features: 1048577 with an avg of 537 features per instance\n",
        "class: 1 count:70 (0.50)\tclass: -1 count:70 (0.50)\t\n",
        "Failed iteration: 3/40 (at 25.8 sec)"
       ]
      },
      {
       "output_type": "stream",
       "stream": "stdout",
       "text": [
        "\n",
        "\n"
       ]
      },
      {
       "output_type": "stream",
       "stream": "stdout",
       "text": [
        "Iteration: 5/40 (at 49.7 sec)\n",
        "Best score: 0.949714 (0.966115 +- 0.016401)\n",
        "Pre_processor:\n",
        "{'energy_range': 24, 'max_num': 3, 'shape_type': 5}\n",
        "Vectorizer:\n",
        "{'complexity': 2}\n",
        "Estimator:\n",
        "{'alpha': 0.01,\n",
        " 'eta0': 0.01,\n",
        " 'l1_ratio': 0.68595459985026996,\n",
        " 'learning_rate': 'constant',\n",
        " 'loss': 'modified_huber',\n",
        " 'n_iter': 39,\n",
        " 'penalty': 'l2',\n",
        " 'power_t': 0.77434742964855419}\n",
        "Instances: 140 ; Features: 1048577 with an avg of 862 features per instance\n",
        "class: 1 count:70 (0.50)\tclass: -1 count:70 (0.50)\t\n",
        "\n"
       ]
      },
      {
       "output_type": "stream",
       "stream": "stdout",
       "text": [
        "Iteration: 13/40 (at 133.6 sec)\n",
        "Best score: 0.953452 (0.956444 +- 0.002992)\n",
        "Pre_processor:\n",
        "{'energy_range': 12, 'max_num': 3, 'shape_type': 5}\n",
        "Vectorizer:\n",
        "{'complexity': 2}\n",
        "Estimator:\n",
        "{'alpha': 1e-06,\n",
        " 'eta0': 1,\n",
        " 'l1_ratio': 0.21636785570663061,\n",
        " 'learning_rate': 'optimal',\n",
        " 'loss': 'hinge',\n",
        " 'n_iter': 34,\n",
        " 'penalty': 'l1',\n",
        " 'power_t': 0.6321732137042485}\n",
        "Instances: 140 ; Features: 1048577 with an avg of 681 features per instance\n",
        "class: 1 count:70 (0.50)\tclass: -1 count:70 (0.50)\t\n",
        "Failed iteration: 20/40 (at 202.1 sec)"
       ]
      },
      {
       "output_type": "stream",
       "stream": "stdout",
       "text": [
        "\n",
        "CPU times: user 4min 20s, sys: 22.5 s, total: 4min 42s"
       ]
      },
      {
       "output_type": "stream",
       "stream": "stdout",
       "text": [
        "\n",
        "Wall time: 6min 51s\n"
       ]
      }
     ],
     "prompt_number": 28
    },
    {
     "cell_type": "code",
     "collapsed": false,
     "input": [
      "%%time\n",
      "#estimate predictive performance\n",
      "model.estimate( iterable_pos_test, iterable_neg_test, cv=5 )"
     ],
     "language": "python",
     "metadata": {},
     "outputs": [
      {
       "output_type": "stream",
       "stream": "stdout",
       "text": [
        "Classifier:\n",
        "SGDClassifier(alpha=1e-06, class_weight='auto', epsilon=0.1, eta0=1,\n",
        "       fit_intercept=True, l1_ratio=0.21636785570663061,\n",
        "       learning_rate='optimal', loss='hinge', n_iter=34, n_jobs=1,\n",
        "       penalty='l1', power_t=0.6321732137042485, random_state=None,\n",
        "       shuffle=True, verbose=0, warm_start=False)\n",
        "--------------------------------------------------------------------------------\n",
        "Predictive performance:\n",
        "            accuracy: 0.633 +- 0.155"
       ]
      },
      {
       "output_type": "stream",
       "stream": "stdout",
       "text": [
        "\n",
        "           precision: 0.637 +- 0.083"
       ]
      },
      {
       "output_type": "stream",
       "stream": "stdout",
       "text": [
        "\n",
        "              recall: 0.900 +- 0.133"
       ]
      },
      {
       "output_type": "stream",
       "stream": "stdout",
       "text": [
        "\n",
        "                  f1: 0.766 +- 0.078"
       ]
      },
      {
       "output_type": "stream",
       "stream": "stdout",
       "text": [
        "\n",
        "   average_precision: 0.913 +- 0.101"
       ]
      },
      {
       "output_type": "stream",
       "stream": "stdout",
       "text": [
        "\n",
        "             roc_auc: 0.889 +- 0.090"
       ]
      },
      {
       "output_type": "stream",
       "stream": "stdout",
       "text": [
        "\n",
        "--------------------------------------------------------------------------------\n",
        "CPU times: user 6.18 s, sys: 597 ms, total: 6.77 s\n",
        "Wall time: 7.77 s\n"
       ]
      }
     ],
     "prompt_number": 29
    },
    {
     "cell_type": "code",
     "collapsed": false,
     "input": [
      "from eden.model import BinaryClassificationModel\n",
      "\n",
      "model2 = BinaryClassificationModel()\n",
      "model2.load(model_fname)\n",
      "\n",
      "#create iterable from files\n",
      "from eden.modifier.fasta import fasta_to_fasta, shuffle_modifier\n",
      "iterable_pos = fasta_to_fasta( rfam_uri( rfam_id ) )\n",
      "\n",
      "from eden.converter.fasta import fasta_to_seq\n",
      "iterable_pos = fasta_to_seq(iterable_pos)\n",
      "\n",
      "size=100\n",
      "#consier only first 'size' elements\n",
      "from itertools import islice\n",
      "iterable_pos = islice(iterable_pos,size)\n",
      "\n",
      "predictions= model2.decision_function( iterable_pos )\n",
      "for n,i in enumerate(sorted(predictions)): print i"
     ],
     "language": "python",
     "metadata": {},
     "outputs": [
      {
       "output_type": "stream",
       "stream": "stdout",
       "text": [
        "-11.5684325442\n",
        "-10.8763299095\n",
        "-10.1324017552\n",
        "-4.01788432454\n",
        "-3.6786553272\n",
        "-3.47772121931\n",
        "-2.40900188827\n",
        "0.589054764807\n",
        "0.860772035566\n",
        "1.6485317287\n",
        "1.99815295405\n",
        "2.19349183449\n",
        "3.10188410933\n",
        "3.23136321675\n",
        "3.70164666331\n",
        "3.72855286444\n",
        "3.74435150401\n",
        "4.31454677166\n",
        "4.34286259022\n",
        "4.72312879424\n",
        "5.58738896983\n",
        "5.96905190868\n",
        "6.34493984721\n",
        "6.97620631033\n",
        "7.07393375555\n",
        "7.11484721994\n",
        "8.01873158764\n",
        "8.04608890375\n",
        "8.09202496154\n",
        "8.10594039606\n",
        "8.56502826181\n",
        "9.24851624507\n",
        "9.32374813817\n",
        "9.38940635578\n",
        "9.43153880855\n",
        "9.46403774398\n",
        "9.5609455119\n",
        "9.69613126673\n",
        "10.5066018896\n",
        "10.6459731876\n",
        "10.6865990294\n",
        "11.1090286106\n",
        "11.1579821082\n",
        "11.6477586709\n",
        "11.8673076214\n",
        "12.1203227152\n",
        "12.1638833184\n",
        "12.2292794659\n",
        "12.9156674658\n",
        "13.0387137936\n",
        "13.049604659\n",
        "13.2526680374\n",
        "13.4319315504\n",
        "13.6604491389\n",
        "13.7655454048\n",
        "13.7815605813\n",
        "14.036365962\n",
        "14.2866362\n",
        "14.7165272815\n",
        "14.7209020491\n",
        "14.7270516989\n",
        "14.7445362318\n",
        "14.8824404941\n",
        "14.9947732436\n",
        "15.3669877041\n",
        "15.644545081\n",
        "15.676928489\n",
        "16.2017995675\n",
        "16.4666680751\n",
        "16.5264060907\n",
        "16.643434386\n",
        "16.7178454543\n",
        "16.8772453003\n",
        "16.9199832322\n",
        "17.1638323072\n",
        "17.2973270831\n",
        "17.3485920276\n",
        "17.8015452689\n",
        "18.4785916989\n",
        "18.484757003\n",
        "19.0218609613\n",
        "19.0823480702\n",
        "19.5914402908\n",
        "19.8779807786\n",
        "20.935977639\n",
        "21.0618032938\n",
        "21.3051190507\n",
        "21.5597115937\n",
        "21.9334755311\n",
        "22.1121346348\n",
        "22.7776700103\n",
        "23.6198698834\n",
        "23.6903370946\n",
        "24.3503613389\n",
        "24.3825112907\n",
        "25.083672925\n",
        "26.5404794437\n",
        "26.9099105221\n",
        "28.1949907978\n",
        "30.6070501429\n"
       ]
      }
     ],
     "prompt_number": 30
    }
   ],
   "metadata": {}
  }
 ]
}