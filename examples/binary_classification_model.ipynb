{
 "metadata": {
  "name": "",
  "signature": "sha256:e1b6b115a80d4f0e305520d382cb86201546abcb7c84dbd36534ba75185555ae"
 },
 "nbformat": 3,
 "nbformat_minor": 0,
 "worksheets": [
  {
   "cells": [
    {
     "cell_type": "code",
     "collapsed": false,
     "input": [
      "def rfam_uri(family_id):\n",
      "    return 'http://rfam.xfam.org/family/%s/alignment?acc=%s&format=fastau&download=0'%(family_id,family_id)\n",
      "\n",
      "def rfam_uri(family_id):\n",
      "    return '%s.fa'%(family_id)"
     ],
     "language": "python",
     "metadata": {},
     "outputs": [],
     "prompt_number": 1
    },
    {
     "cell_type": "code",
     "collapsed": false,
     "input": [
      "rfam_id = 'RF02275' #Hammerhead_HH9\n",
      "rfam_id = 'RF00871' #microRNA mir-689\n",
      "rfam_id = 'RF00005' #tRNA"
     ],
     "language": "python",
     "metadata": {},
     "outputs": [],
     "prompt_number": 2
    },
    {
     "cell_type": "code",
     "collapsed": false,
     "input": [
      "def pre_processor( data, **args):\n",
      "    from eden.converter.rna.rnafold import rnafold_to_eden\n",
      "    graphs = rnafold_to_eden( data, **args )\n",
      "    return graphs"
     ],
     "language": "python",
     "metadata": {},
     "outputs": [],
     "prompt_number": 3
    },
    {
     "cell_type": "code",
     "collapsed": false,
     "input": [
      "def pre_processor( data, **args):\n",
      "    from eden.converter.rna.rnashapes import rnashapes_to_eden\n",
      "    graphs = rnashapes_to_eden( data, data_type='seq', **args )\n",
      "    return graphs"
     ],
     "language": "python",
     "metadata": {},
     "outputs": [],
     "prompt_number": 4
    },
    {
     "cell_type": "code",
     "collapsed": false,
     "input": [
      "from eden.graph import Vectorizer\n",
      "vectorizer = Vectorizer()"
     ],
     "language": "python",
     "metadata": {},
     "outputs": [],
     "prompt_number": 5
    },
    {
     "cell_type": "code",
     "collapsed": false,
     "input": [
      "from sklearn.linear_model import SGDClassifier, Perceptron, PassiveAggressiveClassifier\n",
      "estimator = PassiveAggressiveClassifier(shuffle=True)\n",
      "estimator = Perceptron(class_weight='auto', shuffle=True)\n",
      "estimator = SGDClassifier(class_weight='auto', shuffle=True)"
     ],
     "language": "python",
     "metadata": {},
     "outputs": [],
     "prompt_number": 6
    },
    {
     "cell_type": "markdown",
     "metadata": {},
     "source": [
      "#BinaryClassificationModel"
     ]
    },
    {
     "cell_type": "code",
     "collapsed": false,
     "input": [
      "#create iterable from files\n",
      "from eden.modifier.fasta import fasta_to_fasta, shuffle_modifier\n",
      "iterable_pos = fasta_to_fasta( rfam_uri( rfam_id ) )\n",
      "iterable_neg = fasta_to_fasta( rfam_uri( rfam_id ) , modifier=shuffle_modifier, times=1, order=2 )\n",
      "\n",
      "from eden.converter.fasta import fasta_to_seq\n",
      "iterable_pos = fasta_to_seq(iterable_pos)\n",
      "iterable_neg = fasta_to_seq(iterable_neg)\n",
      "\n",
      "size=100\n",
      "#consier only first 'size' elements\n",
      "from itertools import islice\n",
      "iterable_pos = islice(iterable_pos,size)\n",
      "iterable_neg = islice(iterable_neg,size)\n",
      "\n",
      "train_test_split=0.7\n",
      "#split train/test\n",
      "from eden.util import random_bipartition_iter\n",
      "iterable_pos_train, iterable_pos_test = random_bipartition_iter(iterable_pos, relative_size=train_test_split)\n",
      "iterable_neg_train, iterable_neg_test = random_bipartition_iter(iterable_neg, relative_size=train_test_split)"
     ],
     "language": "python",
     "metadata": {},
     "outputs": [],
     "prompt_number": 10
    },
    {
     "cell_type": "code",
     "collapsed": false,
     "input": [
      "%%time\n",
      "#make predictive model\n",
      "from eden.model import BinaryClassificationModel\n",
      "model = BinaryClassificationModel( pre_processor, estimator=estimator, vectorizer=vectorizer )\n",
      "\n",
      "#optimize hyperparameters and fit model\n",
      "from numpy.random import randint\n",
      "from numpy.random import uniform\n",
      "n_iter=40\n",
      "pre_processor_parameters={'max_num':[1,2,3], \n",
      "                          'shape_type':[4,5], \n",
      "                          'energy_range':randint(10, 40, size=n_iter)}\n",
      "pre_processor_parameters={'max_num':[3], \n",
      "                          'shape_type':[5], \n",
      "                          'energy_range':[10, 35]}\n",
      "\n",
      "vectorizer_parameters={'complexity':[1]}\n",
      "\n",
      "estimator_parameters={'n_iter':randint(5, 100, size=n_iter),\n",
      "                      'penalty':['l1','l2','elasticnet'],\n",
      "                      'l1_ratio':uniform(0.1, size=n_iter), \n",
      "                      'loss':['hinge', 'log', 'modified_huber', 'squared_hinge', 'perceptron'],\n",
      "                      'power_t':uniform(0.1, size=n_iter),\n",
      "                      'alpha': [10**x for x in range(-8,4,1)],\n",
      "                      'eta0': [10**x for x in range(-3,2,1)],\n",
      "                      'learning_rate': [\"invscaling\", \"constant\", \"optimal\"]}\n",
      "\n",
      "model.optimize(iterable_pos_train, iterable_neg_train, n_iter=n_iter, cv=3, n_jobs=1, verbose=True,\n",
      "               pre_processor_parameters=pre_processor_parameters, \n",
      "               vectorizer_parameters=vectorizer_parameters, \n",
      "               estimator_parameters=estimator_parameters)\n",
      "\n",
      "#save model\n",
      "model_fname='eden_model_%s'%rfam_id\n",
      "model.save(model_fname)"
     ],
     "language": "python",
     "metadata": {},
     "outputs": [
      {
       "output_type": "stream",
       "stream": "stdout",
       "text": [
        "Paramters range\n",
        "Pre_processor:\n",
        "{'energy_range': [10, 35], 'max_num': [3], 'shape_type': [5]}\n",
        "Vectorizer:\n",
        "{'complexity': [1]}\n",
        "Estimator:\n",
        "{'alpha': [1e-08,\n",
        "           1e-07,\n",
        "           1e-06,\n",
        "           1e-05,\n",
        "           0.0001,\n",
        "           0.001,\n",
        "           0.01,\n",
        "           0.1,\n",
        "           1,\n",
        "           10,\n",
        "           100,\n",
        "           1000],\n",
        " 'eta0': [0.001, 0.01, 0.1, 1, 10],\n",
        " 'l1_ratio': array([ 0.29522549,  0.54890426,  0.92474508,  0.16577353,  0.57433782,\n",
        "        0.66180147,  0.32477288,  0.51860554,  0.92546512,  0.67320407,\n",
        "        0.5667596 ,  0.56717833,  0.37541813,  0.62386973,  0.37450324,\n",
        "        0.25727182,  0.77522899,  0.41217972,  0.27096397,  0.77768132,\n",
        "        0.67783619,  0.91158833,  0.74019969,  0.93214209,  0.62528045,\n",
        "        0.13880316,  0.56452605,  0.64909154,  0.98817849,  0.31388971,\n",
        "        0.80358404,  0.48776032,  0.33759943,  0.81417173,  0.46604465,\n",
        "        0.64950559,  0.47398999,  0.36486731,  0.95963466,  0.86965091]),\n",
        " 'learning_rate': ['invscaling', 'constant', 'optimal'],\n",
        " 'loss': ['hinge', 'log', 'modified_huber', 'squared_hinge', 'perceptron'],\n",
        " 'n_iter': array([29, 20, 68, 64, 45, 92, 20, 26, 10, 69, 74, 19, 51,  5, 56, 60, 11,\n",
        "       92, 66, 93,  7, 66, 99, 91, 21, 88, 63, 69, 32, 55, 49, 86, 99,  5,\n",
        "       37, 68, 55, 83, 61, 25]),\n",
        " 'penalty': ['l1', 'l2', 'elasticnet'],\n",
        " 'power_t': array([ 0.73007447,  0.30796672,  0.5221468 ,  0.2280723 ,  0.4705762 ,\n",
        "        0.94914352,  0.48420055,  0.15643433,  0.59597435,  0.38939386,\n",
        "        0.41709365,  0.31037121,  0.80013237,  0.92371096,  0.16402326,\n",
        "        0.16830997,  0.47166316,  0.37125603,  0.49687716,  0.93726983,\n",
        "        0.25448314,  0.92776801,  0.73298916,  0.7227895 ,  0.2345954 ,\n",
        "        0.60521118,  0.62828784,  0.92628432,  0.27597701,  0.98299037,\n",
        "        0.93552493,  0.29243414,  0.43663983,  0.30988763,  0.63839656,\n",
        "        0.46101679,  0.26706321,  0.55983945,  0.16523832,  0.54422491])}\n",
        "\n"
       ]
      },
      {
       "output_type": "stream",
       "stream": "stdout",
       "text": [
        "Iteration: 1/40 (at 6.0 sec)\n",
        "Best score: 0.500000 (0.500000 +- 0.000000)\n",
        "Pre_processor:\n",
        "{'energy_range': 10, 'max_num': 3, 'shape_type': 5}\n",
        "Vectorizer:\n",
        "{'complexity': 1}\n",
        "Estimator:\n",
        "{'alpha': 100,\n",
        " 'eta0': 0.1,\n",
        " 'l1_ratio': 0.56717832995962147,\n",
        " 'learning_rate': 'invscaling',\n",
        " 'loss': 'squared_hinge',\n",
        " 'n_iter': 20,\n",
        " 'penalty': 'l1',\n",
        " 'power_t': 0.16830997200885639}\n",
        "Instances: 140 ; Features: 1048577 with an avg of 151 features per instance\n",
        "class: 1 count:70 (0.50)\tclass: -1 count:70 (0.50)\t\n",
        "\n"
       ]
      },
      {
       "output_type": "stream",
       "stream": "stdout",
       "text": [
        "Iteration: 2/40 (at 16.2 sec)\n",
        "Best score: 0.882312 (0.920295 +- 0.037983)\n",
        "Pre_processor:\n",
        "{'energy_range': 35, 'max_num': 3, 'shape_type': 5}\n",
        "Vectorizer:\n",
        "{'complexity': 1}\n",
        "Estimator:\n",
        "{'alpha': 0.0001,\n",
        " 'eta0': 10,\n",
        " 'l1_ratio': 0.67320406980043712,\n",
        " 'learning_rate': 'invscaling',\n",
        " 'loss': 'log',\n",
        " 'n_iter': 60,\n",
        " 'penalty': 'l2',\n",
        " 'power_t': 0.60521118270975305}\n",
        "Instances: 140 ; Features: 1048577 with an avg of 194 features per instance\n",
        "class: 1 count:70 (0.50)\tclass: -1 count:70 (0.50)\t\n",
        "Failed iteration: 10/40 (at 72.2 sec)"
       ]
      },
      {
       "output_type": "stream",
       "stream": "stdout",
       "text": [
        "\n",
        "Inappropriate argument value (of correct type).\n",
        "Floating-point under-/overflow occurred at epoch #4. Scaling input data with StandardScaler or MinMaxScaler might help.\n",
        "Failed with the following setting:\n",
        "Pre_processor:\n",
        "{'energy_range': 10, 'max_num': 3, 'shape_type': 5}\n",
        "Vectorizer:\n",
        "{'complexity': 1}\n",
        "Estimator:\n",
        "{'alpha': 1e-06,\n",
        " 'eta0': 10,\n",
        " 'l1_ratio': 0.62528044712566622,\n",
        " 'learning_rate': 'optimal',\n",
        " 'loss': 'squared_hinge',\n",
        " 'n_iter': 26,\n",
        " 'penalty': 'elasticnet',\n",
        " 'power_t': 0.93552493043979967}\n",
        "...continuing\n",
        "\n"
       ]
      },
      {
       "output_type": "stream",
       "stream": "stdout",
       "text": [
        "Iteration: 16/40 (at 120.7 sec)\n",
        "Best score: 0.888513 (0.920012 +- 0.031499)\n",
        "Pre_processor:\n",
        "{'energy_range': 35, 'max_num': 3, 'shape_type': 5}\n",
        "Vectorizer:\n",
        "{'complexity': 1}\n",
        "Estimator:\n",
        "{'alpha': 1e-05,\n",
        " 'eta0': 10,\n",
        " 'l1_ratio': 0.33759943256146635,\n",
        " 'learning_rate': 'constant',\n",
        " 'loss': 'log',\n",
        " 'n_iter': 99,\n",
        " 'penalty': 'l2',\n",
        " 'power_t': 0.23459539537348512}\n",
        "Instances: 140 ; Features: 1048577 with an avg of 194 features per instance\n",
        "class: 1 count:70 (0.50)\tclass: -1 count:70 (0.50)\t\n",
        "Failed iteration: 25/40 (at 194.8 sec)"
       ]
      },
      {
       "output_type": "stream",
       "stream": "stdout",
       "text": [
        "\n",
        "Inappropriate argument value (of correct type).\n",
        "Floating-point under-/overflow occurred at epoch #1. Scaling input data with StandardScaler or MinMaxScaler might help.\n",
        "Failed with the following setting:\n",
        "Pre_processor:\n",
        "{'energy_range': 10, 'max_num': 3, 'shape_type': 5}\n",
        "Vectorizer:\n",
        "{'complexity': 1}\n",
        "Estimator:\n",
        "{'alpha': 1000,\n",
        " 'eta0': 10,\n",
        " 'l1_ratio': 0.41217972144132442,\n",
        " 'learning_rate': 'constant',\n",
        " 'loss': 'perceptron',\n",
        " 'n_iter': 88,\n",
        " 'penalty': 'l2',\n",
        " 'power_t': 0.31037121429709369}\n",
        "...continuing\n",
        "Failed iteration: 31/40 (at 241.6 sec)"
       ]
      },
      {
       "output_type": "stream",
       "stream": "stdout",
       "text": [
        "\n",
        "Inappropriate argument value (of correct type).\n",
        "Floating-point under-/overflow occurred at epoch #5. Scaling input data with StandardScaler or MinMaxScaler might help.\n",
        "Failed with the following setting:\n",
        "Pre_processor:\n",
        "{'energy_range': 35, 'max_num': 3, 'shape_type': 5}\n",
        "Vectorizer:\n",
        "{'complexity': 1}\n",
        "Estimator:\n",
        "{'alpha': 1e-06,\n",
        " 'eta0': 0.1,\n",
        " 'l1_ratio': 0.86965091304889242,\n",
        " 'learning_rate': 'optimal',\n",
        " 'loss': 'squared_hinge',\n",
        " 'n_iter': 37,\n",
        " 'penalty': 'elasticnet',\n",
        " 'power_t': 0.93726982964885353}\n",
        "...continuing\n",
        "\n"
       ]
      },
      {
       "output_type": "stream",
       "stream": "stdout",
       "text": [
        "Iteration: 32/40 (at 251.5 sec)\n",
        "Best score: 0.889847 (0.919961 +- 0.030113)\n",
        "Pre_processor:\n",
        "{'energy_range': 35, 'max_num': 3, 'shape_type': 5}\n",
        "Vectorizer:\n",
        "{'complexity': 1}\n",
        "Estimator:\n",
        "{'alpha': 0.001,\n",
        " 'eta0': 0.1,\n",
        " 'l1_ratio': 0.77522898792191364,\n",
        " 'learning_rate': 'optimal',\n",
        " 'loss': 'hinge',\n",
        " 'n_iter': 29,\n",
        " 'penalty': 'l2',\n",
        " 'power_t': 0.60521118270975305}\n",
        "Instances: 140 ; Features: 1048577 with an avg of 194 features per instance\n",
        "class: 1 count:70 (0.50)\tclass: -1 count:70 (0.50)\t\n",
        "Failed iteration: 33/40 (at 257.1 sec)"
       ]
      },
      {
       "output_type": "stream",
       "stream": "stdout",
       "text": [
        "\n",
        "Inappropriate argument value (of correct type).\n",
        "Floating-point under-/overflow occurred at epoch #7. Scaling input data with StandardScaler or MinMaxScaler might help.\n",
        "Failed with the following setting:\n",
        "Pre_processor:\n",
        "{'energy_range': 10, 'max_num': 3, 'shape_type': 5}\n",
        "Vectorizer:\n",
        "{'complexity': 1}\n",
        "Estimator:\n",
        "{'alpha': 1e-06,\n",
        " 'eta0': 10,\n",
        " 'l1_ratio': 0.9881784867079042,\n",
        " 'learning_rate': 'constant',\n",
        " 'loss': 'squared_hinge',\n",
        " 'n_iter': 69,\n",
        " 'penalty': 'elasticnet',\n",
        " 'power_t': 0.30796671952037857}\n",
        "...continuing\n",
        "CPU times: user 2min 57s, sys: 17.8 s, total: 3min 15s"
       ]
      },
      {
       "output_type": "stream",
       "stream": "stdout",
       "text": [
        "\n",
        "Wall time: 5min 17s\n"
       ]
      }
     ],
     "prompt_number": 11
    },
    {
     "cell_type": "code",
     "collapsed": false,
     "input": [
      "%%time\n",
      "#estimate predictive performance\n",
      "model.estimate( iterable_pos_test, iterable_neg_test, cv=5 )"
     ],
     "language": "python",
     "metadata": {},
     "outputs": [
      {
       "output_type": "stream",
       "stream": "stdout",
       "text": [
        "Classifier:\n",
        "SGDClassifier(alpha=0.001, class_weight='auto', epsilon=0.1, eta0=0.1,\n",
        "       fit_intercept=True, l1_ratio=0.77522898792191364,\n",
        "       learning_rate='optimal', loss='hinge', n_iter=29, n_jobs=1,\n",
        "       penalty='l2', power_t=0.60521118270975305, random_state=None,\n",
        "       shuffle=True, verbose=0, warm_start=False)\n",
        "--------------------------------------------------------------------------------\n",
        "Predictive performance:\n",
        "            accuracy: 0.833 +- 0.091"
       ]
      },
      {
       "output_type": "stream",
       "stream": "stdout",
       "text": [
        "\n",
        "           precision: 0.905 +- 0.078"
       ]
      },
      {
       "output_type": "stream",
       "stream": "stdout",
       "text": [
        "\n",
        "              recall: 0.767 +- 0.226"
       ]
      },
      {
       "output_type": "stream",
       "stream": "stdout",
       "text": [
        "\n",
        "                  f1: 0.875 +- 0.049"
       ]
      },
      {
       "output_type": "stream",
       "stream": "stdout",
       "text": [
        "\n",
        "   average_precision: 0.954 +- 0.034"
       ]
      },
      {
       "output_type": "stream",
       "stream": "stdout",
       "text": [
        "\n",
        "             roc_auc: 0.939 +- 0.054"
       ]
      },
      {
       "output_type": "stream",
       "stream": "stdout",
       "text": [
        "\n",
        "--------------------------------------------------------------------------------\n",
        "CPU times: user 4.67 s, sys: 533 ms, total: 5.2 s\n",
        "Wall time: 7 s\n"
       ]
      }
     ],
     "prompt_number": 12
    },
    {
     "cell_type": "markdown",
     "metadata": {},
     "source": [
      "Models can be reloaded from disk"
     ]
    },
    {
     "cell_type": "code",
     "collapsed": false,
     "input": [
      "from eden.model import BinaryClassificationModel\n",
      "\n",
      "model2 = BinaryClassificationModel()\n",
      "model2.load(model_fname)\n",
      "\n",
      "#create iterable from files\n",
      "from eden.modifier.fasta import fasta_to_fasta, shuffle_modifier\n",
      "iterable_pos = fasta_to_fasta( rfam_uri( rfam_id ) )\n",
      "\n",
      "from eden.converter.fasta import fasta_to_seq\n",
      "iterable_pos = fasta_to_seq(iterable_pos)\n",
      "\n",
      "size=100\n",
      "#consier only first 'size' elements\n",
      "from itertools import islice\n",
      "iterable_pos = islice(iterable_pos,size)\n",
      "\n",
      "predictions= model2.decision_function( iterable_pos )\n",
      "for n,i in enumerate(sorted(predictions)): print i"
     ],
     "language": "python",
     "metadata": {},
     "outputs": [
      {
       "output_type": "stream",
       "stream": "stdout",
       "text": [
        "-0.777837087763\n",
        "-0.35992680375\n",
        "-0.321966596403\n",
        "-0.172423928428\n",
        "-0.0992262269239\n",
        "-0.0327331904953\n",
        "0.128178936241\n",
        "0.289571806374\n",
        "0.429952705952\n",
        "0.471769759936\n",
        "0.488588205365\n",
        "0.499629627671\n",
        "0.516724931689\n",
        "0.517729776744\n",
        "0.611880188321\n",
        "0.617584046348\n",
        "0.634475213636\n",
        "0.659235991409\n",
        "0.670676579595\n",
        "0.706916858475\n",
        "0.717041599281\n",
        "0.747105900478\n",
        "0.755577318153\n",
        "0.766296493101\n",
        "0.770407667433\n",
        "0.779959023554\n",
        "0.780477653155\n",
        "0.798254772143\n",
        "0.807764192009\n",
        "0.809328169967\n",
        "0.824708872954\n",
        "0.829424017712\n",
        "0.856832671144\n",
        "0.86287049068\n",
        "0.863721522532\n",
        "0.873147066764\n",
        "0.877779826763\n",
        "0.879067698105\n",
        "0.881407997548\n",
        "0.885869472764\n",
        "0.885883003678\n",
        "0.896310387279\n",
        "0.897116194835\n",
        "0.923638813251\n",
        "0.927999111885\n",
        "0.933255384955\n",
        "0.937352215256\n",
        "0.945055289359\n",
        "0.94980622478\n",
        "0.969869076949\n",
        "0.975577877459\n",
        "0.982744228321\n",
        "0.986567722553\n",
        "0.988592635935\n",
        "0.991057819133\n",
        "0.996277171734\n",
        "0.997713596776\n",
        "1.00322982579\n",
        "1.00448838932\n",
        "1.00776936125\n",
        "1.01921093237\n",
        "1.02927394974\n",
        "1.04331489958\n",
        "1.04689772896\n",
        "1.08854041994\n",
        "1.09402190726\n",
        "1.09917898168\n",
        "1.11152700133\n",
        "1.11279951114\n",
        "1.14426312442\n",
        "1.16750722074\n",
        "1.18990682495\n",
        "1.2178289414\n",
        "1.22662535848\n",
        "1.2369983011\n",
        "1.25686281346\n",
        "1.2611901771\n",
        "1.28741196086\n",
        "1.31449518349\n",
        "1.31713918084\n",
        "1.32084650497\n",
        "1.34935154373\n",
        "1.3533931916\n",
        "1.35475978199\n",
        "1.36153525274\n",
        "1.37602022359\n",
        "1.37806245423\n",
        "1.39739117442\n",
        "1.46222811892\n",
        "1.48726799033\n",
        "1.52083053513\n",
        "1.52208933291\n",
        "1.53411571461\n",
        "1.57336250916\n",
        "1.61045130402\n",
        "1.63650954303\n",
        "1.83718242558\n",
        "1.87847291118\n",
        "1.90581640377\n",
        "2.02146655086\n"
       ]
      }
     ],
     "prompt_number": 13
    },
    {
     "cell_type": "markdown",
     "metadata": {},
     "source": [
      "#SelfTrainingBinaryClassificationModel"
     ]
    },
    {
     "cell_type": "code",
     "collapsed": false,
     "input": [
      "#create iterable from files\n",
      "from eden.modifier.fasta import fasta_to_fasta, shuffle_modifier\n",
      "iterable_pos = fasta_to_fasta( rfam_uri( rfam_id ) )\n",
      "iterable_neg = fasta_to_fasta( rfam_uri( rfam_id ) , modifier=shuffle_modifier, times=1, order=2 )\n",
      "\n",
      "from eden.converter.fasta import fasta_to_seq\n",
      "iterable_pos = fasta_to_seq(iterable_pos)\n",
      "iterable_neg = fasta_to_seq(iterable_neg)\n",
      "\n",
      "size=100\n",
      "#consier only first 'size' elements\n",
      "from itertools import islice\n",
      "iterable_pos = islice(iterable_pos,size)\n",
      "iterable_neg = islice(iterable_neg,size)\n",
      "\n",
      "train_test_split=0.7\n",
      "#split train/test\n",
      "from eden.util import random_bipartition_iter\n",
      "iterable_pos_train, iterable_pos_test = random_bipartition_iter(iterable_pos, relative_size=train_test_split)\n",
      "iterable_neg_train, iterable_neg_test = random_bipartition_iter(iterable_neg, relative_size=train_test_split)"
     ],
     "language": "python",
     "metadata": {},
     "outputs": [],
     "prompt_number": 7
    },
    {
     "cell_type": "code",
     "collapsed": false,
     "input": [
      "%%time\n",
      "#make predictive model\n",
      "from eden.model import SelfTrainingBinaryClassificationModel\n",
      "model = SelfTrainingBinaryClassificationModel( pre_processor, estimator=estimator, vectorizer=vectorizer )\n",
      "\n",
      "#optimize hyperparameters and fit model\n",
      "from numpy.random import randint\n",
      "from numpy.random import uniform\n",
      "n_iter=40\n",
      "pre_processor_parameters={'max_num':[1,2,3], \n",
      "                          'shape_type':[4,5], \n",
      "                          'energy_range':randint(10, 40, size=n_iter)}\n",
      "pre_processor_parameters={'max_num':[3], \n",
      "                          'shape_type':[5], \n",
      "                          'energy_range':[10,35]}\n",
      "\n",
      "vectorizer_parameters={'complexity':[1]}\n",
      "\n",
      "estimator_parameters={'n_iter':randint(5, 100, size=n_iter),\n",
      "                      'penalty':['l1','l2','elasticnet'],\n",
      "                      'l1_ratio':uniform(0.1, size=n_iter), \n",
      "                      'loss':['hinge', 'log', 'modified_huber', 'squared_hinge', 'perceptron'],\n",
      "                      'power_t':uniform(0.1, size=n_iter),\n",
      "                      'alpha': [10**x for x in range(-8,4,1)],\n",
      "                      'eta0': [10**x for x in range(-3,2,1)],\n",
      "                      'learning_rate': [\"invscaling\", \"constant\", \"optimal\"]}\n",
      "\n",
      "model.optimize(iterable_pos_train, iterable_neg_train, \n",
      "               neg_to_pos_ratio=0.2,\n",
      "               num_selftraining_iterations=3,\n",
      "               lower_bound_threshold= -1,\n",
      "               upper_bound_threshold= 1,\n",
      "               n_iter=n_iter, cv=3, n_jobs=1, verbose=True,\n",
      "               pre_processor_parameters=pre_processor_parameters, \n",
      "               vectorizer_parameters=vectorizer_parameters, \n",
      "               estimator_parameters=estimator_parameters)\n",
      "\n",
      "#save model\n",
      "model_fname='eden_model_%s'%rfam_id\n",
      "model.save(model_fname)"
     ],
     "language": "python",
     "metadata": {},
     "outputs": [
      {
       "output_type": "stream",
       "stream": "stdout",
       "text": [
        "Paramters range\n",
        "Pre_processor:\n",
        "{'energy_range': [10, 35], 'max_num': [3], 'shape_type': [5]}\n",
        "Vectorizer:\n",
        "{'complexity': [1]}\n",
        "Estimator:\n",
        "{'alpha': [1e-08,\n",
        "           1e-07,\n",
        "           1e-06,\n",
        "           1e-05,\n",
        "           0.0001,\n",
        "           0.001,\n",
        "           0.01,\n",
        "           0.1,\n",
        "           1,\n",
        "           10,\n",
        "           100,\n",
        "           1000],\n",
        " 'eta0': [0.001, 0.01, 0.1, 1, 10],\n",
        " 'l1_ratio': array([ 0.91027707,  0.36395701,  0.65844412,  0.18139981,  0.32843812,\n",
        "        0.12054475,  0.41828362,  0.83658432,  0.51355246,  0.62262707,\n",
        "        0.96716255,  0.55850053,  0.42036391,  0.70105549,  0.77252533,\n",
        "        0.28876285,  0.89195798,  0.89744583,  0.19813967,  0.38321416,\n",
        "        0.48569121,  0.52818524,  0.48297923,  0.73281823,  0.10539565,\n",
        "        0.28662466,  0.58789098,  0.92678706,  0.8639532 ,  0.45767343,\n",
        "        0.73446887,  0.79112428,  0.40007592,  0.18833632,  0.63126174,\n",
        "        0.40197851,  0.47620351,  0.80375234,  0.61739699,  0.66789153]),\n",
        " 'learning_rate': ['invscaling', 'constant', 'optimal'],\n",
        " 'loss': ['hinge', 'log', 'modified_huber', 'squared_hinge', 'perceptron'],\n",
        " 'n_iter': array([21, 74, 85,  7, 84, 49, 15, 56, 55, 11, 50, 78, 56, 76, 42, 39, 27,\n",
        "        7, 58, 65, 32, 90, 24, 36, 90, 71, 54, 32, 43, 74, 45, 70, 60, 99,\n",
        "        9,  8, 17, 72, 65, 72]),\n",
        " 'penalty': ['l1', 'l2', 'elasticnet'],\n",
        " 'power_t': array([ 0.70873679,  0.62204747,  0.82730407,  0.28244953,  0.63996017,\n",
        "        0.93569087,  0.56866454,  0.51015461,  0.7165347 ,  0.91139632,\n",
        "        0.22287216,  0.69117318,  0.93305019,  0.1350903 ,  0.62411591,\n",
        "        0.83650542,  0.96891066,  0.72150707,  0.41397424,  0.90730883,\n",
        "        0.51781896,  0.7332605 ,  0.71769688,  0.89340187,  0.95785267,\n",
        "        0.17305147,  0.72583244,  0.66132337,  0.21984619,  0.87673778,\n",
        "        0.84499343,  0.1120872 ,  0.13436486,  0.70455333,  0.91565765,\n",
        "        0.34122001,  0.25139753,  0.83597746,  0.88820279,  0.66587657])}\n",
        "\n"
       ]
      },
      {
       "output_type": "stream",
       "stream": "stdout",
       "text": [
        "Iteration: 1/40 (at 15.1 sec)\n",
        "Best score: 0.183796 (0.368478 +- 0.184682)\n",
        "Pre_processor:\n",
        "{'energy_range': 35, 'max_num': 3, 'shape_type': 5}\n",
        "Vectorizer:\n",
        "{'complexity': 1}\n",
        "Estimator:\n",
        "{'alpha': 10,\n",
        " 'eta0': 1,\n",
        " 'l1_ratio': 0.62262706654501776,\n",
        " 'learning_rate': 'optimal',\n",
        " 'loss': 'perceptron',\n",
        " 'n_iter': 70,\n",
        " 'penalty': 'l2',\n",
        " 'power_t': 0.89340186865241167}\n",
        "Instances: 84 ; Features: 1048577 with an avg of 193 features per instance\n",
        "class: 1 count:70 (0.83)\tclass: -1 count:14 (0.17)\t\n",
        "\n"
       ]
      },
      {
       "output_type": "stream",
       "stream": "stdout",
       "text": [
        "Iteration: 2/40 (at 29.7 sec)\n",
        "Best score: 0.794298 (0.849034 +- 0.054736)\n",
        "Pre_processor:\n",
        "{'energy_range': 35, 'max_num': 3, 'shape_type': 5}\n",
        "Vectorizer:\n",
        "{'complexity': 1}\n",
        "Estimator:\n",
        "{'alpha': 1e-06,\n",
        " 'eta0': 1,\n",
        " 'l1_ratio': 0.41828362470831226,\n",
        " 'learning_rate': 'optimal',\n",
        " 'loss': 'hinge',\n",
        " 'n_iter': 90,\n",
        " 'penalty': 'elasticnet',\n",
        " 'power_t': 0.69117318164285824}\n",
        "Instances: 76 ; Features: 1048577 with an avg of 196 features per instance\n",
        "class: 1 count:70 (0.92)\tclass: -1 count:6 (0.08)\t\n",
        "\n"
       ]
      },
      {
       "output_type": "stream",
       "stream": "stdout",
       "text": [
        "Iteration: 4/40 (at 55.6 sec)\n",
        "Best score: 0.798816 (0.916667 +- 0.117851)\n",
        "Pre_processor:\n",
        "{'energy_range': 10, 'max_num': 3, 'shape_type': 5}\n",
        "Vectorizer:\n",
        "{'complexity': 1}\n",
        "Estimator:\n",
        "{'alpha': 1e-06,\n",
        " 'eta0': 10,\n",
        " 'l1_ratio': 0.36395700705026834,\n",
        " 'learning_rate': 'optimal',\n",
        " 'loss': 'hinge',\n",
        " 'n_iter': 27,\n",
        " 'penalty': 'l2',\n",
        " 'power_t': 0.93569087074824531}\n",
        "Instances: 74 ; Features: 1048577 with an avg of 156 features per instance\n",
        "class: 1 count:70 (0.95)\tclass: -1 count:4 (0.05)\t\n",
        "Failed iteration: 15/40 (at 212.2 sec)"
       ]
      },
      {
       "output_type": "stream",
       "stream": "stdout",
       "text": [
        "\n",
        "Common base class for all non-exit exceptions.\n",
        "ERROR: something went wrong, no graphs are present in current iterator.\n",
        "Failed with the following setting:\n",
        "Pre_processor:\n",
        "{'energy_range': 35, 'max_num': 3, 'shape_type': 5}\n",
        "Vectorizer:\n",
        "{'complexity': 1}\n",
        "Estimator:\n",
        "{'alpha': 1e-07,\n",
        " 'eta0': 1,\n",
        " 'l1_ratio': 0.51355245542628092,\n",
        " 'learning_rate': 'optimal',\n",
        " 'loss': 'modified_huber',\n",
        " 'n_iter': 27,\n",
        " 'penalty': 'elasticnet',\n",
        " 'power_t': 0.13436485665995798}\n",
        "...continuing\n",
        "Failed iteration: 20/40 (at 264.6 sec)"
       ]
      },
      {
       "output_type": "stream",
       "stream": "stdout",
       "text": [
        "\n",
        "Inappropriate argument value (of correct type).\n",
        "Floating-point under-/overflow occurred at epoch #14. Scaling input data with StandardScaler or MinMaxScaler might help.\n",
        "Failed with the following setting:\n",
        "Pre_processor:\n",
        "{'energy_range': 35, 'max_num': 3, 'shape_type': 5}\n",
        "Vectorizer:\n",
        "{'complexity': 1}\n",
        "Estimator:\n",
        "{'alpha': 1e-05,\n",
        " 'eta0': 10,\n",
        " 'l1_ratio': 0.18833632253627916,\n",
        " 'learning_rate': 'constant',\n",
        " 'loss': 'squared_hinge',\n",
        " 'n_iter': 90,\n",
        " 'penalty': 'l2',\n",
        " 'power_t': 0.72583244388982526}\n",
        "...continuing\n",
        "Failed iteration: 25/40 (at 322.2 sec)"
       ]
      },
      {
       "output_type": "stream",
       "stream": "stdout",
       "text": [
        "\n",
        "Common base class for all non-exit exceptions.\n",
        "ERROR: something went wrong, no graphs are present in current iterator.\n",
        "Failed with the following setting:\n",
        "Pre_processor:\n",
        "{'energy_range': 10, 'max_num': 3, 'shape_type': 5}\n",
        "Vectorizer:\n",
        "{'complexity': 1}\n",
        "Estimator:\n",
        "{'alpha': 1e-06,\n",
        " 'eta0': 0.1,\n",
        " 'l1_ratio': 0.83658431899283436,\n",
        " 'learning_rate': 'optimal',\n",
        " 'loss': 'hinge',\n",
        " 'n_iter': 42,\n",
        " 'penalty': 'l2',\n",
        " 'power_t': 0.7087367891052343}\n",
        "...continuing\n",
        "\n"
       ]
      },
      {
       "output_type": "stream",
       "stream": "stdout",
       "text": [
        "Iteration: 26/40 (at 333.9 sec)\n",
        "Best score: 0.839711 (0.892633 +- 0.052922)\n",
        "Pre_processor:\n",
        "{'energy_range': 10, 'max_num': 3, 'shape_type': 5}\n",
        "Vectorizer:\n",
        "{'complexity': 1}\n",
        "Estimator:\n",
        "{'alpha': 1e-05,\n",
        " 'eta0': 0.1,\n",
        " 'l1_ratio': 0.7010554943803291,\n",
        " 'learning_rate': 'invscaling',\n",
        " 'loss': 'modified_huber',\n",
        " 'n_iter': 74,\n",
        " 'penalty': 'elasticnet',\n",
        " 'power_t': 0.71653469829919492}\n",
        "Instances: 84 ; Features: 1048577 with an avg of 151 features per instance\n",
        "class: 1 count:70 (0.83)\tclass: -1 count:14 (0.17)\t\n",
        "Failed iteration: 30/40 (at 386.7 sec)"
       ]
      },
      {
       "output_type": "stream",
       "stream": "stdout",
       "text": [
        "\n",
        "Inappropriate argument value (of correct type).\n",
        "Floating-point under-/overflow occurred at epoch #2. Scaling input data with StandardScaler or MinMaxScaler might help.\n",
        "Failed with the following setting:\n",
        "Pre_processor:\n",
        "{'energy_range': 35, 'max_num': 3, 'shape_type': 5}\n",
        "Vectorizer:\n",
        "{'complexity': 1}\n",
        "Estimator:\n",
        "{'alpha': 100,\n",
        " 'eta0': 1,\n",
        " 'l1_ratio': 0.36395700705026834,\n",
        " 'learning_rate': 'constant',\n",
        " 'loss': 'squared_hinge',\n",
        " 'n_iter': 99,\n",
        " 'penalty': 'l2',\n",
        " 'power_t': 0.69117318164285824}\n",
        "...continuing\n",
        "Failed iteration: 32/40 (at 408.7 sec)"
       ]
      },
      {
       "output_type": "stream",
       "stream": "stdout",
       "text": [
        "\n",
        "Common base class for all non-exit exceptions.\n",
        "No instances found that satisfy constraints\n",
        "Failed with the following setting:\n",
        "Pre_processor:\n",
        "{'energy_range': 10, 'max_num': 3, 'shape_type': 5}\n",
        "Vectorizer:\n",
        "{'complexity': 1}\n",
        "Estimator:\n",
        "{'alpha': 1e-07,\n",
        " 'eta0': 0.01,\n",
        " 'l1_ratio': 0.73281822522806461,\n",
        " 'learning_rate': 'optimal',\n",
        " 'loss': 'hinge',\n",
        " 'n_iter': 72,\n",
        " 'penalty': 'elasticnet',\n",
        " 'power_t': 0.51015460945984326}\n",
        "...continuing\n",
        "Failed iteration: 35/40 (at 442.2 sec)"
       ]
      },
      {
       "output_type": "stream",
       "stream": "stdout",
       "text": [
        "\n",
        "Common base class for all non-exit exceptions.\n",
        "ERROR: something went wrong, no graphs are present in current iterator.\n",
        "Failed with the following setting:\n",
        "Pre_processor:\n",
        "{'energy_range': 35, 'max_num': 3, 'shape_type': 5}\n",
        "Vectorizer:\n",
        "{'complexity': 1}\n",
        "Estimator:\n",
        "{'alpha': 1e-08,\n",
        " 'eta0': 0.001,\n",
        " 'l1_ratio': 0.73446887466427768,\n",
        " 'learning_rate': 'optimal',\n",
        " 'loss': 'modified_huber',\n",
        " 'n_iter': 36,\n",
        " 'penalty': 'l2',\n",
        " 'power_t': 0.41397423665242972}\n",
        "...continuing\n",
        "CPU times: user 4min 50s, sys: 42.8 s, total: 5min 33s"
       ]
      },
      {
       "output_type": "stream",
       "stream": "stdout",
       "text": [
        "\n",
        "Wall time: 8min 34s\n"
       ]
      }
     ],
     "prompt_number": 8
    },
    {
     "cell_type": "code",
     "collapsed": false,
     "input": [
      "%%time\n",
      "#estimate predictive performance\n",
      "model.estimate( iterable_pos_test, iterable_neg_test, cv=5 )"
     ],
     "language": "python",
     "metadata": {},
     "outputs": [
      {
       "output_type": "stream",
       "stream": "stdout",
       "text": [
        "Classifier:\n",
        "SGDClassifier(alpha=1e-05, class_weight='auto', epsilon=0.1, eta0=0.1,\n",
        "       fit_intercept=True, l1_ratio=0.7010554943803291,\n",
        "       learning_rate='invscaling', loss='modified_huber', n_iter=74,\n",
        "       n_jobs=1, penalty='elasticnet', power_t=0.71653469829919492,\n",
        "       random_state=None, shuffle=True, verbose=0, warm_start=False)\n",
        "--------------------------------------------------------------------------------\n",
        "Predictive performance:\n",
        "            accuracy: 0.667 +- 0.118"
       ]
      },
      {
       "output_type": "stream",
       "stream": "stdout",
       "text": [
        "\n",
        "           precision: 0.625 +- 0.152"
       ]
      },
      {
       "output_type": "stream",
       "stream": "stdout",
       "text": [
        "\n",
        "              recall: 0.800 +- 0.163"
       ]
      },
      {
       "output_type": "stream",
       "stream": "stdout",
       "text": [
        "\n",
        "                  f1: 0.707 +- 0.150"
       ]
      },
      {
       "output_type": "stream",
       "stream": "stdout",
       "text": [
        "\n",
        "   average_precision: 0.796 +- 0.149"
       ]
      },
      {
       "output_type": "stream",
       "stream": "stdout",
       "text": [
        "\n",
        "             roc_auc: 0.750 +- 0.191"
       ]
      },
      {
       "output_type": "stream",
       "stream": "stdout",
       "text": [
        "\n",
        "--------------------------------------------------------------------------------\n",
        "CPU times: user 6.26 s, sys: 533 ms, total: 6.8 s\n",
        "Wall time: 7.82 s\n"
       ]
      }
     ],
     "prompt_number": 9
    }
   ],
   "metadata": {}
  }
 ]
}