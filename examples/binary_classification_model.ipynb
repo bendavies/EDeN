{
 "metadata": {
  "name": "",
  "signature": "sha256:4ef3bf0960003fa074698c91cca42182e9c8f0c2a9478938d017ec61fe8253e6"
 },
 "nbformat": 3,
 "nbformat_minor": 0,
 "worksheets": [
  {
   "cells": [
    {
     "cell_type": "code",
     "collapsed": false,
     "input": [
      "def rfam_uri(family_id):\n",
      "    return 'http://rfam.xfam.org/family/%s/alignment?acc=%s&format=fastau&download=0'%(family_id,family_id)\n",
      "\n",
      "def rfam_uri(family_id):\n",
      "    return '%s.fa'%(family_id)"
     ],
     "language": "python",
     "metadata": {},
     "outputs": [],
     "prompt_number": 10
    },
    {
     "cell_type": "code",
     "collapsed": false,
     "input": [
      "rfam_id = 'RF02275' #Hammerhead_HH9\n",
      "rfam_id = 'RF00871' #microRNA mir-689\n",
      "rfam_id = 'RF00005' #tRNA"
     ],
     "language": "python",
     "metadata": {},
     "outputs": [],
     "prompt_number": 11
    },
    {
     "cell_type": "code",
     "collapsed": false,
     "input": [
      "def pre_processor( data, **args):\n",
      "    from eden.converter.rna.rnafold import rnafold_to_eden\n",
      "    graphs = rnafold_to_eden( data, **args )\n",
      "    return graphs"
     ],
     "language": "python",
     "metadata": {},
     "outputs": [],
     "prompt_number": 12
    },
    {
     "cell_type": "code",
     "collapsed": false,
     "input": [
      "def pre_processor( data, **args):\n",
      "    from eden.converter.rna.rnashapes import rnashapes_to_eden\n",
      "    graphs = rnashapes_to_eden( data, data_type='seq', **args )\n",
      "    return graphs"
     ],
     "language": "python",
     "metadata": {},
     "outputs": [],
     "prompt_number": 13
    },
    {
     "cell_type": "code",
     "collapsed": false,
     "input": [
      "from eden.graph import Vectorizer\n",
      "vectorizer = Vectorizer()"
     ],
     "language": "python",
     "metadata": {},
     "outputs": [],
     "prompt_number": 14
    },
    {
     "cell_type": "code",
     "collapsed": false,
     "input": [
      "from sklearn.linear_model import SGDClassifier, Perceptron, PassiveAggressiveClassifier\n",
      "estimator = PassiveAggressiveClassifier(shuffle=True)\n",
      "estimator = Perceptron(class_weight='auto', shuffle=True)\n",
      "estimator = SGDClassifier(class_weight='auto', shuffle=True)"
     ],
     "language": "python",
     "metadata": {},
     "outputs": [],
     "prompt_number": 15
    },
    {
     "cell_type": "code",
     "collapsed": false,
     "input": [
      "%%time\n",
      "#estimate predictive performance\n",
      "model.estimate( iterable_pos_test, iterable_neg_test, cv=5 )"
     ],
     "language": "python",
     "metadata": {},
     "outputs": [
      {
       "output_type": "stream",
       "stream": "stdout",
       "text": [
        "Classifier:\n",
        "SGDClassifier(alpha=0.001, class_weight='auto', epsilon=0.1, eta0=10,\n",
        "       fit_intercept=True, l1_ratio=0.98589451642310277,\n",
        "       learning_rate='invscaling', loss='modified_huber', n_iter=55,\n",
        "       n_jobs=1, penalty='l2', power_t=0.55528377849977217,\n",
        "       random_state=None, shuffle=True, verbose=0, warm_start=False)\n",
        "--------------------------------------------------------------------------------\n",
        "Predictive performance:\n",
        "            accuracy: 0.750 +- 0.053"
       ]
      },
      {
       "output_type": "stream",
       "stream": "stdout",
       "text": [
        "\n",
        "           precision: 0.794 +- 0.134"
       ]
      },
      {
       "output_type": "stream",
       "stream": "stdout",
       "text": [
        "\n",
        "              recall: 0.833 +- 0.183"
       ]
      },
      {
       "output_type": "stream",
       "stream": "stdout",
       "text": [
        "\n",
        "                  f1: 0.825 +- 0.123"
       ]
      },
      {
       "output_type": "stream",
       "stream": "stdout",
       "text": [
        "\n",
        "   average_precision: 0.896 +- 0.068"
       ]
      },
      {
       "output_type": "stream",
       "stream": "stdout",
       "text": [
        "\n",
        "             roc_auc: 0.828 +- 0.123"
       ]
      },
      {
       "output_type": "stream",
       "stream": "stdout",
       "text": [
        "\n",
        "--------------------------------------------------------------------------------\n",
        "CPU times: user 6.31 s, sys: 514 ms, total: 6.82 s\n",
        "Wall time: 8.52 s\n"
       ]
      }
     ],
     "prompt_number": 18
    },
    {
     "cell_type": "markdown",
     "metadata": {},
     "source": [
      "#BinaryClassificationModel"
     ]
    },
    {
     "cell_type": "code",
     "collapsed": false,
     "input": [
      "#create iterable from files\n",
      "from eden.modifier.fasta import fasta_to_fasta, shuffle_modifier\n",
      "iterable_pos = fasta_to_fasta( rfam_uri( rfam_id ) )\n",
      "iterable_neg = fasta_to_fasta( rfam_uri( rfam_id ) , modifier=shuffle_modifier, times=1, order=2 )\n",
      "\n",
      "from eden.converter.fasta import fasta_to_seq\n",
      "iterable_pos = fasta_to_seq(iterable_pos)\n",
      "iterable_neg = fasta_to_seq(iterable_neg)\n",
      "\n",
      "size=100\n",
      "#consier only first 'size' elements\n",
      "from itertools import islice\n",
      "iterable_pos = islice(iterable_pos,size)\n",
      "iterable_neg = islice(iterable_neg,size)\n",
      "\n",
      "train_test_split=0.7\n",
      "#split train/test\n",
      "from eden.util import random_bipartition_iter\n",
      "iterable_pos_train, iterable_pos_test = random_bipartition_iter(iterable_pos, relative_size=train_test_split)\n",
      "iterable_neg_train, iterable_neg_test = random_bipartition_iter(iterable_neg, relative_size=train_test_split)"
     ],
     "language": "python",
     "metadata": {},
     "outputs": [],
     "prompt_number": 19
    },
    {
     "cell_type": "code",
     "collapsed": false,
     "input": [
      "%%time\n",
      "#make predictive model\n",
      "from eden.model import BinaryClassificationModel\n",
      "model = BinaryClassificationModel( pre_processor, estimator=estimator, vectorizer=vectorizer )\n",
      "\n",
      "#optimize hyperparameters and fit model\n",
      "from numpy.random import randint\n",
      "from numpy.random import uniform\n",
      "n_iter=40\n",
      "pre_processor_parameters={'max_num':[1,2,3], \n",
      "                          'shape_type':[4,5], \n",
      "                          'energy_range':randint(10, 40, size=n_iter)}\n",
      "\n",
      "vectorizer_parameters={'complexity':[1,2]}\n",
      "\n",
      "estimator_parameters={'n_iter':randint(5, 100, size=n_iter),\n",
      "                      'penalty':['l1','l2','elasticnet'],\n",
      "                      'l1_ratio':uniform(0.1, size=n_iter), \n",
      "                      'loss':['hinge', 'log', 'modified_huber', 'squared_hinge', 'perceptron'],\n",
      "                      'power_t':uniform(0.1, size=n_iter),\n",
      "                      'alpha': [10**x for x in range(-8,4,1)],\n",
      "                      'eta0': [10**x for x in range(-3,2,1)],\n",
      "                      'learning_rate': [\"invscaling\", \"constant\", \"optimal\"]}\n",
      "\n",
      "model.optimize(iterable_pos_train, iterable_neg_train, n_iter=n_iter, cv=3, n_jobs=1, verbose=True,\n",
      "               pre_processor_parameters=pre_processor_parameters, \n",
      "               vectorizer_parameters=vectorizer_parameters, \n",
      "               estimator_parameters=estimator_parameters)\n",
      "\n",
      "#save model\n",
      "model_fname='eden_model_%s'%rfam_id\n",
      "model.save(model_fname)"
     ],
     "language": "python",
     "metadata": {},
     "outputs": [
      {
       "output_type": "stream",
       "stream": "stdout",
       "text": [
        "Paramters range\n",
        "Pre_processor:\n",
        "{'energy_range': array([21, 27, 21, 26, 20, 20, 30, 21, 22, 21, 26, 27, 10, 37, 26, 13, 16,\n",
        "       22, 37, 13, 19, 24, 15, 19, 20, 31, 32, 17, 21, 31, 16, 27, 36, 15,\n",
        "       24, 28, 10, 35, 36, 14]),\n",
        " 'max_num': [1, 2, 3],\n",
        " 'shape_type': [4, 5]}\n",
        "Vectorizer:\n",
        "{'complexity': [1, 2]}\n",
        "Estimator:\n",
        "{'alpha': [1e-08,\n",
        "           1e-07,\n",
        "           1e-06,\n",
        "           1e-05,\n",
        "           0.0001,\n",
        "           0.001,\n",
        "           0.01,\n",
        "           0.1,\n",
        "           1,\n",
        "           10,\n",
        "           100,\n",
        "           1000],\n",
        " 'eta0': [0.001, 0.01, 0.1, 1, 10],\n",
        " 'l1_ratio': array([ 0.40547947,  0.61017484,  0.74911835,  0.9837265 ,  0.40765807,\n",
        "        0.7218176 ,  0.54728226,  0.50421949,  0.22418507,  0.73952435,\n",
        "        0.62651595,  0.45790339,  0.13181033,  0.40399058,  0.52022096,\n",
        "        0.45491805,  0.51327594,  0.3342792 ,  0.7270012 ,  0.26440671,\n",
        "        0.51606398,  0.8908841 ,  0.59267665,  0.53086297,  0.51866024,\n",
        "        0.13709113,  0.68942855,  0.62534023,  0.23997935,  0.7355747 ,\n",
        "        0.75691902,  0.27568047,  0.17619109,  0.56754556,  0.68554306,\n",
        "        0.86173516,  0.79589155,  0.48595221,  0.91970508,  0.6608255 ]),\n",
        " 'learning_rate': ['invscaling', 'constant', 'optimal'],\n",
        " 'loss': ['hinge', 'log', 'modified_huber', 'squared_hinge', 'perceptron'],\n",
        " 'n_iter': array([41, 24, 99, 41, 88, 53,  8, 47,  8, 33, 94, 81, 32, 93, 81, 20, 30,\n",
        "       10, 92, 36, 41, 99, 84, 46, 54, 78, 57, 40,  7, 31, 82, 20, 97, 43,\n",
        "       69, 27, 81, 13, 12, 61]),\n",
        " 'penalty': ['l1', 'l2', 'elasticnet'],\n",
        " 'power_t': array([ 0.33380544,  0.28599887,  0.4996746 ,  0.33825811,  0.67544522,\n",
        "        0.52792728,  0.77278393,  0.55691338,  0.43597115,  0.87220562,\n",
        "        0.13855185,  0.51627408,  0.12563306,  0.54947615,  0.72443765,\n",
        "        0.71643481,  0.52126313,  0.4346571 ,  0.49917872,  0.58448421,\n",
        "        0.62661594,  0.21115793,  0.92455789,  0.14814435,  0.22805037,\n",
        "        0.1099948 ,  0.73503101,  0.59634888,  0.35938829,  0.41421033,\n",
        "        0.29624553,  0.9339791 ,  0.64515219,  0.4998439 ,  0.67695552,\n",
        "        0.17471136,  0.2371801 ,  0.76610338,  0.96597973,  0.75342403])}\n",
        "\n"
       ]
      },
      {
       "output_type": "stream",
       "stream": "stdout",
       "text": [
        "Iteration: 1/40 (at 7.7 sec)\n",
        "Best score: 0.888491 (0.935624 +- 0.047133)\n",
        "Pre_processor:\n",
        "{'energy_range': 15, 'max_num': 3, 'shape_type': 5}\n",
        "Vectorizer:\n",
        "{'complexity': 1}\n",
        "Estimator:\n",
        "{'alpha': 1e-06,\n",
        " 'eta0': 0.001,\n",
        " 'l1_ratio': 0.98372649829641401,\n",
        " 'learning_rate': 'optimal',\n",
        " 'loss': 'log',\n",
        " 'n_iter': 84,\n",
        " 'penalty': 'l2',\n",
        " 'power_t': 0.28599887331950391}\n",
        "Instances: 140 ; Features: 1048577 with an avg of 164 features per instance\n",
        "class: 1 count:70 (0.50)\tclass: -1 count:70 (0.50)\t\n",
        "Failed iteration: 3/40 (at 23.9 sec)"
       ]
      },
      {
       "output_type": "stream",
       "stream": "stdout",
       "text": [
        "\n",
        "\n"
       ]
      },
      {
       "output_type": "stream",
       "stream": "stdout",
       "text": [
        "Iteration: 5/40 (at 38.1 sec)\n",
        "Best score: 0.919686 (0.943558 +- 0.023872)\n",
        "Pre_processor:\n",
        "{'energy_range': 22, 'max_num': 1, 'shape_type': 4}\n",
        "Vectorizer:\n",
        "{'complexity': 2}\n",
        "Estimator:\n",
        "{'alpha': 1e-08,\n",
        " 'eta0': 0.001,\n",
        " 'l1_ratio': 0.13709113093879249,\n",
        " 'learning_rate': 'optimal',\n",
        " 'loss': 'log',\n",
        " 'n_iter': 7,\n",
        " 'penalty': 'l1',\n",
        " 'power_t': 0.96597972657740183}\n",
        "Instances: 140 ; Features: 1048577 with an avg of 538 features per instance\n",
        "class: 1 count:70 (0.50)\tclass: -1 count:70 (0.50)\t\n",
        "\n"
       ]
      },
      {
       "output_type": "stream",
       "stream": "stdout",
       "text": [
        "Iteration: 7/40 (at 53.2 sec)\n",
        "Best score: 0.921999 (0.948818 +- 0.026819)\n",
        "Pre_processor:\n",
        "{'energy_range': 19, 'max_num': 1, 'shape_type': 4}\n",
        "Vectorizer:\n",
        "{'complexity': 2}\n",
        "Estimator:\n",
        "{'alpha': 1e-05,\n",
        " 'eta0': 0.01,\n",
        " 'l1_ratio': 0.17619108898801331,\n",
        " 'learning_rate': 'optimal',\n",
        " 'loss': 'perceptron',\n",
        " 'n_iter': 32,\n",
        " 'penalty': 'elasticnet',\n",
        " 'power_t': 0.52126312855417656}\n",
        "Instances: 140 ; Features: 1048577 with an avg of 538 features per instance\n",
        "class: 1 count:70 (0.50)\tclass: -1 count:70 (0.50)\t\n",
        "Failed iteration: 8/40 (at 60.4 sec)"
       ]
      },
      {
       "output_type": "stream",
       "stream": "stdout",
       "text": [
        "\n",
        "\n"
       ]
      },
      {
       "output_type": "stream",
       "stream": "stdout",
       "text": [
        "Iteration: 10/40 (at 74.9 sec)\n",
        "Best score: 0.927000 (0.951184 +- 0.024184)\n",
        "Pre_processor:\n",
        "{'energy_range': 21, 'max_num': 1, 'shape_type': 4}\n",
        "Vectorizer:\n",
        "{'complexity': 2}\n",
        "Estimator:\n",
        "{'alpha': 1e-07,\n",
        " 'eta0': 10,\n",
        " 'l1_ratio': 0.51606397627172063,\n",
        " 'learning_rate': 'optimal',\n",
        " 'loss': 'log',\n",
        " 'n_iter': 10,\n",
        " 'penalty': 'l2',\n",
        " 'power_t': 0.29624552974886387}\n",
        "Instances: 140 ; Features: 1048577 with an avg of 538 features per instance\n",
        "class: 1 count:70 (0.50)\tclass: -1 count:70 (0.50)\t\n",
        "\n"
       ]
      },
      {
       "output_type": "stream",
       "stream": "stdout",
       "text": [
        "Iteration: 32/40 (at 284.7 sec)\n",
        "Best score: 0.944957 (0.959955 +- 0.014997)\n",
        "Pre_processor:\n",
        "{'energy_range': 22, 'max_num': 1, 'shape_type': 4}\n",
        "Vectorizer:\n",
        "{'complexity': 2}\n",
        "Estimator:\n",
        "{'alpha': 1e-07,\n",
        " 'eta0': 1,\n",
        " 'l1_ratio': 0.7491183469640067,\n",
        " 'learning_rate': 'optimal',\n",
        " 'loss': 'perceptron',\n",
        " 'n_iter': 81,\n",
        " 'penalty': 'l1',\n",
        " 'power_t': 0.41421032782228417}\n",
        "Instances: 140 ; Features: 1048577 with an avg of 538 features per instance\n",
        "class: 1 count:70 (0.50)\tclass: -1 count:70 (0.50)\t\n",
        "\n"
       ]
      },
      {
       "output_type": "stream",
       "stream": "stdout",
       "text": [
        "Iteration: 36/40 (at 331.3 sec)\n",
        "Best score: 0.950039 (0.968468 +- 0.018429)\n",
        "Pre_processor:\n",
        "{'energy_range': 24, 'max_num': 3, 'shape_type': 4}\n",
        "Vectorizer:\n",
        "{'complexity': 2}\n",
        "Estimator:\n",
        "{'alpha': 1e-06,\n",
        " 'eta0': 1,\n",
        " 'l1_ratio': 0.13181032781535154,\n",
        " 'learning_rate': 'optimal',\n",
        " 'loss': 'log',\n",
        " 'n_iter': 40,\n",
        " 'penalty': 'l1',\n",
        " 'power_t': 0.55691338416482739}\n",
        "Instances: 140 ; Features: 1048577 with an avg of 819 features per instance\n",
        "class: 1 count:70 (0.50)\tclass: -1 count:70 (0.50)\t\n",
        "Failed iteration: 38/40 (at 351.8 sec)"
       ]
      },
      {
       "output_type": "stream",
       "stream": "stdout",
       "text": [
        "\n",
        "CPU times: user 4min 2s, sys: 22.5 s, total: 4min 25s"
       ]
      },
      {
       "output_type": "stream",
       "stream": "stdout",
       "text": [
        "\n",
        "Wall time: 6min 23s\n"
       ]
      }
     ],
     "prompt_number": 20
    },
    {
     "cell_type": "code",
     "collapsed": false,
     "input": [
      "from eden.model import BinaryClassificationModel\n",
      "\n",
      "model2 = BinaryClassificationModel()\n",
      "model2.load(model_fname)\n",
      "\n",
      "#create iterable from files\n",
      "from eden.modifier.fasta import fasta_to_fasta, shuffle_modifier\n",
      "iterable_pos = fasta_to_fasta( rfam_uri( rfam_id ) )\n",
      "\n",
      "from eden.converter.fasta import fasta_to_seq\n",
      "iterable_pos = fasta_to_seq(iterable_pos)\n",
      "\n",
      "size=100\n",
      "#consier only first 'size' elements\n",
      "from itertools import islice\n",
      "iterable_pos = islice(iterable_pos,size)\n",
      "\n",
      "predictions= model2.decision_function( iterable_pos )\n",
      "for n,i in enumerate(sorted(predictions)): print i"
     ],
     "language": "python",
     "metadata": {},
     "outputs": [
      {
       "output_type": "stream",
       "stream": "stdout",
       "text": [
        "-6.19999509199\n",
        "-5.08331686443\n",
        "-2.57664176623\n",
        "0.667343535529\n",
        "2.59564189101\n",
        "3.15035604136\n",
        "3.37193667016\n",
        "3.77032193533\n",
        "4.16877630875\n",
        "4.28221463803\n",
        "4.89345477799\n",
        "5.48199632219\n",
        "5.53289315452\n",
        "5.64954012197\n",
        "5.77718073489\n",
        "5.89591533891\n",
        "6.01073282015\n",
        "6.13654102806\n",
        "6.24000914326\n",
        "6.3004842294\n",
        "6.34130328581\n",
        "6.59393668024\n",
        "6.69053402203\n",
        "6.80416932082\n",
        "6.92161267954\n",
        "7.06684229768\n",
        "7.07961222545\n",
        "7.34415897399\n",
        "7.69269022079\n",
        "7.7620687317\n",
        "7.82420717554\n",
        "7.9273474445\n",
        "8.00818210396\n",
        "8.2003225861\n",
        "8.46084419408\n",
        "8.80341421727\n",
        "8.9136678113\n",
        "9.19394100625\n",
        "9.5623927116\n",
        "9.63502897483\n",
        "9.63983658803\n",
        "10.2111989754\n",
        "10.2287757118\n",
        "10.3400846003\n",
        "10.5618078027\n",
        "10.7846016874\n",
        "10.9477025324\n",
        "11.008155603\n",
        "11.0209031191\n",
        "11.3127506753\n",
        "11.3812287575\n",
        "11.5921321436\n",
        "11.6117907064\n",
        "11.8695136592\n",
        "12.316534955\n",
        "12.7448698658\n",
        "13.1176654107\n",
        "13.4716193386\n",
        "13.5707325302\n",
        "13.7804245394\n",
        "13.9224378636\n",
        "13.9288962185\n",
        "14.0764750017\n",
        "14.2915883936\n",
        "14.3400816689\n",
        "14.5805029534\n",
        "14.8476835122\n",
        "14.8566068173\n",
        "14.8758946518\n",
        "15.5935751197\n",
        "16.1547854567\n",
        "16.2873500771\n",
        "16.3388646998\n",
        "16.7053837937\n",
        "16.7767445013\n",
        "16.8966900015\n",
        "17.536168278\n",
        "17.6318540591\n",
        "17.8638075796\n",
        "17.8825005507\n",
        "17.9209003292\n",
        "18.211937368\n",
        "18.2807420376\n",
        "18.6471604583\n",
        "19.0391030399\n",
        "19.2091949691\n",
        "19.217143533\n",
        "19.8323571112\n",
        "19.8861469356\n",
        "20.0571415667\n",
        "20.3728973591\n",
        "20.4658089707\n",
        "20.9845917108\n",
        "22.0687605577\n",
        "22.3832615477\n",
        "22.7204670881\n",
        "23.2180521573\n",
        "23.5008367123\n",
        "23.6143624579\n",
        "27.3727067729\n"
       ]
      }
     ],
     "prompt_number": 21
    },
    {
     "cell_type": "markdown",
     "metadata": {},
     "source": [
      "#SelfTrainingBinaryClassificationModel"
     ]
    },
    {
     "cell_type": "code",
     "collapsed": false,
     "input": [
      "#create iterable from files\n",
      "from eden.modifier.fasta import fasta_to_fasta, shuffle_modifier\n",
      "iterable_pos = fasta_to_fasta( rfam_uri( rfam_id ) )\n",
      "iterable_neg = fasta_to_fasta( rfam_uri( rfam_id ) , modifier=shuffle_modifier, times=1, order=2 )\n",
      "\n",
      "from eden.converter.fasta import fasta_to_seq\n",
      "iterable_pos = fasta_to_seq(iterable_pos)\n",
      "iterable_neg = fasta_to_seq(iterable_neg)\n",
      "\n",
      "size=100\n",
      "#consier only first 'size' elements\n",
      "from itertools import islice\n",
      "iterable_pos = islice(iterable_pos,size)\n",
      "iterable_neg = islice(iterable_neg,size)\n",
      "\n",
      "train_test_split=0.7\n",
      "#split train/test\n",
      "from eden.util import random_bipartition_iter\n",
      "iterable_pos_train, iterable_pos_test = random_bipartition_iter(iterable_pos, relative_size=train_test_split)\n",
      "iterable_neg_train, iterable_neg_test = random_bipartition_iter(iterable_neg, relative_size=train_test_split)"
     ],
     "language": "python",
     "metadata": {},
     "outputs": [],
     "prompt_number": 16
    },
    {
     "cell_type": "code",
     "collapsed": false,
     "input": [
      "#%%time\n",
      "#make predictive model\n",
      "from eden.model import SelfTrainingBinaryClassificationModel\n",
      "model = SelfTrainingBinaryClassificationModel( pre_processor, estimator=estimator, vectorizer=vectorizer )\n",
      "\n",
      "#optimize hyperparameters and fit model\n",
      "from numpy.random import randint\n",
      "from numpy.random import uniform\n",
      "n_iter=40\n",
      "pre_processor_parameters={'max_num':[1,2,3], \n",
      "                          'shape_type':[4,5], \n",
      "                          'energy_range':randint(10, 40, size=n_iter)}\n",
      "pre_processor_parameters={'max_num':[3], \n",
      "                          'shape_type':[5], \n",
      "                          'energy_range':[35]}\n",
      "\n",
      "vectorizer_parameters={'complexity':[1]}\n",
      "\n",
      "estimator_parameters={'n_iter':randint(5, 100, size=n_iter),\n",
      "                      'penalty':['l1','l2','elasticnet'],\n",
      "                      'l1_ratio':uniform(0.1, size=n_iter), \n",
      "                      'loss':['hinge', 'log', 'modified_huber', 'squared_hinge', 'perceptron'],\n",
      "                      'power_t':uniform(0.1, size=n_iter),\n",
      "                      'alpha': [10**x for x in range(-8,4,1)],\n",
      "                      'eta0': [10**x for x in range(-3,2,1)],\n",
      "                      'learning_rate': [\"invscaling\", \"constant\", \"optimal\"]}\n",
      "\n",
      "model.optimize(iterable_pos_train, iterable_neg_train, \n",
      "               neg_to_pos_ratio=0.1,\n",
      "               num_selftraining_iterations=2,\n",
      "               lower_bound_threshold=-1,\n",
      "               upper_bound_threshold=1,\n",
      "               n_iter=n_iter, cv=3, n_jobs=1, verbose=True,\n",
      "               pre_processor_parameters=pre_processor_parameters, \n",
      "               vectorizer_parameters=vectorizer_parameters, \n",
      "               estimator_parameters=estimator_parameters)\n",
      "\n",
      "#save model\n",
      "model_fname='eden_model_%s'%rfam_id\n",
      "model.save(model_fname)"
     ],
     "language": "python",
     "metadata": {},
     "outputs": [
      {
       "output_type": "stream",
       "stream": "stdout",
       "text": [
        "Paramters range\n",
        "Pre_processor:\n",
        "{'energy_range': [35], 'max_num': [3], 'shape_type': [5]}\n",
        "Vectorizer:\n",
        "{'complexity': [1]}\n",
        "Estimator:\n",
        "{'alpha': [1e-08,\n",
        "           1e-07,\n",
        "           1e-06,\n",
        "           1e-05,\n",
        "           0.0001,\n",
        "           0.001,\n",
        "           0.01,\n",
        "           0.1,\n",
        "           1,\n",
        "           10,\n",
        "           100,\n",
        "           1000],\n",
        " 'eta0': [0.001, 0.01, 0.1, 1, 10],\n",
        " 'l1_ratio': array([ 0.4258416 ,  0.3027898 ,  0.9856296 ,  0.26075168,  0.88407733,\n",
        "        0.4717044 ,  0.1135108 ,  0.41420445,  0.72279581,  0.71387153,\n",
        "        0.47540018,  0.62821698,  0.70153014,  0.30315453,  0.98589452,\n",
        "        0.10144907,  0.23852056,  0.21835486,  0.71897346,  0.64388102,\n",
        "        0.7432307 ,  0.89262811,  0.15946988,  0.1030628 ,  0.92674725,\n",
        "        0.2312847 ,  0.95524725,  0.61132075,  0.12480057,  0.52655751,\n",
        "        0.79640139,  0.3761513 ,  0.91051963,  0.91534716,  0.25965098,\n",
        "        0.95065176,  0.14936244,  0.15507347,  0.34659725,  0.6013957 ]),\n",
        " 'learning_rate': ['invscaling', 'constant', 'optimal'],\n",
        " 'loss': ['hinge', 'log', 'modified_huber', 'squared_hinge', 'perceptron'],\n",
        " 'n_iter': array([54, 98, 12,  9, 89, 89, 41, 45, 34, 94, 95, 92, 54, 70, 69,  7, 55,\n",
        "       55, 94, 55, 80, 84, 67, 66, 53, 36, 11, 97, 45, 69, 14, 78, 22, 39,\n",
        "       25, 24, 40, 74, 89, 16]),\n",
        " 'penalty': ['l1', 'l2', 'elasticnet'],\n",
        " 'power_t': array([ 0.56369822,  0.32805374,  0.98609654,  0.88781752,  0.17586387,\n",
        "        0.77281603,  0.33959623,  0.70207741,  0.55528378,  0.86542624,\n",
        "        0.58250747,  0.26633248,  0.25515193,  0.95919004,  0.62226628,\n",
        "        0.86900551,  0.87444808,  0.87480499,  0.24411538,  0.16765685,\n",
        "        0.20514386,  0.14208548,  0.42203738,  0.46380743,  0.4878675 ,\n",
        "        0.29756189,  0.10486138,  0.33818354,  0.4000406 ,  0.79711573,\n",
        "        0.51910573,  0.47754321,  0.58781981,  0.52680098,  0.17412235,\n",
        "        0.93030505,  0.93192195,  0.91100458,  0.92458147,  0.98872788])}\n",
        "\n"
       ]
      },
      {
       "output_type": "stream",
       "stream": "stdout",
       "text": [
        "Iteration: 1/40 (at 9.5 sec)\n",
        "Best score: 0.636037 (0.773551 +- 0.137514)\n",
        "Pre_processor:\n",
        "{'energy_range': 35, 'max_num': 3, 'shape_type': 5}\n",
        "Vectorizer:\n",
        "{'complexity': 1}\n",
        "Estimator:\n",
        "{'alpha': 0.01,\n",
        " 'eta0': 1,\n",
        " 'l1_ratio': 0.14936243729764975,\n",
        " 'learning_rate': 'optimal',\n",
        " 'loss': 'squared_hinge',\n",
        " 'n_iter': 9,\n",
        " 'penalty': 'l2',\n",
        " 'power_t': 0.10486137559639507}\n",
        "Instances: 77 ; Features: 1048577 with an avg of 189 features per instance\n",
        "class: 1 count:70 (0.91)\tclass: -1 count:7 (0.09)\t\n",
        "\n"
       ]
      },
      {
       "output_type": "stream",
       "stream": "stdout",
       "text": [
        "Iteration: 3/40 (at 10.6 sec)\n",
        "Best score: 0.737255 (0.846216 +- 0.108961)\n",
        "Pre_processor:\n",
        "{'energy_range': 35, 'max_num': 3, 'shape_type': 5}\n",
        "Vectorizer:\n",
        "{'complexity': 1}\n",
        "Estimator:\n",
        "{'alpha': 1e-07,\n",
        " 'eta0': 10,\n",
        " 'l1_ratio': 0.10144906725729025,\n",
        " 'learning_rate': 'constant',\n",
        " 'loss': 'log',\n",
        " 'n_iter': 67,\n",
        " 'penalty': 'l2',\n",
        " 'power_t': 0.17586387387589403}\n",
        "Instances: 77 ; Features: 1048577 with an avg of 189 features per instance\n",
        "class: 1 count:70 (0.91)\tclass: -1 count:7 (0.09)\t\n",
        "\n"
       ]
      },
      {
       "output_type": "stream",
       "stream": "stdout",
       "text": [
        "Iteration: 27/40 (at 23.9 sec)\n",
        "Best score: 0.816446 (0.878623 +- 0.062178)\n",
        "Pre_processor:\n",
        "{'energy_range': 35, 'max_num': 3, 'shape_type': 5}\n",
        "Vectorizer:\n",
        "{'complexity': 1}\n",
        "Estimator:\n",
        "{'alpha': 0.001,\n",
        " 'eta0': 10,\n",
        " 'l1_ratio': 0.98589451642310277,\n",
        " 'learning_rate': 'invscaling',\n",
        " 'loss': 'modified_huber',\n",
        " 'n_iter': 55,\n",
        " 'penalty': 'l2',\n",
        " 'power_t': 0.55528377849977217}\n",
        "Instances: 77 ; Features: 1048577 with an avg of 189 features per instance\n",
        "class: 1 count:70 (0.91)\tclass: -1 count:7 (0.09)\t\n",
        "Failed iteration: 40/40 (at 28.9 sec)"
       ]
      },
      {
       "output_type": "stream",
       "stream": "stdout",
       "text": [
        "\n"
       ]
      }
     ],
     "prompt_number": 17
    }
   ],
   "metadata": {}
  }
 ]
}