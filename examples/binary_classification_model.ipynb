{
 "metadata": {
  "name": "",
  "signature": "sha256:4d58b75dde40e3510e2a0ead693cefb5c58f7b15d9e211df40fca1999fb8bf3c"
 },
 "nbformat": 3,
 "nbformat_minor": 0,
 "worksheets": [
  {
   "cells": [
    {
     "cell_type": "code",
     "collapsed": false,
     "input": [
      "def rfam_uri(family_id):\n",
      "    return 'http://rfam.xfam.org/family/%s/alignment?acc=%s&format=fastau&download=0'%(family_id,family_id)\n",
      "\n",
      "def rfam_uri(family_id):\n",
      "    return '%s.fa'%(family_id)"
     ],
     "language": "python",
     "metadata": {},
     "outputs": [],
     "prompt_number": 1
    },
    {
     "cell_type": "code",
     "collapsed": false,
     "input": [
      "rfam_id = 'RF02275' #Hammerhead_HH9\n",
      "rfam_id = 'RF00871' #microRNA mir-689\n",
      "rfam_id = 'RF00005' #tRNA"
     ],
     "language": "python",
     "metadata": {},
     "outputs": [],
     "prompt_number": 2
    },
    {
     "cell_type": "code",
     "collapsed": false,
     "input": [
      "def pre_processor( data, **args):\n",
      "    from eden.converter.rna.rnashapes import rnashapes_to_eden\n",
      "    graphs = rnashapes_to_eden( data, **args )\n",
      "    return graphs"
     ],
     "language": "python",
     "metadata": {},
     "outputs": [],
     "prompt_number": 3
    },
    {
     "cell_type": "code",
     "collapsed": false,
     "input": [
      "from eden.graph import Vectorizer\n",
      "vectorizer = Vectorizer( complexity=2 )"
     ],
     "language": "python",
     "metadata": {},
     "outputs": [],
     "prompt_number": 4
    },
    {
     "cell_type": "code",
     "collapsed": false,
     "input": [
      "from sklearn.linear_model import SGDClassifier, Perceptron, PassiveAggressiveClassifier\n",
      "estimator = PassiveAggressiveClassifier(shuffle=True)\n",
      "estimator = Perceptron(class_weight='auto', shuffle=True)\n",
      "estimator = SGDClassifier(class_weight='auto', shuffle=True)"
     ],
     "language": "python",
     "metadata": {},
     "outputs": [],
     "prompt_number": 5
    },
    {
     "cell_type": "code",
     "collapsed": false,
     "input": [
      "%%time\n",
      "#create iterable from files\n",
      "from eden.modifier.fasta import fasta_to_fasta, shuffle_modifier\n",
      "size=150\n",
      "#consier only first 'size' elements\n",
      "from itertools import islice\n",
      "iterable_pos = islice(fasta_to_fasta( rfam_uri( rfam_id ) ),size)\n",
      "iterable_neg = islice(fasta_to_fasta( rfam_uri( rfam_id ) , modifier=shuffle_modifier, times=2, order=2 ),size)\n",
      "\n",
      "#copy for use both in optimization and estimate procedures\n",
      "from itertools import tee\n",
      "iterable_pos,iterable_pos_ = tee(iterable_pos)\n",
      "iterable_neg,iterable_neg_ = tee(iterable_neg)\n",
      "\n",
      "#make predictive model\n",
      "from eden.model import BinaryClassificationModel\n",
      "model = BinaryClassificationModel( pre_processor, estimator=estimator, vectorizer=vectorizer )\n",
      "\n",
      "#optimize hyperparameters and fit model\n",
      "from numpy.random import randint\n",
      "from numpy.random import uniform\n",
      "n_iter=100\n",
      "pre_processor_parameters={'max_num':[1,2,3], 'shape_type':[5], 'energy_range':randint(5, 50, size=n_iter)}\n",
      "pre_processor_parameters={'max_num':[3], 'shape_type':[5], 'energy_range':[35]}\n",
      "vectorizer_parameters={'complexity':[1]}\n",
      "estimator_parameters={'n_iter':randint(5, 100, size=n_iter),\n",
      "                      'penalty':['l1','l2','elasticnet'],\n",
      "                      'l1_ratio':uniform(0.1, size=n_iter), \n",
      "                      'loss':['hinge', 'log', 'modified_huber', 'squared_hinge', 'perceptron'],\n",
      "                      'power_t':uniform(0.1, size=n_iter),\n",
      "                      'alpha': [10**x for x in range(-8,4,1)],\n",
      "                      'eta0': [10**x for x in range(-3,2,1)],\n",
      "                      'learning_rate': [\"invscaling\", \"constant\", \"optimal\"]\n",
      "                      }\n",
      "model.optimize(iterable_pos_, iterable_neg_, n_iter=n_iter, cv=3, n_jobs=1, verbose=True,\n",
      "               pre_processor_parameters=pre_processor_parameters, \n",
      "               vectorizer_parameters=vectorizer_parameters, \n",
      "               estimator_parameters=estimator_parameters)\n",
      "\n",
      "#save model\n",
      "model_fname='eden_model_%s'%rfam_id\n",
      "model.save(model_fname)\n",
      "\n",
      "#estimate predictive performance\n",
      "model.estimate( iterable_pos, iterable_neg )"
     ],
     "language": "python",
     "metadata": {},
     "outputs": [
      {
       "output_type": "stream",
       "stream": "stdout",
       "text": [
        "Paramters range\n",
        "Pre_processor:\n",
        "{'energy_range': [35], 'max_num': [3], 'shape_type': [5]}\n",
        "Vectorizer:\n",
        "{'complexity': [1]}\n",
        "Estimator:\n",
        "{'alpha': [1e-08,\n",
        "           1e-07,\n",
        "           1e-06,\n",
        "           1e-05,\n",
        "           0.0001,\n",
        "           0.001,\n",
        "           0.01,\n",
        "           0.1,\n",
        "           1,\n",
        "           10,\n",
        "           100,\n",
        "           1000],\n",
        " 'eta0': [0.001, 0.01, 0.1, 1, 10],\n",
        " 'l1_ratio': array([ 0.64838314,  0.60160147,  0.3737578 ,  0.2561279 ,  0.29861903,\n",
        "        0.48510216,  0.77813899,  0.67663636,  0.93585743,  0.36220498,\n",
        "        0.41233172,  0.9437968 ,  0.43251947,  0.88007757,  0.35051649,\n",
        "        0.77809199,  0.74194889,  0.55638586,  0.79841673,  0.10119189,\n",
        "        0.98255969,  0.12386606,  0.11828434,  0.95367919,  0.49026048,\n",
        "        0.36576946,  0.29072903,  0.6176658 ,  0.36612281,  0.46312685,\n",
        "        0.77525519,  0.39656466,  0.67992567,  0.85617814,  0.4539271 ,\n",
        "        0.76720293,  0.7653962 ,  0.11904067,  0.99156047,  0.60684821,\n",
        "        0.19366367,  0.24502368,  0.1343927 ,  0.43741682,  0.3950327 ,\n",
        "        0.69973071,  0.40451579,  0.72553256,  0.91259944,  0.54898002,\n",
        "        0.64497748,  0.43468008,  0.55375042,  0.42866589,  0.30220309,\n",
        "        0.29132639,  0.96634739,  0.78043366,  0.66407353,  0.62412624,\n",
        "        0.67844145,  0.95792462,  0.43337195,  0.90322446,  0.96545595,\n",
        "        0.29148887,  0.69971978,  0.24754326,  0.19857182,  0.62274756,\n",
        "        0.99281187,  0.82603457,  0.63734144,  0.70921991,  0.64095285,\n",
        "        0.98733055,  0.82329083,  0.11902972,  0.80315343,  0.57706334,\n",
        "        0.24593802,  0.57830579,  0.87242445,  0.650846  ,  0.751572  ,\n",
        "        0.58874095,  0.66209264,  0.31657905,  0.33728005,  0.43606639,\n",
        "        0.40574226,  0.56624323,  0.75054813,  0.43697423,  0.84051466,\n",
        "        0.84086144,  0.63470875,  0.92160616,  0.67517563,  0.58117032]),\n",
        " 'learning_rate': ['invscaling', 'constant', 'optimal'],\n",
        " 'loss': ['hinge', 'log', 'modified_huber', 'squared_hinge', 'perceptron'],\n",
        " 'n_iter': array([18, 10, 27, 24, 37, 25, 13,  9,  6, 90, 13, 46, 59, 72, 71, 19, 22,\n",
        "       80, 63, 42, 53, 80, 56, 34, 51, 38, 17, 93, 17, 51, 47, 60, 93, 23,\n",
        "       74, 90, 90, 92, 62, 42,  7, 65, 38, 26, 53, 22, 93, 29, 24, 82, 66,\n",
        "       10, 47, 52,  8,  5, 55, 84, 91, 26, 80, 75, 98, 35, 17, 25,  6,  9,\n",
        "       95, 71, 35, 32, 38, 42, 30,  6, 78, 84, 38, 47, 45, 21, 89, 60, 86,\n",
        "       38, 16, 15, 55, 22, 65, 33,  8, 38, 17, 76, 56, 71, 94, 24]),\n",
        " 'penalty': ['l1', 'l2', 'elasticnet'],\n",
        " 'power_t': array([ 0.37785514,  0.70245627,  0.75726109,  0.12657672,  0.12734384,\n",
        "        0.91963125,  0.26786279,  0.31410295,  0.50771624,  0.37749615,\n",
        "        0.43872953,  0.44461381,  0.82243474,  0.97619869,  0.41685539,\n",
        "        0.46296015,  0.78897471,  0.88646665,  0.53299727,  0.30487044,\n",
        "        0.28006888,  0.69948178,  0.72364876,  0.26110573,  0.96360463,\n",
        "        0.2011189 ,  0.95008859,  0.10196193,  0.24531542,  0.43199396,\n",
        "        0.46135765,  0.52507919,  0.49968969,  0.45819662,  0.48285725,\n",
        "        0.10667988,  0.87688158,  0.92054066,  0.32480944,  0.35031732,\n",
        "        0.31895153,  0.20778038,  0.94909757,  0.21934786,  0.8210834 ,\n",
        "        0.57909864,  0.22361982,  0.27164312,  0.76852496,  0.33716409,\n",
        "        0.56305319,  0.70108149,  0.93714038,  0.46883936,  0.16787381,\n",
        "        0.31437159,  0.1209243 ,  0.20896368,  0.92728412,  0.14271305,\n",
        "        0.8247938 ,  0.89143047,  0.86552994,  0.98859674,  0.37263338,\n",
        "        0.73113428,  0.61097497,  0.63518519,  0.26421571,  0.50047569,\n",
        "        0.31741602,  0.180822  ,  0.29627871,  0.84447036,  0.82696574,\n",
        "        0.17225155,  0.85364647,  0.37833183,  0.6330257 ,  0.87448245,\n",
        "        0.75749799,  0.90485559,  0.16205749,  0.86189827,  0.60338097,\n",
        "        0.13820165,  0.56261658,  0.46025626,  0.86176894,  0.19997278,\n",
        "        0.53090623,  0.57476474,  0.69660545,  0.36404462,  0.90277089,\n",
        "        0.92857687,  0.99232736,  0.84478849,  0.6339785 ,  0.39092545])}\n",
        "\n"
       ]
      },
      {
       "output_type": "stream",
       "stream": "stdout",
       "text": [
        "Iteration: 1/100 (at 11.2 sec)\n",
        "Best score: 0.500000 (0.500000 +- 0.000000)\n",
        "Pre_processor:\n",
        "{'energy_range': 35, 'max_num': 3, 'shape_type': 5}\n",
        "Vectorizer:\n",
        "{'complexity': 1}\n",
        "Estimator:\n",
        "{'alpha': 0.01,\n",
        " 'eta0': 0.1,\n",
        " 'l1_ratio': 0.3737577974444376,\n",
        " 'learning_rate': 'optimal',\n",
        " 'loss': 'perceptron',\n",
        " 'n_iter': 90,\n",
        " 'penalty': 'l1',\n",
        " 'power_t': 0.46883935574594882}\n",
        "\n"
       ]
      },
      {
       "output_type": "stream",
       "stream": "stdout",
       "text": [
        "Iteration: 2/100 (at 11.3 sec)\n",
        "Best score: 0.500000 (0.500000 +- 0.000000)\n",
        "Pre_processor:\n",
        "{'energy_range': 35, 'max_num': 3, 'shape_type': 5}\n",
        "Vectorizer:\n",
        "{'complexity': 1}\n",
        "Estimator:\n",
        "{'alpha': 10,\n",
        " 'eta0': 0.1,\n",
        " 'l1_ratio': 0.29148886841538402,\n",
        " 'learning_rate': 'optimal',\n",
        " 'loss': 'squared_hinge',\n",
        " 'n_iter': 9,\n",
        " 'penalty': 'elasticnet',\n",
        " 'power_t': 0.46025626028339184}\n",
        "\n"
       ]
      },
      {
       "output_type": "stream",
       "stream": "stdout",
       "text": [
        "Iteration: 3/100 (at 11.5 sec)\n",
        "Best score: 0.500000 (0.500000 +- 0.000000)\n",
        "Pre_processor:\n",
        "{'energy_range': 35, 'max_num': 3, 'shape_type': 5}\n",
        "Vectorizer:\n",
        "{'complexity': 1}\n",
        "Estimator:\n",
        "{'alpha': 10,\n",
        " 'eta0': 10,\n",
        " 'l1_ratio': 0.24754325949063044,\n",
        " 'learning_rate': 'optimal',\n",
        " 'loss': 'squared_hinge',\n",
        " 'n_iter': 9,\n",
        " 'penalty': 'elasticnet',\n",
        " 'power_t': 0.3048704419948105}\n",
        "\n"
       ]
      },
      {
       "output_type": "stream",
       "stream": "stdout",
       "text": [
        "Iteration: 4/100 (at 11.8 sec)\n",
        "Best score: 0.719483 (0.736533 +- 0.017050)\n",
        "Pre_processor:\n",
        "{'energy_range': 35, 'max_num': 3, 'shape_type': 5}\n",
        "Vectorizer:\n",
        "{'complexity': 1}\n",
        "Estimator:\n",
        "{'alpha': 1e-06,\n",
        " 'eta0': 0.01,\n",
        " 'l1_ratio': 0.35051648893894349,\n",
        " 'learning_rate': 'invscaling',\n",
        " 'loss': 'perceptron',\n",
        " 'n_iter': 35,\n",
        " 'penalty': 'l1',\n",
        " 'power_t': 0.9490975724398345}\n",
        "Failed iteration: 7/100 (at 13.0 sec)"
       ]
      },
      {
       "output_type": "stream",
       "stream": "stdout",
       "text": [
        "\n",
        "\n"
       ]
      },
      {
       "output_type": "stream",
       "stream": "stdout",
       "text": [
        "Iteration: 8/100 (at 13.3 sec)\n",
        "Best score: 0.739335 (0.843200 +- 0.103865)\n",
        "Pre_processor:\n",
        "{'energy_range': 35, 'max_num': 3, 'shape_type': 5}\n",
        "Vectorizer:\n",
        "{'complexity': 1}\n",
        "Estimator:\n",
        "{'alpha': 1e-07,\n",
        " 'eta0': 0.1,\n",
        " 'l1_ratio': 0.60684820945542639,\n",
        " 'learning_rate': 'optimal',\n",
        " 'loss': 'perceptron',\n",
        " 'n_iter': 37,\n",
        " 'penalty': 'l2',\n",
        " 'power_t': 0.86189826528939883}\n",
        "\n"
       ]
      },
      {
       "output_type": "stream",
       "stream": "stdout",
       "text": [
        "Iteration: 13/100 (at 14.7 sec)\n",
        "Best score: 0.798470 (0.869333 +- 0.070863)\n",
        "Pre_processor:\n",
        "{'energy_range': 35, 'max_num': 3, 'shape_type': 5}\n",
        "Vectorizer:\n",
        "{'complexity': 1}\n",
        "Estimator:\n",
        "{'alpha': 0.0001,\n",
        " 'eta0': 0.001,\n",
        " 'l1_ratio': 0.99156047246995471,\n",
        " 'learning_rate': 'optimal',\n",
        " 'loss': 'log',\n",
        " 'n_iter': 10,\n",
        " 'penalty': 'l2',\n",
        " 'power_t': 0.28006888061623186}\n",
        "\n"
       ]
      },
      {
       "output_type": "stream",
       "stream": "stdout",
       "text": [
        "Iteration: 18/100 (at 17.0 sec)\n",
        "Best score: 0.809088 (0.876267 +- 0.067179)\n",
        "Pre_processor:\n",
        "{'energy_range': 35, 'max_num': 3, 'shape_type': 5}\n",
        "Vectorizer:\n",
        "{'complexity': 1}\n",
        "Estimator:\n",
        "{'alpha': 1e-07,\n",
        " 'eta0': 0.001,\n",
        " 'l1_ratio': 0.90322446465585682,\n",
        " 'learning_rate': 'optimal',\n",
        " 'loss': 'modified_huber',\n",
        " 'n_iter': 22,\n",
        " 'penalty': 'elasticnet',\n",
        " 'power_t': 0.63518518654028677}\n",
        "Failed iteration: 24/100 (at 20.2 sec)"
       ]
      },
      {
       "output_type": "stream",
       "stream": "stdout",
       "text": [
        "\n",
        "\n"
       ]
      },
      {
       "output_type": "stream",
       "stream": "stdout",
       "text": [
        "Iteration: 26/100 (at 21.6 sec)\n",
        "Best score: 0.846725 (0.891200 +- 0.044475)\n",
        "Pre_processor:\n",
        "{'energy_range': 35, 'max_num': 3, 'shape_type': 5}\n",
        "Vectorizer:\n",
        "{'complexity': 1}\n",
        "Estimator:\n",
        "{'alpha': 0.0001,\n",
        " 'eta0': 10,\n",
        " 'l1_ratio': 0.87242444647686523,\n",
        " 'learning_rate': 'constant',\n",
        " 'loss': 'modified_huber',\n",
        " 'n_iter': 86,\n",
        " 'penalty': 'elasticnet',\n",
        " 'power_t': 0.26110573378925195}\n",
        "Failed iteration: 49/100 (at 44.9 sec)"
       ]
      },
      {
       "output_type": "stream",
       "stream": "stdout",
       "text": [
        "\n",
        "Failed iteration: 72/100 (at 57.1 sec)"
       ]
      },
      {
       "output_type": "stream",
       "stream": "stdout",
       "text": [
        "\n",
        "Failed iteration: 73/100 (at 57.2 sec)"
       ]
      },
      {
       "output_type": "stream",
       "stream": "stdout",
       "text": [
        "\n",
        "Failed iteration: 79/100 (at 59.3 sec)"
       ]
      },
      {
       "output_type": "stream",
       "stream": "stdout",
       "text": [
        "\n",
        "Failed iteration: 88/100 (at 61.8 sec)"
       ]
      },
      {
       "output_type": "stream",
       "stream": "stdout",
       "text": [
        "\n",
        "Failed iteration: 97/100 (at 64.8 sec)"
       ]
      },
      {
       "output_type": "stream",
       "stream": "stdout",
       "text": [
        "\n",
        "Classifier:"
       ]
      },
      {
       "output_type": "stream",
       "stream": "stdout",
       "text": [
        "\n",
        "SGDClassifier(alpha=0.0001, class_weight='auto', epsilon=0.1, eta0=10,\n",
        "       fit_intercept=True, l1_ratio=0.87242444647686523,\n",
        "       learning_rate='constant', loss='modified_huber', n_iter=86,\n",
        "       n_jobs=1, penalty='elasticnet', power_t=0.26110573378925195,\n",
        "       random_state=None, shuffle=True, verbose=0, warm_start=False)\n",
        "--------------------------------------------------------------------------------\n",
        "Predictive performance:\n",
        "            accuracy: 0.833 +- 0.079"
       ]
      },
      {
       "output_type": "stream",
       "stream": "stdout",
       "text": [
        "\n",
        "           precision: 0.839 +- 0.126"
       ]
      },
      {
       "output_type": "stream",
       "stream": "stdout",
       "text": [
        "\n",
        "              recall: 0.814 +- 0.135"
       ]
      },
      {
       "output_type": "stream",
       "stream": "stdout",
       "text": [
        "\n",
        "                  f1: 0.839 +- 0.103"
       ]
      },
      {
       "output_type": "stream",
       "stream": "stdout",
       "text": [
        "\n",
        "   average_precision: 0.929 +- 0.076"
       ]
      },
      {
       "output_type": "stream",
       "stream": "stdout",
       "text": [
        "\n",
        "             roc_auc: 0.920 +- 0.060"
       ]
      },
      {
       "output_type": "stream",
       "stream": "stdout",
       "text": [
        "\n",
        "--------------------------------------------------------------------------------\n",
        "CPU times: user 1min 26s, sys: 3.69 s, total: 1min 29s\n",
        "Wall time: 1min 42s\n"
       ]
      }
     ],
     "prompt_number": 8
    },
    {
     "cell_type": "code",
     "collapsed": false,
     "input": [
      "from eden.model import BinaryClassificationModel\n",
      "\n",
      "model2 = BinaryClassificationModel()\n",
      "model2.load(model_fname)\n",
      "\n",
      "from eden.modifier.fasta import fasta_to_fasta\n",
      "iterable = islice(fasta_to_fasta( rfam_uri( rfam_id ) ),size)\n",
      "\n",
      "predictions= model2.decision_function( iterable )\n",
      "for n,i in enumerate(sorted(predictions)): print i"
     ],
     "language": "python",
     "metadata": {},
     "outputs": [
      {
       "output_type": "stream",
       "stream": "stdout",
       "text": [
        "2.3417710273\n",
        "3.60325597633\n",
        "4.06487920877\n",
        "4.29149103027\n",
        "4.51575777818\n",
        "4.55324708779\n",
        "4.70978324953\n",
        "4.82782927796\n",
        "4.93198549932\n",
        "5.09986393525\n",
        "5.63932206797\n",
        "5.64516435478\n",
        "6.09269800502\n",
        "6.53668572047\n",
        "6.70869191752\n",
        "6.82585309591\n",
        "6.92446330218\n",
        "6.94701079853\n",
        "6.96576152791\n",
        "7.40538263106\n",
        "7.84448534544\n",
        "8.11543561299\n",
        "8.7577262906\n",
        "8.86445588461\n",
        "9.07508983837\n",
        "9.62278396926\n",
        "9.9882656759\n",
        "10.2554213416\n",
        "10.580899127\n",
        "10.5997808852\n",
        "10.7971517836\n",
        "10.9314032791\n",
        "11.039904424\n",
        "11.1205880987\n",
        "11.1862295138\n",
        "11.2453086893\n",
        "11.672225902\n",
        "11.7538346694\n",
        "11.7771867687\n",
        "11.8628812652\n",
        "12.1730521497\n",
        "12.2280192152\n",
        "12.260790765\n",
        "12.5546394261\n",
        "12.7150478805\n",
        "13.0174625015\n",
        "13.0650480269\n",
        "13.1580314123\n",
        "13.7101365729\n",
        "13.7103627668\n",
        "14.0412065343\n",
        "14.0561157613\n",
        "14.2052470451\n",
        "14.3658075555\n",
        "14.7165601892\n",
        "14.9166082634\n",
        "15.1378199109\n",
        "15.2621550991\n",
        "15.4078101271\n",
        "15.460396346\n",
        "15.5656558624\n",
        "15.5845552369\n",
        "15.6606765289\n",
        "16.2615918033\n",
        "16.6673586576\n",
        "16.7449329322\n",
        "17.3633616817\n",
        "18.3314533387\n",
        "18.6744540923\n",
        "18.7674174996\n",
        "18.9828569571\n",
        "20.1638504803\n",
        "20.2794781462\n",
        "21.2484945749\n",
        "21.4938257413\n"
       ]
      }
     ],
     "prompt_number": 9
    }
   ],
   "metadata": {}
  }
 ]
}