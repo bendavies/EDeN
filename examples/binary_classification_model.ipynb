{
 "metadata": {
  "name": "",
  "signature": "sha256:de3d6b8afd20c237f2812bed01394e70a638d1f7b461a7ea86d2b5fc57ec4d00"
 },
 "nbformat": 3,
 "nbformat_minor": 0,
 "worksheets": [
  {
   "cells": [
    {
     "cell_type": "code",
     "collapsed": false,
     "input": [
      "def rfam_uri(family_id):\n",
      "    return 'http://rfam.xfam.org/family/%s/alignment?acc=%s&format=fastau&download=0'%(family_id,family_id)\n",
      "\n",
      "def rfam_uri(family_id):\n",
      "    return '%s.fa'%(family_id)"
     ],
     "language": "python",
     "metadata": {},
     "outputs": [],
     "prompt_number": 1
    },
    {
     "cell_type": "code",
     "collapsed": false,
     "input": [
      "rfam_id = 'RF02275' #Hammerhead_HH9\n",
      "rfam_id = 'RF00871' #microRNA mir-689\n",
      "rfam_id = 'RF00005' #tRNA"
     ],
     "language": "python",
     "metadata": {},
     "outputs": [],
     "prompt_number": 2
    },
    {
     "cell_type": "code",
     "collapsed": false,
     "input": [
      "def pre_processor( data, **args):\n",
      "    from eden.converter.rna.rnafold import rnafold_to_eden\n",
      "    graphs = rnafold_to_eden( data, **args )\n",
      "    return graphs"
     ],
     "language": "python",
     "metadata": {},
     "outputs": [],
     "prompt_number": 3
    },
    {
     "cell_type": "code",
     "collapsed": false,
     "input": [
      "def pre_processor( data, **args):\n",
      "    from eden.converter.rna.rnashapes import rnashapes_to_eden\n",
      "    graphs = rnashapes_to_eden( data, data_type='seq', **args )\n",
      "    return graphs"
     ],
     "language": "python",
     "metadata": {},
     "outputs": [],
     "prompt_number": 4
    },
    {
     "cell_type": "code",
     "collapsed": false,
     "input": [
      "from eden.graph import Vectorizer\n",
      "vectorizer = Vectorizer()"
     ],
     "language": "python",
     "metadata": {},
     "outputs": [],
     "prompt_number": 5
    },
    {
     "cell_type": "code",
     "collapsed": false,
     "input": [
      "from sklearn.linear_model import SGDClassifier, Perceptron, PassiveAggressiveClassifier\n",
      "estimator = PassiveAggressiveClassifier(shuffle=True)\n",
      "estimator = Perceptron(class_weight='auto', shuffle=True)\n",
      "estimator = SGDClassifier(class_weight='auto', shuffle=True)"
     ],
     "language": "python",
     "metadata": {},
     "outputs": [],
     "prompt_number": 6
    },
    {
     "cell_type": "code",
     "collapsed": false,
     "input": [
      "#data setup\n",
      "model_fname='eden_model_%s'%rfam_id\n",
      "size=100\n",
      "times=2\n",
      "train_test_split=0.7\n",
      "n_iter=30"
     ],
     "language": "python",
     "metadata": {},
     "outputs": [],
     "prompt_number": 7
    },
    {
     "cell_type": "markdown",
     "metadata": {},
     "source": [
      "#BinaryClassificationModel"
     ]
    },
    {
     "cell_type": "code",
     "collapsed": false,
     "input": [
      "#create iterable from files\n",
      "from eden.converter.fasta import fasta_to_sequence\n",
      "seqs = fasta_to_sequence( rfam_uri( rfam_id ) )\n",
      "from itertools import tee\n",
      "seqs,seqs_=tee(seqs)\n",
      "iterable_pos = seqs\n",
      "from eden.modifier.seq import seq_to_seq, shuffle_modifier\n",
      "iterable_neg = seq_to_seq( seqs_, modifier=shuffle_modifier, times=times, order=2 )\n",
      "\n",
      "#consier only first 'size' elements\n",
      "from itertools import islice\n",
      "iterable_pos = islice(iterable_pos,size)\n",
      "iterable_neg = islice(iterable_neg,size*times)\n",
      "\n",
      "#split train/test\n",
      "from eden.util import random_bipartition_iter\n",
      "iterable_pos_train, iterable_pos_test = random_bipartition_iter(iterable_pos, relative_size=train_test_split)\n",
      "iterable_neg_train, iterable_neg_test = random_bipartition_iter(iterable_neg, relative_size=train_test_split)"
     ],
     "language": "python",
     "metadata": {},
     "outputs": [],
     "prompt_number": 8
    },
    {
     "cell_type": "code",
     "collapsed": false,
     "input": [
      "%%time\n",
      "#make predictive model\n",
      "from eden.model import ActiveLearningBinaryClassificationModel\n",
      "model = ActiveLearningBinaryClassificationModel( pre_processor, estimator=estimator, vectorizer=vectorizer )\n",
      "\n",
      "#optimize hyperparameters and fit model\n",
      "from numpy.random import randint\n",
      "from numpy.random import uniform\n",
      "pre_processor_parameters={'max_num':[1,2,3], \n",
      "                          'shape_type':[4,5], \n",
      "                          'energy_range':randint(10, 40, size=n_iter)}\n",
      "pre_processor_parameters={'max_num':[1], \n",
      "                          'shape_type':[5], \n",
      "                          'energy_range':[10]}\n",
      "\n",
      "vectorizer_parameters={'complexity':[1]}\n",
      "\n",
      "estimator_parameters={'n_iter':randint(5, 100, size=n_iter),\n",
      "                      'penalty':['l1','l2','elasticnet'],\n",
      "                      'l1_ratio':uniform(0.1,0.9, size=n_iter), \n",
      "                      'loss':['hinge', 'log', 'modified_huber', 'squared_hinge', 'perceptron'],\n",
      "                      'power_t':uniform(0.1, size=n_iter),\n",
      "                      'alpha': [10**x for x in range(-8,0)],\n",
      "                      'eta0': [10**x for x in range(-4,-1)],\n",
      "                      'learning_rate': [\"invscaling\", \"constant\", \"optimal\"]}\n",
      "\n",
      "model.optimize(iterable_pos_train, iterable_neg_train, \n",
      "               model_name=model_fname,\n",
      "               n_iter=n_iter, cv=3, n_jobs=1, verbose=1,\n",
      "               pre_processor_parameters=pre_processor_parameters, \n",
      "               vectorizer_parameters=vectorizer_parameters, \n",
      "               estimator_parameters=estimator_parameters)"
     ],
     "language": "python",
     "metadata": {},
     "outputs": [
      {
       "output_type": "stream",
       "stream": "stdout",
       "text": [
        "\n",
        "Iteration: 1/30 (at 9.1 sec; 0:00:09.115425)\n",
        "Best score (roc_auc): 0.835110 (0.854043 +- 0.018933)\n",
        "Instances: 420 ; Features: 1048577 with an avg of 131 features per instance\n",
        "class: 1 count:140 (0.33)\tclass: -1 count:280 (0.67)\t\n",
        "Saved current best model in eden_model_RF00005\n",
        "\n"
       ]
      },
      {
       "output_type": "stream",
       "stream": "stdout",
       "text": [
        "Iteration: 2/30 (at 9.7 sec; 0:00:09.679424)\n",
        "Best score (roc_auc): 0.851761 (0.892270 +- 0.040509)\n",
        "Instances: 420 ; Features: 1048577 with an avg of 131 features per instance\n",
        "class: 1 count:140 (0.33)\tclass: -1 count:280 (0.67)\t\n",
        "Saved current best model in eden_model_RF00005\n",
        "\n"
       ]
      },
      {
       "output_type": "stream",
       "stream": "stdout",
       "text": [
        "Iteration: 5/30 (at 11.1 sec; 0:00:11.133960)\n",
        "Best score (roc_auc): 0.855230 (0.874664 +- 0.019435)\n",
        "Instances: 420 ; Features: 1048577 with an avg of 131 features per instance\n",
        "class: 1 count:140 (0.33)\tclass: -1 count:280 (0.67)\t\n",
        "Saved current best model in eden_model_RF00005\n",
        "\n"
       ]
      },
      {
       "output_type": "stream",
       "stream": "stdout",
       "text": [
        "Iteration: 17/30 (at 17.3 sec; 0:00:17.320374)\n",
        "Best score (roc_auc): 0.907062 (0.937809 +- 0.030747)\n",
        "Instances: 420 ; Features: 1048577 with an avg of 131 features per instance\n",
        "class: 1 count:140 (0.33)\tclass: -1 count:280 (0.67)\t\n",
        "Saved current best model in eden_model_RF00005\n",
        "Failed iteration: 19/30 (at 17.8 sec; 0:00:17.832053)"
       ]
      },
      {
       "output_type": "stream",
       "stream": "stdout",
       "text": [
        "\n",
        "\n"
       ]
      },
      {
       "output_type": "stream",
       "stream": "stdout",
       "text": [
        "Iteration: 29/30 (at 22.4 sec; 0:00:22.399909)\n",
        "Best score (roc_auc): 0.933591 (0.957454 +- 0.023864)\n",
        "Instances: 420 ; Features: 1048577 with an avg of 131 features per instance\n",
        "class: 1 count:140 (0.33)\tclass: -1 count:280 (0.67)\t\n",
        "Saved current best model in eden_model_RF00005\n",
        "CPU times: user 23.6 s, sys: 1.47 s, total: 25 s"
       ]
      },
      {
       "output_type": "stream",
       "stream": "stdout",
       "text": [
        "\n",
        "Wall time: 31.9 s\n"
       ]
      }
     ],
     "prompt_number": 9
    },
    {
     "cell_type": "code",
     "collapsed": false,
     "input": [
      "%%time\n",
      "#estimate predictive performance\n",
      "model.estimate( iterable_pos_test, iterable_neg_test, cv=5 )"
     ],
     "language": "python",
     "metadata": {},
     "outputs": [
      {
       "output_type": "stream",
       "stream": "stdout",
       "text": [
        "Classifier:\n",
        "SGDClassifier(alpha=0.01, class_weight='auto', epsilon=0.1, eta0=0.01,\n",
        "       fit_intercept=True, l1_ratio=0.23001209971002928,\n",
        "       learning_rate='constant', loss='perceptron', n_iter=81, n_jobs=1,\n",
        "       penalty='l2', power_t=0.90574391415056299, random_state=None,\n",
        "       shuffle=True, verbose=0, warm_start=False)\n",
        "--------------------------------------------------------------------------------\n",
        "Predictive performance:\n",
        "            accuracy: 0.733 +- 0.082"
       ]
      },
      {
       "output_type": "stream",
       "stream": "stdout",
       "text": [
        "\n",
        "           precision: 0.558 +- 0.283"
       ]
      },
      {
       "output_type": "stream",
       "stream": "stdout",
       "text": [
        "\n",
        "              recall: 0.500 +- 0.316"
       ]
      },
      {
       "output_type": "stream",
       "stream": "stdout",
       "text": [
        "\n",
        "                  f1: 0.463 +- 0.179"
       ]
      },
      {
       "output_type": "stream",
       "stream": "stdout",
       "text": [
        "\n",
        "   average_precision: 0.703 +- 0.157"
       ]
      },
      {
       "output_type": "stream",
       "stream": "stdout",
       "text": [
        "\n",
        "             roc_auc: 0.814 +- 0.115"
       ]
      },
      {
       "output_type": "stream",
       "stream": "stdout",
       "text": [
        "\n",
        "--------------------------------------------------------------------------------\n",
        "CPU times: user 7.25 s, sys: 539 ms, total: 7.79 s\n",
        "Wall time: 9.26 s\n"
       ]
      },
      {
       "output_type": "stream",
       "stream": "stderr",
       "text": [
        "/Library/Python/2.7/site-packages/sklearn/metrics/metrics.py:1771: UndefinedMetricWarning: Precision is ill-defined and being set to 0.0 due to no predicted samples.\n",
        "  'precision', 'predicted', average, warn_for)\n"
       ]
      }
     ],
     "prompt_number": 10
    },
    {
     "cell_type": "markdown",
     "metadata": {},
     "source": [
      "Models can be reloaded from disk"
     ]
    },
    {
     "cell_type": "code",
     "collapsed": false,
     "input": [
      "from eden.model import ActiveLearningBinaryClassificationModel\n",
      "\n",
      "model2 = ActiveLearningBinaryClassificationModel()\n",
      "model2.load(model_fname)\n",
      "\n",
      "from eden.converter.fasta import fasta_to_sequence\n",
      "seqs = fasta_to_sequence( rfam_uri( rfam_id ) )\n",
      "from itertools import tee\n",
      "seqs,seqs_=tee(seqs)\n",
      "iterable_pos = seqs\n",
      "\n",
      "#consier only first 'size' elements\n",
      "from itertools import islice\n",
      "iterable_pos = islice(iterable_pos,size)\n",
      "\n",
      "predictions= model2.decision_function( iterable_pos )\n",
      "for n,i in enumerate(sorted(predictions)): print n,i"
     ],
     "language": "python",
     "metadata": {},
     "outputs": [
      {
       "output_type": "stream",
       "stream": "stdout",
       "text": [
        "0 -0.00768722908197\n",
        "1 -0.00768722908197\n",
        "2 -0.00619297381123\n",
        "3 -0.00619297381123\n",
        "4 -0.00571455638134\n",
        "5 -0.00571455638134\n",
        "6 -0.00483570759706\n",
        "7 -0.00483570759706\n",
        "8 -0.00384480758577\n",
        "9 -0.00384480758577\n",
        "10 -0.00327221638164\n",
        "11 -0.00327221638164\n",
        "12 -0.00272290694233\n",
        "13 -0.00272290694233\n",
        "14 -0.00238545041075\n",
        "15 -0.00238545041075\n",
        "16 -0.00205794708091\n",
        "17 -0.00205794708091\n",
        "18 -0.00187710732701\n",
        "19 -0.00187710732701\n",
        "20 -0.00166368296\n",
        "21 -0.00166368296\n",
        "22 -0.00010950620846\n",
        "23 -0.00010950620846\n",
        "24 0.000101047122054\n",
        "25 0.000101047122054\n",
        "26 0.000180217061089\n",
        "27 0.000180217061089\n",
        "28 0.000388848000904\n",
        "29 0.000388848000904\n",
        "30 0.000404567617497\n",
        "31 0.000404567617497\n",
        "32 0.000412998804642\n",
        "33 0.000412998804642\n",
        "34 0.000545775253721\n",
        "35 0.000545775253721\n",
        "36 0.000701155869026\n",
        "37 0.000701155869026\n",
        "38 0.000796157451381\n",
        "39 0.000796157451381\n",
        "40 0.000850956915594\n",
        "41 0.000850956915594\n",
        "42 0.000896981544133\n",
        "43 0.000896981544133\n",
        "44 0.000992931138376\n",
        "45 0.000992931138376\n",
        "46 0.00103638880752\n",
        "47 0.00103638880752\n",
        "48 0.00103941944721\n",
        "49 0.00103941944721\n",
        "50 0.00104732751279\n",
        "51 0.00104732751279\n",
        "52 0.00109292879955\n",
        "53 0.00109292879955\n",
        "54 0.00121850366436\n",
        "55 0.00121850366436\n",
        "56 0.00139082403107\n",
        "57 0.00139082403107\n",
        "58 0.00140708537809\n",
        "59 0.00140708537809\n",
        "60 0.00145388888544\n",
        "61 0.00145388888544\n",
        "62 0.00153198374981\n",
        "63 0.00153198374981\n",
        "64 0.00156246143682\n",
        "65 0.00156246143682\n",
        "66 0.00164922557028\n",
        "67 0.00164922557028\n",
        "68 0.00174650763564\n",
        "69 0.00174650763564\n",
        "70 0.0018836546829\n",
        "71 0.0018836546829\n",
        "72 0.00198374541527\n",
        "73 0.00198374541527\n",
        "74 0.00201149399404\n",
        "75 0.00201149399404\n",
        "76 0.00210226517624\n",
        "77 0.00210226517624\n",
        "78 0.00217693518059\n",
        "79 0.00217693518059\n",
        "80 0.0021943269742\n",
        "81 0.0021943269742\n",
        "82 0.00226172942105\n",
        "83 0.00226172942105\n",
        "84 0.00234128798617\n",
        "85 0.00234128798617\n",
        "86 0.00239115605203\n",
        "87 0.00239115605203\n",
        "88 0.00239417286593\n",
        "89 0.00239417286593\n",
        "90 0.00262034587909\n",
        "91 0.00262034587909\n",
        "92 0.00265073018429\n",
        "93 0.00265073018429\n",
        "94 0.0028732898642\n",
        "95 0.0028732898642\n",
        "96 0.00302113782591\n",
        "97 0.00302113782591\n",
        "98 0.00302190605398\n",
        "99 0.00302190605398\n",
        "100 0.00304336263061\n",
        "101 0.00304336263061\n",
        "102 0.00307047088895\n",
        "103 0.00307047088895\n",
        "104 0.00307662613453\n",
        "105 0.00307662613453\n",
        "106 0.00309321697816\n",
        "107 0.00309321697816\n",
        "108 0.0031051787263\n",
        "109 0.0031051787263\n",
        "110 0.0032788330356\n",
        "111 0.0032788330356\n",
        "112 0.00328330129574\n",
        "113 0.00328330129574\n",
        "114 0.00330289852471\n",
        "115 0.00330289852471\n",
        "116 0.00332794763917\n",
        "117 0.00332794763917\n",
        "118 0.00336834748139\n",
        "119 0.00336834748139\n",
        "120 0.00343395566384\n",
        "121 0.00343395566384\n",
        "122 0.00347070173863\n",
        "123 0.00347070173863\n",
        "124 0.00380791521876\n",
        "125 0.00380791521876\n",
        "126 0.00396158596027\n",
        "127 0.00396158596027\n",
        "128 0.00400281129394\n",
        "129 0.00400281129394\n",
        "130 0.00405695612466\n",
        "131 0.00405695612466\n",
        "132 0.00406883401531\n",
        "133 0.00406883401531\n",
        "134 0.00407553838919\n",
        "135 0.00407553838919\n",
        "136 0.00430800265574\n",
        "137 0.00430800265574\n",
        "138 0.00444663613674\n",
        "139 0.00444663613674\n",
        "140 0.00449740934706\n",
        "141 0.00449740934706\n",
        "142 0.00452686724135\n",
        "143 0.00452686724135\n",
        "144 0.00452838545194\n",
        "145 0.00452838545194\n",
        "146 0.00482327377643\n",
        "147 0.00482327377643\n",
        "148 0.00484460895258\n",
        "149 0.00484460895258\n",
        "150 0.00491539044988\n",
        "151 0.00491539044988\n",
        "152 0.00491689075626\n",
        "153 0.00491689075626\n",
        "154 0.00497005435084\n",
        "155 0.00497005435084\n",
        "156 0.00502355590111\n",
        "157 0.00502355590111\n",
        "158 0.00536875158203\n",
        "159 0.00536875158203\n",
        "160 0.00541865944088\n",
        "161 0.00541865944088\n",
        "162 0.00550265294368\n",
        "163 0.00550265294368\n",
        "164 0.00560502809998\n",
        "165 0.00560502809998\n",
        "166 0.00572458840062\n",
        "167 0.00572458840062\n",
        "168 0.00573664849533\n",
        "169 0.00573664849533\n",
        "170 0.00593904007824\n",
        "171 0.00593904007824\n",
        "172 0.00595951276012\n",
        "173 0.00595951276012\n",
        "174 0.00618119772271\n",
        "175 0.00618119772271\n",
        "176 0.00619966762152\n",
        "177 0.00619966762152\n",
        "178 0.00627726682849\n",
        "179 0.00627726682849\n",
        "180 0.0063930348093\n",
        "181 0.0063930348093\n",
        "182 0.00669387468856\n",
        "183 0.00669387468856\n",
        "184 0.0067096922545\n",
        "185 0.0067096922545\n",
        "186 0.00742237677476\n",
        "187 0.00742237677476\n",
        "188 0.00763701240284\n",
        "189 0.00763701240284\n",
        "190 0.00787970189305\n",
        "191 0.00787970189305\n",
        "192 0.00795224828356\n",
        "193 0.00795224828356\n",
        "194 0.00833722648262\n",
        "195 0.00833722648262\n",
        "196 0.00842050561195\n",
        "197 0.00842050561195\n",
        "198 0.0101586088146\n",
        "199 0.0101586088146\n"
       ]
      }
     ],
     "prompt_number": 11
    },
    {
     "cell_type": "markdown",
     "metadata": {},
     "source": [
      "#ActiveLearningBinaryClassificationModel"
     ]
    },
    {
     "cell_type": "code",
     "collapsed": false,
     "input": [
      "#create iterable from files\n",
      "from eden.converter.fasta import fasta_to_sequence\n",
      "seqs = fasta_to_sequence( rfam_uri( rfam_id ) )\n",
      "from itertools import tee\n",
      "seqs,seqs_=tee(seqs)\n",
      "iterable_pos = seqs\n",
      "from eden.modifier.seq import seq_to_seq, shuffle_modifier\n",
      "iterable_neg = seq_to_seq( seqs_, modifier=shuffle_modifier, times=times, order=2 )\n",
      "\n",
      "#consier only first 'size' elements\n",
      "from itertools import islice\n",
      "iterable_pos = islice(iterable_pos,size)\n",
      "iterable_neg = islice(iterable_neg,size*times)\n",
      "\n",
      "#split train/test\n",
      "from eden.util import random_bipartition_iter\n",
      "iterable_pos_train, iterable_pos_test = random_bipartition_iter(iterable_pos, relative_size=train_test_split)\n",
      "iterable_neg_train, iterable_neg_test = random_bipartition_iter(iterable_neg, relative_size=train_test_split)"
     ],
     "language": "python",
     "metadata": {},
     "outputs": [],
     "prompt_number": 14
    },
    {
     "cell_type": "code",
     "collapsed": false,
     "input": [
      "%%time\n",
      "#make predictive model\n",
      "from eden.model import ActiveLearningBinaryClassificationModel\n",
      "model = ActiveLearningBinaryClassificationModel( pre_processor, estimator=estimator, vectorizer=vectorizer )\n",
      "\n",
      "#optimize hyperparameters and fit model\n",
      "from numpy.random import randint\n",
      "from numpy.random import uniform\n",
      "pre_processor_parameters={'max_num':[1,2,3], \n",
      "                          'shape_type':[4,5], \n",
      "                          'energy_range':randint(10, 40, size=n_iter)}\n",
      "\n",
      "vectorizer_parameters={'complexity':[1,2]}\n",
      "\n",
      "estimator_parameters={'n_iter':randint(5, 100, size=n_iter),\n",
      "                      'penalty':['l1','l2','elasticnet'],\n",
      "                      'l1_ratio':uniform(0.1,0.9, size=n_iter), \n",
      "                      'loss':['hinge', 'log', 'modified_huber', 'squared_hinge', 'perceptron'],\n",
      "                      'power_t':uniform(0.1, size=n_iter),\n",
      "                      'alpha': [10**x for x in range(-8,0)],\n",
      "                      'eta0': [10**x for x in range(-4,-1)],\n",
      "                      'learning_rate': [\"invscaling\", \"constant\", \"optimal\"]}\n",
      "active_set_size=50\n",
      "model.optimize(iterable_pos_train, iterable_neg_train, \n",
      "               n_active_learning_iterations=4,\n",
      "               size_positive=-1,\n",
      "               size_negative=active_set_size,\n",
      "               n_iter=n_iter, cv=3, n_jobs=1, verbose=1,\n",
      "               pre_processor_parameters=pre_processor_parameters, \n",
      "               vectorizer_parameters=vectorizer_parameters, \n",
      "               estimator_parameters=estimator_parameters)\n",
      "\n",
      "#save model\n",
      "model_fname='eden_model_active_%s'%rfam_id\n",
      "model.save(model_fname)"
     ],
     "language": "python",
     "metadata": {},
     "outputs": []
    },
    {
     "cell_type": "code",
     "collapsed": false,
     "input": [
      "%%time\n",
      "#estimate predictive performance\n",
      "model.estimate( iterable_pos_test, iterable_neg_test, cv=5 )"
     ],
     "language": "python",
     "metadata": {},
     "outputs": []
    },
    {
     "cell_type": "code",
     "collapsed": false,
     "input": [
      "from eden.model import ActiveLearningBinaryClassificationModel\n",
      "\n",
      "model2 = ActiveLearningBinaryClassificationModel()\n",
      "model2.load(model_fname)\n",
      "\n",
      "from eden.converter.fasta import fasta_to_sequence\n",
      "seqs = fasta_to_sequence( rfam_uri( rfam_id ) )\n",
      "from itertools import tee\n",
      "seqs,seqs_=tee(seqs)\n",
      "iterable_pos = seqs\n",
      "\n",
      "#consier only first 'size' elements\n",
      "from itertools import islice\n",
      "iterable_pos = islice(iterable_pos,size)\n",
      "\n",
      "predictions= model2.decision_function( iterable_pos )\n",
      "for n,i in enumerate(sorted(predictions)): print n,i"
     ],
     "language": "python",
     "metadata": {},
     "outputs": []
    }
   ],
   "metadata": {}
  }
 ]
}