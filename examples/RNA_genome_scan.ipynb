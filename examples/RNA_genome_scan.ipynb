{
 "metadata": {
  "name": "",
  "signature": "sha256:870fecccd1fac306ace7675518a097520b7e742e49ef7a544834aad281a12c9f"
 },
 "nbformat": 3,
 "nbformat_minor": 0,
 "worksheets": [
  {
   "cells": [
    {
     "cell_type": "code",
     "collapsed": false,
     "input": [
      "import itertools\n",
      "def join_pre_processes( data, pre_processes, weights):\n",
      "    if hasattr( data, '__iter__' ):\n",
      "        iterable = data\n",
      "    else: #if not then process url or file with fasta_to_fasta\n",
      "        from eden.modifier.fasta import fasta_to_fasta\n",
      "        iterable = fasta_to_fasta( data )\n",
      "    from eden import util\n",
      "    return util.join_pre_processes(iterable, pre_processes=pre_processes, weights=weights)"
     ],
     "language": "python",
     "metadata": {},
     "outputs": [],
     "prompt_number": 29
    },
    {
     "cell_type": "code",
     "collapsed": false,
     "input": [
      "def pre_process_rnashapes( iterable ):\n",
      "    from eden.converter.rna.rnashapes import rnashapes_to_eden\n",
      "    graphs = rnashapes_to_eden( iterable, shape_type = 5, energy_range = 35, max_num = 3 )\n",
      "    return graphs"
     ],
     "language": "python",
     "metadata": {},
     "outputs": [],
     "prompt_number": 30
    },
    {
     "cell_type": "code",
     "collapsed": false,
     "input": [
      "def pre_process_fasta( iterable ):\n",
      "    from eden.converter.fasta import fasta_to_eden\n",
      "    graphs = fasta_to_eden( iterable )\n",
      "    return graphs"
     ],
     "language": "python",
     "metadata": {},
     "outputs": [],
     "prompt_number": 31
    },
    {
     "cell_type": "code",
     "collapsed": false,
     "input": [
      "def pre_process_structure( iterable ):\n",
      "    from eden.converter.rna.rnashapes_struct import rnashapes_struct_to_eden\n",
      "    graphs = rnashapes_struct_to_eden(iterable, shape=True, dotbracket=False, energy=False, shape_type=5, energy_range=35, max_num=3)\n",
      "    return graphs"
     ],
     "language": "python",
     "metadata": {},
     "outputs": [],
     "prompt_number": 32
    },
    {
     "cell_type": "code",
     "collapsed": false,
     "input": [
      "def pre_process_energy( iterable ):\n",
      "    from eden.converter.rna.rnashapes_struct import rnashapes_struct_to_eden\n",
      "    graphs = rnashapes_struct_to_eden(iterable, energy=True, dotbracket=False, shape=False, shape_type=5, energy_range=35, max_num=3)\n",
      "    return graphs"
     ],
     "language": "python",
     "metadata": {},
     "outputs": [],
     "prompt_number": 33
    },
    {
     "cell_type": "code",
     "collapsed": false,
     "input": [
      "def pre_process_contraction( iterable ):\n",
      "    from eden.converter.rna.rnashapes import rnashapes_to_eden\n",
      "    graphs = rnashapes_to_eden( iterable, shape_type=5, energy_range=35, max_num=3 )\n",
      "    \n",
      "    #annotate in node attribute 'type' the incident edges' labels\n",
      "    from eden.modifier.graph import vertex_attributes\n",
      "    graphs = vertex_attributes.incident_edge_label(graphs, level=1, output_attribute='type', separator='.')\n",
      "    \n",
      "    from eden.modifier.graph.structure import contraction, contraction_modifier\n",
      "    label_modifier = contraction_modifier(attribute_in='type', attribute_out='label', reduction='set_categorical')\n",
      "    \n",
      "    #reduce all 'weight' attributes of contracted nodes using a sum to be written in the 'weight' attribute of the resulting graph \n",
      "    weight_modifier = contraction_modifier(attribute_in='weight', attribute_out='weight', reduction='sum')\n",
      "    modifiers = [label_modifier, weight_modifier]\n",
      "    \n",
      "    #contract the graph on the 'type' attribute\n",
      "    graphs = contraction(graphs, contraction_attribute='type', modifiers=modifiers)\n",
      "    \n",
      "    return graphs"
     ],
     "language": "python",
     "metadata": {},
     "outputs": [],
     "prompt_number": 34
    },
    {
     "cell_type": "code",
     "collapsed": false,
     "input": [
      "def pre_process( data ):\n",
      "    pre_processes = [pre_process_energy, pre_process_rnashapes, pre_process_fasta, pre_process_structure, pre_process_contraction]\n",
      "    weights = [0.4, 0.2, 0.05, 0.3, 0.05]\n",
      "    return join_pre_processes( data, pre_processes, weights)"
     ],
     "language": "python",
     "metadata": {},
     "outputs": [],
     "prompt_number": 35
    },
    {
     "cell_type": "code",
     "collapsed": false,
     "input": [
      "def pre_process( data ):\n",
      "    pre_processes = [pre_process_energy, pre_process_structure]\n",
      "    weights = [0.2, 0.8]\n",
      "    return join_pre_processes( data, pre_processes, weights)"
     ],
     "language": "python",
     "metadata": {},
     "outputs": [],
     "prompt_number": 36
    },
    {
     "cell_type": "code",
     "collapsed": false,
     "input": [
      "def describe(X):\n",
      "    print 'Instances: %d ; Features: %d (with an avg of %d features per instance)' % (X.shape[0], X.shape[1],  X.getnnz()/X.shape[0])"
     ],
     "language": "python",
     "metadata": {},
     "outputs": [],
     "prompt_number": 37
    },
    {
     "cell_type": "code",
     "collapsed": false,
     "input": [
      "def model(uri, pre_process):\n",
      "\n",
      "    from eden.graph import Vectorizer\n",
      "    vectorizer = Vectorizer( r=2, d=2 )\n",
      "    n_jobs = 1\n",
      "\n",
      "    graphs = pre_process( uri )\n",
      "    X1 = vectorizer.transform( graphs, n_jobs=n_jobs )\n",
      "    describe(X1)\n",
      "    \n",
      "    from eden.modifier.fasta import fasta_to_fasta, shuffle_modifier\n",
      "    graphs = pre_process( fasta_to_fasta( uri , modifier=shuffle_modifier, times=2, order=2) )\n",
      "    X2 = vectorizer.transform( graphs, n_jobs=n_jobs )\n",
      "    describe(X2)\n",
      "    \n",
      "    from eden.util import fit_estimator\n",
      "    estimator = fit_estimator( positive_data_matrix=X1, negative_data_matrix=X2, cv=5 )\n",
      "    \n",
      "    return estimator, vectorizer"
     ],
     "language": "python",
     "metadata": {},
     "outputs": [],
     "prompt_number": 38
    },
    {
     "cell_type": "code",
     "collapsed": false,
     "input": [
      "def list_model(uri, pre_process):\n",
      "\n",
      "    from eden.graph import ListVectorizer\n",
      "    vectorizer = ListVectorizer( r=2, d=2 )\n",
      "    n_jobs = -1\n",
      "\n",
      "    graphs_list, weights = pre_process( uri )\n",
      "    X1 = vectorizer.transform( graphs_list, weights=weights, n_jobs=n_jobs )\n",
      "    describe(X1)\n",
      "    \n",
      "    from eden.modifier.fasta import fasta_to_fasta, shuffle_modifier\n",
      "    graphs_list, weights = pre_process( fasta_to_fasta( uri , modifier=shuffle_modifier, times=2, order=2) )\n",
      "    X2 = vectorizer.transform( graphs_list, weights=weights, n_jobs=n_jobs )\n",
      "    describe(X2)\n",
      "    \n",
      "    from eden.util import fit_estimator\n",
      "    estimator = fit_estimator( positive_data_matrix=X1, negative_data_matrix=X2, cv=5 )\n",
      "    \n",
      "    return estimator, vectorizer"
     ],
     "language": "python",
     "metadata": {},
     "outputs": [],
     "prompt_number": 39
    },
    {
     "cell_type": "code",
     "collapsed": false,
     "input": [
      "def rfam_uri(family_id):\n",
      "    return 'http://rfam.xfam.org/family/%s/alignment?acc=%s&format=fastau&download=0'%(family_id,family_id)"
     ],
     "language": "python",
     "metadata": {},
     "outputs": [],
     "prompt_number": 40
    },
    {
     "cell_type": "code",
     "collapsed": false,
     "input": [
      "def rfam_uri(family_id):\n",
      "    return '%s.fa'%(family_id)"
     ],
     "language": "python",
     "metadata": {},
     "outputs": [],
     "prompt_number": 41
    },
    {
     "cell_type": "code",
     "collapsed": false,
     "input": [
      "rfam_id = 'RF00871' #microRNA mir-689"
     ],
     "language": "python",
     "metadata": {},
     "outputs": [],
     "prompt_number": 42
    },
    {
     "cell_type": "code",
     "collapsed": false,
     "input": [
      "rfam_id = 'RF02275' #Hammerhead_HH9"
     ],
     "language": "python",
     "metadata": {},
     "outputs": [],
     "prompt_number": 43
    },
    {
     "cell_type": "code",
     "collapsed": false,
     "input": [
      "rfam_id = 'RF00005' #tRNA"
     ],
     "language": "python",
     "metadata": {},
     "outputs": [],
     "prompt_number": 44
    },
    {
     "cell_type": "code",
     "collapsed": false,
     "input": [
      "%%time\n",
      "estimator, vectorizer = model(rfam_uri( rfam_id ), pre_process_rnashapes)"
     ],
     "language": "python",
     "metadata": {},
     "outputs": [
      {
       "output_type": "stream",
       "stream": "stdout",
       "text": [
        "Instances: 954 ; Features: 1048577 (with an avg of 906 features per instance)\n",
        "Instances: 1908 ; Features: 1048577 (with an avg of 881 features per instance)"
       ]
      },
      {
       "output_type": "stream",
       "stream": "stdout",
       "text": [
        "\n"
       ]
      },
      {
       "output_type": "stream",
       "stream": "stdout",
       "text": [
        "Classifier:\n",
        "SGDClassifier(alpha=0.00018306246197, class_weight='auto', epsilon=0.1,\n",
        "       eta0=2.07621459095, fit_intercept=True, l1_ratio=0.15,\n",
        "       learning_rate='optimal', loss='hinge', n_iter=88, n_jobs=-1,\n",
        "       penalty='l2', power_t=0.636970128915, random_state=None,\n",
        "       shuffle=True, verbose=0, warm_start=False)\n",
        "-------------------------------------------------------------------------\n",
        "Predictive performance:\n"
       ]
      },
      {
       "output_type": "stream",
       "stream": "stdout",
       "text": [
        "            accuracy: 0.969 +- 0.011\n"
       ]
      },
      {
       "output_type": "stream",
       "stream": "stdout",
       "text": [
        "           precision: 0.968 +- 0.019\n"
       ]
      },
      {
       "output_type": "stream",
       "stream": "stdout",
       "text": [
        "              recall: 0.938 +- 0.015\n"
       ]
      },
      {
       "output_type": "stream",
       "stream": "stdout",
       "text": [
        "                  f1: 0.953 +- 0.016\n"
       ]
      },
      {
       "output_type": "stream",
       "stream": "stdout",
       "text": [
        "   average_precision: 0.990 +- 0.006\n"
       ]
      },
      {
       "output_type": "stream",
       "stream": "stdout",
       "text": [
        "             roc_auc: 0.993 +- 0.004\n",
        "-------------------------------------------------------------------------\n",
        "CPU times: user 5min 20s, sys: 41.9 s, total: 6min 2s\n",
        "Wall time: 8min 45s\n"
       ]
      }
     ],
     "prompt_number": 45
    },
    {
     "cell_type": "code",
     "collapsed": false,
     "input": [
      "%%time\n",
      "estimator_str, vectorizer_str = list_model(rfam_uri( rfam_id ), pre_process)"
     ],
     "language": "python",
     "metadata": {},
     "outputs": [
      {
       "output_type": "stream",
       "stream": "stdout",
       "text": [
        "Instances: 954 ; Features: 1048577 (with an avg of 74 features per instance)\n"
       ]
      },
      {
       "output_type": "stream",
       "stream": "stdout",
       "text": [
        "Instances: 1908 ; Features: 1048577 (with an avg of 94 features per instance)\n"
       ]
      },
      {
       "output_type": "stream",
       "stream": "stdout",
       "text": [
        "Classifier:\n",
        "SGDClassifier(alpha=1.67174587167e-05, class_weight='auto', epsilon=0.1,\n",
        "       eta0=9.74762245967, fit_intercept=True, l1_ratio=0.15,\n",
        "       learning_rate='optimal', loss='hinge', n_iter=64, n_jobs=-1,\n",
        "       penalty='l1', power_t=0.332345211724, random_state=None,\n",
        "       shuffle=True, verbose=0, warm_start=False)\n",
        "-------------------------------------------------------------------------\n",
        "Predictive performance:\n"
       ]
      },
      {
       "output_type": "stream",
       "stream": "stdout",
       "text": [
        "            accuracy: 0.914 +- 0.009\n"
       ]
      },
      {
       "output_type": "stream",
       "stream": "stdout",
       "text": [
        "           precision: 0.863 +- 0.048\n"
       ]
      },
      {
       "output_type": "stream",
       "stream": "stdout",
       "text": [
        "              recall: 0.891 +- 0.053\n"
       ]
      },
      {
       "output_type": "stream",
       "stream": "stdout",
       "text": [
        "                  f1: 0.874 +- 0.011\n"
       ]
      },
      {
       "output_type": "stream",
       "stream": "stdout",
       "text": [
        "   average_precision: 0.927 +- 0.018\n"
       ]
      },
      {
       "output_type": "stream",
       "stream": "stdout",
       "text": [
        "             roc_auc: 0.958 +- 0.015\n",
        "-------------------------------------------------------------------------\n",
        "CPU times: user 21.4 s, sys: 19 s, total: 40.4 s\n",
        "Wall time: 3min 11s\n"
       ]
      }
     ],
     "prompt_number": 46
    },
    {
     "cell_type": "code",
     "collapsed": false,
     "input": [
      "def extract_motives(uri, motif_support_threshold = 2, min_subarray_size=5, max_subarray_size=18, estimator = estimator, vectorizer = vectorizer):\n",
      "    from eden.graph import Annotator\n",
      "    annotator = Annotator( estimator = estimator, vectorizer = vectorizer )\n",
      "\n",
      "    #annotate graphs with node importance \n",
      "    graphs = pre_process_rnashapes( uri )\n",
      "    graphs = annotator.transform( graphs )\n",
      "\n",
      "    #use node importance and 'position' attribute to identify max_subarrays of a specific size\n",
      "    #use compute_max_subarrays to return an iterator over motives \n",
      "    from eden.util.iterated_maximum_subarray import compute_max_subarrays\n",
      "\n",
      "    motives = set()\n",
      "    for graph in graphs:\n",
      "        subarrays = compute_max_subarrays(graph=graph, min_subarray_size=min_subarray_size, max_subarray_size=max_subarray_size)\n",
      "        if subarrays:\n",
      "            for subarray in subarrays:\n",
      "                motives.add(''.join(subarray['subarray']))    \n",
      "    \n",
      "    #count occurrences of motives in original dataset to determine support of each motif\n",
      "    from collections import defaultdict\n",
      "\n",
      "    from eden.modifier.fasta import fasta_to_fasta, one_line_modifier\n",
      "    iterable = fasta_to_fasta( uri, modifier=one_line_modifier, sequence_only=True)\n",
      "\n",
      "    motif_counter = defaultdict(int)\n",
      "    for seq in iterable:\n",
      "        for motif in motives:\n",
      "            if seq.find(motif) != -1:\n",
      "                motif_counter[motif] += 1\n",
      "    \n",
      "    #select only motives with support higher than a user defined threshold\n",
      "    selcted_motives = [motif for motif in motif_counter if motif_counter[motif] >= motif_support_threshold]   \n",
      "\n",
      "    #remove motives that are specializations of smaller motifs\n",
      "    blacklist=set()\n",
      "    for motif1 in selcted_motives:\n",
      "        for motif2 in selcted_motives:\n",
      "            if motif1 != motif2 and motif1 in motif2:\n",
      "                blacklist.add(motif2)\n",
      "    selcted_motives=list(set(selcted_motives).difference(blacklist))\n",
      "\n",
      "    print 'Selected %d motives'%len(selcted_motives)\n",
      "    #build a regex expression that matches the occurrence of at least one of the motives\n",
      "    regex=''\n",
      "    for m in sorted(selcted_motives): regex += '|' + m\n",
      "    regex = regex[1:]\n",
      "    return regex"
     ],
     "language": "python",
     "metadata": {},
     "outputs": [],
     "prompt_number": 62
    },
    {
     "cell_type": "code",
     "collapsed": false,
     "input": [
      "%%time\n",
      "regex = extract_motives(rfam_uri( rfam_id ), motif_support_threshold = 10, min_subarray_size=5, max_subarray_size=15, estimator = estimator, vectorizer = vectorizer)\n",
      "print \"regex: \", regex"
     ],
     "language": "python",
     "metadata": {},
     "outputs": [
      {
       "output_type": "stream",
       "stream": "stdout",
       "text": [
        "Selected 47 motives\n",
        "regex:  AAACCAA|AAAUCCCU|AAAUCCU|AAAUCUC|AAUCCUCU|AAUUGGUU|AGAAAU|AGCUUAA|AGGUUCA|AGUUCAAU|AGUUCGA|CAAAAAU|CAAAUCCC|CACCCA|CACCCCU|CCCCCA|CCCGCA|GAAACA|GAACCA|GAAUCCU|GAGAAUA|GCCCCA|GGUAAAAU|GGUUAAAG|GGUUCAAU|GGUUCGA|GUCCUU|GUUCAAUUCCU|GUUCGAU|UAAAAGUA|UAAAGCA|UAAAUAU|UAAAUCC|UAACCUU|UAACUAA|UAGAAU|UAGCUCAAUU|UAGCUUA|UCCCUA|UCCCUCU|UCCUUA|UCUUGA|UGGGUUCAA|UUCAAAU|UUCGAAU|UUCGAUCCC|UUGGUUC\n",
        "CPU times: user 1min 49s, sys: 9.05 s, total: 1min 58s\n",
        "Wall time: 2min 25s\n"
       ]
      }
     ],
     "prompt_number": 104
    },
    {
     "cell_type": "code",
     "collapsed": false,
     "input": [
      "def motives_discriminative_performance_evaluation(data, regex):\n",
      "    #compute statistics when using the motives as indicators for the target family on the original data \n",
      "    #and on a randomly permuted dataset\n",
      "    \n",
      "    from eden.modifier.fasta import fasta_to_fasta, keep_modifier, shuffle_modifier\n",
      "    iterable = fasta_to_fasta( data , modifier=keep_modifier, regex=regex )\n",
      "    true_positive_count = sum(1 for x in iterable)\n",
      "    iterable = fasta_to_fasta( data )\n",
      "    positive_count = sum(1 for x in iterable)\n",
      "    iterable = fasta_to_fasta( data , modifier=shuffle_modifier, times=10, order=2)\n",
      "    it1,it2 = itertools.tee(iterable)\n",
      "    negative_count = sum(1 for x in it1)\n",
      "    iterable = fasta_to_fasta( it2 , modifier=keep_modifier, regex=regex )\n",
      "    false_positive_count = sum(1 for x in iterable)\n",
      "    false_negative_count =  positive_count - true_positive_count\n",
      "    true_negative_count = negative_count - false_negative_count\n",
      "\n",
      "    recall = true_positive_count/float(true_positive_count + false_negative_count)\n",
      "    precision = true_positive_count/float(true_positive_count + false_positive_count)\n",
      "    f1 = 2 * precision * recall / (precision + recall)\n",
      "\n",
      "    print 'pos:%d neg:%d TP:%d FP:%d TN:%d FN:%d' % (positive_count, negative_count, true_positive_count, false_positive_count, true_negative_count, false_negative_count)\n",
      "    print 'precision:%0.3f recall:%0.3f f1:%0.3f' % (precision, recall, f1)\n",
      "    print 'dataset reduction: from %d to %d = %0.3f' % (negative_count, false_positive_count, false_positive_count/float(negative_count))"
     ],
     "language": "python",
     "metadata": {},
     "outputs": [],
     "prompt_number": 105
    },
    {
     "cell_type": "code",
     "collapsed": false,
     "input": [
      "motives_discriminative_performance_evaluation(rfam_uri( rfam_id ), regex)"
     ],
     "language": "python",
     "metadata": {},
     "outputs": [
      {
       "output_type": "stream",
       "stream": "stdout",
       "text": [
        "pos:1908 neg:19080 TP:1660 FP:5000 TN:18832 FN:248\n",
        "precision:0.249 recall:0.870 f1:0.387\n",
        "dataset reduction: from 19080 to 5000 = 0.262\n"
       ]
      }
     ],
     "prompt_number": 106
    },
    {
     "cell_type": "code",
     "collapsed": false,
     "input": [
      "def lenght_stats(uri, lower_percentile=25, upper_percentile=75):\n",
      "    #extract statistics on the average lenght of the sequences in the given Rfam family\n",
      "    #use this information to determine the size of the window when scanning the genome\n",
      "    import numpy\n",
      "    from eden.modifier.fasta import fasta_to_fasta, one_line_modifier\n",
      "\n",
      "    iterable = fasta_to_fasta( uri, modifier=one_line_modifier, sequence_only=True)\n",
      "    len_seqs = [len(seq) for seq in iterable]\n",
      "    lower_quantile = int(numpy.percentile(len_seqs, lower_percentile))\n",
      "    upper_quantile = int(numpy.percentile(len_seqs, upper_percentile))\n",
      "\n",
      "    num_seqs = len(len_seqs)\n",
      "\n",
      "    print 'Rfam family %s has %d sequences' % (rfam_id, num_seqs)\n",
      "    print 'more than %d%% of the sequences have lenght smaller than: %d ' % (upper_percentile, upper_quantile)\n",
      "    print 'less then %d%% of the sequences have lenght smaller than: %d ' % (lower_percentile, lower_quantile)\n",
      "    \n",
      "    return lower_quantile, upper_quantile"
     ],
     "language": "python",
     "metadata": {},
     "outputs": [],
     "prompt_number": 114
    },
    {
     "cell_type": "code",
     "collapsed": false,
     "input": [
      "lower_quantile, upper_quantile = lenght_stats(rfam_uri( rfam_id ), lower_percentile=15, upper_percentile=85)"
     ],
     "language": "python",
     "metadata": {},
     "outputs": [
      {
       "output_type": "stream",
       "stream": "stdout",
       "text": [
        "Rfam family RF00005 has 954 sequences\n",
        "more than 85% of the sequences have lenght smaller than: 77 \n",
        "less then 15% of the sequences have lenght smaller than: 69 \n"
       ]
      }
     ],
     "prompt_number": 115
    },
    {
     "cell_type": "code",
     "collapsed": false,
     "input": [
      "def out_of_core_list_filter( iterable, estimator=None, vectorizer=None, pre_process=None, threshold=1 ):\n",
      "    #define a filter that uses the predictive model\n",
      "    import itertools\n",
      "    iterable_headers, iterable_seqs = itertools.tee( iterable )\n",
      "    \n",
      "    #1. extract oneline fasta\n",
      "    from eden.modifier.fasta import fasta_to_fasta, one_line_modifier\n",
      "    header_seqs = fasta_to_fasta( iterable_headers, modifier=one_line_modifier, one_line=True )\n",
      "\n",
      "    #2. extract graphs\n",
      "    graphs_list, weights = pre_process( iterable_seqs )\n",
      "    from eden.graph import OutOfCoreListPredictor\n",
      "    out_of_core_list_predictor = OutOfCoreListPredictor( estimator=estimator, vectorizer=vectorizer )\n",
      "    predictions = out_of_core_list_predictor.predict(graphs_list, weights=weights)\n",
      "\n",
      "    #1+2\n",
      "    for header_seq, prediction in itertools.izip(header_seqs, predictions):\n",
      "        if prediction >= float(threshold):\n",
      "            lines = header_seq.split('\\t')\n",
      "            header = lines[0] + ' SCORE: %.3f '%prediction\n",
      "            seq = lines[1]\n",
      "            yield header\n",
      "            yield seq"
     ],
     "language": "python",
     "metadata": {},
     "outputs": [],
     "prompt_number": 116
    },
    {
     "cell_type": "code",
     "collapsed": false,
     "input": [
      "def out_of_core_filter( iterable, estimator=None, vectorizer=None, pre_process=None, threshold=1 ):\n",
      "    #define a filter that uses the predictive model\n",
      "    import itertools\n",
      "    iterable_headers, iterable_seqs = itertools.tee( iterable )\n",
      "    \n",
      "    #1. extract oneline fasta\n",
      "    from eden.modifier.fasta import fasta_to_fasta, one_line_modifier\n",
      "    header_seqs = fasta_to_fasta( iterable_headers, modifier=one_line_modifier, one_line=True )\n",
      "\n",
      "    #2. extract graphs\n",
      "    graphs = pre_process( iterable_seqs )\n",
      "    from eden.graph import OutOfCorePredictor\n",
      "    out_of_core_predictor = OutOfCorePredictor( estimator=estimator, vectorizer=vectorizer )\n",
      "    predictions = out_of_core_predictor.predict(graphs)\n",
      "\n",
      "    #1+2\n",
      "    for header_seq, prediction in itertools.izip(header_seqs, predictions):\n",
      "        if prediction >= float(threshold):\n",
      "            lines = header_seq.split('\\t')\n",
      "            header = lines[0] + ' SCORE: %.3f '%prediction\n",
      "            seq = lines[1]\n",
      "            yield header\n",
      "            yield seq"
     ],
     "language": "python",
     "metadata": {},
     "outputs": [],
     "prompt_number": 117
    },
    {
     "cell_type": "code",
     "collapsed": false,
     "input": [
      "#parameters choice\n",
      "uri = 'ecoli.fa'\n",
      "min_lenght = lower_quantile\n",
      "max_lenght = upper_quantile\n",
      "threshold_1 = 0.0\n",
      "threshold_2 = 0.0\n",
      "\n",
      "\n",
      "#compose all modifiers and filters\n",
      "from eden.modifier.fasta import fasta_to_fasta, one_line_modifier, replace_modifier, split_regex_modifier, split_modifier, keep_modifier\n",
      "\n",
      "#replace Ts with Us\n",
      "iterable = fasta_to_fasta(uri, modifier=replace_modifier, regex='T', replacement='U')\n",
      "\n",
      "#split out sequences that are not stretches of Ns  \n",
      "#iterable = fasta_to_fasta(iterable, modifier=split_regex_modifier, regex=\"([^N]+)\" )\n",
      "\n",
      "#filter out small sequences, i.e. smaller than lower_quantile\n",
      "#iterable = fasta_to_fasta(iterable, modifier=keep_modifier, regex=\"(.{%d,})\"%min_lenght )\n",
      "\n",
      "#split large sequences into overlapping windows of size comparable with the Rfam average seq lenght\n",
      "iterable = fasta_to_fasta( iterable, modifier=split_modifier, window=max_lenght, step=int(max_lenght / 10) )\n",
      "\n",
      "#keep only the sequences that are matched by the regex\n",
      "iterable = fasta_to_fasta(iterable, modifier=keep_modifier, regex=regex )\n",
      "\n",
      "#filter sequences using predictive model on structures\n",
      "iterable = out_of_core_list_filter( iterable, threshold=threshold_1, pre_process=pre_process, estimator=estimator_str, vectorizer=vectorizer_str )\n",
      "\n",
      "#filter sequences using predictive model on seq+structure\n",
      "iterable = out_of_core_filter( iterable, threshold=threshold_2, pre_process=pre_process_rnashapes, estimator=estimator, vectorizer=vectorizer )\n",
      "\n",
      "#extract one line\n",
      "iterable = fasta_to_fasta( iterable, modifier=one_line_modifier, one_line=True )"
     ],
     "language": "python",
     "metadata": {},
     "outputs": [],
     "prompt_number": 121
    },
    {
     "cell_type": "code",
     "collapsed": false,
     "input": [
      "%%time\n",
      "#run the filter on the genome and save results\n",
      "\n",
      "from datetime import datetime\n",
      "import sys\n",
      "\n",
      "results = []\n",
      "\n",
      "f = open('result','a')\n",
      "print >> f, '-'*80\n",
      "print >> f, rfam_id\n",
      "print >> f, datetime.now() \n",
      "\n",
      "#display and save results    \n",
      "for line in iterable:\n",
      "    print line\n",
      "    sys.stdout.flush()\n",
      "    print >> f, line\n",
      "    f.flush()\n",
      "    results.append(line)"
     ],
     "language": "python",
     "metadata": {},
     "outputs": [
      {
       "output_type": "stream",
       "stream": "stdout",
       "text": [
        ">gi|556503834|ref|NC_000913.3| Escherichia coli str. K-12 substr. MG1655, complete genome START: 000076160 END: 000076237 LEN: 77 SCORE: 1.013 SCORE: 0.284\tGCCGGGAACCACAGUUGCUGGUACUGUUCCUCAGCGAAAUAGACCAGAUUAGUUGGAGAAAGCACAUAGCUUACCCA\n"
       ]
      },
      {
       "output_type": "stream",
       "stream": "stdout",
       "text": [
        ">gi|556503834|ref|NC_000913.3| Escherichia coli str. K-12 substr. MG1655, complete genome START: 000076167 END: 000076244 LEN: 77 SCORE: 1.089 SCORE: 0.439\tACCACAGUUGCUGGUACUGUUCCUCAGCGAAAUAGACCAGAUUAGUUGGAGAAAGCACAUAGCUUACCCAGUCCCUG\n"
       ]
      },
      {
       "output_type": "stream",
       "stream": "stdout",
       "text": [
        ">gi|556503834|ref|NC_000913.3| Escherichia coli str. K-12 substr. MG1655, complete genome START: 000076209 END: 000076286 LEN: 77 SCORE: 1.098 SCORE: 0.010\tUAGUUGGAGAAAGCACAUAGCUUACCCAGUCCCUGACUUGCUGAUUCGCCCCGCGAUGGGUGCGGCUGUCGAACAGU\n"
       ]
      },
      {
       "output_type": "stream",
       "stream": "stdout",
       "text": [
        ">gi|556503834|ref|NC_000913.3| Escherichia coli str. K-12 substr. MG1655, complete genome START: 000102760 END: 000102837 LEN: 77 SCORE: 1.166 SCORE: 0.023\tGUAUUGAUUGAAAAAUGGCUAAGUGGGCCGGAGUUCACGGUUGCGAUACUCGGUGAAGAAAUUUUACCGUCAAUACG\n"
       ]
      },
      {
       "output_type": "stream",
       "stream": "stdout",
       "text": [
        ">gi|556503834|ref|NC_000913.3| Escherichia coli str. K-12 substr. MG1655, complete genome START: 000186508 END: 000186585 LEN: 77 SCORE: 0.506 SCORE: 0.197\tGCUCCAGAUAAAAAUCUCGGUGCCUCCACGCGUAGCCUGCGGGCUAAGCAAUACCAGCGGUUUGCUUAAAUCAUGCU\n"
       ]
      },
      {
       "output_type": "stream",
       "stream": "stdout",
       "text": [
        ">gi|556503834|ref|NC_000913.3| Escherichia coli str. K-12 substr. MG1655, complete genome START: 000190554 END: 000190631 LEN: 77 SCORE: 0.937 SCORE: 0.416\tGAUCUGGCUUCCCAGGCGGAAGAAAGCUUCGUAGAAGCUGAGUAAUAAGGCUUGAUAACUCCCCCAAAAUAGUUCGA\n"
       ]
      },
      {
       "output_type": "stream",
       "stream": "stdout",
       "text": [
        ">gi|556503834|ref|NC_000913.3| Escherichia coli str. K-12 substr. MG1655, complete genome START: 000191177 END: 000191254 LEN: 77 SCORE: 1.084 SCORE: 0.291\tGUUGAAGUUCUGAAAGCACAGUUCGAAGAAGAACGUGUUGCGCUGGUAGCGAAAAUUGGUGAAAACAUCAACAUUCG\n"
       ]
      },
      {
       "output_type": "stream",
       "stream": "stdout",
       "text": [
        ">gi|556503834|ref|NC_000913.3| Escherichia coli str. K-12 substr. MG1655, complete genome START: 000225379 END: 000225456 LEN: 77 SCORE: 1.380 SCORE: 1.181\tCAGGCUUGUAGCUCAGGUGGUUAGAGCGCACCCCUGAUAAGGGUGAGGUCGGUGGUUCAAGUCCACUCAGGCCUACC\n"
       ]
      },
      {
       "output_type": "stream",
       "stream": "stdout",
       "text": [
        ">gi|556503834|ref|NC_000913.3| Escherichia coli str. K-12 substr. MG1655, complete genome START: 000225407 END: 000225484 LEN: 77 SCORE: 1.131 SCORE: 0.520\tCACCCCUGAUAAGGGUGAGGUCGGUGGUUCAAGUCCACUCAGGCCUACCAAAUUUGCACGGCAAAUUUGAAGAGGUU\n"
       ]
      },
      {
       "output_type": "stream",
       "stream": "stdout",
       "text": [
        ">gi|556503834|ref|NC_000913.3| Escherichia coli str. K-12 substr. MG1655, complete genome START: 000225498 END: 000225575 LEN: 77 SCORE: 0.841 SCORE: 0.787\tUGGGGCUAUAGCUCAGCUGGGAGAGCGCCUGCUUUGCACGCAGGAGGUCUGCGGUUCGAUCCCGCAUAGCUCCACCA\n"
       ]
      },
      {
       "output_type": "stream",
       "stream": "stdout",
       "text": [
        ">gi|556503834|ref|NC_000913.3| Escherichia coli str. K-12 substr. MG1655, complete genome START: 000228928 END: 000229005 LEN: 77 SCORE: 0.879 SCORE: 0.322\tGAGCGGUAGUUCAGUCGGUUAGAAUACCUGCCUGUCACGCAGGGGGUCGCGGGUUCGAGUCCCGUCCGUUCCGCCAC\n"
       ]
      },
      {
       "output_type": "stream",
       "stream": "stdout",
       "text": [
        ">gi|556503834|ref|NC_000913.3| Escherichia coli str. K-12 substr. MG1655, complete genome START: 000236929 END: 000237006 LEN: 77 SCORE: 1.876 SCORE: 0.489\tCGGAGCGGUAGUUCAGUCGGUUAGAAUACCUGCCUGUCACGCAGGGGGUCGCGGGUUCGAGUCCCGUCCGUUCCGCC\n"
       ]
      },
      {
       "output_type": "stream",
       "stream": "stdout",
       "text": [
        ">gi|556503834|ref|NC_000913.3| Escherichia coli str. K-12 substr. MG1655, complete genome START: 000236936 END: 000237013 LEN: 77 SCORE: 1.098 SCORE: 0.069\tGUAGUUCAGUCGGUUAGAAUACCUGCCUGUCACGCAGGGGGUCGCGGGUUCGAGUCCCGUCCGUUCCGCCACUAUUC\n"
       ]
      },
      {
       "output_type": "stream",
       "stream": "stdout",
       "text": [
        ">gi|556503834|ref|NC_000913.3| Escherichia coli str. K-12 substr. MG1655, complete genome START: 000259868 END: 000259945 LEN: 77 SCORE: 1.275 SCORE: 0.133\tCCCAACGACCAUAACCAGUCAGUUGAUCGUUAAUUUGUGUUUCGCCUUUGAAACCAAAACGGAUAUAACUCUGGUCG\n"
       ]
      },
      {
       "output_type": "stream",
       "stream": "stdout",
       "text": [
        ">gi|556503834|ref|NC_000913.3| Escherichia coli str. K-12 substr. MG1655, complete genome START: 000262850 END: 000262927 LEN: 77 SCORE: 1.188 SCORE: 0.218\tCGUGAACAUGUCCUUUCAGGGCCGAUAUAGCUCAGUUGGUAGAGCAGCGCAUUCGUAAUGCGAAGGUCGUAGGUUCG\n"
       ]
      },
      {
       "output_type": "stream",
       "stream": "stdout",
       "text": [
        ">gi|556503834|ref|NC_000913.3| Escherichia coli str. K-12 substr. MG1655, complete genome START: 000262864 END: 000262941 LEN: 77 SCORE: 0.622 SCORE: 0.590\tUUCAGGGCCGAUAUAGCUCAGUUGGUAGAGCAGCGCAUUCGUAAUGCGAAGGUCGUAGGUUCGACUCCUAUUAUCGG\n"
       ]
      },
      {
       "output_type": "stream",
       "stream": "stdout",
       "text": [
        ">gi|556503834|ref|NC_000913.3| Escherichia coli str. K-12 substr. MG1655, complete genome START: 000262871 END: 000262948 LEN: 77 SCORE: 0.622 SCORE: 0.419\tCCGAUAUAGCUCAGUUGGUAGAGCAGCGCAUUCGUAAUGCGAAGGUCGUAGGUUCGACUCCUAUUAUCGGCACCAUU\n"
       ]
      },
      {
       "output_type": "stream",
       "stream": "stdout",
       "text": [
        ">gi|556503834|ref|NC_000913.3| Escherichia coli str. K-12 substr. MG1655, complete genome START: 000297178 END: 000297255 LEN: 77 SCORE: 1.052 SCORE: 0.137\tCUCAAGUAGUUAAAAAUGCAUUAACAUCGCAUUCGUAAUGCGAAGGUCGUAGGUUCGACUCCUAUUAUCGGCACCAU\n"
       ]
      },
      {
       "output_type": "stream",
       "stream": "stdout",
       "text": [
        ">gi|556503834|ref|NC_000913.3| Escherichia coli str. K-12 substr. MG1655, complete genome START: 000302736 END: 000302813 LEN: 77 SCORE: 1.274 SCORE: 0.001\tGAUGAUGGGAGCUGGUUUAUUGCUUUAGUUGUACGAUGCAAAAACCAAUAAGGAAACCUGUGAUUUUCAGCUCUACA\n"
       ]
      },
      {
       "output_type": "stream",
       "stream": "stdout",
       "text": [
        ">gi|556503834|ref|NC_000913.3| Escherichia coli str. K-12 substr. MG1655, complete genome START: 000402808 END: 000402885 LEN: 77 SCORE: 1.352 SCORE: 0.336\tGCGAAUCCUUGUGGGCAAAUUGGCGAGACGGUCGAUCUCGAUGAAGCCGUACAACGGGCGCUGGAAUUCGCUAAAAA\n"
       ]
      },
      {
       "output_type": "stream",
       "stream": "stdout",
       "text": [
        ">gi|556503834|ref|NC_000913.3| Escherichia coli str. K-12 substr. MG1655, complete genome START: 000442631 END: 000442708 LEN: 77 SCORE: 1.352 SCORE: 0.170\tGCGGAAGAAGAGAAGUUCGACUUCAGCAUUCUCGAUAAAGUGGUUGAGGAAGCGAAUAACGUUGAUAUCCGCGAAAU\n"
       ]
      },
      {
       "output_type": "stream",
       "stream": "stdout",
       "text": [
        ">gi|556503834|ref|NC_000913.3| Escherichia coli str. K-12 substr. MG1655, complete genome START: 000564718 END: 000564795 LEN: 77 SCORE: 1.876 SCORE: 1.323\tCAACGCGCCCUUAGCUCAGUUGGAUAGAGCAACGACCUUCUAAGUCGUGGGCCGCAGGUUCGAAUCCUGCAGGGCGC\n"
       ]
      },
      {
       "output_type": "stream",
       "stream": "stdout",
       "text": [
        ">gi|556503834|ref|NC_000913.3| Escherichia coli str. K-12 substr. MG1655, complete genome START: 000564732 END: 000564809 LEN: 77 SCORE: 1.113 SCORE: 0.456\tCUCAGUUGGAUAGAGCAACGACCUUCUAAGUCGUGGGCCGCAGGUUCGAAUCCUGCAGGGCGCGCCAUUACAAUUCA\n"
       ]
      },
      {
       "output_type": "stream",
       "stream": "stdout",
       "text": [
        ">gi|556503834|ref|NC_000913.3| Escherichia coli str. K-12 substr. MG1655, complete genome START: 000564739 END: 000564816 LEN: 77 SCORE: 1.084 SCORE: 0.173\tGGAUAGAGCAACGACCUUCUAAGUCGUGGGCCGCAGGUUCGAAUCCUGCAGGGCGCGCCAUUACAAUUCAAUCAGUU\n"
       ]
      },
      {
       "output_type": "stream",
       "stream": "stdout",
       "text": [
        ">gi|556503834|ref|NC_000913.3| Escherichia coli str. K-12 substr. MG1655, complete genome START: 000577017 END: 000577094 LEN: 77 SCORE: 1.934 SCORE: 0.129\tUUAGCCAAUUUAUAUUAACGGCUGUUAUUUAUAAGUGCUCUAUAAUUUGAAGGUUCAAUUUAAACCGGCUAAAAAUA\n"
       ]
      },
      {
       "output_type": "stream",
       "stream": "stdout",
       "text": [
        ">gi|556503834|ref|NC_000913.3| Escherichia coli str. K-12 substr. MG1655, complete genome START: 000579460 END: 000579537 LEN: 77 SCORE: 1.158 SCORE: 0.043\tUGAAUAUUAUCUGUGGCUAGAUAGUAAAUAUAAUGUGAGACAUUGUGACGUUUUAGUUCAGAAUAAAACAAUUCACA\n"
       ]
      },
      {
       "output_type": "stream",
       "stream": "stdout",
       "text": [
        ">gi|556503834|ref|NC_000913.3| Escherichia coli str. K-12 substr. MG1655, complete genome START: 000638841 END: 000638918 LEN: 77 SCORE: 1.299 SCORE: 0.172\tAGGUUGUAAGGUAAAACUUAUCGAUUUGAUAAUGGAAACGCAUUAGCCGAAUCGGCAAAAAUUGGUUACCUUACAUC\n"
       ]
      },
      {
       "output_type": "stream",
       "stream": "stdout",
       "text": [
        ">gi|556503834|ref|NC_000913.3| Escherichia coli str. K-12 substr. MG1655, complete genome START: 000646730 END: 000646807 LEN: 77 SCORE: 0.308 SCORE: 0.086\tUCGAGAUCGGCGGGGGUUCGAAUGCCCCCUUUUUGCAAUAAUGUUUGCGCCUCGCGCUGUAGCCAGCGCAGGCCCCC\n"
       ]
      },
      {
       "output_type": "stream",
       "stream": "stdout",
       "text": [
        ">gi|556503834|ref|NC_000913.3| Escherichia coli str. K-12 substr. MG1655, complete genome START: 000646737 END: 000646814 LEN: 77 SCORE: 1.220 SCORE: 0.297\tCGGCGGGGGUUCGAAUGCCCCCUUUUUGCAAUAAUGUUUGCGCCUCGCGCUGUAGCCAGCGCAGGCCCCCCUCGCCA\n"
       ]
      },
      {
       "output_type": "stream",
       "stream": "stdout",
       "text": [
        ">gi|556503834|ref|NC_000913.3| Escherichia coli str. K-12 substr. MG1655, complete genome START: 000696556 END: 000696633 LEN: 77 SCORE: 1.671 SCORE: 0.584\tGAUUCGAACCUCGGAAUGCCGGAAUCAGAAUCCGGUGCCUUACCGCUUGGCGAUACCCCAACAAAUUGGUUUUGAAU\n"
       ]
      },
      {
       "output_type": "stream",
       "stream": "stdout",
       "text": [
        ">gi|556503834|ref|NC_000913.3| Escherichia coli str. K-12 substr. MG1655, complete genome START: 000696752 END: 000696829 LEN: 77 SCORE: 1.162 SCORE: 0.058\tCGAUGGCUGGGGUACCUGGAUUCGAACCAGGGAAUGCCGGUAUCAAAAACCGGUGCCUUACCGCUUGGCGAUACCCC\n"
       ]
      },
      {
       "output_type": "stream",
       "stream": "stdout",
       "text": [
        ">gi|556503834|ref|NC_000913.3| Escherichia coli str. K-12 substr. MG1655, complete genome START: 000696759 END: 000696836 LEN: 77 SCORE: 1.334 SCORE: 0.722\tUGGGGUACCUGGAUUCGAACCAGGGAAUGCCGGUAUCAAAAACCGGUGCCUUACCGCUUGGCGAUACCCCAAUAACC\n"
       ]
      },
      {
       "output_type": "stream",
       "stream": "stdout",
       "text": [
        ">gi|556503834|ref|NC_000913.3| Escherichia coli str. K-12 substr. MG1655, complete genome START: 000696864 END: 000696941 LEN: 77 SCORE: 1.334 SCORE: 0.326\tUGGCUGGGGUACCUGGAUUCGAACCAGGGAAUGCCGGUAUCAAAAACCGGUGCCUUACCGCUUGGCGAUACCCCAUC\n"
       ]
      },
      {
       "output_type": "stream",
       "stream": "stdout",
       "text": [
        ">gi|556503834|ref|NC_000913.3| Escherichia coli str. K-12 substr. MG1655, complete genome START: 000701372 END: 000701449 LEN: 77 SCORE: 0.236 SCORE: 0.149\tGCGGCCCCCGGUGGAGGCCUGCUGAUCAACUUCUUUGAUCAGCCCGCGUUCGAUAAGCUGACGCGUAAUUUUGGUUA\n"
       ]
      },
      {
       "output_type": "stream",
       "stream": "stdout",
       "text": [
        ">gi|556503834|ref|NC_000913.3| Escherichia coli str. K-12 substr. MG1655, complete genome START: 000714644 END: 000714721 LEN: 77 SCORE: 0.797 SCORE: 0.045\tGCCGUAAACUGGUAGAAGUCCCGGUAGGUUUCAAAUGGUUUGUCGAUGGUCUGUUCGACGGCAGCUUCGGCUUUGGC\n"
       ]
      },
      {
       "output_type": "stream",
       "stream": "stdout",
       "text": [
        ">gi|556503834|ref|NC_000913.3| Escherichia coli str. K-12 substr. MG1655, complete genome START: 000780549 END: 000780626 LEN: 77 SCORE: 1.348 SCORE: 1.448\tAAGUGGGUCGUUAGCUCAGUUGGUAGAGCAGUUGACUUUUAAUCAAUUGGUCGCAGGUUCGAAUCCUGCACGACCCA\n"
       ]
      },
      {
       "output_type": "stream",
       "stream": "stdout",
       "text": [
        ">gi|556503834|ref|NC_000913.3| Escherichia coli str. K-12 substr. MG1655, complete genome START: 000780570 END: 000780647 LEN: 77 SCORE: 0.535 SCORE: 0.985\tGGUAGAGCAGUUGACUUUUAAUCAAUUGGUCGCAGGUUCGAAUCCUGCACGACCCACCAAUCGCUAAGGUGGAAGCG\n"
       ]
      },
      {
       "output_type": "stream",
       "stream": "stdout",
       "text": [
        ">gi|556503834|ref|NC_000913.3| Escherichia coli str. K-12 substr. MG1655, complete genome START: 000780759 END: 000780836 LEN: 77 SCORE: 1.853 SCORE: 0.304\tGUAUCGGGUGAUUAGCUCAGCUGGGAGAGCACCUCCCUUACAAGGAGGGGGUCGGCGGUUCGAUCCCGUCAUCACCC\n"
       ]
      },
      {
       "output_type": "stream",
       "stream": "stdout",
       "text": [
        ">gi|556503834|ref|NC_000913.3| Escherichia coli str. K-12 substr. MG1655, complete genome START: 000780780 END: 000780857 LEN: 77 SCORE: 0.697 SCORE: 0.353\tUGGGAGAGCACCUCCCUUACAAGGAGGGGGUCGGCGGUUCGAUCCCGUCAUCACCCACCACCGGGUCGUUAGCUCAG\n"
       ]
      },
      {
       "output_type": "stream",
       "stream": "stdout",
       "text": [
        ">gi|556503834|ref|NC_000913.3| Escherichia coli str. K-12 substr. MG1655, complete genome START: 000780787 END: 000780864 LEN: 77 SCORE: 1.131 SCORE: 0.289\tGCACCUCCCUUACAAGGAGGGGGUCGGCGGUUCGAUCCCGUCAUCACCCACCACCGGGUCGUUAGCUCAGUUGGUAG\n"
       ]
      },
      {
       "output_type": "stream",
       "stream": "stdout",
       "text": [
        ">gi|556503834|ref|NC_000913.3| Escherichia coli str. K-12 substr. MG1655, complete genome START: 000780794 END: 000780871 LEN: 77 SCORE: 0.531 SCORE: 0.278\tCCUUACAAGGAGGGGGUCGGCGGUUCGAUCCCGUCAUCACCCACCACCGGGUCGUUAGCUCAGUUGGUAGAGCAGUU\n"
       ]
      },
      {
       "output_type": "stream",
       "stream": "stdout",
       "text": [
        ">gi|556503834|ref|NC_000913.3| Escherichia coli str. K-12 substr. MG1655, complete genome START: 000780843 END: 000780920 LEN: 77 SCORE: 1.166 SCORE: 2.049\tGGUCGUUAGCUCAGUUGGUAGAGCAGUUGACUUUUAAUCAAUUGGUCGCAGGUUCGAAUCCUGCACGACCCACCAGU\n"
       ]
      },
      {
       "output_type": "stream",
       "stream": "stdout",
       "text": [
        ">gi|556503834|ref|NC_000913.3| Escherichia coli str. K-12 substr. MG1655, complete genome START: 000780857 END: 000780934 LEN: 77 SCORE: 0.801 SCORE: 0.848\tUUGGUAGAGCAGUUGACUUUUAAUCAAUUGGUCGCAGGUUCGAAUCCUGCACGACCCACCAGUUUUAACAUCGAAGA\n"
       ]
      },
      {
       "output_type": "stream",
       "stream": "stdout",
       "text": [
        ">gi|556503834|ref|NC_000913.3| Escherichia coli str. K-12 substr. MG1655, complete genome START: 000781067 END: 000781144 LEN: 77 SCORE: 1.853 SCORE: 0.637\tGGGUGAUUAGCUCAGCUGGGAGAGCACCUCCCUUACAAGGAGGGGGUCGGCGGUUCGAUCCCGUCAUCACCCACCAC\n"
       ]
      },
      {
       "output_type": "stream",
       "stream": "stdout",
       "text": [
        ">gi|556503834|ref|NC_000913.3| Escherichia coli str. K-12 substr. MG1655, complete genome START: 000781081 END: 000781158 LEN: 77 SCORE: 0.885 SCORE: 0.261\tGCUGGGAGAGCACCUCCCUUACAAGGAGGGGGUCGGCGGUUCGAUCCCGUCAUCACCCACCACUCGGGUCGUUAGCU\n"
       ]
      },
      {
       "output_type": "stream",
       "stream": "stdout",
       "text": [
        ">gi|556503834|ref|NC_000913.3| Escherichia coli str. K-12 substr. MG1655, complete genome START: 000781088 END: 000781165 LEN: 77 SCORE: 1.475 SCORE: 0.600\tGAGCACCUCCCUUACAAGGAGGGGGUCGGCGGUUCGAUCCCGUCAUCACCCACCACUCGGGUCGUUAGCUCAGUUGG\n"
       ]
      },
      {
       "output_type": "stream",
       "stream": "stdout",
       "text": [
        ">gi|556503834|ref|NC_000913.3| Escherichia coli str. K-12 substr. MG1655, complete genome START: 000781102 END: 000781179 LEN: 77 SCORE: 0.794 SCORE: 0.990\tCAAGGAGGGGGUCGGCGGUUCGAUCCCGUCAUCACCCACCACUCGGGUCGUUAGCUCAGUUGGUAGAGCAGUUGACU\n"
       ]
      },
      {
       "output_type": "stream",
       "stream": "stdout",
       "text": [
        ">gi|556503834|ref|NC_000913.3| Escherichia coli str. K-12 substr. MG1655, complete genome START: 000781144 END: 000781221 LEN: 77 SCORE: 1.429 SCORE: 1.289\tUCGGGUCGUUAGCUCAGUUGGUAGAGCAGUUGACUUUUAAUCAAUUGGUCGCAGGUUCGAAUCCUGCACGACCCACC\n"
       ]
      },
      {
       "output_type": "stream",
       "stream": "stdout",
       "text": [
        ">gi|556503834|ref|NC_000913.3| Escherichia coli str. K-12 substr. MG1655, complete genome START: 000781368 END: 000781445 LEN: 77 SCORE: 1.348 SCORE: 1.359\tGGGUCGUUAGCUCAGUUGGUAGAGCAGUUGACUUUUAAUCAAUUGGUCGCAGGUUCGAAUCCUGCACGACCCACCAA\n"
       ]
      },
      {
       "output_type": "stream",
       "stream": "stdout",
       "text": [
        ">gi|556503834|ref|NC_000913.3| Escherichia coli str. K-12 substr. MG1655, complete genome START: 000781571 END: 000781648 LEN: 77 SCORE: 1.162 SCORE: 2.000\tGCAAGGGGUCGUUAGCUCAGUUGGUAGAGCAGUUGACUUUUAAUCAAUUGGUCGCAGGUUCGAAUCCUGCACGACCC\n"
       ]
      },
      {
       "output_type": "stream",
       "stream": "stdout",
       "text": [
        ">gi|556503834|ref|NC_000913.3| Escherichia coli str. K-12 substr. MG1655, complete genome START: 000815423 END: 000815500 LEN: 77 SCORE: 0.856 SCORE: 0.039\tGCAGAAAAUCCAUGAGCUGGAAGGGUUGAUGAUGCAACACGCGCAGAAUCUGGAGUUCGAAGAAGCGGCGCAAAUUC\n"
       ]
      },
      {
       "output_type": "stream",
       "stream": "stdout",
       "text": [
        ">gi|556503834|ref|NC_000913.3| Escherichia coli str. K-12 substr. MG1655, complete genome START: 000819252 END: 000819329 LEN: 77 SCORE: 1.098 SCORE: 0.152\tGCGACGAAGUAGCUUUCUUCCCGCCGGUAACCGGAGGUUAAGAUGGCAGAAACCAAAAUUGUUGUUGGUCCGCAGCC\n"
       ]
      },
      {
       "output_type": "stream",
       "stream": "stdout",
       "text": [
        ">gi|556503834|ref|NC_000913.3| Escherichia coli str. K-12 substr. MG1655, complete genome START: 000943138 END: 000943215 LEN: 77 SCORE: 1.084 SCORE: 0.070\tCCCGCUUGAUGCCCAAAAACGCGGUAUCCACAACGGCGAUAAAGUCAGGAUCUUUAACGAUCGUGGUGAGGUUCAUA\n"
       ]
      },
      {
       "output_type": "stream",
       "stream": "stdout",
       "text": [
        ">gi|556503834|ref|NC_000913.3| Escherichia coli str. K-12 substr. MG1655, complete genome START: 000949865 END: 000949942 LEN: 77 SCORE: 1.113 SCORE: 0.260\tUCUCCAGAGGUUCAUCAGCUUUAUUCAGAGCUGCUUGAACAUGACACGUUAGUGGUGGUUUUUCCUCUCUGGUGGUA\n"
       ]
      },
      {
       "output_type": "stream",
       "stream": "stdout",
       "text": [
        ">gi|556503834|ref|NC_000913.3| Escherichia coli str. K-12 substr. MG1655, complete genome START: 001003212 END: 001003289 LEN: 77 SCORE: 0.575 SCORE: 0.009\tGACACAGGCGGAAGCGGUGGUAUGGCAACGGGGAUUGCCGUGCAAAUUCUUGAUGCGCAAAGUCAGCAAGAAAUCCC\n"
       ]
      },
      {
       "output_type": "stream",
       "stream": "stdout",
       "text": [
        ">gi|556503834|ref|NC_000913.3| Escherichia coli str. K-12 substr. MG1655, complete genome START: 001011115 END: 001011192 LEN: 77 SCORE: 1.284 SCORE: 0.359\tGCUUAUUUCGAUCAGCACCGCGCGGAACUGGAUCCCGAUAAAACGGUGAUGGAUAACCUUGCCGAAGGUAAGCAAGA\n"
       ]
      },
      {
       "output_type": "stream",
       "stream": "stdout",
       "text": [
        ">gi|556503834|ref|NC_000913.3| Escherichia coli str. K-12 substr. MG1655, complete genome START: 001033879 END: 001033956 LEN: 77 SCORE: 1.270 SCORE: 0.227\tUCUCGAUUUCCAGCGUGAAAUUGUCAAAAUCCACGCGGUCUUUGGCGGUAAAAACCCGCAUCCAAACUGGAUUGUCG\n"
       ]
      },
      {
       "output_type": "stream",
       "stream": "stdout",
       "text": [
        ">gi|556503834|ref|NC_000913.3| Escherichia coli str. K-12 substr. MG1655, complete genome START: 001059464 END: 001059541 LEN: 77 SCORE: 1.299 SCORE: 0.089\tCUUUGUGGCGGCAAAACCGUUCGAACUGGAUAAAUAUCCGUCGAAAAUGAUUGCCGGAUUGCCGGAUCACGUACACA\n"
       ]
      },
      {
       "output_type": "stream",
       "stream": "stdout",
       "text": [
        ">gi|556503834|ref|NC_000913.3| Escherichia coli str. K-12 substr. MG1655, complete genome START: 001103389 END: 001103466 LEN: 77 SCORE: 1.312 SCORE: 0.043\tUAACUAAAUGUAACUCGUUAUAUUAAAAUGUUAACCUUAAGGUUUUAUUAAGUUUAGAAAUGAUAGAAAAGUUGUAC\n"
       ]
      },
      {
       "output_type": "stream",
       "stream": "stdout",
       "text": [
        ">gi|556503834|ref|NC_000913.3| Escherichia coli str. K-12 substr. MG1655, complete genome START: 001182622 END: 001182699 LEN: 77 SCORE: 1.084 SCORE: 0.181\tCAGCUUGGCGUACAUGGUUUCGUUCGACUCGUAAGUCGAAUAGAUAACCUUAAUACCGGUUUCUUUGGUGAACUGUU\n"
       ]
      },
      {
       "output_type": "stream",
       "stream": "stdout",
       "text": [
        ">gi|556503834|ref|NC_000913.3| Escherichia coli str. K-12 substr. MG1655, complete genome START: 001224517 END: 001224594 LEN: 77 SCORE: 0.069 SCORE: 0.007\tGCGAGAGAAAGAAAUCGAGUAAUGCCAUAACUUAUCCUCCGAACAAGCGUUUGAGGAAGCCUUUCUUCUCUUCUUCA\n"
       ]
      },
      {
       "output_type": "stream",
       "stream": "stdout",
       "text": [
        ">gi|556503834|ref|NC_000913.3| Escherichia coli str. K-12 substr. MG1655, complete genome START: 001287727 END: 001287804 LEN: 77 SCORE: 0.593 SCORE: 0.011\tUGCGUAAUUUUCAUCCGUAACGGAUUAAAGGUAACCAGUUAUUUUUGCUGGCGAUUAAAGAAUAAUCGUUCGAUUAC\n"
       ]
      },
      {
       "output_type": "stream",
       "stream": "stdout",
       "text": [
        ">gi|556503834|ref|NC_000913.3| Escherichia coli str. K-12 substr. MG1655, complete genome START: 001292417 END: 001292494 LEN: 77 SCORE: 1.162 SCORE: 0.267\tUUUAUAGCUUAUUCUUAUUAAAUUGUCUUAAACCGGACAAUAAAAAAUCCCGCCGCUGGCGGGAUUUUAAGCAAGUG\n"
       ]
      },
      {
       "output_type": "stream",
       "stream": "stdout",
       "text": [
        ">gi|556503834|ref|NC_000913.3| Escherichia coli str. K-12 substr. MG1655, complete genome START: 001399608 END: 001399685 LEN: 77 SCORE: 1.089 SCORE: 0.115\tAGAGAAUUCCGAUAUUAGAUGUAAAUAUAUGUCUAUCUAUUUGAAAACCCUUAAGUUGUUAAGGGUAACUUUACAUA\n"
       ]
      },
      {
       "output_type": "stream",
       "stream": "stdout",
       "text": [
        ">gi|556503834|ref|NC_000913.3| Escherichia coli str. K-12 substr. MG1655, complete genome START: 001489586 END: 001489663 LEN: 77 SCORE: 1.176 SCORE: 0.165\tGCGUAAAUCCGGUAUUGGCGGCGCAGAUGGUAAACAUGGCUUGCAUGAAUAUCUGCAGACCCAGGUGGUUUAUUUAC\n"
       ]
      },
      {
       "output_type": "stream",
       "stream": "stdout",
       "text": [
        ">gi|556503834|ref|NC_000913.3| Escherichia coli str. K-12 substr. MG1655, complete genome START: 001578325 END: 001578402 LEN: 77 SCORE: 1.436 SCORE: 0.156\tAGCCAGUUCAGCAAGUUCGUCAUAUUUAUAAAUAAACCAGCUUAAAUUGUUCGAUACCAGCAUAAAUGCCUGGCGCG\n"
       ]
      },
      {
       "output_type": "stream",
       "stream": "stdout",
       "text": [
        ">gi|556503834|ref|NC_000913.3| Escherichia coli str. K-12 substr. MG1655, complete genome START: 001641381 END: 001641458 LEN: 77 SCORE: 0.298 SCORE: 0.446\tCCACUCUCUAUAGAGAAGGUAACCUUUUGACCUUCAAAUAAGGUUCGAUAAUUAUCAUUCUGAAUCGCAGAAAAAUG\n"
       ]
      },
      {
       "output_type": "stream",
       "stream": "stdout",
       "text": [
        ">gi|556503834|ref|NC_000913.3| Escherichia coli str. K-12 substr. MG1655, complete genome START: 001650558 END: 001650635 LEN: 77 SCORE: 1.284 SCORE: 0.167\tACGCCAUGUAUCCGGAGCUUAAGUUGCACGCCAUUGGGUGGGUUAAGCAUAAAUGUAUUCCUGGUGCUAAAUGGCCC\n"
       ]
      },
      {
       "output_type": "stream",
       "stream": "stdout",
       "text": [
        ">gi|556503834|ref|NC_000913.3| Escherichia coli str. K-12 substr. MG1655, complete genome START: 001652693 END: 001652770 LEN: 77 SCORE: 0.761 SCORE: 0.216\tGCAAUGAAAAAUUAAUUUAAUAUUUAUCAAAUAGUUAACACGCAUGACUCUUGAAAUCCAUAAAUUCAAGCGCAGUG\n"
       ]
      },
      {
       "output_type": "stream",
       "stream": "stdout",
       "text": [
        ">gi|556503834|ref|NC_000913.3| Escherichia coli str. K-12 substr. MG1655, complete genome START: 001683038 END: 001683115 LEN: 77 SCORE: 1.098 SCORE: 0.244\tAAUUGCGUGAGAUCCCCCCACACGACUGGGGUAAAACUCUGAAAGAGAUGGAUUUAAAUCUCUCUUUCGAUCUGCGU\n"
       ]
      },
      {
       "output_type": "stream",
       "stream": "stdout",
       "text": [
        ">gi|556503834|ref|NC_000913.3| Escherichia coli str. K-12 substr. MG1655, complete genome START: 001697150 END: 001697227 LEN: 77 SCORE: 1.275 SCORE: 0.027\tACUUUUCACUCUGAAAUUGGUUAACCAAUAGCCGUGAUUUGGCUGCCAGUUAUUUAGCAGAGACGUUGAUGAGUUUA\n"
       ]
      },
      {
       "output_type": "stream",
       "stream": "stdout",
       "text": [
        ">gi|556503834|ref|NC_000913.3| Escherichia coli str. K-12 substr. MG1655, complete genome START: 001746430 END: 001746507 LEN: 77 SCORE: 1.352 SCORE: 0.999\tCGUUGCGUUCAUAGCUCAGUUGGUUAGAGCACCACCUUGACAUGGUGGGGGUCGUUGGUUCGAGUCCAAUUGAACGC\n"
       ]
      },
      {
       "output_type": "stream",
       "stream": "stdout",
       "text": [
        ">gi|556503834|ref|NC_000913.3| Escherichia coli str. K-12 substr. MG1655, complete genome START: 001746451 END: 001746528 LEN: 77 SCORE: 1.257 SCORE: 0.466\tGGUUAGAGCACCACCUUGACAUGGUGGGGGUCGUUGGUUCGAGUCCAAUUGAACGCACCAUCCUGCGUCCGUAGCUC\n"
       ]
      },
      {
       "output_type": "stream",
       "stream": "stdout",
       "text": [
        ">gi|556503834|ref|NC_000913.3| Escherichia coli str. K-12 substr. MG1655, complete genome START: 001746500 END: 001746577 LEN: 77 SCORE: 1.429 SCORE: 0.329\tUGAACGCACCAUCCUGCGUCCGUAGCUCAGUUGGUUAGAGCACCACCUUGACAUGGUGGGGGUCGGUGGUUCGAGUC\n"
       ]
      },
      {
       "output_type": "stream",
       "stream": "stdout",
       "text": [
        ">gi|556503834|ref|NC_000913.3| Escherichia coli str. K-12 substr. MG1655, complete genome START: 001746514 END: 001746591 LEN: 77 SCORE: 0.794 SCORE: 1.193\tUGCGUCCGUAGCUCAGUUGGUUAGAGCACCACCUUGACAUGGUGGGGGUCGGUGGUUCGAGUCCACUCGGACGCACC\n"
       ]
      },
      {
       "output_type": "stream",
       "stream": "stdout",
       "text": [
        ">gi|556503834|ref|NC_000913.3| Escherichia coli str. K-12 substr. MG1655, complete genome START: 001746521 END: 001746598 LEN: 77 SCORE: 0.657 SCORE: 0.464\tGUAGCUCAGUUGGUUAGAGCACCACCUUGACAUGGUGGGGGUCGGUGGUUCGAGUCCACUCGGACGCACCAGAUUUU\n"
       ]
      },
      {
       "output_type": "stream",
       "stream": "stdout",
       "text": [
        ">gi|556503834|ref|NC_000913.3| Escherichia coli str. K-12 substr. MG1655, complete genome START: 001770363 END: 001770440 LEN: 77 SCORE: 1.410 SCORE: 0.151\tAUUAGCUCACGGUUAUAAAUCAACAUAUUGAUUUAUAAGCAUGGAAAUCCCCUGAGUGAAACAACGAAUUGCUGUGU\n"
       ]
      },
      {
       "output_type": "stream",
       "stream": "stdout",
       "text": [
        ">gi|556503834|ref|NC_000913.3| Escherichia coli str. K-12 substr. MG1655, complete genome START: 001774213 END: 001774290 LEN: 77 SCORE: 1.284 SCORE: 0.048\tGGGGGCAAUUGAAGGUUUAAAAGAAAUUAAACUCUUUAACCGUCGGGAUGAGUUCUUCGAUAAAGCCCUCGCCUUCG\n"
       ]
      },
      {
       "output_type": "stream",
       "stream": "stdout",
       "text": [
        ">gi|556503834|ref|NC_000913.3| Escherichia coli str. K-12 substr. MG1655, complete genome START: 001779106 END: 001779183 LEN: 77 SCORE: 0.609 SCORE: 0.001\tUGCGACAUAUAACGAAGAAUCGAUGGUAAACCUUGCAACCCCUUUCUUGACGUAAAUCAACUCGGUUUCAUUGUCAU\n"
       ]
      },
      {
       "output_type": "stream",
       "stream": "stdout",
       "text": [
        ">gi|556503834|ref|NC_000913.3| Escherichia coli str. K-12 substr. MG1655, complete genome START: 001797334 END: 001797411 LEN: 77 SCORE: 1.234 SCORE: 0.316\tGCAGCGUGUCGUCGAUGGUCGCACCAACCGGAACGAUUUCCGGUUGAACCAGCGGCAGCUGGUUCAGCACGGCAACG\n"
       ]
      },
      {
       "output_type": "stream",
       "stream": "stdout",
       "text": [
        ">gi|556503834|ref|NC_000913.3| Escherichia coli str. K-12 substr. MG1655, complete genome START: 001797341 END: 001797418 LEN: 77 SCORE: 1.234 SCORE: 0.162\tGUCGUCGAUGGUCGCACCAACCGGAACGAUUUCCGGUUGAACCAGCGGCAGCUGGUUCAGCACGGCAACGUCACGCG\n"
       ]
      },
      {
       "output_type": "stream",
       "stream": "stdout",
       "text": [
        ">gi|556503834|ref|NC_000913.3| Escherichia coli str. K-12 substr. MG1655, complete genome START: 001797348 END: 001797425 LEN: 77 SCORE: 1.234 SCORE: 0.085\tAUGGUCGCACCAACCGGAACGAUUUCCGGUUGAACCAGCGGCAGCUGGUUCAGCACGGCAACGUCACGCGCAACACC\n"
       ]
      },
      {
       "output_type": "stream",
       "stream": "stdout",
       "text": [
        ">gi|556503834|ref|NC_000913.3| Escherichia coli str. K-12 substr. MG1655, complete genome START: 001797355 END: 001797432 LEN: 77 SCORE: 1.222 SCORE: 0.060\tCACCAACCGGAACGAUUUCCGGUUGAACCAGCGGCAGCUGGUUCAGCACGGCAACGUCACGCGCAACACCAAUGAUG\n"
       ]
      },
      {
       "output_type": "stream",
       "stream": "stdout",
       "text": [
        ">gi|556503834|ref|NC_000913.3| Escherichia coli str. K-12 substr. MG1655, complete genome START: 001799329 END: 001799406 LEN: 77 SCORE: 0.697 SCORE: 0.463\tAAAGUCAAUGUUUUGAUGGCGUUGAAACGAAAAGAGGGAGACUAGCUCCCUCUUUCAACUGGCUUAUGCCAGAGCUG\n"
       ]
      },
      {
       "output_type": "stream",
       "stream": "stdout",
       "text": [
        ">gi|556503834|ref|NC_000913.3| Escherichia coli str. K-12 substr. MG1655, complete genome START: 001799350 END: 001799427 LEN: 77 SCORE: 1.208 SCORE: 0.179\tUUGAAACGAAAAGAGGGAGACUAGCUCCCUCUUUCAACUGGCUUAUGCCAGAGCUGCUUUCGCUUUUUCAACCAGAG\n"
       ]
      },
      {
       "output_type": "stream",
       "stream": "stdout",
       "text": [
        ">gi|556503834|ref|NC_000913.3| Escherichia coli str. K-12 substr. MG1655, complete genome START: 001810774 END: 001810851 LEN: 77 SCORE: 1.312 SCORE: 0.006\tCUUAUUAAGCAUCAGGUUGAAUACUAAAAAGGCAAAAAUCACCUUUCUGGAAUAAGCAAUUCCAUUUGAAUAUAAGA\n"
       ]
      },
      {
       "output_type": "stream",
       "stream": "stdout",
       "text": [
        ">gi|556503834|ref|NC_000913.3| Escherichia coli str. K-12 substr. MG1655, complete genome START: 001867901 END: 001867978 LEN: 77 SCORE: 1.675 SCORE: 0.032\tGCUUGCGCAUUUCCGAAGAGAUCAAAAUCUACGAGAAAUUGCUUAAUCACAGUGAAUUGACUCACGCCCCAUGCGCC\n"
       ]
      },
      {
       "output_type": "stream",
       "stream": "stdout",
       "text": [
        ">gi|556503834|ref|NC_000913.3| Escherichia coli str. K-12 substr. MG1655, complete genome START: 001932042 END: 001932119 LEN: 77 SCORE: 1.243 SCORE: 0.048\tUAAAAGUACAGGGUUAAACCCGGCAAAAAAACGCUACAAAAAUGCCCGAUCCUCGAUCGGGCAUUUUGACUUUUACA\n"
       ]
      },
      {
       "output_type": "stream",
       "stream": "stdout",
       "text": [
        ">gi|556503834|ref|NC_000913.3| Escherichia coli str. K-12 substr. MG1655, complete genome START: 002039359 END: 002039436 LEN: 77 SCORE: 0.978 SCORE: 0.272\tUGGCAGUUAAUGCAUAAAUAUGUAAAAGCAGAUCUCUGCUACUGUUAGGGAGGACACUCCCUGACAGAUUAACAGUA\n"
       ]
      },
      {
       "output_type": "stream",
       "stream": "stdout",
       "text": [
        ">gi|556503834|ref|NC_000913.3| Escherichia coli str. K-12 substr. MG1655, complete genome START: 002044546 END: 002044623 LEN: 77 SCORE: 1.348 SCORE: 1.090\tAUUCCUCUGUAGUUCAGUCGGUAGAACGGCGGACUGUUAAUCCGUAUGUCACUGGUUCGAGUCCAGUCAGAGGAGCC\n"
       ]
      },
      {
       "output_type": "stream",
       "stream": "stdout",
       "text": [
        ">gi|556503834|ref|NC_000913.3| Escherichia coli str. K-12 substr. MG1655, complete genome START: 002059848 END: 002059925 LEN: 77 SCORE: 1.348 SCORE: 1.090\tAUUCCUCUGUAGUUCAGUCGGUAGAACGGCGGACUGUUAAUCCGUAUGUCACUGGUUCGAGUCCAGUCAGAGGAGCC\n"
       ]
      },
      {
       "output_type": "stream",
       "stream": "stdout",
       "text": [
        ">gi|556503834|ref|NC_000913.3| Escherichia coli str. K-12 substr. MG1655, complete genome START: 002062256 END: 002062333 LEN: 77 SCORE: 1.348 SCORE: 1.097\tGAUUCCUCUGUAGUUCAGUCGGUAGAACGGCGGACUGUUAAUCCGUAUGUCACUGGUUCGAGUCCAGUCAGAGGAGC\n"
       ]
      },
      {
       "output_type": "stream",
       "stream": "stdout",
       "text": [
        ">gi|556503834|ref|NC_000913.3| Escherichia coli str. K-12 substr. MG1655, complete genome START: 002099671 END: 002099748 LEN: 77 SCORE: 1.126 SCORE: 0.612\tAGCUAAAAGUUUUAACGCUACGUUGUUCGAUGGUCAACGCAACGAAAAACAAUUCAGAUUUUCUUUAUAAGAAUAGC\n"
       ]
      },
      {
       "output_type": "stream",
       "stream": "stdout",
       "text": [
        ">gi|556503834|ref|NC_000913.3| Escherichia coli str. K-12 substr. MG1655, complete genome START: 002103535 END: 002103612 LEN: 77 SCORE: 1.934 SCORE: 0.315\tUUAUUAGAAUCAAAAAAAGCUUUCUUUUCAUAACUACCAAGAGUUUCUCUAGUAAAUGGGAAAUCUGAUGCUAAUAC\n"
       ]
      },
      {
       "output_type": "stream",
       "stream": "stdout",
       "text": [
        ">gi|556503834|ref|NC_000913.3| Escherichia coli str. K-12 substr. MG1655, complete genome START: 002269981 END: 002270058 LEN: 77 SCORE: 0.531 SCORE: 0.300\tGUCAAAUCUCAACCGAUUUUGAGAUAUAUCUUGCGCGGGAUUCCCGCGAUUGCAGUAGCGGUUCUGCUUUCUGCAUG\n"
       ]
      },
      {
       "output_type": "stream",
       "stream": "stdout",
       "text": [
        ">gi|556503834|ref|NC_000913.3| Escherichia coli str. K-12 substr. MG1655, complete genome START: 002286207 END: 002286284 LEN: 77 SCORE: 1.001 SCORE: 1.078\tAGUCGGCACGUAGCGCAGCCUGGUAGCGCACCGUCAUGGGGUGUCGGGGGUCGGAGGUUCAAAUCCUCUCGUGCCGA\n"
       ]
      },
      {
       "output_type": "stream",
       "stream": "stdout",
       "text": [
        ">gi|556503834|ref|NC_000913.3| Escherichia coli str. K-12 substr. MG1655, complete genome START: 002318204 END: 002318281 LEN: 77 SCORE: 1.284 SCORE: 0.421\tGUAAAUAGUUGGCGGUGAUGUGGUUCAUCACUUCACGCGGUGAAAACUCACGCGGUUCGAUCUUCAACUGUUCCGAU\n"
       ]
      },
      {
       "output_type": "stream",
       "stream": "stdout",
       "text": [
        ">gi|556503834|ref|NC_000913.3| Escherichia coli str. K-12 substr. MG1655, complete genome START: 002337062 END: 002337139 LEN: 77 SCORE: 1.084 SCORE: 0.162\tCGCGCCAACAACUAAACCGUUACGUUCGGUAACCUUGAUGGAGAUAACCCCUUUCGUCGCACGCGACUUGGUUGGGU\n"
       ]
      },
      {
       "output_type": "stream",
       "stream": "stdout",
       "text": [
        ">gi|556503834|ref|NC_000913.3| Escherichia coli str. K-12 substr. MG1655, complete genome START: 002337083 END: 002337160 LEN: 77 SCORE: 1.270 SCORE: 0.074\tACGUUCGGUAACCUUGAUGGAGAUAACCCCUUUCGUCGCACGCGACUUGGUUGGGUAUUCCGCCACUGCGGUACGUU\n"
       ]
      },
      {
       "output_type": "stream",
       "stream": "stdout",
       "text": [
        ">gi|556503834|ref|NC_000913.3| Escherichia coli str. K-12 substr. MG1655, complete genome START: 002365685 END: 002365762 LEN: 77 SCORE: 1.224 SCORE: 0.017\tAUAAUUCGCAGUUGGUGUAAUAUUAAAAAUCCUACGAUGUCGGCAAAAUGCCUCAAAAUUUUGCCAAAUGCAAAGCC\n"
       ]
      },
      {
       "output_type": "stream",
       "stream": "stdout",
       "text": [
        ">gi|556503834|ref|NC_000913.3| Escherichia coli str. K-12 substr. MG1655, complete genome START: 002397269 END: 002397346 LEN: 77 SCORE: 1.348 SCORE: 0.036\tAGCGAACCGCCCCAGCCAACACGGUUAGGUCCGUAACGGUUCUGGAACAGACCCAGCAGGCGACGUUCGCCAAAGCU\n"
       ]
      },
      {
       "output_type": "stream",
       "stream": "stdout",
       "text": [
        ">gi|556503834|ref|NC_000913.3| Escherichia coli str. K-12 substr. MG1655, complete genome START: 002399712 END: 002399789 LEN: 77 SCORE: 1.131 SCORE: 0.103\tGCAGCGGUUCAUUUCGUGAGAGAUGAAUGGCCCCAAAUCCUGAUUACGGUGGGUACGUUUGGUGAAACGGUAGCGAC\n"
       ]
      },
      {
       "output_type": "stream",
       "stream": "stdout",
       "text": [
        ">gi|556503834|ref|NC_000913.3| Escherichia coli str. K-12 substr. MG1655, complete genome START: 002401035 END: 002401112 LEN: 77 SCORE: 0.798 SCORE: 0.124\tCGGUAUGGACGAACAGUUCGAAAUCGAAACCUGUUCCCAUAAUGUUUUUGCCAAGCAGACCCGCUUCGGUGGCUUCG\n"
       ]
      },
      {
       "output_type": "stream",
       "stream": "stdout",
       "text": [
        ">gi|556503834|ref|NC_000913.3| Escherichia coli str. K-12 substr. MG1655, complete genome START: 002466303 END: 002466380 LEN: 77 SCORE: 1.429 SCORE: 0.821\tGCAUUGUCCUCUUAGUUAAAUGGAUAUAACGAGCCCCUCCUAAGGGCUAAUUGCAGGUUCGAUUCCUGCAGGGGACA\n"
       ]
      },
      {
       "output_type": "stream",
       "stream": "stdout",
       "text": [
        ">gi|556503834|ref|NC_000913.3| Escherichia coli str. K-12 substr. MG1655, complete genome START: 002466310 END: 002466387 LEN: 77 SCORE: 0.879 SCORE: 1.358\tCCUCUUAGUUAAAUGGAUAUAACGAGCCCCUCCUAAGGGCUAAUUGCAGGUUCGAUUCCUGCAGGGGACACCAUUUA\n"
       ]
      },
      {
       "output_type": "stream",
       "stream": "stdout",
       "text": [
        ">gi|556503834|ref|NC_000913.3| Escherichia coli str. K-12 substr. MG1655, complete genome START: 002466317 END: 002466394 LEN: 77 SCORE: 1.700 SCORE: 1.027\tGUUAAAUGGAUAUAACGAGCCCCUCCUAAGGGCUAAUUGCAGGUUCGAUUCCUGCAGGGGACACCAUUUAUCAGUUC\n"
       ]
      },
      {
       "output_type": "stream",
       "stream": "stdout",
       "text": [
        ">gi|556503834|ref|NC_000913.3| Escherichia coli str. K-12 substr. MG1655, complete genome START: 002466324 END: 002466401 LEN: 77 SCORE: 1.131 SCORE: 0.392\tGGAUAUAACGAGCCCCUCCUAAGGGCUAAUUGCAGGUUCGAUUCCUGCAGGGGACACCAUUUAUCAGUUCGCUCCCA\n"
       ]
      },
      {
       "output_type": "stream",
       "stream": "stdout",
       "text": [
        ">gi|556503834|ref|NC_000913.3| Escherichia coli str. K-12 substr. MG1655, complete genome START: 002466331 END: 002466408 LEN: 77 SCORE: 1.077 SCORE: 0.363\tACGAGCCCCUCCUAAGGGCUAAUUGCAGGUUCGAUUCCUGCAGGGGACACCAUUUAUCAGUUCGCUCCCAUCCGUAC\n"
       ]
      },
      {
       "output_type": "stream",
       "stream": "stdout",
       "text": [
        ">gi|556503834|ref|NC_000913.3| Escherichia coli str. K-12 substr. MG1655, complete genome START: 002520931 END: 002521008 LEN: 77 SCORE: 1.791 SCORE: 0.409\tGGUGAUUAGCUCAGCUGGGAGAGCACCUCCCUUACAAGGAGGGGGUCGGCGGUUCGAUCCCGUCAUCACCCACCAAC\n"
       ]
      },
      {
       "output_type": "stream",
       "stream": "stdout",
       "text": [
        ">gi|556503834|ref|NC_000913.3| Escherichia coli str. K-12 substr. MG1655, complete genome START: 002520952 END: 002521029 LEN: 77 SCORE: 0.575 SCORE: 0.016\tAGCACCUCCCUUACAAGGAGGGGGUCGGCGGUUCGAUCCCGUCAUCACCCACCAACUACUUUAUGUAGUCUCCGCCG\n"
       ]
      },
      {
       "output_type": "stream",
       "stream": "stdout",
       "text": [
        ">gi|556503834|ref|NC_000913.3| Escherichia coli str. K-12 substr. MG1655, complete genome START: 002521050 END: 002521127 LEN: 77 SCORE: 1.853 SCORE: 0.637\tGGGUGAUUAGCUCAGCUGGGAGAGCACCUCCCUUACAAGGAGGGGGUCGGCGGUUCGAUCCCGUCAUCACCCACCAC\n"
       ]
      },
      {
       "output_type": "stream",
       "stream": "stdout",
       "text": [
        ">gi|556503834|ref|NC_000913.3| Escherichia coli str. K-12 substr. MG1655, complete genome START: 002521064 END: 002521141 LEN: 77 SCORE: 1.474 SCORE: 0.167\tGCUGGGAGAGCACCUCCCUUACAAGGAGGGGGUCGGCGGUUCGAUCCCGUCAUCACCCACCACUUUCUCGCCAGCUA\n"
       ]
      },
      {
       "output_type": "stream",
       "stream": "stdout",
       "text": [
        ">gi|556503834|ref|NC_000913.3| Escherichia coli str. K-12 substr. MG1655, complete genome START: 002521169 END: 002521246 LEN: 77 SCORE: 1.958 SCORE: 0.901\tAGUGGGUGAUUAGCUCAGCUGGGAGAGCACCUCCCUUACAAGGAGGGGGUCGGCGGUUCGAUCCCGUCAUCACCCAC\n"
       ]
      },
      {
       "output_type": "stream",
       "stream": "stdout",
       "text": [
        ">gi|556503834|ref|NC_000913.3| Escherichia coli str. K-12 substr. MG1655, complete genome START: 002521190 END: 002521267 LEN: 77 SCORE: 1.475 SCORE: 0.454\tGGAGAGCACCUCCCUUACAAGGAGGGGGUCGGCGGUUCGAUCCCGUCAUCACCCACCACUUCGGGUCGUUAGCUCAG\n"
       ]
      },
      {
       "output_type": "stream",
       "stream": "stdout",
       "text": [
        ">gi|556503834|ref|NC_000913.3| Escherichia coli str. K-12 substr. MG1655, complete genome START: 002521204 END: 002521281 LEN: 77 SCORE: 0.535 SCORE: 0.264\tUUACAAGGAGGGGGUCGGCGGUUCGAUCCCGUCAUCACCCACCACUUCGGGUCGUUAGCUCAGUUGGUAGAGCAGUU\n"
       ]
      },
      {
       "output_type": "stream",
       "stream": "stdout",
       "text": [
        ">gi|556503834|ref|NC_000913.3| Escherichia coli str. K-12 substr. MG1655, complete genome START: 002521246 END: 002521323 LEN: 77 SCORE: 1.166 SCORE: 1.864\tCACUUCGGGUCGUUAGCUCAGUUGGUAGAGCAGUUGACUUUUAAUCAAUUGGUCGCAGGUUCGAAUCCUGCACGACC\n"
       ]
      },
      {
       "output_type": "stream",
       "stream": "stdout",
       "text": [
        ">gi|556503834|ref|NC_000913.3| Escherichia coli str. K-12 substr. MG1655, complete genome START: 002521253 END: 002521330 LEN: 77 SCORE: 1.166 SCORE: 2.152\tGGUCGUUAGCUCAGUUGGUAGAGCAGUUGACUUUUAAUCAAUUGGUCGCAGGUUCGAAUCCUGCACGACCCACCAAU\n"
       ]
      },
      {
       "output_type": "stream",
       "stream": "stdout",
       "text": [
        ">gi|556503834|ref|NC_000913.3| Escherichia coli str. K-12 substr. MG1655, complete genome START: 002543723 END: 002543800 LEN: 77 SCORE: 1.685 SCORE: 0.616\tUGAGGAUUUCGAGCACUGCCCGGGGCCAAAAUGACAAAUAAAAUAGCCUGGUGAACUUAGUUCAAGACGAAAUCCUC\n"
       ]
      },
      {
       "output_type": "stream",
       "stream": "stdout",
       "text": [
        ">gi|556503834|ref|NC_000913.3| Escherichia coli str. K-12 substr. MG1655, complete genome START: 002689162 END: 002689239 LEN: 77 SCORE: 1.288 SCORE: 0.003\tUUGGCGUCGGCGAGCAAAAUCCCUUGUUUAAAGGUAUUUUGCCAGCUGCCGUCGUCAUAUUGGCGAGCUUGCUGACG\n"
       ]
      },
      {
       "output_type": "stream",
       "stream": "stdout",
       "text": [
        ">gi|556503834|ref|NC_000913.3| Escherichia coli str. K-12 substr. MG1655, complete genome START: 002689820 END: 002689897 LEN: 77 SCORE: 1.113 SCORE: 0.014\tCUGGUGGCUUCCCUGAAAAAAGGGUUCGAAGAUCAUGGCGCGUUCCUCUUGCGGAAUGGGCGUGCCUGUAUUGAUGA\n"
       ]
      },
      {
       "output_type": "stream",
       "stream": "stdout",
       "text": [
        ">gi|556503834|ref|NC_000913.3| Escherichia coli str. K-12 substr. MG1655, complete genome START: 002728999 END: 002729076 LEN: 77 SCORE: 0.186 SCORE: 0.530\tCGGUUCGCCUCAUUAACCUAUGGAUUCAGUUAAUGAUAGUGUGUCGAAACACACUGGGUUUCCCCAUUCGGAAAUCG\n"
       ]
      },
      {
       "output_type": "stream",
       "stream": "stdout",
       "text": [
        ">gi|556503834|ref|NC_000913.3| Escherichia coli str. K-12 substr. MG1655, complete genome START: 002729006 END: 002729083 LEN: 77 SCORE: 1.131 SCORE: 0.058\tCCUCAUUAACCUAUGGAUUCAGUUAAUGAUAGUGUGUCGAAACACACUGGGUUUCCCCAUUCGGAAAUCGCCGGUUA\n"
       ]
      },
      {
       "output_type": "stream",
       "stream": "stdout",
       "text": [
        ">gi|556503834|ref|NC_000913.3| Escherichia coli str. K-12 substr. MG1655, complete genome START: 002804963 END: 002805040 LEN: 77 SCORE: 1.429 SCORE: 0.274\tCAUUGAAGAAGGCGAGAUAUUUGUCAUCAUGGGAUUAUCCGGCUCGGGUAAAUCCACAAUGGUACGCCUUCUCAAUC\n"
       ]
      },
      {
       "output_type": "stream",
       "stream": "stdout",
       "text": [
        ">gi|556503834|ref|NC_000913.3| Escherichia coli str. K-12 substr. MG1655, complete genome START: 002811214 END: 002811291 LEN: 77 SCORE: 1.299 SCORE: 0.049\tAUCAGCUCGAGCAAAUCACCCGCAAAUUGCUCUCCCGUCUCGACCAGAUGGAACAAGACGGUGUGGUUCUCGAAGCG\n"
       ]
      },
      {
       "output_type": "stream",
       "stream": "stdout",
       "text": [
        ">gi|556503834|ref|NC_000913.3| Escherichia coli str. K-12 substr. MG1655, complete genome START: 002859948 END: 002860025 LEN: 77 SCORE: 1.098 SCORE: 0.616\tCGCCUGCUAAACCAACCCUGGUUUACGUCGGUUAAAGGCAACCACGAAGCGAUGGCGCUUGAGGCAUUCGAAACUGG\n"
       ]
      },
      {
       "output_type": "stream",
       "stream": "stdout",
       "text": [
        ">gi|556503834|ref|NC_000913.3| Escherichia coli str. K-12 substr. MG1655, complete genome START: 002861635 END: 002861712 LEN: 77 SCORE: 1.188 SCORE: 0.105\tGCUGGUGGUCAAUGCGGCCCAGGUUAAACAGGUGCUGUUUGGUGAAACAGGCGUUGCACAACAUCUGAAACCCGGUA\n"
       ]
      },
      {
       "output_type": "stream",
       "stream": "stdout",
       "text": [
        ">gi|556503834|ref|NC_000913.3| Escherichia coli str. K-12 substr. MG1655, complete genome START: 002883328 END: 002883405 LEN: 77 SCORE: 1.312 SCORE: 0.027\tGGUAAAUUUUUCCUUAAGAAAACCGGUAUAACGCAAAUUGCUUUCCUGUCCACAGCAAGAACAUUUACCAAUCCCAA\n"
       ]
      },
      {
       "output_type": "stream",
       "stream": "stdout",
       "text": [
        ">gi|556503834|ref|NC_000913.3| Escherichia coli str. K-12 substr. MG1655, complete genome START: 002947385 END: 002947462 LEN: 77 SCORE: 1.452 SCORE: 0.962\tACGCGGGGUGGAGCAGCCUGGUAGCUCGUCGGGCUCAUAACCCGAAGGUCGUCGGUUCAAAUCCGGCCCCCGCAACC\n"
       ]
      },
      {
       "output_type": "stream",
       "stream": "stdout",
       "text": [
        ">gi|556503834|ref|NC_000913.3| Escherichia coli str. K-12 substr. MG1655, complete genome START: 002947497 END: 002947574 LEN: 77 SCORE: 1.452 SCORE: 1.051\tGCGGGGUGGAGCAGCCUGGUAGCUCGUCGGGCUCAUAACCCGAAGGUCGUCGGUUCAAAUCCGGCCCCCGCAACCAA\n"
       ]
      },
      {
       "output_type": "stream",
       "stream": "stdout",
       "text": [
        ">gi|556503834|ref|NC_000913.3| Escherichia coli str. K-12 substr. MG1655, complete genome START: 002947602 END: 002947679 LEN: 77 SCORE: 1.452 SCORE: 1.020\tGUGACGCGGGGUGGAGCAGCCUGGUAGCUCGUCGGGCUCAUAACCCGAAGGUCGUCGGUUCAAAUCCGGCCCCCGCA\n"
       ]
      },
      {
       "output_type": "stream",
       "stream": "stdout",
       "text": [
        ">gi|556503834|ref|NC_000913.3| Escherichia coli str. K-12 substr. MG1655, complete genome START: 002947609 END: 002947686 LEN: 77 SCORE: 1.254 SCORE: 0.699\tGGGGUGGAGCAGCCUGGUAGCUCGUCGGGCUCAUAACCCGAAGGUCGUCGGUUCAAAUCCGGCCCCCGCAACCAAUU\n"
       ]
      },
      {
       "output_type": "stream",
       "stream": "stdout",
       "text": [
        ">gi|556503834|ref|NC_000913.3| Escherichia coli str. K-12 substr. MG1655, complete genome START: 003056697 END: 003056774 LEN: 77 SCORE: 1.100 SCORE: 0.154\tAUGAUUGUCAGUUGGUGGAAAAACUCCCCGUUGAAGAGUGGGAUAUCCCUCUUCCUGCGGUGGUUACACCGUCGAAA\n"
       ]
      },
      {
       "output_type": "stream",
       "stream": "stdout",
       "text": [
        ">gi|556503834|ref|NC_000913.3| Escherichia coli str. K-12 substr. MG1655, complete genome START: 003056704 END: 003056781 LEN: 77 SCORE: 1.100 SCORE: 0.463\tUCAGUUGGUGGAAAAACUCCCCGUUGAAGAGUGGGAUAUCCCUCUUCCUGCGGUGGUUACACCGUCGAAAGUCUGGG\n"
       ]
      },
      {
       "output_type": "stream",
       "stream": "stdout",
       "text": [
        ">gi|556503834|ref|NC_000913.3| Escherichia coli str. K-12 substr. MG1655, complete genome START: 003056711 END: 003056788 LEN: 77 SCORE: 0.875 SCORE: 0.143\tGUGGAAAAACUCCCCGUUGAAGAGUGGGAUAUCCCUCUUCCUGCGGUGGUUACACCGUCGAAAGUCUGGGAGUGGUA\n"
       ]
      },
      {
       "output_type": "stream",
       "stream": "stdout",
       "text": [
        ">gi|556503834|ref|NC_000913.3| Escherichia coli str. K-12 substr. MG1655, complete genome START: 003056718 END: 003056795 LEN: 77 SCORE: 0.956 SCORE: 0.100\tAACUCCCCGUUGAAGAGUGGGAUAUCCCUCUUCCUGCGGUGGUUACACCGUCGAAAGUCUGGGAGUGGUAAGGGCGA\n"
       ]
      },
      {
       "output_type": "stream",
       "stream": "stdout",
       "text": [
        ">gi|556503834|ref|NC_000913.3| Escherichia coli str. K-12 substr. MG1655, complete genome START: 003110345 END: 003110422 LEN: 77 SCORE: 0.879 SCORE: 0.926\tCAGGUUUAAUGCGCCCCGUUGCCCGGAUAGCUCAGUCGGUAGAGCAGGGGAUUGAAAAUCCCCGUGUCCUUGGUUCG\n"
       ]
      },
      {
       "output_type": "stream",
       "stream": "stdout",
       "text": [
        ">gi|556503834|ref|NC_000913.3| Escherichia coli str. K-12 substr. MG1655, complete genome START: 003110359 END: 003110436 LEN: 77 SCORE: 1.474 SCORE: 1.077\tCCCGUUGCCCGGAUAGCUCAGUCGGUAGAGCAGGGGAUUGAAAAUCCCCGUGUCCUUGGUUCGAUUCCGAGUCCGGG\n"
       ]
      },
      {
       "output_type": "stream",
       "stream": "stdout",
       "text": [
        ">gi|556503834|ref|NC_000913.3| Escherichia coli str. K-12 substr. MG1655, complete genome START: 003110366 END: 003110443 LEN: 77 SCORE: 1.474 SCORE: 1.131\tCCCGGAUAGCUCAGUCGGUAGAGCAGGGGAUUGAAAAUCCCCGUGUCCUUGGUUCGAUUCCGAGUCCGGGCACCACU\n"
       ]
      },
      {
       "output_type": "stream",
       "stream": "stdout",
       "text": [
        ">gi|556503834|ref|NC_000913.3| Escherichia coli str. K-12 substr. MG1655, complete genome START: 003110387 END: 003110464 LEN: 77 SCORE: 1.131 SCORE: 0.561\tAGCAGGGGAUUGAAAAUCCCCGUGUCCUUGGUUCGAUUCCGAGUCCGGGCACCACUAAUUCUUAAGAACCCGCCCAC\n"
       ]
      },
      {
       "output_type": "stream",
       "stream": "stdout",
       "text": [
        ">gi|556503834|ref|NC_000913.3| Escherichia coli str. K-12 substr. MG1655, complete genome START: 003136497 END: 003136574 LEN: 77 SCORE: 0.345 SCORE: 0.020\tGCAUUCAUUCAAAACCUUUAGAAAUAAUCAAAACACAGGUAUUCCACUGGUUAAUAUAUUCACAUAUGAAAUGAAUA\n"
       ]
      },
      {
       "output_type": "stream",
       "stream": "stdout",
       "text": [
        ">gi|556503834|ref|NC_000913.3| Escherichia coli str. K-12 substr. MG1655, complete genome START: 003163216 END: 003163293 LEN: 77 SCORE: 1.270 SCORE: 0.021\tGCGGUUGCACGAUGUUCGAUGCUGUCACCAUGUCAUAGUUGUUCUGGUGGUUAGCGAUAUAGAUAGCAUUGCCGUAG\n"
       ]
      },
      {
       "output_type": "stream",
       "stream": "stdout",
       "text": [
        ">gi|556503834|ref|NC_000913.3| Escherichia coli str. K-12 substr. MG1655, complete genome START: 003181738 END: 003181815 LEN: 77 SCORE: 1.352 SCORE: 0.460\tUGGCGUUGGGUUCGAUAACGUGCCACCUUCAUGGUCGAGGUAAUUCACCAGAGGAUGUUGUUCCACUGGCCCUUGCC\n"
       ]
      },
      {
       "output_type": "stream",
       "stream": "stdout",
       "text": [
        ">gi|556503834|ref|NC_000913.3| Escherichia coli str. K-12 substr. MG1655, complete genome START: 003183068 END: 003183145 LEN: 77 SCORE: 1.288 SCORE: 0.502\tGCGGGGAUUUCUGGACUAGCAGAAAUUCUUGGUGGUGUGCUGGCGUGGUUAAUCCUCGGUAGCAUGAUUUCCCCGGU\n"
       ]
      },
      {
       "output_type": "stream",
       "stream": "stdout",
       "text": [
        ">gi|556503834|ref|NC_000913.3| Escherichia coli str. K-12 substr. MG1655, complete genome START: 003190299 END: 003190376 LEN: 77 SCORE: 1.250 SCORE: 0.076\tGCCAAAAGCCAUUGAAUUAGAAGACGAUGGGGUAAUGACUUACGAAAAAGUUGAAAUCAUUCGUAGAAAUGACGGUU\n"
       ]
      },
      {
       "output_type": "stream",
       "stream": "stdout",
       "text": [
        ">gi|556503834|ref|NC_000913.3| Escherichia coli str. K-12 substr. MG1655, complete genome START: 003190327 END: 003190404 LEN: 77 SCORE: 1.410 SCORE: 0.665\tGGGGUAAUGACUUACGAAAAAGUUGAAAUCAUUCGUAGAAAUGACGGUUCGAUCCGCUUUAACAAUAAGAUGCCUUA\n"
       ]
      },
      {
       "output_type": "stream",
       "stream": "stdout",
       "text": [
        ">gi|556503834|ref|NC_000913.3| Escherichia coli str. K-12 substr. MG1655, complete genome START: 003204488 END: 003204565 LEN: 77 SCORE: 1.113 SCORE: 0.701\tAUUUCGAUAUCGAACACUAACUUCUGUUCGAUGGUCUGUUCCCAGUCGUAAACACCAAUAGUGGUGAUUACCGAAAG\n"
       ]
      },
      {
       "output_type": "stream",
       "stream": "stdout",
       "text": [
        ">gi|556503834|ref|NC_000913.3| Escherichia coli str. K-12 substr. MG1655, complete genome START: 003230465 END: 003230542 LEN: 77 SCORE: 1.352 SCORE: 0.018\tGCCGUCUUUGGGUUUAUCGACAAAGAACAGUUGGAUAAAUAUGUCGCUAAUGGCGGCAAACGUAGCGACUGGACGGU\n"
       ]
      },
      {
       "output_type": "stream",
       "stream": "stdout",
       "text": [
        ">gi|556503834|ref|NC_000913.3| Escherichia coli str. K-12 substr. MG1655, complete genome START: 003254650 END: 003254727 LEN: 77 SCORE: 1.352 SCORE: 0.128\tGUUAACGCGAAUGCAGCUUUGGCUGGACGCCUGCCCGCAGCGAGAGAAUCCGCUGAUUCAAAAGCUGGCGCUUAAUA\n"
       ]
      },
      {
       "output_type": "stream",
       "stream": "stdout",
       "text": [
        ">gi|556503834|ref|NC_000913.3| Escherichia coli str. K-12 substr. MG1655, complete genome START: 003275195 END: 003275272 LEN: 77 SCORE: 1.410 SCORE: 0.039\tAUUCUUAUUUCACCCAAUGAAGUCAUUUAUUUUUAAAUGAGACCAGGUCCUCAUUUUAAUAACCCCUGGCUGGAGAA\n"
       ]
      },
      {
       "output_type": "stream",
       "stream": "stdout",
       "text": [
        ">gi|556503834|ref|NC_000913.3| Escherichia coli str. K-12 substr. MG1655, complete genome START: 003287242 END: 003287319 LEN: 77 SCORE: 1.835 SCORE: 0.252\tUGAAUACAUAGAAAAUUGAUAUCAAUAUAAUGAAAAUAUCAAAUAUUUGCAUAUAAAUAUAAUCUUAAAGUUCAGUC\n"
       ]
      },
      {
       "output_type": "stream",
       "stream": "stdout",
       "text": [
        ">gi|556503834|ref|NC_000913.3| Escherichia coli str. K-12 substr. MG1655, complete genome START: 003332798 END: 003332875 LEN: 77 SCORE: 1.876 SCORE: 0.251\tUCGAAUGUAAAAAGCCCCGCAACGUGUUGCGGGGCUUUCAUCCGUUACCGGGACGCGAAAAACUUAUUCAGCUUCGA\n"
       ]
      },
      {
       "output_type": "stream",
       "stream": "stdout",
       "text": [
        ">gi|556503834|ref|NC_000913.3| Escherichia coli str. K-12 substr. MG1655, complete genome START: 003423175 END: 003423252 LEN: 77 SCORE: 1.208 SCORE: 0.365\tAUCGCAGGUAAUCCAUUAAUUGAAUGUUAGUUCGAAAAGCAAAAAGGCCAUCCUUUCGGAUGGCCUUUCGCUUGAUU\n"
       ]
      },
      {
       "output_type": "stream",
       "stream": "stdout",
       "text": [
        ">gi|556503834|ref|NC_000913.3| Escherichia coli str. K-12 substr. MG1655, complete genome START: 003423245 END: 003423322 LEN: 77 SCORE: 1.266 SCORE: 0.092\tCUUGAUUUGAUGUCUGGCAGUUUAUGGCGGGCGUCCUGCCCGCCACCCUCCGGGCCGUUGCUUCGCAACGUUCAAAU\n"
       ]
      },
      {
       "output_type": "stream",
       "stream": "stdout",
       "text": [
        ">gi|556503834|ref|NC_000913.3| Escherichia coli str. K-12 substr. MG1655, complete genome START: 003426598 END: 003426675 LEN: 77 SCORE: 0.186 SCORE: 0.530\tCGGUUCGCCUCAUUAACCUAUGGAUUCAGUUAAUGAUAGUGUGUCGAAACACACUGGGUUUCCCCAUUCGGAAAUCG\n"
       ]
      },
      {
       "output_type": "stream",
       "stream": "stdout",
       "text": [
        ">gi|556503834|ref|NC_000913.3| Escherichia coli str. K-12 substr. MG1655, complete genome START: 003426605 END: 003426682 LEN: 77 SCORE: 1.131 SCORE: 0.058\tCCUCAUUAACCUAUGGAUUCAGUUAAUGAUAGUGUGUCGAAACACACUGGGUUUCCCCAUUCGGAAAUCGCCGGUUA\n"
       ]
      },
      {
       "output_type": "stream",
       "stream": "stdout",
       "text": [
        ">gi|556503834|ref|NC_000913.3| Escherichia coli str. K-12 substr. MG1655, complete genome START: 003453352 END: 003453429 LEN: 77 SCORE: 0.697 SCORE: 0.191\tUUACGUAGCUCCCCGAUUGGGAGCAUUGUUAGGUAGCCAAAUUCGGCUAACUGAGGUUCAGAUUGAACCUGCUGUCA\n"
       ]
      },
      {
       "output_type": "stream",
       "stream": "stdout",
       "text": [
        ">gi|556503834|ref|NC_000913.3| Escherichia coli str. K-12 substr. MG1655, complete genome START: 003517164 END: 003517241 LEN: 77 SCORE: 1.315 SCORE: 0.010\tCAUCAAGUUCAAUAUCAUCAAAAUUGAUCUGCGGUUCGCCACGUUCAGUACGCUCAGAACGUUCAGAAGAUUGACGA\n"
       ]
      },
      {
       "output_type": "stream",
       "stream": "stdout",
       "text": [
        ">gi|556503834|ref|NC_000913.3| Escherichia coli str. K-12 substr. MG1655, complete genome START: 003614450 END: 003614527 LEN: 77 SCORE: 1.275 SCORE: 0.066\tCCCAACUGUCACAGCCGAUCGAAACCGUGAUGCUGGCGCUCAAUACCGCCAAAGCCCCCACCAACGAGCUGGCAGUA\n"
       ]
      },
      {
       "output_type": "stream",
       "stream": "stdout",
       "text": [
        ">gi|556503834|ref|NC_000913.3| Escherichia coli str. K-12 substr. MG1655, complete genome START: 003632720 END: 003632797 LEN: 77 SCORE: 1.162 SCORE: 0.110\tUUCUUAUCUCAUAGCAGAGAAAGUCCCUAAAGAUUGUAGAGGCGUCAUCAGAACAUGCCUCUACAAUCGAUUAAGAA\n"
       ]
      },
      {
       "output_type": "stream",
       "stream": "stdout",
       "text": [
        ">gi|556503834|ref|NC_000913.3| Escherichia coli str. K-12 substr. MG1655, complete genome START: 003657955 END: 003658032 LEN: 77 SCORE: 1.084 SCORE: 0.131\tGUUAUUUACUCAGGUAAUUUCAAUGCGUUAAAAGAAAGCUGGCAAUCCAAUUGCCAGCUUAAGUCGAAACAAGGAGA\n"
       ]
      },
      {
       "output_type": "stream",
       "stream": "stdout",
       "text": [
        ">gi|556503834|ref|NC_000913.3| Escherichia coli str. K-12 substr. MG1655, complete genome START: 003663506 END: 003663583 LEN: 77 SCORE: 1.288 SCORE: 0.181\tGCCCGCUUUAAAAAAGCGUAACGUGUAAAUGAGAGUAAGGUUGAACAUGAAGGUUCAGCCUUACUCUUUCCUGCUAA\n"
       ]
      },
      {
       "output_type": "stream",
       "stream": "stdout",
       "text": [
        ">gi|556503834|ref|NC_000913.3| Escherichia coli str. K-12 substr. MG1655, complete genome START: 003684450 END: 003684527 LEN: 77 SCORE: 1.289 SCORE: 0.012\tUAUGGCGAGCGGUAAAUGCCGCAGAAAUAGCGCGACUGUAAAGCUGUUCGGCGGUGAGAUCGCCGUAGAACAUCGCC\n"
       ]
      },
      {
       "output_type": "stream",
       "stream": "stdout",
       "text": [
        ">gi|556503834|ref|NC_000913.3| Escherichia coli str. K-12 substr. MG1655, complete genome START: 003697834 END: 003697911 LEN: 77 SCORE: 0.643 SCORE: 0.148\tGUCUGGUUUGAAGAUGAUCAAAUCAGUGCCGAGCUGGUGCAGAUGCGCUUGCUUGCCCCAGAACAAUGGGGCAUGCC\n"
       ]
      },
      {
       "output_type": "stream",
       "stream": "stdout",
       "text": [
        ">gi|556503834|ref|NC_000913.3| Escherichia coli str. K-12 substr. MG1655, complete genome START: 003708376 END: 003708453 LEN: 77 SCORE: 1.162 SCORE: 0.835\tCCCCCGGAGGUUCUCAUCCUCAUGAGCUGCAGAUGCAAAAAAGCCUGCUCGUUGAGCAGGCUUUUCGAAUUUGGUCG\n"
       ]
      },
      {
       "output_type": "stream",
       "stream": "stdout",
       "text": [
        ">gi|556503834|ref|NC_000913.3| Escherichia coli str. K-12 substr. MG1655, complete genome START: 003708390 END: 003708467 LEN: 77 SCORE: 1.474 SCORE: 1.193\tCAUCCUCAUGAGCUGCAGAUGCAAAAAAGCCUGCUCGUUGAGCAGGCUUUUCGAAUUUGGUCGGUGAUAGAGGAUUA\n"
       ]
      },
      {
       "output_type": "stream",
       "stream": "stdout",
       "text": [
        ">gi|556503834|ref|NC_000913.3| Escherichia coli str. K-12 substr. MG1655, complete genome START: 003708544 END: 003708621 LEN: 77 SCORE: 1.162 SCORE: 0.835\tCCCCCGGAGGUUCUCAUCCUCAUGAGCUGCAGAUGCAAAAAAGCCUGCUCGUUGAGCAGGCUUUUCGAAUUUGGUCG\n"
       ]
      },
      {
       "output_type": "stream",
       "stream": "stdout",
       "text": [
        ">gi|556503834|ref|NC_000913.3| Escherichia coli str. K-12 substr. MG1655, complete genome START: 003708558 END: 003708635 LEN: 77 SCORE: 1.474 SCORE: 1.114\tCAUCCUCAUGAGCUGCAGAUGCAAAAAAGCCUGCUCGUUGAGCAGGCUUUUCGAAUUUGGUCGGUGAUAGAGGAUUC\n"
       ]
      },
      {
       "output_type": "stream",
       "stream": "stdout",
       "text": [
        ">gi|556503834|ref|NC_000913.3| Escherichia coli str. K-12 substr. MG1655, complete genome START: 003708565 END: 003708642 LEN: 77 SCORE: 0.920 SCORE: 1.136\tAUGAGCUGCAGAUGCAAAAAAGCCUGCUCGUUGAGCAGGCUUUUCGAAUUUGGUCGGUGAUAGAGGAUUCGAACCUC\n"
       ]
      },
      {
       "output_type": "stream",
       "stream": "stdout",
       "text": [
        ">gi|556503834|ref|NC_000913.3| Escherichia coli str. K-12 substr. MG1655, complete genome START: 003737223 END: 003737300 LEN: 77 SCORE: 0.633 SCORE: 0.576\tACAAAUUUGAGAGUUGAAUCUCAAAUCAUAUCAAAAAUAGCUGUCAAGAGCACCCCAAGGAAUAGUCCAAAUCUGAA\n"
       ]
      },
      {
       "output_type": "stream",
       "stream": "stdout",
       "text": [
        ">gi|556503834|ref|NC_000913.3| Escherichia coli str. K-12 substr. MG1655, complete genome START: 003738336 END: 003738413 LEN: 77 SCORE: 0.635 SCORE: 0.117\tACGAAUCUUGAUGCCAAUAUGGGCAACGAAGCCGAUCUACGGACGCUGGUUGAUAGCGCACAUCAGCGCGGUAUUCG\n"
       ]
      },
      {
       "output_type": "stream",
       "stream": "stdout",
       "text": [
        ">gi|556503834|ref|NC_000913.3| Escherichia coli str. K-12 substr. MG1655, complete genome START: 003792775 END: 003792852 LEN: 77 SCORE: 1.088 SCORE: 0.040\tUUUUCCUAUCUCAGUUGGUAUCAAAACGCUACCCACUAAUGGAGGGAAACCUAUUUUCUUGAAAGGAAAAUUCUCAG\n"
       ]
      },
      {
       "output_type": "stream",
       "stream": "stdout",
       "text": [
        ">gi|556503834|ref|NC_000913.3| Escherichia coli str. K-12 substr. MG1655, complete genome START: 003794553 END: 003794630 LEN: 77 SCORE: 1.113 SCORE: 0.359\tACCCAGCUUAACAACGGUGAAUCACCGAAGCUGUUUGAAGGUAGCGAGAACUUCAAACGCGACUUCGUCUAUGUGGG\n"
       ]
      },
      {
       "output_type": "stream",
       "stream": "stdout",
       "text": [
        ">gi|556503834|ref|NC_000913.3| Escherichia coli str. K-12 substr. MG1655, complete genome START: 003801609 END: 003801686 LEN: 77 SCORE: 0.112 SCORE: 0.022\tAUCAAGAUAAAGCAAACGAUCAAGCGUUAAACCCAAUAAUUGAAAUGCAAAUAAACGGAAGUACAUUGCUCUUGACC\n"
       ]
      },
      {
       "output_type": "stream",
       "stream": "stdout",
       "text": [
        ">gi|556503834|ref|NC_000913.3| Escherichia coli str. K-12 substr. MG1655, complete genome START: 003836238 END: 003836315 LEN: 77 SCORE: 1.266 SCORE: 0.927\tGGUGAGGCGGCUGGACUUCAAAUCCAGUUGGGGCCGCCAGCGGUCCCGGGCAGGUUCGACUCCUGUGAUCUUCCGCC\n"
       ]
      },
      {
       "output_type": "stream",
       "stream": "stdout",
       "text": [
        ">gi|556503834|ref|NC_000913.3| Escherichia coli str. K-12 substr. MG1655, complete genome START: 003836245 END: 003836322 LEN: 77 SCORE: 1.253 SCORE: 0.465\tCGGCUGGACUUCAAAUCCAGUUGGGGCCGCCAGCGGUCCCGGGCAGGUUCGACUCCUGUGAUCUUCCGCCAAAAUGC\n"
       ]
      },
      {
       "output_type": "stream",
       "stream": "stdout",
       "text": [
        ">gi|556503834|ref|NC_000913.3| Escherichia coli str. K-12 substr. MG1655, complete genome START: 003886701 END: 003886778 LEN: 77 SCORE: 1.243 SCORE: 0.153\tCGCGAGAAGAAAAAAUCCUGAUUCGGUGAGUUUUCGCUAAAAUAAGGGCGGUCAGUUGACCGCCUUUUUUCUUUUCG\n"
       ]
      },
      {
       "output_type": "stream",
       "stream": "stdout",
       "text": [
        ">gi|556503834|ref|NC_000913.3| Escherichia coli str. K-12 substr. MG1655, complete genome START: 003943429 END: 003943506 LEN: 77 SCORE: 1.452 SCORE: 0.314\tGAUACGUCCCCUUCGUCUAGAGGCCCAGGACACCGCCCUUUCACGGCGGUAACAGGGGUUCGAAUCCCCUAGGGGAC\n"
       ]
      },
      {
       "output_type": "stream",
       "stream": "stdout",
       "text": [
        ">gi|556503834|ref|NC_000913.3| Escherichia coli str. K-12 substr. MG1655, complete genome START: 003943457 END: 003943534 LEN: 77 SCORE: 0.571 SCORE: 0.627\tGACACCGCCCUUUCACGGCGGUAACAGGGGUUCGAAUCCCCUAGGGGACGCCACUUGCUGGUUUGUGAGUGAAAGUC\n"
       ]
      },
      {
       "output_type": "stream",
       "stream": "stdout",
       "text": [
        ">gi|556503834|ref|NC_000913.3| Escherichia coli str. K-12 substr. MG1655, complete genome START: 003946873 END: 003946950 LEN: 77 SCORE: 1.166 SCORE: 0.531\tAGCGGUAGUUCAGUCGGUUAGAAUACCUGCCUGUCACGCAGGGGGUCGCGGGUUCGAGUCCCGUCCGUUCCGCCACC\n"
       ]
      },
      {
       "output_type": "stream",
       "stream": "stdout",
       "text": [
        ">gi|556503834|ref|NC_000913.3| Escherichia coli str. K-12 substr. MG1655, complete genome START: 003946936 END: 003947013 LEN: 77 SCORE: 1.352 SCORE: 0.411\tUCCGUUCCGCCACCCUAAUUAGGGGCGUAGUUCAAUUGGUAGAGCACCGGUCUCCAAAACCGGGUGUUGGGAGUUCG\n"
       ]
      },
      {
       "output_type": "stream",
       "stream": "stdout",
       "text": [
        ">gi|556503834|ref|NC_000913.3| Escherichia coli str. K-12 substr. MG1655, complete genome START: 003946950 END: 003947027 LEN: 77 SCORE: 1.352 SCORE: 1.380\tCUAAUUAGGGGCGUAGUUCAAUUGGUAGAGCACCGGUCUCCAAAACCGGGUGUUGGGAGUUCGAGUCUCUCCGCCCC\n"
       ]
      },
      {
       "output_type": "stream",
       "stream": "stdout",
       "text": [
        ">gi|556503834|ref|NC_000913.3| Escherichia coli str. K-12 substr. MG1655, complete genome START: 003946957 END: 003947034 LEN: 77 SCORE: 1.348 SCORE: 1.387\tGGGGCGUAGUUCAAUUGGUAGAGCACCGGUCUCCAAAACCGGGUGUUGGGAGUUCGAGUCUCUCCGCCCCUGCCAGA\n"
       ]
      },
      {
       "output_type": "stream",
       "stream": "stdout",
       "text": [
        ">gi|556503834|ref|NC_000913.3| Escherichia coli str. K-12 substr. MG1655, complete genome START: 003982370 END: 003982447 LEN: 77 SCORE: 1.474 SCORE: 0.901\tCUAAGCGCCCGUAGCUCAGCUGGAUAGAGCGCUGCCCUCCGGAGGCAGAGGUCUCAGGUUCGAAUCCUGUCGGGCGC\n"
       ]
      },
      {
       "output_type": "stream",
       "stream": "stdout",
       "text": [
        ">gi|556503834|ref|NC_000913.3| Escherichia coli str. K-12 substr. MG1655, complete genome START: 003982503 END: 003982580 LEN: 77 SCORE: 1.754 SCORE: 2.168\tGUAGUGGUGGCUAUAGCUCAGUUGGUAGAGCCCUGGAUUGUGAUUCCAGUUGUCGUGGGUUCGAAUCCCAUUAGCCA\n"
       ]
      },
      {
       "output_type": "stream",
       "stream": "stdout",
       "text": [
        ">gi|556503834|ref|NC_000913.3| Escherichia coli str. K-12 substr. MG1655, complete genome START: 003982510 END: 003982587 LEN: 77 SCORE: 1.299 SCORE: 1.491\tUGGCUAUAGCUCAGUUGGUAGAGCCCUGGAUUGUGAUUCCAGUUGUCGUGGGUUCGAAUCCCAUUAGCCACCCCAUU\n"
       ]
      },
      {
       "output_type": "stream",
       "stream": "stdout",
       "text": [
        ">gi|556503834|ref|NC_000913.3| Escherichia coli str. K-12 substr. MG1655, complete genome START: 003982643 END: 003982720 LEN: 77 SCORE: 0.797 SCORE: 0.248\tUGUUAGUGUCCUUACGGACGUGGGGGUUCAAGUCCCCCCCCUCGCACCACGACUUUAAAGAAUUGAACUAAAAAUUC\n"
       ]
      },
      {
       "output_type": "stream",
       "stream": "stdout",
       "text": [
        ">gi|556503834|ref|NC_000913.3| Escherichia coli str. K-12 substr. MG1655, complete genome START: 003982727 END: 003982804 LEN: 77 SCORE: 0.535 SCORE: 1.279\tAGUAUUUCGGCGAGUAGCGCAGCUUGGUAGCGCAACUGGUUUGGGACCAGUGGGUCGGAGGUUCGAAUCCUCUCUCG\n"
       ]
      },
      {
       "output_type": "stream",
       "stream": "stdout",
       "text": [
        ">gi|556503834|ref|NC_000913.3| Escherichia coli str. K-12 substr. MG1655, complete genome START: 003982734 END: 003982811 LEN: 77 SCORE: 1.876 SCORE: 1.340\tCGGCGAGUAGCGCAGCUUGGUAGCGCAACUGGUUUGGGACCAGUGGGUCGGAGGUUCGAAUCCUCUCUCGCCGACCA\n"
       ]
      },
      {
       "output_type": "stream",
       "stream": "stdout",
       "text": [
        ">gi|556503834|ref|NC_000913.3| Escherichia coli str. K-12 substr. MG1655, complete genome START: 003982741 END: 003982818 LEN: 77 SCORE: 0.575 SCORE: 1.217\tUAGCGCAGCUUGGUAGCGCAACUGGUUUGGGACCAGUGGGUCGGAGGUUCGAAUCCUCUCUCGCCGACCAAUUUUGA\n"
       ]
      },
      {
       "output_type": "stream",
       "stream": "stdout",
       "text": [
        ">gi|556503834|ref|NC_000913.3| Escherichia coli str. K-12 substr. MG1655, complete genome START: 004037138 END: 004037215 LEN: 77 SCORE: 1.775 SCORE: 0.965\tACAGGCUUGUAGCUCAGGUGGUUAGAGCGCACCCCUGAUAAGGGUGAGGUCGGUGGUUCAAGUCCACUCAGGCCUAC\n"
       ]
      },
      {
       "output_type": "stream",
       "stream": "stdout",
       "text": [
        ">gi|556503834|ref|NC_000913.3| Escherichia coli str. K-12 substr. MG1655, complete genome START: 004037166 END: 004037243 LEN: 77 SCORE: 1.131 SCORE: 0.488\tGCACCCCUGAUAAGGGUGAGGUCGGUGGUUCAAGUCCACUCAGGCCUACCAAAUUUGCACGGCAAAUUUGAAGAGGU\n"
       ]
      },
      {
       "output_type": "stream",
       "stream": "stdout",
       "text": [
        ">gi|556503834|ref|NC_000913.3| Escherichia coli str. K-12 substr. MG1655, complete genome START: 004037257 END: 004037334 LEN: 77 SCORE: 1.474 SCORE: 0.668\tAUGGGGCUAUAGCUCAGCUGGGAGAGCGCCUGCUUUGCACGCAGGAGGUCUGCGGUUCGAUCCCGCAUAGCUCCACC\n"
       ]
      },
      {
       "output_type": "stream",
       "stream": "stdout",
       "text": [
        ">gi|556503834|ref|NC_000913.3| Escherichia coli str. K-12 substr. MG1655, complete genome START: 004133654 END: 004133731 LEN: 77 SCORE: 1.224 SCORE: 0.379\tAUAAAGCAUUUGUCCGAAUUCGGACAUAAUCAAAAAAGCUUAAUUAAGAUCAAUUUGAUCUACAUCUCUUUAACCAA\n"
       ]
      },
      {
       "output_type": "stream",
       "stream": "stdout",
       "text": [
        ">gi|556503834|ref|NC_000913.3| Escherichia coli str. K-12 substr. MG1655, complete genome START: 004150566 END: 004150643 LEN: 77 SCORE: 1.162 SCORE: 0.033\tGGCCUGCAAUACGUUCAGCGGGUCGGUGUAAAUAUUCCGUAGCUGAAUAGACUCUGCAAUCCACGGCAGAUCGGCCA\n"
       ]
      },
      {
       "output_type": "stream",
       "stream": "stdout",
       "text": [
        ">gi|556503834|ref|NC_000913.3| Escherichia coli str. K-12 substr. MG1655, complete genome START: 004168367 END: 004168444 LEN: 77 SCORE: 1.420 SCORE: 0.332\tUCGUGUCCCCUUCGUCUAGAGGCCCAGGACACCGCCCUUUCACGGCGGUAACAGGGGUUCGAAUCCCCUAGGGGACG\n"
       ]
      },
      {
       "output_type": "stream",
       "stream": "stdout",
       "text": [
        ">gi|556503834|ref|NC_000913.3| Escherichia coli str. K-12 substr. MG1655, complete genome START: 004175381 END: 004175458 LEN: 77 SCORE: 1.270 SCORE: 0.494\tCUUGAUGCCGACUUAGCUCAGUAGGUAGAGCAACUGACUUGUAAUCAGUAGGUCACCAGUUCGAUUCCGGUAGUCGG\n"
       ]
      },
      {
       "output_type": "stream",
       "stream": "stdout",
       "text": [
        ">gi|556503834|ref|NC_000913.3| Escherichia coli str. K-12 substr. MG1655, complete genome START: 004175388 END: 004175465 LEN: 77 SCORE: 1.270 SCORE: 0.173\tCCGACUUAGCUCAGUAGGUAGAGCAACUGACUUGUAAUCAGUAGGUCACCAGUUCGAUUCCGGUAGUCGGCACCAUC\n"
       ]
      },
      {
       "output_type": "stream",
       "stream": "stdout",
       "text": [
        ">gi|556503834|ref|NC_000913.3| Escherichia coli str. K-12 substr. MG1655, complete genome START: 004175472 END: 004175549 LEN: 77 SCORE: 1.717 SCORE: 0.752\tGUGGGGUUCCCGAGCGGCCAAAGGGAGCAGACUGUAAAUCUGCCGUCACAGACUUCGAAGGUUCGAAUCCUUCCCCC\n"
       ]
      },
      {
       "output_type": "stream",
       "stream": "stdout",
       "text": [
        ">gi|556503834|ref|NC_000913.3| Escherichia coli str. K-12 substr. MG1655, complete genome START: 004175479 END: 004175556 LEN: 77 SCORE: 0.937 SCORE: 0.707\tUCCCGAGCGGCCAAAGGGAGCAGACUGUAAAUCUGCCGUCACAGACUUCGAAGGUUCGAAUCCUUCCCCCACCACCA\n"
       ]
      },
      {
       "output_type": "stream",
       "stream": "stdout",
       "text": [
        ">gi|556503834|ref|NC_000913.3| Escherichia coli str. K-12 substr. MG1655, complete genome START: 004175486 END: 004175563 LEN: 77 SCORE: 0.937 SCORE: 0.576\tCGGCCAAAGGGAGCAGACUGUAAAUCUGCCGUCACAGACUUCGAAGGUUCGAAUCCUUCCCCCACCACCAAUUUCGG\n"
       ]
      },
      {
       "output_type": "stream",
       "stream": "stdout",
       "text": [
        ">gi|556503834|ref|NC_000913.3| Escherichia coli str. K-12 substr. MG1655, complete genome START: 004175668 END: 004175745 LEN: 77 SCORE: 1.876 SCORE: 0.540\tGGAUGCGGGCAUCGUAUAAUGGCUAUUACCUCAGCCUUCCAAGCUGAUGAUGCGGGUUCGAUUCCCGCUGCCCGCUC\n"
       ]
      },
      {
       "output_type": "stream",
       "stream": "stdout",
       "text": [
        ">gi|556503834|ref|NC_000913.3| Escherichia coli str. K-12 substr. MG1655, complete genome START: 004175689 END: 004175766 LEN: 77 SCORE: 1.352 SCORE: 0.134\tGCUAUUACCUCAGCCUUCCAAGCUGAUGAUGCGGGUUCGAUUCCCGCUGCCCGCUCCAAGAUGUGCUGAUAUAGCUC\n"
       ]
      },
      {
       "output_type": "stream",
       "stream": "stdout",
       "text": [
        ">gi|556503834|ref|NC_000913.3| Escherichia coli str. K-12 substr. MG1655, complete genome START: 004175696 END: 004175773 LEN: 77 SCORE: 1.131 SCORE: 0.211\tCCUCAGCCUUCCAAGCUGAUGAUGCGGGUUCGAUUCCCGCUGCCCGCUCCAAGAUGUGCUGAUAUAGCUCAGUUGGU\n"
       ]
      },
      {
       "output_type": "stream",
       "stream": "stdout",
       "text": [
        ">gi|556503834|ref|NC_000913.3| Escherichia coli str. K-12 substr. MG1655, complete genome START: 004175752 END: 004175829 LEN: 77 SCORE: 1.322 SCORE: 2.049\tUGCUGAUAUAGCUCAGUUGGUAGAGCGCACCCUUGGUAAGGGUGAGGUCGGCAGUUCGAAUCUGCCUAUCAGCACCA\n"
       ]
      },
      {
       "output_type": "stream",
       "stream": "stdout",
       "text": [
        ">gi|556503834|ref|NC_000913.3| Escherichia coli str. K-12 substr. MG1655, complete genome START: 004190277 END: 004190354 LEN: 77 SCORE: 1.048 SCORE: 0.275\tGCCUACAACUUAUUGAGAAAUAAGCAGCUUCCUCAGCCCUCAAAAUAACAAAACCCACCUUAAGGUGGGUUUCGCCA\n"
       ]
      },
      {
       "output_type": "stream",
       "stream": "stdout",
       "text": [
        ">gi|556503834|ref|NC_000913.3| Escherichia coli str. K-12 substr. MG1655, complete genome START: 004209765 END: 004209842 LEN: 77 SCORE: 0.575 SCORE: 0.961\tACUGAUACGUCCCCUUCGUCUAGAGGCCCAGGACACCGCCCUUUCACGGCGGUAACAGGGGUUCGAAUCCCCUAGGG\n"
       ]
      },
      {
       "output_type": "stream",
       "stream": "stdout",
       "text": [
        ">gi|556503834|ref|NC_000913.3| Escherichia coli str. K-12 substr. MG1655, complete genome START: 004209772 END: 004209849 LEN: 77 SCORE: 1.420 SCORE: 0.447\tCGUCCCCUUCGUCUAGAGGCCCAGGACACCGCCCUUUCACGGCGGUAACAGGGGUUCGAAUCCCCUAGGGGACGCCA\n"
       ]
      },
      {
       "output_type": "stream",
       "stream": "stdout",
       "text": [
        ">gi|556503834|ref|NC_000913.3| Escherichia coli str. K-12 substr. MG1655, complete genome START: 004214350 END: 004214427 LEN: 77 SCORE: 0.152 SCORE: 0.473\tAACUUCUCGUGCGUCUGGUCAGGAAAUUCGUCCACUUAAGGUUCUGAUCCUUAACCUGAUGCCGAAGAAGAUUGAAA\n"
       ]
      },
      {
       "output_type": "stream",
       "stream": "stdout",
       "text": [
        ">gi|556503834|ref|NC_000913.3| Escherichia coli str. K-12 substr. MG1655, complete genome START: 004277420 END: 004277497 LEN: 77 SCORE: 1.274 SCORE: 0.035\tUCUGUUGGGGAGUAUAAUUCCUCAAGUUAACUUGAGGUAAAGCGAUUUAUGGAAAAGAAAUUACCCCGCAUUAAAGC\n"
       ]
      },
      {
       "output_type": "stream",
       "stream": "stdout",
       "text": [
        ">gi|556503834|ref|NC_000913.3| Escherichia coli str. K-12 substr. MG1655, complete genome START: 004311776 END: 004311853 LEN: 77 SCORE: 1.235 SCORE: 0.357\tGCGAAGGCGAUACCUUUGUAAUUUUUAUUACUGAGAUCUUCAAAUAACUGCAAUUGAGAUUGAAAAUCGCCUUCUGA\n"
       ]
      },
      {
       "output_type": "stream",
       "stream": "stdout",
       "text": [
        ">gi|556503834|ref|NC_000913.3| Escherichia coli str. K-12 substr. MG1655, complete genome START: 004328765 END: 004328842 LEN: 77 SCORE: 1.089 SCORE: 0.139\tCACCCUUUGCCGGGUGUUAACCGAUGUUAUUCGCCCCAUUGAGCAACAAGUCAAAAUGGAAUUGAGCGAGUCAGGGU\n"
       ]
      },
      {
       "output_type": "stream",
       "stream": "stdout",
       "text": [
        ">gi|556503834|ref|NC_000913.3| Escherichia coli str. K-12 substr. MG1655, complete genome START: 004392346 END: 004392423 LEN: 77 SCORE: 0.825 SCORE: 0.233\tAAUUAAGUAGUACGCGGGAAUAGCUCAGUUGGUAGAGCACGACCUUGCCAAGGUCGGGGUCGCGAGUUCGAGUCUCG\n"
       ]
      },
      {
       "output_type": "stream",
       "stream": "stdout",
       "text": [
        ">gi|556503834|ref|NC_000913.3| Escherichia coli str. K-12 substr. MG1655, complete genome START: 004392353 END: 004392430 LEN: 77 SCORE: 1.126 SCORE: 1.123\tUAGUACGCGGGAAUAGCUCAGUUGGUAGAGCACGACCUUGCCAAGGUCGGGGUCGCGAGUUCGAGUCUCGUUUCCCG\n"
       ]
      },
      {
       "output_type": "stream",
       "stream": "stdout",
       "text": [
        ">gi|556503834|ref|NC_000913.3| Escherichia coli str. K-12 substr. MG1655, complete genome START: 004392360 END: 004392437 LEN: 77 SCORE: 0.571 SCORE: 0.906\tCGGGAAUAGCUCAGUUGGUAGAGCACGACCUUGCCAAGGUCGGGGUCGCGAGUUCGAGUCUCGUUUCCCGCUCCAAA\n"
       ]
      },
      {
       "output_type": "stream",
       "stream": "stdout",
       "text": [
        ">gi|556503834|ref|NC_000913.3| Escherichia coli str. K-12 substr. MG1655, complete genome START: 004392374 END: 004392451 LEN: 77 SCORE: 0.879 SCORE: 0.298\tUUGGUAGAGCACGACCUUGCCAAGGUCGGGGUCGCGAGUUCGAGUCUCGUUUCCCGCUCCAAAAUUUGAAAAGUGCU\n"
       ]
      },
      {
       "output_type": "stream",
       "stream": "stdout",
       "text": [
        ">gi|556503834|ref|NC_000913.3| Escherichia coli str. K-12 substr. MG1655, complete genome START: 004392381 END: 004392458 LEN: 77 SCORE: 1.352 SCORE: 0.049\tAGCACGACCUUGCCAAGGUCGGGGUCGCGAGUUCGAGUCUCGUUUCCCGCUCCAAAAUUUGAAAAGUGCUGCAAAGC\n"
       ]
      },
      {
       "output_type": "stream",
       "stream": "stdout",
       "text": [
        ">gi|556503834|ref|NC_000913.3| Escherichia coli str. K-12 substr. MG1655, complete genome START: 004392451 END: 004392528 LEN: 77 SCORE: 1.411 SCORE: 0.468\tGCAAAGCACAGACCACCCAAGCGGGAAUAGCUCAGUUGGUAGAGCACGACCUUGCCAAGGUCGGGGUCGCGAGUUCG\n"
       ]
      },
      {
       "output_type": "stream",
       "stream": "stdout",
       "text": [
        ">gi|556503834|ref|NC_000913.3| Escherichia coli str. K-12 substr. MG1655, complete genome START: 004392458 END: 004392535 LEN: 77 SCORE: 0.723 SCORE: 0.980\tACAGACCACCCAAGCGGGAAUAGCUCAGUUGGUAGAGCACGACCUUGCCAAGGUCGGGGUCGCGAGUUCGAGUCUCG\n"
       ]
      },
      {
       "output_type": "stream",
       "stream": "stdout",
       "text": [
        ">gi|556503834|ref|NC_000913.3| Escherichia coli str. K-12 substr. MG1655, complete genome START: 004392465 END: 004392542 LEN: 77 SCORE: 0.317 SCORE: 1.504\tACCCAAGCGGGAAUAGCUCAGUUGGUAGAGCACGACCUUGCCAAGGUCGGGGUCGCGAGUUCGAGUCUCGUUUCCCG\n"
       ]
      },
      {
       "output_type": "stream",
       "stream": "stdout",
       "text": [
        ">gi|556503834|ref|NC_000913.3| Escherichia coli str. K-12 substr. MG1655, complete genome START: 004392472 END: 004392549 LEN: 77 SCORE: 0.571 SCORE: 0.906\tCGGGAAUAGCUCAGUUGGUAGAGCACGACCUUGCCAAGGUCGGGGUCGCGAGUUCGAGUCUCGUUUCCCGCUCCAAA\n"
       ]
      },
      {
       "output_type": "stream",
       "stream": "stdout",
       "text": [
        ">gi|556503834|ref|NC_000913.3| Escherichia coli str. K-12 substr. MG1655, complete genome START: 004392486 END: 004392563 LEN: 77 SCORE: 1.352 SCORE: 0.251\tUUGGUAGAGCACGACCUUGCCAAGGUCGGGGUCGCGAGUUCGAGUCUCGUUUCCCGCUCCAAAAUUUGAAAGUGCUG\n"
       ]
      },
      {
       "output_type": "stream",
       "stream": "stdout",
       "text": [
        ">gi|556503834|ref|NC_000913.3| Escherichia coli str. K-12 substr. MG1655, complete genome START: 004392563 END: 004392640 LEN: 77 SCORE: 1.369 SCORE: 0.470\tUAAGGCACAGACCACCCAAGCGGGAAUAGCUCAGUUGGUAGAGCACGACCUUGCCAAGGUCGGGGUCGCGAGUUCGA\n"
       ]
      },
      {
       "output_type": "stream",
       "stream": "stdout",
       "text": [
        ">gi|556503834|ref|NC_000913.3| Escherichia coli str. K-12 substr. MG1655, complete genome START: 004392570 END: 004392647 LEN: 77 SCORE: 0.723 SCORE: 0.816\tCAGACCACCCAAGCGGGAAUAGCUCAGUUGGUAGAGCACGACCUUGCCAAGGUCGGGGUCGCGAGUUCGAGUCUCGU\n"
       ]
      },
      {
       "output_type": "stream",
       "stream": "stdout",
       "text": [
        ">gi|556503834|ref|NC_000913.3| Escherichia coli str. K-12 substr. MG1655, complete genome START: 004392577 END: 004392654 LEN: 77 SCORE: 0.910 SCORE: 1.404\tCCCAAGCGGGAAUAGCUCAGUUGGUAGAGCACGACCUUGCCAAGGUCGGGGUCGCGAGUUCGAGUCUCGUUUCCCGC\n"
       ]
      },
      {
       "output_type": "stream",
       "stream": "stdout",
       "text": [
        ">gi|556503834|ref|NC_000913.3| Escherichia coli str. K-12 substr. MG1655, complete genome START: 004392584 END: 004392661 LEN: 77 SCORE: 0.571 SCORE: 0.983\tGGGAAUAGCUCAGUUGGUAGAGCACGACCUUGCCAAGGUCGGGGUCGCGAGUUCGAGUCUCGUUUCCCGCUCCAAAU\n"
       ]
      },
      {
       "output_type": "stream",
       "stream": "stdout",
       "text": [
        ">gi|556503834|ref|NC_000913.3| Escherichia coli str. K-12 substr. MG1655, complete genome START: 004410427 END: 004410504 LEN: 77 SCORE: 0.810 SCORE: 0.031\tGGGCGUUAUCGCUUAAAUCUUCUCUUGAAGAUAUCCUGCUUGAGAUAACCUCGCUGGUAGAUAACGCAUUGGAUCUG\n"
       ]
      },
      {
       "output_type": "stream",
       "stream": "stdout",
       "text": [
        ">gi|556503834|ref|NC_000913.3| Escherichia coli str. K-12 substr. MG1655, complete genome START: 004439953 END: 004440030 LEN: 77 SCORE: 1.048 SCORE: 0.052\tAGCAGCUGGUCGAUGCGGUAGUUAUCGAUAUCCACCACUUCAAAUUUGUAGCCGGCGAAUUUCACCGAAUCGGUGCG\n"
       ]
      },
      {
       "output_type": "stream",
       "stream": "stdout",
       "text": [
        ">gi|556503834|ref|NC_000913.3| Escherichia coli str. K-12 substr. MG1655, complete genome START: 004496415 END: 004496492 LEN: 77 SCORE: 0.797 SCORE: 0.548\tGAAAUCGGUAGACGCAGUUGAUUCAAAAUCAACCGUAGAAAUACGUGCCGGUUCGAGUCCGGCCUUCGGCACCAAAA\n"
       ]
      },
      {
       "output_type": "stream",
       "stream": "stdout",
       "text": [
        ">gi|556503834|ref|NC_000913.3| Escherichia coli str. K-12 substr. MG1655, complete genome START: 004496422 END: 004496499 LEN: 77 SCORE: 0.716 SCORE: 0.076\tGUAGACGCAGUUGAUUCAAAAUCAACCGUAGAAAUACGUGCCGGUUCGAGUCCGGCCUUCGGCACCAAAAGUAUGUA\n"
       ]
      },
      {
       "output_type": "stream",
       "stream": "stdout",
       "text": [
        ">gi|556503834|ref|NC_000913.3| Escherichia coli str. K-12 substr. MG1655, complete genome START: 004535790 END: 004535867 LEN: 77 SCORE: 1.812 SCORE: 0.475\tGCUGAAUGAUGCUGUUGAAAAGCUCAAUAAGAUGGGUAUCGCUACGAAAUUGGUUAAUCGUGUUCACAGCAAAAUUG\n"
       ]
      },
      {
       "output_type": "stream",
       "stream": "stdout",
       "text": [
        ">gi|556503834|ref|NC_000913.3| Escherichia coli str. K-12 substr. MG1655, complete genome START: 004578861 END: 004578938 LEN: 77 SCORE: 1.799 SCORE: 0.202\tAUAACACUCUUGCCAGAAUUAAAUAUUAAUUUAUAGUCGUUGAUUAUGUUGUCCAGCAUAGAGGCAAAUCGGGUGUA\n"
       ]
      },
      {
       "output_type": "stream",
       "stream": "stdout",
       "text": [
        "CPU times: user 47min 13s, sys: 19min 44s, total: 1h 6min 57s\n",
        "Wall time: 2h 56min 6s\n"
       ]
      }
     ],
     "prompt_number": 122
    },
    {
     "cell_type": "code",
     "collapsed": false,
     "input": [
      "from ipy_table import * \n",
      "\n",
      "mat=[('ID','Pos','Conf1','Conf2','Seq')]\n",
      "\n",
      "th0=2.0\n",
      "th1=th2=0.1\n",
      "counter=1\n",
      "for line in results:\n",
      "    lines=line.split()\n",
      "    seq,sc1,sc2,pos = lines[-1], float(lines[-2]),float(lines[-4]),lines[-10]\n",
      "    if sc1 + sc2 > th0 and sc2 > th2 and sc1 > th1:\n",
      "        mat += [(counter, pos, sc1,sc2, seq)]\n",
      "        counter += 1\n",
      "\n",
      "make_table(mat)\n",
      "apply_theme('basic')\n",
      "set_global_style(float_format = '%0.3f')\n",
      "\n"
     ],
     "language": "python",
     "metadata": {},
     "outputs": [
      {
       "html": [
        "<table border=\"1\" cellpadding=\"3\" cellspacing=\"0\"  style=\"border:1px solid black;border-collapse:collapse;\"><tr><td  style=\"background-color:LightGray;\"><b>ID</b></td><td  style=\"background-color:LightGray;\"><b>Pos</b></td><td  style=\"background-color:LightGray;\"><b>Conf1</b></td><td  style=\"background-color:LightGray;\"><b>Conf2</b></td><td  style=\"background-color:LightGray;\"><b>Seq</b></td></tr><tr><td  style=\"background-color:Ivory;\">1</td><td  style=\"background-color:Ivory;\">000225379</td><td  style=\"background-color:Ivory;\">1.181</td><td  style=\"background-color:Ivory;\">1.380</td><td  style=\"background-color:Ivory;\">CAGGCUUGUAGCUCAGGUGGUUAGAGCGCACCCCUGAUAAGGGUGAGGUCGGUGGUUCAAGUCCACUCAGGCCUACC</td></tr><tr><td  style=\"background-color:AliceBlue;\">2</td><td  style=\"background-color:AliceBlue;\">000236929</td><td  style=\"background-color:AliceBlue;\">0.489</td><td  style=\"background-color:AliceBlue;\">1.876</td><td  style=\"background-color:AliceBlue;\">CGGAGCGGUAGUUCAGUCGGUUAGAAUACCUGCCUGUCACGCAGGGGGUCGCGGGUUCGAGUCCCGUCCGUUCCGCC</td></tr><tr><td  style=\"background-color:Ivory;\">3</td><td  style=\"background-color:Ivory;\">000564718</td><td  style=\"background-color:Ivory;\">1.323</td><td  style=\"background-color:Ivory;\">1.876</td><td  style=\"background-color:Ivory;\">CAACGCGCCCUUAGCUCAGUUGGAUAGAGCAACGACCUUCUAAGUCGUGGGCCGCAGGUUCGAAUCCUGCAGGGCGC</td></tr><tr><td  style=\"background-color:AliceBlue;\">4</td><td  style=\"background-color:AliceBlue;\">000577017</td><td  style=\"background-color:AliceBlue;\">0.129</td><td  style=\"background-color:AliceBlue;\">1.934</td><td  style=\"background-color:AliceBlue;\">UUAGCCAAUUUAUAUUAACGGCUGUUAUUUAUAAGUGCUCUAUAAUUUGAAGGUUCAAUUUAAACCGGCUAAAAAUA</td></tr><tr><td  style=\"background-color:Ivory;\">5</td><td  style=\"background-color:Ivory;\">000696556</td><td  style=\"background-color:Ivory;\">0.584</td><td  style=\"background-color:Ivory;\">1.671</td><td  style=\"background-color:Ivory;\">GAUUCGAACCUCGGAAUGCCGGAAUCAGAAUCCGGUGCCUUACCGCUUGGCGAUACCCCAACAAAUUGGUUUUGAAU</td></tr><tr><td  style=\"background-color:AliceBlue;\">6</td><td  style=\"background-color:AliceBlue;\">000696759</td><td  style=\"background-color:AliceBlue;\">0.722</td><td  style=\"background-color:AliceBlue;\">1.334</td><td  style=\"background-color:AliceBlue;\">UGGGGUACCUGGAUUCGAACCAGGGAAUGCCGGUAUCAAAAACCGGUGCCUUACCGCUUGGCGAUACCCCAAUAACC</td></tr><tr><td  style=\"background-color:Ivory;\">7</td><td  style=\"background-color:Ivory;\">000780549</td><td  style=\"background-color:Ivory;\">1.448</td><td  style=\"background-color:Ivory;\">1.348</td><td  style=\"background-color:Ivory;\">AAGUGGGUCGUUAGCUCAGUUGGUAGAGCAGUUGACUUUUAAUCAAUUGGUCGCAGGUUCGAAUCCUGCACGACCCA</td></tr><tr><td  style=\"background-color:AliceBlue;\">8</td><td  style=\"background-color:AliceBlue;\">000780759</td><td  style=\"background-color:AliceBlue;\">0.304</td><td  style=\"background-color:AliceBlue;\">1.853</td><td  style=\"background-color:AliceBlue;\">GUAUCGGGUGAUUAGCUCAGCUGGGAGAGCACCUCCCUUACAAGGAGGGGGUCGGCGGUUCGAUCCCGUCAUCACCC</td></tr><tr><td  style=\"background-color:Ivory;\">9</td><td  style=\"background-color:Ivory;\">000780843</td><td  style=\"background-color:Ivory;\">2.049</td><td  style=\"background-color:Ivory;\">1.166</td><td  style=\"background-color:Ivory;\">GGUCGUUAGCUCAGUUGGUAGAGCAGUUGACUUUUAAUCAAUUGGUCGCAGGUUCGAAUCCUGCACGACCCACCAGU</td></tr><tr><td  style=\"background-color:AliceBlue;\">10</td><td  style=\"background-color:AliceBlue;\">000781067</td><td  style=\"background-color:AliceBlue;\">0.637</td><td  style=\"background-color:AliceBlue;\">1.853</td><td  style=\"background-color:AliceBlue;\">GGGUGAUUAGCUCAGCUGGGAGAGCACCUCCCUUACAAGGAGGGGGUCGGCGGUUCGAUCCCGUCAUCACCCACCAC</td></tr><tr><td  style=\"background-color:Ivory;\">11</td><td  style=\"background-color:Ivory;\">000781088</td><td  style=\"background-color:Ivory;\">0.600</td><td  style=\"background-color:Ivory;\">1.475</td><td  style=\"background-color:Ivory;\">GAGCACCUCCCUUACAAGGAGGGGGUCGGCGGUUCGAUCCCGUCAUCACCCACCACUCGGGUCGUUAGCUCAGUUGG</td></tr><tr><td  style=\"background-color:AliceBlue;\">12</td><td  style=\"background-color:AliceBlue;\">000781144</td><td  style=\"background-color:AliceBlue;\">1.289</td><td  style=\"background-color:AliceBlue;\">1.429</td><td  style=\"background-color:AliceBlue;\">UCGGGUCGUUAGCUCAGUUGGUAGAGCAGUUGACUUUUAAUCAAUUGGUCGCAGGUUCGAAUCCUGCACGACCCACC</td></tr><tr><td  style=\"background-color:Ivory;\">13</td><td  style=\"background-color:Ivory;\">000781368</td><td  style=\"background-color:Ivory;\">1.359</td><td  style=\"background-color:Ivory;\">1.348</td><td  style=\"background-color:Ivory;\">GGGUCGUUAGCUCAGUUGGUAGAGCAGUUGACUUUUAAUCAAUUGGUCGCAGGUUCGAAUCCUGCACGACCCACCAA</td></tr><tr><td  style=\"background-color:AliceBlue;\">14</td><td  style=\"background-color:AliceBlue;\">000781571</td><td  style=\"background-color:AliceBlue;\">2.000</td><td  style=\"background-color:AliceBlue;\">1.162</td><td  style=\"background-color:AliceBlue;\">GCAAGGGGUCGUUAGCUCAGUUGGUAGAGCAGUUGACUUUUAAUCAAUUGGUCGCAGGUUCGAAUCCUGCACGACCC</td></tr><tr><td  style=\"background-color:Ivory;\">15</td><td  style=\"background-color:Ivory;\">001746430</td><td  style=\"background-color:Ivory;\">0.999</td><td  style=\"background-color:Ivory;\">1.352</td><td  style=\"background-color:Ivory;\">CGUUGCGUUCAUAGCUCAGUUGGUUAGAGCACCACCUUGACAUGGUGGGGGUCGUUGGUUCGAGUCCAAUUGAACGC</td></tr><tr><td  style=\"background-color:AliceBlue;\">16</td><td  style=\"background-color:AliceBlue;\">002044546</td><td  style=\"background-color:AliceBlue;\">1.090</td><td  style=\"background-color:AliceBlue;\">1.348</td><td  style=\"background-color:AliceBlue;\">AUUCCUCUGUAGUUCAGUCGGUAGAACGGCGGACUGUUAAUCCGUAUGUCACUGGUUCGAGUCCAGUCAGAGGAGCC</td></tr><tr><td  style=\"background-color:Ivory;\">17</td><td  style=\"background-color:Ivory;\">002059848</td><td  style=\"background-color:Ivory;\">1.090</td><td  style=\"background-color:Ivory;\">1.348</td><td  style=\"background-color:Ivory;\">AUUCCUCUGUAGUUCAGUCGGUAGAACGGCGGACUGUUAAUCCGUAUGUCACUGGUUCGAGUCCAGUCAGAGGAGCC</td></tr><tr><td  style=\"background-color:AliceBlue;\">18</td><td  style=\"background-color:AliceBlue;\">002062256</td><td  style=\"background-color:AliceBlue;\">1.097</td><td  style=\"background-color:AliceBlue;\">1.348</td><td  style=\"background-color:AliceBlue;\">GAUUCCUCUGUAGUUCAGUCGGUAGAACGGCGGACUGUUAAUCCGUAUGUCACUGGUUCGAGUCCAGUCAGAGGAGC</td></tr><tr><td  style=\"background-color:Ivory;\">19</td><td  style=\"background-color:Ivory;\">002103535</td><td  style=\"background-color:Ivory;\">0.315</td><td  style=\"background-color:Ivory;\">1.934</td><td  style=\"background-color:Ivory;\">UUAUUAGAAUCAAAAAAAGCUUUCUUUUCAUAACUACCAAGAGUUUCUCUAGUAAAUGGGAAAUCUGAUGCUAAUAC</td></tr><tr><td  style=\"background-color:AliceBlue;\">20</td><td  style=\"background-color:AliceBlue;\">002286207</td><td  style=\"background-color:AliceBlue;\">1.078</td><td  style=\"background-color:AliceBlue;\">1.001</td><td  style=\"background-color:AliceBlue;\">AGUCGGCACGUAGCGCAGCCUGGUAGCGCACCGUCAUGGGGUGUCGGGGGUCGGAGGUUCAAAUCCUCUCGUGCCGA</td></tr><tr><td  style=\"background-color:Ivory;\">21</td><td  style=\"background-color:Ivory;\">002466303</td><td  style=\"background-color:Ivory;\">0.821</td><td  style=\"background-color:Ivory;\">1.429</td><td  style=\"background-color:Ivory;\">GCAUUGUCCUCUUAGUUAAAUGGAUAUAACGAGCCCCUCCUAAGGGCUAAUUGCAGGUUCGAUUCCUGCAGGGGACA</td></tr><tr><td  style=\"background-color:AliceBlue;\">22</td><td  style=\"background-color:AliceBlue;\">002466310</td><td  style=\"background-color:AliceBlue;\">1.358</td><td  style=\"background-color:AliceBlue;\">0.879</td><td  style=\"background-color:AliceBlue;\">CCUCUUAGUUAAAUGGAUAUAACGAGCCCCUCCUAAGGGCUAAUUGCAGGUUCGAUUCCUGCAGGGGACACCAUUUA</td></tr><tr><td  style=\"background-color:Ivory;\">23</td><td  style=\"background-color:Ivory;\">002466317</td><td  style=\"background-color:Ivory;\">1.027</td><td  style=\"background-color:Ivory;\">1.700</td><td  style=\"background-color:Ivory;\">GUUAAAUGGAUAUAACGAGCCCCUCCUAAGGGCUAAUUGCAGGUUCGAUUCCUGCAGGGGACACCAUUUAUCAGUUC</td></tr><tr><td  style=\"background-color:AliceBlue;\">24</td><td  style=\"background-color:AliceBlue;\">002520931</td><td  style=\"background-color:AliceBlue;\">0.409</td><td  style=\"background-color:AliceBlue;\">1.791</td><td  style=\"background-color:AliceBlue;\">GGUGAUUAGCUCAGCUGGGAGAGCACCUCCCUUACAAGGAGGGGGUCGGCGGUUCGAUCCCGUCAUCACCCACCAAC</td></tr><tr><td  style=\"background-color:Ivory;\">25</td><td  style=\"background-color:Ivory;\">002521050</td><td  style=\"background-color:Ivory;\">0.637</td><td  style=\"background-color:Ivory;\">1.853</td><td  style=\"background-color:Ivory;\">GGGUGAUUAGCUCAGCUGGGAGAGCACCUCCCUUACAAGGAGGGGGUCGGCGGUUCGAUCCCGUCAUCACCCACCAC</td></tr><tr><td  style=\"background-color:AliceBlue;\">26</td><td  style=\"background-color:AliceBlue;\">002521169</td><td  style=\"background-color:AliceBlue;\">0.901</td><td  style=\"background-color:AliceBlue;\">1.958</td><td  style=\"background-color:AliceBlue;\">AGUGGGUGAUUAGCUCAGCUGGGAGAGCACCUCCCUUACAAGGAGGGGGUCGGCGGUUCGAUCCCGUCAUCACCCAC</td></tr><tr><td  style=\"background-color:Ivory;\">27</td><td  style=\"background-color:Ivory;\">002521246</td><td  style=\"background-color:Ivory;\">1.864</td><td  style=\"background-color:Ivory;\">1.166</td><td  style=\"background-color:Ivory;\">CACUUCGGGUCGUUAGCUCAGUUGGUAGAGCAGUUGACUUUUAAUCAAUUGGUCGCAGGUUCGAAUCCUGCACGACC</td></tr><tr><td  style=\"background-color:AliceBlue;\">28</td><td  style=\"background-color:AliceBlue;\">002521253</td><td  style=\"background-color:AliceBlue;\">2.152</td><td  style=\"background-color:AliceBlue;\">1.166</td><td  style=\"background-color:AliceBlue;\">GGUCGUUAGCUCAGUUGGUAGAGCAGUUGACUUUUAAUCAAUUGGUCGCAGGUUCGAAUCCUGCACGACCCACCAAU</td></tr><tr><td  style=\"background-color:Ivory;\">29</td><td  style=\"background-color:Ivory;\">002543723</td><td  style=\"background-color:Ivory;\">0.616</td><td  style=\"background-color:Ivory;\">1.685</td><td  style=\"background-color:Ivory;\">UGAGGAUUUCGAGCACUGCCCGGGGCCAAAAUGACAAAUAAAAUAGCCUGGUGAACUUAGUUCAAGACGAAAUCCUC</td></tr><tr><td  style=\"background-color:AliceBlue;\">30</td><td  style=\"background-color:AliceBlue;\">002947385</td><td  style=\"background-color:AliceBlue;\">0.962</td><td  style=\"background-color:AliceBlue;\">1.452</td><td  style=\"background-color:AliceBlue;\">ACGCGGGGUGGAGCAGCCUGGUAGCUCGUCGGGCUCAUAACCCGAAGGUCGUCGGUUCAAAUCCGGCCCCCGCAACC</td></tr><tr><td  style=\"background-color:Ivory;\">31</td><td  style=\"background-color:Ivory;\">002947497</td><td  style=\"background-color:Ivory;\">1.051</td><td  style=\"background-color:Ivory;\">1.452</td><td  style=\"background-color:Ivory;\">GCGGGGUGGAGCAGCCUGGUAGCUCGUCGGGCUCAUAACCCGAAGGUCGUCGGUUCAAAUCCGGCCCCCGCAACCAA</td></tr><tr><td  style=\"background-color:AliceBlue;\">32</td><td  style=\"background-color:AliceBlue;\">002947602</td><td  style=\"background-color:AliceBlue;\">1.020</td><td  style=\"background-color:AliceBlue;\">1.452</td><td  style=\"background-color:AliceBlue;\">GUGACGCGGGGUGGAGCAGCCUGGUAGCUCGUCGGGCUCAUAACCCGAAGGUCGUCGGUUCAAAUCCGGCCCCCGCA</td></tr><tr><td  style=\"background-color:Ivory;\">33</td><td  style=\"background-color:Ivory;\">003110359</td><td  style=\"background-color:Ivory;\">1.077</td><td  style=\"background-color:Ivory;\">1.474</td><td  style=\"background-color:Ivory;\">CCCGUUGCCCGGAUAGCUCAGUCGGUAGAGCAGGGGAUUGAAAAUCCCCGUGUCCUUGGUUCGAUUCCGAGUCCGGG</td></tr><tr><td  style=\"background-color:AliceBlue;\">34</td><td  style=\"background-color:AliceBlue;\">003110366</td><td  style=\"background-color:AliceBlue;\">1.131</td><td  style=\"background-color:AliceBlue;\">1.474</td><td  style=\"background-color:AliceBlue;\">CCCGGAUAGCUCAGUCGGUAGAGCAGGGGAUUGAAAAUCCCCGUGUCCUUGGUUCGAUUCCGAGUCCGGGCACCACU</td></tr><tr><td  style=\"background-color:Ivory;\">35</td><td  style=\"background-color:Ivory;\">003190327</td><td  style=\"background-color:Ivory;\">0.665</td><td  style=\"background-color:Ivory;\">1.410</td><td  style=\"background-color:Ivory;\">GGGGUAAUGACUUACGAAAAAGUUGAAAUCAUUCGUAGAAAUGACGGUUCGAUCCGCUUUAACAAUAAGAUGCCUUA</td></tr><tr><td  style=\"background-color:AliceBlue;\">36</td><td  style=\"background-color:AliceBlue;\">003287242</td><td  style=\"background-color:AliceBlue;\">0.252</td><td  style=\"background-color:AliceBlue;\">1.835</td><td  style=\"background-color:AliceBlue;\">UGAAUACAUAGAAAAUUGAUAUCAAUAUAAUGAAAAUAUCAAAUAUUUGCAUAUAAAUAUAAUCUUAAAGUUCAGUC</td></tr><tr><td  style=\"background-color:Ivory;\">37</td><td  style=\"background-color:Ivory;\">003332798</td><td  style=\"background-color:Ivory;\">0.251</td><td  style=\"background-color:Ivory;\">1.876</td><td  style=\"background-color:Ivory;\">UCGAAUGUAAAAAGCCCCGCAACGUGUUGCGGGGCUUUCAUCCGUUACCGGGACGCGAAAAACUUAUUCAGCUUCGA</td></tr><tr><td  style=\"background-color:AliceBlue;\">38</td><td  style=\"background-color:AliceBlue;\">003708390</td><td  style=\"background-color:AliceBlue;\">1.193</td><td  style=\"background-color:AliceBlue;\">1.474</td><td  style=\"background-color:AliceBlue;\">CAUCCUCAUGAGCUGCAGAUGCAAAAAAGCCUGCUCGUUGAGCAGGCUUUUCGAAUUUGGUCGGUGAUAGAGGAUUA</td></tr><tr><td  style=\"background-color:Ivory;\">39</td><td  style=\"background-color:Ivory;\">003708558</td><td  style=\"background-color:Ivory;\">1.114</td><td  style=\"background-color:Ivory;\">1.474</td><td  style=\"background-color:Ivory;\">CAUCCUCAUGAGCUGCAGAUGCAAAAAAGCCUGCUCGUUGAGCAGGCUUUUCGAAUUUGGUCGGUGAUAGAGGAUUC</td></tr><tr><td  style=\"background-color:AliceBlue;\">40</td><td  style=\"background-color:AliceBlue;\">003708565</td><td  style=\"background-color:AliceBlue;\">1.136</td><td  style=\"background-color:AliceBlue;\">0.920</td><td  style=\"background-color:AliceBlue;\">AUGAGCUGCAGAUGCAAAAAAGCCUGCUCGUUGAGCAGGCUUUUCGAAUUUGGUCGGUGAUAGAGGAUUCGAACCUC</td></tr><tr><td  style=\"background-color:Ivory;\">41</td><td  style=\"background-color:Ivory;\">003836238</td><td  style=\"background-color:Ivory;\">0.927</td><td  style=\"background-color:Ivory;\">1.266</td><td  style=\"background-color:Ivory;\">GGUGAGGCGGCUGGACUUCAAAUCCAGUUGGGGCCGCCAGCGGUCCCGGGCAGGUUCGACUCCUGUGAUCUUCCGCC</td></tr><tr><td  style=\"background-color:AliceBlue;\">42</td><td  style=\"background-color:AliceBlue;\">003946950</td><td  style=\"background-color:AliceBlue;\">1.380</td><td  style=\"background-color:AliceBlue;\">1.352</td><td  style=\"background-color:AliceBlue;\">CUAAUUAGGGGCGUAGUUCAAUUGGUAGAGCACCGGUCUCCAAAACCGGGUGUUGGGAGUUCGAGUCUCUCCGCCCC</td></tr><tr><td  style=\"background-color:Ivory;\">43</td><td  style=\"background-color:Ivory;\">003946957</td><td  style=\"background-color:Ivory;\">1.387</td><td  style=\"background-color:Ivory;\">1.348</td><td  style=\"background-color:Ivory;\">GGGGCGUAGUUCAAUUGGUAGAGCACCGGUCUCCAAAACCGGGUGUUGGGAGUUCGAGUCUCUCCGCCCCUGCCAGA</td></tr><tr><td  style=\"background-color:AliceBlue;\">44</td><td  style=\"background-color:AliceBlue;\">003982370</td><td  style=\"background-color:AliceBlue;\">0.901</td><td  style=\"background-color:AliceBlue;\">1.474</td><td  style=\"background-color:AliceBlue;\">CUAAGCGCCCGUAGCUCAGCUGGAUAGAGCGCUGCCCUCCGGAGGCAGAGGUCUCAGGUUCGAAUCCUGUCGGGCGC</td></tr><tr><td  style=\"background-color:Ivory;\">45</td><td  style=\"background-color:Ivory;\">003982503</td><td  style=\"background-color:Ivory;\">2.168</td><td  style=\"background-color:Ivory;\">1.754</td><td  style=\"background-color:Ivory;\">GUAGUGGUGGCUAUAGCUCAGUUGGUAGAGCCCUGGAUUGUGAUUCCAGUUGUCGUGGGUUCGAAUCCCAUUAGCCA</td></tr><tr><td  style=\"background-color:AliceBlue;\">46</td><td  style=\"background-color:AliceBlue;\">003982510</td><td  style=\"background-color:AliceBlue;\">1.491</td><td  style=\"background-color:AliceBlue;\">1.299</td><td  style=\"background-color:AliceBlue;\">UGGCUAUAGCUCAGUUGGUAGAGCCCUGGAUUGUGAUUCCAGUUGUCGUGGGUUCGAAUCCCAUUAGCCACCCCAUU</td></tr><tr><td  style=\"background-color:Ivory;\">47</td><td  style=\"background-color:Ivory;\">003982734</td><td  style=\"background-color:Ivory;\">1.340</td><td  style=\"background-color:Ivory;\">1.876</td><td  style=\"background-color:Ivory;\">CGGCGAGUAGCGCAGCUUGGUAGCGCAACUGGUUUGGGACCAGUGGGUCGGAGGUUCGAAUCCUCUCUCGCCGACCA</td></tr><tr><td  style=\"background-color:AliceBlue;\">48</td><td  style=\"background-color:AliceBlue;\">004037138</td><td  style=\"background-color:AliceBlue;\">0.965</td><td  style=\"background-color:AliceBlue;\">1.775</td><td  style=\"background-color:AliceBlue;\">ACAGGCUUGUAGCUCAGGUGGUUAGAGCGCACCCCUGAUAAGGGUGAGGUCGGUGGUUCAAGUCCACUCAGGCCUAC</td></tr><tr><td  style=\"background-color:Ivory;\">49</td><td  style=\"background-color:Ivory;\">004037257</td><td  style=\"background-color:Ivory;\">0.668</td><td  style=\"background-color:Ivory;\">1.474</td><td  style=\"background-color:Ivory;\">AUGGGGCUAUAGCUCAGCUGGGAGAGCGCCUGCUUUGCACGCAGGAGGUCUGCGGUUCGAUCCCGCAUAGCUCCACC</td></tr><tr><td  style=\"background-color:AliceBlue;\">50</td><td  style=\"background-color:AliceBlue;\">004175472</td><td  style=\"background-color:AliceBlue;\">0.752</td><td  style=\"background-color:AliceBlue;\">1.717</td><td  style=\"background-color:AliceBlue;\">GUGGGGUUCCCGAGCGGCCAAAGGGAGCAGACUGUAAAUCUGCCGUCACAGACUUCGAAGGUUCGAAUCCUUCCCCC</td></tr><tr><td  style=\"background-color:Ivory;\">51</td><td  style=\"background-color:Ivory;\">004175668</td><td  style=\"background-color:Ivory;\">0.540</td><td  style=\"background-color:Ivory;\">1.876</td><td  style=\"background-color:Ivory;\">GGAUGCGGGCAUCGUAUAAUGGCUAUUACCUCAGCCUUCCAAGCUGAUGAUGCGGGUUCGAUUCCCGCUGCCCGCUC</td></tr><tr><td  style=\"background-color:AliceBlue;\">52</td><td  style=\"background-color:AliceBlue;\">004175752</td><td  style=\"background-color:AliceBlue;\">2.049</td><td  style=\"background-color:AliceBlue;\">1.322</td><td  style=\"background-color:AliceBlue;\">UGCUGAUAUAGCUCAGUUGGUAGAGCGCACCCUUGGUAAGGGUGAGGUCGGCAGUUCGAAUCUGCCUAUCAGCACCA</td></tr><tr><td  style=\"background-color:Ivory;\">53</td><td  style=\"background-color:Ivory;\">004392353</td><td  style=\"background-color:Ivory;\">1.123</td><td  style=\"background-color:Ivory;\">1.126</td><td  style=\"background-color:Ivory;\">UAGUACGCGGGAAUAGCUCAGUUGGUAGAGCACGACCUUGCCAAGGUCGGGGUCGCGAGUUCGAGUCUCGUUUCCCG</td></tr><tr><td  style=\"background-color:AliceBlue;\">54</td><td  style=\"background-color:AliceBlue;\">004392577</td><td  style=\"background-color:AliceBlue;\">1.404</td><td  style=\"background-color:AliceBlue;\">0.910</td><td  style=\"background-color:AliceBlue;\">CCCAAGCGGGAAUAGCUCAGUUGGUAGAGCACGACCUUGCCAAGGUCGGGGUCGCGAGUUCGAGUCUCGUUUCCCGC</td></tr><tr><td  style=\"background-color:Ivory;\">55</td><td  style=\"background-color:Ivory;\">004535790</td><td  style=\"background-color:Ivory;\">0.475</td><td  style=\"background-color:Ivory;\">1.812</td><td  style=\"background-color:Ivory;\">GCUGAAUGAUGCUGUUGAAAAGCUCAAUAAGAUGGGUAUCGCUACGAAAUUGGUUAAUCGUGUUCACAGCAAAAUUG</td></tr><tr><td  style=\"background-color:AliceBlue;\">56</td><td  style=\"background-color:AliceBlue;\">004578861</td><td  style=\"background-color:AliceBlue;\">0.202</td><td  style=\"background-color:AliceBlue;\">1.799</td><td  style=\"background-color:AliceBlue;\">AUAACACUCUUGCCAGAAUUAAAUAUUAAUUUAUAGUCGUUGAUUAUGUUGUCCAGCAUAGAGGCAAAUCGGGUGUA</td></tr>"
       ],
       "metadata": {},
       "output_type": "pyout",
       "prompt_number": 168,
       "text": [
        "<IPython.core.display.HTML at 0x112bc41d0>"
       ]
      }
     ],
     "prompt_number": 168
    },
    {
     "cell_type": "code",
     "collapsed": false,
     "input": [
      "#reference tRNA\n",
      "fname='trna_ecoli'\n",
      "def parse(fname):\n",
      "    with open(fname) as f:\n",
      "        for line in f:\n",
      "            text = ' '.join([line.strip(), f.next().strip(), f.next().strip(), f.next().strip()])\n",
      "            lines=text.split()\n",
      "            yield (int(lines[6].replace(\",\", \"\")),lines[0], lines[5])\n",
      "\n",
      "from ipy_table import * \n",
      "\n",
      "mat=[('ID','Name','Pos')]\n",
      "\n",
      "counter=1            \n",
      "for t in sorted(parse(fname)):\n",
      "    pos,name,strand = t\n",
      "    name=name.replace(\"T\",\"U\")\n",
      "    if '+' in strand:\n",
      "        mat += [(counter, name, pos)]\n",
      "        counter += 1\n",
      "        \n",
      "make_table(mat)\n",
      "apply_theme('basic')\n",
      "set_global_style(float_format = '%0.3f')"
     ],
     "language": "python",
     "metadata": {},
     "outputs": [
      {
       "html": [
        "<table border=\"1\" cellpadding=\"3\" cellspacing=\"0\"  style=\"border:1px solid black;border-collapse:collapse;\"><tr><td  style=\"background-color:LightGray;\"><b>ID</b></td><td  style=\"background-color:LightGray;\"><b>Name</b></td><td  style=\"background-color:LightGray;\"><b>Pos</b></td></tr><tr><td  style=\"background-color:Ivory;\">1</td><td  style=\"background-color:Ivory;\">chr.tRNA1-IleGAU</td><td  style=\"background-color:Ivory;\">225381</td></tr><tr><td  style=\"background-color:AliceBlue;\">2</td><td  style=\"background-color:AliceBlue;\">chr.tRNA2-AlaUGC</td><td  style=\"background-color:AliceBlue;\">225500</td></tr><tr><td  style=\"background-color:Ivory;\">3</td><td  style=\"background-color:Ivory;\">chr.tRNA3-AspGUC</td><td  style=\"background-color:Ivory;\">228928</td></tr><tr><td  style=\"background-color:AliceBlue;\">4</td><td  style=\"background-color:AliceBlue;\">chr.tRNA4-AspGUC</td><td  style=\"background-color:AliceBlue;\">236931</td></tr><tr><td  style=\"background-color:Ivory;\">5</td><td  style=\"background-color:Ivory;\">chr.tRNA5-UhrCGU</td><td  style=\"background-color:Ivory;\">262095</td></tr><tr><td  style=\"background-color:AliceBlue;\">6</td><td  style=\"background-color:AliceBlue;\">chr.tRNA6-UhrCGU</td><td  style=\"background-color:AliceBlue;\">296402</td></tr><tr><td  style=\"background-color:Ivory;\">7</td><td  style=\"background-color:Ivory;\">chr.tRNA7-Pseudo???</td><td  style=\"background-color:Ivory;\">344558</td></tr><tr><td  style=\"background-color:AliceBlue;\">8</td><td  style=\"background-color:AliceBlue;\">chr.tRNA8-ArgUCU</td><td  style=\"background-color:AliceBlue;\">563946</td></tr><tr><td  style=\"background-color:Ivory;\">9</td><td  style=\"background-color:Ivory;\">chr.tRNA9-LysUUU</td><td  style=\"background-color:Ivory;\">779777</td></tr><tr><td  style=\"background-color:AliceBlue;\">10</td><td  style=\"background-color:AliceBlue;\">chr.tRNA10-ValUAC</td><td  style=\"background-color:AliceBlue;\">779988</td></tr><tr><td  style=\"background-color:Ivory;\">11</td><td  style=\"background-color:Ivory;\">chr.tRNA11-LysUUU</td><td  style=\"background-color:Ivory;\">780066</td></tr><tr><td  style=\"background-color:AliceBlue;\">12</td><td  style=\"background-color:AliceBlue;\">chr.tRNA12-ValUAC</td><td  style=\"background-color:AliceBlue;\">780291</td></tr><tr><td  style=\"background-color:Ivory;\">13</td><td  style=\"background-color:Ivory;\">chr.tRNA13-LysUUU</td><td  style=\"background-color:Ivory;\">780370</td></tr><tr><td  style=\"background-color:AliceBlue;\">14</td><td  style=\"background-color:AliceBlue;\">chr.tRNA14-LysUUU</td><td  style=\"background-color:AliceBlue;\">780592</td></tr><tr><td  style=\"background-color:Ivory;\">15</td><td  style=\"background-color:Ivory;\">chr.tRNA15-LysUUU</td><td  style=\"background-color:Ivory;\">780800</td></tr><tr><td  style=\"background-color:AliceBlue;\">16</td><td  style=\"background-color:AliceBlue;\">chr.tRNA16-ValGAC</td><td  style=\"background-color:AliceBlue;\">1744459</td></tr><tr><td  style=\"background-color:Ivory;\">17</td><td  style=\"background-color:Ivory;\">chr.tRNA17-ValGAC</td><td  style=\"background-color:Ivory;\">1744540</td></tr><tr><td  style=\"background-color:AliceBlue;\">18</td><td  style=\"background-color:AliceBlue;\">chr.tRNA18-AsnGUU</td><td  style=\"background-color:AliceBlue;\">2042573</td></tr><tr><td  style=\"background-color:Ivory;\">19</td><td  style=\"background-color:Ivory;\">chr.tRNA19-AsnGUU</td><td  style=\"background-color:Ivory;\">2057875</td></tr><tr><td  style=\"background-color:AliceBlue;\">20</td><td  style=\"background-color:AliceBlue;\">chr.tRNA20-AsnGUU</td><td  style=\"background-color:AliceBlue;\">2060284</td></tr><tr><td  style=\"background-color:Ivory;\">21</td><td  style=\"background-color:Ivory;\">chr.tRNA21-ProGGG</td><td  style=\"background-color:Ivory;\">2284233</td></tr><tr><td  style=\"background-color:AliceBlue;\">22</td><td  style=\"background-color:AliceBlue;\">chr.tRNA22-ArgCCU</td><td  style=\"background-color:AliceBlue;\">2464331</td></tr><tr><td  style=\"background-color:Ivory;\">23</td><td  style=\"background-color:Ivory;\">chr.tRNA23-ValUAC</td><td  style=\"background-color:Ivory;\">2518953</td></tr><tr><td  style=\"background-color:AliceBlue;\">24</td><td  style=\"background-color:AliceBlue;\">chr.tRNA24-ValUAC</td><td  style=\"background-color:AliceBlue;\">2519073</td></tr><tr><td  style=\"background-color:Ivory;\">25</td><td  style=\"background-color:Ivory;\">chr.tRNA25-ValUAC</td><td  style=\"background-color:Ivory;\">2519195</td></tr><tr><td  style=\"background-color:AliceBlue;\">26</td><td  style=\"background-color:AliceBlue;\">chr.tRNA26-LysUUU</td><td  style=\"background-color:AliceBlue;\">2519275</td></tr><tr><td  style=\"background-color:Ivory;\">27</td><td  style=\"background-color:Ivory;\">chr.tRNA27-MetCAU</td><td  style=\"background-color:Ivory;\">2945409</td></tr><tr><td  style=\"background-color:AliceBlue;\">28</td><td  style=\"background-color:AliceBlue;\">chr.tRNA28-MetCAU</td><td  style=\"background-color:AliceBlue;\">2945519</td></tr><tr><td  style=\"background-color:Ivory;\">29</td><td  style=\"background-color:Ivory;\">chr.tRNA29-MetCAU</td><td  style=\"background-color:Ivory;\">2945629</td></tr><tr><td  style=\"background-color:AliceBlue;\">30</td><td  style=\"background-color:AliceBlue;\">chr.tRNA30-PheGAA</td><td  style=\"background-color:AliceBlue;\">3108388</td></tr><tr><td  style=\"background-color:Ivory;\">31</td><td  style=\"background-color:Ivory;\">chr.tRNA31-MetCAU</td><td  style=\"background-color:Ivory;\">3213620</td></tr><tr><td  style=\"background-color:AliceBlue;\">32</td><td  style=\"background-color:AliceBlue;\">chr.tRNA32-SeC(p)UCA</td><td  style=\"background-color:AliceBlue;\">3834245</td></tr><tr><td  style=\"background-color:Ivory;\">33</td><td  style=\"background-color:Ivory;\">chr.tRNA33-GluUUC</td><td  style=\"background-color:Ivory;\">3941458</td></tr><tr><td  style=\"background-color:AliceBlue;\">34</td><td  style=\"background-color:AliceBlue;\">chr.tRNA34-AspGUC</td><td  style=\"background-color:AliceBlue;\">3944895</td></tr><tr><td  style=\"background-color:Ivory;\">35</td><td  style=\"background-color:Ivory;\">chr.tRNA35-UrpCCA</td><td  style=\"background-color:Ivory;\">3944980</td></tr><tr><td  style=\"background-color:AliceBlue;\">36</td><td  style=\"background-color:AliceBlue;\">chr.tRNA36-ArgCCG</td><td  style=\"background-color:AliceBlue;\">3980398</td></tr><tr><td  style=\"background-color:Ivory;\">37</td><td  style=\"background-color:Ivory;\">chr.tRNA37-HisGUG</td><td  style=\"background-color:Ivory;\">3980533</td></tr><tr><td  style=\"background-color:AliceBlue;\">38</td><td  style=\"background-color:AliceBlue;\">chr.tRNA38-LeuCAG</td><td  style=\"background-color:AliceBlue;\">3980629</td></tr><tr><td  style=\"background-color:Ivory;\">39</td><td  style=\"background-color:Ivory;\">chr.tRNA39-ProUGG</td><td  style=\"background-color:Ivory;\">3980758</td></tr><tr><td  style=\"background-color:AliceBlue;\">40</td><td  style=\"background-color:AliceBlue;\">chr.tRNA40-IleGAU</td><td  style=\"background-color:AliceBlue;\">4035164</td></tr><tr><td  style=\"background-color:Ivory;\">41</td><td  style=\"background-color:Ivory;\">chr.tRNA41-AlaUGC</td><td  style=\"background-color:Ivory;\">4035283</td></tr><tr><td  style=\"background-color:AliceBlue;\">42</td><td  style=\"background-color:AliceBlue;\">chr.tRNA42-GluUUC</td><td  style=\"background-color:AliceBlue;\">4166395</td></tr><tr><td  style=\"background-color:Ivory;\">43</td><td  style=\"background-color:Ivory;\">chr.tRNA43-UhrUGU</td><td  style=\"background-color:Ivory;\">4173411</td></tr><tr><td  style=\"background-color:AliceBlue;\">44</td><td  style=\"background-color:AliceBlue;\">chr.tRNA44-UyrGUA</td><td  style=\"background-color:AliceBlue;\">4173495</td></tr><tr><td  style=\"background-color:Ivory;\">45</td><td  style=\"background-color:Ivory;\">chr.tRNA45-GlyUCC</td><td  style=\"background-color:Ivory;\">4173696</td></tr><tr><td  style=\"background-color:AliceBlue;\">46</td><td  style=\"background-color:AliceBlue;\">chr.tRNA46-UhrGGU</td><td  style=\"background-color:AliceBlue;\">4173777</td></tr><tr><td  style=\"background-color:Ivory;\">47</td><td  style=\"background-color:Ivory;\">chr.tRNA47-GluUUC</td><td  style=\"background-color:Ivory;\">4207797</td></tr><tr><td  style=\"background-color:AliceBlue;\">48</td><td  style=\"background-color:AliceBlue;\">chr.tRNA48-GlyGCC</td><td  style=\"background-color:AliceBlue;\">4390383</td></tr><tr><td  style=\"background-color:Ivory;\">49</td><td  style=\"background-color:Ivory;\">chr.tRNA49-GlyGCC</td><td  style=\"background-color:Ivory;\">4390495</td></tr><tr><td  style=\"background-color:AliceBlue;\">50</td><td  style=\"background-color:AliceBlue;\">chr.tRNA50-GlyGCC</td><td  style=\"background-color:AliceBlue;\">4390606</td></tr><tr><td  style=\"background-color:Ivory;\">51</td><td  style=\"background-color:Ivory;\">chr.tRNA51-LeuCAA</td><td  style=\"background-color:Ivory;\">4494428</td></tr>"
       ],
       "metadata": {},
       "output_type": "pyout",
       "prompt_number": 169,
       "text": [
        "<IPython.core.display.HTML at 0x10dd8e490>"
       ]
      }
     ],
     "prompt_number": 169
    }
   ],
   "metadata": {}
  }
 ]
}