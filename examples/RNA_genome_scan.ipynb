{
 "metadata": {
  "name": "",
  "signature": "sha256:44c06de80eb46c96b03b0861fc3b4890dc879354150d0d2f11d7e966637c621e"
 },
 "nbformat": 3,
 "nbformat_minor": 0,
 "worksheets": [
  {
   "cells": [
    {
     "cell_type": "code",
     "collapsed": false,
     "input": [
      "import itertools\n",
      "def join_pre_processes( data, pre_processes, weights):\n",
      "    if hasattr( data, '__iter__' ):\n",
      "        iterable = data\n",
      "    else: #if not then process url or file with fasta_to_fasta\n",
      "        from eden.modifier.fasta import fasta_to_fasta\n",
      "        iterable = fasta_to_fasta( data )\n",
      "    from eden import util\n",
      "    return util.join_pre_processes(iterable, pre_processes=pre_processes, weights=weights)"
     ],
     "language": "python",
     "metadata": {},
     "outputs": [],
     "prompt_number": 1
    },
    {
     "cell_type": "code",
     "collapsed": false,
     "input": [
      "def pre_process_rnashapes( iterable ):\n",
      "    from eden.converter.rna.rnashapes import rnashapes_to_eden\n",
      "    graphs = rnashapes_to_eden( iterable, shape_type = 5, energy_range = 35, max_num = 3 )\n",
      "    return graphs"
     ],
     "language": "python",
     "metadata": {},
     "outputs": [],
     "prompt_number": 2
    },
    {
     "cell_type": "code",
     "collapsed": false,
     "input": [
      "def pre_process_fasta( iterable ):\n",
      "    from eden.converter.fasta import fasta_to_eden\n",
      "    graphs = fasta_to_eden( iterable )\n",
      "    return graphs"
     ],
     "language": "python",
     "metadata": {},
     "outputs": [],
     "prompt_number": 3
    },
    {
     "cell_type": "code",
     "collapsed": false,
     "input": [
      "def pre_process_structure( iterable ):\n",
      "    from eden.converter.rna.rnashapes_struct import rnashapes_struct_to_eden\n",
      "    graphs = rnashapes_struct_to_eden(iterable, shape=True, dotbracket=False, energy=False, shape_type=5, energy_range=35, max_num=3)\n",
      "    return graphs"
     ],
     "language": "python",
     "metadata": {},
     "outputs": [],
     "prompt_number": 4
    },
    {
     "cell_type": "code",
     "collapsed": false,
     "input": [
      "def pre_process_energy( iterable ):\n",
      "    from eden.converter.rna.rnashapes_struct import rnashapes_struct_to_eden\n",
      "    graphs = rnashapes_struct_to_eden(iterable, energy=True, dotbracket=False, shape=False, shape_type=5, energy_range=35, max_num=3)\n",
      "    return graphs"
     ],
     "language": "python",
     "metadata": {},
     "outputs": [],
     "prompt_number": 5
    },
    {
     "cell_type": "code",
     "collapsed": false,
     "input": [
      "def pre_process_contraction( iterable ):\n",
      "    from eden.converter.rna.rnashapes import rnashapes_to_eden\n",
      "    graphs = rnashapes_to_eden( iterable, shape_type=5, energy_range=35, max_num=3 )\n",
      "    \n",
      "    #annotate in node attribute 'type' the incident edges' labels\n",
      "    from eden.modifier.graph import vertex_attributes\n",
      "    graphs = vertex_attributes.incident_edge_label(graphs, level=1, output_attribute='type', separator='.')\n",
      "    \n",
      "    from eden.modifier.graph.structure import contraction, contraction_modifier\n",
      "    label_modifier = contraction_modifier(attribute_in='type', attribute_out='label', reduction='set_categorical')\n",
      "    \n",
      "    #reduce all 'weight' attributes of contracted nodes using a sum to be written in the 'weight' attribute of the resulting graph \n",
      "    weight_modifier = contraction_modifier(attribute_in='weight', attribute_out='weight', reduction='sum')\n",
      "    modifiers = [label_modifier, weight_modifier]\n",
      "    \n",
      "    #contract the graph on the 'type' attribute\n",
      "    graphs = contraction(graphs, contraction_attribute='type', modifiers=modifiers)\n",
      "    \n",
      "    return graphs"
     ],
     "language": "python",
     "metadata": {},
     "outputs": [],
     "prompt_number": 6
    },
    {
     "cell_type": "code",
     "collapsed": false,
     "input": [
      "def pre_process( data ):\n",
      "    pre_processes = [pre_process_energy, pre_process_rnashapes, pre_process_fasta, pre_process_structure, pre_process_contraction]\n",
      "    weights = [0.4, 0.2, 0.05, 0.3, 0.05]\n",
      "    return join_pre_processes( data, pre_processes, weights)"
     ],
     "language": "python",
     "metadata": {},
     "outputs": [],
     "prompt_number": 7
    },
    {
     "cell_type": "code",
     "collapsed": false,
     "input": [
      "def pre_process( data ):\n",
      "    pre_processes = [pre_process_energy, pre_process_structure]\n",
      "    weights = [0.2, 0.8]\n",
      "    return join_pre_processes( data, pre_processes, weights)"
     ],
     "language": "python",
     "metadata": {},
     "outputs": [],
     "prompt_number": 8
    },
    {
     "cell_type": "code",
     "collapsed": false,
     "input": [
      "def describe(X):\n",
      "    print 'Instances: %d ; Features: %d (with an avg of %d features per instance)' % (X.shape[0], X.shape[1],  X.getnnz()/X.shape[0])"
     ],
     "language": "python",
     "metadata": {},
     "outputs": [],
     "prompt_number": 9
    },
    {
     "cell_type": "code",
     "collapsed": false,
     "input": [
      "def model(uri, pre_process):\n",
      "\n",
      "    from eden.graph import Vectorizer\n",
      "    vectorizer = Vectorizer( r=2, d=2 )\n",
      "    n_jobs = 1\n",
      "\n",
      "    graphs = pre_process( uri )\n",
      "    X1 = vectorizer.transform( graphs, n_jobs=n_jobs )\n",
      "    describe(X1)\n",
      "    \n",
      "    from eden.modifier.fasta import fasta_to_fasta, shuffle_modifier\n",
      "    graphs = pre_process( fasta_to_fasta( uri , modifier=shuffle_modifier, times=2, order=2) )\n",
      "    X2 = vectorizer.transform( graphs, n_jobs=n_jobs )\n",
      "    describe(X2)\n",
      "    \n",
      "    from eden.util import fit_estimator\n",
      "    estimator = fit_estimator( positive_data_matrix=X1, negative_data_matrix=X2, cv=5 )\n",
      "    \n",
      "    return estimator, vectorizer"
     ],
     "language": "python",
     "metadata": {},
     "outputs": [],
     "prompt_number": 10
    },
    {
     "cell_type": "code",
     "collapsed": false,
     "input": [
      "def list_model(uri, pre_process):\n",
      "\n",
      "    from eden.graph import ListVectorizer\n",
      "    vectorizer = ListVectorizer( r=2, d=2 )\n",
      "    n_jobs = -1\n",
      "\n",
      "    graphs_list, weights = pre_process( uri )\n",
      "    X1 = vectorizer.transform( graphs_list, weights=weights, n_jobs=n_jobs )\n",
      "    describe(X1)\n",
      "    \n",
      "    from eden.modifier.fasta import fasta_to_fasta, shuffle_modifier\n",
      "    graphs_list, weights = pre_process( fasta_to_fasta( uri , modifier=shuffle_modifier, times=2, order=2) )\n",
      "    X2 = vectorizer.transform( graphs_list, weights=weights, n_jobs=n_jobs )\n",
      "    describe(X2)\n",
      "    \n",
      "    from eden.util import fit_estimator\n",
      "    estimator = fit_estimator( positive_data_matrix=X1, negative_data_matrix=X2, cv=5 )\n",
      "    \n",
      "    return estimator, vectorizer"
     ],
     "language": "python",
     "metadata": {},
     "outputs": [],
     "prompt_number": 11
    },
    {
     "cell_type": "code",
     "collapsed": false,
     "input": [
      "def rfam_uri(family_id):\n",
      "    return 'http://rfam.xfam.org/family/%s/alignment?acc=%s&format=fastau&download=0'%(family_id,family_id)\n",
      "def rfam_uri(family_id):\n",
      "    return '%s.fa'%(family_id)"
     ],
     "language": "python",
     "metadata": {},
     "outputs": [],
     "prompt_number": 12
    },
    {
     "cell_type": "code",
     "collapsed": false,
     "input": [
      "rfam_id = 'RF00871' #microRNA mir-689\n",
      "rfam_id = 'RF02275' #Hammerhead_HH9\n",
      "rfam_id = 'RF00005' #tRNA"
     ],
     "language": "python",
     "metadata": {},
     "outputs": [],
     "prompt_number": 13
    },
    {
     "cell_type": "code",
     "collapsed": false,
     "input": [
      "%%time\n",
      "estimator, vectorizer = model(rfam_uri( rfam_id ), pre_process_rnashapes)"
     ],
     "language": "python",
     "metadata": {},
     "outputs": [
      {
       "output_type": "stream",
       "stream": "stdout",
       "text": [
        "Instances: 954 ; Features: 1048577 (with an avg of 906 features per instance)\n",
        "Instances: 1908 ; Features: 1048577 (with an avg of 882 features per instance)"
       ]
      },
      {
       "output_type": "stream",
       "stream": "stdout",
       "text": [
        "\n"
       ]
      },
      {
       "output_type": "stream",
       "stream": "stdout",
       "text": [
        "Classifier:\n",
        "SGDClassifier(alpha=0.00030375463655, class_weight='auto', epsilon=0.1,\n",
        "       eta0=2.35416216968, fit_intercept=True, l1_ratio=0.15,\n",
        "       learning_rate='optimal', loss='hinge', n_iter=80, n_jobs=-1,\n",
        "       penalty='l2', power_t=0.371008391041, random_state=None,\n",
        "       shuffle=True, verbose=0, warm_start=False)\n",
        "-------------------------------------------------------------------------\n",
        "Predictive performance:\n"
       ]
      },
      {
       "output_type": "stream",
       "stream": "stdout",
       "text": [
        "            accuracy: 0.968 +- 0.011\n"
       ]
      },
      {
       "output_type": "stream",
       "stream": "stdout",
       "text": [
        "           precision: 0.968 +- 0.014\n"
       ]
      },
      {
       "output_type": "stream",
       "stream": "stdout",
       "text": [
        "              recall: 0.935 +- 0.023\n"
       ]
      },
      {
       "output_type": "stream",
       "stream": "stdout",
       "text": [
        "                  f1: 0.951 +- 0.018\n"
       ]
      },
      {
       "output_type": "stream",
       "stream": "stdout",
       "text": [
        "   average_precision: 0.990 +- 0.005\n"
       ]
      },
      {
       "output_type": "stream",
       "stream": "stdout",
       "text": [
        "             roc_auc: 0.994 +- 0.004\n",
        "-------------------------------------------------------------------------\n",
        "CPU times: user 5min 10s, sys: 32.3 s, total: 5min 43s\n",
        "Wall time: 9min 13s\n"
       ]
      }
     ],
     "prompt_number": 14
    },
    {
     "cell_type": "code",
     "collapsed": false,
     "input": [
      "%%time\n",
      "estimator_str, vectorizer_str = list_model(rfam_uri( rfam_id ), pre_process)"
     ],
     "language": "python",
     "metadata": {},
     "outputs": [
      {
       "output_type": "stream",
       "stream": "stdout",
       "text": [
        "Instances: 954 ; Features: 1048577 (with an avg of 74 features per instance)\n"
       ]
      },
      {
       "output_type": "stream",
       "stream": "stdout",
       "text": [
        "Instances: 1908 ; Features: 1048577 (with an avg of 96 features per instance)\n"
       ]
      },
      {
       "output_type": "stream",
       "stream": "stdout",
       "text": [
        "Classifier:\n",
        "SGDClassifier(alpha=5.29888153445e-05, class_weight='auto', epsilon=0.1,\n",
        "       eta0=1.38296423929, fit_intercept=True, l1_ratio=0.15,\n",
        "       learning_rate='optimal', loss='hinge', n_iter=71, n_jobs=-1,\n",
        "       penalty='elasticnet', power_t=0.361046639978, random_state=None,\n",
        "       shuffle=True, verbose=0, warm_start=False)\n",
        "-------------------------------------------------------------------------\n",
        "Predictive performance:\n"
       ]
      },
      {
       "output_type": "stream",
       "stream": "stdout",
       "text": [
        "            accuracy: 0.908 +- 0.014\n"
       ]
      },
      {
       "output_type": "stream",
       "stream": "stdout",
       "text": [
        "           precision: 0.840 +- 0.026\n"
       ]
      },
      {
       "output_type": "stream",
       "stream": "stdout",
       "text": [
        "              recall: 0.895 +- 0.051\n"
       ]
      },
      {
       "output_type": "stream",
       "stream": "stdout",
       "text": [
        "                  f1: 0.866 +- 0.023\n"
       ]
      },
      {
       "output_type": "stream",
       "stream": "stdout",
       "text": [
        "   average_precision: 0.918 +- 0.028\n"
       ]
      },
      {
       "output_type": "stream",
       "stream": "stdout",
       "text": [
        "             roc_auc: 0.956 +- 0.019\n",
        "-------------------------------------------------------------------------\n",
        "CPU times: user 20.6 s, sys: 16.8 s, total: 37.4 s\n",
        "Wall time: 3min 3s\n"
       ]
      }
     ],
     "prompt_number": 15
    },
    {
     "cell_type": "code",
     "collapsed": false,
     "input": [
      "def extract_motives(uri, motif_support_threshold = 2, min_subarray_size=5, max_subarray_size=18, estimator = estimator, vectorizer = vectorizer):\n",
      "    from eden.graph import Annotator\n",
      "    annotator = Annotator( estimator = estimator, vectorizer = vectorizer )\n",
      "\n",
      "    #annotate graphs with node importance \n",
      "    graphs = pre_process_rnashapes( uri )\n",
      "    graphs = annotator.transform( graphs )\n",
      "\n",
      "    #use node importance and 'position' attribute to identify max_subarrays of a specific size\n",
      "    #use compute_max_subarrays to return an iterator over motives \n",
      "    from eden.util.iterated_maximum_subarray import compute_max_subarrays\n",
      "\n",
      "    motives = set()\n",
      "    for graph in graphs:\n",
      "        subarrays = compute_max_subarrays(graph=graph, min_subarray_size=min_subarray_size, max_subarray_size=max_subarray_size)\n",
      "        if subarrays:\n",
      "            for subarray in subarrays:\n",
      "                motives.add(''.join(subarray['subarray']))    \n",
      "    \n",
      "    #count occurrences of motives in original dataset to determine support of each motif\n",
      "    from collections import defaultdict\n",
      "\n",
      "    from eden.modifier.fasta import fasta_to_fasta, one_line_modifier\n",
      "    iterable = fasta_to_fasta( uri, modifier=one_line_modifier, sequence_only=True)\n",
      "\n",
      "    motif_counter = defaultdict(int)\n",
      "    for seq in iterable:\n",
      "        for motif in motives:\n",
      "            if seq.find(motif) != -1:\n",
      "                motif_counter[motif] += 1\n",
      "    \n",
      "    #select only motives with support higher than a user defined threshold\n",
      "    selcted_motives = [motif for motif in motif_counter if motif_counter[motif] >= motif_support_threshold]   \n",
      "\n",
      "    #remove motives that are specializations of smaller motifs\n",
      "    blacklist=set()\n",
      "    for motif1 in selcted_motives:\n",
      "        for motif2 in selcted_motives:\n",
      "            if motif1 != motif2 and motif1 in motif2:\n",
      "                blacklist.add(motif2)\n",
      "    selcted_motives=list(set(selcted_motives).difference(blacklist))\n",
      "\n",
      "    print 'Selected %d motives'%len(selcted_motives)\n",
      "    #build a regex expression that matches the occurrence of at least one of the motives\n",
      "    regex=''\n",
      "    for m in sorted(selcted_motives): regex += '|' + m\n",
      "    regex = regex[1:]\n",
      "    return regex"
     ],
     "language": "python",
     "metadata": {},
     "outputs": [],
     "prompt_number": 16
    },
    {
     "cell_type": "code",
     "collapsed": false,
     "input": [
      "%%time\n",
      "regex = extract_motives(rfam_uri( rfam_id ), motif_support_threshold = 10, min_subarray_size=5, max_subarray_size=15, estimator = estimator, vectorizer = vectorizer)\n",
      "print \"regex: \", regex"
     ],
     "language": "python",
     "metadata": {},
     "outputs": [
      {
       "output_type": "stream",
       "stream": "stdout",
       "text": [
        "Selected 48 motives\n",
        "regex:  AAGCUAA|AAUCUAA|ACCCCA|AGAAAU|AGAAGU|AGCUUAA|AGUAAG|AGUUCGA|CAAAAAU|CAAAUAAAAG|CAAAUCCC|CAAAUCCU|CAAUUCCU|CACCCA|CACCCCU|CCCCCA|GAAACA|GAAUCCU|GAGAAUA|GAGUUCA|GCACCC|GCCCCA|GCCCGA|GGUAAAAU|GGUAAAG|GGUUCAAG|GGUUCGA|GUUCAAU|GUUCGAU|UAAAAGUA|UAAAGCA|UAAAUCC|UAACCCA|UAACCUU|UAGAAU|UAGAUA|UAGCUCA|UAGCUUA|UCCCUA|UCCCUCUC|UCCGCA|UCCUUA|UCUUGA|UUAGAUU|UUCAAAU|UUCGAAU|UUCGAUCCC|UUCGAUUCCU\n",
        "CPU times: user 1min 46s, sys: 7.45 s, total: 1min 53s\n",
        "Wall time: 2min 20s\n"
       ]
      }
     ],
     "prompt_number": 17
    },
    {
     "cell_type": "code",
     "collapsed": false,
     "input": [
      "def motives_discriminative_performance_evaluation(data, regex):\n",
      "    #compute statistics when using the motives as indicators for the target family on the original data \n",
      "    #and on a randomly permuted dataset\n",
      "    \n",
      "    from eden.modifier.fasta import fasta_to_fasta, keep_modifier, shuffle_modifier\n",
      "    iterable = fasta_to_fasta( data , modifier=keep_modifier, regex=regex )\n",
      "    true_positive_count = sum(1 for x in iterable)\n",
      "    iterable = fasta_to_fasta( data )\n",
      "    positive_count = sum(1 for x in iterable)\n",
      "    iterable = fasta_to_fasta( data , modifier=shuffle_modifier, times=10, order=2)\n",
      "    it1,it2 = itertools.tee(iterable)\n",
      "    negative_count = sum(1 for x in it1)\n",
      "    iterable = fasta_to_fasta( it2 , modifier=keep_modifier, regex=regex )\n",
      "    false_positive_count = sum(1 for x in iterable)\n",
      "    false_negative_count =  positive_count - true_positive_count\n",
      "    true_negative_count = negative_count - false_negative_count\n",
      "\n",
      "    recall = true_positive_count/float(true_positive_count + false_negative_count)\n",
      "    precision = true_positive_count/float(true_positive_count + false_positive_count)\n",
      "    f1 = 2 * precision * recall / (precision + recall)\n",
      "\n",
      "    print 'pos:%d neg:%d TP:%d FP:%d TN:%d FN:%d' % (positive_count, negative_count, true_positive_count, false_positive_count, true_negative_count, false_negative_count)\n",
      "    print 'precision:%0.3f recall:%0.3f f1:%0.3f' % (precision, recall, f1)\n",
      "    print 'dataset reduction: from %d to %d = %0.3f' % (negative_count, false_positive_count, false_positive_count/float(negative_count))"
     ],
     "language": "python",
     "metadata": {},
     "outputs": [],
     "prompt_number": 18
    },
    {
     "cell_type": "code",
     "collapsed": false,
     "input": [
      "motives_discriminative_performance_evaluation(rfam_uri( rfam_id ), regex)"
     ],
     "language": "python",
     "metadata": {},
     "outputs": [
      {
       "output_type": "stream",
       "stream": "stdout",
       "text": [
        "pos:1908 neg:19080 TP:1710 FP:6110 TN:18882 FN:198\n",
        "precision:0.219 recall:0.896 f1:0.352\n",
        "dataset reduction: from 19080 to 6110 = 0.320\n"
       ]
      }
     ],
     "prompt_number": 19
    },
    {
     "cell_type": "code",
     "collapsed": false,
     "input": [
      "def lenght_stats(uri, lower_percentile=25, upper_percentile=75):\n",
      "    #extract statistics on the average lenght of the sequences in the given Rfam family\n",
      "    #use this information to determine the size of the window when scanning the genome\n",
      "    import numpy\n",
      "    from eden.modifier.fasta import fasta_to_fasta, one_line_modifier\n",
      "\n",
      "    iterable = fasta_to_fasta( uri, modifier=one_line_modifier, sequence_only=True)\n",
      "    len_seqs = [len(seq) for seq in iterable]\n",
      "    lower_quantile = int(numpy.percentile(len_seqs, lower_percentile))\n",
      "    upper_quantile = int(numpy.percentile(len_seqs, upper_percentile))\n",
      "\n",
      "    num_seqs = len(len_seqs)\n",
      "\n",
      "    print 'Rfam family %s has %d sequences' % (rfam_id, num_seqs)\n",
      "    print 'more than %d%% of the sequences have lenght smaller than: %d ' % (upper_percentile, upper_quantile)\n",
      "    print 'less then %d%% of the sequences have lenght smaller than: %d ' % (lower_percentile, lower_quantile)\n",
      "    \n",
      "    return lower_quantile, upper_quantile"
     ],
     "language": "python",
     "metadata": {},
     "outputs": [],
     "prompt_number": 20
    },
    {
     "cell_type": "code",
     "collapsed": false,
     "input": [
      "lower_quantile, upper_quantile = lenght_stats(rfam_uri( rfam_id ), lower_percentile=15, upper_percentile=85)"
     ],
     "language": "python",
     "metadata": {},
     "outputs": [
      {
       "output_type": "stream",
       "stream": "stdout",
       "text": [
        "Rfam family RF00005 has 954 sequences\n",
        "more than 85% of the sequences have lenght smaller than: 77 \n",
        "less then 15% of the sequences have lenght smaller than: 69 \n"
       ]
      }
     ],
     "prompt_number": 21
    },
    {
     "cell_type": "code",
     "collapsed": false,
     "input": [
      "def out_of_core_list_filter( iterable, estimator=None, vectorizer=None, pre_process=None, threshold=1 ):\n",
      "    #define a filter that uses the predictive model\n",
      "    import itertools\n",
      "    iterable_headers, iterable_seqs = itertools.tee( iterable )\n",
      "    \n",
      "    #1. extract oneline fasta\n",
      "    from eden.modifier.fasta import fasta_to_fasta, one_line_modifier\n",
      "    header_seqs = fasta_to_fasta( iterable_headers, modifier=one_line_modifier, one_line=True )\n",
      "\n",
      "    #2. extract graphs\n",
      "    graphs_list, weights = pre_process( iterable_seqs )\n",
      "    from eden.graph import OutOfCoreListPredictor\n",
      "    out_of_core_list_predictor = OutOfCoreListPredictor( estimator=estimator, vectorizer=vectorizer )\n",
      "    predictions = out_of_core_list_predictor.predict(graphs_list, weights=weights)\n",
      "\n",
      "    #1+2\n",
      "    for header_seq, prediction in itertools.izip(header_seqs, predictions):\n",
      "        if prediction >= float(threshold):\n",
      "            lines = header_seq.split('\\t')\n",
      "            header = lines[0] + ' SCORE: %.3f '%prediction\n",
      "            seq = lines[1]\n",
      "            yield header\n",
      "            yield seq"
     ],
     "language": "python",
     "metadata": {},
     "outputs": [],
     "prompt_number": 22
    },
    {
     "cell_type": "code",
     "collapsed": false,
     "input": [
      "def out_of_core_filter( iterable, estimator=None, vectorizer=None, pre_process=None, threshold=1 ):\n",
      "    #define a filter that uses the predictive model\n",
      "    import itertools\n",
      "    iterable_headers, iterable_seqs = itertools.tee( iterable )\n",
      "    \n",
      "    #1. extract oneline fasta\n",
      "    from eden.modifier.fasta import fasta_to_fasta, one_line_modifier\n",
      "    header_seqs = fasta_to_fasta( iterable_headers, modifier=one_line_modifier, one_line=True )\n",
      "\n",
      "    #2. extract graphs\n",
      "    graphs = pre_process( iterable_seqs )\n",
      "    from eden.graph import OutOfCorePredictor\n",
      "    out_of_core_predictor = OutOfCorePredictor( estimator=estimator, vectorizer=vectorizer )\n",
      "    predictions = out_of_core_predictor.predict(graphs)\n",
      "\n",
      "    #1+2\n",
      "    for header_seq, prediction in itertools.izip(header_seqs, predictions):\n",
      "        if prediction >= float(threshold):\n",
      "            lines = header_seq.split('\\t')\n",
      "            header = lines[0] + ' SCORE: %.3f '%prediction\n",
      "            seq = lines[1]\n",
      "            yield header\n",
      "            yield seq"
     ],
     "language": "python",
     "metadata": {},
     "outputs": [],
     "prompt_number": 23
    },
    {
     "cell_type": "code",
     "collapsed": false,
     "input": [
      "#parameters choice\n",
      "uri = 'ecoli.fa'\n",
      "min_lenght = lower_quantile\n",
      "max_lenght = upper_quantile\n",
      "threshold_1 = 0.0\n",
      "threshold_2 = 0.0\n",
      "\n",
      "\n",
      "#compose all modifiers and filters\n",
      "from eden.modifier.fasta import fasta_to_fasta, one_line_modifier, replace_modifier, split_regex_modifier, split_modifier, keep_modifier\n",
      "\n",
      "#replace Ts with Us\n",
      "iterable = fasta_to_fasta(uri, modifier=replace_modifier, regex='T', replacement='U')\n",
      "\n",
      "#split out sequences that are not stretches of Ns  \n",
      "#iterable = fasta_to_fasta(iterable, modifier=split_regex_modifier, regex=\"([^N]+)\" )\n",
      "\n",
      "#filter out small sequences, i.e. smaller than lower_quantile\n",
      "#iterable = fasta_to_fasta(iterable, modifier=keep_modifier, regex=\"(.{%d,})\"%min_lenght )\n",
      "\n",
      "#split large sequences into overlapping windows of size comparable with the Rfam average seq lenght\n",
      "iterable = fasta_to_fasta( iterable, modifier=split_modifier, window=max_lenght, step=5 )\n",
      "\n",
      "#keep only the sequences that are matched by the regex\n",
      "iterable = fasta_to_fasta(iterable, modifier=keep_modifier, regex=regex )\n",
      "\n",
      "#filter sequences using predictive model on structures\n",
      "iterable = out_of_core_list_filter( iterable, threshold=threshold_1, pre_process=pre_process, estimator=estimator_str, vectorizer=vectorizer_str )\n",
      "\n",
      "#filter sequences using predictive model on seq+structure\n",
      "iterable = out_of_core_filter( iterable, threshold=threshold_2, pre_process=pre_process_rnashapes, estimator=estimator, vectorizer=vectorizer )\n",
      "\n",
      "#extract one line\n",
      "iterable = fasta_to_fasta( iterable, modifier=one_line_modifier, one_line=True )"
     ],
     "language": "python",
     "metadata": {},
     "outputs": [],
     "prompt_number": 24
    },
    {
     "cell_type": "code",
     "collapsed": false,
     "input": [
      "%%time\n",
      "#run the filter on the genome and save results\n",
      "\n",
      "from datetime import datetime\n",
      "import sys\n",
      "\n",
      "results = []\n",
      "\n",
      "f = open('result','a')\n",
      "print >> f, '-'*80\n",
      "print >> f, rfam_id\n",
      "print >> f, datetime.now() \n",
      "\n",
      "#display and save results    \n",
      "for line in iterable:\n",
      "    print line\n",
      "    sys.stdout.flush()\n",
      "    print >> f, line\n",
      "    f.flush()\n",
      "    results.append(line)"
     ],
     "language": "python",
     "metadata": {},
     "outputs": [
      {
       "output_type": "stream",
       "stream": "stdout",
       "text": [
        ">gi|556503834|ref|NC_000913.3| Escherichia coli str. K-12 substr. MG1655, complete genome START: 000015200 END: 000015277 LEN: 77 SCORE: 1.031 SCORE: 0.177\tAAGAAAGCUUCGGUGGCCCAACCGGCGAGCACAACAGCCCGCGCUCAAAGAGCUUCUUUGAUGGUGUGAAGAAGUUU\n"
       ]
      },
      {
       "output_type": "stream",
       "stream": "stdout",
       "text": [
        ">gi|556503834|ref|NC_000913.3| Escherichia coli str. K-12 substr. MG1655, complete genome START: 000020610 END: 000020687 LEN: 77 SCORE: 0.585 SCORE: 0.032\tGAGAUUGAGUAGAUAUUCUUGUUCAGAAUGUAUCAGCCGAUGGUUCUACGAUUCUUAAGCCACGAAGAGUUCAGAUA\n"
       ]
      },
      {
       "output_type": "stream",
       "stream": "stdout",
       "text": [
        ">gi|556503834|ref|NC_000913.3| Escherichia coli str. K-12 substr. MG1655, complete genome START: 000020940 END: 000021017 LEN: 77 SCORE: 1.205 SCORE: 0.416\tAGCAGCUUUGUCGCCAGCUUCGAUAGCUGCGUAUACUUUCUUGAUGAAAGUACGCAUCAUAGAGCGACGGCUUGCGU\n"
       ]
      },
      {
       "output_type": "stream",
       "stream": "stdout",
       "text": [
        ">gi|556503834|ref|NC_000913.3| Escherichia coli str. K-12 substr. MG1655, complete genome START: 000076160 END: 000076237 LEN: 77 SCORE: 0.905 SCORE: 0.196\tGCCGGGAACCACAGUUGCUGGUACUGUUCCUCAGCGAAAUAGACCAGAUUAGUUGGAGAAAGCACAUAGCUUACCCA\n"
       ]
      },
      {
       "output_type": "stream",
       "stream": "stdout",
       "text": [
        ">gi|556503834|ref|NC_000913.3| Escherichia coli str. K-12 substr. MG1655, complete genome START: 000076170 END: 000076247 LEN: 77 SCORE: 1.018 SCORE: 0.206\tACAGUUGCUGGUACUGUUCCUCAGCGAAAUAGACCAGAUUAGUUGGAGAAAGCACAUAGCUUACCCAGUCCCUGACU\n"
       ]
      },
      {
       "output_type": "stream",
       "stream": "stdout",
       "text": [
        ">gi|556503834|ref|NC_000913.3| Escherichia coli str. K-12 substr. MG1655, complete genome START: 000076210 END: 000076287 LEN: 77 SCORE: 0.996 SCORE: 0.052\tAGUUGGAGAAAGCACAUAGCUUACCCAGUCCCUGACUUGCUGAUUCGCCCCGCGAUGGGUGCGGCUGUCGAACAGUA\n"
       ]
      },
      {
       "output_type": "stream",
       "stream": "stdout",
       "text": [
        ">gi|556503834|ref|NC_000913.3| Escherichia coli str. K-12 substr. MG1655, complete genome START: 000110970 END: 000111047 LEN: 77 SCORE: 0.996 SCORE: 0.132\tGCCGCCUGCAAUAAAAGCUAACUGUUGAAGUAAAAGGCGCAGGAUUCUGCGCCUUUUUUAUAGGUUUAAGACAAUGA\n"
       ]
      },
      {
       "output_type": "stream",
       "stream": "stdout",
       "text": [
        ">gi|556503834|ref|NC_000913.3| Escherichia coli str. K-12 substr. MG1655, complete genome START: 000110980 END: 000111057 LEN: 77 SCORE: 1.133 SCORE: 0.704\tAUAAAAGCUAACUGUUGAAGUAAAAGGCGCAGGAUUCUGCGCCUUUUUUAUAGGUUUAAGACAAUGAAAAAGCUGCA\n"
       ]
      },
      {
       "output_type": "stream",
       "stream": "stdout",
       "text": [
        ">gi|556503834|ref|NC_000913.3| Escherichia coli str. K-12 substr. MG1655, complete genome START: 000131955 END: 000132032 LEN: 77 SCORE: 2.154 SCORE: 0.056\tUGCUGCCAAAGCACUUUCUCACACGCUGCUGAUGUUCGAUAACUUCUAUGACGUAGAAGAGAAAGCGAAAGCAGGCA\n"
       ]
      },
      {
       "output_type": "stream",
       "stream": "stdout",
       "text": [
        ">gi|556503834|ref|NC_000913.3| Escherichia coli str. K-12 substr. MG1655, complete genome START: 000181270 END: 000181347 LEN: 77 SCORE: 1.187 SCORE: 0.397\tAACCACGUUGUUGAUAACGCGACGGUCAUUAAAGUUCAACUGAGCGAUGGCCGUAAGUUCGACGCGAAGAUGGUUGG\n"
       ]
      },
      {
       "output_type": "stream",
       "stream": "stdout",
       "text": [
        ">gi|556503834|ref|NC_000913.3| Escherichia coli str. K-12 substr. MG1655, complete genome START: 000190010 END: 000190087 LEN: 77 SCORE: 1.011 SCORE: 0.030\tUGUACCGAUGUUCAACGAAGCUCUGGCUGAACUGAACAAGAUUGCUUCUCGCAAAGGUAAAAUCCUUUUCGUUGGUA\n"
       ]
      },
      {
       "output_type": "stream",
       "stream": "stdout",
       "text": [
        ">gi|556503834|ref|NC_000913.3| Escherichia coli str. K-12 substr. MG1655, complete genome START: 000190020 END: 000190097 LEN: 77 SCORE: 1.093 SCORE: 0.070\tUUCAACGAAGCUCUGGCUGAACUGAACAAGAUUGCUUCUCGCAAAGGUAAAAUCCUUUUCGUUGGUACUAAACGCGC\n"
       ]
      },
      {
       "output_type": "stream",
       "stream": "stdout",
       "text": [
        ">gi|556503834|ref|NC_000913.3| Escherichia coli str. K-12 substr. MG1655, complete genome START: 000190555 END: 000190632 LEN: 77 SCORE: 0.687 SCORE: 0.508\tAUCUGGCUUCCCAGGCGGAAGAAAGCUUCGUAGAAGCUGAGUAAUAAGGCUUGAUAACUCCCCCAAAAUAGUUCGAG\n"
       ]
      },
      {
       "output_type": "stream",
       "stream": "stdout",
       "text": [
        ">gi|556503834|ref|NC_000913.3| Escherichia coli str. K-12 substr. MG1655, complete genome START: 000197340 END: 000197417 LEN: 77 SCORE: 1.133 SCORE: 0.069\tGAUAACCCGGGUAAAUCCUUAGCGUUAGAAAUCGAAAGGCAGGGGAGUCCCUUGUCUUUGACAUUAAUCCCGGAGAG\n"
       ]
      },
      {
       "output_type": "stream",
       "stream": "stdout",
       "text": [
        ">gi|556503834|ref|NC_000913.3| Escherichia coli str. K-12 substr. MG1655, complete genome START: 000197345 END: 000197422 LEN: 77 SCORE: 1.133 SCORE: 0.040\tCCCGGGUAAAUCCUUAGCGUUAGAAAUCGAAAGGCAGGGGAGUCCCUUGUCUUUGACAUUAAUCCCGGAGAGUAAAC\n"
       ]
      },
      {
       "output_type": "stream",
       "stream": "stdout",
       "text": [
        ">gi|556503834|ref|NC_000913.3| Escherichia coli str. K-12 substr. MG1655, complete genome START: 000206725 END: 000206802 LEN: 77 SCORE: 0.542 SCORE: 0.310\tGCAAACAUCCGGUCACCCAGUUUGAUAAAAGCGACGUUGAAUACGCCGGACUGGUGAAGUUCGACUUCCUUGGUUUG\n"
       ]
      },
      {
       "output_type": "stream",
       "stream": "stdout",
       "text": [
        ">gi|556503834|ref|NC_000913.3| Escherichia coli str. K-12 substr. MG1655, complete genome START: 000218360 END: 000218437 LEN: 77 SCORE: 1.133 SCORE: 0.109\tACUUGGUCUGGAUCUGAUAGAAGUUCAGCGGCAGCUGUUUGUAAGAGCUAAGCUCGUUACGAAUCAGGUCAGUGAUA\n"
       ]
      },
      {
       "output_type": "stream",
       "stream": "stdout",
       "text": [
        ">gi|556503834|ref|NC_000913.3| Escherichia coli str. K-12 substr. MG1655, complete genome START: 000218375 END: 000218452 LEN: 77 SCORE: 1.129 SCORE: 0.284\tGAUAGAAGUUCAGCGGCAGCUGUUUGUAAGAGCUAAGCUCGUUACGAAUCAGGUCAGUGAUAACUUCUUCAUGAGUU\n"
       ]
      },
      {
       "output_type": "stream",
       "stream": "stdout",
       "text": [
        ">gi|556503834|ref|NC_000913.3| Escherichia coli str. K-12 substr. MG1655, complete genome START: 000225375 END: 000225452 LEN: 77 SCORE: 1.350 SCORE: 0.338\tUCUACAGGCUUGUAGCUCAGGUGGUUAGAGCGCACCCCUGAUAAGGGUGAGGUCGGUGGUUCAAGUCCACUCAGGCC\n"
       ]
      },
      {
       "output_type": "stream",
       "stream": "stdout",
       "text": [
        ">gi|556503834|ref|NC_000913.3| Escherichia coli str. K-12 substr. MG1655, complete genome START: 000225380 END: 000225457 LEN: 77 SCORE: 1.368 SCORE: 1.103\tAGGCUUGUAGCUCAGGUGGUUAGAGCGCACCCCUGAUAAGGGUGAGGUCGGUGGUUCAAGUCCACUCAGGCCUACCA\n"
       ]
      },
      {
       "output_type": "stream",
       "stream": "stdout",
       "text": [
        ">gi|556503834|ref|NC_000913.3| Escherichia coli str. K-12 substr. MG1655, complete genome START: 000225405 END: 000225482 LEN: 77 SCORE: 0.944 SCORE: 0.338\tCGCACCCCUGAUAAGGGUGAGGUCGGUGGUUCAAGUCCACUCAGGCCUACCAAAUUUGCACGGCAAAUUUGAAGAGG\n"
       ]
      },
      {
       "output_type": "stream",
       "stream": "stdout",
       "text": [
        ">gi|556503834|ref|NC_000913.3| Escherichia coli str. K-12 substr. MG1655, complete genome START: 000225495 END: 000225572 LEN: 77 SCORE: 1.218 SCORE: 0.416\tUUAUGGGGCUAUAGCUCAGCUGGGAGAGCGCCUGCUUUGCACGCAGGAGGUCUGCGGUUCGAUCCCGCAUAGCUCCA\n"
       ]
      },
      {
       "output_type": "stream",
       "stream": "stdout",
       "text": [
        ">gi|556503834|ref|NC_000913.3| Escherichia coli str. K-12 substr. MG1655, complete genome START: 000228925 END: 000229002 LEN: 77 SCORE: 2.081 SCORE: 0.484\tGUGGAGCGGUAGUUCAGUCGGUUAGAAUACCUGCCUGUCACGCAGGGGGUCGCGGGUUCGAGUCCCGUCCGUUCCGC\n"
       ]
      },
      {
       "output_type": "stream",
       "stream": "stdout",
       "text": [
        ">gi|556503834|ref|NC_000913.3| Escherichia coli str. K-12 substr. MG1655, complete genome START: 000228930 END: 000229007 LEN: 77 SCORE: 1.031 SCORE: 0.586\tGCGGUAGUUCAGUCGGUUAGAAUACCUGCCUGUCACGCAGGGGGUCGCGGGUUCGAGUCCCGUCCGUUCCGCCACUU\n"
       ]
      },
      {
       "output_type": "stream",
       "stream": "stdout",
       "text": [
        ">gi|556503834|ref|NC_000913.3| Escherichia coli str. K-12 substr. MG1655, complete genome START: 000236930 END: 000237007 LEN: 77 SCORE: 2.100 SCORE: 0.483\tGGAGCGGUAGUUCAGUCGGUUAGAAUACCUGCCUGUCACGCAGGGGGUCGCGGGUUCGAGUCCCGUCCGUUCCGCCA\n"
       ]
      },
      {
       "output_type": "stream",
       "stream": "stdout",
       "text": [
        ">gi|556503834|ref|NC_000913.3| Escherichia coli str. K-12 substr. MG1655, complete genome START: 000236935 END: 000237012 LEN: 77 SCORE: 1.000 SCORE: 0.202\tGGUAGUUCAGUCGGUUAGAAUACCUGCCUGUCACGCAGGGGGUCGCGGGUUCGAGUCCCGUCCGUUCCGCCACUAUU\n"
       ]
      },
      {
       "output_type": "stream",
       "stream": "stdout",
       "text": [
        ">gi|556503834|ref|NC_000913.3| Escherichia coli str. K-12 substr. MG1655, complete genome START: 000237525 END: 000237602 LEN: 77 SCORE: 1.162 SCORE: 0.114\tGGAUAUUCAAGCUGCGCUUGAUGGAGAUGAGUUCCGCGUUCCCCUUAAUUCUCCUGUAAUACUUGUUCAAUCCGGCA\n"
       ]
      },
      {
       "output_type": "stream",
       "stream": "stdout",
       "text": [
        ">gi|556503834|ref|NC_000913.3| Escherichia coli str. K-12 substr. MG1655, complete genome START: 000246490 END: 000246567 LEN: 77 SCORE: 1.011 SCORE: 0.297\tGUUAGCAGCCAUUGGGGUAUCUCCUGUGCUGUAUAUUUAUUCAGCUUGAAUUGUAGCUCAAAUGAGCAACAGCGACA\n"
       ]
      },
      {
       "output_type": "stream",
       "stream": "stdout",
       "text": [
        ">gi|556503834|ref|NC_000913.3| Escherichia coli str. K-12 substr. MG1655, complete genome START: 000259235 END: 000259312 LEN: 77 SCORE: 2.026 SCORE: 0.243\tAUAAGACAUAACCCAGCGAUGGACGCAGACCAAAGUCAAACUGGUAUUGAGCGACCGCUUCAAAGUUCUGUGUCUUA\n"
       ]
      },
      {
       "output_type": "stream",
       "stream": "stdout",
       "text": [
        ">gi|556503834|ref|NC_000913.3| Escherichia coli str. K-12 substr. MG1655, complete genome START: 000262850 END: 000262927 LEN: 77 SCORE: 0.941 SCORE: 0.068\tCGUGAACAUGUCCUUUCAGGGCCGAUAUAGCUCAGUUGGUAGAGCAGCGCAUUCGUAAUGCGAAGGUCGUAGGUUCG\n"
       ]
      },
      {
       "output_type": "stream",
       "stream": "stdout",
       "text": [
        ">gi|556503834|ref|NC_000913.3| Escherichia coli str. K-12 substr. MG1655, complete genome START: 000262865 END: 000262942 LEN: 77 SCORE: 1.024 SCORE: 0.220\tUCAGGGCCGAUAUAGCUCAGUUGGUAGAGCAGCGCAUUCGUAAUGCGAAGGUCGUAGGUUCGACUCCUAUUAUCGGC\n"
       ]
      },
      {
       "output_type": "stream",
       "stream": "stdout",
       "text": [
        ">gi|556503834|ref|NC_000913.3| Escherichia coli str. K-12 substr. MG1655, complete genome START: 000262870 END: 000262947 LEN: 77 SCORE: 1.047 SCORE: 0.542\tGCCGAUAUAGCUCAGUUGGUAGAGCAGCGCAUUCGUAAUGCGAAGGUCGUAGGUUCGACUCCUAUUAUCGGCACCAU\n"
       ]
      },
      {
       "output_type": "stream",
       "stream": "stdout",
       "text": [
        ">gi|556503834|ref|NC_000913.3| Escherichia coli str. K-12 substr. MG1655, complete genome START: 000293440 END: 000293517 LEN: 77 SCORE: 1.144 SCORE: 0.266\tAAAAAGACAAGCAACUUUCAGCAGAAGGCUCUAUCCUUGAAGCUGGAUGGUAGCUGUAGAUAAACAUUUCUUUUUGA\n"
       ]
      },
      {
       "output_type": "stream",
       "stream": "stdout",
       "text": [
        ">gi|556503834|ref|NC_000913.3| Escherichia coli str. K-12 substr. MG1655, complete genome START: 000297175 END: 000297252 LEN: 77 SCORE: 0.605 SCORE: 0.233\tUUGCUCAAGUAGUUAAAAAUGCAUUAACAUCGCAUUCGUAAUGCGAAGGUCGUAGGUUCGACUCCUAUUAUCGGCAC\n"
       ]
      },
      {
       "output_type": "stream",
       "stream": "stdout",
       "text": [
        ">gi|556503834|ref|NC_000913.3| Escherichia coli str. K-12 substr. MG1655, complete genome START: 000297180 END: 000297257 LEN: 77 SCORE: 0.942 SCORE: 0.370\tCAAGUAGUUAAAAAUGCAUUAACAUCGCAUUCGUAAUGCGAAGGUCGUAGGUUCGACUCCUAUUAUCGGCACCAUUA\n"
       ]
      },
      {
       "output_type": "stream",
       "stream": "stdout",
       "text": [
        ">gi|556503834|ref|NC_000913.3| Escherichia coli str. K-12 substr. MG1655, complete genome START: 000345380 END: 000345457 LEN: 77 SCORE: 2.044 SCORE: 0.009\tAUGGUACGGGGUUCGAGGCCUCGAUGGCGGUCCAACUUUUCAAAACUCUUCUGAAUCAGAUCCCCUUAUUAUCAUCC\n"
       ]
      },
      {
       "output_type": "stream",
       "stream": "stdout",
       "text": [
        ">gi|556503834|ref|NC_000913.3| Escherichia coli str. K-12 substr. MG1655, complete genome START: 000358685 END: 000358762 LEN: 77 SCORE: 0.807 SCORE: 0.136\tAGCAUUCGCAACCUAUAAGUAAAUCCAAUGGAACUCAUCAUAAAUGAGACUUUUACCUUAUGACAAUCGGCGAGUAG\n"
       ]
      },
      {
       "output_type": "stream",
       "stream": "stdout",
       "text": [
        ">gi|556503834|ref|NC_000913.3| Escherichia coli str. K-12 substr. MG1655, complete genome START: 000402805 END: 000402882 LEN: 77 SCORE: 1.164 SCORE: 0.052\tGCUGCGAAUCCUUGUGGGCAAAUUGGCGAGACGGUCGAUCUCGAUGAAGCCGUACAACGGGCGCUGGAAUUCGCUAA\n"
       ]
      },
      {
       "output_type": "stream",
       "stream": "stdout",
       "text": [
        ">gi|556503834|ref|NC_000913.3| Escherichia coli str. K-12 substr. MG1655, complete genome START: 000442630 END: 000442707 LEN: 77 SCORE: 1.164 SCORE: 0.089\tAGCGGAAGAAGAGAAGUUCGACUUCAGCAUUCUCGAUAAAGUGGUUGAGGAAGCGAAUAACGUUGAUAUCCGCGAAA\n"
       ]
      },
      {
       "output_type": "stream",
       "stream": "stdout",
       "text": [
        ">gi|556503834|ref|NC_000913.3| Escherichia coli str. K-12 substr. MG1655, complete genome START: 000564715 END: 000564792 LEN: 77 SCORE: 1.419 SCORE: 1.700\tUAUCAACGCGCCCUUAGCUCAGUUGGAUAGAGCAACGACCUUCUAAGUCGUGGGCCGCAGGUUCGAAUCCUGCAGGG\n"
       ]
      },
      {
       "output_type": "stream",
       "stream": "stdout",
       "text": [
        ">gi|556503834|ref|NC_000913.3| Escherichia coli str. K-12 substr. MG1655, complete genome START: 000564720 END: 000564797 LEN: 77 SCORE: 2.061 SCORE: 1.858\tACGCGCCCUUAGCUCAGUUGGAUAGAGCAACGACCUUCUAAGUCGUGGGCCGCAGGUUCGAAUCCUGCAGGGCGCGC\n"
       ]
      },
      {
       "output_type": "stream",
       "stream": "stdout",
       "text": [
        ">gi|556503834|ref|NC_000913.3| Escherichia coli str. K-12 substr. MG1655, complete genome START: 000564735 END: 000564812 LEN: 77 SCORE: 1.031 SCORE: 0.680\tAGUUGGAUAGAGCAACGACCUUCUAAGUCGUGGGCCGCAGGUUCGAAUCCUGCAGGGCGCGCCAUUACAAUUCAAUC\n"
       ]
      },
      {
       "output_type": "stream",
       "stream": "stdout",
       "text": [
        ">gi|556503834|ref|NC_000913.3| Escherichia coli str. K-12 substr. MG1655, complete genome START: 000564740 END: 000564817 LEN: 77 SCORE: 1.011 SCORE: 0.617\tGAUAGAGCAACGACCUUCUAAGUCGUGGGCCGCAGGUUCGAAUCCUGCAGGGCGCGCCAUUACAAUUCAAUCAGUUA\n"
       ]
      },
      {
       "output_type": "stream",
       "stream": "stdout",
       "text": [
        ">gi|556503834|ref|NC_000913.3| Escherichia coli str. K-12 substr. MG1655, complete genome START: 000579460 END: 000579537 LEN: 77 SCORE: 1.155 SCORE: 0.131\tUGAAUAUUAUCUGUGGCUAGAUAGUAAAUAUAAUGUGAGACAUUGUGACGUUUUAGUUCAGAAUAAAACAAUUCACA\n"
       ]
      },
      {
       "output_type": "stream",
       "stream": "stdout",
       "text": [
        ">gi|556503834|ref|NC_000913.3| Escherichia coli str. K-12 substr. MG1655, complete genome START: 000586020 END: 000586097 LEN: 77 SCORE: 1.011 SCORE: 0.994\tGCGGUAAGUUGUUGACUUAAAAUGUCGUUCUAGGAACUUCUAAGUCGUGGGCCGCAGGUUCGAAUCCUGCAGGGCGC\n"
       ]
      },
      {
       "output_type": "stream",
       "stream": "stdout",
       "text": [
        ">gi|556503834|ref|NC_000913.3| Escherichia coli str. K-12 substr. MG1655, complete genome START: 000638840 END: 000638917 LEN: 77 SCORE: 1.133 SCORE: 0.496\tAAGGUUGUAAGGUAAAACUUAUCGAUUUGAUAAUGGAAACGCAUUAGCCGAAUCGGCAAAAAUUGGUUACCUUACAU\n"
       ]
      },
      {
       "output_type": "stream",
       "stream": "stdout",
       "text": [
        ">gi|556503834|ref|NC_000913.3| Escherichia coli str. K-12 substr. MG1655, complete genome START: 000638845 END: 000638922 LEN: 77 SCORE: 1.133 SCORE: 0.371\tUGUAAGGUAAAACUUAUCGAUUUGAUAAUGGAAACGCAUUAGCCGAAUCGGCAAAAAUUGGUUACCUUACAUCUCAU\n"
       ]
      },
      {
       "output_type": "stream",
       "stream": "stdout",
       "text": [
        ">gi|556503834|ref|NC_000913.3| Escherichia coli str. K-12 substr. MG1655, complete genome START: 000646730 END: 000646807 LEN: 77 SCORE: 0.368 SCORE: 0.259\tUCGAGAUCGGCGGGGGUUCGAAUGCCCCCUUUUUGCAAUAAUGUUUGCGCCUCGCGCUGUAGCCAGCGCAGGCCCCC\n"
       ]
      },
      {
       "output_type": "stream",
       "stream": "stdout",
       "text": [
        ">gi|556503834|ref|NC_000913.3| Escherichia coli str. K-12 substr. MG1655, complete genome START: 000646735 END: 000646812 LEN: 77 SCORE: 0.960 SCORE: 0.224\tAUCGGCGGGGGUUCGAAUGCCCCCUUUUUGCAAUAAUGUUUGCGCCUCGCGCUGUAGCCAGCGCAGGCCCCCCUCGC\n"
       ]
      },
      {
       "output_type": "stream",
       "stream": "stdout",
       "text": [
        ">gi|556503834|ref|NC_000913.3| Escherichia coli str. K-12 substr. MG1655, complete genome START: 000682225 END: 000682302 LEN: 77 SCORE: 0.745 SCORE: 0.086\tACACGGGCACAGUGGUGUUUCGUUCAAUAAUCGGCGAGAAAAUGCCGGAAACGCCCUGGCGGUUAACUUCAACGCCC\n"
       ]
      },
      {
       "output_type": "stream",
       "stream": "stdout",
       "text": [
        ">gi|556503834|ref|NC_000913.3| Escherichia coli str. K-12 substr. MG1655, complete genome START: 000696430 END: 000696507 LEN: 77 SCORE: 1.085 SCORE: 0.297\tGGCUGGGGUACGAGGAUUCGAACCUCGGAAUGCCGGAAUCAGAAUCCGGUGCCUUACCGCUUGGCGAUACCCCAACU\n"
       ]
      },
      {
       "output_type": "stream",
       "stream": "stdout",
       "text": [
        ">gi|556503834|ref|NC_000913.3| Escherichia coli str. K-12 substr. MG1655, complete genome START: 000696435 END: 000696512 LEN: 77 SCORE: 0.861 SCORE: 0.093\tGGGUACGAGGAUUCGAACCUCGGAAUGCCGGAAUCAGAAUCCGGUGCCUUACCGCUUGGCGAUACCCCAACUGGGUG\n"
       ]
      },
      {
       "output_type": "stream",
       "stream": "stdout",
       "text": [
        ">gi|556503834|ref|NC_000913.3| Escherichia coli str. K-12 substr. MG1655, complete genome START: 000696540 END: 000696617 LEN: 77 SCORE: 2.100 SCORE: 0.373\tUUGGCUGGGGUACGAGGAUUCGAACCUCGGAAUGCCGGAAUCAGAAUCCGGUGCCUUACCGCUUGGCGAUACCCCAA\n"
       ]
      },
      {
       "output_type": "stream",
       "stream": "stdout",
       "text": [
        ">gi|556503834|ref|NC_000913.3| Escherichia coli str. K-12 substr. MG1655, complete genome START: 000696545 END: 000696622 LEN: 77 SCORE: 2.100 SCORE: 0.473\tUGGGGUACGAGGAUUCGAACCUCGGAAUGCCGGAAUCAGAAUCCGGUGCCUUACCGCUUGGCGAUACCCCAACAAAU\n"
       ]
      },
      {
       "output_type": "stream",
       "stream": "stdout",
       "text": [
        ">gi|556503834|ref|NC_000913.3| Escherichia coli str. K-12 substr. MG1655, complete genome START: 000696755 END: 000696832 LEN: 77 SCORE: 0.981 SCORE: 0.434\tUGGCUGGGGUACCUGGAUUCGAACCAGGGAAUGCCGGUAUCAAAAACCGGUGCCUUACCGCUUGGCGAUACCCCAAU\n"
       ]
      },
      {
       "output_type": "stream",
       "stream": "stdout",
       "text": [
        ">gi|556503834|ref|NC_000913.3| Escherichia coli str. K-12 substr. MG1655, complete genome START: 000696760 END: 000696837 LEN: 77 SCORE: 1.017 SCORE: 0.607\tGGGGUACCUGGAUUCGAACCAGGGAAUGCCGGUAUCAAAAACCGGUGCCUUACCGCUUGGCGAUACCCCAAUAACCG\n"
       ]
      },
      {
       "output_type": "stream",
       "stream": "stdout",
       "text": [
        ">gi|556503834|ref|NC_000913.3| Escherichia coli str. K-12 substr. MG1655, complete genome START: 000696865 END: 000696942 LEN: 77 SCORE: 1.012 SCORE: 0.508\tGGCUGGGGUACCUGGAUUCGAACCAGGGAAUGCCGGUAUCAAAAACCGGUGCCUUACCGCUUGGCGAUACCCCAUCC\n"
       ]
      },
      {
       "output_type": "stream",
       "stream": "stdout",
       "text": [
        ">gi|556503834|ref|NC_000913.3| Escherichia coli str. K-12 substr. MG1655, complete genome START: 000736375 END: 000736452 LEN: 77 SCORE: 1.013 SCORE: 0.177\tUUAUUGUCUAAAGCUGUUUUUCAUAGCUUAUACAUGAUCAAAUACUCCUUACAUAAAUAAGGUGAACAAAUGGAACU\n"
       ]
      },
      {
       "output_type": "stream",
       "stream": "stdout",
       "text": [
        ">gi|556503834|ref|NC_000913.3| Escherichia coli str. K-12 substr. MG1655, complete genome START: 000736380 END: 000736457 LEN: 77 SCORE: 1.013 SCORE: 0.354\tGUCUAAAGCUGUUUUUCAUAGCUUAUACAUGAUCAAAUACUCCUUACAUAAAUAAGGUGAACAAAUGGAACUUAAAA\n"
       ]
      },
      {
       "output_type": "stream",
       "stream": "stdout",
       "text": [
        ">gi|556503834|ref|NC_000913.3| Escherichia coli str. K-12 substr. MG1655, complete genome START: 000764710 END: 000764787 LEN: 77 SCORE: 1.420 SCORE: 0.269\tAUCGGCGGUGACCCGAUCCCGGGCUCUAACUUUAUCGACAUUCUCGAAAUGUUCGAAAAAGAUCCGCAGACCGAAGC\n"
       ]
      },
      {
       "output_type": "stream",
       "stream": "stdout",
       "text": [
        ">gi|556503834|ref|NC_000913.3| Escherichia coli str. K-12 substr. MG1655, complete genome START: 000766300 END: 000766377 LEN: 77 SCORE: 1.205 SCORE: 0.092\tGCUUCAGUGGGAAGGCGUUGAUGGCCCGGAAGCAGUUGAUUUAGUGGUGCUGCUGGCGAUUCCCCCCAAUGAAGCGG\n"
       ]
      },
      {
       "output_type": "stream",
       "stream": "stdout",
       "text": [
        ">gi|556503834|ref|NC_000913.3| Escherichia coli str. K-12 substr. MG1655, complete genome START: 000780550 END: 000780627 LEN: 77 SCORE: 1.200 SCORE: 1.772\tAGUGGGUCGUUAGCUCAGUUGGUAGAGCAGUUGACUUUUAAUCAAUUGGUCGCAGGUUCGAAUCCUGCACGACCCAC\n"
       ]
      },
      {
       "output_type": "stream",
       "stream": "stdout",
       "text": [
        ">gi|556503834|ref|NC_000913.3| Escherichia coli str. K-12 substr. MG1655, complete genome START: 000780570 END: 000780647 LEN: 77 SCORE: 0.389 SCORE: 1.265\tGGUAGAGCAGUUGACUUUUAAUCAAUUGGUCGCAGGUUCGAAUCCUGCACGACCCACCAAUCGCUAAGGUGGAAGCG\n"
       ]
      },
      {
       "output_type": "stream",
       "stream": "stdout",
       "text": [
        ">gi|556503834|ref|NC_000913.3| Escherichia coli str. K-12 substr. MG1655, complete genome START: 000780760 END: 000780837 LEN: 77 SCORE: 2.063 SCORE: 0.361\tUAUCGGGUGAUUAGCUCAGCUGGGAGAGCACCUCCCUUACAAGGAGGGGGUCGGCGGUUCGAUCCCGUCAUCACCCA\n"
       ]
      },
      {
       "output_type": "stream",
       "stream": "stdout",
       "text": [
        ">gi|556503834|ref|NC_000913.3| Escherichia coli str. K-12 substr. MG1655, complete genome START: 000780765 END: 000780842 LEN: 77 SCORE: 1.012 SCORE: 0.560\tGGUGAUUAGCUCAGCUGGGAGAGCACCUCCCUUACAAGGAGGGGGUCGGCGGUUCGAUCCCGUCAUCACCCACCACC\n"
       ]
      },
      {
       "output_type": "stream",
       "stream": "stdout",
       "text": [
        ">gi|556503834|ref|NC_000913.3| Escherichia coli str. K-12 substr. MG1655, complete genome START: 000780780 END: 000780857 LEN: 77 SCORE: 0.571 SCORE: 0.178\tUGGGAGAGCACCUCCCUUACAAGGAGGGGGUCGGCGGUUCGAUCCCGUCAUCACCCACCACCGGGUCGUUAGCUCAG\n"
       ]
      },
      {
       "output_type": "stream",
       "stream": "stdout",
       "text": [
        ">gi|556503834|ref|NC_000913.3| Escherichia coli str. K-12 substr. MG1655, complete genome START: 000780785 END: 000780862 LEN: 77 SCORE: 1.218 SCORE: 0.420\tGAGCACCUCCCUUACAAGGAGGGGGUCGGCGGUUCGAUCCCGUCAUCACCCACCACCGGGUCGUUAGCUCAGUUGGU\n"
       ]
      },
      {
       "output_type": "stream",
       "stream": "stdout",
       "text": [
        ">gi|556503834|ref|NC_000913.3| Escherichia coli str. K-12 substr. MG1655, complete genome START: 000780795 END: 000780872 LEN: 77 SCORE: 0.412 SCORE: 0.109\tCUUACAAGGAGGGGGUCGGCGGUUCGAUCCCGUCAUCACCCACCACCGGGUCGUUAGCUCAGUUGGUAGAGCAGUUG\n"
       ]
      },
      {
       "output_type": "stream",
       "stream": "stdout",
       "text": [
        ">gi|556503834|ref|NC_000913.3| Escherichia coli str. K-12 substr. MG1655, complete genome START: 000780840 END: 000780917 LEN: 77 SCORE: 1.205 SCORE: 1.319\tCCGGGUCGUUAGCUCAGUUGGUAGAGCAGUUGACUUUUAAUCAAUUGGUCGCAGGUUCGAAUCCUGCACGACCCACC\n"
       ]
      },
      {
       "output_type": "stream",
       "stream": "stdout",
       "text": [
        ">gi|556503834|ref|NC_000913.3| Escherichia coli str. K-12 substr. MG1655, complete genome START: 000780855 END: 000780932 LEN: 77 SCORE: 0.516 SCORE: 1.275\tAGUUGGUAGAGCAGUUGACUUUUAAUCAAUUGGUCGCAGGUUCGAAUCCUGCACGACCCACCAGUUUUAACAUCGAA\n"
       ]
      },
      {
       "output_type": "stream",
       "stream": "stdout",
       "text": [
        ">gi|556503834|ref|NC_000913.3| Escherichia coli str. K-12 substr. MG1655, complete genome START: 000781065 END: 000781142 LEN: 77 SCORE: 2.063 SCORE: 0.322\tUCGGGUGAUUAGCUCAGCUGGGAGAGCACCUCCCUUACAAGGAGGGGGUCGGCGGUUCGAUCCCGUCAUCACCCACC\n"
       ]
      },
      {
       "output_type": "stream",
       "stream": "stdout",
       "text": [
        ">gi|556503834|ref|NC_000913.3| Escherichia coli str. K-12 substr. MG1655, complete genome START: 000781085 END: 000781162 LEN: 77 SCORE: 1.218 SCORE: 0.417\tGGAGAGCACCUCCCUUACAAGGAGGGGGUCGGCGGUUCGAUCCCGUCAUCACCCACCACUCGGGUCGUUAGCUCAGU\n"
       ]
      },
      {
       "output_type": "stream",
       "stream": "stdout",
       "text": [
        ">gi|556503834|ref|NC_000913.3| Escherichia coli str. K-12 substr. MG1655, complete genome START: 000781100 END: 000781177 LEN: 77 SCORE: 0.389 SCORE: 0.307\tUACAAGGAGGGGGUCGGCGGUUCGAUCCCGUCAUCACCCACCACUCGGGUCGUUAGCUCAGUUGGUAGAGCAGUUGA\n"
       ]
      },
      {
       "output_type": "stream",
       "stream": "stdout",
       "text": [
        ">gi|556503834|ref|NC_000913.3| Escherichia coli str. K-12 substr. MG1655, complete genome START: 000781145 END: 000781222 LEN: 77 SCORE: 1.205 SCORE: 1.389\tCGGGUCGUUAGCUCAGUUGGUAGAGCAGUUGACUUUUAAUCAAUUGGUCGCAGGUUCGAAUCCUGCACGACCCACCA\n"
       ]
      },
      {
       "output_type": "stream",
       "stream": "stdout",
       "text": [
        ">gi|556503834|ref|NC_000913.3| Escherichia coli str. K-12 substr. MG1655, complete genome START: 000781160 END: 000781237 LEN: 77 SCORE: 0.516 SCORE: 1.142\tGUUGGUAGAGCAGUUGACUUUUAAUCAAUUGGUCGCAGGUUCGAAUCCUGCACGACCCACCAGUUUUAACAUCAAAC\n"
       ]
      },
      {
       "output_type": "stream",
       "stream": "stdout",
       "text": [
        ">gi|556503834|ref|NC_000913.3| Escherichia coli str. K-12 substr. MG1655, complete genome START: 000781365 END: 000781442 LEN: 77 SCORE: 1.205 SCORE: 1.375\tUAUGGGUCGUUAGCUCAGUUGGUAGAGCAGUUGACUUUUAAUCAAUUGGUCGCAGGUUCGAAUCCUGCACGACCCAC\n"
       ]
      },
      {
       "output_type": "stream",
       "stream": "stdout",
       "text": [
        ">gi|556503834|ref|NC_000913.3| Escherichia coli str. K-12 substr. MG1655, complete genome START: 000781385 END: 000781462 LEN: 77 SCORE: 0.389 SCORE: 1.313\tGGUAGAGCAGUUGACUUUUAAUCAAUUGGUCGCAGGUUCGAAUCCUGCACGACCCACCAAUUUAAAGGUGGUUACUG\n"
       ]
      },
      {
       "output_type": "stream",
       "stream": "stdout",
       "text": [
        ">gi|556503834|ref|NC_000913.3| Escherichia coli str. K-12 substr. MG1655, complete genome START: 000781570 END: 000781647 LEN: 77 SCORE: 1.031 SCORE: 1.881\tCGCAAGGGGUCGUUAGCUCAGUUGGUAGAGCAGUUGACUUUUAAUCAAUUGGUCGCAGGUUCGAAUCCUGCACGACC\n"
       ]
      },
      {
       "output_type": "stream",
       "stream": "stdout",
       "text": [
        ">gi|556503834|ref|NC_000913.3| Escherichia coli str. K-12 substr. MG1655, complete genome START: 000781575 END: 000781652 LEN: 77 SCORE: 1.187 SCORE: 1.287\tGGGGUCGUUAGCUCAGUUGGUAGAGCAGUUGACUUUUAAUCAAUUGGUCGCAGGUUCGAAUCCUGCACGACCCACCA\n"
       ]
      },
      {
       "output_type": "stream",
       "stream": "stdout",
       "text": [
        ">gi|556503834|ref|NC_000913.3| Escherichia coli str. K-12 substr. MG1655, complete genome START: 000805185 END: 000805262 LEN: 77 SCORE: 1.162 SCORE: 0.290\tUCUUCUUAUCGUUCAAAUCCGAUUGGUCUGGCGGAGUUUACCCUGUCUCGCCGCGAUCCCGGUUAUGUUAGCAGAAG\n"
       ]
      },
      {
       "output_type": "stream",
       "stream": "stdout",
       "text": [
        ">gi|556503834|ref|NC_000913.3| Escherichia coli str. K-12 substr. MG1655, complete genome START: 000815425 END: 000815502 LEN: 77 SCORE: 1.006 SCORE: 0.114\tAGAAAAUCCAUGAGCUGGAAGGGUUGAUGAUGCAACACGCGCAGAAUCUGGAGUUCGAAGAAGCGGCGCAAAUUCGU\n"
       ]
      },
      {
       "output_type": "stream",
       "stream": "stdout",
       "text": [
        ">gi|556503834|ref|NC_000913.3| Escherichia coli str. K-12 substr. MG1655, complete genome START: 000825095 END: 000825172 LEN: 77 SCORE: 0.714 SCORE: 0.005\tAGACUCGCAUCCUUCAAAUAAAUCUGCUUGGUAAUGUCCGUAAAGUGGCGAAUAGGGUUAAUCCACGUCAGGUUUUG\n"
       ]
      },
      {
       "output_type": "stream",
       "stream": "stdout",
       "text": [
        ">gi|556503834|ref|NC_000913.3| Escherichia coli str. K-12 substr. MG1655, complete genome START: 000827060 END: 000827137 LEN: 77 SCORE: 1.129 SCORE: 0.148\tGCUACGCUGUUCCAGUAAAAUCCCGACCCGCAGCUUGCUGGAGUCGAGGUUAAUGCCGUAACCAAAAAUAAACAGCA\n"
       ]
      },
      {
       "output_type": "stream",
       "stream": "stdout",
       "text": [
        ">gi|556503834|ref|NC_000913.3| Escherichia coli str. K-12 substr. MG1655, complete genome START: 000827065 END: 000827142 LEN: 77 SCORE: 1.129 SCORE: 0.126\tGCUGUUCCAGUAAAAUCCCGACCCGCAGCUUGCUGGAGUCGAGGUUAAUGCCGUAACCAAAAAUAAACAGCAGUAGC\n"
       ]
      },
      {
       "output_type": "stream",
       "stream": "stdout",
       "text": [
        ">gi|556503834|ref|NC_000913.3| Escherichia coli str. K-12 substr. MG1655, complete genome START: 000915190 END: 000915267 LEN: 77 SCORE: 0.855 SCORE: 0.242\tGGGGGUGCAGGGGGCGGCGGCGAUUGGCCGCCCCCUGCGCGCUCCUUGCGCCAGUGGCAAUAUGUUGCUUAGCUCAU\n"
       ]
      },
      {
       "output_type": "stream",
       "stream": "stdout",
       "text": [
        ">gi|556503834|ref|NC_000913.3| Escherichia coli str. K-12 substr. MG1655, complete genome START: 000945355 END: 000945432 LEN: 77 SCORE: 1.129 SCORE: 0.052\tAUGGGCCGUUAGGACCGGUUUCAAAACUGGUGGUAAGAAUAGUUGGUAAGUUGAAAUACUUAGCCAGGUCACCCAGC\n"
       ]
      },
      {
       "output_type": "stream",
       "stream": "stdout",
       "text": [
        ">gi|556503834|ref|NC_000913.3| Escherichia coli str. K-12 substr. MG1655, complete genome START: 001011115 END: 001011192 LEN: 77 SCORE: 1.129 SCORE: 0.380\tGCUUAUUUCGAUCAGCACCGCGCGGAACUGGAUCCCGAUAAAACGGUGAUGGAUAACCUUGCCGAAGGUAAGCAAGA\n"
       ]
      },
      {
       "output_type": "stream",
       "stream": "stdout",
       "text": [
        ">gi|556503834|ref|NC_000913.3| Escherichia coli str. K-12 substr. MG1655, complete genome START: 001017130 END: 001017207 LEN: 77 SCORE: 1.326 SCORE: 0.040\tUUGCGUUCGAUGUCGGUGAAUUCACCAUCGCCAAUAUGCACAACGCAGCUAAUGCGAGAAGGUUCGCCAAAAGCGCG\n"
       ]
      },
      {
       "output_type": "stream",
       "stream": "stdout",
       "text": [
        ">gi|556503834|ref|NC_000913.3| Escherichia coli str. K-12 substr. MG1655, complete genome START: 001017240 END: 001017317 LEN: 77 SCORE: 0.925 SCORE: 0.264\tGUUAAUUUGCCCGAUGCGUUCGCCUUCGGUUUCAAUCAGGAUUUGCUCCUGAAGGAUCUCAUCCUGCAUACGUUCAG\n"
       ]
      },
      {
       "output_type": "stream",
       "stream": "stdout",
       "text": [
        ">gi|556503834|ref|NC_000913.3| Escherichia coli str. K-12 substr. MG1655, complete genome START: 001018925 END: 001019002 LEN: 77 SCORE: 1.048 SCORE: 0.243\tGGUAAGGAAUAACUGACGAAAGUCAGUUCAAUUUACUAAAGGCAAAAAAAACCCCGCAGCAGCGGGGUUUUUCUACC\n"
       ]
      },
      {
       "output_type": "stream",
       "stream": "stdout",
       "text": [
        ">gi|556503834|ref|NC_000913.3| Escherichia coli str. K-12 substr. MG1655, complete genome START: 001051575 END: 001051652 LEN: 77 SCORE: 1.031 SCORE: 0.094\tGCAAUGAAUUCCGCACGCUGAACGAAAAUCAGAAAGUUGAAUUUUCUAUUGAGCAGGGGCAACGUGGCCCCGCGGCA\n"
       ]
      },
      {
       "output_type": "stream",
       "stream": "stdout",
       "text": [
        ">gi|556503834|ref|NC_000913.3| Escherichia coli str. K-12 substr. MG1655, complete genome START: 001101005 END: 001101082 LEN: 77 SCORE: 1.151 SCORE: 0.469\tCAGGUUCGUUCGAGGUGUAACCCACUUCCCCUUCAAGCAAGCGCUGGUAGUCAAUAAAGCGGAAAACCCCGGCCUGA\n"
       ]
      },
      {
       "output_type": "stream",
       "stream": "stdout",
       "text": [
        ">gi|556503834|ref|NC_000913.3| Escherichia coli str. K-12 substr. MG1655, complete genome START: 001103365 END: 001103442 LEN: 77 SCORE: 1.133 SCORE: 0.291\tAUCUUAAAUCAAGUGUUAAACAUGUAACUAAAUGUAACUCGUUAUAUUAAAAUGUUAACCUUAAGGUUUUAUUAAGU\n"
       ]
      },
      {
       "output_type": "stream",
       "stream": "stdout",
       "text": [
        ">gi|556503834|ref|NC_000913.3| Escherichia coli str. K-12 substr. MG1655, complete genome START: 001122265 END: 001122342 LEN: 77 SCORE: 1.162 SCORE: 0.219\tGCUGGAGUUAGUGGUUGCGUUUGCCGGGUAAAGUUUUGCAGCGGUGAACACGCCUUCGUUAAAUCCGCGCUCCAGCU\n"
       ]
      },
      {
       "output_type": "stream",
       "stream": "stdout",
       "text": [
        ">gi|556503834|ref|NC_000913.3| Escherichia coli str. K-12 substr. MG1655, complete genome START: 001142860 END: 001142937 LEN: 77 SCORE: 0.944 SCORE: 0.012\tGCAGCAUGUAGCUUAAGGUUGGGGUUUCUUCCCCUUUACGCACGCGCAGCACGUGGUAGUGCGGGGUUUCCAUCUGA\n"
       ]
      },
      {
       "output_type": "stream",
       "stream": "stdout",
       "text": [
        ">gi|556503834|ref|NC_000913.3| Escherichia coli str. K-12 substr. MG1655, complete genome START: 001170540 END: 001170617 LEN: 77 SCORE: 1.029 SCORE: 0.134\tGUUCACGCAUAAACUGGCGUACCCAUUCGAUACGCGUUUUCCGCUCACUCAAAUCCUGAAUAAAUUUCAGGCGCGUC\n"
       ]
      },
      {
       "output_type": "stream",
       "stream": "stdout",
       "text": [
        ">gi|556503834|ref|NC_000913.3| Escherichia coli str. K-12 substr. MG1655, complete genome START: 001171305 END: 001171382 LEN: 77 SCORE: 1.133 SCORE: 0.185\tGUUCAAUGAUAAUAGUGUUGGCUGUCGGGAUGUCGAUCCCGGUUUCGAUAAUGGUUGUACAAACCAGCACGUUGAAA\n"
       ]
      },
      {
       "output_type": "stream",
       "stream": "stdout",
       "text": [
        ">gi|556503834|ref|NC_000913.3| Escherichia coli str. K-12 substr. MG1655, complete genome START: 001184070 END: 001184147 LEN: 77 SCORE: 1.129 SCORE: 0.066\tAGCAAAAACUCGUUGAGAUAGCCUUUGGUGCUGAGGAAAAUUUUCAGCCCGUAGAUACGAAUUAAUGAGUUGGUCCA\n"
       ]
      },
      {
       "output_type": "stream",
       "stream": "stdout",
       "text": [
        ">gi|556503834|ref|NC_000913.3| Escherichia coli str. K-12 substr. MG1655, complete genome START: 001260885 END: 001260962 LEN: 77 SCORE: 0.843 SCORE: 0.019\tGACAAAAAAACCCGCCGCAGCGGGUCUUUGAGCCGGGUUCGAUUAGUGUUCGAACAUGGCAGAGAUCGAUUCUUCGU\n"
       ]
      },
      {
       "output_type": "stream",
       "stream": "stdout",
       "text": [
        ">gi|556503834|ref|NC_000913.3| Escherichia coli str. K-12 substr. MG1655, complete genome START: 001287730 END: 001287807 LEN: 77 SCORE: 0.623 SCORE: 0.060\tGUAAUUUUCAUCCGUAACGGAUUAAAGGUAACCAGUUAUUUUUGCUGGCGAUUAAAGAAUAAUCGUUCGAUUACCGU\n"
       ]
      },
      {
       "output_type": "stream",
       "stream": "stdout",
       "text": [
        ">gi|556503834|ref|NC_000913.3| Escherichia coli str. K-12 substr. MG1655, complete genome START: 001292415 END: 001292492 LEN: 77 SCORE: 1.054 SCORE: 0.198\tUUUUUAUAGCUUAUUCUUAUUAAAUUGUCUUAAACCGGACAAUAAAAAAUCCCGCCGCUGGCGGGAUUUUAAGCAAG\n"
       ]
      },
      {
       "output_type": "stream",
       "stream": "stdout",
       "text": [
        ">gi|556503834|ref|NC_000913.3| Escherichia coli str. K-12 substr. MG1655, complete genome START: 001344075 END: 001344152 LEN: 77 SCORE: 0.589 SCORE: 0.113\tAGAUGGUUUCGCCCGGUUGAACCAGCGACGCGGCAAACUCGGCGAGUUCACGCUUCAGCGUAUAGUUGCUCAUCAUA\n"
       ]
      },
      {
       "output_type": "stream",
       "stream": "stdout",
       "text": [
        ">gi|556503834|ref|NC_000913.3| Escherichia coli str. K-12 substr. MG1655, complete genome START: 001373060 END: 001373137 LEN: 77 SCORE: 1.205 SCORE: 0.153\tAACUUUACCCGCAUGGGUGAUGUGACGGGUUCUGGCGUGGUGAGUUCAAUGGUGCAUAACGUCACCGUGGGUAAAGC\n"
       ]
      },
      {
       "output_type": "stream",
       "stream": "stdout",
       "text": [
        ">gi|556503834|ref|NC_000913.3| Escherichia coli str. K-12 substr. MG1655, complete genome START: 001393670 END: 001393747 LEN: 77 SCORE: 1.162 SCORE: 0.028\tGGUAAAGCUACGCCUGACCAGCUUGGCGUCACCGCAGUUGAUGCCCAUACUUUGAAAAUUCAGCUUGAUAAACCGUU\n"
       ]
      },
      {
       "output_type": "stream",
       "stream": "stdout",
       "text": [
        ">gi|556503834|ref|NC_000913.3| Escherichia coli str. K-12 substr. MG1655, complete genome START: 001475510 END: 001475587 LEN: 77 SCORE: 1.144 SCORE: 0.502\tCGGAUUCACCACUGUUAAUUACCGGUUCGAUAAAUGCAAGUGGACUGGUAUUUAUCGACUCAUAUUACGAUAAUCCG\n"
       ]
      },
      {
       "output_type": "stream",
       "stream": "stdout",
       "text": [
        ">gi|556503834|ref|NC_000913.3| Escherichia coli str. K-12 substr. MG1655, complete genome START: 001531670 END: 001531747 LEN: 77 SCORE: 1.427 SCORE: 0.246\tACAGGGAAAGAUCAUCAGAAGUUCACUUUUUGUACUAAACAAUUCGCAUUUUAUGUUUAAAAAUUGAGAUAUUCCUU\n"
       ]
      },
      {
       "output_type": "stream",
       "stream": "stdout",
       "text": [
        ">gi|556503834|ref|NC_000913.3| Escherichia coli str. K-12 substr. MG1655, complete genome START: 001531750 END: 001531827 LEN: 77 SCORE: 1.055 SCORE: 0.062\tACCUAAAGCUGUUUUUUAUUGCUUACACAUGAUCAAAUACUCCUUACAUAAUUAAGGAGAACAAAAUGGAACUUAAA\n"
       ]
      },
      {
       "output_type": "stream",
       "stream": "stdout",
       "text": [
        ">gi|556503834|ref|NC_000913.3| Escherichia coli str. K-12 substr. MG1655, complete genome START: 001578325 END: 001578402 LEN: 77 SCORE: 1.188 SCORE: 0.263\tAGCCAGUUCAGCAAGUUCGUCAUAUUUAUAAAUAAACCAGCUUAAAUUGUUCGAUACCAGCAUAAAUGCCUGGCGCG\n"
       ]
      },
      {
       "output_type": "stream",
       "stream": "stdout",
       "text": [
        ">gi|556503834|ref|NC_000913.3| Escherichia coli str. K-12 substr. MG1655, complete genome START: 001622925 END: 001623002 LEN: 77 SCORE: 1.188 SCORE: 0.155\tAGCAUCAGUUUUCUCAAUGAAUGUUAAACGGAGCUUAAACUCGGUUAAUCACAUUUUGUUCGUCAAUAAACAUGCAG\n"
       ]
      },
      {
       "output_type": "stream",
       "stream": "stdout",
       "text": [
        ">gi|556503834|ref|NC_000913.3| Escherichia coli str. K-12 substr. MG1655, complete genome START: 001650560 END: 001650637 LEN: 77 SCORE: 1.129 SCORE: 0.137\tGCCAUGUAUCCGGAGCUUAAGUUGCACGCCAUUGGGUGGGUUAAGCAUAAAUGUAUUCCUGGUGCUAAAUGGCCCGA\n"
       ]
      },
      {
       "output_type": "stream",
       "stream": "stdout",
       "text": [
        ">gi|556503834|ref|NC_000913.3| Escherichia coli str. K-12 substr. MG1655, complete genome START: 001652690 END: 001652767 LEN: 77 SCORE: 0.896 SCORE: 0.128\tGAAGCAAUGAAAAAUUAAUUUAAUAUUUAUCAAAUAGUUAACACGCAUGACUCUUGAAAUCCAUAAAUUCAAGCGCA\n"
       ]
      },
      {
       "output_type": "stream",
       "stream": "stdout",
       "text": [
        ">gi|556503834|ref|NC_000913.3| Escherichia coli str. K-12 substr. MG1655, complete genome START: 001683040 END: 001683117 LEN: 77 SCORE: 0.996 SCORE: 0.110\tUUGCGUGAGAUCCCCCCACACGACUGGGGUAAAACUCUGAAAGAGAUGGAUUUAAAUCUCUCUUUCGAUCUGCGUGU\n"
       ]
      },
      {
       "output_type": "stream",
       "stream": "stdout",
       "text": [
        ">gi|556503834|ref|NC_000913.3| Escherichia coli str. K-12 substr. MG1655, complete genome START: 001690210 END: 001690287 LEN: 77 SCORE: 1.151 SCORE: 0.329\tCACGCUGGUUAAUAACGAAGUAAGCAAACCACUGUUUGAUAUGGCAAAAGGUGAAACGCCUUUUGAGAUUAACUCGC\n"
       ]
      },
      {
       "output_type": "stream",
       "stream": "stdout",
       "text": [
        ">gi|556503834|ref|NC_000913.3| Escherichia coli str. K-12 substr. MG1655, complete genome START: 001712135 END: 001712212 LEN: 77 SCORE: 1.162 SCORE: 0.094\tACAAAGAGAAAGUUGACAUCUGAAGAAAAGGGGUAACACCGAUUACCCCAUUGAUAACCUUUCUUUAUCCUCUUUUA\n"
       ]
      },
      {
       "output_type": "stream",
       "stream": "stdout",
       "text": [
        ">gi|556503834|ref|NC_000913.3| Escherichia coli str. K-12 substr. MG1655, complete genome START: 001746430 END: 001746507 LEN: 77 SCORE: 1.164 SCORE: 0.759\tCGUUGCGUUCAUAGCUCAGUUGGUUAGAGCACCACCUUGACAUGGUGGGGGUCGUUGGUUCGAGUCCAAUUGAACGC\n"
       ]
      },
      {
       "output_type": "stream",
       "stream": "stdout",
       "text": [
        ">gi|556503834|ref|NC_000913.3| Escherichia coli str. K-12 substr. MG1655, complete genome START: 001746435 END: 001746512 LEN: 77 SCORE: 1.093 SCORE: 0.376\tCGUUCAUAGCUCAGUUGGUUAGAGCACCACCUUGACAUGGUGGGGGUCGUUGGUUCGAGUCCAAUUGAACGCACCAU\n"
       ]
      },
      {
       "output_type": "stream",
       "stream": "stdout",
       "text": [
        ">gi|556503834|ref|NC_000913.3| Escherichia coli str. K-12 substr. MG1655, complete genome START: 001746455 END: 001746532 LEN: 77 SCORE: 0.976 SCORE: 0.402\tAGAGCACCACCUUGACAUGGUGGGGGUCGUUGGUUCGAGUCCAAUUGAACGCACCAUCCUGCGUCCGUAGCUCAGUU\n"
       ]
      },
      {
       "output_type": "stream",
       "stream": "stdout",
       "text": [
        ">gi|556503834|ref|NC_000913.3| Escherichia coli str. K-12 substr. MG1655, complete genome START: 001746470 END: 001746547 LEN: 77 SCORE: 0.745 SCORE: 0.477\tCAUGGUGGGGGUCGUUGGUUCGAGUCCAAUUGAACGCACCAUCCUGCGUCCGUAGCUCAGUUGGUUAGAGCACCACC\n"
       ]
      },
      {
       "output_type": "stream",
       "stream": "stdout",
       "text": [
        ">gi|556503834|ref|NC_000913.3| Escherichia coli str. K-12 substr. MG1655, complete genome START: 001746510 END: 001746587 LEN: 77 SCORE: 0.602 SCORE: 0.858\tAUCCUGCGUCCGUAGCUCAGUUGGUUAGAGCACCACCUUGACAUGGUGGGGGUCGGUGGUUCGAGUCCACUCGGACG\n"
       ]
      },
      {
       "output_type": "stream",
       "stream": "stdout",
       "text": [
        ">gi|556503834|ref|NC_000913.3| Escherichia coli str. K-12 substr. MG1655, complete genome START: 001746515 END: 001746592 LEN: 77 SCORE: 0.576 SCORE: 1.096\tGCGUCCGUAGCUCAGUUGGUUAGAGCACCACCUUGACAUGGUGGGGGUCGGUGGUUCGAGUCCACUCGGACGCACCA\n"
       ]
      },
      {
       "output_type": "stream",
       "stream": "stdout",
       "text": [
        ">gi|556503834|ref|NC_000913.3| Escherichia coli str. K-12 substr. MG1655, complete genome START: 001746520 END: 001746597 LEN: 77 SCORE: 0.425 SCORE: 0.328\tCGUAGCUCAGUUGGUUAGAGCACCACCUUGACAUGGUGGGGGUCGGUGGUUCGAGUCCACUCGGACGCACCAGAUUU\n"
       ]
      },
      {
       "output_type": "stream",
       "stream": "stdout",
       "text": [
        ">gi|556503834|ref|NC_000913.3| Escherichia coli str. K-12 substr. MG1655, complete genome START: 001768045 END: 001768122 LEN: 77 SCORE: 0.807 SCORE: 0.115\tAAAUUCGCCCGAUUGUGGUAUUGGAUUUACCCAGCGUUUCCGCCAAUUCGACGGGUAAAGGUUGCGUAUCGAGAAUA\n"
       ]
      },
      {
       "output_type": "stream",
       "stream": "stdout",
       "text": [
        ">gi|556503834|ref|NC_000913.3| Escherichia coli str. K-12 substr. MG1655, complete genome START: 001798510 END: 001798587 LEN: 77 SCORE: 0.909 SCORE: 0.078\tGUUCAGAGCAUCGAAGUUAUGAUAAUCGUCUUCGAUUUCCGGCCCGGUUGCCACGGUAAAGCCAAGCUCACCGAAGA\n"
       ]
      },
      {
       "output_type": "stream",
       "stream": "stdout",
       "text": [
        ">gi|556503834|ref|NC_000913.3| Escherichia coli str. K-12 substr. MG1655, complete genome START: 001798520 END: 001798597 LEN: 77 SCORE: 0.925 SCORE: 0.047\tUCGAAGUUAUGAUAAUCGUCUUCGAUUUCCGGCCCGGUUGCCACGGUAAAGCCAAGCUCACCGAAGAAACUUUCGAU\n"
       ]
      },
      {
       "output_type": "stream",
       "stream": "stdout",
       "text": [
        ">gi|556503834|ref|NC_000913.3| Escherichia coli str. K-12 substr. MG1655, complete genome START: 001810755 END: 001810832 LEN: 77 SCORE: 0.649 SCORE: 0.165\tGCAGAUCCAGUUUCAUCGGCUUAUUAAGCAUCAGGUUGAAUACUAAAAAGGCAAAAAUCACCUUUCUGGAAUAAGCA\n"
       ]
      },
      {
       "output_type": "stream",
       "stream": "stdout",
       "text": [
        ">gi|556503834|ref|NC_000913.3| Escherichia coli str. K-12 substr. MG1655, complete genome START: 001857880 END: 001857957 LEN: 77 SCORE: 2.044 SCORE: 0.030\tAUAUGCGUCACCAUCGAUUUCACAUCGAAUCGCCCUGAAGAAAUAGCUUCAAUCGUGACCGGAUAACGAUUGGCAUA\n"
       ]
      },
      {
       "output_type": "stream",
       "stream": "stdout",
       "text": [
        ">gi|556503834|ref|NC_000913.3| Escherichia coli str. K-12 substr. MG1655, complete genome START: 001915365 END: 001915442 LEN: 77 SCORE: 1.093 SCORE: 0.236\tAUUGCGUUUUGCUCAGGUUCAUUUCCCCAGCAACACGAUCGACCAAAUCCUGAAAAAUACCGAUUUUCAGCGGACGC\n"
       ]
      },
      {
       "output_type": "stream",
       "stream": "stdout",
       "text": [
        ">gi|556503834|ref|NC_000913.3| Escherichia coli str. K-12 substr. MG1655, complete genome START: 001932040 END: 001932117 LEN: 77 SCORE: 1.072 SCORE: 0.034\tGGUAAAAGUACAGGGUUAAACCCGGCAAAAAAACGCUACAAAAAUGCCCGAUCCUCGAUCGGGCAUUUUGACUUUUA\n"
       ]
      },
      {
       "output_type": "stream",
       "stream": "stdout",
       "text": [
        ">gi|556503834|ref|NC_000913.3| Escherichia coli str. K-12 substr. MG1655, complete genome START: 001934560 END: 001934637 LEN: 77 SCORE: 1.018 SCORE: 0.066\tCGUUCAAUGAUUCGAUUUGUUACGCGUAACAAUUGUGGAUUCAUAAAGGCUCCUGAAAUUGAGUUGUCAGAGCAGGA\n"
       ]
      },
      {
       "output_type": "stream",
       "stream": "stdout",
       "text": [
        ">gi|556503834|ref|NC_000913.3| Escherichia coli str. K-12 substr. MG1655, complete genome START: 001980900 END: 001980977 LEN: 77 SCORE: 1.187 SCORE: 0.074\tCAGCCUGUUUGGCUAUUUCUUUCGGUUCAAUGCCGAUCGGGUAGACUUCUGUUCGAAAUGCUUUGCCCCAGGCUGUA\n"
       ]
      },
      {
       "output_type": "stream",
       "stream": "stdout",
       "text": [
        ">gi|556503834|ref|NC_000913.3| Escherichia coli str. K-12 substr. MG1655, complete genome START: 002007290 END: 002007367 LEN: 77 SCORE: 1.133 SCORE: 0.273\tGUGGUGACGGGCAAACCUAUCCGAUAGAUAUGCCAAUAAUCGAACAGCUUGAUGAGUUAAUUCUCGCCCGUCAGCGU\n"
       ]
      },
      {
       "output_type": "stream",
       "stream": "stdout",
       "text": [
        ">gi|556503834|ref|NC_000913.3| Escherichia coli str. K-12 substr. MG1655, complete genome START: 002033235 END: 002033312 LEN: 77 SCORE: 2.026 SCORE: 0.196\tCGCGGUAGAGCCUAAAUCGCUUUCAAAUCCCGACACGGGGGCAUCGGGAAUCCGGCUCAUCACCCAGAUGUAACGCG\n"
       ]
      },
      {
       "output_type": "stream",
       "stream": "stdout",
       "text": [
        ">gi|556503834|ref|NC_000913.3| Escherichia coli str. K-12 substr. MG1655, complete genome START: 002044540 END: 002044617 LEN: 77 SCORE: 1.029 SCORE: 0.568\tCACACGAUUCCUCUGUAGUUCAGUCGGUAGAACGGCGGACUGUUAAUCCGUAUGUCACUGGUUCGAGUCCAGUCAGA\n"
       ]
      },
      {
       "output_type": "stream",
       "stream": "stdout",
       "text": [
        ">gi|556503834|ref|NC_000913.3| Escherichia coli str. K-12 substr. MG1655, complete genome START: 002044545 END: 002044622 LEN: 77 SCORE: 1.187 SCORE: 0.990\tGAUUCCUCUGUAGUUCAGUCGGUAGAACGGCGGACUGUUAAUCCGUAUGUCACUGGUUCGAGUCCAGUCAGAGGAGC\n"
       ]
      },
      {
       "output_type": "stream",
       "stream": "stdout",
       "text": [
        ">gi|556503834|ref|NC_000913.3| Escherichia coli str. K-12 substr. MG1655, complete genome START: 002044550 END: 002044627 LEN: 77 SCORE: 1.000 SCORE: 0.491\tCUCUGUAGUUCAGUCGGUAGAACGGCGGACUGUUAAUCCGUAUGUCACUGGUUCGAGUCCAGUCAGAGGAGCCAAAU\n"
       ]
      },
      {
       "output_type": "stream",
       "stream": "stdout",
       "text": [
        ">gi|556503834|ref|NC_000913.3| Escherichia coli str. K-12 substr. MG1655, complete genome START: 002048415 END: 002048492 LEN: 77 SCORE: 0.112 SCORE: 0.003\tAUGGCGUCGAUAGCGCAACGCUAACUGCAACGGUUAAAGAUCAGUUCGACAAUGAGGUGAAUAAUCUUCCGGUAACA\n"
       ]
      },
      {
       "output_type": "stream",
       "stream": "stdout",
       "text": [
        ">gi|556503834|ref|NC_000913.3| Escherichia coli str. K-12 substr. MG1655, complete genome START: 002057435 END: 002057512 LEN: 77 SCORE: 0.800 SCORE: 0.045\tAACAACAGAAUUAGAAAUGAUUGCUCAAUCUGAAGUUGAGCUUUCCCCAGAAGAUUUAGAAAUCUUUGAAGGGCUUG\n"
       ]
      },
      {
       "output_type": "stream",
       "stream": "stdout",
       "text": [
        ">gi|556503834|ref|NC_000913.3| Escherichia coli str. K-12 substr. MG1655, complete genome START: 002059845 END: 002059922 LEN: 77 SCORE: 1.164 SCORE: 1.160\tACGAUUCCUCUGUAGUUCAGUCGGUAGAACGGCGGACUGUUAAUCCGUAUGUCACUGGUUCGAGUCCAGUCAGAGGA\n"
       ]
      },
      {
       "output_type": "stream",
       "stream": "stdout",
       "text": [
        ">gi|556503834|ref|NC_000913.3| Escherichia coli str. K-12 substr. MG1655, complete genome START: 002059850 END: 002059927 LEN: 77 SCORE: 1.164 SCORE: 0.806\tUCCUCUGUAGUUCAGUCGGUAGAACGGCGGACUGUUAAUCCGUAUGUCACUGGUUCGAGUCCAGUCAGAGGAGCCAA\n"
       ]
      },
      {
       "output_type": "stream",
       "stream": "stdout",
       "text": [
        ">gi|556503834|ref|NC_000913.3| Escherichia coli str. K-12 substr. MG1655, complete genome START: 002062255 END: 002062332 LEN: 77 SCORE: 1.164 SCORE: 1.069\tCGAUUCCUCUGUAGUUCAGUCGGUAGAACGGCGGACUGUUAAUCCGUAUGUCACUGGUUCGAGUCCAGUCAGAGGAG\n"
       ]
      },
      {
       "output_type": "stream",
       "stream": "stdout",
       "text": [
        ">gi|556503834|ref|NC_000913.3| Escherichia coli str. K-12 substr. MG1655, complete genome START: 002062260 END: 002062337 LEN: 77 SCORE: 1.164 SCORE: 0.547\tCCUCUGUAGUUCAGUCGGUAGAACGGCGGACUGUUAAUCCGUAUGUCACUGGUUCGAGUCCAGUCAGAGGAGCCAAA\n"
       ]
      },
      {
       "output_type": "stream",
       "stream": "stdout",
       "text": [
        ">gi|556503834|ref|NC_000913.3| Escherichia coli str. K-12 substr. MG1655, complete genome START: 002103530 END: 002103607 LEN: 77 SCORE: 0.531 SCORE: 0.277\tCAUCGUUAUUAGAAUCAAAAAAAGCUUUCUUUUCAUAACUACCAAGAGUUUCUCUAGUAAAUGGGAAAUCUGAUGCU\n"
       ]
      },
      {
       "output_type": "stream",
       "stream": "stdout",
       "text": [
        ">gi|556503834|ref|NC_000913.3| Escherichia coli str. K-12 substr. MG1655, complete genome START: 002103535 END: 002103612 LEN: 77 SCORE: 1.520 SCORE: 0.549\tUUAUUAGAAUCAAAAAAAGCUUUCUUUUCAUAACUACCAAGAGUUUCUCUAGUAAAUGGGAAAUCUGAUGCUAAUAC\n"
       ]
      },
      {
       "output_type": "stream",
       "stream": "stdout",
       "text": [
        ">gi|556503834|ref|NC_000913.3| Escherichia coli str. K-12 substr. MG1655, complete genome START: 002119310 END: 002119387 LEN: 77 SCORE: 1.011 SCORE: 0.046\tCGCAGCUUUUCGGUAUCGUCCUGAAUUUUGGCGAAUGCCGGAAACAACACGCGGGUGAUGAUUGGGUUCAGCUUCAU\n"
       ]
      },
      {
       "output_type": "stream",
       "stream": "stdout",
       "text": [
        ">gi|556503834|ref|NC_000913.3| Escherichia coli str. K-12 substr. MG1655, complete genome START: 002124230 END: 002124307 LEN: 77 SCORE: 0.967 SCORE: 0.084\tAGCGCAAUGGCAGGUGCCGUGUUUCGCCCUGCCGGUUCGAGAAUAAUGUUCUCGGUAAGUUUGUUCAGUUGACGCAG\n"
       ]
      },
      {
       "output_type": "stream",
       "stream": "stdout",
       "text": [
        ">gi|556503834|ref|NC_000913.3| Escherichia coli str. K-12 substr. MG1655, complete genome START: 002169815 END: 002169892 LEN: 77 SCORE: 1.031 SCORE: 0.102\tGUUAAAUUUCGAUGAAUCGAGAACGGCAAUCACUUUAUUAGCGGCUGUGACCAUCGCACCGCUAAUAGAAUAACCUU\n"
       ]
      },
      {
       "output_type": "stream",
       "stream": "stdout",
       "text": [
        ">gi|556503834|ref|NC_000913.3| Escherichia coli str. K-12 substr. MG1655, complete genome START: 002176485 END: 002176562 LEN: 77 SCORE: 1.151 SCORE: 0.027\tGAGAAGGCAUUUUUCAGCUCCGUUGCAACGUUGAUUUUGCAUAUCCCCAGUUUGAUGGUUUGCUGAAUAUCCUUAGU\n"
       ]
      },
      {
       "output_type": "stream",
       "stream": "stdout",
       "text": [
        ">gi|556503834|ref|NC_000913.3| Escherichia coli str. K-12 substr. MG1655, complete genome START: 002230405 END: 002230482 LEN: 77 SCORE: 0.544 SCORE: 0.014\tGAGGCGCUAUGUUAGCGCCUAUGGUCAGCGGAUUAAAGGUCUGCAAAGAGGGAUUGCUGCAAACUGCAAUCCCUCUC\n"
       ]
      },
      {
       "output_type": "stream",
       "stream": "stdout",
       "text": [
        ">gi|556503834|ref|NC_000913.3| Escherichia coli str. K-12 substr. MG1655, complete genome START: 002246970 END: 002247047 LEN: 77 SCORE: 1.072 SCORE: 0.397\tAAUGUUAAAUUUUAUAUCCGCAUGAUUUGUCAGGGAAAUGGAAUUGAAAAAGCCCUCUCGGUUGAGAGGGCUUAGCA\n"
       ]
      },
      {
       "output_type": "stream",
       "stream": "stdout",
       "text": [
        ">gi|556503834|ref|NC_000913.3| Escherichia coli str. K-12 substr. MG1655, complete genome START: 002286205 END: 002286282 LEN: 77 SCORE: 0.559 SCORE: 0.753\tCGAGUCGGCACGUAGCGCAGCCUGGUAGCGCACCGUCAUGGGGUGUCGGGGGUCGGAGGUUCAAAUCCUCUCGUGCC\n"
       ]
      },
      {
       "output_type": "stream",
       "stream": "stdout",
       "text": [
        ">gi|556503834|ref|NC_000913.3| Escherichia coli str. K-12 substr. MG1655, complete genome START: 002286210 END: 002286287 LEN: 77 SCORE: 0.590 SCORE: 0.868\tCGGCACGUAGCGCAGCCUGGUAGCGCACCGUCAUGGGGUGUCGGGGGUCGGAGGUUCAAAUCCUCUCGUGCCGACCA\n"
       ]
      },
      {
       "output_type": "stream",
       "stream": "stdout",
       "text": [
        ">gi|556503834|ref|NC_000913.3| Escherichia coli str. K-12 substr. MG1655, complete genome START: 002306055 END: 002306132 LEN: 77 SCORE: 0.856 SCORE: 0.322\tGACUUCGCUGCUGAGUUGCAGCGAGAAGUUAGAUUUCUUCUGCAAGGAAGCAAUUAACUGGCGGGUGAUCUCGCCGU\n"
       ]
      },
      {
       "output_type": "stream",
       "stream": "stdout",
       "text": [
        ">gi|556503834|ref|NC_000913.3| Escherichia coli str. K-12 substr. MG1655, complete genome START: 002311595 END: 002311672 LEN: 77 SCORE: 0.820 SCORE: 0.049\tAAAACAAUGAAAAAAGGGCCCGCAGGCCCUUUGUUCGAUAUCAAUCGAGAUUAGAACUGGUAAACCAGACCCAGAGC\n"
       ]
      },
      {
       "output_type": "stream",
       "stream": "stdout",
       "text": [
        ">gi|556503834|ref|NC_000913.3| Escherichia coli str. K-12 substr. MG1655, complete genome START: 002311600 END: 002311677 LEN: 77 SCORE: 0.820 SCORE: 0.363\tAAUGAAAAAAGGGCCCGCAGGCCCUUUGUUCGAUAUCAAUCGAGAUUAGAACUGGUAAACCAGACCCAGAGCUACGA\n"
       ]
      },
      {
       "output_type": "stream",
       "stream": "stdout",
       "text": [
        ">gi|556503834|ref|NC_000913.3| Escherichia coli str. K-12 substr. MG1655, complete genome START: 002318200 END: 002318277 LEN: 77 SCORE: 1.129 SCORE: 0.539\tAGCGGUAAAUAGUUGGCGGUGAUGUGGUUCAUCACUUCACGCGGUGAAAACUCACGCGGUUCGAUCUUCAACUGUUC\n"
       ]
      },
      {
       "output_type": "stream",
       "stream": "stdout",
       "text": [
        ">gi|556503834|ref|NC_000913.3| Escherichia coli str. K-12 substr. MG1655, complete genome START: 002318205 END: 002318282 LEN: 77 SCORE: 1.129 SCORE: 0.245\tUAAAUAGUUGGCGGUGAUGUGGUUCAUCACUUCACGCGGUGAAAACUCACGCGGUUCGAUCUUCAACUGUUCCGAUU\n"
       ]
      },
      {
       "output_type": "stream",
       "stream": "stdout",
       "text": [
        ">gi|556503834|ref|NC_000913.3| Escherichia coli str. K-12 substr. MG1655, complete genome START: 002318210 END: 002318287 LEN: 77 SCORE: 0.516 SCORE: 0.551\tAGUUGGCGGUGAUGUGGUUCAUCACUUCACGCGGUGAAAACUCACGCGGUUCGAUCUUCAACUGUUCCGAUUCAAUC\n"
       ]
      },
      {
       "output_type": "stream",
       "stream": "stdout",
       "text": [
        ">gi|556503834|ref|NC_000913.3| Escherichia coli str. K-12 substr. MG1655, complete genome START: 002318240 END: 002318317 LEN: 77 SCORE: 1.029 SCORE: 0.211\tGCGGUGAAAACUCACGCGGUUCGAUCUUCAACUGUUCCGAUUCAAUCUUCGAGAAAUCGAGAAUAUCGCUGAUAAUU\n"
       ]
      },
      {
       "output_type": "stream",
       "stream": "stdout",
       "text": [
        ">gi|556503834|ref|NC_000913.3| Escherichia coli str. K-12 substr. MG1655, complete genome START: 002399710 END: 002399787 LEN: 77 SCORE: 0.944 SCORE: 0.134\tAUGCAGCGGUUCAUUUCGUGAGAGAUGAAUGGCCCCAAAUCCUGAUUACGGUGGGUACGUUUGGUGAAACGGUAGCG\n"
       ]
      },
      {
       "output_type": "stream",
       "stream": "stdout",
       "text": [
        ">gi|556503834|ref|NC_000913.3| Escherichia coli str. K-12 substr. MG1655, complete genome START: 002401035 END: 002401112 LEN: 77 SCORE: 0.820 SCORE: 0.285\tCGGUAUGGACGAACAGUUCGAAAUCGAAACCUGUUCCCAUAAUGUUUUUGCCAAGCAGACCCGCUUCGGUGGCUUCG\n"
       ]
      },
      {
       "output_type": "stream",
       "stream": "stdout",
       "text": [
        ">gi|556503834|ref|NC_000913.3| Escherichia coli str. K-12 substr. MG1655, complete genome START: 002466300 END: 002466377 LEN: 77 SCORE: 0.517 SCORE: 1.136\tGCCGCAUUGUCCUCUUAGUUAAAUGGAUAUAACGAGCCCCUCCUAAGGGCUAAUUGCAGGUUCGAUUCCUGCAGGGG\n"
       ]
      },
      {
       "output_type": "stream",
       "stream": "stdout",
       "text": [
        ">gi|556503834|ref|NC_000913.3| Escherichia coli str. K-12 substr. MG1655, complete genome START: 002466305 END: 002466382 LEN: 77 SCORE: 1.205 SCORE: 1.033\tAUUGUCCUCUUAGUUAAAUGGAUAUAACGAGCCCCUCCUAAGGGCUAAUUGCAGGUUCGAUUCCUGCAGGGGACACC\n"
       ]
      },
      {
       "output_type": "stream",
       "stream": "stdout",
       "text": [
        ">gi|556503834|ref|NC_000913.3| Escherichia coli str. K-12 substr. MG1655, complete genome START: 002466310 END: 002466387 LEN: 77 SCORE: 0.625 SCORE: 1.346\tCCUCUUAGUUAAAUGGAUAUAACGAGCCCCUCCUAAGGGCUAAUUGCAGGUUCGAUUCCUGCAGGGGACACCAUUUA\n"
       ]
      },
      {
       "output_type": "stream",
       "stream": "stdout",
       "text": [
        ">gi|556503834|ref|NC_000913.3| Escherichia coli str. K-12 substr. MG1655, complete genome START: 002466315 END: 002466392 LEN: 77 SCORE: 2.014 SCORE: 0.839\tUAGUUAAAUGGAUAUAACGAGCCCCUCCUAAGGGCUAAUUGCAGGUUCGAUUCCUGCAGGGGACACCAUUUAUCAGU\n"
       ]
      },
      {
       "output_type": "stream",
       "stream": "stdout",
       "text": [
        ">gi|556503834|ref|NC_000913.3| Escherichia coli str. K-12 substr. MG1655, complete genome START: 002466320 END: 002466397 LEN: 77 SCORE: 0.536 SCORE: 0.844\tAAAUGGAUAUAACGAGCCCCUCCUAAGGGCUAAUUGCAGGUUCGAUUCCUGCAGGGGACACCAUUUAUCAGUUCGCU\n"
       ]
      },
      {
       "output_type": "stream",
       "stream": "stdout",
       "text": [
        ">gi|556503834|ref|NC_000913.3| Escherichia coli str. K-12 substr. MG1655, complete genome START: 002466325 END: 002466402 LEN: 77 SCORE: 0.913 SCORE: 0.389\tGAUAUAACGAGCCCCUCCUAAGGGCUAAUUGCAGGUUCGAUUCCUGCAGGGGACACCAUUUAUCAGUUCGCUCCCAU\n"
       ]
      },
      {
       "output_type": "stream",
       "stream": "stdout",
       "text": [
        ">gi|556503834|ref|NC_000913.3| Escherichia coli str. K-12 substr. MG1655, complete genome START: 002466330 END: 002466407 LEN: 77 SCORE: 0.913 SCORE: 0.425\tAACGAGCCCCUCCUAAGGGCUAAUUGCAGGUUCGAUUCCUGCAGGGGACACCAUUUAUCAGUUCGCUCCCAUCCGUA\n"
       ]
      },
      {
       "output_type": "stream",
       "stream": "stdout",
       "text": [
        ">gi|556503834|ref|NC_000913.3| Escherichia coli str. K-12 substr. MG1655, complete genome START: 002520930 END: 002521007 LEN: 77 SCORE: 2.063 SCORE: 0.433\tGGGUGAUUAGCUCAGCUGGGAGAGCACCUCCCUUACAAGGAGGGGGUCGGCGGUUCGAUCCCGUCAUCACCCACCAA\n"
       ]
      },
      {
       "output_type": "stream",
       "stream": "stdout",
       "text": [
        ">gi|556503834|ref|NC_000913.3| Escherichia coli str. K-12 substr. MG1655, complete genome START: 002520950 END: 002521027 LEN: 77 SCORE: 0.944 SCORE: 0.012\tAGAGCACCUCCCUUACAAGGAGGGGGUCGGCGGUUCGAUCCCGUCAUCACCCACCAACUACUUUAUGUAGUCUCCGC\n"
       ]
      },
      {
       "output_type": "stream",
       "stream": "stdout",
       "text": [
        ">gi|556503834|ref|NC_000913.3| Escherichia coli str. K-12 substr. MG1655, complete genome START: 002521045 END: 002521122 LEN: 77 SCORE: 2.063 SCORE: 0.273\tGAAGUGGGUGAUUAGCUCAGCUGGGAGAGCACCUCCCUUACAAGGAGGGGGUCGGCGGUUCGAUCCCGUCAUCACCC\n"
       ]
      },
      {
       "output_type": "stream",
       "stream": "stdout",
       "text": [
        ">gi|556503834|ref|NC_000913.3| Escherichia coli str. K-12 substr. MG1655, complete genome START: 002521050 END: 002521127 LEN: 77 SCORE: 2.063 SCORE: 0.439\tGGGUGAUUAGCUCAGCUGGGAGAGCACCUCCCUUACAAGGAGGGGGUCGGCGGUUCGAUCCCGUCAUCACCCACCAC\n"
       ]
      },
      {
       "output_type": "stream",
       "stream": "stdout",
       "text": [
        ">gi|556503834|ref|NC_000913.3| Escherichia coli str. K-12 substr. MG1655, complete genome START: 002521170 END: 002521247 LEN: 77 SCORE: 2.087 SCORE: 0.707\tGUGGGUGAUUAGCUCAGCUGGGAGAGCACCUCCCUUACAAGGAGGGGGUCGGCGGUUCGAUCCCGUCAUCACCCACC\n"
       ]
      },
      {
       "output_type": "stream",
       "stream": "stdout",
       "text": [
        ">gi|556503834|ref|NC_000913.3| Escherichia coli str. K-12 substr. MG1655, complete genome START: 002521190 END: 002521267 LEN: 77 SCORE: 1.218 SCORE: 0.345\tGGAGAGCACCUCCCUUACAAGGAGGGGGUCGGCGGUUCGAUCCCGUCAUCACCCACCACUUCGGGUCGUUAGCUCAG\n"
       ]
      },
      {
       "output_type": "stream",
       "stream": "stdout",
       "text": [
        ">gi|556503834|ref|NC_000913.3| Escherichia coli str. K-12 substr. MG1655, complete genome START: 002521195 END: 002521272 LEN: 77 SCORE: 0.820 SCORE: 0.173\tGCACCUCCCUUACAAGGAGGGGGUCGGCGGUUCGAUCCCGUCAUCACCCACCACUUCGGGUCGUUAGCUCAGUUGGU\n"
       ]
      },
      {
       "output_type": "stream",
       "stream": "stdout",
       "text": [
        ">gi|556503834|ref|NC_000913.3| Escherichia coli str. K-12 substr. MG1655, complete genome START: 002521205 END: 002521282 LEN: 77 SCORE: 0.389 SCORE: 0.176\tUACAAGGAGGGGGUCGGCGGUUCGAUCCCGUCAUCACCCACCACUUCGGGUCGUUAGCUCAGUUGGUAGAGCAGUUG\n"
       ]
      },
      {
       "output_type": "stream",
       "stream": "stdout",
       "text": [
        ">gi|556503834|ref|NC_000913.3| Escherichia coli str. K-12 substr. MG1655, complete genome START: 002521250 END: 002521327 LEN: 77 SCORE: 1.205 SCORE: 1.333\tUCGGGUCGUUAGCUCAGUUGGUAGAGCAGUUGACUUUUAAUCAAUUGGUCGCAGGUUCGAAUCCUGCACGACCCACC\n"
       ]
      },
      {
       "output_type": "stream",
       "stream": "stdout",
       "text": [
        ">gi|556503834|ref|NC_000913.3| Escherichia coli str. K-12 substr. MG1655, complete genome START: 002536295 END: 002536372 LEN: 77 SCORE: 0.967 SCORE: 0.039\tGGUAGCGUAACCGUGGGUGAAACCCCGGUUAUCCGCAUCAAGAAGUAAUUCUUGCCGCAGUGAAAAAUGGCGCCCAU\n"
       ]
      },
      {
       "output_type": "stream",
       "stream": "stdout",
       "text": [
        ">gi|556503834|ref|NC_000913.3| Escherichia coli str. K-12 substr. MG1655, complete genome START: 002578915 END: 002578992 LEN: 77 SCORE: 0.996 SCORE: 0.192\tUCCUCAAAAUCGUACCCGGUCGCGUGUCAACAGAAGUUGAUGCACGCCUCUCUUUUGAUAAAGAAAAGAGUAUUGAG\n"
       ]
      },
      {
       "output_type": "stream",
       "stream": "stdout",
       "text": [
        ">gi|556503834|ref|NC_000913.3| Escherichia coli str. K-12 substr. MG1655, complete genome START: 002617835 END: 002617912 LEN: 77 SCORE: 1.187 SCORE: 0.023\tAUGGUGGAUAAUCCGAAGCUGAUGGAGCGCCCGAUUGUGGUCGCGAAUGGCAAAGCGCGGAUUGGUCGUCCACCGGA\n"
       ]
      },
      {
       "output_type": "stream",
       "stream": "stdout",
       "text": [
        ">gi|556503834|ref|NC_000913.3| Escherichia coli str. K-12 substr. MG1655, complete genome START: 002621770 END: 002621847 LEN: 77 SCORE: 2.026 SCORE: 0.034\tACGGCUAUUCGCUGGUGCGCAAAAUUCUUGAAGUCAGCGGUUGUGAUCCGCAAACCACCGAACUUGAUGGUAAGCCA\n"
       ]
      },
      {
       "output_type": "stream",
       "stream": "stdout",
       "text": [
        ">gi|556503834|ref|NC_000913.3| Escherichia coli str. K-12 substr. MG1655, complete genome START: 002687565 END: 002687642 LEN: 77 SCORE: 0.743 SCORE: 0.025\tUUGCCUUUGGUGAUUUGCAGCAGCUUACGCAAAUAGUUGAGUUCAAACUGAUUACGUGCCUCAACAAAGGUUGGCAG\n"
       ]
      },
      {
       "output_type": "stream",
       "stream": "stdout",
       "text": [
        ">gi|556503834|ref|NC_000913.3| Escherichia coli str. K-12 substr. MG1655, complete genome START: 002689790 END: 002689867 LEN: 77 SCORE: 1.164 SCORE: 0.112\tCAGACCGCUGCCCUUCACCGCCCCUUUUCGCUGGUGGCUUCCCUGAAAAAAGGGUUCGAAGAUCAUGGCGCGUUCCU\n"
       ]
      },
      {
       "output_type": "stream",
       "stream": "stdout",
       "text": [
        ">gi|556503834|ref|NC_000913.3| Escherichia coli str. K-12 substr. MG1655, complete genome START: 002703285 END: 002703362 LEN: 77 SCORE: 0.820 SCORE: 0.019\tGAGAUUUUCUGCCCCAGCAGUUUGUUCAACAAUGUGGAUUUGCCAACGUUCGGACGUCCGACGAUGGCAAUAAAUCC\n"
       ]
      },
      {
       "output_type": "stream",
       "stream": "stdout",
       "text": [
        ">gi|556503834|ref|NC_000913.3| Escherichia coli str. K-12 substr. MG1655, complete genome START: 002728980 END: 002729057 LEN: 77 SCORE: 0.612 SCORE: 0.070\tUUAGAUGUUUCAGUUCCCCCGGUUCGCCUCAUUAACCUAUGGAUUCAGUUAAUGAUAGUGUGUCGAAACACACUGGG\n"
       ]
      },
      {
       "output_type": "stream",
       "stream": "stdout",
       "text": [
        ">gi|556503834|ref|NC_000913.3| Escherichia coli str. K-12 substr. MG1655, complete genome START: 002728985 END: 002729062 LEN: 77 SCORE: 0.942 SCORE: 0.062\tUGUUUCAGUUCCCCCGGUUCGCCUCAUUAACCUAUGGAUUCAGUUAAUGAUAGUGUGUCGAAACACACUGGGUUUCC\n"
       ]
      },
      {
       "output_type": "stream",
       "stream": "stdout",
       "text": [
        ">gi|556503834|ref|NC_000913.3| Escherichia coli str. K-12 substr. MG1655, complete genome START: 002728995 END: 002729072 LEN: 77 SCORE: 0.501 SCORE: 0.191\tCCCCCGGUUCGCCUCAUUAACCUAUGGAUUCAGUUAAUGAUAGUGUGUCGAAACACACUGGGUUUCCCCAUUCGGAA\n"
       ]
      },
      {
       "output_type": "stream",
       "stream": "stdout",
       "text": [
        ">gi|556503834|ref|NC_000913.3| Escherichia coli str. K-12 substr. MG1655, complete genome START: 002729000 END: 002729077 LEN: 77 SCORE: 0.322 SCORE: 0.699\tGGUUCGCCUCAUUAACCUAUGGAUUCAGUUAAUGAUAGUGUGUCGAAACACACUGGGUUUCCCCAUUCGGAAAUCGC\n"
       ]
      },
      {
       "output_type": "stream",
       "stream": "stdout",
       "text": [
        ">gi|556503834|ref|NC_000913.3| Escherichia coli str. K-12 substr. MG1655, complete genome START: 002729005 END: 002729082 LEN: 77 SCORE: 0.322 SCORE: 0.370\tGCCUCAUUAACCUAUGGAUUCAGUUAAUGAUAGUGUGUCGAAACACACUGGGUUUCCCCAUUCGGAAAUCGCCGGUU\n"
       ]
      },
      {
       "output_type": "stream",
       "stream": "stdout",
       "text": [
        ">gi|556503834|ref|NC_000913.3| Escherichia coli str. K-12 substr. MG1655, complete genome START: 002729010 END: 002729087 LEN: 77 SCORE: 0.913 SCORE: 0.080\tAUUAACCUAUGGAUUCAGUUAAUGAUAGUGUGUCGAAACACACUGGGUUUCCCCAUUCGGAAAUCGCCGGUUAUAAC\n"
       ]
      },
      {
       "output_type": "stream",
       "stream": "stdout",
       "text": [
        ">gi|556503834|ref|NC_000913.3| Escherichia coli str. K-12 substr. MG1655, complete genome START: 002761720 END: 002761797 LEN: 77 SCORE: 2.108 SCORE: 0.137\tAUGGAAAGAGUACGUUUCUCCCCUUCAGAAAUCCACUGUCGUGCAUAAUCGAUCUGAUUUUUCAGAUAUUCCGAAUA\n"
       ]
      },
      {
       "output_type": "stream",
       "stream": "stdout",
       "text": [
        ">gi|556503834|ref|NC_000913.3| Escherichia coli str. K-12 substr. MG1655, complete genome START: 002761725 END: 002761802 LEN: 77 SCORE: 1.093 SCORE: 0.037\tAAGAGUACGUUUCUCCCCUUCAGAAAUCCACUGUCGUGCAUAAUCGAUCUGAUUUUUCAGAUAUUCCGAAUAACUUU\n"
       ]
      },
      {
       "output_type": "stream",
       "stream": "stdout",
       "text": [
        ">gi|556503834|ref|NC_000913.3| Escherichia coli str. K-12 substr. MG1655, complete genome START: 002762795 END: 002762872 LEN: 77 SCORE: 0.800 SCORE: 0.003\tGGUAAAACUGCCUGGAGACCUUAAGCAGUUUGCUUAACGCAAUGUUGAGCUCGAUGACUCGUUCGUCUUGAUGAUCA\n"
       ]
      },
      {
       "output_type": "stream",
       "stream": "stdout",
       "text": [
        ">gi|556503834|ref|NC_000913.3| Escherichia coli str. K-12 substr. MG1655, complete genome START: 002796780 END: 002796857 LEN: 77 SCORE: 0.185 SCORE: 0.117\tACCCAUAGCUACCUCAUUCGUUAACGGAAACACUCAGAAAGUGUAGCAGAGGAACGCGGCGCGUUAACGCCGCGGGG\n"
       ]
      },
      {
       "output_type": "stream",
       "stream": "stdout",
       "text": [
        ">gi|556503834|ref|NC_000913.3| Escherichia coli str. K-12 substr. MG1655, complete genome START: 002804965 END: 002805042 LEN: 77 SCORE: 1.187 SCORE: 0.338\tUUGAAGAAGGCGAGAUAUUUGUCAUCAUGGGAUUAUCCGGCUCGGGUAAAUCCACAAUGGUACGCCUUCUCAAUCGC\n"
       ]
      },
      {
       "output_type": "stream",
       "stream": "stdout",
       "text": [
        ">gi|556503834|ref|NC_000913.3| Escherichia coli str. K-12 substr. MG1655, complete genome START: 002818340 END: 002818417 LEN: 77 SCORE: 1.214 SCORE: 0.028\tGUGCAUCCGGGAGGAUUACUCGCCUUGCGGCUCGCCCUUCGGGCCGUUGCUAAAGCAACGUUAUCCUCCCUGGUGCC\n"
       ]
      },
      {
       "output_type": "stream",
       "stream": "stdout",
       "text": [
        ">gi|556503834|ref|NC_000913.3| Escherichia coli str. K-12 substr. MG1655, complete genome START: 002821360 END: 002821437 LEN: 77 SCORE: 0.686 SCORE: 0.076\tCAUGAAGACGAUGUUCCAGAUCUCAAUGUAGCGGUCGCCGUCUUCUUCCGGGCUUCCCGGAGGGCCCCCCCAAAUGU\n"
       ]
      },
      {
       "output_type": "stream",
       "stream": "stdout",
       "text": [
        ">gi|556503834|ref|NC_000913.3| Escherichia coli str. K-12 substr. MG1655, complete genome START: 002903525 END: 002903602 LEN: 77 SCORE: 1.093 SCORE: 0.013\tAGUUCGGUUUAUCCCUGUUUUUACAAGGAAUAUUAACUACACUCGAUGUCUUUAGAAUAAAAGACAAUACGAAUCGC\n"
       ]
      },
      {
       "output_type": "stream",
       "stream": "stdout",
       "text": [
        ">gi|556503834|ref|NC_000913.3| Escherichia coli str. K-12 substr. MG1655, complete genome START: 002947380 END: 002947457 LEN: 77 SCORE: 1.205 SCORE: 0.759\tCACGGACGCGGGGUGGAGCAGCCUGGUAGCUCGUCGGGCUCAUAACCCGAAGGUCGUCGGUUCAAAUCCGGCCCCCG\n"
       ]
      },
      {
       "output_type": "stream",
       "stream": "stdout",
       "text": [
        ">gi|556503834|ref|NC_000913.3| Escherichia coli str. K-12 substr. MG1655, complete genome START: 002947385 END: 002947462 LEN: 77 SCORE: 1.181 SCORE: 0.982\tACGCGGGGUGGAGCAGCCUGGUAGCUCGUCGGGCUCAUAACCCGAAGGUCGUCGGUUCAAAUCCGGCCCCCGCAACC\n"
       ]
      },
      {
       "output_type": "stream",
       "stream": "stdout",
       "text": [
        ">gi|556503834|ref|NC_000913.3| Escherichia coli str. K-12 substr. MG1655, complete genome START: 002947390 END: 002947467 LEN: 77 SCORE: 1.326 SCORE: 0.462\tGGGUGGAGCAGCCUGGUAGCUCGUCGGGCUCAUAACCCGAAGGUCGUCGGUUCAAAUCCGGCCCCCGCAACCAAUUA\n"
       ]
      },
      {
       "output_type": "stream",
       "stream": "stdout",
       "text": [
        ">gi|556503834|ref|NC_000913.3| Escherichia coli str. K-12 substr. MG1655, complete genome START: 002947495 END: 002947572 LEN: 77 SCORE: 1.181 SCORE: 0.982\tACGCGGGGUGGAGCAGCCUGGUAGCUCGUCGGGCUCAUAACCCGAAGGUCGUCGGUUCAAAUCCGGCCCCCGCAACC\n"
       ]
      },
      {
       "output_type": "stream",
       "stream": "stdout",
       "text": [
        ">gi|556503834|ref|NC_000913.3| Escherichia coli str. K-12 substr. MG1655, complete genome START: 002947500 END: 002947577 LEN: 77 SCORE: 1.326 SCORE: 0.448\tGGGUGGAGCAGCCUGGUAGCUCGUCGGGCUCAUAACCCGAAGGUCGUCGGUUCAAAUCCGGCCCCCGCAACCAAUCA\n"
       ]
      },
      {
       "output_type": "stream",
       "stream": "stdout",
       "text": [
        ">gi|556503834|ref|NC_000913.3| Escherichia coli str. K-12 substr. MG1655, complete genome START: 002947535 END: 002947612 LEN: 77 SCORE: 0.490 SCORE: 0.148\tCCCGAAGGUCGUCGGUUCAAAUCCGGCCCCCGCAACCAAUCAAAUUUGAUGAAGUAAAAGCAGUACGGUGACGCGGG\n"
       ]
      },
      {
       "output_type": "stream",
       "stream": "stdout",
       "text": [
        ">gi|556503834|ref|NC_000913.3| Escherichia coli str. K-12 substr. MG1655, complete genome START: 002947605 END: 002947682 LEN: 77 SCORE: 1.181 SCORE: 0.982\tACGCGGGGUGGAGCAGCCUGGUAGCUCGUCGGGCUCAUAACCCGAAGGUCGUCGGUUCAAAUCCGGCCCCCGCAACC\n"
       ]
      },
      {
       "output_type": "stream",
       "stream": "stdout",
       "text": [
        ">gi|556503834|ref|NC_000913.3| Escherichia coli str. K-12 substr. MG1655, complete genome START: 002947610 END: 002947687 LEN: 77 SCORE: 1.326 SCORE: 0.462\tGGGUGGAGCAGCCUGGUAGCUCGUCGGGCUCAUAACCCGAAGGUCGUCGGUUCAAAUCCGGCCCCCGCAACCAAUUA\n"
       ]
      },
      {
       "output_type": "stream",
       "stream": "stdout",
       "text": [
        ">gi|556503834|ref|NC_000913.3| Escherichia coli str. K-12 substr. MG1655, complete genome START: 002970690 END: 002970767 LEN: 77 SCORE: 1.133 SCORE: 0.356\tUUCUGCUUCUGGGUGGCUUGUUCCUUAUCUGGAAAGCCAGCAAGGAAAUCCACGAAUCCAUUGAAGGUGAAGAAGAA\n"
       ]
      },
      {
       "output_type": "stream",
       "stream": "stdout",
       "text": [
        ">gi|556503834|ref|NC_000913.3| Escherichia coli str. K-12 substr. MG1655, complete genome START: 002980550 END: 002980627 LEN: 77 SCORE: 0.942 SCORE: 0.003\tGCUGUUUAAUGCCUUCAUUUAUCAAACGAUAGUAAGGAAUGGUGGAUUCCCAGCUCAUUCCUCCCAGCAAACCAAUU\n"
       ]
      },
      {
       "output_type": "stream",
       "stream": "stdout",
       "text": [
        ">gi|556503834|ref|NC_000913.3| Escherichia coli str. K-12 substr. MG1655, complete genome START: 002990485 END: 002990562 LEN: 77 SCORE: 1.226 SCORE: 0.067\tGGUGAUAUUUGACAUUAUCAGAAGCUGCGAAUUCGGAUUUUGCUCUAAUCAAAUGAGAGAAAUGUAAAAUGAAGCCA\n"
       ]
      },
      {
       "output_type": "stream",
       "stream": "stdout",
       "text": [
        ">gi|556503834|ref|NC_000913.3| Escherichia coli str. K-12 substr. MG1655, complete genome START: 002993020 END: 002993097 LEN: 77 SCORE: 1.006 SCORE: 0.122\tCUUCAUGGAAAAAGUGAACUUGAACUUGCUGCUCAAAAAGCAUUAGAGCUUUUAGAUUAUGUAUCAGACAUAACCAC\n"
       ]
      },
      {
       "output_type": "stream",
       "stream": "stdout",
       "text": [
        ">gi|556503834|ref|NC_000913.3| Escherichia coli str. K-12 substr. MG1655, complete genome START: 003004535 END: 003004612 LEN: 77 SCORE: 1.018 SCORE: 0.105\tCAAAUUCUGAUUAGUUGCAGAAAUGAUGCGAAUGUCGACUUGUAUUGGGCUACUGGCACCAAUCGGCAGAAUUUCAC\n"
       ]
      },
      {
       "output_type": "stream",
       "stream": "stdout",
       "text": [
        ">gi|556503834|ref|NC_000913.3| Escherichia coli str. K-12 substr. MG1655, complete genome START: 003051025 END: 003051102 LEN: 77 SCORE: 1.133 SCORE: 0.461\tAGUUUAUUUCAAAUGAGGAAAAUCUCCCGGCGAAAAAACCGGGAGAUGAAAGUGUGAUGGGUAUCAAAUAAACAACA\n"
       ]
      },
      {
       "output_type": "stream",
       "stream": "stdout",
       "text": [
        ">gi|556503834|ref|NC_000913.3| Escherichia coli str. K-12 substr. MG1655, complete genome START: 003073225 END: 003073302 LEN: 77 SCORE: 0.445 SCORE: 0.111\tUACAGGAAGCGUUAGAAACGAUGCGGUGUUCCGCACGAAGUUGAUCCUGAUUGACGCCGUAAACAACGGUCGCGUCG\n"
       ]
      },
      {
       "output_type": "stream",
       "stream": "stdout",
       "text": [
        ">gi|556503834|ref|NC_000913.3| Escherichia coli str. K-12 substr. MG1655, complete genome START: 003106665 END: 003106742 LEN: 77 SCORE: 0.559 SCORE: 0.222\tACGGUUGCGCAUUCGACUUCUUCAACAUCUCUGGUUCGGUGUUUGUCGAAAAAGAAGUUAGCCCGGCAAUUCGCGCC\n"
       ]
      },
      {
       "output_type": "stream",
       "stream": "stdout",
       "text": [
        ">gi|556503834|ref|NC_000913.3| Escherichia coli str. K-12 substr. MG1655, complete genome START: 003110340 END: 003110417 LEN: 77 SCORE: 0.590 SCORE: 0.241\tCGAAUCAGGUUUAAUGCGCCCCGUUGCCCGGAUAGCUCAGUCGGUAGAGCAGGGGAUUGAAAAUCCCCGUGUCCUUG\n"
       ]
      },
      {
       "output_type": "stream",
       "stream": "stdout",
       "text": [
        ">gi|556503834|ref|NC_000913.3| Escherichia coli str. K-12 substr. MG1655, complete genome START: 003110345 END: 003110422 LEN: 77 SCORE: 0.625 SCORE: 0.760\tCAGGUUUAAUGCGCCCCGUUGCCCGGAUAGCUCAGUCGGUAGAGCAGGGGAUUGAAAAUCCCCGUGUCCUUGGUUCG\n"
       ]
      },
      {
       "output_type": "stream",
       "stream": "stdout",
       "text": [
        ">gi|556503834|ref|NC_000913.3| Escherichia coli str. K-12 substr. MG1655, complete genome START: 003110360 END: 003110437 LEN: 77 SCORE: 1.179 SCORE: 1.275\tCCGUUGCCCGGAUAGCUCAGUCGGUAGAGCAGGGGAUUGAAAAUCCCCGUGUCCUUGGUUCGAUUCCGAGUCCGGGC\n"
       ]
      },
      {
       "output_type": "stream",
       "stream": "stdout",
       "text": [
        ">gi|556503834|ref|NC_000913.3| Escherichia coli str. K-12 substr. MG1655, complete genome START: 003110365 END: 003110442 LEN: 77 SCORE: 1.179 SCORE: 1.474\tGCCCGGAUAGCUCAGUCGGUAGAGCAGGGGAUUGAAAAUCCCCGUGUCCUUGGUUCGAUUCCGAGUCCGGGCACCAC\n"
       ]
      },
      {
       "output_type": "stream",
       "stream": "stdout",
       "text": [
        ">gi|556503834|ref|NC_000913.3| Escherichia coli str. K-12 substr. MG1655, complete genome START: 003110370 END: 003110447 LEN: 77 SCORE: 0.967 SCORE: 0.995\tGAUAGCUCAGUCGGUAGAGCAGGGGAUUGAAAAUCCCCGUGUCCUUGGUUCGAUUCCGAGUCCGGGCACCACUAAUU\n"
       ]
      },
      {
       "output_type": "stream",
       "stream": "stdout",
       "text": [
        ">gi|556503834|ref|NC_000913.3| Escherichia coli str. K-12 substr. MG1655, complete genome START: 003110385 END: 003110462 LEN: 77 SCORE: 1.031 SCORE: 0.153\tAGAGCAGGGGAUUGAAAAUCCCCGUGUCCUUGGUUCGAUUCCGAGUCCGGGCACCACUAAUUCUUAAGAACCCGCCC\n"
       ]
      },
      {
       "output_type": "stream",
       "stream": "stdout",
       "text": [
        ">gi|556503834|ref|NC_000913.3| Escherichia coli str. K-12 substr. MG1655, complete genome START: 003124415 END: 003124492 LEN: 77 SCORE: 0.561 SCORE: 0.064\tCGCAUAUGUUCCCGCUGAACCGCAGCACAGAUGGCUGUCGGGAACGUCCGUUAAGGUAAAUCCAAGACGAAGCAACA\n"
       ]
      },
      {
       "output_type": "stream",
       "stream": "stdout",
       "text": [
        ">gi|556503834|ref|NC_000913.3| Escherichia coli str. K-12 substr. MG1655, complete genome START: 003183065 END: 003183142 LEN: 77 SCORE: 1.072 SCORE: 0.413\tUGGGCGGGGAUUUCUGGACUAGCAGAAAUUCUUGGUGGUGUGCUGGCGUGGUUAAUCCUCGGUAGCAUGAUUUCCCC\n"
       ]
      },
      {
       "output_type": "stream",
       "stream": "stdout",
       "text": [
        ">gi|556503834|ref|NC_000913.3| Escherichia coli str. K-12 substr. MG1655, complete genome START: 003183070 END: 003183147 LEN: 77 SCORE: 1.072 SCORE: 0.534\tGGGGAUUUCUGGACUAGCAGAAAUUCUUGGUGGUGUGCUGGCGUGGUUAAUCCUCGGUAGCAUGAUUUCCCCGGUGG\n"
       ]
      },
      {
       "output_type": "stream",
       "stream": "stdout",
       "text": [
        ">gi|556503834|ref|NC_000913.3| Escherichia coli str. K-12 substr. MG1655, complete genome START: 003190325 END: 003190402 LEN: 77 SCORE: 1.146 SCORE: 0.641\tAUGGGGUAAUGACUUACGAAAAAGUUGAAAUCAUUCGUAGAAAUGACGGUUCGAUCCGCUUUAACAAUAAGAUGCCU\n"
       ]
      },
      {
       "output_type": "stream",
       "stream": "stdout",
       "text": [
        ">gi|556503834|ref|NC_000913.3| Escherichia coli str. K-12 substr. MG1655, complete genome START: 003190335 END: 003190412 LEN: 77 SCORE: 0.468 SCORE: 0.433\tGACUUACGAAAAAGUUGAAAUCAUUCGUAGAAAUGACGGUUCGAUCCGCUUUAACAAUAAGAUGCCUUAUCACGUUA\n"
       ]
      },
      {
       "output_type": "stream",
       "stream": "stdout",
       "text": [
        ">gi|556503834|ref|NC_000913.3| Escherichia coli str. K-12 substr. MG1655, complete genome START: 003204490 END: 003204567 LEN: 77 SCORE: 1.011 SCORE: 0.620\tUUCGAUAUCGAACACUAACUUCUGUUCGAUGGUCUGUUCCCAGUCGUAAACACCAAUAGUGGUGAUUACCGAAAGUU\n"
       ]
      },
      {
       "output_type": "stream",
       "stream": "stdout",
       "text": [
        ">gi|556503834|ref|NC_000913.3| Escherichia coli str. K-12 substr. MG1655, complete genome START: 003214230 END: 003214307 LEN: 77 SCORE: 0.710 SCORE: 0.382\tCAACCGUGGCUUGCAGUUCCUUGACCUGAUUCAGGAAGGCAACAUCGGUCUGAUGAAAGCGGUUGAUAAAUUCGAAU\n"
       ]
      },
      {
       "output_type": "stream",
       "stream": "stdout",
       "text": [
        ">gi|556503834|ref|NC_000913.3| Escherichia coli str. K-12 substr. MG1655, complete genome START: 003215590 END: 003215667 LEN: 77 SCORE: 1.187 SCORE: 0.433\tCUACCAUGGCCCCUUAGCUCAGUGGUUAGAGCAGGCGACUCAUAAUCGCUUGGUCGCUGGUUCAAGUCCAGCAGGGG\n"
       ]
      },
      {
       "output_type": "stream",
       "stream": "stdout",
       "text": [
        ">gi|556503834|ref|NC_000913.3| Escherichia coli str. K-12 substr. MG1655, complete genome START: 003215595 END: 003215672 LEN: 77 SCORE: 1.179 SCORE: 1.207\tAUGGCCCCUUAGCUCAGUGGUUAGAGCAGGCGACUCAUAAUCGCUUGGUCGCUGGUUCAAGUCCAGCAGGGGCCACC\n"
       ]
      },
      {
       "output_type": "stream",
       "stream": "stdout",
       "text": [
        ">gi|556503834|ref|NC_000913.3| Escherichia coli str. K-12 substr. MG1655, complete genome START: 003215600 END: 003215677 LEN: 77 SCORE: 1.187 SCORE: 0.603\tCCCUUAGCUCAGUGGUUAGAGCAGGCGACUCAUAAUCGCUUGGUCGCUGGUUCAAGUCCAGCAGGGGCCACCAGAUA\n"
       ]
      },
      {
       "output_type": "stream",
       "stream": "stdout",
       "text": [
        ">gi|556503834|ref|NC_000913.3| Escherichia coli str. K-12 substr. MG1655, complete genome START: 003215605 END: 003215682 LEN: 77 SCORE: 1.187 SCORE: 0.341\tAGCUCAGUGGUUAGAGCAGGCGACUCAUAAUCGCUUGGUCGCUGGUUCAAGUCCAGCAGGGGCCACCAGAUAUAGCA\n"
       ]
      },
      {
       "output_type": "stream",
       "stream": "stdout",
       "text": [
        ">gi|556503834|ref|NC_000913.3| Escherichia coli str. K-12 substr. MG1655, complete genome START: 003230895 END: 003230972 LEN: 77 SCORE: 1.054 SCORE: 0.107\tCGGUGGUGAAGGUGAUGCUCGAUCCUAAAGAGUUCAACACCUUUGUCCCGCUGGGAACGGCGGCGUUAACCAAUCCG\n"
       ]
      },
      {
       "output_type": "stream",
       "stream": "stdout",
       "text": [
        ">gi|556503834|ref|NC_000913.3| Escherichia coli str. K-12 substr. MG1655, complete genome START: 003253230 END: 003253307 LEN: 77 SCORE: 1.031 SCORE: 0.690\tUCGUUACGGAAACGAUCCGAAGUUUGGUUCAAAUUAAUCUUAGAAUUGGGGCGAUAUUUCGCCCCUUUUUAUUAACA\n"
       ]
      },
      {
       "output_type": "stream",
       "stream": "stdout",
       "text": [
        ">gi|556503834|ref|NC_000913.3| Escherichia coli str. K-12 substr. MG1655, complete genome START: 003303360 END: 003303437 LEN: 77 SCORE: 1.133 SCORE: 0.141\tAGCCUAAGUAAAUAGCUCACUUUGUUAACAACUUUAACUACUCUUUAAUGCAGUAUUAAAGAUUAAUCGGUAACAAA\n"
       ]
      },
      {
       "output_type": "stream",
       "stream": "stdout",
       "text": [
        ">gi|556503834|ref|NC_000913.3| Escherichia coli str. K-12 substr. MG1655, complete genome START: 003381310 END: 003381387 LEN: 77 SCORE: 1.164 SCORE: 0.004\tGCCGCAGCGGGUUGAAUCUUGAAGGUCUGGAAAACUUUAUCCAGACAGAUGCUUCCAUUAACCGCGGUAACUCCGGC\n"
       ]
      },
      {
       "output_type": "stream",
       "stream": "stdout",
       "text": [
        ">gi|556503834|ref|NC_000913.3| Escherichia coli str. K-12 substr. MG1655, complete genome START: 003382360 END: 003382437 LEN: 77 SCORE: 1.151 SCORE: 0.112\tCGCGCCAGCGGUGGUUAACGUUUACAACCGUGGUUUGAACACCAACUCUCACAACCAGCUUGAGAUCCGCACCCUGG\n"
       ]
      },
      {
       "output_type": "stream",
       "stream": "stdout",
       "text": [
        ">gi|556503834|ref|NC_000913.3| Escherichia coli str. K-12 substr. MG1655, complete genome START: 003423175 END: 003423252 LEN: 77 SCORE: 0.985 SCORE: 0.647\tAUCGCAGGUAAUCCAUUAAUUGAAUGUUAGUUCGAAAAGCAAAAAGGCCAUCCUUUCGGAUGGCCUUUCGCUUGAUU\n"
       ]
      },
      {
       "output_type": "stream",
       "stream": "stdout",
       "text": [
        ">gi|556503834|ref|NC_000913.3| Escherichia coli str. K-12 substr. MG1655, complete genome START: 003426580 END: 003426657 LEN: 77 SCORE: 0.612 SCORE: 0.089\tUAGAUGUUUCAGUUCCCCCGGUUCGCCUCAUUAACCUAUGGAUUCAGUUAAUGAUAGUGUGUCGAAACACACUGGGU\n"
       ]
      },
      {
       "output_type": "stream",
       "stream": "stdout",
       "text": [
        ">gi|556503834|ref|NC_000913.3| Escherichia coli str. K-12 substr. MG1655, complete genome START: 003426585 END: 003426662 LEN: 77 SCORE: 0.942 SCORE: 0.137\tGUUUCAGUUCCCCCGGUUCGCCUCAUUAACCUAUGGAUUCAGUUAAUGAUAGUGUGUCGAAACACACUGGGUUUCCC\n"
       ]
      },
      {
       "output_type": "stream",
       "stream": "stdout",
       "text": [
        ">gi|556503834|ref|NC_000913.3| Escherichia coli str. K-12 substr. MG1655, complete genome START: 003426595 END: 003426672 LEN: 77 SCORE: 0.501 SCORE: 0.249\tCCCCGGUUCGCCUCAUUAACCUAUGGAUUCAGUUAAUGAUAGUGUGUCGAAACACACUGGGUUUCCCCAUUCGGAAA\n"
       ]
      },
      {
       "output_type": "stream",
       "stream": "stdout",
       "text": [
        ">gi|556503834|ref|NC_000913.3| Escherichia coli str. K-12 substr. MG1655, complete genome START: 003426600 END: 003426677 LEN: 77 SCORE: 0.354 SCORE: 0.603\tGUUCGCCUCAUUAACCUAUGGAUUCAGUUAAUGAUAGUGUGUCGAAACACACUGGGUUUCCCCAUUCGGAAAUCGCC\n"
       ]
      },
      {
       "output_type": "stream",
       "stream": "stdout",
       "text": [
        ">gi|556503834|ref|NC_000913.3| Escherichia coli str. K-12 substr. MG1655, complete genome START: 003426605 END: 003426682 LEN: 77 SCORE: 0.944 SCORE: 0.243\tCCUCAUUAACCUAUGGAUUCAGUUAAUGAUAGUGUGUCGAAACACACUGGGUUUCCCCAUUCGGAAAUCGCCGGUUA\n"
       ]
      },
      {
       "output_type": "stream",
       "stream": "stdout",
       "text": [
        ">gi|556503834|ref|NC_000913.3| Escherichia coli str. K-12 substr. MG1655, complete genome START: 003426610 END: 003426687 LEN: 77 SCORE: 0.594 SCORE: 0.003\tUUAACCUAUGGAUUCAGUUAAUGAUAGUGUGUCGAAACACACUGGGUUUCCCCAUUCGGAAAUCGCCGGUUAUAACG\n"
       ]
      },
      {
       "output_type": "stream",
       "stream": "stdout",
       "text": [
        ">gi|556503834|ref|NC_000913.3| Escherichia coli str. K-12 substr. MG1655, complete genome START: 003433310 END: 003433387 LEN: 77 SCORE: 1.011 SCORE: 0.332\tGAGGAUAAAAUUCGCUGUCCGCAGGAAUUAAAUGAUGGUUGGGUUGCUCCAACCAACAAAGUGAGCUUUCGAUACUC\n"
       ]
      },
      {
       "output_type": "stream",
       "stream": "stdout",
       "text": [
        ">gi|556503834|ref|NC_000913.3| Escherichia coli str. K-12 substr. MG1655, complete genome START: 003553090 END: 003553167 LEN: 77 SCORE: 1.226 SCORE: 0.056\tAUUCCGUCAAAACUAAGUCGUCCGGUUCGACUCGACCAUACCGUGGUUCGUGAGCGCCUGCUGGCUAAACUUUCCGG\n"
       ]
      },
      {
       "output_type": "stream",
       "stream": "stdout",
       "text": [
        ">gi|556503834|ref|NC_000913.3| Escherichia coli str. K-12 substr. MG1655, complete genome START: 003561925 END: 003562002 LEN: 77 SCORE: 0.206 SCORE: 0.132\tUUUUCAAUGUUACCUAAAGCGCGAUUCUUUGCUAAUAUGUUCGAUAACGAACAUUUAUGAGCUUUAACGAAAGUGAA\n"
       ]
      },
      {
       "output_type": "stream",
       "stream": "stdout",
       "text": [
        ">gi|556503834|ref|NC_000913.3| Escherichia coli str. K-12 substr. MG1655, complete genome START: 003561950 END: 003562027 LEN: 77 SCORE: 0.142 SCORE: 0.047\tUCUUUGCUAAUAUGUUCGAUAACGAACAUUUAUGAGCUUUAACGAAAGUGAAUGAGGGCAGCAUGGAAACCAAAGAU\n"
       ]
      },
      {
       "output_type": "stream",
       "stream": "stdout",
       "text": [
        ">gi|556503834|ref|NC_000913.3| Escherichia coli str. K-12 substr. MG1655, complete genome START: 003573900 END: 003573977 LEN: 77 SCORE: 0.551 SCORE: 0.032\tGGUCAGCGUGCCGGUAACGGCAGCUGGGGUUAGCUCACGCAUAGUGAUUUCCCGAUCGUUCGGAACGACUUUCGCCC\n"
       ]
      },
      {
       "output_type": "stream",
       "stream": "stdout",
       "text": [
        ">gi|556503834|ref|NC_000913.3| Escherichia coli str. K-12 substr. MG1655, complete genome START: 003600785 END: 003600862 LEN: 77 SCORE: 1.133 SCORE: 0.171\tAAAUCCUCUCAAUCGAUAUCUUCUGGCGCUUCAGUGGUAGCAACAACUGUGCCAGAGCUUAAGAGCAACGAGGUUAU\n"
       ]
      },
      {
       "output_type": "stream",
       "stream": "stdout",
       "text": [
        ">gi|556503834|ref|NC_000913.3| Escherichia coli str. K-12 substr. MG1655, complete genome START: 003657955 END: 003658032 LEN: 77 SCORE: 1.011 SCORE: 0.054\tGUUAUUUACUCAGGUAAUUUCAAUGCGUUAAAAGAAAGCUGGCAAUCCAAUUGCCAGCUUAAGUCGAAACAAGGAGA\n"
       ]
      },
      {
       "output_type": "stream",
       "stream": "stdout",
       "text": [
        ">gi|556503834|ref|NC_000913.3| Escherichia coli str. K-12 substr. MG1655, complete genome START: 003663505 END: 003663582 LEN: 77 SCORE: 1.067 SCORE: 0.208\tUGCCCGCUUUAAAAAAGCGUAACGUGUAAAUGAGAGUAAGGUUGAACAUGAAGGUUCAGCCUUACUCUUUCCUGCUA\n"
       ]
      },
      {
       "output_type": "stream",
       "stream": "stdout",
       "text": [
        ">gi|556503834|ref|NC_000913.3| Escherichia coli str. K-12 substr. MG1655, complete genome START: 003708375 END: 003708452 LEN: 77 SCORE: 1.054 SCORE: 0.910\tGCCCCCGGAGGUUCUCAUCCUCAUGAGCUGCAGAUGCAAAAAAGCCUGCUCGUUGAGCAGGCUUUUCGAAUUUGGUC\n"
       ]
      },
      {
       "output_type": "stream",
       "stream": "stdout",
       "text": [
        ">gi|556503834|ref|NC_000913.3| Escherichia coli str. K-12 substr. MG1655, complete genome START: 003708390 END: 003708467 LEN: 77 SCORE: 1.200 SCORE: 0.962\tCAUCCUCAUGAGCUGCAGAUGCAAAAAAGCCUGCUCGUUGAGCAGGCUUUUCGAAUUUGGUCGGUGAUAGAGGAUUA\n"
       ]
      },
      {
       "output_type": "stream",
       "stream": "stdout",
       "text": [
        ">gi|556503834|ref|NC_000913.3| Escherichia coli str. K-12 substr. MG1655, complete genome START: 003708410 END: 003708487 LEN: 77 SCORE: 1.067 SCORE: 0.298\tGCAAAAAAGCCUGCUCGUUGAGCAGGCUUUUCGAAUUUGGUCGGUGAUAGAGGAUUACUCGCCACUUCGUGGCUCGC\n"
       ]
      },
      {
       "output_type": "stream",
       "stream": "stdout",
       "text": [
        ">gi|556503834|ref|NC_000913.3| Escherichia coli str. K-12 substr. MG1655, complete genome START: 003708545 END: 003708622 LEN: 77 SCORE: 1.072 SCORE: 0.841\tCCCCGGAGGUUCUCAUCCUCAUGAGCUGCAGAUGCAAAAAAGCCUGCUCGUUGAGCAGGCUUUUCGAAUUUGGUCGG\n"
       ]
      },
      {
       "output_type": "stream",
       "stream": "stdout",
       "text": [
        ">gi|556503834|ref|NC_000913.3| Escherichia coli str. K-12 substr. MG1655, complete genome START: 003708555 END: 003708632 LEN: 77 SCORE: 1.200 SCORE: 0.869\tUCUCAUCCUCAUGAGCUGCAGAUGCAAAAAAGCCUGCUCGUUGAGCAGGCUUUUCGAAUUUGGUCGGUGAUAGAGGA\n"
       ]
      },
      {
       "output_type": "stream",
       "stream": "stdout",
       "text": [
        ">gi|556503834|ref|NC_000913.3| Escherichia coli str. K-12 substr. MG1655, complete genome START: 003708560 END: 003708637 LEN: 77 SCORE: 1.200 SCORE: 1.219\tUCCUCAUGAGCUGCAGAUGCAAAAAAGCCUGCUCGUUGAGCAGGCUUUUCGAAUUUGGUCGGUGAUAGAGGAUUCGA\n"
       ]
      },
      {
       "output_type": "stream",
       "stream": "stdout",
       "text": [
        ">gi|556503834|ref|NC_000913.3| Escherichia coli str. K-12 substr. MG1655, complete genome START: 003708565 END: 003708642 LEN: 77 SCORE: 0.874 SCORE: 1.059\tAUGAGCUGCAGAUGCAAAAAAGCCUGCUCGUUGAGCAGGCUUUUCGAAUUUGGUCGGUGAUAGAGGAUUCGAACCUC\n"
       ]
      },
      {
       "output_type": "stream",
       "stream": "stdout",
       "text": [
        ">gi|556503834|ref|NC_000913.3| Escherichia coli str. K-12 substr. MG1655, complete genome START: 003709445 END: 003709522 LEN: 77 SCORE: 1.124 SCORE: 0.250\tAGAACCACAUUUCGCUCUGCAUAGCGUAGAGGUCAGAACUGAAUCCUAACUGCUUCAGAACCGCGAAAAUGUUCUGU\n"
       ]
      },
      {
       "output_type": "stream",
       "stream": "stdout",
       "text": [
        ">gi|556503834|ref|NC_000913.3| Escherichia coli str. K-12 substr. MG1655, complete genome START: 003738770 END: 003738847 LEN: 77 SCORE: 0.666 SCORE: 0.179\tGGAUACCCACGCCAAAGCCAUUGACGGCUAUACGCCGCGCGAUUACUUAACCCACUGGUUAAGUCAGUGGGUCCGCG\n"
       ]
      },
      {
       "output_type": "stream",
       "stream": "stdout",
       "text": [
        ">gi|556503834|ref|NC_000913.3| Escherichia coli str. K-12 substr. MG1655, complete genome START: 003766790 END: 003766867 LEN: 77 SCORE: 1.226 SCORE: 0.258\tUUUCUGUUAUCAAUGAUAAAGCAACAAUUCCACUAUUGAUUAAUCUGUUAAAAGAUCCAAAUGGAGAUGUCAGAAAC\n"
       ]
      },
      {
       "output_type": "stream",
       "stream": "stdout",
       "text": [
        ">gi|556503834|ref|NC_000913.3| Escherichia coli str. K-12 substr. MG1655, complete genome START: 003767990 END: 003768067 LEN: 77 SCORE: 1.093 SCORE: 0.001\tUAAUGGUAAGUUAAAAAUGGAUACAGUGCUAACAGCACCAACGAACCUUAAUUCAAAUAAGGAUCUAAUGGCUAUAA\n"
       ]
      },
      {
       "output_type": "stream",
       "stream": "stdout",
       "text": [
        ">gi|556503834|ref|NC_000913.3| Escherichia coli str. K-12 substr. MG1655, complete genome START: 003768535 END: 003768612 LEN: 77 SCORE: 1.226 SCORE: 0.006\tGGAAUUCGCUGUAAAUAACGGUAAUAUUGAUGCAAAGAGCAAACUUCAAGAGCUCAAAAAGCUAAAGCGAAUGGAUA\n"
       ]
      },
      {
       "output_type": "stream",
       "stream": "stdout",
       "text": [
        ">gi|556503834|ref|NC_000913.3| Escherichia coli str. K-12 substr. MG1655, complete genome START: 003774315 END: 003774392 LEN: 77 SCORE: 0.567 SCORE: 0.044\tCGCUUACGCCGCAUCCGGCGCUGCCCCUCUCCUCACGGAGAGGGUUUGGGUGAGGGAAAAGCCUCACCCCAGCCCUC\n"
       ]
      },
      {
       "output_type": "stream",
       "stream": "stdout",
       "text": [
        ">gi|556503834|ref|NC_000913.3| Escherichia coli str. K-12 substr. MG1655, complete genome START: 003792775 END: 003792852 LEN: 77 SCORE: 1.029 SCORE: 0.115\tUUUUCCUAUCUCAGUUGGUAUCAAAACGCUACCCACUAAUGGAGGGAAACCUAUUUUCUUGAAAGGAAAAUUCUCAG\n"
       ]
      },
      {
       "output_type": "stream",
       "stream": "stdout",
       "text": [
        ">gi|556503834|ref|NC_000913.3| Escherichia coli str. K-12 substr. MG1655, complete genome START: 003794555 END: 003794632 LEN: 77 SCORE: 0.944 SCORE: 0.121\tCCAGCUUAACAACGGUGAAUCACCGAAGCUGUUUGAAGGUAGCGAGAACUUCAAACGCGACUUCGUCUAUGUGGGCG\n"
       ]
      },
      {
       "output_type": "stream",
       "stream": "stdout",
       "text": [
        ">gi|556503834|ref|NC_000913.3| Escherichia coli str. K-12 substr. MG1655, complete genome START: 003804105 END: 003804182 LEN: 77 SCORE: 0.607 SCORE: 0.017\tGAAACAGCUUCGCCGAUAAACGCUAUUUUCAUAGAAACUCUCAUUAAUUGAGUAAAACUCACUGUUUUAACGGUUUU\n"
       ]
      },
      {
       "output_type": "stream",
       "stream": "stdout",
       "text": [
        ">gi|556503834|ref|NC_000913.3| Escherichia coli str. K-12 substr. MG1655, complete genome START: 003809905 END: 003809982 LEN: 77 SCORE: 0.586 SCORE: 0.096\tAUGUUCGAUCACGUUAUUCUGGCGAUUGCCGCCAGCCCCAGUAAAAAACCGAUGUUUACCCUGGAAGAGCGUGUGGC\n"
       ]
      },
      {
       "output_type": "stream",
       "stream": "stdout",
       "text": [
        ">gi|556503834|ref|NC_000913.3| Escherichia coli str. K-12 substr. MG1655, complete genome START: 003836220 END: 003836297 LEN: 77 SCORE: 1.047 SCORE: 0.232\tCGGAAGAUCGUCGUCUCCGGUGAGGCGGCUGGACUUCAAAUCCAGUUGGGGCCGCCAGCGGUCCCGGGCAGGUUCGA\n"
       ]
      },
      {
       "output_type": "stream",
       "stream": "stdout",
       "text": [
        ">gi|556503834|ref|NC_000913.3| Escherichia coli str. K-12 substr. MG1655, complete genome START: 003836230 END: 003836307 LEN: 77 SCORE: 0.246 SCORE: 1.105\tUCGUCUCCGGUGAGGCGGCUGGACUUCAAAUCCAGUUGGGGCCGCCAGCGGUCCCGGGCAGGUUCGACUCCUGUGAU\n"
       ]
      },
      {
       "output_type": "stream",
       "stream": "stdout",
       "text": [
        ">gi|556503834|ref|NC_000913.3| Escherichia coli str. K-12 substr. MG1655, complete genome START: 003836235 END: 003836312 LEN: 77 SCORE: 1.085 SCORE: 0.828\tUCCGGUGAGGCGGCUGGACUUCAAAUCCAGUUGGGGCCGCCAGCGGUCCCGGGCAGGUUCGACUCCUGUGAUCUUCC\n"
       ]
      },
      {
       "output_type": "stream",
       "stream": "stdout",
       "text": [
        ">gi|556503834|ref|NC_000913.3| Escherichia coli str. K-12 substr. MG1655, complete genome START: 003836240 END: 003836317 LEN: 77 SCORE: 0.991 SCORE: 0.945\tUGAGGCGGCUGGACUUCAAAUCCAGUUGGGGCCGCCAGCGGUCCCGGGCAGGUUCGACUCCUGUGAUCUUCCGCCAA\n"
       ]
      },
      {
       "output_type": "stream",
       "stream": "stdout",
       "text": [
        ">gi|556503834|ref|NC_000913.3| Escherichia coli str. K-12 substr. MG1655, complete genome START: 003836245 END: 003836322 LEN: 77 SCORE: 0.998 SCORE: 0.546\tCGGCUGGACUUCAAAUCCAGUUGGGGCCGCCAGCGGUCCCGGGCAGGUUCGACUCCUGUGAUCUUCCGCCAAAAUGC\n"
       ]
      },
      {
       "output_type": "stream",
       "stream": "stdout",
       "text": [
        ">gi|556503834|ref|NC_000913.3| Escherichia coli str. K-12 substr. MG1655, complete genome START: 003852815 END: 003852892 LEN: 77 SCORE: 1.179 SCORE: 0.204\tCGGGAGGUGCUUAAACGAAAAACCCCGCCCGGUUUGCGCCGGCGGGGUUUUGGAAUCGUGUGUUGUUCCAGUCCCUA\n"
       ]
      },
      {
       "output_type": "stream",
       "stream": "stdout",
       "text": [
        ">gi|556503834|ref|NC_000913.3| Escherichia coli str. K-12 substr. MG1655, complete genome START: 003891470 END: 003891547 LEN: 77 SCORE: 1.187 SCORE: 0.416\tUAAAUUUGGCUAAAUCCUUCAAGAAGCCAGCCAUUCGCUGGCUUCUUGCCUCUCAGGAAAUCACUUAUGUCCAAAUG\n"
       ]
      },
      {
       "output_type": "stream",
       "stream": "stdout",
       "text": [
        ">gi|556503834|ref|NC_000913.3| Escherichia coli str. K-12 substr. MG1655, complete genome START: 003892870 END: 003892947 LEN: 77 SCORE: 1.214 SCORE: 0.284\tCUUCGGCGGUGAGUAAGUCGCUGGCAAAGUUAAGAGCGUGGUUUGACGACCCGCUCUUUGUGAACUCACCGCUGGGU\n"
       ]
      },
      {
       "output_type": "stream",
       "stream": "stdout",
       "text": [
        ">gi|556503834|ref|NC_000913.3| Escherichia coli str. K-12 substr. MG1655, complete genome START: 003943430 END: 003943507 LEN: 77 SCORE: 1.179 SCORE: 0.604\tAUACGUCCCCUUCGUCUAGAGGCCCAGGACACCGCCCUUUCACGGCGGUAACAGGGGUUCGAAUCCCCUAGGGGACG\n"
       ]
      },
      {
       "output_type": "stream",
       "stream": "stdout",
       "text": [
        ">gi|556503834|ref|NC_000913.3| Escherichia coli str. K-12 substr. MG1655, complete genome START: 003943435 END: 003943512 LEN: 77 SCORE: 1.218 SCORE: 0.064\tUCCCCUUCGUCUAGAGGCCCAGGACACCGCCCUUUCACGGCGGUAACAGGGGUUCGAAUCCCCUAGGGGACGCCACU\n"
       ]
      },
      {
       "output_type": "stream",
       "stream": "stdout",
       "text": [
        ">gi|556503834|ref|NC_000913.3| Escherichia coli str. K-12 substr. MG1655, complete genome START: 003946870 END: 003946947 LEN: 77 SCORE: 2.100 SCORE: 0.344\tUGGAGCGGUAGUUCAGUCGGUUAGAAUACCUGCCUGUCACGCAGGGGGUCGCGGGUUCGAGUCCCGUCCGUUCCGCC\n"
       ]
      },
      {
       "output_type": "stream",
       "stream": "stdout",
       "text": [
        ">gi|556503834|ref|NC_000913.3| Escherichia coli str. K-12 substr. MG1655, complete genome START: 003946935 END: 003947012 LEN: 77 SCORE: 1.164 SCORE: 0.131\tGUCCGUUCCGCCACCCUAAUUAGGGGCGUAGUUCAAUUGGUAGAGCACCGGUCUCCAAAACCGGGUGUUGGGAGUUC\n"
       ]
      },
      {
       "output_type": "stream",
       "stream": "stdout",
       "text": [
        ">gi|556503834|ref|NC_000913.3| Escherichia coli str. K-12 substr. MG1655, complete genome START: 003946950 END: 003947027 LEN: 77 SCORE: 1.164 SCORE: 1.340\tCUAAUUAGGGGCGUAGUUCAAUUGGUAGAGCACCGGUCUCCAAAACCGGGUGUUGGGAGUUCGAGUCUCUCCGCCCC\n"
       ]
      },
      {
       "output_type": "stream",
       "stream": "stdout",
       "text": [
        ">gi|556503834|ref|NC_000913.3| Escherichia coli str. K-12 substr. MG1655, complete genome START: 003946955 END: 003947032 LEN: 77 SCORE: 1.218 SCORE: 1.691\tUAGGGGCGUAGUUCAAUUGGUAGAGCACCGGUCUCCAAAACCGGGUGUUGGGAGUUCGAGUCUCUCCGCCCCUGCCA\n"
       ]
      },
      {
       "output_type": "stream",
       "stream": "stdout",
       "text": [
        ">gi|556503834|ref|NC_000913.3| Escherichia coli str. K-12 substr. MG1655, complete genome START: 003982370 END: 003982447 LEN: 77 SCORE: 1.200 SCORE: 0.898\tCUAAGCGCCCGUAGCUCAGCUGGAUAGAGCGCUGCCCUCCGGAGGCAGAGGUCUCAGGUUCGAAUCCUGUCGGGCGC\n"
       ]
      },
      {
       "output_type": "stream",
       "stream": "stdout",
       "text": [
        ">gi|556503834|ref|NC_000913.3| Escherichia coli str. K-12 substr. MG1655, complete genome START: 003982375 END: 003982452 LEN: 77 SCORE: 1.218 SCORE: 0.577\tCGCCCGUAGCUCAGCUGGAUAGAGCGCUGCCCUCCGGAGGCAGAGGUCUCAGGUUCGAAUCCUGUCGGGCGCGCCAU\n"
       ]
      },
      {
       "output_type": "stream",
       "stream": "stdout",
       "text": [
        ">gi|556503834|ref|NC_000913.3| Escherichia coli str. K-12 substr. MG1655, complete genome START: 003982490 END: 003982567 LEN: 77 SCORE: 1.029 SCORE: 0.141\tCGUAACAAGAUUUGUAGUGGUGGCUAUAGCUCAGUUGGUAGAGCCCUGGAUUGUGAUUCCAGUUGUCGUGGGUUCGA\n"
       ]
      },
      {
       "output_type": "stream",
       "stream": "stdout",
       "text": [
        ">gi|556503834|ref|NC_000913.3| Escherichia coli str. K-12 substr. MG1655, complete genome START: 003982500 END: 003982577 LEN: 77 SCORE: 0.767 SCORE: 0.844\tUUUGUAGUGGUGGCUAUAGCUCAGUUGGUAGAGCCCUGGAUUGUGAUUCCAGUUGUCGUGGGUUCGAAUCCCAUUAG\n"
       ]
      },
      {
       "output_type": "stream",
       "stream": "stdout",
       "text": [
        ">gi|556503834|ref|NC_000913.3| Escherichia coli str. K-12 substr. MG1655, complete genome START: 003982505 END: 003982582 LEN: 77 SCORE: 1.205 SCORE: 1.541\tAGUGGUGGCUAUAGCUCAGUUGGUAGAGCCCUGGAUUGUGAUUCCAGUUGUCGUGGGUUCGAAUCCCAUUAGCCACC\n"
       ]
      },
      {
       "output_type": "stream",
       "stream": "stdout",
       "text": [
        ">gi|556503834|ref|NC_000913.3| Escherichia coli str. K-12 substr. MG1655, complete genome START: 003982510 END: 003982587 LEN: 77 SCORE: 1.133 SCORE: 1.116\tUGGCUAUAGCUCAGUUGGUAGAGCCCUGGAUUGUGAUUCCAGUUGUCGUGGGUUCGAAUCCCAUUAGCCACCCCAUU\n"
       ]
      },
      {
       "output_type": "stream",
       "stream": "stdout",
       "text": [
        ">gi|556503834|ref|NC_000913.3| Escherichia coli str. K-12 substr. MG1655, complete genome START: 003982635 END: 003982712 LEN: 77 SCORE: 0.143 SCORE: 0.298\tGCUUCAGGUGUUAGUGUCCUUACGGACGUGGGGGUUCAAGUCCCCCCCCUCGCACCACGACUUUAAAGAAUUGAACU\n"
       ]
      },
      {
       "output_type": "stream",
       "stream": "stdout",
       "text": [
        ">gi|556503834|ref|NC_000913.3| Escherichia coli str. K-12 substr. MG1655, complete genome START: 003982730 END: 003982807 LEN: 77 SCORE: 2.081 SCORE: 1.792\tAUUUCGGCGAGUAGCGCAGCUUGGUAGCGCAACUGGUUUGGGACCAGUGGGUCGGAGGUUCGAAUCCUCUCUCGCCG\n"
       ]
      },
      {
       "output_type": "stream",
       "stream": "stdout",
       "text": [
        ">gi|556503834|ref|NC_000913.3| Escherichia coli str. K-12 substr. MG1655, complete genome START: 003982735 END: 003982812 LEN: 77 SCORE: 2.081 SCORE: 1.462\tGGCGAGUAGCGCAGCUUGGUAGCGCAACUGGUUUGGGACCAGUGGGUCGGAGGUUCGAAUCCUCUCUCGCCGACCAA\n"
       ]
      },
      {
       "output_type": "stream",
       "stream": "stdout",
       "text": [
        ">gi|556503834|ref|NC_000913.3| Escherichia coli str. K-12 substr. MG1655, complete genome START: 003982740 END: 003982817 LEN: 77 SCORE: 0.517 SCORE: 1.403\tGUAGCGCAGCUUGGUAGCGCAACUGGUUUGGGACCAGUGGGUCGGAGGUUCGAAUCCUCUCUCGCCGACCAAUUUUG\n"
       ]
      },
      {
       "output_type": "stream",
       "stream": "stdout",
       "text": [
        ">gi|556503834|ref|NC_000913.3| Escherichia coli str. K-12 substr. MG1655, complete genome START: 003997540 END: 003997617 LEN: 77 SCORE: 1.205 SCORE: 0.057\tACACCUUAAAACAGCUGGCGAAGAAAUGGCCGCUGGUGGCGAUCACCAACGGUAACGCCCAGCCGGAGCUGUUUGGU\n"
       ]
      },
      {
       "output_type": "stream",
       "stream": "stdout",
       "text": [
        ">gi|556503834|ref|NC_000913.3| Escherichia coli str. K-12 substr. MG1655, complete genome START: 004037135 END: 004037212 LEN: 77 SCORE: 1.350 SCORE: 0.338\tUCUACAGGCUUGUAGCUCAGGUGGUUAGAGCGCACCCCUGAUAAGGGUGAGGUCGGUGGUUCAAGUCCACUCAGGCC\n"
       ]
      },
      {
       "output_type": "stream",
       "stream": "stdout",
       "text": [
        ">gi|556503834|ref|NC_000913.3| Escherichia coli str. K-12 substr. MG1655, complete genome START: 004037140 END: 004037217 LEN: 77 SCORE: 1.368 SCORE: 1.103\tAGGCUUGUAGCUCAGGUGGUUAGAGCGCACCCCUGAUAAGGGUGAGGUCGGUGGUUCAAGUCCACUCAGGCCUACCA\n"
       ]
      },
      {
       "output_type": "stream",
       "stream": "stdout",
       "text": [
        ">gi|556503834|ref|NC_000913.3| Escherichia coli str. K-12 substr. MG1655, complete genome START: 004037165 END: 004037242 LEN: 77 SCORE: 0.944 SCORE: 0.338\tCGCACCCCUGAUAAGGGUGAGGUCGGUGGUUCAAGUCCACUCAGGCCUACCAAAUUUGCACGGCAAAUUUGAAGAGG\n"
       ]
      },
      {
       "output_type": "stream",
       "stream": "stdout",
       "text": [
        ">gi|556503834|ref|NC_000913.3| Escherichia coli str. K-12 substr. MG1655, complete genome START: 004037255 END: 004037332 LEN: 77 SCORE: 1.218 SCORE: 0.416\tUUAUGGGGCUAUAGCUCAGCUGGGAGAGCGCCUGCUUUGCACGCAGGAGGUCUGCGGUUCGAUCCCGCAUAGCUCCA\n"
       ]
      },
      {
       "output_type": "stream",
       "stream": "stdout",
       "text": [
        ">gi|556503834|ref|NC_000913.3| Escherichia coli str. K-12 substr. MG1655, complete genome START: 004133650 END: 004133727 LEN: 77 SCORE: 1.093 SCORE: 0.164\tUUUUAUAAAGCAUUUGUCCGAAUUCGGACAUAAUCAAAAAAGCUUAAUUAAGAUCAAUUUGAUCUACAUCUCUUUAA\n"
       ]
      },
      {
       "output_type": "stream",
       "stream": "stdout",
       "text": [
        ">gi|556503834|ref|NC_000913.3| Escherichia coli str. K-12 substr. MG1655, complete genome START: 004133655 END: 004133732 LEN: 77 SCORE: 1.093 SCORE: 0.347\tUAAAGCAUUUGUCCGAAUUCGGACAUAAUCAAAAAAGCUUAAUUAAGAUCAAUUUGAUCUACAUCUCUUUAACCAAC\n"
       ]
      },
      {
       "output_type": "stream",
       "stream": "stdout",
       "text": [
        ">gi|556503834|ref|NC_000913.3| Escherichia coli str. K-12 substr. MG1655, complete genome START: 004168365 END: 004168442 LEN: 77 SCORE: 0.614 SCORE: 0.065\tUUUCGUGUCCCCUUCGUCUAGAGGCCCAGGACACCGCCCUUUCACGGCGGUAACAGGGGUUCGAAUCCCCUAGGGGA\n"
       ]
      },
      {
       "output_type": "stream",
       "stream": "stdout",
       "text": [
        ">gi|556503834|ref|NC_000913.3| Escherichia coli str. K-12 substr. MG1655, complete genome START: 004168370 END: 004168447 LEN: 77 SCORE: 1.179 SCORE: 0.345\tUGUCCCCUUCGUCUAGAGGCCCAGGACACCGCCCUUUCACGGCGGUAACAGGGGUUCGAAUCCCCUAGGGGACGCCA\n"
       ]
      },
      {
       "output_type": "stream",
       "stream": "stdout",
       "text": [
        ">gi|556503834|ref|NC_000913.3| Escherichia coli str. K-12 substr. MG1655, complete genome START: 004175380 END: 004175457 LEN: 77 SCORE: 1.162 SCORE: 0.865\tACUUGAUGCCGACUUAGCUCAGUAGGUAGAGCAACUGACUUGUAAUCAGUAGGUCACCAGUUCGAUUCCGGUAGUCG\n"
       ]
      },
      {
       "output_type": "stream",
       "stream": "stdout",
       "text": [
        ">gi|556503834|ref|NC_000913.3| Escherichia coli str. K-12 substr. MG1655, complete genome START: 004175385 END: 004175462 LEN: 77 SCORE: 1.164 SCORE: 0.712\tAUGCCGACUUAGCUCAGUAGGUAGAGCAACUGACUUGUAAUCAGUAGGUCACCAGUUCGAUUCCGGUAGUCGGCACC\n"
       ]
      },
      {
       "output_type": "stream",
       "stream": "stdout",
       "text": [
        ">gi|556503834|ref|NC_000913.3| Escherichia coli str. K-12 substr. MG1655, complete genome START: 004175470 END: 004175547 LEN: 77 SCORE: 0.944 SCORE: 0.247\tCGGUGGGGUUCCCGAGCGGCCAAAGGGAGCAGACUGUAAAUCUGCCGUCACAGACUUCGAAGGUUCGAAUCCUUCCC\n"
       ]
      },
      {
       "output_type": "stream",
       "stream": "stdout",
       "text": [
        ">gi|556503834|ref|NC_000913.3| Escherichia coli str. K-12 substr. MG1655, complete genome START: 004175475 END: 004175552 LEN: 77 SCORE: 1.696 SCORE: 0.934\tGGGUUCCCGAGCGGCCAAAGGGAGCAGACUGUAAAUCUGCCGUCACAGACUUCGAAGGUUCGAAUCCUUCCCCCACC\n"
       ]
      },
      {
       "output_type": "stream",
       "stream": "stdout",
       "text": [
        ">gi|556503834|ref|NC_000913.3| Escherichia coli str. K-12 substr. MG1655, complete genome START: 004175480 END: 004175557 LEN: 77 SCORE: 0.687 SCORE: 0.993\tCCCGAGCGGCCAAAGGGAGCAGACUGUAAAUCUGCCGUCACAGACUUCGAAGGUUCGAAUCCUUCCCCCACCACCAA\n"
       ]
      },
      {
       "output_type": "stream",
       "stream": "stdout",
       "text": [
        ">gi|556503834|ref|NC_000913.3| Escherichia coli str. K-12 substr. MG1655, complete genome START: 004175485 END: 004175562 LEN: 77 SCORE: 1.006 SCORE: 0.974\tGCGGCCAAAGGGAGCAGACUGUAAAUCUGCCGUCACAGACUUCGAAGGUUCGAAUCCUUCCCCCACCACCAAUUUCG\n"
       ]
      },
      {
       "output_type": "stream",
       "stream": "stdout",
       "text": [
        ">gi|556503834|ref|NC_000913.3| Escherichia coli str. K-12 substr. MG1655, complete genome START: 004175665 END: 004175742 LEN: 77 SCORE: 1.164 SCORE: 0.361\tCCAGGAUGCGGGCAUCGUAUAAUGGCUAUUACCUCAGCCUUCCAAGCUGAUGAUGCGGGUUCGAUUCCCGCUGCCCG\n"
       ]
      },
      {
       "output_type": "stream",
       "stream": "stdout",
       "text": [
        ">gi|556503834|ref|NC_000913.3| Escherichia coli str. K-12 substr. MG1655, complete genome START: 004175670 END: 004175747 LEN: 77 SCORE: 2.100 SCORE: 0.725\tAUGCGGGCAUCGUAUAAUGGCUAUUACCUCAGCCUUCCAAGCUGAUGAUGCGGGUUCGAUUCCCGCUGCCCGCUCCA\n"
       ]
      },
      {
       "output_type": "stream",
       "stream": "stdout",
       "text": [
        ">gi|556503834|ref|NC_000913.3| Escherichia coli str. K-12 substr. MG1655, complete genome START: 004175695 END: 004175772 LEN: 77 SCORE: 0.944 SCORE: 0.446\tACCUCAGCCUUCCAAGCUGAUGAUGCGGGUUCGAUUCCCGCUGCCCGCUCCAAGAUGUGCUGAUAUAGCUCAGUUGG\n"
       ]
      },
      {
       "output_type": "stream",
       "stream": "stdout",
       "text": [
        ">gi|556503834|ref|NC_000913.3| Escherichia coli str. K-12 substr. MG1655, complete genome START: 004175730 END: 004175807 LEN: 77 SCORE: 1.205 SCORE: 0.330\tUCCCGCUGCCCGCUCCAAGAUGUGCUGAUAUAGCUCAGUUGGUAGAGCGCACCCUUGGUAAGGGUGAGGUCGGCAGU\n"
       ]
      },
      {
       "output_type": "stream",
       "stream": "stdout",
       "text": [
        ">gi|556503834|ref|NC_000913.3| Escherichia coli str. K-12 substr. MG1655, complete genome START: 004175735 END: 004175812 LEN: 77 SCORE: 1.054 SCORE: 1.138\tCUGCCCGCUCCAAGAUGUGCUGAUAUAGCUCAGUUGGUAGAGCGCACCCUUGGUAAGGGUGAGGUCGGCAGUUCGAA\n"
       ]
      },
      {
       "output_type": "stream",
       "stream": "stdout",
       "text": [
        ">gi|556503834|ref|NC_000913.3| Escherichia coli str. K-12 substr. MG1655, complete genome START: 004175750 END: 004175827 LEN: 77 SCORE: 2.081 SCORE: 1.909\tUGUGCUGAUAUAGCUCAGUUGGUAGAGCGCACCCUUGGUAAGGGUGAGGUCGGCAGUUCGAAUCUGCCUAUCAGCAC\n"
       ]
      },
      {
       "output_type": "stream",
       "stream": "stdout",
       "text": [
        ">gi|556503834|ref|NC_000913.3| Escherichia coli str. K-12 substr. MG1655, complete genome START: 004175755 END: 004175832 LEN: 77 SCORE: 0.944 SCORE: 1.538\tUGAUAUAGCUCAGUUGGUAGAGCGCACCCUUGGUAAGGGUGAGGUCGGCAGUUCGAAUCUGCCUAUCAGCACCACUU\n"
       ]
      },
      {
       "output_type": "stream",
       "stream": "stdout",
       "text": [
        ">gi|556503834|ref|NC_000913.3| Escherichia coli str. K-12 substr. MG1655, complete genome START: 004182555 END: 004182632 LEN: 77 SCORE: 1.031 SCORE: 0.015\tGGUAAAGGCGAAGUCGAUGAUAUCGACCACCUCGGCAACCGUCGUAUCCGUUCCGUUGGCGAAAUGGCGGAAAACCA\n"
       ]
      },
      {
       "output_type": "stream",
       "stream": "stdout",
       "text": [
        ">gi|556503834|ref|NC_000913.3| Escherichia coli str. K-12 substr. MG1655, complete genome START: 004190275 END: 004190352 LEN: 77 SCORE: 0.369 SCORE: 0.082\tUUGCCUACAACUUAUUGAGAAAUAAGCAGCUUCCUCAGCCCUCAAAAUAACAAAACCCACCUUAAGGUGGGUUUCGC\n"
       ]
      },
      {
       "output_type": "stream",
       "stream": "stdout",
       "text": [
        ">gi|556503834|ref|NC_000913.3| Escherichia coli str. K-12 substr. MG1655, complete genome START: 004209765 END: 004209842 LEN: 77 SCORE: 0.517 SCORE: 0.702\tACUGAUACGUCCCCUUCGUCUAGAGGCCCAGGACACCGCCCUUUCACGGCGGUAACAGGGGUUCGAAUCCCCUAGGG\n"
       ]
      },
      {
       "output_type": "stream",
       "stream": "stdout",
       "text": [
        ">gi|556503834|ref|NC_000913.3| Escherichia coli str. K-12 substr. MG1655, complete genome START: 004209770 END: 004209847 LEN: 77 SCORE: 1.179 SCORE: 0.462\tUACGUCCCCUUCGUCUAGAGGCCCAGGACACCGCCCUUUCACGGCGGUAACAGGGGUUCGAAUCCCCUAGGGGACGC\n"
       ]
      },
      {
       "output_type": "stream",
       "stream": "stdout",
       "text": [
        ">gi|556503834|ref|NC_000913.3| Escherichia coli str. K-12 substr. MG1655, complete genome START: 004244310 END: 004244387 LEN: 77 SCORE: 1.187 SCORE: 0.064\tGUAACCGGGGCUUAGCUUUUCAUCACCCCAGUUGCCGUCGGCGGUAAUGGACUGGUAAAAGCCAAUUUGGUUAUUCG\n"
       ]
      },
      {
       "output_type": "stream",
       "stream": "stdout",
       "text": [
        ">gi|556503834|ref|NC_000913.3| Escherichia coli str. K-12 substr. MG1655, complete genome START: 004311775 END: 004311852 LEN: 77 SCORE: 1.124 SCORE: 0.588\tAGCGAAGGCGAUACCUUUGUAAUUUUUAUUACUGAGAUCUUCAAAUAACUGCAAUUGAGAUUGAAAAUCGCCUUCUG\n"
       ]
      },
      {
       "output_type": "stream",
       "stream": "stdout",
       "text": [
        ">gi|556503834|ref|NC_000913.3| Escherichia coli str. K-12 substr. MG1655, complete genome START: 004311780 END: 004311857 LEN: 77 SCORE: 0.598 SCORE: 0.365\tAGGCGAUACCUUUGUAAUUUUUAUUACUGAGAUCUUCAAAUAACUGCAAUUGAGAUUGAAAAUCGCCUUCUGAAGGA\n"
       ]
      },
      {
       "output_type": "stream",
       "stream": "stdout",
       "text": [
        ">gi|556503834|ref|NC_000913.3| Escherichia coli str. K-12 substr. MG1655, complete genome START: 004328745 END: 004328822 LEN: 77 SCORE: 1.162 SCORE: 0.120\tCGUUUUGCCGAGCUUGAAUCCACCCUUUGCCGGGUGUUAACCGAUGUUAUUCGCCCCAUUGAGCAACAAGUCAAAAU\n"
       ]
      },
      {
       "output_type": "stream",
       "stream": "stdout",
       "text": [
        ">gi|556503834|ref|NC_000913.3| Escherichia coli str. K-12 substr. MG1655, complete genome START: 004328755 END: 004328832 LEN: 77 SCORE: 1.144 SCORE: 0.280\tAGCUUGAAUCCACCCUUUGCCGGGUGUUAACCGAUGUUAUUCGCCCCAUUGAGCAACAAGUCAAAAUGGAAUUGAGC\n"
       ]
      },
      {
       "output_type": "stream",
       "stream": "stdout",
       "text": [
        ">gi|556503834|ref|NC_000913.3| Escherichia coli str. K-12 substr. MG1655, complete genome START: 004328765 END: 004328842 LEN: 77 SCORE: 1.018 SCORE: 0.206\tCACCCUUUGCCGGGUGUUAACCGAUGUUAUUCGCCCCAUUGAGCAACAAGUCAAAAUGGAAUUGAGCGAGUCAGGGU\n"
       ]
      },
      {
       "output_type": "stream",
       "stream": "stdout",
       "text": [
        ">gi|556503834|ref|NC_000913.3| Escherichia coli str. K-12 substr. MG1655, complete genome START: 004362385 END: 004362462 LEN: 77 SCORE: 0.714 SCORE: 0.024\tAUAGCUCAGGAACAAAUUUUCCCGAAUUGGGAUAUGCCCGCAAAUUGCUGGUGAUGUGGGGAGAAUCUGGUUGAGUU\n"
       ]
      },
      {
       "output_type": "stream",
       "stream": "stdout",
       "text": [
        ">gi|556503834|ref|NC_000913.3| Escherichia coli str. K-12 substr. MG1655, complete genome START: 004371165 END: 004371242 LEN: 77 SCORE: 1.000 SCORE: 0.003\tACCAUCACCAAAGAUGGUGUUUCCGUUGCUCGUGAAAUCGAACUGGAAGACAAGUUCGAAAAUAUGGGUGCGCAGAU\n"
       ]
      },
      {
       "output_type": "stream",
       "stream": "stdout",
       "text": [
        ">gi|556503834|ref|NC_000913.3| Escherichia coli str. K-12 substr. MG1655, complete genome START: 004388130 END: 004388207 LEN: 77 SCORE: 1.129 SCORE: 0.058\tGUUGCCCGUUGGAGACUUUCAGCUUGGUCAGUUCCAAUAGUAGCGUGUCGCCACCCUGCAACAAUGAGUUCAGCAAC\n"
       ]
      },
      {
       "output_type": "stream",
       "stream": "stdout",
       "text": [
        ">gi|556503834|ref|NC_000913.3| Escherichia coli str. K-12 substr. MG1655, complete genome START: 004392350 END: 004392427 LEN: 77 SCORE: 0.536 SCORE: 0.150\tAAGUAGUACGCGGGAAUAGCUCAGUUGGUAGAGCACGACCUUGCCAAGGUCGGGGUCGCGAGUUCGAGUCUCGUUUC\n"
       ]
      },
      {
       "output_type": "stream",
       "stream": "stdout",
       "text": [
        ">gi|556503834|ref|NC_000913.3| Escherichia coli str. K-12 substr. MG1655, complete genome START: 004392355 END: 004392432 LEN: 77 SCORE: 2.081 SCORE: 1.358\tGUACGCGGGAAUAGCUCAGUUGGUAGAGCACGACCUUGCCAAGGUCGGGGUCGCGAGUUCGAGUCUCGUUUCCCGCU\n"
       ]
      },
      {
       "output_type": "stream",
       "stream": "stdout",
       "text": [
        ">gi|556503834|ref|NC_000913.3| Escherichia coli str. K-12 substr. MG1655, complete genome START: 004392360 END: 004392437 LEN: 77 SCORE: 0.541 SCORE: 0.873\tCGGGAAUAGCUCAGUUGGUAGAGCACGACCUUGCCAAGGUCGGGGUCGCGAGUUCGAGUCUCGUUUCCCGCUCCAAA\n"
       ]
      },
      {
       "output_type": "stream",
       "stream": "stdout",
       "text": [
        ">gi|556503834|ref|NC_000913.3| Escherichia coli str. K-12 substr. MG1655, complete genome START: 004392375 END: 004392452 LEN: 77 SCORE: 2.045 SCORE: 0.350\tUGGUAGAGCACGACCUUGCCAAGGUCGGGGUCGCGAGUUCGAGUCUCGUUUCCCGCUCCAAAAUUUGAAAAGUGCUG\n"
       ]
      },
      {
       "output_type": "stream",
       "stream": "stdout",
       "text": [
        ">gi|556503834|ref|NC_000913.3| Escherichia coli str. K-12 substr. MG1655, complete genome START: 004392380 END: 004392457 LEN: 77 SCORE: 0.536 SCORE: 0.212\tGAGCACGACCUUGCCAAGGUCGGGGUCGCGAGUUCGAGUCUCGUUUCCCGCUCCAAAAUUUGAAAAGUGCUGCAAAG\n"
       ]
      },
      {
       "output_type": "stream",
       "stream": "stdout",
       "text": [
        ">gi|556503834|ref|NC_000913.3| Escherichia coli str. K-12 substr. MG1655, complete genome START: 004392450 END: 004392527 LEN: 77 SCORE: 1.411 SCORE: 0.255\tUGCAAAGCACAGACCACCCAAGCGGGAAUAGCUCAGUUGGUAGAGCACGACCUUGCCAAGGUCGGGGUCGCGAGUUC\n"
       ]
      },
      {
       "output_type": "stream",
       "stream": "stdout",
       "text": [
        ">gi|556503834|ref|NC_000913.3| Escherichia coli str. K-12 substr. MG1655, complete genome START: 004392455 END: 004392532 LEN: 77 SCORE: 2.058 SCORE: 0.547\tAGCACAGACCACCCAAGCGGGAAUAGCUCAGUUGGUAGAGCACGACCUUGCCAAGGUCGGGGUCGCGAGUUCGAGUC\n"
       ]
      },
      {
       "output_type": "stream",
       "stream": "stdout",
       "text": [
        ">gi|556503834|ref|NC_000913.3| Escherichia coli str. K-12 substr. MG1655, complete genome START: 004392460 END: 004392537 LEN: 77 SCORE: 0.668 SCORE: 0.966\tAGACCACCCAAGCGGGAAUAGCUCAGUUGGUAGAGCACGACCUUGCCAAGGUCGGGGUCGCGAGUUCGAGUCUCGUU\n"
       ]
      },
      {
       "output_type": "stream",
       "stream": "stdout",
       "text": [
        ">gi|556503834|ref|NC_000913.3| Escherichia coli str. K-12 substr. MG1655, complete genome START: 004392465 END: 004392542 LEN: 77 SCORE: 0.394 SCORE: 1.504\tACCCAAGCGGGAAUAGCUCAGUUGGUAGAGCACGACCUUGCCAAGGUCGGGGUCGCGAGUUCGAGUCUCGUUUCCCG\n"
       ]
      },
      {
       "output_type": "stream",
       "stream": "stdout",
       "text": [
        ">gi|556503834|ref|NC_000913.3| Escherichia coli str. K-12 substr. MG1655, complete genome START: 004392470 END: 004392547 LEN: 77 SCORE: 2.081 SCORE: 1.544\tAGCGGGAAUAGCUCAGUUGGUAGAGCACGACCUUGCCAAGGUCGGGGUCGCGAGUUCGAGUCUCGUUUCCCGCUCCA\n"
       ]
      },
      {
       "output_type": "stream",
       "stream": "stdout",
       "text": [
        ">gi|556503834|ref|NC_000913.3| Escherichia coli str. K-12 substr. MG1655, complete genome START: 004392475 END: 004392552 LEN: 77 SCORE: 0.944 SCORE: 0.982\tGAAUAGCUCAGUUGGUAGAGCACGACCUUGCCAAGGUCGGGGUCGCGAGUUCGAGUCUCGUUUCCCGCUCCAAAAUU\n"
       ]
      },
      {
       "output_type": "stream",
       "stream": "stdout",
       "text": [
        ">gi|556503834|ref|NC_000913.3| Escherichia coli str. K-12 substr. MG1655, complete genome START: 004392485 END: 004392562 LEN: 77 SCORE: 1.164 SCORE: 0.457\tGUUGGUAGAGCACGACCUUGCCAAGGUCGGGGUCGCGAGUUCGAGUCUCGUUUCCCGCUCCAAAAUUUGAAAGUGCU\n"
       ]
      },
      {
       "output_type": "stream",
       "stream": "stdout",
       "text": [
        ">gi|556503834|ref|NC_000913.3| Escherichia coli str. K-12 substr. MG1655, complete genome START: 004392490 END: 004392567 LEN: 77 SCORE: 1.187 SCORE: 0.140\tUAGAGCACGACCUUGCCAAGGUCGGGGUCGCGAGUUCGAGUCUCGUUUCCCGCUCCAAAAUUUGAAAGUGCUGUAAG\n"
       ]
      },
      {
       "output_type": "stream",
       "stream": "stdout",
       "text": [
        ">gi|556503834|ref|NC_000913.3| Escherichia coli str. K-12 substr. MG1655, complete genome START: 004392560 END: 004392637 LEN: 77 SCORE: 0.894 SCORE: 0.116\tCUGUAAGGCACAGACCACCCAAGCGGGAAUAGCUCAGUUGGUAGAGCACGACCUUGCCAAGGUCGGGGUCGCGAGUU\n"
       ]
      },
      {
       "output_type": "stream",
       "stream": "stdout",
       "text": [
        ">gi|556503834|ref|NC_000913.3| Escherichia coli str. K-12 substr. MG1655, complete genome START: 004392565 END: 004392642 LEN: 77 SCORE: 2.058 SCORE: 0.508\tAGGCACAGACCACCCAAGCGGGAAUAGCUCAGUUGGUAGAGCACGACCUUGCCAAGGUCGGGGUCGCGAGUUCGAGU\n"
       ]
      },
      {
       "output_type": "stream",
       "stream": "stdout",
       "text": [
        ">gi|556503834|ref|NC_000913.3| Escherichia coli str. K-12 substr. MG1655, complete genome START: 004392570 END: 004392647 LEN: 77 SCORE: 0.668 SCORE: 0.862\tCAGACCACCCAAGCGGGAAUAGCUCAGUUGGUAGAGCACGACCUUGCCAAGGUCGGGGUCGCGAGUUCGAGUCUCGU\n"
       ]
      },
      {
       "output_type": "stream",
       "stream": "stdout",
       "text": [
        ">gi|556503834|ref|NC_000913.3| Escherichia coli str. K-12 substr. MG1655, complete genome START: 004392575 END: 004392652 LEN: 77 SCORE: 0.315 SCORE: 1.286\tCACCCAAGCGGGAAUAGCUCAGUUGGUAGAGCACGACCUUGCCAAGGUCGGGGUCGCGAGUUCGAGUCUCGUUUCCC\n"
       ]
      },
      {
       "output_type": "stream",
       "stream": "stdout",
       "text": [
        ">gi|556503834|ref|NC_000913.3| Escherichia coli str. K-12 substr. MG1655, complete genome START: 004392580 END: 004392657 LEN: 77 SCORE: 2.081 SCORE: 1.463\tAAGCGGGAAUAGCUCAGUUGGUAGAGCACGACCUUGCCAAGGUCGGGGUCGCGAGUUCGAGUCUCGUUUCCCGCUCC\n"
       ]
      },
      {
       "output_type": "stream",
       "stream": "stdout",
       "text": [
        ">gi|556503834|ref|NC_000913.3| Escherichia coli str. K-12 substr. MG1655, complete genome START: 004392585 END: 004392662 LEN: 77 SCORE: 0.967 SCORE: 1.054\tGGAAUAGCUCAGUUGGUAGAGCACGACCUUGCCAAGGUCGGGGUCGCGAGUUCGAGUCUCGUUUCCCGCUCCAAAUU\n"
       ]
      },
      {
       "output_type": "stream",
       "stream": "stdout",
       "text": [
        ">gi|556503834|ref|NC_000913.3| Escherichia coli str. K-12 substr. MG1655, complete genome START: 004392765 END: 004392842 LEN: 77 SCORE: 1.146 SCORE: 0.731\tAUCUUAAUUUCAAAGAAACUUCGCACGGUGAAUAGUAUUUUUUUAACCUAUUGAUAGAUAAGUUAAAAAUUAAGAUU\n"
       ]
      },
      {
       "output_type": "stream",
       "stream": "stdout",
       "text": [
        ">gi|556503834|ref|NC_000913.3| Escherichia coli str. K-12 substr. MG1655, complete genome START: 004397500 END: 004397577 LEN: 77 SCORE: 0.787 SCORE: 0.000\tAGUGGAAAACAGCCUCGAUGCAGGUGCGACGCGUAUCGAUAUUGAUAUCGAACGCGGUGGGGCGAAACUUAUCCGCA\n"
       ]
      },
      {
       "output_type": "stream",
       "stream": "stdout",
       "text": [
        ">gi|556503834|ref|NC_000913.3| Escherichia coli str. K-12 substr. MG1655, complete genome START: 004476080 END: 004476157 LEN: 77 SCORE: 1.324 SCORE: 0.173\tGUUAAAUAAUCCUCAGGAGUUAAAUAAUCCGCAGAAUUUAAAUGAUUCUCAGGAGUUAAAUAACUCGCAGGAAUUAA\n"
       ]
      },
      {
       "output_type": "stream",
       "stream": "stdout",
       "text": [
        ">gi|556503834|ref|NC_000913.3| Escherichia coli str. K-12 substr. MG1655, complete genome START: 004476085 END: 004476162 LEN: 77 SCORE: 1.324 SCORE: 0.258\tAUAAUCCUCAGGAGUUAAAUAAUCCGCAGAAUUUAAAUGAUUCUCAGGAGUUAAAUAACUCGCAGGAAUUAAAUAGU\n"
       ]
      },
      {
       "output_type": "stream",
       "stream": "stdout",
       "text": [
        ">gi|556503834|ref|NC_000913.3| Escherichia coli str. K-12 substr. MG1655, complete genome START: 004476505 END: 004476582 LEN: 77 SCORE: 1.188 SCORE: 0.205\tAGGUUAACCUUACACCGGUCAUCGAUUCGAUUCUGGAGACUUUUUCAAAAUCCCCAUAUAUUAAUGAUGUAAGAAUA\n"
       ]
      },
      {
       "output_type": "stream",
       "stream": "stdout",
       "text": [
        ">gi|556503834|ref|NC_000913.3| Escherichia coli str. K-12 substr. MG1655, complete genome START: 004496410 END: 004496487 LEN: 77 SCORE: 1.768 SCORE: 1.205\tGUGGCGAAAUCGGUAGACGCAGUUGAUUCAAAAUCAACCGUAGAAAUACGUGCCGGUUCGAGUCCGGCCUUCGGCAC\n"
       ]
      },
      {
       "output_type": "stream",
       "stream": "stdout",
       "text": [
        ">gi|556503834|ref|NC_000913.3| Escherichia coli str. K-12 substr. MG1655, complete genome START: 004496415 END: 004496492 LEN: 77 SCORE: 0.516 SCORE: 0.299\tGAAAUCGGUAGACGCAGUUGAUUCAAAAUCAACCGUAGAAAUACGUGCCGGUUCGAGUCCGGCCUUCGGCACCAAAA\n"
       ]
      },
      {
       "output_type": "stream",
       "stream": "stdout",
       "text": [
        ">gi|556503834|ref|NC_000913.3| Escherichia coli str. K-12 substr. MG1655, complete genome START: 004496420 END: 004496497 LEN: 77 SCORE: 1.011 SCORE: 0.386\tCGGUAGACGCAGUUGAUUCAAAAUCAACCGUAGAAAUACGUGCCGGUUCGAGUCCGGCCUUCGGCACCAAAAGUAUG\n"
       ]
      },
      {
       "output_type": "stream",
       "stream": "stdout",
       "text": [
        ">gi|556503834|ref|NC_000913.3| Escherichia coli str. K-12 substr. MG1655, complete genome START: 004527795 END: 004527872 LEN: 77 SCORE: 1.164 SCORE: 0.029\tGGCAAGGCGAUUCCUGGGGCUAUCAGAUAAUAAGGCCCCCAGUUAAGGGUAUUUUCGAUGAUCCCAUUAACGUAGCA\n"
       ]
      },
      {
       "output_type": "stream",
       "stream": "stdout",
       "text": [
        ">gi|556503834|ref|NC_000913.3| Escherichia coli str. K-12 substr. MG1655, complete genome START: 004552025 END: 004552102 LEN: 77 SCORE: 0.523 SCORE: 0.208\tAUCGAAUUCGCUGCAUUCGAAAUGCAUAUCCUGAAACGCCCAGGCGCGGAAGCGGAUUACACCGAAGAAGAAAUUGC\n"
       ]
      },
      {
       "output_type": "stream",
       "stream": "stdout",
       "text": [
        ">gi|556503834|ref|NC_000913.3| Escherichia coli str. K-12 substr. MG1655, complete genome START: 004555330 END: 004555407 LEN: 77 SCORE: 1.164 SCORE: 0.075\tGGAUAAAGUCGACGCCUGACUUAUUAUAAUAAGCGCAAGGGUAAACGUUCCUUGCGCUUUCUUAAAUUAAGAAGUCG\n"
       ]
      },
      {
       "output_type": "stream",
       "stream": "stdout",
       "text": [
        ">gi|556503834|ref|NC_000913.3| Escherichia coli str. K-12 substr. MG1655, complete genome START: 004563270 END: 004563347 LEN: 77 SCORE: 1.144 SCORE: 0.239\tAUCGCCAAUGUAUUCGAUCGUCUCGAGAUCCUUAACAAAAUCCAGAGGAAUUGUGCGGAUAAAAUCACCAUUGGUGG\n"
       ]
      },
      {
       "output_type": "stream",
       "stream": "stdout",
       "text": [
        ">gi|556503834|ref|NC_000913.3| Escherichia coli str. K-12 substr. MG1655, complete genome START: 004616115 END: 004616192 LEN: 77 SCORE: 2.108 SCORE: 0.056\tAACAUUGGCACAAAACGUUCAGGGUUAAUCAGCCCUUCUUUCACCAGGAAGCUAUUCUCAAAGAAGUGUGAUUGUUG\n"
       ]
      },
      {
       "output_type": "stream",
       "stream": "stdout",
       "text": [
        ">gi|556503834|ref|NC_000913.3| Escherichia coli str. K-12 substr. MG1655, complete genome START: 004639530 END: 004639607 LEN: 77 SCORE: 1.031 SCORE: 0.029\tGGUUGAAAAAUAAAAACGGCGCUAAAAAGCGCCGUUUUUUUUGACGGUGGUAAAGCCGAUUAAUCUUCCAGAUCACC\n"
       ]
      },
      {
       "output_type": "stream",
       "stream": "stdout",
       "text": [
        "CPU times: user 1h 16min 46s, sys: 28min 18s, total: 1h 45min 4s\n",
        "Wall time: 4h 50min 15s\n"
       ]
      }
     ],
     "prompt_number": 25
    },
    {
     "cell_type": "code",
     "collapsed": false,
     "input": [
      "from ipy_table import * \n",
      "\n",
      "matr=[('ID','Pos','Conf1','Conf2','Seq')]\n",
      "\n",
      "th0=1.8\n",
      "th1=th2=0\n",
      "counter=1\n",
      "for line in results:\n",
      "    lines=line.split()\n",
      "    seq,sc1,sc2,pos = lines[-1], float(lines[-2]),float(lines[-4]),lines[-10]\n",
      "    if sc1 + sc2 > th0 and sc2 > th2 and sc1 > th1:\n",
      "        matr += [(counter, pos, sc1,sc2, seq)]\n",
      "        counter += 1\n",
      "\n",
      "make_table(matr)\n",
      "apply_theme('basic')\n",
      "set_global_style(float_format = '%0.3f')\n",
      "\n"
     ],
     "language": "python",
     "metadata": {},
     "outputs": [
      {
       "html": [
        "<table border=\"1\" cellpadding=\"3\" cellspacing=\"0\"  style=\"border:1px solid black;border-collapse:collapse;\"><tr><td  style=\"background-color:LightGray;\"><b>ID</b></td><td  style=\"background-color:LightGray;\"><b>Pos</b></td><td  style=\"background-color:LightGray;\"><b>Conf1</b></td><td  style=\"background-color:LightGray;\"><b>Conf2</b></td><td  style=\"background-color:LightGray;\"><b>Seq</b></td></tr><tr><td  style=\"background-color:Ivory;\">1</td><td  style=\"background-color:Ivory;\">000110980</td><td  style=\"background-color:Ivory;\">0.704</td><td  style=\"background-color:Ivory;\">1.133</td><td  style=\"background-color:Ivory;\">AUAAAAGCUAACUGUUGAAGUAAAAGGCGCAGGAUUCUGCGCCUUUUUUAUAGGUUUAAGACAAUGAAAAAGCUGCA</td></tr><tr><td  style=\"background-color:AliceBlue;\">2</td><td  style=\"background-color:AliceBlue;\">000131955</td><td  style=\"background-color:AliceBlue;\">0.056</td><td  style=\"background-color:AliceBlue;\">2.154</td><td  style=\"background-color:AliceBlue;\">UGCUGCCAAAGCACUUUCUCACACGCUGCUGAUGUUCGAUAACUUCUAUGACGUAGAAGAGAAAGCGAAAGCAGGCA</td></tr><tr><td  style=\"background-color:Ivory;\">3</td><td  style=\"background-color:Ivory;\">000225380</td><td  style=\"background-color:Ivory;\">1.103</td><td  style=\"background-color:Ivory;\">1.368</td><td  style=\"background-color:Ivory;\">AGGCUUGUAGCUCAGGUGGUUAGAGCGCACCCCUGAUAAGGGUGAGGUCGGUGGUUCAAGUCCACUCAGGCCUACCA</td></tr><tr><td  style=\"background-color:AliceBlue;\">4</td><td  style=\"background-color:AliceBlue;\">000228925</td><td  style=\"background-color:AliceBlue;\">0.484</td><td  style=\"background-color:AliceBlue;\">2.081</td><td  style=\"background-color:AliceBlue;\">GUGGAGCGGUAGUUCAGUCGGUUAGAAUACCUGCCUGUCACGCAGGGGGUCGCGGGUUCGAGUCCCGUCCGUUCCGC</td></tr><tr><td  style=\"background-color:Ivory;\">5</td><td  style=\"background-color:Ivory;\">000236930</td><td  style=\"background-color:Ivory;\">0.483</td><td  style=\"background-color:Ivory;\">2.100</td><td  style=\"background-color:Ivory;\">GGAGCGGUAGUUCAGUCGGUUAGAAUACCUGCCUGUCACGCAGGGGGUCGCGGGUUCGAGUCCCGUCCGUUCCGCCA</td></tr><tr><td  style=\"background-color:AliceBlue;\">6</td><td  style=\"background-color:AliceBlue;\">000259235</td><td  style=\"background-color:AliceBlue;\">0.243</td><td  style=\"background-color:AliceBlue;\">2.026</td><td  style=\"background-color:AliceBlue;\">AUAAGACAUAACCCAGCGAUGGACGCAGACCAAAGUCAAACUGGUAUUGAGCGACCGCUUCAAAGUUCUGUGUCUUA</td></tr><tr><td  style=\"background-color:Ivory;\">7</td><td  style=\"background-color:Ivory;\">000345380</td><td  style=\"background-color:Ivory;\">0.009</td><td  style=\"background-color:Ivory;\">2.044</td><td  style=\"background-color:Ivory;\">AUGGUACGGGGUUCGAGGCCUCGAUGGCGGUCCAACUUUUCAAAACUCUUCUGAAUCAGAUCCCCUUAUUAUCAUCC</td></tr><tr><td  style=\"background-color:AliceBlue;\">8</td><td  style=\"background-color:AliceBlue;\">000564715</td><td  style=\"background-color:AliceBlue;\">1.700</td><td  style=\"background-color:AliceBlue;\">1.419</td><td  style=\"background-color:AliceBlue;\">UAUCAACGCGCCCUUAGCUCAGUUGGAUAGAGCAACGACCUUCUAAGUCGUGGGCCGCAGGUUCGAAUCCUGCAGGG</td></tr><tr><td  style=\"background-color:Ivory;\">9</td><td  style=\"background-color:Ivory;\">000564720</td><td  style=\"background-color:Ivory;\">1.858</td><td  style=\"background-color:Ivory;\">2.061</td><td  style=\"background-color:Ivory;\">ACGCGCCCUUAGCUCAGUUGGAUAGAGCAACGACCUUCUAAGUCGUGGGCCGCAGGUUCGAAUCCUGCAGGGCGCGC</td></tr><tr><td  style=\"background-color:AliceBlue;\">10</td><td  style=\"background-color:AliceBlue;\">000586020</td><td  style=\"background-color:AliceBlue;\">0.994</td><td  style=\"background-color:AliceBlue;\">1.011</td><td  style=\"background-color:AliceBlue;\">GCGGUAAGUUGUUGACUUAAAAUGUCGUUCUAGGAACUUCUAAGUCGUGGGCCGCAGGUUCGAAUCCUGCAGGGCGC</td></tr><tr><td  style=\"background-color:Ivory;\">11</td><td  style=\"background-color:Ivory;\">000696540</td><td  style=\"background-color:Ivory;\">0.373</td><td  style=\"background-color:Ivory;\">2.100</td><td  style=\"background-color:Ivory;\">UUGGCUGGGGUACGAGGAUUCGAACCUCGGAAUGCCGGAAUCAGAAUCCGGUGCCUUACCGCUUGGCGAUACCCCAA</td></tr><tr><td  style=\"background-color:AliceBlue;\">12</td><td  style=\"background-color:AliceBlue;\">000696545</td><td  style=\"background-color:AliceBlue;\">0.473</td><td  style=\"background-color:AliceBlue;\">2.100</td><td  style=\"background-color:AliceBlue;\">UGGGGUACGAGGAUUCGAACCUCGGAAUGCCGGAAUCAGAAUCCGGUGCCUUACCGCUUGGCGAUACCCCAACAAAU</td></tr><tr><td  style=\"background-color:Ivory;\">13</td><td  style=\"background-color:Ivory;\">000780550</td><td  style=\"background-color:Ivory;\">1.772</td><td  style=\"background-color:Ivory;\">1.200</td><td  style=\"background-color:Ivory;\">AGUGGGUCGUUAGCUCAGUUGGUAGAGCAGUUGACUUUUAAUCAAUUGGUCGCAGGUUCGAAUCCUGCACGACCCAC</td></tr><tr><td  style=\"background-color:AliceBlue;\">14</td><td  style=\"background-color:AliceBlue;\">000780760</td><td  style=\"background-color:AliceBlue;\">0.361</td><td  style=\"background-color:AliceBlue;\">2.063</td><td  style=\"background-color:AliceBlue;\">UAUCGGGUGAUUAGCUCAGCUGGGAGAGCACCUCCCUUACAAGGAGGGGGUCGGCGGUUCGAUCCCGUCAUCACCCA</td></tr><tr><td  style=\"background-color:Ivory;\">15</td><td  style=\"background-color:Ivory;\">000780840</td><td  style=\"background-color:Ivory;\">1.319</td><td  style=\"background-color:Ivory;\">1.205</td><td  style=\"background-color:Ivory;\">CCGGGUCGUUAGCUCAGUUGGUAGAGCAGUUGACUUUUAAUCAAUUGGUCGCAGGUUCGAAUCCUGCACGACCCACC</td></tr><tr><td  style=\"background-color:AliceBlue;\">16</td><td  style=\"background-color:AliceBlue;\">000781065</td><td  style=\"background-color:AliceBlue;\">0.322</td><td  style=\"background-color:AliceBlue;\">2.063</td><td  style=\"background-color:AliceBlue;\">UCGGGUGAUUAGCUCAGCUGGGAGAGCACCUCCCUUACAAGGAGGGGGUCGGCGGUUCGAUCCCGUCAUCACCCACC</td></tr><tr><td  style=\"background-color:Ivory;\">17</td><td  style=\"background-color:Ivory;\">000781145</td><td  style=\"background-color:Ivory;\">1.389</td><td  style=\"background-color:Ivory;\">1.205</td><td  style=\"background-color:Ivory;\">CGGGUCGUUAGCUCAGUUGGUAGAGCAGUUGACUUUUAAUCAAUUGGUCGCAGGUUCGAAUCCUGCACGACCCACCA</td></tr><tr><td  style=\"background-color:AliceBlue;\">18</td><td  style=\"background-color:AliceBlue;\">000781365</td><td  style=\"background-color:AliceBlue;\">1.375</td><td  style=\"background-color:AliceBlue;\">1.205</td><td  style=\"background-color:AliceBlue;\">UAUGGGUCGUUAGCUCAGUUGGUAGAGCAGUUGACUUUUAAUCAAUUGGUCGCAGGUUCGAAUCCUGCACGACCCAC</td></tr><tr><td  style=\"background-color:Ivory;\">19</td><td  style=\"background-color:Ivory;\">000781570</td><td  style=\"background-color:Ivory;\">1.881</td><td  style=\"background-color:Ivory;\">1.031</td><td  style=\"background-color:Ivory;\">CGCAAGGGGUCGUUAGCUCAGUUGGUAGAGCAGUUGACUUUUAAUCAAUUGGUCGCAGGUUCGAAUCCUGCACGACC</td></tr><tr><td  style=\"background-color:AliceBlue;\">20</td><td  style=\"background-color:AliceBlue;\">000781575</td><td  style=\"background-color:AliceBlue;\">1.287</td><td  style=\"background-color:AliceBlue;\">1.187</td><td  style=\"background-color:AliceBlue;\">GGGGUCGUUAGCUCAGUUGGUAGAGCAGUUGACUUUUAAUCAAUUGGUCGCAGGUUCGAAUCCUGCACGACCCACCA</td></tr><tr><td  style=\"background-color:Ivory;\">21</td><td  style=\"background-color:Ivory;\">001746430</td><td  style=\"background-color:Ivory;\">0.759</td><td  style=\"background-color:Ivory;\">1.164</td><td  style=\"background-color:Ivory;\">CGUUGCGUUCAUAGCUCAGUUGGUUAGAGCACCACCUUGACAUGGUGGGGGUCGUUGGUUCGAGUCCAAUUGAACGC</td></tr><tr><td  style=\"background-color:AliceBlue;\">22</td><td  style=\"background-color:AliceBlue;\">001857880</td><td  style=\"background-color:AliceBlue;\">0.030</td><td  style=\"background-color:AliceBlue;\">2.044</td><td  style=\"background-color:AliceBlue;\">AUAUGCGUCACCAUCGAUUUCACAUCGAAUCGCCCUGAAGAAAUAGCUUCAAUCGUGACCGGAUAACGAUUGGCAUA</td></tr><tr><td  style=\"background-color:Ivory;\">23</td><td  style=\"background-color:Ivory;\">002033235</td><td  style=\"background-color:Ivory;\">0.196</td><td  style=\"background-color:Ivory;\">2.026</td><td  style=\"background-color:Ivory;\">CGCGGUAGAGCCUAAAUCGCUUUCAAAUCCCGACACGGGGGCAUCGGGAAUCCGGCUCAUCACCCAGAUGUAACGCG</td></tr><tr><td  style=\"background-color:AliceBlue;\">24</td><td  style=\"background-color:AliceBlue;\">002044545</td><td  style=\"background-color:AliceBlue;\">0.990</td><td  style=\"background-color:AliceBlue;\">1.187</td><td  style=\"background-color:AliceBlue;\">GAUUCCUCUGUAGUUCAGUCGGUAGAACGGCGGACUGUUAAUCCGUAUGUCACUGGUUCGAGUCCAGUCAGAGGAGC</td></tr><tr><td  style=\"background-color:Ivory;\">25</td><td  style=\"background-color:Ivory;\">002059845</td><td  style=\"background-color:Ivory;\">1.160</td><td  style=\"background-color:Ivory;\">1.164</td><td  style=\"background-color:Ivory;\">ACGAUUCCUCUGUAGUUCAGUCGGUAGAACGGCGGACUGUUAAUCCGUAUGUCACUGGUUCGAGUCCAGUCAGAGGA</td></tr><tr><td  style=\"background-color:AliceBlue;\">26</td><td  style=\"background-color:AliceBlue;\">002059850</td><td  style=\"background-color:AliceBlue;\">0.806</td><td  style=\"background-color:AliceBlue;\">1.164</td><td  style=\"background-color:AliceBlue;\">UCCUCUGUAGUUCAGUCGGUAGAACGGCGGACUGUUAAUCCGUAUGUCACUGGUUCGAGUCCAGUCAGAGGAGCCAA</td></tr><tr><td  style=\"background-color:Ivory;\">27</td><td  style=\"background-color:Ivory;\">002062255</td><td  style=\"background-color:Ivory;\">1.069</td><td  style=\"background-color:Ivory;\">1.164</td><td  style=\"background-color:Ivory;\">CGAUUCCUCUGUAGUUCAGUCGGUAGAACGGCGGACUGUUAAUCCGUAUGUCACUGGUUCGAGUCCAGUCAGAGGAG</td></tr><tr><td  style=\"background-color:AliceBlue;\">28</td><td  style=\"background-color:AliceBlue;\">002103535</td><td  style=\"background-color:AliceBlue;\">0.549</td><td  style=\"background-color:AliceBlue;\">1.520</td><td  style=\"background-color:AliceBlue;\">UUAUUAGAAUCAAAAAAAGCUUUCUUUUCAUAACUACCAAGAGUUUCUCUAGUAAAUGGGAAAUCUGAUGCUAAUAC</td></tr><tr><td  style=\"background-color:Ivory;\">29</td><td  style=\"background-color:Ivory;\">002466305</td><td  style=\"background-color:Ivory;\">1.033</td><td  style=\"background-color:Ivory;\">1.205</td><td  style=\"background-color:Ivory;\">AUUGUCCUCUUAGUUAAAUGGAUAUAACGAGCCCCUCCUAAGGGCUAAUUGCAGGUUCGAUUCCUGCAGGGGACACC</td></tr><tr><td  style=\"background-color:AliceBlue;\">30</td><td  style=\"background-color:AliceBlue;\">002466310</td><td  style=\"background-color:AliceBlue;\">1.346</td><td  style=\"background-color:AliceBlue;\">0.625</td><td  style=\"background-color:AliceBlue;\">CCUCUUAGUUAAAUGGAUAUAACGAGCCCCUCCUAAGGGCUAAUUGCAGGUUCGAUUCCUGCAGGGGACACCAUUUA</td></tr><tr><td  style=\"background-color:Ivory;\">31</td><td  style=\"background-color:Ivory;\">002466315</td><td  style=\"background-color:Ivory;\">0.839</td><td  style=\"background-color:Ivory;\">2.014</td><td  style=\"background-color:Ivory;\">UAGUUAAAUGGAUAUAACGAGCCCCUCCUAAGGGCUAAUUGCAGGUUCGAUUCCUGCAGGGGACACCAUUUAUCAGU</td></tr><tr><td  style=\"background-color:AliceBlue;\">32</td><td  style=\"background-color:AliceBlue;\">002520930</td><td  style=\"background-color:AliceBlue;\">0.433</td><td  style=\"background-color:AliceBlue;\">2.063</td><td  style=\"background-color:AliceBlue;\">GGGUGAUUAGCUCAGCUGGGAGAGCACCUCCCUUACAAGGAGGGGGUCGGCGGUUCGAUCCCGUCAUCACCCACCAA</td></tr><tr><td  style=\"background-color:Ivory;\">33</td><td  style=\"background-color:Ivory;\">002521045</td><td  style=\"background-color:Ivory;\">0.273</td><td  style=\"background-color:Ivory;\">2.063</td><td  style=\"background-color:Ivory;\">GAAGUGGGUGAUUAGCUCAGCUGGGAGAGCACCUCCCUUACAAGGAGGGGGUCGGCGGUUCGAUCCCGUCAUCACCC</td></tr><tr><td  style=\"background-color:AliceBlue;\">34</td><td  style=\"background-color:AliceBlue;\">002521050</td><td  style=\"background-color:AliceBlue;\">0.439</td><td  style=\"background-color:AliceBlue;\">2.063</td><td  style=\"background-color:AliceBlue;\">GGGUGAUUAGCUCAGCUGGGAGAGCACCUCCCUUACAAGGAGGGGGUCGGCGGUUCGAUCCCGUCAUCACCCACCAC</td></tr><tr><td  style=\"background-color:Ivory;\">35</td><td  style=\"background-color:Ivory;\">002521170</td><td  style=\"background-color:Ivory;\">0.707</td><td  style=\"background-color:Ivory;\">2.087</td><td  style=\"background-color:Ivory;\">GUGGGUGAUUAGCUCAGCUGGGAGAGCACCUCCCUUACAAGGAGGGGGUCGGCGGUUCGAUCCCGUCAUCACCCACC</td></tr><tr><td  style=\"background-color:AliceBlue;\">36</td><td  style=\"background-color:AliceBlue;\">002521250</td><td  style=\"background-color:AliceBlue;\">1.333</td><td  style=\"background-color:AliceBlue;\">1.205</td><td  style=\"background-color:AliceBlue;\">UCGGGUCGUUAGCUCAGUUGGUAGAGCAGUUGACUUUUAAUCAAUUGGUCGCAGGUUCGAAUCCUGCACGACCCACC</td></tr><tr><td  style=\"background-color:Ivory;\">37</td><td  style=\"background-color:Ivory;\">002621770</td><td  style=\"background-color:Ivory;\">0.034</td><td  style=\"background-color:Ivory;\">2.026</td><td  style=\"background-color:Ivory;\">ACGGCUAUUCGCUGGUGCGCAAAAUUCUUGAAGUCAGCGGUUGUGAUCCGCAAACCACCGAACUUGAUGGUAAGCCA</td></tr><tr><td  style=\"background-color:AliceBlue;\">38</td><td  style=\"background-color:AliceBlue;\">002761720</td><td  style=\"background-color:AliceBlue;\">0.137</td><td  style=\"background-color:AliceBlue;\">2.108</td><td  style=\"background-color:AliceBlue;\">AUGGAAAGAGUACGUUUCUCCCCUUCAGAAAUCCACUGUCGUGCAUAAUCGAUCUGAUUUUUCAGAUAUUCCGAAUA</td></tr><tr><td  style=\"background-color:Ivory;\">39</td><td  style=\"background-color:Ivory;\">002947380</td><td  style=\"background-color:Ivory;\">0.759</td><td  style=\"background-color:Ivory;\">1.205</td><td  style=\"background-color:Ivory;\">CACGGACGCGGGGUGGAGCAGCCUGGUAGCUCGUCGGGCUCAUAACCCGAAGGUCGUCGGUUCAAAUCCGGCCCCCG</td></tr><tr><td  style=\"background-color:AliceBlue;\">40</td><td  style=\"background-color:AliceBlue;\">002947385</td><td  style=\"background-color:AliceBlue;\">0.982</td><td  style=\"background-color:AliceBlue;\">1.181</td><td  style=\"background-color:AliceBlue;\">ACGCGGGGUGGAGCAGCCUGGUAGCUCGUCGGGCUCAUAACCCGAAGGUCGUCGGUUCAAAUCCGGCCCCCGCAACC</td></tr><tr><td  style=\"background-color:Ivory;\">41</td><td  style=\"background-color:Ivory;\">002947495</td><td  style=\"background-color:Ivory;\">0.982</td><td  style=\"background-color:Ivory;\">1.181</td><td  style=\"background-color:Ivory;\">ACGCGGGGUGGAGCAGCCUGGUAGCUCGUCGGGCUCAUAACCCGAAGGUCGUCGGUUCAAAUCCGGCCCCCGCAACC</td></tr><tr><td  style=\"background-color:AliceBlue;\">42</td><td  style=\"background-color:AliceBlue;\">002947605</td><td  style=\"background-color:AliceBlue;\">0.982</td><td  style=\"background-color:AliceBlue;\">1.181</td><td  style=\"background-color:AliceBlue;\">ACGCGGGGUGGAGCAGCCUGGUAGCUCGUCGGGCUCAUAACCCGAAGGUCGUCGGUUCAAAUCCGGCCCCCGCAACC</td></tr><tr><td  style=\"background-color:Ivory;\">43</td><td  style=\"background-color:Ivory;\">003110360</td><td  style=\"background-color:Ivory;\">1.275</td><td  style=\"background-color:Ivory;\">1.179</td><td  style=\"background-color:Ivory;\">CCGUUGCCCGGAUAGCUCAGUCGGUAGAGCAGGGGAUUGAAAAUCCCCGUGUCCUUGGUUCGAUUCCGAGUCCGGGC</td></tr><tr><td  style=\"background-color:AliceBlue;\">44</td><td  style=\"background-color:AliceBlue;\">003110365</td><td  style=\"background-color:AliceBlue;\">1.474</td><td  style=\"background-color:AliceBlue;\">1.179</td><td  style=\"background-color:AliceBlue;\">GCCCGGAUAGCUCAGUCGGUAGAGCAGGGGAUUGAAAAUCCCCGUGUCCUUGGUUCGAUUCCGAGUCCGGGCACCAC</td></tr><tr><td  style=\"background-color:Ivory;\">45</td><td  style=\"background-color:Ivory;\">003110370</td><td  style=\"background-color:Ivory;\">0.995</td><td  style=\"background-color:Ivory;\">0.967</td><td  style=\"background-color:Ivory;\">GAUAGCUCAGUCGGUAGAGCAGGGGAUUGAAAAUCCCCGUGUCCUUGGUUCGAUUCCGAGUCCGGGCACCACUAAUU</td></tr><tr><td  style=\"background-color:AliceBlue;\">46</td><td  style=\"background-color:AliceBlue;\">003215595</td><td  style=\"background-color:AliceBlue;\">1.207</td><td  style=\"background-color:AliceBlue;\">1.179</td><td  style=\"background-color:AliceBlue;\">AUGGCCCCUUAGCUCAGUGGUUAGAGCAGGCGACUCAUAAUCGCUUGGUCGCUGGUUCAAGUCCAGCAGGGGCCACC</td></tr><tr><td  style=\"background-color:Ivory;\">47</td><td  style=\"background-color:Ivory;\">003708375</td><td  style=\"background-color:Ivory;\">0.910</td><td  style=\"background-color:Ivory;\">1.054</td><td  style=\"background-color:Ivory;\">GCCCCCGGAGGUUCUCAUCCUCAUGAGCUGCAGAUGCAAAAAAGCCUGCUCGUUGAGCAGGCUUUUCGAAUUUGGUC</td></tr><tr><td  style=\"background-color:AliceBlue;\">48</td><td  style=\"background-color:AliceBlue;\">003708390</td><td  style=\"background-color:AliceBlue;\">0.962</td><td  style=\"background-color:AliceBlue;\">1.200</td><td  style=\"background-color:AliceBlue;\">CAUCCUCAUGAGCUGCAGAUGCAAAAAAGCCUGCUCGUUGAGCAGGCUUUUCGAAUUUGGUCGGUGAUAGAGGAUUA</td></tr><tr><td  style=\"background-color:Ivory;\">49</td><td  style=\"background-color:Ivory;\">003708545</td><td  style=\"background-color:Ivory;\">0.841</td><td  style=\"background-color:Ivory;\">1.072</td><td  style=\"background-color:Ivory;\">CCCCGGAGGUUCUCAUCCUCAUGAGCUGCAGAUGCAAAAAAGCCUGCUCGUUGAGCAGGCUUUUCGAAUUUGGUCGG</td></tr><tr><td  style=\"background-color:AliceBlue;\">50</td><td  style=\"background-color:AliceBlue;\">003708555</td><td  style=\"background-color:AliceBlue;\">0.869</td><td  style=\"background-color:AliceBlue;\">1.200</td><td  style=\"background-color:AliceBlue;\">UCUCAUCCUCAUGAGCUGCAGAUGCAAAAAAGCCUGCUCGUUGAGCAGGCUUUUCGAAUUUGGUCGGUGAUAGAGGA</td></tr><tr><td  style=\"background-color:Ivory;\">51</td><td  style=\"background-color:Ivory;\">003708560</td><td  style=\"background-color:Ivory;\">1.219</td><td  style=\"background-color:Ivory;\">1.200</td><td  style=\"background-color:Ivory;\">UCCUCAUGAGCUGCAGAUGCAAAAAAGCCUGCUCGUUGAGCAGGCUUUUCGAAUUUGGUCGGUGAUAGAGGAUUCGA</td></tr><tr><td  style=\"background-color:AliceBlue;\">52</td><td  style=\"background-color:AliceBlue;\">003708565</td><td  style=\"background-color:AliceBlue;\">1.059</td><td  style=\"background-color:AliceBlue;\">0.874</td><td  style=\"background-color:AliceBlue;\">AUGAGCUGCAGAUGCAAAAAAGCCUGCUCGUUGAGCAGGCUUUUCGAAUUUGGUCGGUGAUAGAGGAUUCGAACCUC</td></tr><tr><td  style=\"background-color:Ivory;\">53</td><td  style=\"background-color:Ivory;\">003836235</td><td  style=\"background-color:Ivory;\">0.828</td><td  style=\"background-color:Ivory;\">1.085</td><td  style=\"background-color:Ivory;\">UCCGGUGAGGCGGCUGGACUUCAAAUCCAGUUGGGGCCGCCAGCGGUCCCGGGCAGGUUCGACUCCUGUGAUCUUCC</td></tr><tr><td  style=\"background-color:AliceBlue;\">54</td><td  style=\"background-color:AliceBlue;\">003836240</td><td  style=\"background-color:AliceBlue;\">0.945</td><td  style=\"background-color:AliceBlue;\">0.991</td><td  style=\"background-color:AliceBlue;\">UGAGGCGGCUGGACUUCAAAUCCAGUUGGGGCCGCCAGCGGUCCCGGGCAGGUUCGACUCCUGUGAUCUUCCGCCAA</td></tr><tr><td  style=\"background-color:Ivory;\">55</td><td  style=\"background-color:Ivory;\">003946870</td><td  style=\"background-color:Ivory;\">0.344</td><td  style=\"background-color:Ivory;\">2.100</td><td  style=\"background-color:Ivory;\">UGGAGCGGUAGUUCAGUCGGUUAGAAUACCUGCCUGUCACGCAGGGGGUCGCGGGUUCGAGUCCCGUCCGUUCCGCC</td></tr><tr><td  style=\"background-color:AliceBlue;\">56</td><td  style=\"background-color:AliceBlue;\">003946950</td><td  style=\"background-color:AliceBlue;\">1.340</td><td  style=\"background-color:AliceBlue;\">1.164</td><td  style=\"background-color:AliceBlue;\">CUAAUUAGGGGCGUAGUUCAAUUGGUAGAGCACCGGUCUCCAAAACCGGGUGUUGGGAGUUCGAGUCUCUCCGCCCC</td></tr><tr><td  style=\"background-color:Ivory;\">57</td><td  style=\"background-color:Ivory;\">003946955</td><td  style=\"background-color:Ivory;\">1.691</td><td  style=\"background-color:Ivory;\">1.218</td><td  style=\"background-color:Ivory;\">UAGGGGCGUAGUUCAAUUGGUAGAGCACCGGUCUCCAAAACCGGGUGUUGGGAGUUCGAGUCUCUCCGCCCCUGCCA</td></tr><tr><td  style=\"background-color:AliceBlue;\">58</td><td  style=\"background-color:AliceBlue;\">003982370</td><td  style=\"background-color:AliceBlue;\">0.898</td><td  style=\"background-color:AliceBlue;\">1.200</td><td  style=\"background-color:AliceBlue;\">CUAAGCGCCCGUAGCUCAGCUGGAUAGAGCGCUGCCCUCCGGAGGCAGAGGUCUCAGGUUCGAAUCCUGUCGGGCGC</td></tr><tr><td  style=\"background-color:Ivory;\">59</td><td  style=\"background-color:Ivory;\">003982505</td><td  style=\"background-color:Ivory;\">1.541</td><td  style=\"background-color:Ivory;\">1.205</td><td  style=\"background-color:Ivory;\">AGUGGUGGCUAUAGCUCAGUUGGUAGAGCCCUGGAUUGUGAUUCCAGUUGUCGUGGGUUCGAAUCCCAUUAGCCACC</td></tr><tr><td  style=\"background-color:AliceBlue;\">60</td><td  style=\"background-color:AliceBlue;\">003982510</td><td  style=\"background-color:AliceBlue;\">1.116</td><td  style=\"background-color:AliceBlue;\">1.133</td><td  style=\"background-color:AliceBlue;\">UGGCUAUAGCUCAGUUGGUAGAGCCCUGGAUUGUGAUUCCAGUUGUCGUGGGUUCGAAUCCCAUUAGCCACCCCAUU</td></tr><tr><td  style=\"background-color:Ivory;\">61</td><td  style=\"background-color:Ivory;\">003982730</td><td  style=\"background-color:Ivory;\">1.792</td><td  style=\"background-color:Ivory;\">2.081</td><td  style=\"background-color:Ivory;\">AUUUCGGCGAGUAGCGCAGCUUGGUAGCGCAACUGGUUUGGGACCAGUGGGUCGGAGGUUCGAAUCCUCUCUCGCCG</td></tr><tr><td  style=\"background-color:AliceBlue;\">62</td><td  style=\"background-color:AliceBlue;\">003982735</td><td  style=\"background-color:AliceBlue;\">1.462</td><td  style=\"background-color:AliceBlue;\">2.081</td><td  style=\"background-color:AliceBlue;\">GGCGAGUAGCGCAGCUUGGUAGCGCAACUGGUUUGGGACCAGUGGGUCGGAGGUUCGAAUCCUCUCUCGCCGACCAA</td></tr><tr><td  style=\"background-color:Ivory;\">63</td><td  style=\"background-color:Ivory;\">003982740</td><td  style=\"background-color:Ivory;\">1.403</td><td  style=\"background-color:Ivory;\">0.517</td><td  style=\"background-color:Ivory;\">GUAGCGCAGCUUGGUAGCGCAACUGGUUUGGGACCAGUGGGUCGGAGGUUCGAAUCCUCUCUCGCCGACCAAUUUUG</td></tr><tr><td  style=\"background-color:AliceBlue;\">64</td><td  style=\"background-color:AliceBlue;\">004037140</td><td  style=\"background-color:AliceBlue;\">1.103</td><td  style=\"background-color:AliceBlue;\">1.368</td><td  style=\"background-color:AliceBlue;\">AGGCUUGUAGCUCAGGUGGUUAGAGCGCACCCCUGAUAAGGGUGAGGUCGGUGGUUCAAGUCCACUCAGGCCUACCA</td></tr><tr><td  style=\"background-color:Ivory;\">65</td><td  style=\"background-color:Ivory;\">004175380</td><td  style=\"background-color:Ivory;\">0.865</td><td  style=\"background-color:Ivory;\">1.162</td><td  style=\"background-color:Ivory;\">ACUUGAUGCCGACUUAGCUCAGUAGGUAGAGCAACUGACUUGUAAUCAGUAGGUCACCAGUUCGAUUCCGGUAGUCG</td></tr><tr><td  style=\"background-color:AliceBlue;\">66</td><td  style=\"background-color:AliceBlue;\">004175385</td><td  style=\"background-color:AliceBlue;\">0.712</td><td  style=\"background-color:AliceBlue;\">1.164</td><td  style=\"background-color:AliceBlue;\">AUGCCGACUUAGCUCAGUAGGUAGAGCAACUGACUUGUAAUCAGUAGGUCACCAGUUCGAUUCCGGUAGUCGGCACC</td></tr><tr><td  style=\"background-color:Ivory;\">67</td><td  style=\"background-color:Ivory;\">004175475</td><td  style=\"background-color:Ivory;\">0.934</td><td  style=\"background-color:Ivory;\">1.696</td><td  style=\"background-color:Ivory;\">GGGUUCCCGAGCGGCCAAAGGGAGCAGACUGUAAAUCUGCCGUCACAGACUUCGAAGGUUCGAAUCCUUCCCCCACC</td></tr><tr><td  style=\"background-color:AliceBlue;\">68</td><td  style=\"background-color:AliceBlue;\">004175485</td><td  style=\"background-color:AliceBlue;\">0.974</td><td  style=\"background-color:AliceBlue;\">1.006</td><td  style=\"background-color:AliceBlue;\">GCGGCCAAAGGGAGCAGACUGUAAAUCUGCCGUCACAGACUUCGAAGGUUCGAAUCCUUCCCCCACCACCAAUUUCG</td></tr><tr><td  style=\"background-color:Ivory;\">69</td><td  style=\"background-color:Ivory;\">004175670</td><td  style=\"background-color:Ivory;\">0.725</td><td  style=\"background-color:Ivory;\">2.100</td><td  style=\"background-color:Ivory;\">AUGCGGGCAUCGUAUAAUGGCUAUUACCUCAGCCUUCCAAGCUGAUGAUGCGGGUUCGAUUCCCGCUGCCCGCUCCA</td></tr><tr><td  style=\"background-color:AliceBlue;\">70</td><td  style=\"background-color:AliceBlue;\">004175735</td><td  style=\"background-color:AliceBlue;\">1.138</td><td  style=\"background-color:AliceBlue;\">1.054</td><td  style=\"background-color:AliceBlue;\">CUGCCCGCUCCAAGAUGUGCUGAUAUAGCUCAGUUGGUAGAGCGCACCCUUGGUAAGGGUGAGGUCGGCAGUUCGAA</td></tr><tr><td  style=\"background-color:Ivory;\">71</td><td  style=\"background-color:Ivory;\">004175750</td><td  style=\"background-color:Ivory;\">1.909</td><td  style=\"background-color:Ivory;\">2.081</td><td  style=\"background-color:Ivory;\">UGUGCUGAUAUAGCUCAGUUGGUAGAGCGCACCCUUGGUAAGGGUGAGGUCGGCAGUUCGAAUCUGCCUAUCAGCAC</td></tr><tr><td  style=\"background-color:AliceBlue;\">72</td><td  style=\"background-color:AliceBlue;\">004175755</td><td  style=\"background-color:AliceBlue;\">1.538</td><td  style=\"background-color:AliceBlue;\">0.944</td><td  style=\"background-color:AliceBlue;\">UGAUAUAGCUCAGUUGGUAGAGCGCACCCUUGGUAAGGGUGAGGUCGGCAGUUCGAAUCUGCCUAUCAGCACCACUU</td></tr><tr><td  style=\"background-color:Ivory;\">73</td><td  style=\"background-color:Ivory;\">004392355</td><td  style=\"background-color:Ivory;\">1.358</td><td  style=\"background-color:Ivory;\">2.081</td><td  style=\"background-color:Ivory;\">GUACGCGGGAAUAGCUCAGUUGGUAGAGCACGACCUUGCCAAGGUCGGGGUCGCGAGUUCGAGUCUCGUUUCCCGCU</td></tr><tr><td  style=\"background-color:AliceBlue;\">74</td><td  style=\"background-color:AliceBlue;\">004392375</td><td  style=\"background-color:AliceBlue;\">0.350</td><td  style=\"background-color:AliceBlue;\">2.045</td><td  style=\"background-color:AliceBlue;\">UGGUAGAGCACGACCUUGCCAAGGUCGGGGUCGCGAGUUCGAGUCUCGUUUCCCGCUCCAAAAUUUGAAAAGUGCUG</td></tr><tr><td  style=\"background-color:Ivory;\">75</td><td  style=\"background-color:Ivory;\">004392455</td><td  style=\"background-color:Ivory;\">0.547</td><td  style=\"background-color:Ivory;\">2.058</td><td  style=\"background-color:Ivory;\">AGCACAGACCACCCAAGCGGGAAUAGCUCAGUUGGUAGAGCACGACCUUGCCAAGGUCGGGGUCGCGAGUUCGAGUC</td></tr><tr><td  style=\"background-color:AliceBlue;\">76</td><td  style=\"background-color:AliceBlue;\">004392465</td><td  style=\"background-color:AliceBlue;\">1.504</td><td  style=\"background-color:AliceBlue;\">0.394</td><td  style=\"background-color:AliceBlue;\">ACCCAAGCGGGAAUAGCUCAGUUGGUAGAGCACGACCUUGCCAAGGUCGGGGUCGCGAGUUCGAGUCUCGUUUCCCG</td></tr><tr><td  style=\"background-color:Ivory;\">77</td><td  style=\"background-color:Ivory;\">004392470</td><td  style=\"background-color:Ivory;\">1.544</td><td  style=\"background-color:Ivory;\">2.081</td><td  style=\"background-color:Ivory;\">AGCGGGAAUAGCUCAGUUGGUAGAGCACGACCUUGCCAAGGUCGGGGUCGCGAGUUCGAGUCUCGUUUCCCGCUCCA</td></tr><tr><td  style=\"background-color:AliceBlue;\">78</td><td  style=\"background-color:AliceBlue;\">004392475</td><td  style=\"background-color:AliceBlue;\">0.982</td><td  style=\"background-color:AliceBlue;\">0.944</td><td  style=\"background-color:AliceBlue;\">GAAUAGCUCAGUUGGUAGAGCACGACCUUGCCAAGGUCGGGGUCGCGAGUUCGAGUCUCGUUUCCCGCUCCAAAAUU</td></tr><tr><td  style=\"background-color:Ivory;\">79</td><td  style=\"background-color:Ivory;\">004392565</td><td  style=\"background-color:Ivory;\">0.508</td><td  style=\"background-color:Ivory;\">2.058</td><td  style=\"background-color:Ivory;\">AGGCACAGACCACCCAAGCGGGAAUAGCUCAGUUGGUAGAGCACGACCUUGCCAAGGUCGGGGUCGCGAGUUCGAGU</td></tr><tr><td  style=\"background-color:AliceBlue;\">80</td><td  style=\"background-color:AliceBlue;\">004392580</td><td  style=\"background-color:AliceBlue;\">1.463</td><td  style=\"background-color:AliceBlue;\">2.081</td><td  style=\"background-color:AliceBlue;\">AAGCGGGAAUAGCUCAGUUGGUAGAGCACGACCUUGCCAAGGUCGGGGUCGCGAGUUCGAGUCUCGUUUCCCGCUCC</td></tr><tr><td  style=\"background-color:Ivory;\">81</td><td  style=\"background-color:Ivory;\">004392585</td><td  style=\"background-color:Ivory;\">1.054</td><td  style=\"background-color:Ivory;\">0.967</td><td  style=\"background-color:Ivory;\">GGAAUAGCUCAGUUGGUAGAGCACGACCUUGCCAAGGUCGGGGUCGCGAGUUCGAGUCUCGUUUCCCGCUCCAAAUU</td></tr><tr><td  style=\"background-color:AliceBlue;\">82</td><td  style=\"background-color:AliceBlue;\">004392765</td><td  style=\"background-color:AliceBlue;\">0.731</td><td  style=\"background-color:AliceBlue;\">1.146</td><td  style=\"background-color:AliceBlue;\">AUCUUAAUUUCAAAGAAACUUCGCACGGUGAAUAGUAUUUUUUUAACCUAUUGAUAGAUAAGUUAAAAAUUAAGAUU</td></tr><tr><td  style=\"background-color:Ivory;\">83</td><td  style=\"background-color:Ivory;\">004496410</td><td  style=\"background-color:Ivory;\">1.205</td><td  style=\"background-color:Ivory;\">1.768</td><td  style=\"background-color:Ivory;\">GUGGCGAAAUCGGUAGACGCAGUUGAUUCAAAAUCAACCGUAGAAAUACGUGCCGGUUCGAGUCCGGCCUUCGGCAC</td></tr><tr><td  style=\"background-color:AliceBlue;\">84</td><td  style=\"background-color:AliceBlue;\">004616115</td><td  style=\"background-color:AliceBlue;\">0.056</td><td  style=\"background-color:AliceBlue;\">2.108</td><td  style=\"background-color:AliceBlue;\">AACAUUGGCACAAAACGUUCAGGGUUAAUCAGCCCUUCUUUCACCAGGAAGCUAUUCUCAAAGAAGUGUGAUUGUUG</td></tr>"
       ],
       "metadata": {},
       "output_type": "pyout",
       "prompt_number": 36,
       "text": [
        "<IPython.core.display.HTML at 0x10de6b210>"
       ]
      }
     ],
     "prompt_number": 36
    },
    {
     "cell_type": "code",
     "collapsed": false,
     "input": [
      "#reference tRNA\n",
      "fname='trna_ecoli'\n",
      "def parse(fname):\n",
      "    with open(fname) as f:\n",
      "        for line in f:\n",
      "            text = ' '.join([line.strip(), f.next().strip(), f.next().strip(), f.next().strip()])\n",
      "            lines=text.split()\n",
      "            yield (int(lines[6].replace(\",\", \"\")),lines[0], lines[5])\n",
      "\n",
      "from ipy_table import * \n",
      "\n",
      "mat=[('ID','Name','Pos')]\n",
      "\n",
      "counter=1            \n",
      "for t in sorted(parse(fname)):\n",
      "    pos,name,strand = t\n",
      "    name=name.replace(\"T\",\"U\")\n",
      "    if '+' in strand:\n",
      "        mat += [(counter, name, pos)]\n",
      "        counter += 1\n",
      "        \n",
      "make_table(mat)\n",
      "apply_theme('basic')\n",
      "set_global_style(float_format = '%0.3f')"
     ],
     "language": "python",
     "metadata": {},
     "outputs": [
      {
       "html": [
        "<table border=\"1\" cellpadding=\"3\" cellspacing=\"0\"  style=\"border:1px solid black;border-collapse:collapse;\"><tr><td  style=\"background-color:LightGray;\"><b>ID</b></td><td  style=\"background-color:LightGray;\"><b>Name</b></td><td  style=\"background-color:LightGray;\"><b>Pos</b></td></tr><tr><td  style=\"background-color:Ivory;\">1</td><td  style=\"background-color:Ivory;\">chr.tRNA1-IleGAU</td><td  style=\"background-color:Ivory;\">225381</td></tr><tr><td  style=\"background-color:AliceBlue;\">2</td><td  style=\"background-color:AliceBlue;\">chr.tRNA2-AlaUGC</td><td  style=\"background-color:AliceBlue;\">225500</td></tr><tr><td  style=\"background-color:Ivory;\">3</td><td  style=\"background-color:Ivory;\">chr.tRNA3-AspGUC</td><td  style=\"background-color:Ivory;\">228928</td></tr><tr><td  style=\"background-color:AliceBlue;\">4</td><td  style=\"background-color:AliceBlue;\">chr.tRNA4-AspGUC</td><td  style=\"background-color:AliceBlue;\">236931</td></tr><tr><td  style=\"background-color:Ivory;\">5</td><td  style=\"background-color:Ivory;\">chr.tRNA5-UhrCGU</td><td  style=\"background-color:Ivory;\">262095</td></tr><tr><td  style=\"background-color:AliceBlue;\">6</td><td  style=\"background-color:AliceBlue;\">chr.tRNA6-UhrCGU</td><td  style=\"background-color:AliceBlue;\">296402</td></tr><tr><td  style=\"background-color:Ivory;\">7</td><td  style=\"background-color:Ivory;\">chr.tRNA7-Pseudo???</td><td  style=\"background-color:Ivory;\">344558</td></tr><tr><td  style=\"background-color:AliceBlue;\">8</td><td  style=\"background-color:AliceBlue;\">chr.tRNA8-ArgUCU</td><td  style=\"background-color:AliceBlue;\">563946</td></tr><tr><td  style=\"background-color:Ivory;\">9</td><td  style=\"background-color:Ivory;\">chr.tRNA9-LysUUU</td><td  style=\"background-color:Ivory;\">779777</td></tr><tr><td  style=\"background-color:AliceBlue;\">10</td><td  style=\"background-color:AliceBlue;\">chr.tRNA10-ValUAC</td><td  style=\"background-color:AliceBlue;\">779988</td></tr><tr><td  style=\"background-color:Ivory;\">11</td><td  style=\"background-color:Ivory;\">chr.tRNA11-LysUUU</td><td  style=\"background-color:Ivory;\">780066</td></tr><tr><td  style=\"background-color:AliceBlue;\">12</td><td  style=\"background-color:AliceBlue;\">chr.tRNA12-ValUAC</td><td  style=\"background-color:AliceBlue;\">780291</td></tr><tr><td  style=\"background-color:Ivory;\">13</td><td  style=\"background-color:Ivory;\">chr.tRNA13-LysUUU</td><td  style=\"background-color:Ivory;\">780370</td></tr><tr><td  style=\"background-color:AliceBlue;\">14</td><td  style=\"background-color:AliceBlue;\">chr.tRNA14-LysUUU</td><td  style=\"background-color:AliceBlue;\">780592</td></tr><tr><td  style=\"background-color:Ivory;\">15</td><td  style=\"background-color:Ivory;\">chr.tRNA15-LysUUU</td><td  style=\"background-color:Ivory;\">780800</td></tr><tr><td  style=\"background-color:AliceBlue;\">16</td><td  style=\"background-color:AliceBlue;\">chr.tRNA16-ValGAC</td><td  style=\"background-color:AliceBlue;\">1744459</td></tr><tr><td  style=\"background-color:Ivory;\">17</td><td  style=\"background-color:Ivory;\">chr.tRNA17-ValGAC</td><td  style=\"background-color:Ivory;\">1744540</td></tr><tr><td  style=\"background-color:AliceBlue;\">18</td><td  style=\"background-color:AliceBlue;\">chr.tRNA18-AsnGUU</td><td  style=\"background-color:AliceBlue;\">2042573</td></tr><tr><td  style=\"background-color:Ivory;\">19</td><td  style=\"background-color:Ivory;\">chr.tRNA19-AsnGUU</td><td  style=\"background-color:Ivory;\">2057875</td></tr><tr><td  style=\"background-color:AliceBlue;\">20</td><td  style=\"background-color:AliceBlue;\">chr.tRNA20-AsnGUU</td><td  style=\"background-color:AliceBlue;\">2060284</td></tr><tr><td  style=\"background-color:Ivory;\">21</td><td  style=\"background-color:Ivory;\">chr.tRNA21-ProGGG</td><td  style=\"background-color:Ivory;\">2284233</td></tr><tr><td  style=\"background-color:AliceBlue;\">22</td><td  style=\"background-color:AliceBlue;\">chr.tRNA22-ArgCCU</td><td  style=\"background-color:AliceBlue;\">2464331</td></tr><tr><td  style=\"background-color:Ivory;\">23</td><td  style=\"background-color:Ivory;\">chr.tRNA23-ValUAC</td><td  style=\"background-color:Ivory;\">2518953</td></tr><tr><td  style=\"background-color:AliceBlue;\">24</td><td  style=\"background-color:AliceBlue;\">chr.tRNA24-ValUAC</td><td  style=\"background-color:AliceBlue;\">2519073</td></tr><tr><td  style=\"background-color:Ivory;\">25</td><td  style=\"background-color:Ivory;\">chr.tRNA25-ValUAC</td><td  style=\"background-color:Ivory;\">2519195</td></tr><tr><td  style=\"background-color:AliceBlue;\">26</td><td  style=\"background-color:AliceBlue;\">chr.tRNA26-LysUUU</td><td  style=\"background-color:AliceBlue;\">2519275</td></tr><tr><td  style=\"background-color:Ivory;\">27</td><td  style=\"background-color:Ivory;\">chr.tRNA27-MetCAU</td><td  style=\"background-color:Ivory;\">2945409</td></tr><tr><td  style=\"background-color:AliceBlue;\">28</td><td  style=\"background-color:AliceBlue;\">chr.tRNA28-MetCAU</td><td  style=\"background-color:AliceBlue;\">2945519</td></tr><tr><td  style=\"background-color:Ivory;\">29</td><td  style=\"background-color:Ivory;\">chr.tRNA29-MetCAU</td><td  style=\"background-color:Ivory;\">2945629</td></tr><tr><td  style=\"background-color:AliceBlue;\">30</td><td  style=\"background-color:AliceBlue;\">chr.tRNA30-PheGAA</td><td  style=\"background-color:AliceBlue;\">3108388</td></tr><tr><td  style=\"background-color:Ivory;\">31</td><td  style=\"background-color:Ivory;\">chr.tRNA31-MetCAU</td><td  style=\"background-color:Ivory;\">3213620</td></tr><tr><td  style=\"background-color:AliceBlue;\">32</td><td  style=\"background-color:AliceBlue;\">chr.tRNA32-SeC(p)UCA</td><td  style=\"background-color:AliceBlue;\">3834245</td></tr><tr><td  style=\"background-color:Ivory;\">33</td><td  style=\"background-color:Ivory;\">chr.tRNA33-GluUUC</td><td  style=\"background-color:Ivory;\">3941458</td></tr><tr><td  style=\"background-color:AliceBlue;\">34</td><td  style=\"background-color:AliceBlue;\">chr.tRNA34-AspGUC</td><td  style=\"background-color:AliceBlue;\">3944895</td></tr><tr><td  style=\"background-color:Ivory;\">35</td><td  style=\"background-color:Ivory;\">chr.tRNA35-UrpCCA</td><td  style=\"background-color:Ivory;\">3944980</td></tr><tr><td  style=\"background-color:AliceBlue;\">36</td><td  style=\"background-color:AliceBlue;\">chr.tRNA36-ArgCCG</td><td  style=\"background-color:AliceBlue;\">3980398</td></tr><tr><td  style=\"background-color:Ivory;\">37</td><td  style=\"background-color:Ivory;\">chr.tRNA37-HisGUG</td><td  style=\"background-color:Ivory;\">3980533</td></tr><tr><td  style=\"background-color:AliceBlue;\">38</td><td  style=\"background-color:AliceBlue;\">chr.tRNA38-LeuCAG</td><td  style=\"background-color:AliceBlue;\">3980629</td></tr><tr><td  style=\"background-color:Ivory;\">39</td><td  style=\"background-color:Ivory;\">chr.tRNA39-ProUGG</td><td  style=\"background-color:Ivory;\">3980758</td></tr><tr><td  style=\"background-color:AliceBlue;\">40</td><td  style=\"background-color:AliceBlue;\">chr.tRNA40-IleGAU</td><td  style=\"background-color:AliceBlue;\">4035164</td></tr><tr><td  style=\"background-color:Ivory;\">41</td><td  style=\"background-color:Ivory;\">chr.tRNA41-AlaUGC</td><td  style=\"background-color:Ivory;\">4035283</td></tr><tr><td  style=\"background-color:AliceBlue;\">42</td><td  style=\"background-color:AliceBlue;\">chr.tRNA42-GluUUC</td><td  style=\"background-color:AliceBlue;\">4166395</td></tr><tr><td  style=\"background-color:Ivory;\">43</td><td  style=\"background-color:Ivory;\">chr.tRNA43-UhrUGU</td><td  style=\"background-color:Ivory;\">4173411</td></tr><tr><td  style=\"background-color:AliceBlue;\">44</td><td  style=\"background-color:AliceBlue;\">chr.tRNA44-UyrGUA</td><td  style=\"background-color:AliceBlue;\">4173495</td></tr><tr><td  style=\"background-color:Ivory;\">45</td><td  style=\"background-color:Ivory;\">chr.tRNA45-GlyUCC</td><td  style=\"background-color:Ivory;\">4173696</td></tr><tr><td  style=\"background-color:AliceBlue;\">46</td><td  style=\"background-color:AliceBlue;\">chr.tRNA46-UhrGGU</td><td  style=\"background-color:AliceBlue;\">4173777</td></tr><tr><td  style=\"background-color:Ivory;\">47</td><td  style=\"background-color:Ivory;\">chr.tRNA47-GluUUC</td><td  style=\"background-color:Ivory;\">4207797</td></tr><tr><td  style=\"background-color:AliceBlue;\">48</td><td  style=\"background-color:AliceBlue;\">chr.tRNA48-GlyGCC</td><td  style=\"background-color:AliceBlue;\">4390383</td></tr><tr><td  style=\"background-color:Ivory;\">49</td><td  style=\"background-color:Ivory;\">chr.tRNA49-GlyGCC</td><td  style=\"background-color:Ivory;\">4390495</td></tr><tr><td  style=\"background-color:AliceBlue;\">50</td><td  style=\"background-color:AliceBlue;\">chr.tRNA50-GlyGCC</td><td  style=\"background-color:AliceBlue;\">4390606</td></tr><tr><td  style=\"background-color:Ivory;\">51</td><td  style=\"background-color:Ivory;\">chr.tRNA51-LeuCAA</td><td  style=\"background-color:Ivory;\">4494428</td></tr>"
       ],
       "metadata": {},
       "output_type": "pyout",
       "prompt_number": 37,
       "text": [
        "<IPython.core.display.HTML at 0x110422c10>"
       ]
      }
     ],
     "prompt_number": 37
    },
    {
     "cell_type": "code",
     "collapsed": false,
     "input": [
      "#validate results\n",
      "tolerance = 50\n",
      "offset = 2000\n",
      "name_set = set()\n",
      "for counter_r, pos_r, sc1_r,sc2_r, seq_r in matr[1:]:\n",
      "    for counter, name, pos in mat[1:]:\n",
      "        if int(pos_r) - offset > int(pos) - tolerance and int(pos_r) - offset < int(pos) + tolerance: \n",
      "            print name,pos, pos_r, counter_r\n",
      "            name_set.add(name)\n",
      "print len(name_set)"
     ],
     "language": "python",
     "metadata": {},
     "outputs": [
      {
       "output_type": "stream",
       "stream": "stdout",
       "text": [
        "chr.tRNA16-ValGAC 1744459 001746430 21\n",
        "chr.tRNA18-AsnGUU 2042573 002044545 24\n",
        "chr.tRNA19-AsnGUU 2057875 002059845 25\n",
        "chr.tRNA19-AsnGUU 2057875 002059850 26\n",
        "chr.tRNA20-AsnGUU 2060284 002062255 27\n",
        "chr.tRNA22-ArgCCU 2464331 002466305 29\n",
        "chr.tRNA22-ArgCCU 2464331 002466310 30\n",
        "chr.tRNA22-ArgCCU 2464331 002466315 31\n",
        "chr.tRNA23-ValUAC 2518953 002520930 32\n",
        "chr.tRNA24-ValUAC 2519073 002521045 33\n",
        "chr.tRNA24-ValUAC 2519073 002521050 34\n",
        "chr.tRNA25-ValUAC 2519195 002521170 35\n",
        "chr.tRNA26-LysUUU 2519275 002521250 36\n",
        "chr.tRNA27-MetCAU 2945409 002947380 39\n",
        "chr.tRNA27-MetCAU 2945409 002947385 40\n",
        "chr.tRNA28-MetCAU 2945519 002947495 41\n",
        "chr.tRNA29-MetCAU 2945629 002947605 42\n",
        "chr.tRNA30-PheGAA 3108388 003110360 43\n",
        "chr.tRNA30-PheGAA 3108388 003110365 44\n",
        "chr.tRNA30-PheGAA 3108388 003110370 45\n",
        "chr.tRNA31-MetCAU 3213620 003215595 46\n",
        "chr.tRNA32-SeC(p)UCA 3834245 003836235 53\n",
        "chr.tRNA32-SeC(p)UCA 3834245 003836240 54\n",
        "chr.tRNA34-AspGUC 3944895 003946870 55\n",
        "chr.tRNA35-UrpCCA 3944980 003946950 56\n",
        "chr.tRNA35-UrpCCA 3944980 003946955 57\n",
        "chr.tRNA36-ArgCCG 3980398 003982370 58\n",
        "chr.tRNA37-HisGUG 3980533 003982505 59\n",
        "chr.tRNA37-HisGUG 3980533 003982510 60\n",
        "chr.tRNA39-ProUGG 3980758 003982730 61\n",
        "chr.tRNA39-ProUGG 3980758 003982735 62\n",
        "chr.tRNA39-ProUGG 3980758 003982740 63\n",
        "chr.tRNA40-IleGAU 4035164 004037140 64\n",
        "chr.tRNA43-UhrUGU 4173411 004175380 65\n",
        "chr.tRNA43-UhrUGU 4173411 004175385 66\n",
        "chr.tRNA44-UyrGUA 4173495 004175475 67\n",
        "chr.tRNA44-UyrGUA 4173495 004175485 68\n",
        "chr.tRNA45-GlyUCC 4173696 004175670 69\n",
        "chr.tRNA45-GlyUCC 4173696 004175735 70\n",
        "chr.tRNA46-UhrGGU 4173777 004175735 70\n",
        "chr.tRNA46-UhrGGU 4173777 004175750 71\n",
        "chr.tRNA46-UhrGGU 4173777 004175755 72\n",
        "chr.tRNA48-GlyGCC 4390383 004392355 73\n",
        "chr.tRNA48-GlyGCC 4390383 004392375 74\n",
        "chr.tRNA49-GlyGCC 4390495 004392455 75\n",
        "chr.tRNA49-GlyGCC 4390495 004392465 76\n",
        "chr.tRNA49-GlyGCC 4390495 004392470 77\n",
        "chr.tRNA49-GlyGCC 4390495 004392475 78\n",
        "chr.tRNA50-GlyGCC 4390606 004392565 79\n",
        "chr.tRNA50-GlyGCC 4390606 004392580 80\n",
        "chr.tRNA50-GlyGCC 4390606 004392585 81\n",
        "chr.tRNA51-LeuCAA 4494428 004496410 83\n",
        "29\n"
       ]
      }
     ],
     "prompt_number": 38
    },
    {
     "cell_type": "code",
     "collapsed": false,
     "input": [
      "%load_ext autoreload\n",
      "%autoreload 2"
     ],
     "language": "python",
     "metadata": {},
     "outputs": [
      {
       "output_type": "stream",
       "stream": "stdout",
       "text": [
        "The autoreload extension is already loaded. To reload it, use:\n",
        "  %reload_ext autoreload\n"
       ]
      }
     ],
     "prompt_number": 39
    },
    {
     "cell_type": "code",
     "collapsed": false,
     "input": [
      "def fasta_results(mat):\n",
      "    for counter, pos, sc1,sc2, seq in mat:\n",
      "        yield '>Ecoli:%s'%pos\n",
      "        yield seq"
     ],
     "language": "python",
     "metadata": {},
     "outputs": [],
     "prompt_number": 40
    },
    {
     "cell_type": "code",
     "collapsed": false,
     "input": [
      "def pre_process(data):\n",
      "    from eden.converter.rna.rnashapes import rnashapes_to_eden\n",
      "    graphs = rnashapes_to_eden(data, shape_type=5, energy_range=35, max_num=3)\n",
      "    return graphs"
     ],
     "language": "python",
     "metadata": {},
     "outputs": [],
     "prompt_number": 41
    },
    {
     "cell_type": "code",
     "collapsed": false,
     "input": [
      "%matplotlib inline\n",
      "#parameters for visualization\n",
      "from eden.util.display import draw_graph\n",
      "size = 14\n",
      "node_size = 200\n",
      "font_size = 9\n",
      "opts={'size':size, 'node_border':False, 'node_size':node_size, 'font_size':font_size, 'vertex_alpha':0.6}\n",
      "\n",
      "for graph in itertools.islice(pre_process(fasta_results(matr)),29,31):\n",
      "    draw_graph(graph, **opts)"
     ],
     "language": "python",
     "metadata": {},
     "outputs": [
      {
       "metadata": {},
       "output_type": "display_data",
       "png": "[encoded data removed]",
       "text": [
        "<matplotlib.figure.Figure at 0x1104220d0>"
       ]
      },
      {
       "metadata": {},
       "output_type": "display_data",
       "png": "[encoded data removed]",
       "text": [
        "<matplotlib.figure.Figure at 0x110410390>"
       ]
      }
     ],
     "prompt_number": 42
    }
   ],
   "metadata": {}
  }
 ]
}