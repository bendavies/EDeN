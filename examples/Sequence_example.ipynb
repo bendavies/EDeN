{
 "metadata": {
  "name": "",
  "signature": "sha256:2df913977f589bc40478cb2f0e9fe56c28c81fc1c8ecd97a3b0549aa963a20a1"
 },
 "nbformat": 3,
 "nbformat_minor": 0,
 "worksheets": [
  {
   "cells": [
    {
     "cell_type": "markdown",
     "metadata": {},
     "source": [
      "#Example\n",
      "\n",
      "Consider sequences that are increasingly different. EDeN allows to turn them into vectors, whose similarity is decreasing."
     ]
    },
    {
     "cell_type": "code",
     "collapsed": false,
     "input": [
      "%matplotlib inline"
     ],
     "language": "python",
     "metadata": {},
     "outputs": [],
     "prompt_number": 1
    },
    {
     "cell_type": "markdown",
     "metadata": {},
     "source": [
      "Build an artificial dataset: starting from the string 'abcdefghijklmnopqrstuvwxyz', generate iteratively strings by swapping two characters at random. In this way instances are progressively more dissimilar"
     ]
    },
    {
     "cell_type": "code",
     "collapsed": false,
     "input": [
      "import random\n",
      "\n",
      "def make_data(size):\n",
      "    text = ''.join([str(unichr(97+i)) for i in range(26)])\n",
      "    seqs = []\n",
      "\n",
      "    def swap_two_characters(seq):\n",
      "        '''define a function that swaps two characters at random positions in a string '''\n",
      "        line = list(seq)\n",
      "        id_i = random.randint(0,len(line)-1)\n",
      "        id_j = random.randint(0,len(line)-1)\n",
      "        line[id_i], line[id_j] = line[id_j], line[id_i]\n",
      "        return ''.join(line)\n",
      "\n",
      "    for i in range(size):\n",
      "        text = swap_two_characters( text )\n",
      "        seqs.append( text )\n",
      "        print text\n",
      "        \n",
      "    return seqs"
     ],
     "language": "python",
     "metadata": {},
     "outputs": [],
     "prompt_number": 2
    },
    {
     "cell_type": "code",
     "collapsed": false,
     "input": [
      "seqs = make_data(25)"
     ],
     "language": "python",
     "metadata": {},
     "outputs": [
      {
       "output_type": "stream",
       "stream": "stdout",
       "text": [
        "abcdefghijplmnokqrstuvwxyz\n",
        "abcdefgyijplmnokqrstuvwxhz\n",
        "abcdefgyijplmhokqrstuvwxnz\n",
        "axcdefgyijplmhokqrstuvwbnz\n",
        "axcdefgyijplmhokqrsnuvwbtz\n",
        "axcdefgyijhlmpokqrsnuvwbtz\n",
        "dxcaefgyijhlmpokqrsnuvwbtz\n",
        "dxcaeygfijhlmpokqrsnuvwbtz\n",
        "dxcaeygfijrlmpokqhsnuvwbtz\n",
        "dxhaeygfijrlmpokqcsnuvwbtz\n",
        "vxhaeygfijrlmpokqcsnudwbtz\n",
        "vxhaeygfijrcmpokqlsnudwbtz\n",
        "vrhaeygfijxcmpokqlsnudwbtz\n",
        "vrhaeygfijxcmpokslqnudwbtz\n",
        "vryaehgfijxcmpokslqnudwbtz\n",
        "vrtaehgfijxcmpokslqnudwbyz\n",
        "vrtaehgfijucmpokslqnxdwbyz\n",
        "vrtaehgfijucmpokslqxndwbyz\n",
        "vrtsehgfijucmpokalqxndwbyz\n",
        "vrtsehgfijpcmuokalqxndwbyz\n",
        "crtsehgfijpvmuokalqxndwbyz\n",
        "crtsehgfijpvmuokalqxnzwbyd\n",
        "crtsehgfijpvmuokalqxnbwzyd\n",
        "crtsehqfijpvmuokalgxnbwzyd\n",
        "crtseiqfhjpvmuokalgxnbwzyd\n"
       ]
      }
     ],
     "prompt_number": 12
    },
    {
     "cell_type": "markdown",
     "metadata": {},
     "source": [
      "define a function that builds a graph from a string, i.e. the path graph with the characters as node labels"
     ]
    },
    {
     "cell_type": "code",
     "collapsed": false,
     "input": [
      "import networkx as nx\n",
      "\n",
      "def sequence_to_graph(seq):\n",
      "    '''convert a sequence into a EDeN 'compatible' graph\n",
      "    i.e. a graph with the attribute 'label' for every node and edge'''\n",
      "    G = nx.Graph()\n",
      "    for id,character in enumerate(seq):\n",
      "        G.add_node(id, label = character )\n",
      "        if id > 0:\n",
      "            G.add_edge(id-1, id, label = '-')\n",
      "    return G"
     ],
     "language": "python",
     "metadata": {},
     "outputs": [],
     "prompt_number": 13
    },
    {
     "cell_type": "markdown",
     "metadata": {},
     "source": [
      "make a generator that yields graphs: generators are 'good' as they allow functional composition"
     ]
    },
    {
     "cell_type": "code",
     "collapsed": false,
     "input": [
      "def pre_process(iterable):\n",
      "    for seq in iterable:\n",
      "        yield sequence_to_graph(seq)"
     ],
     "language": "python",
     "metadata": {},
     "outputs": [],
     "prompt_number": 14
    },
    {
     "cell_type": "markdown",
     "metadata": {},
     "source": [
      "initialize the vectorizer object with the desired 'resolution'"
     ]
    },
    {
     "cell_type": "code",
     "collapsed": false,
     "input": [
      "%%time\n",
      "from eden.graph import Vectorizer\n",
      "vectorizer = Vectorizer( r=2, d=4 )"
     ],
     "language": "python",
     "metadata": {},
     "outputs": [
      {
       "output_type": "stream",
       "stream": "stdout",
       "text": [
        "CPU times: user 18 \u00b5s, sys: 0 ns, total: 18 \u00b5s\n",
        "Wall time: 22.9 \u00b5s\n"
       ]
      }
     ],
     "prompt_number": 15
    },
    {
     "cell_type": "markdown",
     "metadata": {},
     "source": [
      "obtain an iterator over the sequences processed into graphs"
     ]
    },
    {
     "cell_type": "code",
     "collapsed": false,
     "input": [
      "%%time\n",
      "graphs = pre_process( seqs )"
     ],
     "language": "python",
     "metadata": {},
     "outputs": [
      {
       "output_type": "stream",
       "stream": "stdout",
       "text": [
        "CPU times: user 5 \u00b5s, sys: 3 \u00b5s, total: 8 \u00b5s\n",
        "Wall time: 10 \u00b5s\n"
       ]
      }
     ],
     "prompt_number": 16
    },
    {
     "cell_type": "markdown",
     "metadata": {},
     "source": [
      "compute the vector encoding of each instance in a sparse data matrix"
     ]
    },
    {
     "cell_type": "code",
     "collapsed": false,
     "input": [
      "%%time\n",
      "X = vectorizer.transform( graphs )\n",
      "print 'Instances: %d ; Features: %d with an avg of %d features per instance' % (X.shape[0], X.shape[1],  X.getnnz()/X.shape[0])"
     ],
     "language": "python",
     "metadata": {},
     "outputs": [
      {
       "output_type": "stream",
       "stream": "stdout",
       "text": [
        "Instances: 25 ; Features: 1048577 with an avg of 359 features per instance\n",
        "CPU times: user 141 ms, sys: 53.4 ms, total: 194 ms\n",
        "Wall time: 283 ms\n"
       ]
      }
     ],
     "prompt_number": 17
    },
    {
     "cell_type": "markdown",
     "metadata": {},
     "source": [
      "compute the pairwise similarity as the dot product between the vector representations of each sequence"
     ]
    },
    {
     "cell_type": "code",
     "collapsed": false,
     "input": [
      "from sklearn import metrics\n",
      "\n",
      "K=metrics.pairwise.pairwise_kernels(X, metric='linear')\n",
      "print K"
     ],
     "language": "python",
     "metadata": {},
     "outputs": [
      {
       "output_type": "stream",
       "stream": "stdout",
       "text": [
        "[[ 1.          0.69910456  0.53340553  0.40047397  0.29844752  0.2570699\n",
        "   0.22444873  0.21039056  0.17171977  0.16591169  0.15196463  0.14336911\n",
        "   0.14336911  0.11466447  0.12523712  0.13905375  0.13324567  0.13046789\n",
        "   0.13325533  0.15300081  0.14732448  0.14197294  0.13908405  0.11423955\n",
        "   0.09739262]\n",
        " [ 0.69910456  1.          0.69910456  0.54547691  0.44345046  0.3369477\n",
        "   0.27030921  0.21806466  0.18229242  0.17915101  0.16520395  0.15660843\n",
        "   0.15394176  0.12523712  0.11466447  0.11744225  0.11466447  0.11188669\n",
        "   0.11467413  0.13152106  0.12584473  0.12572396  0.12016841  0.10601733\n",
        "   0.09484673]\n",
        " [ 0.53340553  0.69910456  1.          0.75173829  0.60914949  0.3369477\n",
        "   0.27030921  0.21806466  0.18217165  0.17358579  0.15963873  0.14826543\n",
        "   0.14826543  0.12245934  0.1179473   0.12072508  0.12340144  0.12339174\n",
        "   0.12617918  0.14302611  0.13734979  0.14245978  0.13167346  0.11752238\n",
        "   0.09739262]\n",
        " [ 0.40047397  0.54547691  0.75173829  1.          0.7371028   0.46483441\n",
        "   0.29821997  0.23998142  0.20408841  0.19283588  0.1681025   0.1567292\n",
        "   0.15649731  0.13069123  0.12617918  0.12895696  0.12340144  0.12616952\n",
        "   0.12895696  0.14580389  0.14012756  0.1371179   0.139682    0.12553093\n",
        "   0.10540117]\n",
        " [ 0.29844752  0.44345046  0.60914949  0.7371028   1.          0.70703552\n",
        "   0.54042108  0.48218253  0.35644066  0.34518814  0.22865795  0.21728465\n",
        "   0.21705277  0.17705675  0.17254471  0.13780501  0.12679534  0.12061397\n",
        "   0.12073474  0.13758167  0.13468312  0.12900679  0.12900679  0.11485571\n",
        "   0.09472596]\n",
        " [ 0.2570699   0.3369477   0.3369477   0.46483441  0.70703552  0.9969697\n",
        "   0.8213961   0.69518803  0.40242191  0.39987602  0.28334583  0.25305689\n",
        "   0.25282501  0.20192189  0.18831894  0.15352336  0.1425137   0.13633232\n",
        "   0.13361042  0.11467413  0.11177558  0.10609925  0.10609925  0.09497848\n",
        "   0.08891787]\n",
        " [ 0.22444873  0.27030921  0.27030921  0.29821997  0.54042108  0.8213961\n",
        "   1.          0.76614554  0.47337941  0.41648009  0.29168883  0.26139989\n",
        "   0.25839022  0.20748711  0.19388416  0.15908858  0.15074558  0.13911976\n",
        "   0.13083264  0.11189635  0.1089978   0.10609925  0.10609925  0.09497848\n",
        "   0.08891787]\n",
        " [ 0.21039056  0.21806466  0.21806466  0.23998142  0.48218253  0.69518803\n",
        "   0.76614554  1.          0.63037181  0.49977247  0.37195091  0.33560136\n",
        "   0.3295614   0.27865829  0.21015378  0.17541407  0.17010138  0.15544526\n",
        "   0.14697051  0.12803422  0.12513567  0.12223712  0.12223712  0.10588558\n",
        "   0.0945942 ]\n",
        " [ 0.17171977  0.18229242  0.18217165  0.20408841  0.35644066  0.40242191\n",
        "   0.47337941  0.63037181  1.          0.67404638  0.54622482  0.38052579\n",
        "   0.3265311   0.27562799  0.21015378  0.17541407  0.17010138  0.15544526\n",
        "   0.14697051  0.12803422  0.12513567  0.12223712  0.12223712  0.10855224\n",
        "   0.09192754]\n",
        " [ 0.16591169  0.17915101  0.17358579  0.19283588  0.34518814  0.39987602\n",
        "   0.41648009  0.49977247  0.67404638  1.          0.74163549  0.45321391\n",
        "   0.36298078  0.31207767  0.21328421  0.17564596  0.17299993  0.15834381\n",
        "   0.14986906  0.13093277  0.12513567  0.12223712  0.12223712  0.10588558\n",
        "   0.09192754]\n",
        " [ 0.15196463  0.16520395  0.15963873  0.1681025   0.22865795  0.28334583\n",
        "   0.29168883  0.37195091  0.54622482  0.74163549  1.          0.64790585\n",
        "   0.48531904  0.40923699  0.30766575  0.21386152  0.19007875  0.17531151\n",
        "   0.16103966  0.14210337  0.13617452  0.1280452   0.12223712  0.10588558\n",
        "   0.09192754]\n",
        " [ 0.14336911  0.15660843  0.14826543  0.1567292   0.21728465  0.25305689\n",
        "   0.26139989  0.33560136  0.38052579  0.45321391  0.64790585  1.\n",
        "   0.69910456  0.48291588  0.38134465  0.28754042  0.25189994  0.22876051\n",
        "   0.20332904  0.16498172  0.14731594  0.13615631  0.13034823  0.11133002\n",
        "   0.09737198]\n",
        " [ 0.14336911  0.15394176  0.14826543  0.15649731  0.21705277  0.25282501\n",
        "   0.25839022  0.3295614   0.3265311   0.36298078  0.48531904  0.69910456\n",
        "   1.          0.76311523  0.52285109  0.42904686  0.25977673  0.23966761\n",
        "   0.21145836  0.17311104  0.14754782  0.1363882   0.13058012  0.11156191\n",
        "   0.09760386]\n",
        " [ 0.11466447  0.12523712  0.12245934  0.13069123  0.17705675  0.20192189\n",
        "   0.20748711  0.27865829  0.27562799  0.31207767  0.40923699  0.48291588\n",
        "   0.76311523  1.          0.75973585  0.64523553  0.36831901  0.31733398\n",
        "   0.22331607  0.18496875  0.15940553  0.14534735  0.13953927  0.11156191\n",
        "   0.09760386]\n",
        " [ 0.12523712  0.11466447  0.1179473   0.12617918  0.17254471  0.18831894\n",
        "   0.19388416  0.21015378  0.21015378  0.21328421  0.30766575  0.38134465\n",
        "   0.52285109  0.75973585  1.          0.75173829  0.43985382  0.38886879\n",
        "   0.26709685  0.22874954  0.20318631  0.18912814  0.18332006  0.12596551\n",
        "   0.10050242]\n",
        " [ 0.13905375  0.11744225  0.12072508  0.12895696  0.13780501  0.15352336\n",
        "   0.15908858  0.17541407  0.17541407  0.17564596  0.21386152  0.28754042\n",
        "   0.42904686  0.64523553  0.75173829  1.          0.62444296  0.57345792\n",
        "   0.3430326   0.30468528  0.2655191   0.21107409  0.2001378   0.13975295\n",
        "   0.1113913 ]\n",
        " [ 0.13324567  0.11466447  0.12340144  0.12340144  0.12679534  0.1425137\n",
        "   0.15074558  0.17010138  0.17010138  0.17299993  0.19007875  0.25189994\n",
        "   0.25977673  0.36831901  0.43985382  0.62444296  1.          0.76541826\n",
        "   0.50533769  0.3102505   0.27108432  0.2166393   0.20570302  0.14531816\n",
        "   0.11695652]\n",
        " [ 0.13046789  0.11188669  0.12339174  0.12616952  0.12061397  0.13633232\n",
        "   0.13911976  0.15544526  0.15544526  0.15834381  0.17531151  0.22876051\n",
        "   0.23966761  0.31733398  0.38886879  0.57345792  0.76541826  1.\n",
        "   0.6510679   0.45295041  0.41378423  0.25625104  0.2363556   0.16273143\n",
        "   0.13436978]\n",
        " [ 0.13325533  0.11467413  0.12617918  0.12895696  0.12073474  0.13361042\n",
        "   0.13083264  0.14697051  0.14697051  0.14986906  0.16103966  0.20332904\n",
        "   0.21145836  0.22331607  0.26709685  0.3430326   0.50533769  0.6510679\n",
        "   1.          0.70710212  0.60873967  0.41623854  0.3963431   0.22291358\n",
        "   0.17817121]\n",
        " [ 0.15300081  0.13152106  0.14302611  0.14580389  0.13758167  0.11467413\n",
        "   0.11189635  0.12803422  0.12803422  0.13093277  0.14210337  0.16498172\n",
        "   0.17311104  0.18496875  0.22874954  0.30468528  0.3102505   0.45295041\n",
        "   0.70710212  1.          0.72964603  0.53411459  0.51421915  0.28910652\n",
        "   0.23332529]\n",
        " [ 0.14732448  0.12584473  0.13734979  0.14012756  0.13468312  0.11177558\n",
        "   0.1089978   0.12513567  0.12513567  0.12513567  0.13617452  0.14731594\n",
        "   0.14754782  0.15940553  0.20318631  0.2655191   0.27108432  0.41378423\n",
        "   0.60873967  0.72964603  1.          0.80446857  0.78457312  0.491807\n",
        "   0.37393095]\n",
        " [ 0.14197294  0.12572396  0.14245978  0.1371179   0.12900679  0.10609925\n",
        "   0.10609925  0.12223712  0.12223712  0.12223712  0.1280452   0.13615631\n",
        "   0.1363882   0.14534735  0.18912814  0.21107409  0.2166393   0.25625104\n",
        "   0.41623854  0.53411459  0.80446857  1.          0.80968836  0.50796308\n",
        "   0.39008702]\n",
        " [ 0.13908405  0.12016841  0.13167346  0.139682    0.12900679  0.10609925\n",
        "   0.10609925  0.12223712  0.12223712  0.12223712  0.12223712  0.13034823\n",
        "   0.13058012  0.13953927  0.18332006  0.2001378   0.20570302  0.2363556\n",
        "   0.3963431   0.51421915  0.78457312  0.80968836  1.          0.62141265\n",
        "   0.5035366 ]\n",
        " [ 0.11423955  0.10601733  0.11752238  0.12553093  0.11485571  0.09497848\n",
        "   0.09497848  0.10588558  0.10855224  0.10588558  0.10588558  0.11133002\n",
        "   0.11156191  0.11156191  0.12596551  0.13975295  0.14531816  0.16273143\n",
        "   0.22291358  0.28910652  0.491807    0.50796308  0.62141265  1.\n",
        "   0.71013243]\n",
        " [ 0.09739262  0.09484673  0.09739262  0.10540117  0.09472596  0.08891787\n",
        "   0.08891787  0.0945942   0.09192754  0.09192754  0.09192754  0.09737198\n",
        "   0.09760386  0.09760386  0.10050242  0.1113913   0.11695652  0.13436978\n",
        "   0.17817121  0.23332529  0.37393095  0.39008702  0.5035366   0.71013243\n",
        "   1.        ]]\n"
       ]
      }
     ],
     "prompt_number": 18
    },
    {
     "cell_type": "markdown",
     "metadata": {},
     "source": [
      "visualize it as a picture is worth thousand words..."
     ]
    },
    {
     "cell_type": "code",
     "collapsed": false,
     "input": [
      "import pylab as plt\n",
      "plt.figure( figsize=(8,8) )\n",
      "img = plt.imshow( K, interpolation='nearest', cmap=plt.get_cmap( 'YlOrRd' ) )\n",
      "plt.show()"
     ],
     "language": "python",
     "metadata": {},
     "outputs": [
      {
       "metadata": {},
       "output_type": "display_data",
       "png": "[encoded data removed]",
       "text": [
        "<matplotlib.figure.Figure at 0x10409f390>"
       ]
      }
     ],
     "prompt_number": 19
    }
   ],
   "metadata": {}
  }
 ]
}