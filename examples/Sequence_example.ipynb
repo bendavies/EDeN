{
 "metadata": {
  "name": "",
  "signature": "sha256:95c885ca784091eb2bfd8de55a660e03be5ee13fb4d5c61b82b6580ca5036c32"
 },
 "nbformat": 3,
 "nbformat_minor": 0,
 "worksheets": [
  {
   "cells": [
    {
     "cell_type": "markdown",
     "metadata": {},
     "source": [
      "#Example\n",
      "\n",
      "Consider sequences that are increasingly different. EDeN allows to turn them into vectors, whose similarity is decreasing."
     ]
    },
    {
     "cell_type": "code",
     "collapsed": false,
     "input": [
      "%matplotlib inline"
     ],
     "language": "python",
     "metadata": {},
     "outputs": [],
     "prompt_number": 1
    },
    {
     "cell_type": "markdown",
     "metadata": {},
     "source": [
      "Build an artificial dataset: starting from the string 'abcdefghijklmnopqrstuvwxyz', generate iteratively strings by swapping two characters at random. In this way instances are progressively more dissimilar"
     ]
    },
    {
     "cell_type": "code",
     "collapsed": false,
     "input": [
      "import random\n",
      "\n",
      "def make_data(size):\n",
      "    text = ''.join([str(unichr(97+i)) for i in range(26)])\n",
      "    seqs = []\n",
      "\n",
      "    def swap_two_characters(seq):\n",
      "        '''define a function that swaps two characters at random positions in a string '''\n",
      "        line = list(seq)\n",
      "        id_i = random.randint(0,len(line)-1)\n",
      "        id_j = random.randint(0,len(line)-1)\n",
      "        line[id_i], line[id_j] = line[id_j], line[id_i]\n",
      "        return ''.join(line)\n",
      "\n",
      "    for i in range(size):\n",
      "        text = swap_two_characters( text )\n",
      "        seqs.append( text )\n",
      "        print text\n",
      "        \n",
      "    return seqs"
     ],
     "language": "python",
     "metadata": {},
     "outputs": [],
     "prompt_number": 2
    },
    {
     "cell_type": "code",
     "collapsed": false,
     "input": [
      "seqs = make_data(25)"
     ],
     "language": "python",
     "metadata": {},
     "outputs": [
      {
       "output_type": "stream",
       "stream": "stdout",
       "text": [
        "abcdefghijklmnopzrstuvwxyq\n",
        "abcdyfghijklmnopzrstuvwxeq\n",
        "abcdyfhgijklmnopzrstuvwxeq\n",
        "abcdyfhgizklmnopjrstuvwxeq\n",
        "abcdyfhgizklmnvpjrstuowxeq\n",
        "abcdyfhgizxlmnvpjrstuowkeq\n",
        "azcdyfhgibxlmnvpjrstuowkeq\n",
        "azcdyfhgibxomnvpjrstulwkeq\n",
        "azcdyfhgibxomuvpjrstnlwkeq\n",
        "xzcdyfhgibaomuvpjrstnlwkeq\n",
        "xzcdyfhtibaomuvpjrsgnlwkeq\n",
        "xzcdyfhtibaomuvpjrsgnkwleq\n",
        "xzcdyfrtibaomuvpjhsgnkwleq\n",
        "xzcayfrtibdomuvpjhsgnkwleq\n",
        "xscayfrtibdomuvpjhzgnkwleq\n",
        "xscayfrtibdomujpvhzgnkwleq\n",
        "xscaynrtibdomujpvhzgfkwleq\n",
        "iscaynrtxbdomujpvhzgfkwleq\n",
        "isjaynrtxbdomucpvhzgfkwleq\n",
        "injaysrtxbdomucpvhzgfkwleq\n",
        "injaysrtxbdomgcpvhzufkwleq\n",
        "injaysrtxbdomgcpvfzuhkwleq\n",
        "injaysrtxbdomgcpvfzlhkwueq\n",
        "injaysrtxdbomgcpvfzlhkwueq\n",
        "injaysrtudbomgcpvfzlhkwxeq\n"
       ]
      }
     ],
     "prompt_number": 3
    },
    {
     "cell_type": "markdown",
     "metadata": {},
     "source": [
      "define a function that builds a graph from a string, i.e. the path graph with the characters as node labels"
     ]
    },
    {
     "cell_type": "code",
     "collapsed": false,
     "input": [
      "import networkx as nx\n",
      "\n",
      "def sequence_to_graph(seq):\n",
      "    '''convert a sequence into a EDeN 'compatible' graph\n",
      "    i.e. a graph with the attribute 'label' for every node and edge'''\n",
      "    G = nx.Graph()\n",
      "    for id,character in enumerate(seq):\n",
      "        G.add_node(id, label = character )\n",
      "        if id > 0:\n",
      "            G.add_edge(id-1, id, label = '-')\n",
      "    return G"
     ],
     "language": "python",
     "metadata": {},
     "outputs": [],
     "prompt_number": 4
    },
    {
     "cell_type": "markdown",
     "metadata": {},
     "source": [
      "make a generator that yields graphs: generators are 'good' as they allow functional composition"
     ]
    },
    {
     "cell_type": "code",
     "collapsed": false,
     "input": [
      "def pre_process(iterable):\n",
      "    for seq in iterable:\n",
      "        yield sequence_to_graph(seq)"
     ],
     "language": "python",
     "metadata": {},
     "outputs": [],
     "prompt_number": 5
    },
    {
     "cell_type": "markdown",
     "metadata": {},
     "source": [
      "initialize the vectorizer object with the desired 'resolution'"
     ]
    },
    {
     "cell_type": "code",
     "collapsed": false,
     "input": [
      "%%time\n",
      "from eden.graph import Vectorizer\n",
      "vectorizer = Vectorizer( r=2, d=4 )"
     ],
     "language": "python",
     "metadata": {},
     "outputs": [
      {
       "output_type": "stream",
       "stream": "stdout",
       "text": [
        "CPU times: user 152 ms, sys: 53.1 ms, total: 205 ms\n",
        "Wall time: 187 ms\n"
       ]
      }
     ],
     "prompt_number": 6
    },
    {
     "cell_type": "markdown",
     "metadata": {},
     "source": [
      "obtain an iterator over the sequences processed into graphs"
     ]
    },
    {
     "cell_type": "code",
     "collapsed": false,
     "input": [
      "%%time\n",
      "graphs = pre_process( seqs )"
     ],
     "language": "python",
     "metadata": {},
     "outputs": [
      {
       "output_type": "stream",
       "stream": "stdout",
       "text": [
        "CPU times: user 4 \u00b5s, sys: 2 \u00b5s, total: 6 \u00b5s\n",
        "Wall time: 8.11 \u00b5s\n"
       ]
      }
     ],
     "prompt_number": 7
    },
    {
     "cell_type": "markdown",
     "metadata": {},
     "source": [
      "compute the vector encoding of each instance in a sparse data matrix"
     ]
    },
    {
     "cell_type": "code",
     "collapsed": false,
     "input": [
      "%%time\n",
      "X = vectorizer.transform( graphs )\n",
      "print 'Instances: %d ; Features: %d with an avg of %d features per instance' % (X.shape[0], X.shape[1],  X.getnnz()/X.shape[0])"
     ],
     "language": "python",
     "metadata": {},
     "outputs": [
      {
       "output_type": "stream",
       "stream": "stdout",
       "text": [
        "Instances: 25 ; Features: 1048577 with an avg of 360 features per instance\n",
        "CPU times: user 108 ms, sys: 51.9 ms, total: 160 ms\n",
        "Wall time: 262 ms\n"
       ]
      }
     ],
     "prompt_number": 8
    },
    {
     "cell_type": "markdown",
     "metadata": {},
     "source": [
      "compute the pairwise similarity as the dot product between the vector representations of each sequence"
     ]
    },
    {
     "cell_type": "code",
     "collapsed": false,
     "input": [
      "from sklearn import metrics\n",
      "\n",
      "K=metrics.pairwise.pairwise_kernels(X, metric='linear')\n",
      "print K"
     ],
     "language": "python",
     "metadata": {},
     "outputs": [
      {
       "output_type": "stream",
       "stream": "stdout",
       "text": [
        "[[ 1.          0.71109402  0.58995578  0.33983169  0.22161755  0.19389271\n",
        "   0.1621833   0.1482459   0.13491369  0.12900547  0.11833026  0.11240141\n",
        "   0.10695696  0.09884585  0.092917    0.08432148  0.07816074  0.07513043\n",
        "   0.07779924  0.0777971   0.07802899  0.08092754  0.08395784  0.08105929\n",
        "   0.0922007 ]\n",
        " [ 0.71109402  1.          0.76238796  0.51213212  0.32311652  0.26576197\n",
        "   0.19518874  0.18125134  0.16488882  0.15595031  0.14527509  0.13934624\n",
        "   0.13390179  0.11532914  0.10940029  0.10080477  0.09197737  0.08894706\n",
        "   0.08883809  0.08883595  0.08906784  0.09196639  0.09499669  0.09209814\n",
        "   0.1239101 ]\n",
        " [ 0.58995578  0.76238796  1.          0.63037181  0.4413562   0.37794105\n",
        "   0.27239989  0.25543218  0.23906966  0.23013114  0.16406996  0.16420172\n",
        "   0.13706385  0.1184912   0.11256235  0.10976393  0.09826986  0.09523955\n",
        "   0.09223203  0.09222989  0.08919959  0.08906784  0.09209814  0.09512844\n",
        "   0.12694041]\n",
        " [ 0.33983169  0.51213212  0.63037181  1.          0.64236127  0.47863572\n",
        "   0.32513983  0.30514182  0.26891304  0.25997453  0.18300625  0.183138\n",
        "   0.1455386   0.12696595  0.11522901  0.10953204  0.09803797  0.09500767\n",
        "   0.09513058  0.09222989  0.08919959  0.08906784  0.09209814  0.09512844\n",
        "   0.12694041]\n",
        " [ 0.22161755  0.32311652  0.4413562   0.64236127  1.          0.67404638\n",
        "   0.52055049  0.39662481  0.29653532  0.2875968   0.20506331  0.20519506\n",
        "   0.15668856  0.13811591  0.12334867  0.11754059  0.10604652  0.10301622\n",
        "   0.09779724  0.09489656  0.09186625  0.0917345   0.09766336  0.10069366\n",
        "   0.13250562]\n",
        " [ 0.19389271  0.26576197  0.37794105  0.47863572  0.67404638  1.\n",
        "   0.70819547  0.45214253  0.33742853  0.31954052  0.23397672  0.21052839\n",
        "   0.15899159  0.14041894  0.12298503  0.11717695  0.10568288  0.10555113\n",
        "   0.10033216  0.09749662  0.09446631  0.09736486  0.10329372  0.10336033\n",
        "   0.10602699]\n",
        " [ 0.1621833   0.19518874  0.27239989  0.32513983  0.52055049  0.70819547\n",
        "   1.          0.63340211  0.51262751  0.38651103  0.26158802  0.23813969\n",
        "   0.17813912  0.14888271  0.12855025  0.12274217  0.1142784   0.11414665\n",
        "   0.10892768  0.10306183  0.10003153  0.10293008  0.10885893  0.10336033\n",
        "   0.10602699]\n",
        " [ 0.1482459   0.18125134  0.25543218  0.30514182  0.39662481  0.45214253\n",
        "   0.63340211  1.          0.63340211  0.44583906  0.31207767  0.26028833\n",
        "   0.20028776  0.17103135  0.1506989   0.14199226  0.1335285   0.13049819\n",
        "   0.12527922  0.11644968  0.11644968  0.11934823  0.11121891  0.10590622\n",
        "   0.10857289]\n",
        " [ 0.13491369  0.16488882  0.23906966  0.26891304  0.29653532  0.33742853\n",
        "   0.51262751  0.63340211  1.          0.72964603  0.44280876  0.36014351\n",
        "   0.26322705  0.23397064  0.21086041  0.16707963  0.14721337  0.14128452\n",
        "   0.13026844  0.13026631  0.11644968  0.11934823  0.11121891  0.10590622\n",
        "   0.10590622]\n",
        " [ 0.12900547  0.15595031  0.23013114  0.25997453  0.2875968   0.31954052\n",
        "   0.38651103  0.44583906  0.72964603  1.          0.62141265  0.53874741\n",
        "   0.41507425  0.25280436  0.21666849  0.17288771  0.15302145  0.14164815\n",
        "   0.13063208  0.13062994  0.11681332  0.11971187  0.11158255  0.10893652\n",
        "   0.10590622]\n",
        " [ 0.11833026  0.14527509  0.16406996  0.18300625  0.20506331  0.23397672\n",
        "   0.26158802  0.31207767  0.44280876  0.62141265  1.          0.80968836\n",
        "   0.48871298  0.29520354  0.24790804  0.20122871  0.17591801  0.15628364\n",
        "   0.14259876  0.14526543  0.12551995  0.1284185   0.12028918  0.11183507\n",
        "   0.10880477]\n",
        " [ 0.11240141  0.13934624  0.16420172  0.183138    0.20519506  0.21052839\n",
        "   0.23813969  0.26028833  0.36014351  0.53874741  0.80968836  1.\n",
        "   0.62141265  0.42790321  0.35529702  0.30861768  0.22758657  0.2079522\n",
        "   0.19426732  0.19693399  0.17138043  0.17427898  0.12621803  0.11776393\n",
        "   0.11473362]\n",
        " [ 0.10695696  0.13390179  0.13706385  0.1455386   0.15668856  0.15899159\n",
        "   0.17813912  0.20028776  0.26322705  0.41507425  0.48871298  0.62141265\n",
        "   1.          0.66002706  0.44911223  0.37445553  0.26114868  0.23350576\n",
        "   0.21422648  0.21422648  0.18286484  0.17995531  0.13189436  0.12344026\n",
        "   0.12040995]\n",
        " [ 0.09884585  0.11532914  0.1184912   0.12696595  0.13811591  0.14041894\n",
        "   0.14888271  0.17103135  0.23397064  0.25280436  0.29520354  0.42790321\n",
        "   0.66002706  1.          0.69910456  0.56986619  0.37458728  0.28613459\n",
        "   0.25556393  0.25556393  0.21329519  0.21038566  0.16232472  0.13180389\n",
        "   0.12877359]\n",
        " [ 0.092917    0.10940029  0.11256235  0.11522901  0.12334867  0.12298503\n",
        "   0.12855025  0.1506989   0.21086041  0.21666849  0.24790804  0.35529702\n",
        "   0.44911223  0.69910456  1.          0.76311523  0.44820047  0.32236205\n",
        "   0.28099541  0.27809685  0.22756704  0.22199084  0.1739299   0.14340907\n",
        "   0.14037877]\n",
        " [ 0.08432148  0.10080477  0.10976393  0.10953204  0.11754059  0.11717695\n",
        "   0.12274217  0.14199226  0.16707963  0.17288771  0.20122871  0.30861768\n",
        "   0.37445553  0.56986619  0.76311523  1.          0.62747326  0.48093875\n",
        "   0.31410098  0.31120243  0.24963376  0.23359603  0.18263653  0.15211571\n",
        "   0.1490854 ]\n",
        " [ 0.07816074  0.09197737  0.09826986  0.09803797  0.10604652  0.10568288\n",
        "   0.1142784   0.1335285   0.14721337  0.15302145  0.17591801  0.22758657\n",
        "   0.26114868  0.37458728  0.44820047  0.62747326  1.          0.73873693\n",
        "   0.51801557  0.48257778  0.30339657  0.23940411  0.18844461  0.15792379\n",
        "   0.15489348]\n",
        " [ 0.07513043  0.08894706  0.09523955  0.09500767  0.10301622  0.10555113\n",
        "   0.11414665  0.13049819  0.14128452  0.14164815  0.15628364  0.2079522\n",
        "   0.23350576  0.28613459  0.32236205  0.48093875  0.73873693  1.\n",
        "   0.67404638  0.56522239  0.37176933  0.30777687  0.25681737  0.17475974\n",
        "   0.15779203]\n",
        " [ 0.07779924  0.08883809  0.09223203  0.09513058  0.09779724  0.10033216\n",
        "   0.10892768  0.12527922  0.13026844  0.13063208  0.14259876  0.19426732\n",
        "   0.21422648  0.25556393  0.28099541  0.31410098  0.51801557  0.67404638\n",
        "   1.          0.7739271   0.42486325  0.34996368  0.29900419  0.21088595\n",
        "   0.19088794]\n",
        " [ 0.0777971   0.08883595  0.09222989  0.09222989  0.09489656  0.09749662\n",
        "   0.10306183  0.11644968  0.13026631  0.13062994  0.14526543  0.19693399\n",
        "   0.21422648  0.25556393  0.27809685  0.31120243  0.48257778  0.56522239\n",
        "   0.7739271   1.          0.64790585  0.57300628  0.52204679  0.37328627\n",
        "   0.32810932]\n",
        " [ 0.07802899  0.08906784  0.08919959  0.08919959  0.09186625  0.09446631\n",
        "   0.10003153  0.11644968  0.11644968  0.11681332  0.12551995  0.17138043\n",
        "   0.18286484  0.21329519  0.22756704  0.24963376  0.30339657  0.37176933\n",
        "   0.42486325  0.64790585  1.          0.71013243  0.65057741  0.42470472\n",
        "   0.37371969]\n",
        " [ 0.08092754  0.09196639  0.08906784  0.08906784  0.0917345   0.09736486\n",
        "   0.10293008  0.11934823  0.11934823  0.11971187  0.1284185   0.17427898\n",
        "   0.17995531  0.21038566  0.22199084  0.23359603  0.23940411  0.30777687\n",
        "   0.34996368  0.57300628  0.71013243  1.          0.74886892  0.51125688\n",
        "   0.45770775]\n",
        " [ 0.08395784  0.09499669  0.09209814  0.09209814  0.09766336  0.10329372\n",
        "   0.10885893  0.11121891  0.11121891  0.11158255  0.12028918  0.12621803\n",
        "   0.13189436  0.16232472  0.1739299   0.18263653  0.18844461  0.25681737\n",
        "   0.29900419  0.52204679  0.65057741  0.74886892  1.          0.76238796\n",
        "   0.58055106]\n",
        " [ 0.08105929  0.09209814  0.09512844  0.09512844  0.10069366  0.10336033\n",
        "   0.10336033  0.10590622  0.10590622  0.10893652  0.11183507  0.11776393\n",
        "   0.12344026  0.13180389  0.14340907  0.15211571  0.15792379  0.17475974\n",
        "   0.21088595  0.37328627  0.42470472  0.51125688  0.76238796  1.\n",
        "   0.67404638]\n",
        " [ 0.0922007   0.1239101   0.12694041  0.12694041  0.13250562  0.10602699\n",
        "   0.10602699  0.10857289  0.10590622  0.10590622  0.10880477  0.11473362\n",
        "   0.12040995  0.12877359  0.14037877  0.1490854   0.15489348  0.15779203\n",
        "   0.19088794  0.32810932  0.37371969  0.45770775  0.58055106  0.67404638\n",
        "   1.        ]]\n"
       ]
      }
     ],
     "prompt_number": 9
    },
    {
     "cell_type": "markdown",
     "metadata": {},
     "source": [
      "visualize it as a picture is worth thousand words..."
     ]
    },
    {
     "cell_type": "code",
     "collapsed": false,
     "input": [
      "import pylab as plt\n",
      "plt.figure( figsize=(8,8) )\n",
      "img = plt.imshow( K, interpolation='none', cmap=plt.get_cmap( 'YlOrRd' ) )\n",
      "plt.show()"
     ],
     "language": "python",
     "metadata": {},
     "outputs": [
      {
       "metadata": {},
       "output_type": "display_data",
       "png": "[encoded data removed]",
       "text": [
        "<matplotlib.figure.Figure at 0x108774990>"
       ]
      }
     ],
     "prompt_number": 12
    }
   ],
   "metadata": {}
  }
 ]
}