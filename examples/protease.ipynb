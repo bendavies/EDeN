{
 "metadata": {
  "name": "",
  "signature": "sha256:9a2c08ee719bb9cdae9267ea0d45f7169b6ce699effd1cd14280f94668109af8"
 },
 "nbformat": 3,
 "nbformat_minor": 0,
 "worksheets": [
  {
   "cells": [
    {
     "cell_type": "markdown",
     "metadata": {},
     "source": [
      "auxiliary functions"
     ]
    },
    {
     "cell_type": "code",
     "collapsed": false,
     "input": [
      "import itertools\n",
      "def join_pre_processes( data, pre_processes, weights):\n",
      "    if hasattr( data, '__iter__' ):\n",
      "        iterable = data\n",
      "    else: #if not then process url or file with fasta_to_fasta\n",
      "        from eden.modifier.fasta import fasta_to_fasta\n",
      "        iterable = fasta_to_fasta( data )\n",
      "    from eden import util\n",
      "    return util.join_pre_processes(iterable, pre_processes=pre_processes, weights=weights)"
     ],
     "language": "python",
     "metadata": {},
     "outputs": [],
     "prompt_number": 1
    },
    {
     "cell_type": "code",
     "collapsed": false,
     "input": [
      "def out_of_core_predict(data, estimator = None, vectorizer = None):\n",
      "    from eden.graph import OutOfCoreListPredictor\n",
      "    estimator\n",
      "    vectorizer\n",
      "    out_of_core_predictor = OutOfCoreListPredictor( estimator = estimator, vectorizer = vectorizer )\n",
      "\n",
      "    #extract oneline fasta\n",
      "    from eden.modifier.fasta import fasta_to_fasta, remove_modifier\n",
      "    seqs = fasta_to_fasta( data, modifier = remove_modifier, remove_char = '-' )\n",
      "    from eden.modifier.fasta import fasta_to_fasta, one_line_modifier\n",
      "    fasta_seqs = fasta_to_fasta( seqs, modifier = one_line_modifier, one_line = True, one_line_separator = '\\t' )\n",
      "\n",
      "    #extract graphs\n",
      "    graphs_list, weights = pre_process( data )\n",
      "\n",
      "    #sort and store prediction-fasta pairs\n",
      "    import itertools as it \n",
      "    results = sorted([(line, prediction) for line, prediction in it.izip(fasta_seqs, out_of_core_predictor.predict(graphs_list, weights = weights))], key=lambda val: val[1] , reverse=True)\n",
      "\n",
      "    return results"
     ],
     "language": "python",
     "metadata": {},
     "outputs": [],
     "prompt_number": 2
    },
    {
     "cell_type": "markdown",
     "metadata": {},
     "source": [
      "Domain specific conversion"
     ]
    },
    {
     "cell_type": "code",
     "collapsed": false,
     "input": [
      "#data sources\n",
      "posf  = 'http://share.gruenings.eu/schilling/mmp2-training-final_noMinus.fasta'\n",
      "negf  = 'http://share.gruenings.eu/schilling/human-shuffled.fasta'\n",
      "testf = 'http://share.gruenings.eu/schilling//Mmp2-CTSL-VALIDATE-final_noMinue.fasta'"
     ],
     "language": "python",
     "metadata": {},
     "outputs": [],
     "prompt_number": 3
    },
    {
     "cell_type": "code",
     "collapsed": false,
     "input": [
      "from urllib import urlretrieve\n",
      "import pickle\n",
      "urlretrieve (\"http://www.bioinf.uni-freiburg.de/~costa/BLOSUM62_5D_encoding_dict.p\", \"BLOSUM62_5D_encoding_dict.p\")\n",
      "aa_encoding_dict5D = pickle.load( open( \"BLOSUM62_5D_encoding_dict.p\", \"rb\" ) )"
     ],
     "language": "python",
     "metadata": {},
     "outputs": [],
     "prompt_number": 4
    },
    {
     "cell_type": "code",
     "collapsed": false,
     "input": [
      "#add encoding for landmarks\n",
      "landmark_encodings = {'%':[10,0,0,0,0], '#':[0,10,0,0,0], '$':[0,0,10,0,0]}\n",
      "aa_encoding_dict5D.update(landmark_encodings)"
     ],
     "language": "python",
     "metadata": {},
     "outputs": [],
     "prompt_number": 5
    },
    {
     "cell_type": "code",
     "collapsed": false,
     "input": [
      "n_jobs = 1"
     ],
     "language": "python",
     "metadata": {},
     "outputs": [],
     "prompt_number": 6
    },
    {
     "cell_type": "code",
     "collapsed": false,
     "input": [
      "def pre_process_aa_categorical( iterable ):\n",
      "    #skip fasta entries that contain the '-' symbol\n",
      "    from eden.modifier.fasta import fasta_to_fasta, remove_modifier\n",
      "    seqs = fasta_to_fasta( iterable, modifier = remove_modifier, remove_char = '-' )\n",
      "    \n",
      "    #insert landmark in the cleavage site after pos 4, in our case this means always in the middle position\n",
      "    from eden.modifier.fasta import fasta_to_fasta, insert_landmark_modifier\n",
      "    seqs = fasta_to_fasta( seqs, modifier = insert_landmark_modifier, landmark_relative_position = 0.5, landmark_char = '%' )\n",
      "    seqs = fasta_to_fasta( seqs, modifier = insert_landmark_modifier, landmark_relative_position = 0, landmark_char = '#' )\n",
      "    seqs = fasta_to_fasta( seqs, modifier = insert_landmark_modifier, landmark_relative_position = 1, landmark_char = '$' )\n",
      "\n",
      "    #convert to graph\n",
      "    from eden.converter.fasta import fasta_to_eden\n",
      "    graphs = fasta_to_eden( seqs )\n",
      "    \n",
      "    return graphs"
     ],
     "language": "python",
     "metadata": {},
     "outputs": [],
     "prompt_number": 12
    },
    {
     "cell_type": "code",
     "collapsed": false,
     "input": [
      "def pre_process_aa_smoothed( iterable ):\n",
      "    #skip fasta entries that contain the '-' symbol\n",
      "    from eden.modifier.fasta import fasta_to_fasta, remove_modifier\n",
      "    seqs = fasta_to_fasta( iterable, modifier = remove_modifier, remove_char = '-' )\n",
      "    \n",
      "    #insert landmark in the cleavage site after pos 4, in our case this means always in the middle position\n",
      "    from eden.modifier.fasta import fasta_to_fasta, insert_landmark_modifier\n",
      "    seqs = fasta_to_fasta( seqs, modifier = insert_landmark_modifier, landmark_relative_position = 0.5, landmark_char = '%' )\n",
      "    seqs = fasta_to_fasta( seqs, modifier = insert_landmark_modifier, landmark_relative_position = 0, landmark_char = '#' )\n",
      "    seqs = fasta_to_fasta( seqs, modifier = insert_landmark_modifier, landmark_relative_position = 1, landmark_char = '$' )\n",
      "\n",
      "    #convert to graph\n",
      "    from eden.converter.fasta import fasta_to_eden\n",
      "    graphs = fasta_to_eden( seqs )\n",
      "    \n",
      "    #relabel aa with vector encoding\n",
      "    from eden.modifier.graph.vertex_attributes import translate \n",
      "    graphs = translate(graphs, label_map = aa_encoding_dict5D, default = [0,0,0,0,0])\n",
      "    \n",
      "    return graphs"
     ],
     "language": "python",
     "metadata": {},
     "outputs": [],
     "prompt_number": 13
    },
    {
     "cell_type": "code",
     "collapsed": false,
     "input": [
      "def pre_process( data ):\n",
      "    weights = [0.7, 0.3]\n",
      "    pre_processes = [pre_process_aa_categorical, pre_process_aa_smoothed]\n",
      "    return join_pre_processes( data, pre_processes, weights)"
     ],
     "language": "python",
     "metadata": {},
     "outputs": [],
     "prompt_number": 14
    },
    {
     "cell_type": "code",
     "collapsed": false,
     "input": [
      "def describe(X):\n",
      "    print 'Instances: %d ; Features: %d (with an avg of %d features per instance)' % (X.shape[0], X.shape[1],  X.getnnz()/X.shape[0])\n",
      "    \n",
      "def list_model(uri, pre_process):\n",
      "\n",
      "    from eden.graph import ListVectorizer\n",
      "    vectorizer = ListVectorizer( r=2, d = 5, min_r = 0, discretization_size = 5, discretization_dimension = 10)\n",
      "    n_jobs = -1\n",
      "\n",
      "    graphs_list, weights = pre_process( uri )\n",
      "    vectorizer.fit( graphs_list, n_jobs = n_jobs )\n",
      "    X1 = vectorizer.transform( graphs_list, weights=weights, n_jobs=n_jobs )\n",
      "    describe(X1)\n",
      "    \n",
      "    from eden.modifier.fasta import fasta_to_fasta, shuffle_modifier\n",
      "    graphs_list, weights = pre_process( fasta_to_fasta( uri , modifier=shuffle_modifier, times=2, order=2) )\n",
      "    X2 = vectorizer.transform( graphs_list, weights=weights, n_jobs=n_jobs )\n",
      "    describe(X2)\n",
      "    \n",
      "    from eden.util import fit_estimator\n",
      "    estimator = fit_estimator( positive_data_matrix=X1, negative_data_matrix=X2, cv=5 )\n",
      "    \n",
      "    return estimator, vectorizer"
     ],
     "language": "python",
     "metadata": {},
     "outputs": [],
     "prompt_number": 15
    },
    {
     "cell_type": "code",
     "collapsed": false,
     "input": [
      "%%time\n",
      "estimator, vectorizer = list_model(posf, pre_process)"
     ],
     "language": "python",
     "metadata": {},
     "outputs": [
      {
       "ename": "AttributeError",
       "evalue": "'module' object has no attribute 'find'",
       "output_type": "pyerr",
       "traceback": [
        "\u001b[0;31m---------------------------------------------------------------------------\u001b[0m\n\u001b[0;31mAttributeError\u001b[0m                            Traceback (most recent call last)",
        "\u001b[0;32m<ipython-input-16-076eb761db23>\u001b[0m in \u001b[0;36m<module>\u001b[0;34m()\u001b[0m\n\u001b[0;32m----> 1\u001b[0;31m \u001b[0mget_ipython\u001b[0m\u001b[0;34m(\u001b[0m\u001b[0;34m)\u001b[0m\u001b[0;34m.\u001b[0m\u001b[0mrun_cell_magic\u001b[0m\u001b[0;34m(\u001b[0m\u001b[0;34mu'time'\u001b[0m\u001b[0;34m,\u001b[0m \u001b[0;34mu''\u001b[0m\u001b[0;34m,\u001b[0m \u001b[0;34mu'estimator, vectorizer = list_model(posf, pre_process)'\u001b[0m\u001b[0;34m)\u001b[0m\u001b[0;34m\u001b[0m\u001b[0m\n\u001b[0m",
        "\u001b[0;32m/Library/Python/2.7/site-packages/IPython/core/interactiveshell.pyc\u001b[0m in \u001b[0;36mrun_cell_magic\u001b[0;34m(self, magic_name, line, cell)\u001b[0m\n\u001b[1;32m   2160\u001b[0m             \u001b[0mmagic_arg_s\u001b[0m \u001b[0;34m=\u001b[0m \u001b[0mself\u001b[0m\u001b[0;34m.\u001b[0m\u001b[0mvar_expand\u001b[0m\u001b[0;34m(\u001b[0m\u001b[0mline\u001b[0m\u001b[0;34m,\u001b[0m \u001b[0mstack_depth\u001b[0m\u001b[0;34m)\u001b[0m\u001b[0;34m\u001b[0m\u001b[0m\n\u001b[1;32m   2161\u001b[0m             \u001b[0;32mwith\u001b[0m \u001b[0mself\u001b[0m\u001b[0;34m.\u001b[0m\u001b[0mbuiltin_trap\u001b[0m\u001b[0;34m:\u001b[0m\u001b[0;34m\u001b[0m\u001b[0m\n\u001b[0;32m-> 2162\u001b[0;31m                 \u001b[0mresult\u001b[0m \u001b[0;34m=\u001b[0m \u001b[0mfn\u001b[0m\u001b[0;34m(\u001b[0m\u001b[0mmagic_arg_s\u001b[0m\u001b[0;34m,\u001b[0m \u001b[0mcell\u001b[0m\u001b[0;34m)\u001b[0m\u001b[0;34m\u001b[0m\u001b[0m\n\u001b[0m\u001b[1;32m   2163\u001b[0m             \u001b[0;32mreturn\u001b[0m \u001b[0mresult\u001b[0m\u001b[0;34m\u001b[0m\u001b[0m\n\u001b[1;32m   2164\u001b[0m \u001b[0;34m\u001b[0m\u001b[0m\n",
        "\u001b[0;32m/Library/Python/2.7/site-packages/IPython/core/magics/execution.pyc\u001b[0m in \u001b[0;36mtime\u001b[0;34m(self, line, cell, local_ns)\u001b[0m\n",
        "\u001b[0;32m/Library/Python/2.7/site-packages/IPython/core/magic.pyc\u001b[0m in \u001b[0;36m<lambda>\u001b[0;34m(f, *a, **k)\u001b[0m\n\u001b[1;32m    191\u001b[0m     \u001b[0;31m# but it's overkill for just that one bit of state.\u001b[0m\u001b[0;34m\u001b[0m\u001b[0;34m\u001b[0m\u001b[0m\n\u001b[1;32m    192\u001b[0m     \u001b[0;32mdef\u001b[0m \u001b[0mmagic_deco\u001b[0m\u001b[0;34m(\u001b[0m\u001b[0marg\u001b[0m\u001b[0;34m)\u001b[0m\u001b[0;34m:\u001b[0m\u001b[0;34m\u001b[0m\u001b[0m\n\u001b[0;32m--> 193\u001b[0;31m         \u001b[0mcall\u001b[0m \u001b[0;34m=\u001b[0m \u001b[0;32mlambda\u001b[0m \u001b[0mf\u001b[0m\u001b[0;34m,\u001b[0m \u001b[0;34m*\u001b[0m\u001b[0ma\u001b[0m\u001b[0;34m,\u001b[0m \u001b[0;34m**\u001b[0m\u001b[0mk\u001b[0m\u001b[0;34m:\u001b[0m \u001b[0mf\u001b[0m\u001b[0;34m(\u001b[0m\u001b[0;34m*\u001b[0m\u001b[0ma\u001b[0m\u001b[0;34m,\u001b[0m \u001b[0;34m**\u001b[0m\u001b[0mk\u001b[0m\u001b[0;34m)\u001b[0m\u001b[0;34m\u001b[0m\u001b[0m\n\u001b[0m\u001b[1;32m    194\u001b[0m \u001b[0;34m\u001b[0m\u001b[0m\n\u001b[1;32m    195\u001b[0m         \u001b[0;32mif\u001b[0m \u001b[0mcallable\u001b[0m\u001b[0;34m(\u001b[0m\u001b[0marg\u001b[0m\u001b[0;34m)\u001b[0m\u001b[0;34m:\u001b[0m\u001b[0;34m\u001b[0m\u001b[0m\n",
        "\u001b[0;32m/Library/Python/2.7/site-packages/IPython/core/magics/execution.pyc\u001b[0m in \u001b[0;36mtime\u001b[0;34m(self, line, cell, local_ns)\u001b[0m\n\u001b[1;32m   1127\u001b[0m         \u001b[0;32melse\u001b[0m\u001b[0;34m:\u001b[0m\u001b[0;34m\u001b[0m\u001b[0m\n\u001b[1;32m   1128\u001b[0m             \u001b[0mst\u001b[0m \u001b[0;34m=\u001b[0m \u001b[0mclock2\u001b[0m\u001b[0;34m(\u001b[0m\u001b[0;34m)\u001b[0m\u001b[0;34m\u001b[0m\u001b[0m\n\u001b[0;32m-> 1129\u001b[0;31m             \u001b[0;32mexec\u001b[0m\u001b[0;34m(\u001b[0m\u001b[0mcode\u001b[0m\u001b[0;34m,\u001b[0m \u001b[0mglob\u001b[0m\u001b[0;34m,\u001b[0m \u001b[0mlocal_ns\u001b[0m\u001b[0;34m)\u001b[0m\u001b[0;34m\u001b[0m\u001b[0m\n\u001b[0m\u001b[1;32m   1130\u001b[0m             \u001b[0mend\u001b[0m \u001b[0;34m=\u001b[0m \u001b[0mclock2\u001b[0m\u001b[0;34m(\u001b[0m\u001b[0;34m)\u001b[0m\u001b[0;34m\u001b[0m\u001b[0m\n\u001b[1;32m   1131\u001b[0m             \u001b[0mout\u001b[0m \u001b[0;34m=\u001b[0m \u001b[0mNone\u001b[0m\u001b[0;34m\u001b[0m\u001b[0m\n",
        "\u001b[0;32m<timed exec>\u001b[0m in \u001b[0;36m<module>\u001b[0;34m()\u001b[0m\n",
        "\u001b[0;32m<ipython-input-15-d47cd4257cae>\u001b[0m in \u001b[0;36mlist_model\u001b[0;34m(uri, pre_process)\u001b[0m\n\u001b[1;32m      9\u001b[0m \u001b[0;34m\u001b[0m\u001b[0m\n\u001b[1;32m     10\u001b[0m     \u001b[0mgraphs_list\u001b[0m\u001b[0;34m,\u001b[0m \u001b[0mweights\u001b[0m \u001b[0;34m=\u001b[0m \u001b[0mpre_process\u001b[0m\u001b[0;34m(\u001b[0m \u001b[0muri\u001b[0m \u001b[0;34m)\u001b[0m\u001b[0;34m\u001b[0m\u001b[0m\n\u001b[0;32m---> 11\u001b[0;31m     \u001b[0mvectorizer\u001b[0m\u001b[0;34m.\u001b[0m\u001b[0mfit\u001b[0m\u001b[0;34m(\u001b[0m \u001b[0mgraphs_list\u001b[0m\u001b[0;34m,\u001b[0m \u001b[0mn_jobs\u001b[0m \u001b[0;34m=\u001b[0m \u001b[0mn_jobs\u001b[0m \u001b[0;34m)\u001b[0m\u001b[0;34m\u001b[0m\u001b[0m\n\u001b[0m\u001b[1;32m     12\u001b[0m     \u001b[0mX1\u001b[0m \u001b[0;34m=\u001b[0m \u001b[0mvectorizer\u001b[0m\u001b[0;34m.\u001b[0m\u001b[0mtransform\u001b[0m\u001b[0;34m(\u001b[0m \u001b[0mgraphs_list\u001b[0m\u001b[0;34m,\u001b[0m \u001b[0mweights\u001b[0m\u001b[0;34m=\u001b[0m\u001b[0mweights\u001b[0m\u001b[0;34m,\u001b[0m \u001b[0mn_jobs\u001b[0m\u001b[0;34m=\u001b[0m\u001b[0mn_jobs\u001b[0m \u001b[0;34m)\u001b[0m\u001b[0;34m\u001b[0m\u001b[0m\n\u001b[1;32m     13\u001b[0m     \u001b[0mdescribe\u001b[0m\u001b[0;34m(\u001b[0m\u001b[0mX1\u001b[0m\u001b[0;34m)\u001b[0m\u001b[0;34m\u001b[0m\u001b[0m\n",
        "\u001b[0;32m/Users/costa/Desktop/BTSync/Projects/EDeN/EDeN/eden/graph.pyc\u001b[0m in \u001b[0;36mfit\u001b[0;34m(self, G_iterators_list, n_jobs)\u001b[0m\n\u001b[1;32m   1026\u001b[0m         \u001b[0;32mfor\u001b[0m \u001b[0mi\u001b[0m\u001b[0;34m,\u001b[0m \u001b[0mgraphs\u001b[0m \u001b[0;32min\u001b[0m \u001b[0menumerate\u001b[0m\u001b[0;34m(\u001b[0m\u001b[0mG_iterators_list\u001b[0m\u001b[0;34m)\u001b[0m\u001b[0;34m:\u001b[0m\u001b[0;34m\u001b[0m\u001b[0m\n\u001b[1;32m   1027\u001b[0m             \u001b[0mself\u001b[0m\u001b[0;34m.\u001b[0m\u001b[0mvectorizers\u001b[0m\u001b[0;34m.\u001b[0m\u001b[0mappend\u001b[0m\u001b[0;34m(\u001b[0m\u001b[0mcopy\u001b[0m\u001b[0;34m.\u001b[0m\u001b[0mcopy\u001b[0m\u001b[0;34m(\u001b[0m\u001b[0mself\u001b[0m\u001b[0;34m.\u001b[0m\u001b[0mvectorizer\u001b[0m\u001b[0;34m)\u001b[0m\u001b[0;34m)\u001b[0m\u001b[0;34m\u001b[0m\u001b[0m\n\u001b[0;32m-> 1028\u001b[0;31m             \u001b[0mself\u001b[0m\u001b[0;34m.\u001b[0m\u001b[0mvectorizers\u001b[0m\u001b[0;34m[\u001b[0m\u001b[0mi\u001b[0m\u001b[0;34m]\u001b[0m\u001b[0;34m.\u001b[0m\u001b[0mfit\u001b[0m\u001b[0;34m(\u001b[0m\u001b[0mgraphs\u001b[0m\u001b[0;34m,\u001b[0m \u001b[0mn_jobs\u001b[0m\u001b[0;34m=\u001b[0m\u001b[0mn_jobs\u001b[0m\u001b[0;34m)\u001b[0m\u001b[0;34m\u001b[0m\u001b[0m\n\u001b[0m\u001b[1;32m   1029\u001b[0m \u001b[0;34m\u001b[0m\u001b[0m\n\u001b[1;32m   1030\u001b[0m     \u001b[0;32mdef\u001b[0m \u001b[0mfit_transform\u001b[0m\u001b[0;34m(\u001b[0m\u001b[0mself\u001b[0m\u001b[0;34m,\u001b[0m \u001b[0mG_iterators_list\u001b[0m\u001b[0;34m,\u001b[0m \u001b[0mweights\u001b[0m\u001b[0;34m=\u001b[0m\u001b[0mlist\u001b[0m\u001b[0;34m(\u001b[0m\u001b[0;34m)\u001b[0m\u001b[0;34m,\u001b[0m \u001b[0mn_jobs\u001b[0m\u001b[0;34m=\u001b[0m\u001b[0;34m-\u001b[0m\u001b[0;36m1\u001b[0m\u001b[0;34m)\u001b[0m\u001b[0;34m:\u001b[0m\u001b[0;34m\u001b[0m\u001b[0m\n",
        "\u001b[0;32m/Users/costa/Desktop/BTSync/Projects/EDeN/EDeN/eden/graph.pyc\u001b[0m in \u001b[0;36mfit\u001b[0;34m(self, graphs, n_jobs)\u001b[0m\n\u001b[1;32m    118\u001b[0m           \u001b[0mUse\u001b[0m \u001b[0;34m-\u001b[0m\u001b[0;36m1\u001b[0m \u001b[0mto\u001b[0m \u001b[0mindicate\u001b[0m \u001b[0mthe\u001b[0m \u001b[0mtotal\u001b[0m \u001b[0mnumber\u001b[0m \u001b[0mof\u001b[0m \u001b[0mCPUs\u001b[0m \u001b[0mavailable\u001b[0m\u001b[0;34m.\u001b[0m\u001b[0;34m\u001b[0m\u001b[0m\n\u001b[1;32m    119\u001b[0m         \"\"\"\n\u001b[0;32m--> 120\u001b[0;31m         \u001b[0mlabel_data_matrix_dict\u001b[0m \u001b[0;34m=\u001b[0m \u001b[0mself\u001b[0m\u001b[0;34m.\u001b[0m\u001b[0m_assemble_dense_data_matrices\u001b[0m\u001b[0;34m(\u001b[0m\u001b[0mgraphs\u001b[0m\u001b[0;34m)\u001b[0m\u001b[0;34m\u001b[0m\u001b[0m\n\u001b[0m\u001b[1;32m    121\u001b[0m         label_data_matrix_dict.update(\n\u001b[1;32m    122\u001b[0m             self._assemble_sparse_data_matrices(graphs))\n",
        "\u001b[0;32m/Users/costa/Desktop/BTSync/Projects/EDeN/EDeN/eden/graph.pyc\u001b[0m in \u001b[0;36m_assemble_dense_data_matrices\u001b[0;34m(self, graphs)\u001b[0m\n\u001b[1;32m    260\u001b[0m         \u001b[0mlabel_data_dict\u001b[0m \u001b[0;34m=\u001b[0m \u001b[0mdefaultdict\u001b[0m\u001b[0;34m(\u001b[0m\u001b[0;32mlambda\u001b[0m\u001b[0;34m:\u001b[0m \u001b[0mlist\u001b[0m\u001b[0;34m(\u001b[0m\u001b[0mlist\u001b[0m\u001b[0;34m(\u001b[0m\u001b[0;34m)\u001b[0m\u001b[0;34m)\u001b[0m\u001b[0;34m)\u001b[0m\u001b[0;34m\u001b[0m\u001b[0m\n\u001b[1;32m    261\u001b[0m         \u001b[0;31m# for every node of every graph\u001b[0m\u001b[0;34m\u001b[0m\u001b[0;34m\u001b[0m\u001b[0m\n\u001b[0;32m--> 262\u001b[0;31m         \u001b[0;32mfor\u001b[0m \u001b[0minstance_id\u001b[0m\u001b[0;34m,\u001b[0m \u001b[0mG\u001b[0m \u001b[0;32min\u001b[0m \u001b[0menumerate\u001b[0m\u001b[0;34m(\u001b[0m\u001b[0mgraphs\u001b[0m\u001b[0;34m)\u001b[0m\u001b[0;34m:\u001b[0m\u001b[0;34m\u001b[0m\u001b[0m\n\u001b[0m\u001b[1;32m    263\u001b[0m             \u001b[0mlabel_data\u001b[0m \u001b[0;34m=\u001b[0m \u001b[0mself\u001b[0m\u001b[0;34m.\u001b[0m\u001b[0m_extract_dense_vectors_from_labels\u001b[0m\u001b[0;34m(\u001b[0m\u001b[0mG\u001b[0m\u001b[0;34m)\u001b[0m\u001b[0;34m\u001b[0m\u001b[0m\n\u001b[1;32m    264\u001b[0m             \u001b[0;31m# for all node_classes, add the list of dense vectors to the dict\u001b[0m\u001b[0;34m\u001b[0m\u001b[0;34m\u001b[0m\u001b[0m\n",
        "\u001b[0;32m/Users/costa/Desktop/BTSync/Projects/EDeN/EDeN/eden/converter/fasta.pyc\u001b[0m in \u001b[0;36mfasta_to_eden\u001b[0;34m(input, **options)\u001b[0m\n\u001b[1;32m     15\u001b[0m \u001b[0;32mdef\u001b[0m \u001b[0mfasta_to_eden\u001b[0m\u001b[0;34m(\u001b[0m\u001b[0minput\u001b[0m\u001b[0;34m,\u001b[0m \u001b[0;34m**\u001b[0m\u001b[0moptions\u001b[0m\u001b[0;34m)\u001b[0m\u001b[0;34m:\u001b[0m\u001b[0;34m\u001b[0m\u001b[0m\n\u001b[1;32m     16\u001b[0m     \u001b[0mlines\u001b[0m \u001b[0;34m=\u001b[0m \u001b[0mfasta_to_fasta\u001b[0m\u001b[0;34m(\u001b[0m\u001b[0minput\u001b[0m\u001b[0;34m)\u001b[0m\u001b[0;34m\u001b[0m\u001b[0m\n\u001b[0;32m---> 17\u001b[0;31m     \u001b[0;32mfor\u001b[0m \u001b[0mline\u001b[0m \u001b[0;32min\u001b[0m \u001b[0mlines\u001b[0m\u001b[0;34m:\u001b[0m\u001b[0;34m\u001b[0m\u001b[0m\n\u001b[0m\u001b[1;32m     18\u001b[0m         \u001b[0mheader\u001b[0m \u001b[0;34m=\u001b[0m \u001b[0mline\u001b[0m\u001b[0;34m\u001b[0m\u001b[0m\n\u001b[1;32m     19\u001b[0m         \u001b[0mseq\u001b[0m \u001b[0;34m=\u001b[0m \u001b[0mlines\u001b[0m\u001b[0;34m.\u001b[0m\u001b[0mnext\u001b[0m\u001b[0;34m(\u001b[0m\u001b[0;34m)\u001b[0m\u001b[0;34m\u001b[0m\u001b[0m\n",
        "\u001b[0;32m/Users/costa/Desktop/BTSync/Projects/EDeN/EDeN/eden/modifier/fasta.pyc\u001b[0m in \u001b[0;36mfasta_to_fasta\u001b[0;34m(input, modifier, **options)\u001b[0m\n\u001b[1;32m     18\u001b[0m     \"\"\"\n\u001b[1;32m     19\u001b[0m     \u001b[0miterable\u001b[0m \u001b[0;34m=\u001b[0m \u001b[0m_fasta_to_fasta\u001b[0m\u001b[0;34m(\u001b[0m\u001b[0minput\u001b[0m\u001b[0;34m)\u001b[0m\u001b[0;34m\u001b[0m\u001b[0m\n\u001b[0;32m---> 20\u001b[0;31m     \u001b[0;32mfor\u001b[0m \u001b[0mline\u001b[0m \u001b[0;32min\u001b[0m \u001b[0miterable\u001b[0m\u001b[0;34m:\u001b[0m\u001b[0;34m\u001b[0m\u001b[0m\n\u001b[0m\u001b[1;32m     21\u001b[0m         \u001b[0mheader\u001b[0m \u001b[0;34m=\u001b[0m \u001b[0mline\u001b[0m\u001b[0;34m\u001b[0m\u001b[0m\n\u001b[1;32m     22\u001b[0m         \u001b[0mseq\u001b[0m \u001b[0;34m=\u001b[0m \u001b[0miterable\u001b[0m\u001b[0;34m.\u001b[0m\u001b[0mnext\u001b[0m\u001b[0;34m(\u001b[0m\u001b[0;34m)\u001b[0m\u001b[0;34m\u001b[0m\u001b[0m\n",
        "\u001b[0;32m/Users/costa/Desktop/BTSync/Projects/EDeN/EDeN/eden/modifier/fasta.pyc\u001b[0m in \u001b[0;36m_fasta_to_fasta\u001b[0;34m(input)\u001b[0m\n\u001b[1;32m     28\u001b[0m \u001b[0;32mdef\u001b[0m \u001b[0m_fasta_to_fasta\u001b[0m\u001b[0;34m(\u001b[0m\u001b[0minput\u001b[0m\u001b[0;34m)\u001b[0m\u001b[0;34m:\u001b[0m\u001b[0;34m\u001b[0m\u001b[0m\n\u001b[1;32m     29\u001b[0m     \u001b[0mseq\u001b[0m\u001b[0;34m=\u001b[0m\u001b[0;34m\"\"\u001b[0m\u001b[0;34m\u001b[0m\u001b[0m\n\u001b[0;32m---> 30\u001b[0;31m     \u001b[0;32mfor\u001b[0m \u001b[0mline\u001b[0m \u001b[0;32min\u001b[0m \u001b[0mutil\u001b[0m\u001b[0;34m.\u001b[0m\u001b[0mread\u001b[0m\u001b[0;34m(\u001b[0m \u001b[0minput\u001b[0m \u001b[0;34m)\u001b[0m\u001b[0;34m:\u001b[0m\u001b[0;34m\u001b[0m\u001b[0m\n\u001b[0m\u001b[1;32m     31\u001b[0m         \u001b[0;32mif\u001b[0m \u001b[0mline\u001b[0m\u001b[0;34m:\u001b[0m\u001b[0;34m\u001b[0m\u001b[0m\n\u001b[1;32m     32\u001b[0m             \u001b[0;32mif\u001b[0m \u001b[0mline\u001b[0m\u001b[0;34m[\u001b[0m\u001b[0;36m0\u001b[0m\u001b[0;34m]\u001b[0m\u001b[0;34m==\u001b[0m\u001b[0;34m'>'\u001b[0m\u001b[0;34m:\u001b[0m\u001b[0;34m\u001b[0m\u001b[0m\n",
        "\u001b[0;32m/Users/costa/Desktop/BTSync/Projects/EDeN/EDeN/eden/modifier/fasta.pyc\u001b[0m in \u001b[0;36mfasta_to_fasta\u001b[0;34m(input, modifier, **options)\u001b[0m\n\u001b[1;32m     18\u001b[0m     \"\"\"\n\u001b[1;32m     19\u001b[0m     \u001b[0miterable\u001b[0m \u001b[0;34m=\u001b[0m \u001b[0m_fasta_to_fasta\u001b[0m\u001b[0;34m(\u001b[0m\u001b[0minput\u001b[0m\u001b[0;34m)\u001b[0m\u001b[0;34m\u001b[0m\u001b[0m\n\u001b[0;32m---> 20\u001b[0;31m     \u001b[0;32mfor\u001b[0m \u001b[0mline\u001b[0m \u001b[0;32min\u001b[0m \u001b[0miterable\u001b[0m\u001b[0;34m:\u001b[0m\u001b[0;34m\u001b[0m\u001b[0m\n\u001b[0m\u001b[1;32m     21\u001b[0m         \u001b[0mheader\u001b[0m \u001b[0;34m=\u001b[0m \u001b[0mline\u001b[0m\u001b[0;34m\u001b[0m\u001b[0m\n\u001b[1;32m     22\u001b[0m         \u001b[0mseq\u001b[0m \u001b[0;34m=\u001b[0m \u001b[0miterable\u001b[0m\u001b[0;34m.\u001b[0m\u001b[0mnext\u001b[0m\u001b[0;34m(\u001b[0m\u001b[0;34m)\u001b[0m\u001b[0;34m\u001b[0m\u001b[0m\n",
        "\u001b[0;32m/Users/costa/Desktop/BTSync/Projects/EDeN/EDeN/eden/modifier/fasta.pyc\u001b[0m in \u001b[0;36m_fasta_to_fasta\u001b[0;34m(input)\u001b[0m\n\u001b[1;32m     28\u001b[0m \u001b[0;32mdef\u001b[0m \u001b[0m_fasta_to_fasta\u001b[0m\u001b[0;34m(\u001b[0m\u001b[0minput\u001b[0m\u001b[0;34m)\u001b[0m\u001b[0;34m:\u001b[0m\u001b[0;34m\u001b[0m\u001b[0m\n\u001b[1;32m     29\u001b[0m     \u001b[0mseq\u001b[0m\u001b[0;34m=\u001b[0m\u001b[0;34m\"\"\u001b[0m\u001b[0;34m\u001b[0m\u001b[0m\n\u001b[0;32m---> 30\u001b[0;31m     \u001b[0;32mfor\u001b[0m \u001b[0mline\u001b[0m \u001b[0;32min\u001b[0m \u001b[0mutil\u001b[0m\u001b[0;34m.\u001b[0m\u001b[0mread\u001b[0m\u001b[0;34m(\u001b[0m \u001b[0minput\u001b[0m \u001b[0;34m)\u001b[0m\u001b[0;34m:\u001b[0m\u001b[0;34m\u001b[0m\u001b[0m\n\u001b[0m\u001b[1;32m     31\u001b[0m         \u001b[0;32mif\u001b[0m \u001b[0mline\u001b[0m\u001b[0;34m:\u001b[0m\u001b[0;34m\u001b[0m\u001b[0m\n\u001b[1;32m     32\u001b[0m             \u001b[0;32mif\u001b[0m \u001b[0mline\u001b[0m\u001b[0;34m[\u001b[0m\u001b[0;36m0\u001b[0m\u001b[0;34m]\u001b[0m\u001b[0;34m==\u001b[0m\u001b[0;34m'>'\u001b[0m\u001b[0;34m:\u001b[0m\u001b[0;34m\u001b[0m\u001b[0m\n",
        "\u001b[0;32m/Users/costa/Desktop/BTSync/Projects/EDeN/EDeN/eden/modifier/fasta.pyc\u001b[0m in \u001b[0;36mfasta_to_fasta\u001b[0;34m(input, modifier, **options)\u001b[0m\n\u001b[1;32m     18\u001b[0m     \"\"\"\n\u001b[1;32m     19\u001b[0m     \u001b[0miterable\u001b[0m \u001b[0;34m=\u001b[0m \u001b[0m_fasta_to_fasta\u001b[0m\u001b[0;34m(\u001b[0m\u001b[0minput\u001b[0m\u001b[0;34m)\u001b[0m\u001b[0;34m\u001b[0m\u001b[0m\n\u001b[0;32m---> 20\u001b[0;31m     \u001b[0;32mfor\u001b[0m \u001b[0mline\u001b[0m \u001b[0;32min\u001b[0m \u001b[0miterable\u001b[0m\u001b[0;34m:\u001b[0m\u001b[0;34m\u001b[0m\u001b[0m\n\u001b[0m\u001b[1;32m     21\u001b[0m         \u001b[0mheader\u001b[0m \u001b[0;34m=\u001b[0m \u001b[0mline\u001b[0m\u001b[0;34m\u001b[0m\u001b[0m\n\u001b[1;32m     22\u001b[0m         \u001b[0mseq\u001b[0m \u001b[0;34m=\u001b[0m \u001b[0miterable\u001b[0m\u001b[0;34m.\u001b[0m\u001b[0mnext\u001b[0m\u001b[0;34m(\u001b[0m\u001b[0;34m)\u001b[0m\u001b[0;34m\u001b[0m\u001b[0m\n",
        "\u001b[0;32m/Users/costa/Desktop/BTSync/Projects/EDeN/EDeN/eden/modifier/fasta.pyc\u001b[0m in \u001b[0;36m_fasta_to_fasta\u001b[0;34m(input)\u001b[0m\n\u001b[1;32m     28\u001b[0m \u001b[0;32mdef\u001b[0m \u001b[0m_fasta_to_fasta\u001b[0m\u001b[0;34m(\u001b[0m\u001b[0minput\u001b[0m\u001b[0;34m)\u001b[0m\u001b[0;34m:\u001b[0m\u001b[0;34m\u001b[0m\u001b[0m\n\u001b[1;32m     29\u001b[0m     \u001b[0mseq\u001b[0m\u001b[0;34m=\u001b[0m\u001b[0;34m\"\"\u001b[0m\u001b[0;34m\u001b[0m\u001b[0m\n\u001b[0;32m---> 30\u001b[0;31m     \u001b[0;32mfor\u001b[0m \u001b[0mline\u001b[0m \u001b[0;32min\u001b[0m \u001b[0mutil\u001b[0m\u001b[0;34m.\u001b[0m\u001b[0mread\u001b[0m\u001b[0;34m(\u001b[0m \u001b[0minput\u001b[0m \u001b[0;34m)\u001b[0m\u001b[0;34m:\u001b[0m\u001b[0;34m\u001b[0m\u001b[0m\n\u001b[0m\u001b[1;32m     31\u001b[0m         \u001b[0;32mif\u001b[0m \u001b[0mline\u001b[0m\u001b[0;34m:\u001b[0m\u001b[0;34m\u001b[0m\u001b[0m\n\u001b[1;32m     32\u001b[0m             \u001b[0;32mif\u001b[0m \u001b[0mline\u001b[0m\u001b[0;34m[\u001b[0m\u001b[0;36m0\u001b[0m\u001b[0;34m]\u001b[0m\u001b[0;34m==\u001b[0m\u001b[0;34m'>'\u001b[0m\u001b[0;34m:\u001b[0m\u001b[0;34m\u001b[0m\u001b[0m\n",
        "\u001b[0;32m/Users/costa/Desktop/BTSync/Projects/EDeN/EDeN/eden/modifier/fasta.pyc\u001b[0m in \u001b[0;36mfasta_to_fasta\u001b[0;34m(input, modifier, **options)\u001b[0m\n\u001b[1;32m     18\u001b[0m     \"\"\"\n\u001b[1;32m     19\u001b[0m     \u001b[0miterable\u001b[0m \u001b[0;34m=\u001b[0m \u001b[0m_fasta_to_fasta\u001b[0m\u001b[0;34m(\u001b[0m\u001b[0minput\u001b[0m\u001b[0;34m)\u001b[0m\u001b[0;34m\u001b[0m\u001b[0m\n\u001b[0;32m---> 20\u001b[0;31m     \u001b[0;32mfor\u001b[0m \u001b[0mline\u001b[0m \u001b[0;32min\u001b[0m \u001b[0miterable\u001b[0m\u001b[0;34m:\u001b[0m\u001b[0;34m\u001b[0m\u001b[0m\n\u001b[0m\u001b[1;32m     21\u001b[0m         \u001b[0mheader\u001b[0m \u001b[0;34m=\u001b[0m \u001b[0mline\u001b[0m\u001b[0;34m\u001b[0m\u001b[0m\n\u001b[1;32m     22\u001b[0m         \u001b[0mseq\u001b[0m \u001b[0;34m=\u001b[0m \u001b[0miterable\u001b[0m\u001b[0;34m.\u001b[0m\u001b[0mnext\u001b[0m\u001b[0;34m(\u001b[0m\u001b[0;34m)\u001b[0m\u001b[0;34m\u001b[0m\u001b[0m\n",
        "\u001b[0;32m/Users/costa/Desktop/BTSync/Projects/EDeN/EDeN/eden/modifier/fasta.pyc\u001b[0m in \u001b[0;36m_fasta_to_fasta\u001b[0;34m(input)\u001b[0m\n\u001b[1;32m     28\u001b[0m \u001b[0;32mdef\u001b[0m \u001b[0m_fasta_to_fasta\u001b[0m\u001b[0;34m(\u001b[0m\u001b[0minput\u001b[0m\u001b[0;34m)\u001b[0m\u001b[0;34m:\u001b[0m\u001b[0;34m\u001b[0m\u001b[0m\n\u001b[1;32m     29\u001b[0m     \u001b[0mseq\u001b[0m\u001b[0;34m=\u001b[0m\u001b[0;34m\"\"\u001b[0m\u001b[0;34m\u001b[0m\u001b[0m\n\u001b[0;32m---> 30\u001b[0;31m     \u001b[0;32mfor\u001b[0m \u001b[0mline\u001b[0m \u001b[0;32min\u001b[0m \u001b[0mutil\u001b[0m\u001b[0;34m.\u001b[0m\u001b[0mread\u001b[0m\u001b[0;34m(\u001b[0m \u001b[0minput\u001b[0m \u001b[0;34m)\u001b[0m\u001b[0;34m:\u001b[0m\u001b[0;34m\u001b[0m\u001b[0m\n\u001b[0m\u001b[1;32m     31\u001b[0m         \u001b[0;32mif\u001b[0m \u001b[0mline\u001b[0m\u001b[0;34m:\u001b[0m\u001b[0;34m\u001b[0m\u001b[0m\n\u001b[1;32m     32\u001b[0m             \u001b[0;32mif\u001b[0m \u001b[0mline\u001b[0m\u001b[0;34m[\u001b[0m\u001b[0;36m0\u001b[0m\u001b[0;34m]\u001b[0m\u001b[0;34m==\u001b[0m\u001b[0;34m'>'\u001b[0m\u001b[0;34m:\u001b[0m\u001b[0;34m\u001b[0m\u001b[0m\n",
        "\u001b[0;32m/Users/costa/Desktop/BTSync/Projects/EDeN/EDeN/eden/modifier/fasta.pyc\u001b[0m in \u001b[0;36mfasta_to_fasta\u001b[0;34m(input, modifier, **options)\u001b[0m\n\u001b[1;32m     22\u001b[0m         \u001b[0mseq\u001b[0m \u001b[0;34m=\u001b[0m \u001b[0miterable\u001b[0m\u001b[0;34m.\u001b[0m\u001b[0mnext\u001b[0m\u001b[0;34m(\u001b[0m\u001b[0;34m)\u001b[0m\u001b[0;34m\u001b[0m\u001b[0m\n\u001b[1;32m     23\u001b[0m         \u001b[0mseqs\u001b[0m \u001b[0;34m=\u001b[0m \u001b[0mmodifier\u001b[0m\u001b[0;34m(\u001b[0m\u001b[0mheader\u001b[0m \u001b[0;34m=\u001b[0m \u001b[0mheader\u001b[0m\u001b[0;34m,\u001b[0m \u001b[0mseq\u001b[0m \u001b[0;34m=\u001b[0m \u001b[0mseq\u001b[0m\u001b[0;34m,\u001b[0m \u001b[0;34m**\u001b[0m\u001b[0moptions\u001b[0m\u001b[0;34m)\u001b[0m\u001b[0;34m\u001b[0m\u001b[0m\n\u001b[0;32m---> 24\u001b[0;31m         \u001b[0;32mfor\u001b[0m \u001b[0mseq\u001b[0m \u001b[0;32min\u001b[0m \u001b[0mseqs\u001b[0m\u001b[0;34m:\u001b[0m\u001b[0;34m\u001b[0m\u001b[0m\n\u001b[0m\u001b[1;32m     25\u001b[0m             \u001b[0;32myield\u001b[0m \u001b[0mseq\u001b[0m\u001b[0;34m\u001b[0m\u001b[0m\n\u001b[1;32m     26\u001b[0m \u001b[0;34m\u001b[0m\u001b[0m\n",
        "\u001b[0;32m/Users/costa/Desktop/BTSync/Projects/EDeN/EDeN/eden/modifier/fasta.pyc\u001b[0m in \u001b[0;36mremove_modifier\u001b[0;34m(header, seq, **options)\u001b[0m\n\u001b[1;32m     81\u001b[0m \u001b[0;32mdef\u001b[0m \u001b[0mremove_modifier\u001b[0m\u001b[0;34m(\u001b[0m\u001b[0mheader\u001b[0m \u001b[0;34m=\u001b[0m \u001b[0mNone\u001b[0m\u001b[0;34m,\u001b[0m \u001b[0mseq\u001b[0m \u001b[0;34m=\u001b[0m \u001b[0mNone\u001b[0m\u001b[0;34m,\u001b[0m \u001b[0;34m**\u001b[0m\u001b[0moptions\u001b[0m\u001b[0;34m)\u001b[0m\u001b[0;34m:\u001b[0m\u001b[0;34m\u001b[0m\u001b[0m\n\u001b[1;32m     82\u001b[0m     \u001b[0mregex\u001b[0m \u001b[0;34m=\u001b[0m  \u001b[0moptions\u001b[0m\u001b[0;34m.\u001b[0m\u001b[0mget\u001b[0m\u001b[0;34m(\u001b[0m\u001b[0;34m'regex'\u001b[0m\u001b[0;34m,\u001b[0m\u001b[0;34m'?'\u001b[0m\u001b[0;34m)\u001b[0m\u001b[0;34m\u001b[0m\u001b[0m\n\u001b[0;32m---> 83\u001b[0;31m     \u001b[0mm\u001b[0m \u001b[0;34m=\u001b[0m \u001b[0mre\u001b[0m\u001b[0;34m.\u001b[0m\u001b[0mfind\u001b[0m\u001b[0;34m(\u001b[0m\u001b[0mregex\u001b[0m\u001b[0;34m,\u001b[0m \u001b[0mseq\u001b[0m\u001b[0;34m)\u001b[0m\u001b[0;34m\u001b[0m\u001b[0m\n\u001b[0m\u001b[1;32m     84\u001b[0m     \u001b[0;32mif\u001b[0m \u001b[0;32mnot\u001b[0m \u001b[0mm\u001b[0m\u001b[0;34m:\u001b[0m\u001b[0;34m\u001b[0m\u001b[0m\n\u001b[1;32m     85\u001b[0m         \u001b[0;32myield\u001b[0m \u001b[0mheader\u001b[0m\u001b[0;34m\u001b[0m\u001b[0m\n",
        "\u001b[0;31mAttributeError\u001b[0m: 'module' object has no attribute 'find'"
       ]
      }
     ],
     "prompt_number": 16
    },
    {
     "cell_type": "code",
     "collapsed": false,
     "input": [
      "%%time\n",
      "results = out_of_core_predict(testf, estimator = estimator, vectorizer = vectorizer)"
     ],
     "language": "python",
     "metadata": {},
     "outputs": [
      {
       "output_type": "stream",
       "stream": "stdout",
       "text": [
        "CPU times: user 22.6 s, sys: 654 ms, total: 23.3 s\n",
        "Wall time: 23.4 s\n"
       ]
      }
     ],
     "prompt_number": 18
    },
    {
     "cell_type": "code",
     "collapsed": false,
     "input": [
      "from ipy_table import * \n",
      "\n",
      "mat=[('ID','Conf')]\n",
      "mat += results\n",
      "make_table(mat)\n",
      "apply_theme('basic')\n",
      "set_global_style(float_format = '%0.3f')"
     ],
     "language": "python",
     "metadata": {},
     "outputs": [
      {
       "html": [
        "<table border=\"1\" cellpadding=\"3\" cellspacing=\"0\"  style=\"border:1px solid black;border-collapse:collapse;\"><tr><td  style=\"background-color:LightGray;\"><b>ID</b></td><td  style=\"background-color:LightGray;\"><b>Conf</b></td></tr><tr><td  style=\"background-color:Ivory;\">>MMP2-validate-47\tKVSHLLGI</td><td  style=\"background-color:Ivory;\">1.588</td></tr><tr><td  style=\"background-color:AliceBlue;\">>MMP2-validate-53\tKPQNLLVD</td><td  style=\"background-color:AliceBlue;\">1.433</td></tr><tr><td  style=\"background-color:Ivory;\">>MMP2-validate-51\tVVQGLLSE</td><td  style=\"background-color:Ivory;\">1.334</td></tr><tr><td  style=\"background-color:AliceBlue;\">>MMP2-validate-28\tTVAGLAGK</td><td  style=\"background-color:AliceBlue;\">1.226</td></tr><tr><td  style=\"background-color:Ivory;\">>MMP2-validate-61\tDLANLSAA</td><td  style=\"background-color:Ivory;\">1.212</td></tr><tr><td  style=\"background-color:AliceBlue;\">>MMP2-validate-76\tQPEGMISE</td><td  style=\"background-color:AliceBlue;\">1.110</td></tr><tr><td  style=\"background-color:Ivory;\">>MMP2-validate-39\tKAAELIAN</td><td  style=\"background-color:Ivory;\">1.092</td></tr><tr><td  style=\"background-color:AliceBlue;\">>MMP2-validate-49\tKPSNLLIN</td><td  style=\"background-color:AliceBlue;\">1.075</td></tr><tr><td  style=\"background-color:Ivory;\">>MMP2-validate-95\tIPAGWMGL</td><td  style=\"background-color:Ivory;\">1.068</td></tr><tr><td  style=\"background-color:AliceBlue;\">>MMP2-validate-63\tELQNLTAA</td><td  style=\"background-color:AliceBlue;\">1.067</td></tr><tr><td  style=\"background-color:Ivory;\">>MMP2-validate-57\tQIAELQAQ</td><td  style=\"background-color:Ivory;\">1.067</td></tr><tr><td  style=\"background-color:AliceBlue;\">>CTSL-validate-51\tELAQIAGR</td><td  style=\"background-color:AliceBlue;\">1.059</td></tr><tr><td  style=\"background-color:Ivory;\">>MMP2-validate-90\tRPASVSSS</td><td  style=\"background-color:Ivory;\">1.026</td></tr><tr><td  style=\"background-color:AliceBlue;\">>MMP2-validate-14\tTIGLIHAV</td><td  style=\"background-color:AliceBlue;\">1.024</td></tr><tr><td  style=\"background-color:Ivory;\">>MMP2-validate-36\tYIANLGHG</td><td  style=\"background-color:Ivory;\">1.023</td></tr><tr><td  style=\"background-color:AliceBlue;\">>MMP2-validate-50\tAPVALLND</td><td  style=\"background-color:AliceBlue;\">1.014</td></tr><tr><td  style=\"background-color:Ivory;\">>MMP2-validate-72\tVVSGLVQF</td><td  style=\"background-color:Ivory;\">1.003</td></tr><tr><td  style=\"background-color:AliceBlue;\">>MMP2-validate-22\tQVATISAN</td><td  style=\"background-color:AliceBlue;\">0.988</td></tr><tr><td  style=\"background-color:Ivory;\">>MMP2-validate-20\tKISSIQSI</td><td  style=\"background-color:Ivory;\">0.976</td></tr><tr><td  style=\"background-color:AliceBlue;\">>MMP2-validate-11\tRCSGIASA</td><td  style=\"background-color:AliceBlue;\">0.952</td></tr><tr><td  style=\"background-color:Ivory;\">>MMP2-validate-48\tKDNHLLGT</td><td  style=\"background-color:Ivory;\">0.940</td></tr><tr><td  style=\"background-color:AliceBlue;\">>MMP2-validate-30\tSPANLAVY</td><td  style=\"background-color:AliceBlue;\">0.922</td></tr><tr><td  style=\"background-color:Ivory;\">>MMP2-validate-60\tRPEELRED</td><td  style=\"background-color:Ivory;\">0.901</td></tr><tr><td  style=\"background-color:AliceBlue;\">>MMP2-validate-71\tGFAGLVQE</td><td  style=\"background-color:AliceBlue;\">0.897</td></tr><tr><td  style=\"background-color:Ivory;\">>MMP2-validate-59\tHISQLQHE</td><td  style=\"background-color:Ivory;\">0.889</td></tr><tr><td  style=\"background-color:AliceBlue;\">>MMP2-validate-88\tVPENVLSF</td><td  style=\"background-color:AliceBlue;\">0.888</td></tr><tr><td  style=\"background-color:Ivory;\">>MMP2-validate-87\tILGGVISA</td><td  style=\"background-color:Ivory;\">0.883</td></tr><tr><td  style=\"background-color:AliceBlue;\">>MMP2-validate-25\tKPGAIVID</td><td  style=\"background-color:AliceBlue;\">0.882</td></tr><tr><td  style=\"background-color:Ivory;\">>MMP2-validate-89\tGAVAVSAA</td><td  style=\"background-color:Ivory;\">0.881</td></tr><tr><td  style=\"background-color:AliceBlue;\">>MMP2-validate-56\tYIGNLNES</td><td  style=\"background-color:AliceBlue;\">0.864</td></tr><tr><td  style=\"background-color:Ivory;\">>MMP2-validate-13\tMASNIFGP</td><td  style=\"background-color:Ivory;\">0.859</td></tr><tr><td  style=\"background-color:AliceBlue;\">>MMP2-validate-65\tHYGGLTGL</td><td  style=\"background-color:AliceBlue;\">0.852</td></tr><tr><td  style=\"background-color:Ivory;\">>MMP2-validate-15\tSPSNIILD</td><td  style=\"background-color:Ivory;\">0.834</td></tr><tr><td  style=\"background-color:AliceBlue;\">>MMP2-validate-94\tPVAGWINA</td><td  style=\"background-color:AliceBlue;\">0.785</td></tr><tr><td  style=\"background-color:Ivory;\">>MMP2-validate-66\tTPTFLTTG</td><td  style=\"background-color:Ivory;\">0.758</td></tr><tr><td  style=\"background-color:AliceBlue;\">>MMP2-validate-41\tEVENLILE</td><td  style=\"background-color:AliceBlue;\">0.747</td></tr><tr><td  style=\"background-color:Ivory;\">>MMP2-validate-62\tAASNLSGL</td><td  style=\"background-color:Ivory;\">0.744</td></tr><tr><td  style=\"background-color:AliceBlue;\">>MMP2-validate-38\tNPAMLHNI</td><td  style=\"background-color:AliceBlue;\">0.735</td></tr><tr><td  style=\"background-color:Ivory;\">>MMP2-validate-52\tAPPPLLSP</td><td  style=\"background-color:Ivory;\">0.733</td></tr><tr><td  style=\"background-color:AliceBlue;\">>MMP2-validate-92\tQIGAVVSH</td><td  style=\"background-color:AliceBlue;\">0.732</td></tr><tr><td  style=\"background-color:Ivory;\">>MMP2-validate-17\tKVLGILAM</td><td  style=\"background-color:Ivory;\">0.717</td></tr><tr><td  style=\"background-color:AliceBlue;\">>MMP2-validate-4\tRPAPAVGE</td><td  style=\"background-color:AliceBlue;\">0.706</td></tr><tr><td  style=\"background-color:Ivory;\">>MMP2-validate-43\tVIDNLIVA</td><td  style=\"background-color:Ivory;\">0.686</td></tr><tr><td  style=\"background-color:AliceBlue;\">>MMP2-validate-67\tEPGPLTVG</td><td  style=\"background-color:AliceBlue;\">0.678</td></tr><tr><td  style=\"background-color:Ivory;\">>MMP2-validate-19\tTPLSIQAH</td><td  style=\"background-color:Ivory;\">0.677</td></tr><tr><td  style=\"background-color:AliceBlue;\">>MMP2-validate-68\tHLSELVEQ</td><td  style=\"background-color:AliceBlue;\">0.655</td></tr><tr><td  style=\"background-color:Ivory;\">>MMP2-validate-29\tDASYLASE</td><td  style=\"background-color:Ivory;\">0.627</td></tr><tr><td  style=\"background-color:AliceBlue;\">>MMP2-validate-24\tCPQEIVDY</td><td  style=\"background-color:AliceBlue;\">0.614</td></tr><tr><td  style=\"background-color:Ivory;\">>MMP2-validate-69\tTPFLLVGT</td><td  style=\"background-color:Ivory;\">0.597</td></tr><tr><td  style=\"background-color:AliceBlue;\">>MMP2-validate-46\tPATPLLDY</td><td  style=\"background-color:AliceBlue;\">0.595</td></tr><tr><td  style=\"background-color:Ivory;\">>MMP2-validate-37\tPICSLHDQ</td><td  style=\"background-color:Ivory;\">0.568</td></tr><tr><td  style=\"background-color:AliceBlue;\">>MMP2-validate-7\tSPAAFINP</td><td  style=\"background-color:AliceBlue;\">0.550</td></tr><tr><td  style=\"background-color:Ivory;\">>MMP2-validate-35\tTAISLFYE</td><td  style=\"background-color:Ivory;\">0.546</td></tr><tr><td  style=\"background-color:AliceBlue;\">>MMP2-validate-18\tVADAILGN</td><td  style=\"background-color:AliceBlue;\">0.539</td></tr><tr><td  style=\"background-color:Ivory;\">>MMP2-validate-32\tRPGMLEML</td><td  style=\"background-color:Ivory;\">0.511</td></tr><tr><td  style=\"background-color:AliceBlue;\">>MMP2-validate-1\tEPAAAAAP</td><td  style=\"background-color:AliceBlue;\">0.461</td></tr><tr><td  style=\"background-color:Ivory;\">>MMP2-validate-42\tAAAALINF</td><td  style=\"background-color:Ivory;\">0.457</td></tr><tr><td  style=\"background-color:AliceBlue;\">>MMP2-validate-73\tLSQNLVVK</td><td  style=\"background-color:AliceBlue;\">0.455</td></tr><tr><td  style=\"background-color:Ivory;\">>MMP2-validate-86\tPPAPTSGM</td><td  style=\"background-color:Ivory;\">0.451</td></tr><tr><td  style=\"background-color:AliceBlue;\">>MMP2-validate-34\tLHESLFGS</td><td  style=\"background-color:AliceBlue;\">0.441</td></tr><tr><td  style=\"background-color:Ivory;\">>MMP2-validate-45\tAFDSLLAG</td><td  style=\"background-color:Ivory;\">0.439</td></tr><tr><td  style=\"background-color:AliceBlue;\">>MMP2-validate-27\tVAHALAEG</td><td  style=\"background-color:AliceBlue;\">0.430</td></tr><tr><td  style=\"background-color:Ivory;\">>MMP2-validate-55\tHTAALMLD</td><td  style=\"background-color:Ivory;\">0.408</td></tr><tr><td  style=\"background-color:AliceBlue;\">>MMP2-validate-16\tLSDNIISG</td><td  style=\"background-color:AliceBlue;\">0.394</td></tr><tr><td  style=\"background-color:Ivory;\">>MMP2-validate-2\tKPATAIGV</td><td  style=\"background-color:Ivory;\">0.387</td></tr><tr><td  style=\"background-color:AliceBlue;\">>MMP2-validate-77\tNNSTMLGA</td><td  style=\"background-color:AliceBlue;\">0.387</td></tr><tr><td  style=\"background-color:Ivory;\">>MMP2-validate-23\tTVHAITAT</td><td  style=\"background-color:Ivory;\">0.383</td></tr><tr><td  style=\"background-color:AliceBlue;\">>MMP2-validate-75\tCPQEMAAV</td><td  style=\"background-color:AliceBlue;\">0.378</td></tr><tr><td  style=\"background-color:Ivory;\">>MMP2-validate-9\tTLNSFMGL</td><td  style=\"background-color:Ivory;\">0.375</td></tr><tr><td  style=\"background-color:AliceBlue;\">>MMP2-validate-54\tIPIPLMDY</td><td  style=\"background-color:AliceBlue;\">0.374</td></tr><tr><td  style=\"background-color:Ivory;\">>MMP2-validate-5\tSSSNCVTD</td><td  style=\"background-color:Ivory;\">0.361</td></tr><tr><td  style=\"background-color:AliceBlue;\">>MMP2-validate-78\tLVAAMQHF</td><td  style=\"background-color:AliceBlue;\">0.356</td></tr><tr><td  style=\"background-color:Ivory;\">>MMP2-validate-26\tSPCCIVTS</td><td  style=\"background-color:Ivory;\">0.344</td></tr><tr><td  style=\"background-color:AliceBlue;\">>MMP2-validate-79\tVLGQMVID</td><td  style=\"background-color:AliceBlue;\">0.343</td></tr><tr><td  style=\"background-color:Ivory;\">>MMP2-validate-40\tNTQGLIFV</td><td  style=\"background-color:Ivory;\">0.341</td></tr><tr><td  style=\"background-color:AliceBlue;\">>MMP2-validate-70\tLLSPLVLE</td><td  style=\"background-color:AliceBlue;\">0.334</td></tr><tr><td  style=\"background-color:Ivory;\">>CTSL-validate-64\tKVLAMSGD</td><td  style=\"background-color:Ivory;\">0.325</td></tr><tr><td  style=\"background-color:AliceBlue;\">>MMP2-validate-12\tAFAPICNP</td><td  style=\"background-color:AliceBlue;\">0.322</td></tr><tr><td  style=\"background-color:Ivory;\">>MMP2-validate-6\tSVASEVST</td><td  style=\"background-color:Ivory;\">0.301</td></tr><tr><td  style=\"background-color:AliceBlue;\">>MMP2-validate-74\tGWGNLVYV</td><td  style=\"background-color:AliceBlue;\">0.280</td></tr><tr><td  style=\"background-color:Ivory;\">>MMP2-validate-33\tLSLGLETA</td><td  style=\"background-color:Ivory;\">0.203</td></tr><tr><td  style=\"background-color:AliceBlue;\">>MMP2-validate-31\tRQAHLCVL</td><td  style=\"background-color:AliceBlue;\">0.200</td></tr><tr><td  style=\"background-color:Ivory;\">>CTSL-validate-63\tLIMELTGG</td><td  style=\"background-color:Ivory;\">0.191</td></tr><tr><td  style=\"background-color:AliceBlue;\">>MMP2-validate-97\tAIGDYNGH</td><td  style=\"background-color:AliceBlue;\">0.170</td></tr><tr><td  style=\"background-color:Ivory;\">>CTSL-validate-55\tRMLAIYDG</td><td  style=\"background-color:Ivory;\">0.123</td></tr><tr><td  style=\"background-color:AliceBlue;\">>CTSL-validate-62\tMEATLPSP</td><td  style=\"background-color:AliceBlue;\">0.112</td></tr><tr><td  style=\"background-color:Ivory;\">>CTSL-validate-60\tKTLALIKP</td><td  style=\"background-color:Ivory;\">0.102</td></tr><tr><td  style=\"background-color:AliceBlue;\">>CTSL-validate-59\tKNVGLDIE</td><td  style=\"background-color:AliceBlue;\">0.091</td></tr><tr><td  style=\"background-color:Ivory;\">>CTSL-validate-73\tPAYFQRPE</td><td  style=\"background-color:Ivory;\">0.082</td></tr><tr><td  style=\"background-color:AliceBlue;\">>MMP2-validate-83\tTIQGQYAI</td><td  style=\"background-color:AliceBlue;\">0.061</td></tr><tr><td  style=\"background-color:Ivory;\">>CTSL-validate-20\tKIVAERPG</td><td  style=\"background-color:Ivory;\">0.030</td></tr><tr><td  style=\"background-color:AliceBlue;\">>CTSL-validate-53\tKHLEINPD</td><td  style=\"background-color:AliceBlue;\">0.015</td></tr><tr><td  style=\"background-color:Ivory;\">>MMP2-validate-10\tGHAAFTSD</td><td  style=\"background-color:Ivory;\">0.012</td></tr><tr><td  style=\"background-color:AliceBlue;\">>CTSL-validate-68\tMPVSNQKP</td><td  style=\"background-color:AliceBlue;\">-0.002</td></tr><tr><td  style=\"background-color:Ivory;\">>CTSL-validate-52\tGCITIIGG</td><td  style=\"background-color:Ivory;\">-0.009</td></tr><tr><td  style=\"background-color:AliceBlue;\">>MMP2-validate-44\tVILHLKED</td><td  style=\"background-color:AliceBlue;\">-0.011</td></tr><tr><td  style=\"background-color:Ivory;\">>CTSL-validate-109\tMIFEVLAP</td><td  style=\"background-color:Ivory;\">-0.030</td></tr><tr><td  style=\"background-color:AliceBlue;\">>MMP2-validate-21\tGTAFIQTQ</td><td  style=\"background-color:AliceBlue;\">-0.048</td></tr><tr><td  style=\"background-color:Ivory;\">>MMP2-validate-93\tGPYDVVVL</td><td  style=\"background-color:Ivory;\">-0.052</td></tr><tr><td  style=\"background-color:AliceBlue;\">>MMP2-validate-96\tLVSGWVKP</td><td  style=\"background-color:AliceBlue;\">-0.122</td></tr><tr><td  style=\"background-color:Ivory;\">>CTSL-validate-113\tLTLALIKP</td><td  style=\"background-color:Ivory;\">-0.146</td></tr><tr><td  style=\"background-color:AliceBlue;\">>MMP2-validate-58\tAQQPLQGG</td><td  style=\"background-color:AliceBlue;\">-0.157</td></tr><tr><td  style=\"background-color:Ivory;\">>CTSL-validate-14\tRFLQDYFD</td><td  style=\"background-color:Ivory;\">-0.194</td></tr><tr><td  style=\"background-color:AliceBlue;\">>CTSL-validate-44\tKLLGHEVE</td><td  style=\"background-color:AliceBlue;\">-0.198</td></tr><tr><td  style=\"background-color:Ivory;\">>MMP2-validate-91\tLVANVTNP</td><td  style=\"background-color:Ivory;\">-0.227</td></tr><tr><td  style=\"background-color:AliceBlue;\">>CTSL-validate-17\tKLFNEHIE</td><td  style=\"background-color:AliceBlue;\">-0.235</td></tr><tr><td  style=\"background-color:Ivory;\">>MMP2-validate-64\tLLFPLTAQ</td><td  style=\"background-color:Ivory;\">-0.244</td></tr><tr><td  style=\"background-color:AliceBlue;\">>MMP2-validate-80\tPPLSQAQG</td><td  style=\"background-color:AliceBlue;\">-0.257</td></tr><tr><td  style=\"background-color:Ivory;\">>CTSL-validate-5\tELINALYP</td><td  style=\"background-color:Ivory;\">-0.267</td></tr><tr><td  style=\"background-color:AliceBlue;\">>CTSL-validate-70\tRNLANTVT</td><td  style=\"background-color:AliceBlue;\">-0.283</td></tr><tr><td  style=\"background-color:Ivory;\">>CTSL-validate-18\tQLISEKPE</td><td  style=\"background-color:Ivory;\">-0.287</td></tr><tr><td  style=\"background-color:AliceBlue;\">>CTSL-validate-39\tHFHWGSLD</td><td  style=\"background-color:AliceBlue;\">-0.308</td></tr><tr><td  style=\"background-color:Ivory;\">>CTSL-validate-100\tNLVGTHDA</td><td  style=\"background-color:Ivory;\">-0.309</td></tr><tr><td  style=\"background-color:AliceBlue;\">>CTSL-validate-111\tTYPQWQPP</td><td  style=\"background-color:AliceBlue;\">-0.311</td></tr><tr><td  style=\"background-color:Ivory;\">>CTSL-validate-110\tRVWYVSNI</td><td  style=\"background-color:Ivory;\">-0.321</td></tr><tr><td  style=\"background-color:AliceBlue;\">>CTSL-validate-85\tVDSLSHPA</td><td  style=\"background-color:AliceBlue;\">-0.324</td></tr><tr><td  style=\"background-color:Ivory;\">>CTSL-validate-106\tHQIGTVSP</td><td  style=\"background-color:Ivory;\">-0.354</td></tr><tr><td  style=\"background-color:AliceBlue;\">>CTSL-validate-107\tGLVGVDQF</td><td  style=\"background-color:AliceBlue;\">-0.362</td></tr><tr><td  style=\"background-color:Ivory;\">>CTSL-validate-25\tKPVAGALD</td><td  style=\"background-color:Ivory;\">-0.364</td></tr><tr><td  style=\"background-color:AliceBlue;\">>CTSL-validate-34\tRHYGGLTG</td><td  style=\"background-color:AliceBlue;\">-0.372</td></tr><tr><td  style=\"background-color:Ivory;\">>CTSL-validate-93\tPGFASSSG</td><td  style=\"background-color:Ivory;\">-0.377</td></tr><tr><td  style=\"background-color:AliceBlue;\">>CTSL-validate-37\tEALGGQAL</td><td  style=\"background-color:AliceBlue;\">-0.382</td></tr><tr><td  style=\"background-color:Ivory;\">>CTSL-validate-47\tKVILHLKE</td><td  style=\"background-color:Ivory;\">-0.401</td></tr><tr><td  style=\"background-color:AliceBlue;\">>CTSL-validate-50\tELLTHSTT</td><td  style=\"background-color:AliceBlue;\">-0.410</td></tr><tr><td  style=\"background-color:Ivory;\">>CTSL-validate-43\tYAFSHDHP</td><td  style=\"background-color:Ivory;\">-0.420</td></tr><tr><td  style=\"background-color:AliceBlue;\">>CTSL-validate-56\tITVEKHPD</td><td  style=\"background-color:AliceBlue;\">-0.425</td></tr><tr><td  style=\"background-color:Ivory;\">>CTSL-validate-6\tKLYGAQFH</td><td  style=\"background-color:Ivory;\">-0.432</td></tr><tr><td  style=\"background-color:AliceBlue;\">>CTSL-validate-108\tDAYQVILD</td><td  style=\"background-color:AliceBlue;\">-0.441</td></tr><tr><td  style=\"background-color:Ivory;\">>CTSL-validate-15\tYSYGEATH</td><td  style=\"background-color:Ivory;\">-0.451</td></tr><tr><td  style=\"background-color:AliceBlue;\">>CTSL-validate-7\tRMLDAQVQ</td><td  style=\"background-color:AliceBlue;\">-0.451</td></tr><tr><td  style=\"background-color:Ivory;\">>CTSL-validate-32\tQVLQGLDY</td><td  style=\"background-color:Ivory;\">-0.461</td></tr><tr><td  style=\"background-color:AliceBlue;\">>CTSL-validate-105\tGKSTTTGH</td><td  style=\"background-color:AliceBlue;\">-0.463</td></tr><tr><td  style=\"background-color:Ivory;\">>CTSL-validate-104\tPIITTQVT</td><td  style=\"background-color:Ivory;\">-0.470</td></tr><tr><td  style=\"background-color:AliceBlue;\">>CTSL-validate-69\tTTVSNSQQ</td><td  style=\"background-color:AliceBlue;\">-0.479</td></tr><tr><td  style=\"background-color:Ivory;\">>CTSL-validate-66\tWLYDNHKD</td><td  style=\"background-color:Ivory;\">-0.487</td></tr><tr><td  style=\"background-color:AliceBlue;\">>CTSL-validate-21\tVHYGEVTN</td><td  style=\"background-color:AliceBlue;\">-0.489</td></tr><tr><td  style=\"background-color:Ivory;\">>MMP2-validate-81\tSICQQNGI</td><td  style=\"background-color:Ivory;\">-0.508</td></tr><tr><td  style=\"background-color:AliceBlue;\">>MMP2-validate-82\tSICQQNGI</td><td  style=\"background-color:AliceBlue;\">-0.508</td></tr><tr><td  style=\"background-color:Ivory;\">>CTSL-validate-88\tVGFDSLPD</td><td  style=\"background-color:Ivory;\">-0.517</td></tr><tr><td  style=\"background-color:AliceBlue;\">>CTSL-validate-29\tRGVMGGQS</td><td  style=\"background-color:AliceBlue;\">-0.522</td></tr><tr><td  style=\"background-color:Ivory;\">>CTSL-validate-87\tGFLGSKPE</td><td  style=\"background-color:Ivory;\">-0.527</td></tr><tr><td  style=\"background-color:AliceBlue;\">>CTSL-validate-8\tWAFSATGA</td><td  style=\"background-color:AliceBlue;\">-0.533</td></tr><tr><td  style=\"background-color:Ivory;\">>MMP2-validate-3\tQPMPASSP</td><td  style=\"background-color:Ivory;\">-0.537</td></tr><tr><td  style=\"background-color:AliceBlue;\">>CTSL-validate-22\tCQIQFGPH</td><td  style=\"background-color:AliceBlue;\">-0.538</td></tr><tr><td  style=\"background-color:Ivory;\">>MMP2-validate-84\tAAAASAAA</td><td  style=\"background-color:Ivory;\">-0.551</td></tr><tr><td  style=\"background-color:AliceBlue;\">>CTSL-validate-4\tGPLPAKDI</td><td  style=\"background-color:AliceBlue;\">-0.555</td></tr><tr><td  style=\"background-color:Ivory;\">>CTSL-validate-26\tKLVAGEHG</td><td  style=\"background-color:Ivory;\">-0.558</td></tr><tr><td  style=\"background-color:AliceBlue;\">>CTSL-validate-45\tYCLEHGIQ</td><td  style=\"background-color:AliceBlue;\">-0.562</td></tr><tr><td  style=\"background-color:Ivory;\">>CTSL-validate-72\tKNFYQEHP</td><td  style=\"background-color:Ivory;\">-0.594</td></tr><tr><td  style=\"background-color:AliceBlue;\">>CTSL-validate-80\tKLISSDGH</td><td  style=\"background-color:AliceBlue;\">-0.609</td></tr><tr><td  style=\"background-color:Ivory;\">>CTSL-validate-65\tKSLTNDWE</td><td  style=\"background-color:Ivory;\">-0.617</td></tr><tr><td  style=\"background-color:AliceBlue;\">>MMP2-validate-85\tIVSWSQVG</td><td  style=\"background-color:AliceBlue;\">-0.625</td></tr><tr><td  style=\"background-color:Ivory;\">>CTSL-validate-97\tSVLGTAFD</td><td  style=\"background-color:Ivory;\">-0.634</td></tr><tr><td  style=\"background-color:AliceBlue;\">>CTSL-validate-33\tFEVQGLQP</td><td  style=\"background-color:AliceBlue;\">-0.639</td></tr><tr><td  style=\"background-color:Ivory;\">>CTSL-validate-31\tVTIGGINI</td><td  style=\"background-color:Ivory;\">-0.642</td></tr><tr><td  style=\"background-color:AliceBlue;\">>CTSL-validate-46\tTSVEHIIV</td><td  style=\"background-color:AliceBlue;\">-0.645</td></tr><tr><td  style=\"background-color:Ivory;\">>CTSL-validate-79\tRYYTSASG</td><td  style=\"background-color:Ivory;\">-0.647</td></tr><tr><td  style=\"background-color:AliceBlue;\">>CTSL-validate-98\tMMLGTEGG</td><td  style=\"background-color:AliceBlue;\">-0.654</td></tr><tr><td  style=\"background-color:Ivory;\">>CTSL-validate-49\tALVQHQEW</td><td  style=\"background-color:Ivory;\">-0.672</td></tr><tr><td  style=\"background-color:AliceBlue;\">>CTSL-validate-27\tAGSFGGAG</td><td  style=\"background-color:AliceBlue;\">-0.675</td></tr><tr><td  style=\"background-color:Ivory;\">>CTSL-validate-101\tSILTTHTT</td><td  style=\"background-color:Ivory;\">-0.678</td></tr><tr><td  style=\"background-color:AliceBlue;\">>CTSL-validate-96\tTSVGSVNP</td><td  style=\"background-color:AliceBlue;\">-0.679</td></tr><tr><td  style=\"background-color:Ivory;\">>CTSL-validate-2\tAAVSAGHG</td><td  style=\"background-color:Ivory;\">-0.686</td></tr><tr><td  style=\"background-color:AliceBlue;\">>CTSL-validate-77\tEIVVRPTG</td><td  style=\"background-color:AliceBlue;\">-0.701</td></tr><tr><td  style=\"background-color:Ivory;\">>CTSL-validate-103\tKAMHTPKP</td><td  style=\"background-color:Ivory;\">-0.703</td></tr><tr><td  style=\"background-color:AliceBlue;\">>CTSL-validate-38\tSGYGGQTK</td><td  style=\"background-color:AliceBlue;\">-0.714</td></tr><tr><td  style=\"background-color:Ivory;\">>CTSL-validate-67\tSLLENLEK</td><td  style=\"background-color:Ivory;\">-0.716</td></tr><tr><td  style=\"background-color:AliceBlue;\">>CTSL-validate-13\tRQLCDNAG</td><td  style=\"background-color:AliceBlue;\">-0.718</td></tr><tr><td  style=\"background-color:Ivory;\">>CTSL-validate-75\tAQVARPGG</td><td  style=\"background-color:Ivory;\">-0.724</td></tr><tr><td  style=\"background-color:AliceBlue;\">>CTSL-validate-76\tALGHRPIP</td><td  style=\"background-color:AliceBlue;\">-0.744</td></tr><tr><td  style=\"background-color:Ivory;\">>CTSL-validate-28\tEGVHGGLI</td><td  style=\"background-color:Ivory;\">-0.749</td></tr><tr><td  style=\"background-color:AliceBlue;\">>CTSL-validate-16\tVGFLEGGK</td><td  style=\"background-color:AliceBlue;\">-0.759</td></tr><tr><td  style=\"background-color:Ivory;\">>CTSL-validate-54\tNNLFITEE</td><td  style=\"background-color:Ivory;\">-0.761</td></tr><tr><td  style=\"background-color:AliceBlue;\">>CTSL-validate-89\tYCVFSNQG</td><td  style=\"background-color:AliceBlue;\">-0.769</td></tr><tr><td  style=\"background-color:Ivory;\">>CTSL-validate-83\tEYLLSGDI</td><td  style=\"background-color:Ivory;\">-0.775</td></tr><tr><td  style=\"background-color:AliceBlue;\">>CTSL-validate-12\tLSFQDIAT</td><td  style=\"background-color:AliceBlue;\">-0.783</td></tr><tr><td  style=\"background-color:Ivory;\">>CTSL-validate-91\tGSLGSQGA</td><td  style=\"background-color:Ivory;\">-0.803</td></tr><tr><td  style=\"background-color:AliceBlue;\">>CTSL-validate-90\tNLVNSPHL</td><td  style=\"background-color:AliceBlue;\">-0.804</td></tr><tr><td  style=\"background-color:Ivory;\">>CTSL-validate-82\tKRNQSFCP</td><td  style=\"background-color:Ivory;\">-0.804</td></tr><tr><td  style=\"background-color:AliceBlue;\">>CTSL-validate-84\tPRPASGPI</td><td  style=\"background-color:AliceBlue;\">-0.836</td></tr><tr><td  style=\"background-color:Ivory;\">>CTSL-validate-40\tIIYGGSVT</td><td  style=\"background-color:Ivory;\">-0.841</td></tr><tr><td  style=\"background-color:AliceBlue;\">>CTSL-validate-92\tVVVTSRPE</td><td  style=\"background-color:AliceBlue;\">-0.846</td></tr><tr><td  style=\"background-color:Ivory;\">>CTSL-validate-114\tALVPHQEW</td><td  style=\"background-color:Ivory;\">-0.852</td></tr><tr><td  style=\"background-color:AliceBlue;\">>CTSL-validate-78\tDPYSSAEP</td><td  style=\"background-color:AliceBlue;\">-0.870</td></tr><tr><td  style=\"background-color:Ivory;\">>CTSL-validate-102\tKDISTLEP</td><td  style=\"background-color:Ivory;\">-0.890</td></tr><tr><td  style=\"background-color:AliceBlue;\">>CTSL-validate-24\tQLLCGAAI</td><td  style=\"background-color:AliceBlue;\">-0.900</td></tr><tr><td  style=\"background-color:Ivory;\">>CTSL-validate-42\tFQIEGYNP</td><td  style=\"background-color:Ivory;\">-0.910</td></tr><tr><td  style=\"background-color:AliceBlue;\">>CTSL-validate-10\tFSLADALP</td><td  style=\"background-color:AliceBlue;\">-0.921</td></tr><tr><td  style=\"background-color:Ivory;\">>CTSL-validate-35\tKVFEGNRP</td><td  style=\"background-color:Ivory;\">-0.922</td></tr><tr><td  style=\"background-color:AliceBlue;\">>CTSL-validate-71\tAMLGQAEE</td><td  style=\"background-color:AliceBlue;\">-0.928</td></tr><tr><td  style=\"background-color:Ivory;\">>CTSL-validate-94\tPQIGSTEW</td><td  style=\"background-color:Ivory;\">-0.942</td></tr><tr><td  style=\"background-color:AliceBlue;\">>CTSL-validate-41\tHVILGTQQ</td><td  style=\"background-color:AliceBlue;\">-0.961</td></tr><tr><td  style=\"background-color:Ivory;\">>CTSL-validate-112\tKSYCAEIA</td><td  style=\"background-color:Ivory;\">-0.990</td></tr><tr><td  style=\"background-color:AliceBlue;\">>CTSL-validate-3\tSDLAAHQD</td><td  style=\"background-color:AliceBlue;\">-0.996</td></tr><tr><td  style=\"background-color:Ivory;\">>CTSL-validate-30\tSELAGHQT</td><td  style=\"background-color:Ivory;\">-1.015</td></tr><tr><td  style=\"background-color:AliceBlue;\">>CTSL-validate-74\tSHLGRPDG</td><td  style=\"background-color:AliceBlue;\">-1.019</td></tr><tr><td  style=\"background-color:Ivory;\">>CTSL-validate-81\tVPLGSEKP</td><td  style=\"background-color:Ivory;\">-1.025</td></tr><tr><td  style=\"background-color:AliceBlue;\">>CTSL-validate-48\tGLWFHPEE</td><td  style=\"background-color:AliceBlue;\">-1.028</td></tr><tr><td  style=\"background-color:Ivory;\">>CTSL-validate-95\tLNWLSVDF</td><td  style=\"background-color:Ivory;\">-1.039</td></tr><tr><td  style=\"background-color:AliceBlue;\">>CTSL-validate-11\tFGYVDFES</td><td  style=\"background-color:AliceBlue;\">-1.077</td></tr><tr><td  style=\"background-color:Ivory;\">>CTSL-validate-19\tYELSENDL</td><td  style=\"background-color:Ivory;\">-1.155</td></tr><tr><td  style=\"background-color:AliceBlue;\">>CTSL-validate-57\tKSLTKPLA</td><td  style=\"background-color:AliceBlue;\">-1.191</td></tr><tr><td  style=\"background-color:Ivory;\">>CTSL-validate-58\tHSLVKPSV</td><td  style=\"background-color:Ivory;\">-1.199</td></tr><tr><td  style=\"background-color:AliceBlue;\">>CTSL-validate-99\tQGLETFKP</td><td  style=\"background-color:AliceBlue;\">-1.216</td></tr><tr><td  style=\"background-color:Ivory;\">>CTSL-validate-1\tKSPCAEIA</td><td  style=\"background-color:Ivory;\">-1.271</td></tr><tr><td  style=\"background-color:AliceBlue;\">>CTSL-validate-86\tLGFHSIEL</td><td  style=\"background-color:AliceBlue;\">-1.450</td></tr><tr><td  style=\"background-color:Ivory;\">>CTSL-validate-36\tLQVLGPKP</td><td  style=\"background-color:Ivory;\">-1.565</td></tr>"
       ],
       "metadata": {},
       "output_type": "pyout",
       "prompt_number": 19,
       "text": [
        "<IPython.core.display.HTML at 0x1183dea90>"
       ]
      }
     ],
     "prompt_number": 19
    },
    {
     "cell_type": "code",
     "collapsed": false,
     "input": [
      "%%time\n",
      "results_neg = out_of_core_predict(negf, estimator = estimator, vectorizer = vectorizer)"
     ],
     "language": "python",
     "metadata": {},
     "outputs": []
    },
    {
     "cell_type": "code",
     "collapsed": false,
     "input": [
      "#extract top-k difficult sequences\n",
      "negative_to_positive_ratio = 10\n",
      "num_pos = X1.shape[0]\n",
      "num = int( num_pos * negative_to_positive_ratio )\n",
      "print 'Selecting top %d most difficult to discriminate instances'%num\n",
      "from itertools import chain\n",
      "selected_seqs = list(chain.from_iterable(line.split('\\t') for line, prediction in results_neg[:num]))"
     ],
     "language": "python",
     "metadata": {},
     "outputs": []
    },
    {
     "cell_type": "code",
     "collapsed": false,
     "input": [
      "%%time\n",
      "graphs_list, weights = pre_process( selected_seqs )\n",
      "X3 = vectorizer.transform( graphs_list, weights = weights, n_jobs = n_jobs )\n",
      "print 'Instances: %d ; Features: %d with an avg of %d features per instance' % (X3.shape[0], X3.shape[1],  X3.getnnz()/X3.shape[0])"
     ],
     "language": "python",
     "metadata": {},
     "outputs": []
    },
    {
     "cell_type": "code",
     "collapsed": false,
     "input": [
      "%%time\n",
      "X,y = make_data_matrix(X1,X3)\n",
      "estimator2 = estimate_predictive_performance(X,y)"
     ],
     "language": "python",
     "metadata": {},
     "outputs": []
    },
    {
     "cell_type": "code",
     "collapsed": false,
     "input": [
      "%%time\n",
      "results2 = out_of_core_predict(testf, estimator = estimator2, vectorizer = vectorizer)"
     ],
     "language": "python",
     "metadata": {},
     "outputs": []
    },
    {
     "cell_type": "code",
     "collapsed": false,
     "input": [
      "from ipy_table import * \n",
      "\n",
      "mat=[('ID','Conf')]\n",
      "mat += results2\n",
      "make_table(mat)\n",
      "apply_theme('basic')\n",
      "set_global_style(float_format = '%0.3f')"
     ],
     "language": "python",
     "metadata": {},
     "outputs": []
    }
   ],
   "metadata": {}
  }
 ]
}