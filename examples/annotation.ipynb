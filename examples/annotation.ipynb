{
 "metadata": {
  "name": "",
  "signature": "sha256:3d15c50a353cb8cdda4c8e4991a73c59c6858f7fcab4255fe8f9ab01efa2c163"
 },
 "nbformat": 3,
 "nbformat_minor": 0,
 "worksheets": [
  {
   "cells": [
    {
     "cell_type": "heading",
     "level": 1,
     "metadata": {},
     "source": [
      "Annotation"
     ]
    },
    {
     "cell_type": "markdown",
     "metadata": {},
     "source": [
      "Consider a binary classification problem. We will fit a predictor and use it to assign a weight score to each node in each instance; this operation is termed \"annotation\". We will display few annotated graphs as an example. We will see that building a predictor on the annotated instances can increase the predictive performance."
     ]
    },
    {
     "cell_type": "markdown",
     "metadata": {},
     "source": [
      "load data and convert it to graphs"
     ]
    },
    {
     "cell_type": "code",
     "collapsed": false,
     "input": [
      "pos = 'bursi.pos.gspan'\n",
      "neg = 'bursi.neg.gspan'\n",
      "\n",
      "from eden.converter.graph.gspan import gspan_to_eden\n",
      "iterable_pos = gspan_to_eden( pos )\n",
      "iterable_neg = gspan_to_eden( neg )\n",
      "\n",
      "#split train/test\n",
      "train_test_split=0.5\n",
      "from eden.util import random_bipartition_iter\n",
      "iterable_pos_train, iterable_pos_test = random_bipartition_iter(iterable_pos, relative_size=train_test_split)\n",
      "iterable_neg_train, iterable_neg_test = random_bipartition_iter(iterable_neg, relative_size=train_test_split)"
     ],
     "language": "python",
     "metadata": {},
     "outputs": [],
     "prompt_number": 34
    },
    {
     "cell_type": "markdown",
     "metadata": {},
     "source": [
      "setup the vectorizer"
     ]
    },
    {
     "cell_type": "code",
     "collapsed": false,
     "input": [
      "from eden.graph import Vectorizer\n",
      "vectorizer = Vectorizer( complexity=3 )"
     ],
     "language": "python",
     "metadata": {},
     "outputs": [],
     "prompt_number": 35
    },
    {
     "cell_type": "code",
     "collapsed": false,
     "input": [
      "%%time\n",
      "from itertools import tee\n",
      "iterable_pos_train,iterable_pos_train_=tee(iterable_pos_train)\n",
      "iterable_neg_train,iterable_neg_train_=tee(iterable_neg_train)\n",
      "iterable_pos_test,iterable_pos_test_=tee(iterable_pos_test)\n",
      "iterable_neg_test,iterable_neg_test_=tee(iterable_neg_test)\n",
      "\n",
      "from eden.util import fit,estimate\n",
      "estimator = fit(iterable_pos_train_, iterable_neg_train_, vectorizer)\n",
      "estimate(iterable_pos_test_, iterable_neg_test_, estimator, vectorizer)"
     ],
     "language": "python",
     "metadata": {},
     "outputs": [
      {
       "output_type": "stream",
       "stream": "stdout",
       "text": [
        "Classifier:\n",
        "SGDClassifier(alpha=0.000118142220819, class_weight='auto', epsilon=0.1,\n",
        "       eta0=0.460122612812, fit_intercept=True, l1_ratio=0.15,\n",
        "       learning_rate='optimal', loss='hinge', n_iter=79, n_jobs=1,\n",
        "       penalty='l2', power_t=0.328954462659, random_state=None,\n",
        "       shuffle=True, verbose=0, warm_start=False)\n",
        "--------------------------------------------------------------------------------\n",
        "Predictive performance:\n",
        "            accuracy: 0.821 +- 0.029"
       ]
      },
      {
       "output_type": "stream",
       "stream": "stdout",
       "text": [
        "\n",
        "           precision: 0.842 +- 0.034"
       ]
      },
      {
       "output_type": "stream",
       "stream": "stdout",
       "text": [
        "\n",
        "              recall: 0.838 +- 0.041"
       ]
      },
      {
       "output_type": "stream",
       "stream": "stdout",
       "text": [
        "\n",
        "                  f1: 0.841 +- 0.026"
       ]
      },
      {
       "output_type": "stream",
       "stream": "stdout",
       "text": [
        "\n",
        "   average_precision: 0.913 +- 0.019"
       ]
      },
      {
       "output_type": "stream",
       "stream": "stdout",
       "text": [
        "\n",
        "             roc_auc: 0.896 +- 0.019"
       ]
      },
      {
       "output_type": "stream",
       "stream": "stdout",
       "text": [
        "\n",
        "--------------------------------------------------------------------------------\n",
        "Test set"
       ]
      },
      {
       "output_type": "stream",
       "stream": "stdout",
       "text": [
        "\n",
        "Instances: 2169 ; Features: 1048577 with an avg of 180 features per instance\n",
        "--------------------------------------------------------------------------------\n",
        "Test Estimate\n",
        "             precision    recall  f1-score   support\n",
        "\n",
        "         -1       0.82      0.81      0.81       968\n",
        "          1       0.85      0.85      0.85      1201\n",
        "\n",
        "avg / total       0.83      0.83      0.83      2169\n",
        "\n",
        "ROC: 0.906\n",
        "APR: 0.916\n",
        "CPU times: user 4min 34s, sys: 6.97 s, total: 4min 41s\n",
        "Wall time: 4min 42s\n"
       ]
      }
     ],
     "prompt_number": 36
    },
    {
     "cell_type": "markdown",
     "metadata": {},
     "source": [
      "annotate instances and list all resulting graphs"
     ]
    },
    {
     "cell_type": "markdown",
     "metadata": {},
     "source": [
      "display one graph as an example. Color the vertices using the annotated 'weight' attribute."
     ]
    },
    {
     "cell_type": "code",
     "collapsed": false,
     "input": [
      "%matplotlib inline\n",
      "from itertools import tee\n",
      "iterable_pos_train,iterable_pos_train_=tee(iterable_pos_train)\n",
      "\n",
      "graphs = vectorizer.annotate( iterable_pos_train_, estimator=estimator )\n",
      "\n",
      "from eden.modifier.graph.vertex_attributes import colorize_binary\n",
      "graphs = colorize_binary(graph_list = graphs, output_attribute = 'color_value', input_attribute='importance', level=1)\n",
      "\n",
      "import itertools \n",
      "graphs = itertools.islice( graphs, 3 )\n",
      "\n",
      "from eden.util.display import draw_graph\n",
      "for graph in graphs: draw_graph( graph, vertex_color='color_value' )"
     ],
     "language": "python",
     "metadata": {},
     "outputs": [
      {
       "metadata": {},
       "output_type": "display_data",
       "png": "[encoded data removed]",
       "text": [
        "<matplotlib.figure.Figure at 0x11518d110>"
       ]
      },
      {
       "metadata": {},
       "output_type": "display_data",
       "png": "[encoded data removed]",
       "text": [
        "<matplotlib.figure.Figure at 0x106c62d10>"
       ]
      },
      {
       "metadata": {},
       "output_type": "display_data",
       "png": "[encoded data removed]",
       "text": [
        "<matplotlib.figure.Figure at 0x10bf70f50>"
       ]
      }
     ],
     "prompt_number": 37
    },
    {
     "cell_type": "markdown",
     "metadata": {},
     "source": [
      "Create a data matrix this time using the annotated graphs. Now graphs are weighted. "
     ]
    },
    {
     "cell_type": "markdown",
     "metadata": {},
     "source": [
      "evaluate the predictive performance on the weighted graphs."
     ]
    },
    {
     "cell_type": "code",
     "collapsed": false,
     "input": [
      "%%time\n",
      "num_iterations=10\n",
      "for i in range(num_iterations):\n",
      "    print 'Iteration %d'%i\n",
      "    \n",
      "    from itertools import tee\n",
      "    iterable_pos_train_=vectorizer.annotate( iterable_pos_train, estimator=estimator )\n",
      "    iterable_neg_train_=vectorizer.annotate( iterable_neg_train, estimator=estimator )\n",
      "    iterable_pos_test_=vectorizer.annotate( iterable_pos_test, estimator=estimator )\n",
      "    iterable_neg_test_=vectorizer.annotate( iterable_neg_test, estimator=estimator )\n",
      "    \n",
      "    iterable_pos_train,iterable_pos_train_=tee(iterable_pos_train_)\n",
      "    iterable_neg_train,iterable_neg_train_=tee(iterable_neg_train_)\n",
      "    iterable_pos_test,iterable_pos_test_=tee(iterable_pos_test_)\n",
      "    iterable_neg_test,iterable_neg_test_=tee(iterable_neg_test_)\n",
      "\n",
      "    from eden.util import fit,estimate\n",
      "    estimator = fit(iterable_pos_train_, iterable_neg_train_, vectorizer)\n",
      "    estimate(iterable_pos_test_, iterable_neg_test_, estimator, vectorizer)"
     ],
     "language": "python",
     "metadata": {},
     "outputs": [
      {
       "output_type": "stream",
       "stream": "stdout",
       "text": [
        "Iteration 0\n",
        "Classifier:"
       ]
      },
      {
       "output_type": "stream",
       "stream": "stdout",
       "text": [
        "\n",
        "SGDClassifier(alpha=7.82277010072e-05, class_weight='auto', epsilon=0.1,\n",
        "       eta0=0.132339745933, fit_intercept=True, l1_ratio=0.15,\n",
        "       learning_rate='optimal', loss='hinge', n_iter=56, n_jobs=1,\n",
        "       penalty='l1', power_t=0.275960258913, random_state=None,\n",
        "       shuffle=True, verbose=0, warm_start=False)\n",
        "--------------------------------------------------------------------------------\n",
        "Predictive performance:\n",
        "            accuracy: 0.919 +- 0.018"
       ]
      },
      {
       "output_type": "stream",
       "stream": "stdout",
       "text": [
        "\n",
        "           precision: 0.936 +- 0.023"
       ]
      },
      {
       "output_type": "stream",
       "stream": "stdout",
       "text": [
        "\n",
        "              recall: 0.922 +- 0.028"
       ]
      },
      {
       "output_type": "stream",
       "stream": "stdout",
       "text": [
        "\n",
        "                  f1: 0.926 +- 0.016"
       ]
      },
      {
       "output_type": "stream",
       "stream": "stdout",
       "text": [
        "\n",
        "   average_precision: 0.978 +- 0.004"
       ]
      },
      {
       "output_type": "stream",
       "stream": "stdout",
       "text": [
        "\n",
        "             roc_auc: 0.970 +- 0.004"
       ]
      },
      {
       "output_type": "stream",
       "stream": "stdout",
       "text": [
        "\n",
        "--------------------------------------------------------------------------------\n",
        "Test set"
       ]
      },
      {
       "output_type": "stream",
       "stream": "stdout",
       "text": [
        "\n",
        "Instances: 2169 ; Features: 1048577 with an avg of 180 features per instance\n",
        "--------------------------------------------------------------------------------\n",
        "Test Estimate\n",
        "             precision    recall  f1-score   support\n",
        "\n",
        "         -1       0.78      0.83      0.80       968\n",
        "          1       0.86      0.81      0.83      1201\n",
        "\n",
        "avg / total       0.82      0.82      0.82      2169\n",
        "\n",
        "ROC: 0.874\n",
        "APR: 0.882\n",
        "Iteration 1\n",
        "Classifier:"
       ]
      },
      {
       "output_type": "stream",
       "stream": "stdout",
       "text": [
        "\n",
        "SGDClassifier(alpha=0.000222556074082, class_weight='auto', epsilon=0.1,\n",
        "       eta0=0.00944191614695, fit_intercept=True, l1_ratio=0.15,\n",
        "       learning_rate='optimal', loss='hinge', n_iter=76, n_jobs=1,\n",
        "       penalty='l2', power_t=0.298657453914, random_state=None,\n",
        "       shuffle=True, verbose=0, warm_start=False)\n",
        "--------------------------------------------------------------------------------\n",
        "Predictive performance:\n",
        "            accuracy: 0.828 +- 0.033"
       ]
      },
      {
       "output_type": "stream",
       "stream": "stdout",
       "text": [
        "\n",
        "           precision: 0.851 +- 0.036"
       ]
      },
      {
       "output_type": "stream",
       "stream": "stdout",
       "text": [
        "\n",
        "              recall: 0.835 +- 0.038"
       ]
      },
      {
       "output_type": "stream",
       "stream": "stdout",
       "text": [
        "\n",
        "                  f1: 0.844 +- 0.031"
       ]
      },
      {
       "output_type": "stream",
       "stream": "stdout",
       "text": [
        "\n",
        "   average_precision: 0.917 +- 0.020"
       ]
      },
      {
       "output_type": "stream",
       "stream": "stdout",
       "text": [
        "\n",
        "             roc_auc: 0.901 +- 0.018"
       ]
      },
      {
       "output_type": "stream",
       "stream": "stdout",
       "text": [
        "\n",
        "--------------------------------------------------------------------------------\n",
        "Test set"
       ]
      },
      {
       "output_type": "stream",
       "stream": "stdout",
       "text": [
        "\n",
        "Instances: 2169 ; Features: 1048577 with an avg of 180 features per instance\n",
        "--------------------------------------------------------------------------------\n",
        "Test Estimate\n",
        "             precision    recall  f1-score   support\n",
        "\n",
        "         -1       0.81      0.81      0.81       968\n",
        "          1       0.85      0.85      0.85      1201\n",
        "\n",
        "avg / total       0.83      0.83      0.83      2169\n",
        "\n",
        "ROC: 0.902\n",
        "APR: 0.912\n",
        "Iteration 2\n",
        "Classifier:"
       ]
      },
      {
       "output_type": "stream",
       "stream": "stdout",
       "text": [
        "\n",
        "SGDClassifier(alpha=0.000162209719268, class_weight='auto', epsilon=0.1,\n",
        "       eta0=0.754023768684, fit_intercept=True, l1_ratio=0.15,\n",
        "       learning_rate='constant', loss='hinge', n_iter=28, n_jobs=1,\n",
        "       penalty='l1', power_t=0.834048462752, random_state=None,\n",
        "       shuffle=True, verbose=0, warm_start=False)\n",
        "--------------------------------------------------------------------------------\n",
        "Predictive performance:\n",
        "            accuracy: 0.934 +- 0.021"
       ]
      },
      {
       "output_type": "stream",
       "stream": "stdout",
       "text": [
        "\n",
        "           precision: 0.949 +- 0.018"
       ]
      },
      {
       "output_type": "stream",
       "stream": "stdout",
       "text": [
        "\n",
        "              recall: 0.946 +- 0.024"
       ]
      },
      {
       "output_type": "stream",
       "stream": "stdout",
       "text": [
        "\n",
        "                  f1: 0.940 +- 0.017"
       ]
      },
      {
       "output_type": "stream",
       "stream": "stdout",
       "text": [
        "\n",
        "   average_precision: 0.982 +- 0.007"
       ]
      },
      {
       "output_type": "stream",
       "stream": "stdout",
       "text": [
        "\n",
        "             roc_auc: 0.980 +- 0.006"
       ]
      },
      {
       "output_type": "stream",
       "stream": "stdout",
       "text": [
        "\n",
        "--------------------------------------------------------------------------------\n",
        "Test set"
       ]
      },
      {
       "output_type": "stream",
       "stream": "stdout",
       "text": [
        "\n",
        "Instances: 2169 ; Features: 1048577 with an avg of 180 features per instance\n",
        "--------------------------------------------------------------------------------\n",
        "Test Estimate\n",
        "             precision    recall  f1-score   support\n",
        "\n",
        "         -1       0.82      0.76      0.79       968\n",
        "          1       0.82      0.86      0.84      1201\n",
        "\n",
        "avg / total       0.82      0.82      0.82      2169\n",
        "\n",
        "ROC: 0.878\n",
        "APR: 0.871\n",
        "Iteration 3\n",
        "Classifier:"
       ]
      },
      {
       "output_type": "stream",
       "stream": "stdout",
       "text": [
        "\n",
        "SGDClassifier(alpha=0.000189693330785, class_weight='auto', epsilon=0.1,\n",
        "       eta0=0.419297754352, fit_intercept=True, l1_ratio=0.15,\n",
        "       learning_rate='optimal', loss='hinge', n_iter=49, n_jobs=1,\n",
        "       penalty='l2', power_t=0.660947301512, random_state=None,\n",
        "       shuffle=True, verbose=0, warm_start=False)\n",
        "--------------------------------------------------------------------------------\n",
        "Predictive performance:\n",
        "            accuracy: 0.828 +- 0.031"
       ]
      },
      {
       "output_type": "stream",
       "stream": "stdout",
       "text": [
        "\n",
        "           precision: 0.848 +- 0.037"
       ]
      },
      {
       "output_type": "stream",
       "stream": "stdout",
       "text": [
        "\n",
        "              recall: 0.831 +- 0.048"
       ]
      },
      {
       "output_type": "stream",
       "stream": "stdout",
       "text": [
        "\n",
        "                  f1: 0.844 +- 0.031"
       ]
      },
      {
       "output_type": "stream",
       "stream": "stdout",
       "text": [
        "\n",
        "   average_precision: 0.913 +- 0.023"
       ]
      },
      {
       "output_type": "stream",
       "stream": "stdout",
       "text": [
        "\n",
        "             roc_auc: 0.898 +- 0.021"
       ]
      },
      {
       "output_type": "stream",
       "stream": "stdout",
       "text": [
        "\n",
        "--------------------------------------------------------------------------------\n",
        "Test set"
       ]
      },
      {
       "output_type": "stream",
       "stream": "stdout",
       "text": [
        "\n",
        "Instances: 2169 ; Features: 1048577 with an avg of 180 features per instance\n",
        "--------------------------------------------------------------------------------\n",
        "Test Estimate\n",
        "             precision    recall  f1-score   support\n",
        "\n",
        "         -1       0.82      0.82      0.82       968\n",
        "          1       0.85      0.86      0.86      1201\n",
        "\n",
        "avg / total       0.84      0.84      0.84      2169\n",
        "\n",
        "ROC: 0.909\n",
        "APR: 0.916\n",
        "Iteration 4\n",
        "Classifier:"
       ]
      },
      {
       "output_type": "stream",
       "stream": "stdout",
       "text": [
        "\n",
        "SGDClassifier(alpha=0.000145290560373, class_weight='auto', epsilon=0.1,\n",
        "       eta0=0.841578232835, fit_intercept=True, l1_ratio=0.15,\n",
        "       learning_rate='constant', loss='hinge', n_iter=31, n_jobs=1,\n",
        "       penalty='l1', power_t=0.834274162036, random_state=None,\n",
        "       shuffle=True, verbose=0, warm_start=False)\n",
        "--------------------------------------------------------------------------------\n",
        "Predictive performance:\n",
        "            accuracy: 0.915 +- 0.014"
       ]
      },
      {
       "output_type": "stream",
       "stream": "stdout",
       "text": [
        "\n",
        "           precision: 0.932 +- 0.026"
       ]
      },
      {
       "output_type": "stream",
       "stream": "stdout",
       "text": [
        "\n",
        "              recall: 0.905 +- 0.027"
       ]
      },
      {
       "output_type": "stream",
       "stream": "stdout",
       "text": [
        "\n",
        "                  f1: 0.922 +- 0.020"
       ]
      },
      {
       "output_type": "stream",
       "stream": "stdout",
       "text": [
        "\n",
        "   average_precision: 0.976 +- 0.005"
       ]
      },
      {
       "output_type": "stream",
       "stream": "stdout",
       "text": [
        "\n",
        "             roc_auc: 0.968 +- 0.008"
       ]
      },
      {
       "output_type": "stream",
       "stream": "stdout",
       "text": [
        "\n",
        "--------------------------------------------------------------------------------\n",
        "Test set"
       ]
      },
      {
       "output_type": "stream",
       "stream": "stdout",
       "text": [
        "\n",
        "Instances: 2169 ; Features: 1048577 with an avg of 180 features per instance\n",
        "--------------------------------------------------------------------------------\n",
        "Test Estimate\n",
        "             precision    recall  f1-score   support\n",
        "\n",
        "         -1       0.75      0.85      0.80       968\n",
        "          1       0.86      0.78      0.82      1201\n",
        "\n",
        "avg / total       0.81      0.81      0.81      2169\n",
        "\n",
        "ROC: 0.871\n",
        "APR: 0.871\n",
        "Iteration 5\n",
        "Classifier:"
       ]
      },
      {
       "output_type": "stream",
       "stream": "stdout",
       "text": [
        "\n",
        "SGDClassifier(alpha=0.000227659299303, class_weight='auto', epsilon=0.1,\n",
        "       eta0=0.776615622327, fit_intercept=True, l1_ratio=0.15,\n",
        "       learning_rate='optimal', loss='hinge', n_iter=31, n_jobs=1,\n",
        "       penalty='l2', power_t=0.68244099194, random_state=None,\n",
        "       shuffle=True, verbose=0, warm_start=False)\n",
        "--------------------------------------------------------------------------------\n",
        "Predictive performance:\n",
        "            accuracy: 0.823 +- 0.032"
       ]
      },
      {
       "output_type": "stream",
       "stream": "stdout",
       "text": [
        "\n",
        "           precision: 0.846 +- 0.043"
       ]
      },
      {
       "output_type": "stream",
       "stream": "stdout",
       "text": [
        "\n",
        "              recall: 0.838 +- 0.035"
       ]
      },
      {
       "output_type": "stream",
       "stream": "stdout",
       "text": [
        "\n",
        "                  f1: 0.841 +- 0.033"
       ]
      },
      {
       "output_type": "stream",
       "stream": "stdout",
       "text": [
        "\n",
        "   average_precision: 0.913 +- 0.021"
       ]
      },
      {
       "output_type": "stream",
       "stream": "stdout",
       "text": [
        "\n",
        "             roc_auc: 0.897 +- 0.020"
       ]
      },
      {
       "output_type": "stream",
       "stream": "stdout",
       "text": [
        "\n",
        "--------------------------------------------------------------------------------\n",
        "Test set"
       ]
      },
      {
       "output_type": "stream",
       "stream": "stdout",
       "text": [
        "\n",
        "Instances: 2169 ; Features: 1048577 with an avg of 180 features per instance\n",
        "--------------------------------------------------------------------------------\n",
        "Test Estimate\n",
        "             precision    recall  f1-score   support\n",
        "\n",
        "         -1       0.83      0.79      0.81       968\n",
        "          1       0.84      0.87      0.85      1201\n",
        "\n",
        "avg / total       0.83      0.83      0.83      2169\n",
        "\n",
        "ROC: 0.904\n",
        "APR: 0.913\n",
        "Iteration 6\n",
        "Classifier:"
       ]
      },
      {
       "output_type": "stream",
       "stream": "stdout",
       "text": [
        "\n",
        "SGDClassifier(alpha=0.000172422905894, class_weight='auto', epsilon=0.1,\n",
        "       eta0=0.318557150206, fit_intercept=True, l1_ratio=0.15,\n",
        "       learning_rate='optimal', loss='hinge', n_iter=96, n_jobs=1,\n",
        "       penalty='l1', power_t=0.933394926996, random_state=None,\n",
        "       shuffle=True, verbose=0, warm_start=False)\n",
        "--------------------------------------------------------------------------------\n",
        "Predictive performance:\n",
        "            accuracy: 0.929 +- 0.015"
       ]
      },
      {
       "output_type": "stream",
       "stream": "stdout",
       "text": [
        "\n",
        "           precision: 0.940 +- 0.021"
       ]
      },
      {
       "output_type": "stream",
       "stream": "stdout",
       "text": [
        "\n",
        "              recall: 0.936 +- 0.027"
       ]
      },
      {
       "output_type": "stream",
       "stream": "stdout",
       "text": [
        "\n",
        "                  f1: 0.936 +- 0.017"
       ]
      },
      {
       "output_type": "stream",
       "stream": "stdout",
       "text": [
        "\n",
        "   average_precision: 0.981 +- 0.008"
       ]
      },
      {
       "output_type": "stream",
       "stream": "stdout",
       "text": [
        "\n",
        "             roc_auc: 0.977 +- 0.006"
       ]
      },
      {
       "output_type": "stream",
       "stream": "stdout",
       "text": [
        "\n",
        "--------------------------------------------------------------------------------\n",
        "Test set"
       ]
      },
      {
       "output_type": "stream",
       "stream": "stdout",
       "text": [
        "\n",
        "Instances: 2169 ; Features: 1048577 with an avg of 180 features per instance\n",
        "--------------------------------------------------------------------------------\n",
        "Test Estimate\n",
        "             precision    recall  f1-score   support\n",
        "\n",
        "         -1       0.81      0.80      0.80       968\n",
        "          1       0.84      0.85      0.84      1201\n",
        "\n",
        "avg / total       0.82      0.82      0.82      2169\n",
        "\n",
        "ROC: 0.875\n",
        "APR: 0.865\n",
        "Iteration 7\n",
        "Classifier:"
       ]
      },
      {
       "output_type": "stream",
       "stream": "stdout",
       "text": [
        "\n",
        "SGDClassifier(alpha=0.000226422342797, class_weight='auto', epsilon=0.1,\n",
        "       eta0=0.354521486331, fit_intercept=True, l1_ratio=0.15,\n",
        "       learning_rate='optimal', loss='hinge', n_iter=93, n_jobs=1,\n",
        "       penalty='l2', power_t=0.713222708201, random_state=None,\n",
        "       shuffle=True, verbose=0, warm_start=False)\n",
        "--------------------------------------------------------------------------------\n",
        "Predictive performance:\n",
        "            accuracy: 0.827 +- 0.033"
       ]
      },
      {
       "output_type": "stream",
       "stream": "stdout",
       "text": [
        "\n",
        "           precision: 0.851 +- 0.034"
       ]
      },
      {
       "output_type": "stream",
       "stream": "stdout",
       "text": [
        "\n",
        "              recall: 0.835 +- 0.041"
       ]
      },
      {
       "output_type": "stream",
       "stream": "stdout",
       "text": [
        "\n",
        "                  f1: 0.842 +- 0.031"
       ]
      },
      {
       "output_type": "stream",
       "stream": "stdout",
       "text": [
        "\n",
        "   average_precision: 0.913 +- 0.023"
       ]
      },
      {
       "output_type": "stream",
       "stream": "stdout",
       "text": [
        "\n",
        "             roc_auc: 0.898 +- 0.021"
       ]
      },
      {
       "output_type": "stream",
       "stream": "stdout",
       "text": [
        "\n",
        "--------------------------------------------------------------------------------\n",
        "Test set"
       ]
      },
      {
       "output_type": "stream",
       "stream": "stdout",
       "text": [
        "\n",
        "Instances: 2169 ; Features: 1048577 with an avg of 180 features per instance\n",
        "--------------------------------------------------------------------------------\n",
        "Test Estimate\n",
        "             precision    recall  f1-score   support\n",
        "\n",
        "         -1       0.82      0.82      0.82       968\n",
        "          1       0.86      0.86      0.86      1201\n",
        "\n",
        "avg / total       0.84      0.84      0.84      2169\n",
        "\n",
        "ROC: 0.907\n",
        "APR: 0.915\n",
        "Iteration 8\n",
        "Classifier:"
       ]
      },
      {
       "output_type": "stream",
       "stream": "stdout",
       "text": [
        "\n",
        "SGDClassifier(alpha=0.00011546622086, class_weight='auto', epsilon=0.1,\n",
        "       eta0=0.69594915584, fit_intercept=True, l1_ratio=0.15,\n",
        "       learning_rate='constant', loss='hinge', n_iter=86, n_jobs=1,\n",
        "       penalty='l1', power_t=0.616514729004, random_state=None,\n",
        "       shuffle=True, verbose=0, warm_start=False)\n",
        "--------------------------------------------------------------------------------\n",
        "Predictive performance:\n",
        "            accuracy: 0.919 +- 0.016"
       ]
      },
      {
       "output_type": "stream",
       "stream": "stdout",
       "text": [
        "\n",
        "           precision: 0.932 +- 0.024"
       ]
      },
      {
       "output_type": "stream",
       "stream": "stdout",
       "text": [
        "\n",
        "              recall: 0.923 +- 0.023"
       ]
      },
      {
       "output_type": "stream",
       "stream": "stdout",
       "text": [
        "\n",
        "                  f1: 0.929 +- 0.018"
       ]
      },
      {
       "output_type": "stream",
       "stream": "stdout",
       "text": [
        "\n",
        "   average_precision: 0.979 +- 0.003"
       ]
      },
      {
       "output_type": "stream",
       "stream": "stdout",
       "text": [
        "\n",
        "             roc_auc: 0.971 +- 0.005"
       ]
      },
      {
       "output_type": "stream",
       "stream": "stdout",
       "text": [
        "\n",
        "--------------------------------------------------------------------------------\n",
        "Test set"
       ]
      },
      {
       "output_type": "stream",
       "stream": "stdout",
       "text": [
        "\n",
        "Instances: 2169 ; Features: 1048577 with an avg of 180 features per instance\n",
        "--------------------------------------------------------------------------------\n",
        "Test Estimate\n",
        "             precision    recall  f1-score   support\n",
        "\n",
        "         -1       0.81      0.82      0.81       968\n",
        "          1       0.85      0.84      0.85      1201\n",
        "\n",
        "avg / total       0.83      0.83      0.83      2169\n",
        "\n",
        "ROC: 0.877\n",
        "APR: 0.875\n",
        "Iteration 9\n",
        "Classifier:"
       ]
      },
      {
       "output_type": "stream",
       "stream": "stdout",
       "text": [
        "\n",
        "SGDClassifier(alpha=0.000427246692882, class_weight='auto', epsilon=0.1,\n",
        "       eta0=0.253862722165, fit_intercept=True, l1_ratio=0.15,\n",
        "       learning_rate='optimal', loss='hinge', n_iter=36, n_jobs=1,\n",
        "       penalty='l2', power_t=0.421798237808, random_state=None,\n",
        "       shuffle=True, verbose=0, warm_start=False)\n",
        "--------------------------------------------------------------------------------\n",
        "Predictive performance:\n",
        "            accuracy: 0.810 +- 0.038"
       ]
      },
      {
       "output_type": "stream",
       "stream": "stdout",
       "text": [
        "\n",
        "           precision: 0.847 +- 0.040"
       ]
      },
      {
       "output_type": "stream",
       "stream": "stdout",
       "text": [
        "\n",
        "              recall: 0.809 +- 0.038"
       ]
      },
      {
       "output_type": "stream",
       "stream": "stdout",
       "text": [
        "\n",
        "                  f1: 0.823 +- 0.034"
       ]
      },
      {
       "output_type": "stream",
       "stream": "stdout",
       "text": [
        "\n",
        "   average_precision: 0.907 +- 0.023"
       ]
      },
      {
       "output_type": "stream",
       "stream": "stdout",
       "text": [
        "\n",
        "             roc_auc: 0.891 +- 0.023"
       ]
      },
      {
       "output_type": "stream",
       "stream": "stdout",
       "text": [
        "\n",
        "--------------------------------------------------------------------------------\n",
        "Test set"
       ]
      },
      {
       "output_type": "stream",
       "stream": "stdout",
       "text": [
        "\n",
        "Instances: 2169 ; Features: 1048577 with an avg of 180 features per instance\n",
        "--------------------------------------------------------------------------------\n",
        "Test Estimate\n",
        "             precision    recall  f1-score   support\n",
        "\n",
        "         -1       0.79      0.84      0.82       968\n",
        "          1       0.87      0.82      0.84      1201\n",
        "\n",
        "avg / total       0.83      0.83      0.83      2169\n",
        "\n",
        "ROC: 0.900\n",
        "APR: 0.907\n",
        "CPU times: user 1h 2min 23s, sys: 2min 5s, total: 1h 4min 29s\n",
        "Wall time: 1h 4min 39s\n"
       ]
      }
     ],
     "prompt_number": 38
    }
   ],
   "metadata": {}
  }
 ]
}